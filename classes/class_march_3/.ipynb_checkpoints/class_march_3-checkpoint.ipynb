{
 "cells": [
  {
   "cell_type": "markdown",
   "id": "3cf6a645",
   "metadata": {
    "slideshow": {
     "slide_type": "slide"
    }
   },
   "source": [
    "<table align=\"left\">\n",
    "  <td>\n",
    "    <a href=\"https://colab.research.google.com/github/marco-canas/Machine-Learning/blob/main/ML/classes/class_march_3/class_march_3.ipynb\" target=\"_parent\"><img src=\"https://colab.research.google.com/assets/colab-badge.svg\" alt=\"Open In Colab\"/></a>\n",
    "  </td>\n",
    "</table>"
   ]
  },
  {
   "cell_type": "markdown",
   "id": "e724d7a0",
   "metadata": {
    "slideshow": {
     "slide_type": "slide"
    }
   },
   "source": [
    "# Metodología  \n",
    "\n",
    "* Construir un primer modelo de regresión linealy medir su desempeño con RMSE  \n",
    "\n",
    "* Instanciar varios modelos y entrenarlos sobre datos de entrenamiento preparados."
   ]
  },
  {
   "cell_type": "markdown",
   "id": "4805110e",
   "metadata": {
    "slideshow": {
     "slide_type": "slide"
    }
   },
   "source": [
    "## Seleccionar y entrenar un modelo"
   ]
  },
  {
   "cell_type": "markdown",
   "id": "ca3d284f",
   "metadata": {
    "slideshow": {
     "slide_type": "slide"
    }
   },
   "source": [
    "Lo que hemos logrado hasta ahora:  \n",
    "\n",
    "* Enmarcó el problema, \n",
    "* obtuvo los datos y los exploró, \n",
    "* muestreó un conjunto de entrenamiento y un conjunto de prueba, y \n",
    "* escribió canalizaciones de transformación para limpiar y preparar sus datos para los algoritmos de aprendizaje automático automáticamente."
   ]
  },
  {
   "cell_type": "markdown",
   "id": "3d96e3de",
   "metadata": {
    "slideshow": {
     "slide_type": "slide"
    }
   },
   "source": [
    "Ahora está listo para seleccionar y entrenar un modelo de Machine Learning"
   ]
  },
  {
   "cell_type": "markdown",
   "id": "c5fb5f97",
   "metadata": {
    "slideshow": {
     "slide_type": "slide"
    }
   },
   "source": [
    "## Entrenamiento y evaluación en el conjunto de entrenamiento"
   ]
  },
  {
   "cell_type": "markdown",
   "id": "a5c428c2",
   "metadata": {
    "slideshow": {
     "slide_type": "slide"
    }
   },
   "source": [
    "La buena noticia es que gracias a todos estos pasos anteriores, ahora las cosas van a ser mucho más sencillas de lo que piensas. "
   ]
  },
  {
   "cell_type": "markdown",
   "id": "21797546",
   "metadata": {
    "slideshow": {
     "slide_type": "slide"
    }
   },
   "source": [
    "Primero entrenemos un modelo de regresión lineal: "
   ]
  },
  {
   "cell_type": "code",
   "execution_count": 50,
   "id": "53e90e10",
   "metadata": {
    "slideshow": {
     "slide_type": "slide"
    }
   },
   "outputs": [],
   "source": [
    "import numpy as np \n",
    "import pandas as pd \n",
    "\n",
    "from sklearn.model_selection import train_test_split \n",
    "from sklearn.base import BaseEstimator, TransformerMixin \n",
    "from sklearn.impute import SimpleImputer\n",
    "from sklearn.preprocessing import StandardScaler \n",
    "from sklearn.preprocessing import OneHotEncoder \n",
    "from sklearn.pipeline import Pipeline \n",
    "from sklearn.compose import ColumnTransformer\n",
    "\n",
    "# Construcción del modelo predictivo \n",
    "\n",
    "from sklearn.linear_model import LinearRegression\n",
    "from sklearn.metrics import mean_squared_error  \n",
    "from sklearn.tree import DecisionTreeRegressor \n",
    "from sklearn.model_selection import cross_val_score \n",
    "from sklearn.model_selection import GridSearchCV \n",
    "from sklearn.ensemble import RandomForestRegressor \n",
    "\n"
   ]
  },
  {
   "cell_type": "code",
   "execution_count": 2,
   "id": "29b707f2",
   "metadata": {
    "slideshow": {
     "slide_type": "slide"
    }
   },
   "outputs": [],
   "source": [
    "v = pd.read_csv('vivienda.csv') "
   ]
  },
  {
   "cell_type": "markdown",
   "id": "617a8d8c",
   "metadata": {
    "slideshow": {
     "slide_type": "slide"
    }
   },
   "source": [
    "## Dividir en entrenamiento y testeo"
   ]
  },
  {
   "cell_type": "code",
   "execution_count": 3,
   "id": "5f7bedd7",
   "metadata": {
    "slideshow": {
     "slide_type": "slide"
    }
   },
   "outputs": [],
   "source": [
    "v_train, v_test = train_test_split(v, test_size = 0.2, random_state = 42)"
   ]
  },
  {
   "cell_type": "markdown",
   "id": "f118e204",
   "metadata": {
    "slideshow": {
     "slide_type": "slide"
    }
   },
   "source": [
    "## Dividir entre predictores y objetivo"
   ]
  },
  {
   "cell_type": "code",
   "execution_count": 4,
   "id": "ce460e64",
   "metadata": {
    "slideshow": {
     "slide_type": "slide"
    }
   },
   "outputs": [],
   "source": [
    "v = v_train.drop('precio', axis = 1)\n",
    "v_labels = v_train[['precio']]   # para que v_labels sea 2D"
   ]
  },
  {
   "cell_type": "markdown",
   "id": "bf124cb2",
   "metadata": {
    "slideshow": {
     "slide_type": "slide"
    }
   },
   "source": [
    "## Crear clase personalizada para adición de atributos combinados"
   ]
  },
  {
   "cell_type": "code",
   "execution_count": 5,
   "id": "189357e4",
   "metadata": {
    "slideshow": {
     "slide_type": "slide"
    }
   },
   "outputs": [],
   "source": [
    "class AdAtribComb(BaseEstimator, TransformerMixin):\n",
    "    def __init__(self, ad_dph = True, ad_hph = True, ad_pph = True): # no *args or **kargs\n",
    "        self.ad_dph = ad_dph\n",
    "        self.ad_hph = ad_hph\n",
    "        self.ad_pph = ad_pph\n",
    "        \n",
    "    def fit(self, X, y=None):\n",
    "        return self # nothing else to do\n",
    "    \n",
    "    def transform(self, X, y=None):\n",
    "        habitaciones, dormitorios, población, hogares = 3, 4, 5, 6 \n",
    "        if self.ad_dph:\n",
    "            dormitorios_por_habitación=X[:,dormitorios]/X[:,habitaciones]\n",
    "            X=np.c_[X, dormitorios_por_habitación]\n",
    "        if self.ad_hph:\n",
    "            habitaciones_por_hogar=X[:,habitaciones]/X[:,hogares]\n",
    "            X=np.c_[X, habitaciones_por_hogar]\n",
    "        if self.ad_pph: \n",
    "            población_por_hogar = X[:, población]/X[:, hogares]\n",
    "            X=np.c_[X, población_por_hogar] \n",
    "        return X\n",
    "       "
   ]
  },
  {
   "cell_type": "code",
   "execution_count": 6,
   "id": "6d3cf1e9",
   "metadata": {
    "slideshow": {
     "slide_type": "slide"
    }
   },
   "outputs": [],
   "source": [
    "pipeline_num = Pipeline([\n",
    "    ('imputar', SimpleImputer(strategy = 'median')),\n",
    "    ('adicionar_atributos', AdAtribComb(ad_dph = True, ad_hph = True, ad_pph = True)),\n",
    "    ('estandarizar', StandardScaler())\n",
    "])"
   ]
  },
  {
   "cell_type": "code",
   "execution_count": 7,
   "id": "a7f89d91",
   "metadata": {
    "slideshow": {
     "slide_type": "slide"
    }
   },
   "outputs": [],
   "source": [
    "v_num = v.drop('proximidad', axis = 1)\n",
    "lista_atributos_num = list(v_num.columns) \n",
    "lista_atributos_cat = ['proximidad']\n",
    "pipeline_total = ColumnTransformer([\n",
    "                                  (\"num\", pipeline_num, lista_atributos_num),\n",
    "                                  (\"cat\", OneHotEncoder(), lista_atributos_cat),\n",
    "                                  ])\n",
    "x_prep = pipeline_total.fit_transform(v)"
   ]
  },
  {
   "cell_type": "markdown",
   "id": "c2b62f1c",
   "metadata": {
    "slideshow": {
     "slide_type": "slide"
    }
   },
   "source": [
    "## Construcción de un modelo lineal"
   ]
  },
  {
   "cell_type": "code",
   "execution_count": 8,
   "id": "9365ff7b",
   "metadata": {
    "slideshow": {
     "slide_type": "slide"
    }
   },
   "outputs": [
    {
     "data": {
      "text/plain": [
       "LinearRegression()"
      ]
     },
     "execution_count": 8,
     "metadata": {},
     "output_type": "execute_result"
    }
   ],
   "source": [
    "lin_reg = LinearRegression()\n",
    "lin_reg.fit(x_prep, v_labels.values.reshape(-1,1))"
   ]
  },
  {
   "cell_type": "code",
   "execution_count": 9,
   "id": "d29fe93a",
   "metadata": {
    "slideshow": {
     "slide_type": "slide"
    }
   },
   "outputs": [
    {
     "data": {
      "text/plain": [
       "array([[-56276.05885186, -56638.23115891,  14122.30475198,\n",
       "          5881.10498027,   5307.66299678, -46320.28547056,\n",
       "         40233.72484825,  78904.43939684,  16809.10455136,\n",
       "          7699.44848838,    750.3679429 , -18666.47855331,\n",
       "        -53617.84037612, 112060.2444519 , -24109.18513167,\n",
       "        -15666.74039081, 237125.77897392]])"
      ]
     },
     "execution_count": 9,
     "metadata": {},
     "output_type": "execute_result"
    }
   ],
   "source": [
    "w = np.c_[lin_reg.coef_, lin_reg.intercept_] \n",
    "w "
   ]
  },
  {
   "cell_type": "markdown",
   "id": "4a9b5427",
   "metadata": {
    "slideshow": {
     "slide_type": "slide"
    }
   },
   "source": [
    "## Evaluemos el modelo en una porción pequeña del conjunto de entrenamiento"
   ]
  },
  {
   "cell_type": "code",
   "execution_count": 10,
   "id": "21c765d2",
   "metadata": {
    "slideshow": {
     "slide_type": "slide"
    }
   },
   "outputs": [
    {
     "data": {
      "text/html": [
       "<div>\n",
       "<style scoped>\n",
       "    .dataframe tbody tr th:only-of-type {\n",
       "        vertical-align: middle;\n",
       "    }\n",
       "\n",
       "    .dataframe tbody tr th {\n",
       "        vertical-align: top;\n",
       "    }\n",
       "\n",
       "    .dataframe thead th {\n",
       "        text-align: right;\n",
       "    }\n",
       "</style>\n",
       "<table border=\"1\" class=\"dataframe\">\n",
       "  <thead>\n",
       "    <tr style=\"text-align: right;\">\n",
       "      <th></th>\n",
       "      <th>longitud</th>\n",
       "      <th>latitud</th>\n",
       "      <th>antiguedad</th>\n",
       "      <th>habitaciones</th>\n",
       "      <th>dormitorios</th>\n",
       "      <th>población</th>\n",
       "      <th>hogares</th>\n",
       "      <th>ingresos</th>\n",
       "      <th>proximidad</th>\n",
       "    </tr>\n",
       "  </thead>\n",
       "  <tbody>\n",
       "    <tr>\n",
       "      <th>14196</th>\n",
       "      <td>-117.03</td>\n",
       "      <td>32.71</td>\n",
       "      <td>33.0</td>\n",
       "      <td>3126.0</td>\n",
       "      <td>627.0</td>\n",
       "      <td>2300.0</td>\n",
       "      <td>623.0</td>\n",
       "      <td>3.2596</td>\n",
       "      <td>NEAR OCEAN</td>\n",
       "    </tr>\n",
       "    <tr>\n",
       "      <th>8267</th>\n",
       "      <td>-118.16</td>\n",
       "      <td>33.77</td>\n",
       "      <td>49.0</td>\n",
       "      <td>3382.0</td>\n",
       "      <td>787.0</td>\n",
       "      <td>1314.0</td>\n",
       "      <td>756.0</td>\n",
       "      <td>3.8125</td>\n",
       "      <td>NEAR OCEAN</td>\n",
       "    </tr>\n",
       "    <tr>\n",
       "      <th>17445</th>\n",
       "      <td>-120.48</td>\n",
       "      <td>34.66</td>\n",
       "      <td>4.0</td>\n",
       "      <td>1897.0</td>\n",
       "      <td>331.0</td>\n",
       "      <td>915.0</td>\n",
       "      <td>336.0</td>\n",
       "      <td>4.1563</td>\n",
       "      <td>NEAR OCEAN</td>\n",
       "    </tr>\n",
       "    <tr>\n",
       "      <th>14265</th>\n",
       "      <td>-117.11</td>\n",
       "      <td>32.69</td>\n",
       "      <td>36.0</td>\n",
       "      <td>1421.0</td>\n",
       "      <td>367.0</td>\n",
       "      <td>1418.0</td>\n",
       "      <td>355.0</td>\n",
       "      <td>1.9425</td>\n",
       "      <td>NEAR OCEAN</td>\n",
       "    </tr>\n",
       "    <tr>\n",
       "      <th>2271</th>\n",
       "      <td>-119.80</td>\n",
       "      <td>36.78</td>\n",
       "      <td>43.0</td>\n",
       "      <td>2382.0</td>\n",
       "      <td>431.0</td>\n",
       "      <td>874.0</td>\n",
       "      <td>380.0</td>\n",
       "      <td>3.5542</td>\n",
       "      <td>INLAND</td>\n",
       "    </tr>\n",
       "  </tbody>\n",
       "</table>\n",
       "</div>"
      ],
      "text/plain": [
       "       longitud  latitud  antiguedad  habitaciones  dormitorios  población  \\\n",
       "14196   -117.03    32.71        33.0        3126.0        627.0     2300.0   \n",
       "8267    -118.16    33.77        49.0        3382.0        787.0     1314.0   \n",
       "17445   -120.48    34.66         4.0        1897.0        331.0      915.0   \n",
       "14265   -117.11    32.69        36.0        1421.0        367.0     1418.0   \n",
       "2271    -119.80    36.78        43.0        2382.0        431.0      874.0   \n",
       "\n",
       "       hogares  ingresos  proximidad  \n",
       "14196    623.0    3.2596  NEAR OCEAN  \n",
       "8267     756.0    3.8125  NEAR OCEAN  \n",
       "17445    336.0    4.1563  NEAR OCEAN  \n",
       "14265    355.0    1.9425  NEAR OCEAN  \n",
       "2271     380.0    3.5542      INLAND  "
      ]
     },
     "execution_count": 10,
     "metadata": {},
     "output_type": "execute_result"
    }
   ],
   "source": [
    "algunos_datos = v.iloc[:5]\n",
    "algunos_datos "
   ]
  },
  {
   "cell_type": "code",
   "execution_count": 11,
   "id": "93719d97",
   "metadata": {
    "slideshow": {
     "slide_type": "slide"
    }
   },
   "outputs": [],
   "source": [
    "algunos_datos_prep = pipeline_total.transform(algunos_datos)  "
   ]
  },
  {
   "cell_type": "code",
   "execution_count": 12,
   "id": "049415b7",
   "metadata": {
    "slideshow": {
     "slide_type": "slide"
    }
   },
   "outputs": [
    {
     "data": {
      "text/plain": [
       "array([[181746.54359616],\n",
       "       [290558.74973505],\n",
       "       [244957.50017771],\n",
       "       [146498.51061398],\n",
       "       [163230.42393939]])"
      ]
     },
     "execution_count": 12,
     "metadata": {},
     "output_type": "execute_result"
    }
   ],
   "source": [
    "predicciones = lin_reg.predict(algunos_datos_prep)\n",
    "predicciones "
   ]
  },
  {
   "cell_type": "code",
   "execution_count": 13,
   "id": "eaf2af62",
   "metadata": {
    "slideshow": {
     "slide_type": "slide"
    }
   },
   "outputs": [
    {
     "data": {
      "text/plain": [
       "array([[103000.],\n",
       "       [382100.],\n",
       "       [172600.],\n",
       "       [ 93400.],\n",
       "       [ 96500.]])"
      ]
     },
     "execution_count": 13,
     "metadata": {},
     "output_type": "execute_result"
    }
   ],
   "source": [
    "algunas_etiquetas = v_labels[:5].values\n",
    "algunas_etiquetas "
   ]
  },
  {
   "cell_type": "code",
   "execution_count": 14,
   "id": "a7a98309",
   "metadata": {
    "slideshow": {
     "slide_type": "slide"
    }
   },
   "outputs": [],
   "source": [
    "porcentaje_variación = np.abs(predicciones - algunas_etiquetas )/algunas_etiquetas *100"
   ]
  },
  {
   "cell_type": "markdown",
   "id": "690294f5",
   "metadata": {
    "slideshow": {
     "slide_type": "slide"
    }
   },
   "source": [
    "## Comparación entre precios dados y precios predichos "
   ]
  },
  {
   "cell_type": "code",
   "execution_count": 15,
   "id": "c032012c",
   "metadata": {
    "slideshow": {
     "slide_type": "slide"
    }
   },
   "outputs": [
    {
     "data": {
      "text/html": [
       "<div>\n",
       "<style scoped>\n",
       "    .dataframe tbody tr th:only-of-type {\n",
       "        vertical-align: middle;\n",
       "    }\n",
       "\n",
       "    .dataframe tbody tr th {\n",
       "        vertical-align: top;\n",
       "    }\n",
       "\n",
       "    .dataframe thead th {\n",
       "        text-align: right;\n",
       "    }\n",
       "</style>\n",
       "<table border=\"1\" class=\"dataframe\">\n",
       "  <thead>\n",
       "    <tr style=\"text-align: right;\">\n",
       "      <th></th>\n",
       "      <th>precios_dados</th>\n",
       "      <th>precios_predichos</th>\n",
       "      <th>porcentaje_de_variación</th>\n",
       "    </tr>\n",
       "  </thead>\n",
       "  <tbody>\n",
       "    <tr>\n",
       "      <th>0</th>\n",
       "      <td>103000.0</td>\n",
       "      <td>181746.543596</td>\n",
       "      <td>76.452955</td>\n",
       "    </tr>\n",
       "    <tr>\n",
       "      <th>1</th>\n",
       "      <td>382100.0</td>\n",
       "      <td>290558.749735</td>\n",
       "      <td>23.957407</td>\n",
       "    </tr>\n",
       "    <tr>\n",
       "      <th>2</th>\n",
       "      <td>172600.0</td>\n",
       "      <td>244957.500178</td>\n",
       "      <td>41.922074</td>\n",
       "    </tr>\n",
       "    <tr>\n",
       "      <th>3</th>\n",
       "      <td>93400.0</td>\n",
       "      <td>146498.510614</td>\n",
       "      <td>56.850654</td>\n",
       "    </tr>\n",
       "    <tr>\n",
       "      <th>4</th>\n",
       "      <td>96500.0</td>\n",
       "      <td>163230.423939</td>\n",
       "      <td>69.150698</td>\n",
       "    </tr>\n",
       "  </tbody>\n",
       "</table>\n",
       "</div>"
      ],
      "text/plain": [
       "   precios_dados  precios_predichos  porcentaje_de_variación\n",
       "0       103000.0      181746.543596                76.452955\n",
       "1       382100.0      290558.749735                23.957407\n",
       "2       172600.0      244957.500178                41.922074\n",
       "3        93400.0      146498.510614                56.850654\n",
       "4        96500.0      163230.423939                69.150698"
      ]
     },
     "execution_count": 15,
     "metadata": {},
     "output_type": "execute_result"
    }
   ],
   "source": [
    "pd.DataFrame(np.c_[algunas_etiquetas, predicciones, porcentaje_variación], \\\n",
    "             columns = ['precios_dados', 'precios_predichos', 'porcentaje_de_variación'],\\\n",
    "            index = np.arange(5)) "
   ]
  },
  {
   "cell_type": "markdown",
   "id": "2fa209f0",
   "metadata": {
    "slideshow": {
     "slide_type": "slide"
    }
   },
   "source": [
    "Funciona, aunque las predicciones no son exactamente precisas (por ejemplo, ¡la primera predicción tiene un error de casi un $76\\%$!)."
   ]
  },
  {
   "cell_type": "markdown",
   "id": "aa64b180",
   "metadata": {
    "slideshow": {
     "slide_type": "slide"
    }
   },
   "source": [
    "# Calculo del desempeño en el conjunto de entrenamiento del modelo lineal "
   ]
  },
  {
   "cell_type": "markdown",
   "id": "08f02818",
   "metadata": {
    "slideshow": {
     "slide_type": "slide"
    }
   },
   "source": [
    "Medimos el RMSE de este modelo de regresión en todo el conjunto de entrenamiento usando `mean_squared_error()` de Scikit-Learn función:"
   ]
  },
  {
   "cell_type": "code",
   "execution_count": 16,
   "id": "739d3bf8",
   "metadata": {
    "slideshow": {
     "slide_type": "slide"
    }
   },
   "outputs": [
    {
     "data": {
      "text/plain": [
       "array([[181746.54359616],\n",
       "       [290558.74973505],\n",
       "       [244957.50017771],\n",
       "       ...,\n",
       "       [197051.29953461],\n",
       "       [279786.48017603],\n",
       "       [274169.26111078]])"
      ]
     },
     "execution_count": 16,
     "metadata": {},
     "output_type": "execute_result"
    }
   ],
   "source": [
    "x_predicciones = lin_reg.predict(x_prep)\n",
    "x_predicciones "
   ]
  },
  {
   "cell_type": "code",
   "execution_count": 17,
   "id": "3e081d60",
   "metadata": {
    "slideshow": {
     "slide_type": "slide"
    }
   },
   "outputs": [
    {
     "data": {
      "text/plain": [
       "67593.20745775253"
      ]
     },
     "execution_count": 17,
     "metadata": {},
     "output_type": "execute_result"
    }
   ],
   "source": [
    "np.sqrt(mean_squared_error(x_predicciones, v_labels.values.reshape(-1,1)))"
   ]
  },
  {
   "cell_type": "markdown",
   "id": "d903b5a4",
   "metadata": {
    "slideshow": {
     "slide_type": "slide"
    }
   },
   "source": [
    "Esto es mejor que nada, pero claramente no es una gran puntuación: los valores medios de vivienda de la mayoría de los distritos oscilan entre $ 80,000 y $ 265,000, por lo que un error de predicción típico de $ 67,684 **no** es muy satisfactorio."
   ]
  },
  {
   "cell_type": "code",
   "execution_count": 18,
   "id": "edd62932",
   "metadata": {
    "slideshow": {
     "slide_type": "slide"
    }
   },
   "outputs": [
    {
     "data": {
      "text/plain": [
       "(14999.0, 500001.0)"
      ]
     },
     "execution_count": 18,
     "metadata": {},
     "output_type": "execute_result"
    }
   ],
   "source": [
    "v_ = pd.read_csv('vivienda.csv') \n",
    "v_.precio.min(), v_.precio.max() "
   ]
  },
  {
   "cell_type": "code",
   "execution_count": 19,
   "id": "a7b8458e",
   "metadata": {
    "slideshow": {
     "slide_type": "slide"
    }
   },
   "outputs": [
    {
     "data": {
      "image/png": "[encoded data removed]",
      "text/plain": [
       "<Figure size 432x288 with 1 Axes>"
      ]
     },
     "metadata": {
      "needs_background": "light"
     },
     "output_type": "display_data"
    }
   ],
   "source": [
    "import matplotlib.pyplot as plt \n",
    "v_.precio.hist() \n",
    "plt.show() "
   ]
  },
  {
   "cell_type": "markdown",
   "id": "3c906d64",
   "metadata": {
    "slideshow": {
     "slide_type": "slide"
    }
   },
   "source": [
    "Este es un ejemplo de un modelo que no se ajusta a los datos de entrenamiento.**(Underfitting)**"
   ]
  },
  {
   "cell_type": "markdown",
   "id": "93c830a4",
   "metadata": {
    "slideshow": {
     "slide_type": "slide"
    }
   },
   "source": [
    "Cuando esto sucede, puede significar que los atributos no brindan suficiente información para hacer buenas predicciones, o que el modelo no es lo suficientemente poderoso."
   ]
  },
  {
   "cell_type": "markdown",
   "id": "b59ac2f2",
   "metadata": {
    "slideshow": {
     "slide_type": "slide"
    }
   },
   "source": [
    "Como vimos en el capítulo anterior, las principales formas de corregir el ajuste insuficiente son:  \n",
    "\n",
    "* seleccionar un modelo más potente, \n",
    "* alimentar el algoritmo de entrenamiento con mejores atributos o \n",
    "* reducir las restricciones en el modelo."
   ]
  },
  {
   "cell_type": "markdown",
   "id": "51ebd9c9",
   "metadata": {
    "slideshow": {
     "slide_type": "slide"
    }
   },
   "source": [
    "# Entrenemos a un `DecisionTreeRegressor`."
   ]
  },
  {
   "cell_type": "markdown",
   "id": "ff3c061a",
   "metadata": {
    "slideshow": {
     "slide_type": "slide"
    }
   },
   "source": [
    "Este es un modelo poderoso, capaz de encontrar relaciones no lineales complejas en los datos (los árboles de decisión se presentan con más detalle en el Capítulo 6)."
   ]
  },
  {
   "cell_type": "markdown",
   "id": "abd90668",
   "metadata": {
    "slideshow": {
     "slide_type": "slide"
    }
   },
   "source": [
    "El código debería parecerte familiar ahora:"
   ]
  },
  {
   "cell_type": "code",
   "execution_count": 20,
   "id": "c8479dea",
   "metadata": {
    "slideshow": {
     "slide_type": "slide"
    }
   },
   "outputs": [],
   "source": [
    "from sklearn.tree import DecisionTreeRegressor"
   ]
  },
  {
   "cell_type": "code",
   "execution_count": 21,
   "id": "f29d851b",
   "metadata": {
    "slideshow": {
     "slide_type": "slide"
    }
   },
   "outputs": [],
   "source": [
    "regresor_tree = DecisionTreeRegressor() "
   ]
  },
  {
   "cell_type": "code",
   "execution_count": 22,
   "id": "2092ffd1",
   "metadata": {
    "slideshow": {
     "slide_type": "slide"
    }
   },
   "outputs": [
    {
     "data": {
      "text/plain": [
       "DecisionTreeRegressor()"
      ]
     },
     "execution_count": 22,
     "metadata": {},
     "output_type": "execute_result"
    }
   ],
   "source": [
    "regresor_tree.fit(x_prep, v_labels.values.reshape(-1,1)) "
   ]
  },
  {
   "cell_type": "markdown",
   "id": "4f578e89",
   "metadata": {
    "slideshow": {
     "slide_type": "slide"
    }
   },
   "source": [
    "Ahora que el modelo está entrenado, evaluémoslo en el conjunto de entrenamiento:"
   ]
  },
  {
   "cell_type": "code",
   "execution_count": 23,
   "id": "8d667833",
   "metadata": {
    "slideshow": {
     "slide_type": "slide"
    }
   },
   "outputs": [],
   "source": [
    "x_predicciones_tree = regresor_tree.predict(x_prep)"
   ]
  },
  {
   "cell_type": "code",
   "execution_count": 24,
   "id": "3ffb92cd",
   "metadata": {
    "slideshow": {
     "slide_type": "slide"
    }
   },
   "outputs": [
    {
     "data": {
      "text/plain": [
       "0.0"
      ]
     },
     "execution_count": 24,
     "metadata": {},
     "output_type": "execute_result"
    }
   ],
   "source": [
    "rmse_tree = np.sqrt(mean_squared_error(x_predicciones_tree, v_labels.values.reshape(-1,1))) \n",
    "rmse_tree "
   ]
  },
  {
   "cell_type": "markdown",
   "id": "acb1e2b8",
   "metadata": {
    "slideshow": {
     "slide_type": "slide"
    }
   },
   "source": [
    "¿¡lo esperabas!? "
   ]
  },
  {
   "cell_type": "markdown",
   "id": "f4e9b52a",
   "metadata": {
    "slideshow": {
     "slide_type": "slide"
    }
   },
   "source": [
    "¿Ningún error en absoluto?"
   ]
  },
  {
   "cell_type": "markdown",
   "id": "627c6b74",
   "metadata": {
    "slideshow": {
     "slide_type": "slide"
    }
   },
   "source": [
    "¿Podría este modelo realmente ser absolutamente perfecto? "
   ]
  },
  {
   "cell_type": "markdown",
   "id": "4b8afbc0",
   "metadata": {
    "slideshow": {
     "slide_type": "slide"
    }
   },
   "source": [
    "Por supuesto, es mucho más probable que el modelo haya sobreajustado los datos.(**Overfitting**) "
   ]
  },
  {
   "cell_type": "markdown",
   "id": "f78d4ca9",
   "metadata": {
    "slideshow": {
     "slide_type": "slide"
    }
   },
   "source": [
    "¿Como puedes estar seguro? Como vimos anteriormente, no desea tocar el conjunto de prueba hasta que esté listo para lanzar un modelo en el que esté seguro, por lo que debe usar parte del conjunto de entrenamiento para el entrenamiento y otra **parte para la validación del modelo**."
   ]
  },
  {
   "cell_type": "markdown",
   "id": "c00f2677",
   "metadata": {
    "slideshow": {
     "slide_type": "slide"
    }
   },
   "source": [
    "## Mejor evaluación mediante validación cruzada"
   ]
  },
  {
   "cell_type": "markdown",
   "id": "64ac01dd",
   "metadata": {
    "slideshow": {
     "slide_type": "slide"
    }
   },
   "source": [
    "Una forma de evaluar el modelo del árbol de decisiones sería usar la función `train_test_split()` para dividir el conjunto de entrenamiento en un conjunto de entrenamiento más pequeño y un conjunto de validación, luego entrenar sus modelos contra el conjunto de entrenamiento más pequeño y evaluarlos contra el conjunto de validación ."
   ]
  },
  {
   "cell_type": "markdown",
   "id": "b976fd34",
   "metadata": {
    "slideshow": {
     "slide_type": "slide"
    }
   },
   "source": [
    "Es un poco de trabajo, pero nada demasiado difícil, y funcionaría bastante bien."
   ]
  },
  {
   "cell_type": "markdown",
   "id": "3e8b09ba",
   "metadata": {
    "slideshow": {
     "slide_type": "slide"
    }
   },
   "source": [
    "Una excelente alternativa es utilizar la función de validación cruzada K-fold de Scikit-Learn."
   ]
  },
  {
   "cell_type": "markdown",
   "id": "25955a29",
   "metadata": {
    "slideshow": {
     "slide_type": "slide"
    }
   },
   "source": [
    "El siguiente código divide aleatoriamente el conjunto de entrenamiento en 10 subconjuntos distintos llamados hojas, luego entrena y evalúa el modelo de árbol de decisión 10 veces, seleccionando una hoja diferente para la evaluación cada vez y entrenando en los otras 9 hojas."
   ]
  },
  {
   "cell_type": "markdown",
   "id": "3cae5775",
   "metadata": {
    "slideshow": {
     "slide_type": "slide"
    }
   },
   "source": [
    "El resultado es una matriz que contiene los 10 puntajes de evaluación:"
   ]
  },
  {
   "cell_type": "code",
   "execution_count": 25,
   "id": "99a9d858",
   "metadata": {
    "slideshow": {
     "slide_type": "slide"
    }
   },
   "outputs": [],
   "source": [
    "from sklearn.model_selection import cross_val_score "
   ]
  },
  {
   "cell_type": "code",
   "execution_count": 26,
   "id": "9407bd83",
   "metadata": {
    "slideshow": {
     "slide_type": "slide"
    }
   },
   "outputs": [],
   "source": [
    "puntajes = cross_val_score(regresor_tree, x_prep, v_labels.values.reshape(-1,1),\\\n",
    "                           scoring = 'neg_mean_squared_error', cv = 10)"
   ]
  },
  {
   "cell_type": "code",
   "execution_count": 27,
   "id": "1f270995",
   "metadata": {
    "slideshow": {
     "slide_type": "slide"
    }
   },
   "outputs": [
    {
     "data": {
      "text/plain": [
       "array([65026.57223696, 71898.84666658, 66879.18912952, 69569.04977976,\n",
       "       73524.96609266, 67083.64015394, 66701.29954162, 69278.75651293,\n",
       "       65846.00303072, 70277.43726499])"
      ]
     },
     "execution_count": 27,
     "metadata": {},
     "output_type": "execute_result"
    }
   ],
   "source": [
    "puntajes_rmse_tree = np.sqrt(-puntajes)\n",
    "puntajes_rmse_tree "
   ]
  },
  {
   "cell_type": "markdown",
   "id": "e4f0a77a",
   "metadata": {
    "slideshow": {
     "slide_type": "slide"
    }
   },
   "source": [
    "## ADVERTENCIA"
   ]
  },
  {
   "cell_type": "markdown",
   "id": "0f93ed91",
   "metadata": {
    "slideshow": {
     "slide_type": "slide"
    }
   },
   "source": [
    "Las características de validación cruzada de Scikit-Learn esperan una **función de utilidad** (cuanto mayor es mejor) en lugar de una **función de costo** (cuanto menor es mejor), por lo que la función de puntuación es en realidad lo opuesto al MSE (es decir, un valor negativo), razón por la cual el el código anterior calcula -puntuaciones antes de calcular la raíz cuadrada"
   ]
  },
  {
   "cell_type": "markdown",
   "id": "0719ffdc",
   "metadata": {
    "slideshow": {
     "slide_type": "slide"
    }
   },
   "source": [
    "Veamos los resultados"
   ]
  },
  {
   "cell_type": "code",
   "execution_count": 28,
   "id": "1a1c6dac",
   "metadata": {
    "slideshow": {
     "slide_type": "slide"
    }
   },
   "outputs": [
    {
     "name": "stdout",
     "output_type": "stream",
     "text": [
      "Puntajes: [65026.57223696 71898.84666658 66879.18912952 69569.04977976\n",
      " 73524.96609266 67083.64015394 66701.29954162 69278.75651293\n",
      " 65846.00303072 70277.43726499]\n",
      "Madia: 68608.57604096926\n",
      "Desviación estandar: 2618.587299785546\n"
     ]
    }
   ],
   "source": [
    "def mostrar_puntajes(puntajes):\n",
    "    print(\"Puntajes:\", puntajes)\n",
    "    print(\"Madia:\", puntajes.mean())\n",
    "    print(\"Desviación estandar:\", puntajes.std())\n",
    "\n",
    "mostrar_puntajes(puntajes_rmse_tree) \n"
   ]
  },
  {
   "cell_type": "markdown",
   "id": "4730fee0",
   "metadata": {
    "slideshow": {
     "slide_type": "slide"
    }
   },
   "source": [
    "Ahora el árbol de decisiones no se ve tan bien como antes."
   ]
  },
  {
   "cell_type": "markdown",
   "id": "d18f803c",
   "metadata": {
    "slideshow": {
     "slide_type": "slide"
    }
   },
   "source": [
    "De hecho, ¡parece funcionar peor que el modelo de regresión lineal! "
   ]
  },
  {
   "cell_type": "markdown",
   "id": "8304488e",
   "metadata": {
    "slideshow": {
     "slide_type": "slide"
    }
   },
   "source": [
    "Tenga en cuenta que la validación cruzada le permite obtener no solo una estimación del rendimiento de su modelo, sino también una medida de cuán precisa es esta estimación (es decir, su desviación estándar)."
   ]
  },
  {
   "cell_type": "markdown",
   "id": "397681ca",
   "metadata": {
    "slideshow": {
     "slide_type": "slide"
    }
   },
   "source": [
    "El árbol de decisiones tiene una puntuación de aproximadamente 68.608, generalmente ±2.618."
   ]
  },
  {
   "cell_type": "markdown",
   "id": "95f70ce2",
   "metadata": {
    "slideshow": {
     "slide_type": "slide"
    }
   },
   "source": [
    "No tendría esta información si solo usara un conjunto de validación."
   ]
  },
  {
   "cell_type": "markdown",
   "id": "d4ef12a0",
   "metadata": {
    "slideshow": {
     "slide_type": "slide"
    }
   },
   "source": [
    "Pero la validación cruzada tiene el costo de entrenar el modelo varias veces, por lo que no siempre es posible."
   ]
  },
  {
   "cell_type": "markdown",
   "id": "b3539072",
   "metadata": {
    "slideshow": {
     "slide_type": "slide"
    }
   },
   "source": [
    "Calculemos las mismas puntuaciones para el modelo de regresión lineal solo para estar seguros:"
   ]
  },
  {
   "cell_type": "code",
   "execution_count": 29,
   "id": "25c47c1f",
   "metadata": {
    "slideshow": {
     "slide_type": "slide"
    }
   },
   "outputs": [],
   "source": [
    "puntuación_lineal = cross_val_score(lin_reg, x_prep, v_labels.values.reshape(-1,1),\\\n",
    "                                    scoring = 'neg_mean_squared_error', cv = 10)"
   ]
  },
  {
   "cell_type": "code",
   "execution_count": 30,
   "id": "017489a8",
   "metadata": {
    "slideshow": {
     "slide_type": "slide"
    }
   },
   "outputs": [],
   "source": [
    "lin_rmse_scores = np.sqrt(-puntuación_lineal)"
   ]
  },
  {
   "cell_type": "code",
   "execution_count": 31,
   "id": "6608743d",
   "metadata": {
    "slideshow": {
     "slide_type": "slide"
    }
   },
   "outputs": [
    {
     "name": "stdout",
     "output_type": "stream",
     "text": [
      "Puntajes: [65000.67382615 70960.56056304 67122.63935124 66089.63153865\n",
      " 68402.54686442 65266.34735288 65218.78174481 68525.46981754\n",
      " 72739.87555996 68957.34111906]\n",
      "Madia: 67828.38677377408\n",
      "Desviación estandar: 2468.091395065228\n"
     ]
    }
   ],
   "source": [
    "mostrar_puntajes(lin_rmse_scores) "
   ]
  },
  {
   "cell_type": "markdown",
   "id": "bf927aad",
   "metadata": {
    "slideshow": {
     "slide_type": "slide"
    }
   },
   "source": [
    "Así es: el modelo de árbol de decisiones se sobreajusta tanto que funciona peor que el modelo de regresión lineal."
   ]
  },
  {
   "cell_type": "markdown",
   "id": "5bf4dc25",
   "metadata": {
    "slideshow": {
     "slide_type": "slide"
    }
   },
   "source": [
    "Probemos un último modelo ahora: el `RandomForestRegressor`."
   ]
  },
  {
   "cell_type": "markdown",
   "id": "1c5aa20c",
   "metadata": {
    "slideshow": {
     "slide_type": "slide"
    }
   },
   "source": [
    "Como veremos en el Capítulo 7, los bosques aleatorios funcionan entrenando muchos árboles de decisión en subconjuntos aleatorios de atributos y luego promediando sus predicciones."
   ]
  },
  {
   "cell_type": "markdown",
   "id": "051cc33b",
   "metadata": {
    "slideshow": {
     "slide_type": "slide"
    }
   },
   "source": [
    "Construir un modelo encima de muchos otros modelos se llama **Ensemble Learning** y, a menudo, es una excelente manera de impulsar aún más los algoritmos de ML."
   ]
  },
  {
   "cell_type": "markdown",
   "id": "57bcc1c9",
   "metadata": {
    "slideshow": {
     "slide_type": "slide"
    }
   },
   "source": [
    "Omitiremos la mayor parte del código ya que es esencialmente el mismo que para los otros modelos:"
   ]
  },
  {
   "cell_type": "code",
   "execution_count": 32,
   "id": "245ed251",
   "metadata": {
    "slideshow": {
     "slide_type": "slide"
    }
   },
   "outputs": [],
   "source": [
    "from sklearn.ensemble import RandomForestRegressor "
   ]
  },
  {
   "cell_type": "code",
   "execution_count": 33,
   "id": "4da49a51",
   "metadata": {
    "slideshow": {
     "slide_type": "slide"
    }
   },
   "outputs": [],
   "source": [
    "forest_reg = RandomForestRegressor() "
   ]
  },
  {
   "cell_type": "code",
   "execution_count": 34,
   "id": "394303a4",
   "metadata": {
    "slideshow": {
     "slide_type": "slide"
    }
   },
   "outputs": [
    {
     "data": {
      "text/plain": [
       "RandomForestRegressor()"
      ]
     },
     "execution_count": 34,
     "metadata": {},
     "output_type": "execute_result"
    }
   ],
   "source": [
    "forest_reg.fit(x_prep, v_labels.values.ravel() ) "
   ]
  },
  {
   "cell_type": "markdown",
   "id": "d35a654c",
   "metadata": {
    "slideshow": {
     "slide_type": "slide"
    }
   },
   "source": [
    "# Evaluemos el desempeño del modelo Random Forest en el conjunto de entrenamiento"
   ]
  },
  {
   "cell_type": "code",
   "execution_count": 35,
   "id": "c412926b",
   "metadata": {
    "slideshow": {
     "slide_type": "slide"
    }
   },
   "outputs": [],
   "source": [
    "forest_predicciones = forest_reg.predict(x_prep) "
   ]
  },
  {
   "cell_type": "code",
   "execution_count": 36,
   "id": "ac77c376",
   "metadata": {
    "slideshow": {
     "slide_type": "slide"
    }
   },
   "outputs": [
    {
     "data": {
      "text/plain": [
       "18556.190673698475"
      ]
     },
     "execution_count": 36,
     "metadata": {},
     "output_type": "execute_result"
    }
   ],
   "source": [
    "forest_desempeño= np.sqrt(mean_squared_error(forest_predicciones, v_labels)) \n",
    "forest_desempeño "
   ]
  },
  {
   "cell_type": "markdown",
   "id": "b7d7f6c7",
   "metadata": {
    "slideshow": {
     "slide_type": "slide"
    }
   },
   "source": [
    "Parece que tenemos overfitting "
   ]
  },
  {
   "cell_type": "markdown",
   "id": "164160c2",
   "metadata": {
    "slideshow": {
     "slide_type": "slide"
    }
   },
   "source": [
    "# Veamos el desempeño de Random Forest en los conjuntos de validación"
   ]
  },
  {
   "cell_type": "code",
   "execution_count": 37,
   "id": "5b3dfd63",
   "metadata": {
    "slideshow": {
     "slide_type": "slide"
    }
   },
   "outputs": [],
   "source": [
    "puntajes_forest = cross_val_score(forest_reg, x_prep, v_labels.values.ravel(), \\\n",
    "                                 scoring = 'neg_mean_squared_error', cv = 10) "
   ]
  },
  {
   "cell_type": "code",
   "execution_count": 38,
   "id": "8ecd91be",
   "metadata": {
    "slideshow": {
     "slide_type": "slide"
    }
   },
   "outputs": [],
   "source": [
    "forest_rmse_scores = np.sqrt(-puntajes_forest) "
   ]
  },
  {
   "cell_type": "code",
   "execution_count": 39,
   "id": "d4a9666e",
   "metadata": {
    "slideshow": {
     "slide_type": "slide"
    }
   },
   "outputs": [
    {
     "name": "stdout",
     "output_type": "stream",
     "text": [
      "Puntajes: [46857.32678583 51595.81914859 49302.38633418 51996.73281447\n",
      " 52690.26942334 47184.3026093  47451.79957205 50580.87512434\n",
      " 49424.36524151 49900.99862137]\n",
      "Madia: 49698.48756749664\n",
      "Desviación estandar: 1957.6808299891409\n"
     ]
    }
   ],
   "source": [
    "mostrar_puntajes(forest_rmse_scores)"
   ]
  },
  {
   "cell_type": "markdown",
   "id": "d366e000",
   "metadata": {
    "slideshow": {
     "slide_type": "slide"
    }
   },
   "source": [
    "Vemos que este modelo no se generaliza bien. "
   ]
  },
  {
   "cell_type": "markdown",
   "id": "fcbdcc20",
   "metadata": {
    "slideshow": {
     "slide_type": "slide"
    }
   },
   "source": [
    "Sin embargo, tenga en cuenta que la puntuación en el conjunto de entrenamiento sigue siendo mucho más baja que en los conjuntos de validación, lo que significa que el modelo todavía se está sobreajustando al conjunto de entrenamiento."
   ]
  },
  {
   "cell_type": "markdown",
   "id": "2a0b499e",
   "metadata": {
    "slideshow": {
     "slide_type": "slide"
    }
   },
   "source": [
    "Las posibles soluciones para el sobreajuste son simplificar el modelo, restringirlo (es decir, regularizarlo) u obtener muchos más datos de entrenamiento."
   ]
  },
  {
   "cell_type": "markdown",
   "id": "95e217ef",
   "metadata": {
    "slideshow": {
     "slide_type": "slide"
    }
   },
   "source": [
    "Sin embargo, antes de profundizar mucho más en los bosques aleatorios, debe probar muchos otros modelos de varias categorías de algoritmos de aprendizaje automático (por ejemplo, varias máquinas de soporte vectorial con diferentes núcleos y posiblemente una red neuronal), sin perder demasiado tiempo ajustando los hiperparámetros."
   ]
  },
  {
   "cell_type": "markdown",
   "id": "51bdf2d8",
   "metadata": {
    "slideshow": {
     "slide_type": "slide"
    }
   },
   "source": [
    "El objetivo es preseleccionar algunos (de dos a cinco) modelos prometedores."
   ]
  },
  {
   "cell_type": "markdown",
   "id": "977f1b44",
   "metadata": {
    "slideshow": {
     "slide_type": "slide"
    }
   },
   "source": [
    "## Ajuste su modelo"
   ]
  },
  {
   "cell_type": "markdown",
   "id": "e891a368",
   "metadata": {
    "slideshow": {
     "slide_type": "slide"
    }
   },
   "source": [
    "Supongamos que ahora tiene una lista corta de modelos prometedores."
   ]
  },
  {
   "cell_type": "markdown",
   "id": "54348ac2",
   "metadata": {
    "slideshow": {
     "slide_type": "slide"
    }
   },
   "source": [
    "Ahora necesitas afinarlos."
   ]
  },
  {
   "cell_type": "markdown",
   "id": "5fbcc2ff",
   "metadata": {
    "slideshow": {
     "slide_type": "slide"
    }
   },
   "source": [
    "Veamos algunas formas en las que puedes hacerlo."
   ]
  },
  {
   "cell_type": "markdown",
   "id": "41329800",
   "metadata": {
    "slideshow": {
     "slide_type": "slide"
    }
   },
   "source": [
    "## Cuadrícula de Búsqueda"
   ]
  },
  {
   "cell_type": "markdown",
   "id": "00fc43a6",
   "metadata": {
    "slideshow": {
     "slide_type": "slide"
    }
   },
   "source": [
    "Una opción sería jugar con los hiperparámetros manualmente, hasta que encuentre una gran combinación de valores de hiperparámetro."
   ]
  },
  {
   "cell_type": "markdown",
   "id": "f8ded0c3",
   "metadata": {
    "slideshow": {
     "slide_type": "slide"
    }
   },
   "source": [
    "Este sería un trabajo muy tedioso y es posible que no tenga tiempo para explorar muchas combinaciones."
   ]
  },
  {
   "cell_type": "markdown",
   "id": "ce2592c9",
   "metadata": {
    "slideshow": {
     "slide_type": "slide"
    }
   },
   "source": [
    "En su lugar, debe obtener `GridSearchCV` de Scikit-Learn para buscarlo."
   ]
  },
  {
   "cell_type": "markdown",
   "id": "6c21b98b",
   "metadata": {
    "slideshow": {
     "slide_type": "slide"
    }
   },
   "source": [
    "Todo lo que necesita hacer es decirle con qué hiperparámetros desea que experimente y qué valores probar, y utilizará la validación cruzada para evaluar todas las combinaciones posibles de valores de hiperparámetro."
   ]
  },
  {
   "cell_type": "markdown",
   "id": "500d2854",
   "metadata": {
    "slideshow": {
     "slide_type": "slide"
    }
   },
   "source": [
    "Por ejemplo, el siguiente código busca la mejor combinación de valores de hiperparámetros para el\n",
    "`Regresor de bosque aleatorio`: "
   ]
  },
  {
   "cell_type": "code",
   "execution_count": 40,
   "id": "c0417003",
   "metadata": {
    "slideshow": {
     "slide_type": "slide"
    }
   },
   "outputs": [],
   "source": [
    "from sklearn.model_selection import GridSearchCV\n"
   ]
  },
  {
   "cell_type": "code",
   "execution_count": 41,
   "id": "6717acba",
   "metadata": {
    "slideshow": {
     "slide_type": "slide"
    }
   },
   "outputs": [
    {
     "data": {
      "text/plain": [
       "GridSearchCV(cv=5, estimator=RandomForestRegressor(),\n",
       "             param_grid=[{'max_features': [2, 4, 6, 8, 10],\n",
       "                          'n_estimators': [3, 10, 30, 40]},\n",
       "                         {'bootstrap': [False], 'max_features': [2, 3, 4],\n",
       "                          'n_estimators': [3, 10]}],\n",
       "             return_train_score=True, scoring='neg_mean_squared_error')"
      ]
     },
     "execution_count": 41,
     "metadata": {},
     "output_type": "execute_result"
    }
   ],
   "source": [
    "param_grid = [\n",
    "            {'n_estimators': [3, 10, 30, 40], 'max_features': [2, 4, 6, 8, 10]},\n",
    "            {'bootstrap': [False], 'n_estimators': [3, 10], 'max_features': [2, 3, 4]},\n",
    "             ]\n",
    "forest_reg = RandomForestRegressor()\n",
    "grid_search = GridSearchCV(forest_reg, param_grid, cv=5, scoring='neg_mean_squared_error',\\\n",
    "                           return_train_score=True)\n",
    "grid_search.fit(x_prep, v_labels.values.ravel())\n"
   ]
  },
  {
   "cell_type": "markdown",
   "id": "27607e72",
   "metadata": {
    "slideshow": {
     "slide_type": "slide"
    }
   },
   "source": [
    "## TIP"
   ]
  },
  {
   "cell_type": "markdown",
   "id": "79dbffd5",
   "metadata": {
    "slideshow": {
     "slide_type": "slide"
    }
   },
   "source": [
    "Cuando no tiene idea de qué valor debe tener un hiperparámetro, un enfoque simple es probar potencias consecutivas de 10 (o un número más pequeño si desea una búsqueda más detallada, como se muestra en este ejemplo con el hiperparámetro n_estimators)."
   ]
  },
  {
   "cell_type": "markdown",
   "id": "b1b241f9",
   "metadata": {
    "slideshow": {
     "slide_type": "slide"
    }
   },
   "source": [
    "Este `param_grid` le dice a Scikit-Learn que primero evalúe todas las combinaciones $4 \\times 5 = 12$ de `n_estimators` y valores del hiperparámetro `max_features` especificados en el primer diccionario (no se preocupe por lo que significan estos hiperparámetros por ahora; se explicará en el Capítulo 7), luego intente todas las combinaciones $2 \\times 3 = 6$ de valores de hiperparámetro en el segundo diccionario, pero esta vez con el hiperparámetro de arranque establecido en `False` en lugar de `True` (que es el valor predeterminado para este hiperparámetro)."
   ]
  },
  {
   "cell_type": "markdown",
   "id": "b8dc40fe",
   "metadata": {
    "slideshow": {
     "slide_type": "slide"
    }
   },
   "source": [
    "La búsqueda en cuadrícula explorará 12 + 6 = 18 combinaciones de valores de hiperparámetro `RandomForestRegressor`, y entrenará cada modelo 5 veces (ya que estamos usando una validación cruzada de cinco hojas)."
   ]
  },
  {
   "cell_type": "markdown",
   "id": "4ec69b06",
   "metadata": {
    "slideshow": {
     "slide_type": "slide"
    }
   },
   "source": [
    "En otras palabras, en total, ¡habrá 18 × 5 = 90 rondas de entrenamiento! Puede llevar bastante tiempo, pero cuando haya terminado, puede obtener la mejor combinación de parámetros como este:"
   ]
  },
  {
   "cell_type": "code",
   "execution_count": 42,
   "id": "cb76ccd3",
   "metadata": {
    "slideshow": {
     "slide_type": "slide"
    }
   },
   "outputs": [
    {
     "data": {
      "text/plain": [
       "{'max_features': 6, 'n_estimators': 40}"
      ]
     },
     "execution_count": 42,
     "metadata": {},
     "output_type": "execute_result"
    }
   ],
   "source": [
    "grid_search.best_params_\n"
   ]
  },
  {
   "cell_type": "markdown",
   "id": "559b4f37",
   "metadata": {
    "slideshow": {
     "slide_type": "slide"
    }
   },
   "source": [
    "## TIP"
   ]
  },
  {
   "cell_type": "markdown",
   "id": "d07b95d5",
   "metadata": {
    "slideshow": {
     "slide_type": "slide"
    }
   },
   "source": [
    "Dado que 8 y 30 son los valores máximos que se evaluaron, probablemente debería intentar buscar nuevamente con valores más altos; la puntuación puede seguir mejorando."
   ]
  },
  {
   "cell_type": "markdown",
   "id": "74f3c1c0",
   "metadata": {
    "slideshow": {
     "slide_type": "slide"
    }
   },
   "source": [
    "También puede obtener el mejor estimador directamente:\n"
   ]
  },
  {
   "cell_type": "code",
   "execution_count": 43,
   "id": "822287f7",
   "metadata": {
    "slideshow": {
     "slide_type": "slide"
    }
   },
   "outputs": [
    {
     "data": {
      "text/plain": [
       "RandomForestRegressor(max_features=6, n_estimators=40)"
      ]
     },
     "execution_count": 43,
     "metadata": {},
     "output_type": "execute_result"
    }
   ],
   "source": [
    "grid_search.best_estimator_\n"
   ]
  },
  {
   "cell_type": "markdown",
   "id": "16cdf0d6",
   "metadata": {
    "slideshow": {
     "slide_type": "slide"
    }
   },
   "source": [
    "## NOTE"
   ]
  },
  {
   "cell_type": "markdown",
   "id": "c8590ac5",
   "metadata": {
    "slideshow": {
     "slide_type": "slide"
    }
   },
   "source": [
    "Si GridSearchCV se inicializa con refit=True (que es el valor predeterminado), una vez que encuentra el mejor estimador mediante la validación cruzada, lo vuelve a entrenar en todo el conjunto de entrenamiento."
   ]
  },
  {
   "cell_type": "markdown",
   "id": "6e4e45c4",
   "metadata": {
    "slideshow": {
     "slide_type": "slide"
    }
   },
   "source": [
    "Esto suele ser una buena idea, ya que alimentarlo con más datos probablemente mejorará su rendimiento."
   ]
  },
  {
   "cell_type": "markdown",
   "id": "57d23560",
   "metadata": {
    "slideshow": {
     "slide_type": "slide"
    }
   },
   "source": [
    "Y, por supuesto, las puntuaciones de evaluación también están disponibles:\n"
   ]
  },
  {
   "cell_type": "code",
   "execution_count": 44,
   "id": "e412df84",
   "metadata": {
    "scrolled": true,
    "slideshow": {
     "slide_type": "slide"
    }
   },
   "outputs": [
    {
     "name": "stdout",
     "output_type": "stream",
     "text": [
      "62888.91174136722 {'max_features': 2, 'n_estimators': 3}\n",
      "55493.23578659617 {'max_features': 2, 'n_estimators': 10}\n",
      "52564.85102012985 {'max_features': 2, 'n_estimators': 30}\n",
      "52227.13401494946 {'max_features': 2, 'n_estimators': 40}\n",
      "60706.1061880884 {'max_features': 4, 'n_estimators': 3}\n",
      "52801.972857834306 {'max_features': 4, 'n_estimators': 10}\n",
      "50478.592339043105 {'max_features': 4, 'n_estimators': 30}\n",
      "49984.009978851995 {'max_features': 4, 'n_estimators': 40}\n",
      "59459.13183638988 {'max_features': 6, 'n_estimators': 3}\n",
      "51903.390847496375 {'max_features': 6, 'n_estimators': 10}\n",
      "49751.94956355509 {'max_features': 6, 'n_estimators': 30}\n",
      "49488.51135915139 {'max_features': 6, 'n_estimators': 40}\n",
      "58961.63986524682 {'max_features': 8, 'n_estimators': 3}\n",
      "51756.72615300566 {'max_features': 8, 'n_estimators': 10}\n",
      "49980.95945382219 {'max_features': 8, 'n_estimators': 30}\n",
      "49781.86775244066 {'max_features': 8, 'n_estimators': 40}\n",
      "58387.90018332763 {'max_features': 10, 'n_estimators': 3}\n",
      "52080.18328593281 {'max_features': 10, 'n_estimators': 10}\n",
      "50119.174739797825 {'max_features': 10, 'n_estimators': 30}\n",
      "49884.243838179835 {'max_features': 10, 'n_estimators': 40}\n",
      "62313.50357590471 {'bootstrap': False, 'max_features': 2, 'n_estimators': 3}\n",
      "53474.638021712126 {'bootstrap': False, 'max_features': 2, 'n_estimators': 10}\n",
      "60161.12228891101 {'bootstrap': False, 'max_features': 3, 'n_estimators': 3}\n",
      "52213.82460435267 {'bootstrap': False, 'max_features': 3, 'n_estimators': 10}\n",
      "57989.03846616843 {'bootstrap': False, 'max_features': 4, 'n_estimators': 3}\n",
      "51602.24880798412 {'bootstrap': False, 'max_features': 4, 'n_estimators': 10}\n"
     ]
    }
   ],
   "source": [
    "cvres = grid_search.cv_results_\n",
    "for mean_score, params in zip(cvres[\"mean_test_score\"], cvres[\"params\"]):\n",
    "    print(np.sqrt(-mean_score), params)"
   ]
  },
  {
   "cell_type": "code",
   "execution_count": 57,
   "id": "a6ca2719",
   "metadata": {
    "slideshow": {
     "slide_type": "slide"
    }
   },
   "outputs": [
    {
     "data": {
      "text/plain": [
       "dict_keys(['mean_fit_time', 'std_fit_time', 'mean_score_time', 'std_score_time', 'param_max_features', 'param_n_estimators', 'param_bootstrap', 'params', 'split0_test_score', 'split1_test_score', 'split2_test_score', 'split3_test_score', 'split4_test_score', 'mean_test_score', 'std_test_score', 'rank_test_score', 'split0_train_score', 'split1_train_score', 'split2_train_score', 'split3_train_score', 'split4_train_score', 'mean_train_score', 'std_train_score'])"
      ]
     },
     "execution_count": 57,
     "metadata": {},
     "output_type": "execute_result"
    }
   ],
   "source": [
    "cvres.keys() "
   ]
  },
  {
   "cell_type": "markdown",
   "id": "75c38c7d",
   "metadata": {
    "slideshow": {
     "slide_type": "slide"
    }
   },
   "source": [
    "En este ejemplo, obtenemos la mejor solución configurando el hiperparámetro max_features en 6 y el hiperparámetro n_estimators en 40."
   ]
  },
  {
   "cell_type": "markdown",
   "id": "c69b2b89",
   "metadata": {
    "slideshow": {
     "slide_type": "slide"
    }
   },
   "source": [
    "La puntuación de RMSE para esta combinación es 49395, que es ligeramente mejor que la puntuación que obtuvo anteriormente con los valores de hiperparámetro predeterminados (que era 50 182)."
   ]
  },
  {
   "cell_type": "markdown",
   "id": "3999e876",
   "metadata": {
    "slideshow": {
     "slide_type": "slide"
    }
   },
   "source": [
    "¡Felicitaciones, ha perfeccionado con éxito su mejor modelo!"
   ]
  },
  {
   "cell_type": "code",
   "execution_count": 46,
   "id": "18548e08",
   "metadata": {
    "slideshow": {
     "slide_type": "slide"
    }
   },
   "outputs": [],
   "source": [
    "mejor_modelo = RandomForestRegressor(n_estimators = 40, max_features = 6)"
   ]
  },
  {
   "cell_type": "code",
   "execution_count": 47,
   "id": "d4e41da9",
   "metadata": {
    "slideshow": {
     "slide_type": "slide"
    }
   },
   "outputs": [
    {
     "data": {
      "text/plain": [
       "RandomForestRegressor(max_features=6, n_estimators=40)"
      ]
     },
     "execution_count": 47,
     "metadata": {},
     "output_type": "execute_result"
    }
   ],
   "source": [
    "mejor_modelo.fit(x_prep, v_labels.values.ravel()) "
   ]
  },
  {
   "cell_type": "code",
   "execution_count": 55,
   "id": "f67d4396",
   "metadata": {
    "slideshow": {
     "slide_type": "slide"
    }
   },
   "outputs": [
    {
     "data": {
      "text/html": [
       "<div>\n",
       "<style scoped>\n",
       "    .dataframe tbody tr th:only-of-type {\n",
       "        vertical-align: middle;\n",
       "    }\n",
       "\n",
       "    .dataframe tbody tr th {\n",
       "        vertical-align: top;\n",
       "    }\n",
       "\n",
       "    .dataframe thead th {\n",
       "        text-align: right;\n",
       "    }\n",
       "</style>\n",
       "<table border=\"1\" class=\"dataframe\">\n",
       "  <thead>\n",
       "    <tr style=\"text-align: right;\">\n",
       "      <th></th>\n",
       "      <th>longitud</th>\n",
       "      <th>latitud</th>\n",
       "      <th>antiguedad</th>\n",
       "      <th>habitaciones</th>\n",
       "      <th>dormitorios</th>\n",
       "      <th>población</th>\n",
       "      <th>hogares</th>\n",
       "      <th>ingresos</th>\n",
       "      <th>proximidad</th>\n",
       "    </tr>\n",
       "  </thead>\n",
       "  <tbody>\n",
       "    <tr>\n",
       "      <th>20046</th>\n",
       "      <td>-119.01</td>\n",
       "      <td>36.06</td>\n",
       "      <td>25.0</td>\n",
       "      <td>1505.0</td>\n",
       "      <td>NaN</td>\n",
       "      <td>1392.0</td>\n",
       "      <td>359.0</td>\n",
       "      <td>1.6812</td>\n",
       "      <td>INLAND</td>\n",
       "    </tr>\n",
       "  </tbody>\n",
       "</table>\n",
       "</div>"
      ],
      "text/plain": [
       "       longitud  latitud  antiguedad  habitaciones  dormitorios  población  \\\n",
       "20046   -119.01    36.06        25.0        1505.0          NaN     1392.0   \n",
       "\n",
       "       hogares  ingresos proximidad  \n",
       "20046    359.0    1.6812     INLAND  "
      ]
     },
     "execution_count": 55,
     "metadata": {},
     "output_type": "execute_result"
    }
   ],
   "source": [
    "v_test.drop('precio', axis = 1).head(1)"
   ]
  },
  {
   "cell_type": "code",
   "execution_count": 53,
   "id": "d70ee608",
   "metadata": {
    "scrolled": true,
    "slideshow": {
     "slide_type": "slide"
    }
   },
   "outputs": [
    {
     "ename": "TypeError",
     "evalue": "'ColumnTransformer' object is not callable",
     "output_type": "error",
     "traceback": [
      "\u001b[1;31m---------------------------------------------------------------------------\u001b[0m",
      "\u001b[1;31mTypeError\u001b[0m                                 Traceback (most recent call last)",
      "\u001b[1;32m~\\AppData\\Local\\Temp/ipykernel_20208/1654668801.py\u001b[0m in \u001b[0;36m<module>\u001b[1;34m\u001b[0m\n\u001b[1;32m----> 1\u001b[1;33m \u001b[0mv_test_prep\u001b[0m \u001b[1;33m=\u001b[0m \u001b[0mpipeline_total\u001b[0m\u001b[1;33m(\u001b[0m\u001b[0mv_test\u001b[0m\u001b[1;33m.\u001b[0m\u001b[0mdrop\u001b[0m\u001b[1;33m(\u001b[0m\u001b[1;34m'precio'\u001b[0m\u001b[1;33m,\u001b[0m \u001b[0maxis\u001b[0m \u001b[1;33m=\u001b[0m \u001b[1;36m1\u001b[0m\u001b[1;33m)\u001b[0m\u001b[1;33m)\u001b[0m\u001b[1;33m\u001b[0m\u001b[1;33m\u001b[0m\u001b[0m\n\u001b[0m",
      "\u001b[1;31mTypeError\u001b[0m: 'ColumnTransformer' object is not callable"
     ]
    }
   ],
   "source": [
    "v_test_prep = pipeline_total.transform(v_test.drop('precio', axis = 1))"
   ]
  },
  {
   "cell_type": "code",
   "execution_count": 48,
   "id": "60ba5402",
   "metadata": {
    "slideshow": {
     "slide_type": "slide"
    }
   },
   "outputs": [
    {
     "ename": "ValueError",
     "evalue": "could not convert string to float: 'INLAND'",
     "output_type": "error",
     "traceback": [
      "\u001b[1;31m---------------------------------------------------------------------------\u001b[0m",
      "\u001b[1;31mValueError\u001b[0m                                Traceback (most recent call last)",
      "\u001b[1;32m~\\AppData\\Local\\Temp/ipykernel_20208/584004753.py\u001b[0m in \u001b[0;36m<module>\u001b[1;34m\u001b[0m\n\u001b[1;32m----> 1\u001b[1;33m \u001b[0mmejor_modelo\u001b[0m\u001b[1;33m.\u001b[0m\u001b[0mpredict\u001b[0m\u001b[1;33m(\u001b[0m\u001b[0mv_test\u001b[0m\u001b[1;33m)\u001b[0m\u001b[1;33m\u001b[0m\u001b[1;33m\u001b[0m\u001b[0m\n\u001b[0m",
      "\u001b[1;32m~\\anaconda3\\lib\\site-packages\\sklearn\\ensemble\\_forest.py\u001b[0m in \u001b[0;36mpredict\u001b[1;34m(self, X)\u001b[0m\n\u001b[0;32m    782\u001b[0m         \u001b[0mcheck_is_fitted\u001b[0m\u001b[1;33m(\u001b[0m\u001b[0mself\u001b[0m\u001b[1;33m)\u001b[0m\u001b[1;33m\u001b[0m\u001b[1;33m\u001b[0m\u001b[0m\n\u001b[0;32m    783\u001b[0m         \u001b[1;31m# Check data\u001b[0m\u001b[1;33m\u001b[0m\u001b[1;33m\u001b[0m\u001b[0m\n\u001b[1;32m--> 784\u001b[1;33m         \u001b[0mX\u001b[0m \u001b[1;33m=\u001b[0m \u001b[0mself\u001b[0m\u001b[1;33m.\u001b[0m\u001b[0m_validate_X_predict\u001b[0m\u001b[1;33m(\u001b[0m\u001b[0mX\u001b[0m\u001b[1;33m)\u001b[0m\u001b[1;33m\u001b[0m\u001b[1;33m\u001b[0m\u001b[0m\n\u001b[0m\u001b[0;32m    785\u001b[0m \u001b[1;33m\u001b[0m\u001b[0m\n\u001b[0;32m    786\u001b[0m         \u001b[1;31m# Assign chunk of trees to jobs\u001b[0m\u001b[1;33m\u001b[0m\u001b[1;33m\u001b[0m\u001b[0m\n",
      "\u001b[1;32m~\\anaconda3\\lib\\site-packages\\sklearn\\ensemble\\_forest.py\u001b[0m in \u001b[0;36m_validate_X_predict\u001b[1;34m(self, X)\u001b[0m\n\u001b[0;32m    420\u001b[0m         \u001b[0mcheck_is_fitted\u001b[0m\u001b[1;33m(\u001b[0m\u001b[0mself\u001b[0m\u001b[1;33m)\u001b[0m\u001b[1;33m\u001b[0m\u001b[1;33m\u001b[0m\u001b[0m\n\u001b[0;32m    421\u001b[0m \u001b[1;33m\u001b[0m\u001b[0m\n\u001b[1;32m--> 422\u001b[1;33m         \u001b[1;32mreturn\u001b[0m \u001b[0mself\u001b[0m\u001b[1;33m.\u001b[0m\u001b[0mestimators_\u001b[0m\u001b[1;33m[\u001b[0m\u001b[1;36m0\u001b[0m\u001b[1;33m]\u001b[0m\u001b[1;33m.\u001b[0m\u001b[0m_validate_X_predict\u001b[0m\u001b[1;33m(\u001b[0m\u001b[0mX\u001b[0m\u001b[1;33m,\u001b[0m \u001b[0mcheck_input\u001b[0m\u001b[1;33m=\u001b[0m\u001b[1;32mTrue\u001b[0m\u001b[1;33m)\u001b[0m\u001b[1;33m\u001b[0m\u001b[1;33m\u001b[0m\u001b[0m\n\u001b[0m\u001b[0;32m    423\u001b[0m \u001b[1;33m\u001b[0m\u001b[0m\n\u001b[0;32m    424\u001b[0m     \u001b[1;33m@\u001b[0m\u001b[0mproperty\u001b[0m\u001b[1;33m\u001b[0m\u001b[1;33m\u001b[0m\u001b[0m\n",
      "\u001b[1;32m~\\anaconda3\\lib\\site-packages\\sklearn\\tree\\_classes.py\u001b[0m in \u001b[0;36m_validate_X_predict\u001b[1;34m(self, X, check_input)\u001b[0m\n\u001b[0;32m    405\u001b[0m         \u001b[1;34m\"\"\"Validate the training data on predict (probabilities).\"\"\"\u001b[0m\u001b[1;33m\u001b[0m\u001b[1;33m\u001b[0m\u001b[0m\n\u001b[0;32m    406\u001b[0m         \u001b[1;32mif\u001b[0m \u001b[0mcheck_input\u001b[0m\u001b[1;33m:\u001b[0m\u001b[1;33m\u001b[0m\u001b[1;33m\u001b[0m\u001b[0m\n\u001b[1;32m--> 407\u001b[1;33m             X = self._validate_data(X, dtype=DTYPE, accept_sparse=\"csr\",\n\u001b[0m\u001b[0;32m    408\u001b[0m                                     reset=False)\n\u001b[0;32m    409\u001b[0m             if issparse(X) and (X.indices.dtype != np.intc or\n",
      "\u001b[1;32m~\\anaconda3\\lib\\site-packages\\sklearn\\base.py\u001b[0m in \u001b[0;36m_validate_data\u001b[1;34m(self, X, y, reset, validate_separately, **check_params)\u001b[0m\n\u001b[0;32m    419\u001b[0m             \u001b[0mout\u001b[0m \u001b[1;33m=\u001b[0m \u001b[0mX\u001b[0m\u001b[1;33m\u001b[0m\u001b[1;33m\u001b[0m\u001b[0m\n\u001b[0;32m    420\u001b[0m         \u001b[1;32melif\u001b[0m \u001b[0misinstance\u001b[0m\u001b[1;33m(\u001b[0m\u001b[0my\u001b[0m\u001b[1;33m,\u001b[0m \u001b[0mstr\u001b[0m\u001b[1;33m)\u001b[0m \u001b[1;32mand\u001b[0m \u001b[0my\u001b[0m \u001b[1;33m==\u001b[0m \u001b[1;34m'no_validation'\u001b[0m\u001b[1;33m:\u001b[0m\u001b[1;33m\u001b[0m\u001b[1;33m\u001b[0m\u001b[0m\n\u001b[1;32m--> 421\u001b[1;33m             \u001b[0mX\u001b[0m \u001b[1;33m=\u001b[0m \u001b[0mcheck_array\u001b[0m\u001b[1;33m(\u001b[0m\u001b[0mX\u001b[0m\u001b[1;33m,\u001b[0m \u001b[1;33m**\u001b[0m\u001b[0mcheck_params\u001b[0m\u001b[1;33m)\u001b[0m\u001b[1;33m\u001b[0m\u001b[1;33m\u001b[0m\u001b[0m\n\u001b[0m\u001b[0;32m    422\u001b[0m             \u001b[0mout\u001b[0m \u001b[1;33m=\u001b[0m \u001b[0mX\u001b[0m\u001b[1;33m\u001b[0m\u001b[1;33m\u001b[0m\u001b[0m\n\u001b[0;32m    423\u001b[0m         \u001b[1;32melse\u001b[0m\u001b[1;33m:\u001b[0m\u001b[1;33m\u001b[0m\u001b[1;33m\u001b[0m\u001b[0m\n",
      "\u001b[1;32m~\\anaconda3\\lib\\site-packages\\sklearn\\utils\\validation.py\u001b[0m in \u001b[0;36minner_f\u001b[1;34m(*args, **kwargs)\u001b[0m\n\u001b[0;32m     61\u001b[0m             \u001b[0mextra_args\u001b[0m \u001b[1;33m=\u001b[0m \u001b[0mlen\u001b[0m\u001b[1;33m(\u001b[0m\u001b[0margs\u001b[0m\u001b[1;33m)\u001b[0m \u001b[1;33m-\u001b[0m \u001b[0mlen\u001b[0m\u001b[1;33m(\u001b[0m\u001b[0mall_args\u001b[0m\u001b[1;33m)\u001b[0m\u001b[1;33m\u001b[0m\u001b[1;33m\u001b[0m\u001b[0m\n\u001b[0;32m     62\u001b[0m             \u001b[1;32mif\u001b[0m \u001b[0mextra_args\u001b[0m \u001b[1;33m<=\u001b[0m \u001b[1;36m0\u001b[0m\u001b[1;33m:\u001b[0m\u001b[1;33m\u001b[0m\u001b[1;33m\u001b[0m\u001b[0m\n\u001b[1;32m---> 63\u001b[1;33m                 \u001b[1;32mreturn\u001b[0m \u001b[0mf\u001b[0m\u001b[1;33m(\u001b[0m\u001b[1;33m*\u001b[0m\u001b[0margs\u001b[0m\u001b[1;33m,\u001b[0m \u001b[1;33m**\u001b[0m\u001b[0mkwargs\u001b[0m\u001b[1;33m)\u001b[0m\u001b[1;33m\u001b[0m\u001b[1;33m\u001b[0m\u001b[0m\n\u001b[0m\u001b[0;32m     64\u001b[0m \u001b[1;33m\u001b[0m\u001b[0m\n\u001b[0;32m     65\u001b[0m             \u001b[1;31m# extra_args > 0\u001b[0m\u001b[1;33m\u001b[0m\u001b[1;33m\u001b[0m\u001b[0m\n",
      "\u001b[1;32m~\\anaconda3\\lib\\site-packages\\sklearn\\utils\\validation.py\u001b[0m in \u001b[0;36mcheck_array\u001b[1;34m(array, accept_sparse, accept_large_sparse, dtype, order, copy, force_all_finite, ensure_2d, allow_nd, ensure_min_samples, ensure_min_features, estimator)\u001b[0m\n\u001b[0;32m    671\u001b[0m                     \u001b[0marray\u001b[0m \u001b[1;33m=\u001b[0m \u001b[0marray\u001b[0m\u001b[1;33m.\u001b[0m\u001b[0mastype\u001b[0m\u001b[1;33m(\u001b[0m\u001b[0mdtype\u001b[0m\u001b[1;33m,\u001b[0m \u001b[0mcasting\u001b[0m\u001b[1;33m=\u001b[0m\u001b[1;34m\"unsafe\"\u001b[0m\u001b[1;33m,\u001b[0m \u001b[0mcopy\u001b[0m\u001b[1;33m=\u001b[0m\u001b[1;32mFalse\u001b[0m\u001b[1;33m)\u001b[0m\u001b[1;33m\u001b[0m\u001b[1;33m\u001b[0m\u001b[0m\n\u001b[0;32m    672\u001b[0m                 \u001b[1;32melse\u001b[0m\u001b[1;33m:\u001b[0m\u001b[1;33m\u001b[0m\u001b[1;33m\u001b[0m\u001b[0m\n\u001b[1;32m--> 673\u001b[1;33m                     \u001b[0marray\u001b[0m \u001b[1;33m=\u001b[0m \u001b[0mnp\u001b[0m\u001b[1;33m.\u001b[0m\u001b[0masarray\u001b[0m\u001b[1;33m(\u001b[0m\u001b[0marray\u001b[0m\u001b[1;33m,\u001b[0m \u001b[0morder\u001b[0m\u001b[1;33m=\u001b[0m\u001b[0morder\u001b[0m\u001b[1;33m,\u001b[0m \u001b[0mdtype\u001b[0m\u001b[1;33m=\u001b[0m\u001b[0mdtype\u001b[0m\u001b[1;33m)\u001b[0m\u001b[1;33m\u001b[0m\u001b[1;33m\u001b[0m\u001b[0m\n\u001b[0m\u001b[0;32m    674\u001b[0m             \u001b[1;32mexcept\u001b[0m \u001b[0mComplexWarning\u001b[0m \u001b[1;32mas\u001b[0m \u001b[0mcomplex_warning\u001b[0m\u001b[1;33m:\u001b[0m\u001b[1;33m\u001b[0m\u001b[1;33m\u001b[0m\u001b[0m\n\u001b[0;32m    675\u001b[0m                 raise ValueError(\"Complex data not supported\\n\"\n",
      "\u001b[1;32m~\\anaconda3\\lib\\site-packages\\numpy\\core\\_asarray.py\u001b[0m in \u001b[0;36masarray\u001b[1;34m(a, dtype, order, like)\u001b[0m\n\u001b[0;32m    100\u001b[0m         \u001b[1;32mreturn\u001b[0m \u001b[0m_asarray_with_like\u001b[0m\u001b[1;33m(\u001b[0m\u001b[0ma\u001b[0m\u001b[1;33m,\u001b[0m \u001b[0mdtype\u001b[0m\u001b[1;33m=\u001b[0m\u001b[0mdtype\u001b[0m\u001b[1;33m,\u001b[0m \u001b[0morder\u001b[0m\u001b[1;33m=\u001b[0m\u001b[0morder\u001b[0m\u001b[1;33m,\u001b[0m \u001b[0mlike\u001b[0m\u001b[1;33m=\u001b[0m\u001b[0mlike\u001b[0m\u001b[1;33m)\u001b[0m\u001b[1;33m\u001b[0m\u001b[1;33m\u001b[0m\u001b[0m\n\u001b[0;32m    101\u001b[0m \u001b[1;33m\u001b[0m\u001b[0m\n\u001b[1;32m--> 102\u001b[1;33m     \u001b[1;32mreturn\u001b[0m \u001b[0marray\u001b[0m\u001b[1;33m(\u001b[0m\u001b[0ma\u001b[0m\u001b[1;33m,\u001b[0m \u001b[0mdtype\u001b[0m\u001b[1;33m,\u001b[0m \u001b[0mcopy\u001b[0m\u001b[1;33m=\u001b[0m\u001b[1;32mFalse\u001b[0m\u001b[1;33m,\u001b[0m \u001b[0morder\u001b[0m\u001b[1;33m=\u001b[0m\u001b[0morder\u001b[0m\u001b[1;33m)\u001b[0m\u001b[1;33m\u001b[0m\u001b[1;33m\u001b[0m\u001b[0m\n\u001b[0m\u001b[0;32m    103\u001b[0m \u001b[1;33m\u001b[0m\u001b[0m\n\u001b[0;32m    104\u001b[0m \u001b[1;33m\u001b[0m\u001b[0m\n",
      "\u001b[1;32m~\\anaconda3\\lib\\site-packages\\pandas\\core\\generic.py\u001b[0m in \u001b[0;36m__array__\u001b[1;34m(self, dtype)\u001b[0m\n\u001b[0;32m   1991\u001b[0m \u001b[1;33m\u001b[0m\u001b[0m\n\u001b[0;32m   1992\u001b[0m     \u001b[1;32mdef\u001b[0m \u001b[0m__array__\u001b[0m\u001b[1;33m(\u001b[0m\u001b[0mself\u001b[0m\u001b[1;33m,\u001b[0m \u001b[0mdtype\u001b[0m\u001b[1;33m:\u001b[0m \u001b[0mNpDtype\u001b[0m \u001b[1;33m|\u001b[0m \u001b[1;32mNone\u001b[0m \u001b[1;33m=\u001b[0m \u001b[1;32mNone\u001b[0m\u001b[1;33m)\u001b[0m \u001b[1;33m->\u001b[0m \u001b[0mnp\u001b[0m\u001b[1;33m.\u001b[0m\u001b[0mndarray\u001b[0m\u001b[1;33m:\u001b[0m\u001b[1;33m\u001b[0m\u001b[1;33m\u001b[0m\u001b[0m\n\u001b[1;32m-> 1993\u001b[1;33m         \u001b[1;32mreturn\u001b[0m \u001b[0mnp\u001b[0m\u001b[1;33m.\u001b[0m\u001b[0masarray\u001b[0m\u001b[1;33m(\u001b[0m\u001b[0mself\u001b[0m\u001b[1;33m.\u001b[0m\u001b[0m_values\u001b[0m\u001b[1;33m,\u001b[0m \u001b[0mdtype\u001b[0m\u001b[1;33m=\u001b[0m\u001b[0mdtype\u001b[0m\u001b[1;33m)\u001b[0m\u001b[1;33m\u001b[0m\u001b[1;33m\u001b[0m\u001b[0m\n\u001b[0m\u001b[0;32m   1994\u001b[0m \u001b[1;33m\u001b[0m\u001b[0m\n\u001b[0;32m   1995\u001b[0m     def __array_wrap__(\n",
      "\u001b[1;32m~\\anaconda3\\lib\\site-packages\\numpy\\core\\_asarray.py\u001b[0m in \u001b[0;36masarray\u001b[1;34m(a, dtype, order, like)\u001b[0m\n\u001b[0;32m    100\u001b[0m         \u001b[1;32mreturn\u001b[0m \u001b[0m_asarray_with_like\u001b[0m\u001b[1;33m(\u001b[0m\u001b[0ma\u001b[0m\u001b[1;33m,\u001b[0m \u001b[0mdtype\u001b[0m\u001b[1;33m=\u001b[0m\u001b[0mdtype\u001b[0m\u001b[1;33m,\u001b[0m \u001b[0morder\u001b[0m\u001b[1;33m=\u001b[0m\u001b[0morder\u001b[0m\u001b[1;33m,\u001b[0m \u001b[0mlike\u001b[0m\u001b[1;33m=\u001b[0m\u001b[0mlike\u001b[0m\u001b[1;33m)\u001b[0m\u001b[1;33m\u001b[0m\u001b[1;33m\u001b[0m\u001b[0m\n\u001b[0;32m    101\u001b[0m \u001b[1;33m\u001b[0m\u001b[0m\n\u001b[1;32m--> 102\u001b[1;33m     \u001b[1;32mreturn\u001b[0m \u001b[0marray\u001b[0m\u001b[1;33m(\u001b[0m\u001b[0ma\u001b[0m\u001b[1;33m,\u001b[0m \u001b[0mdtype\u001b[0m\u001b[1;33m,\u001b[0m \u001b[0mcopy\u001b[0m\u001b[1;33m=\u001b[0m\u001b[1;32mFalse\u001b[0m\u001b[1;33m,\u001b[0m \u001b[0morder\u001b[0m\u001b[1;33m=\u001b[0m\u001b[0morder\u001b[0m\u001b[1;33m)\u001b[0m\u001b[1;33m\u001b[0m\u001b[1;33m\u001b[0m\u001b[0m\n\u001b[0m\u001b[0;32m    103\u001b[0m \u001b[1;33m\u001b[0m\u001b[0m\n\u001b[0;32m    104\u001b[0m \u001b[1;33m\u001b[0m\u001b[0m\n",
      "\u001b[1;31mValueError\u001b[0m: could not convert string to float: 'INLAND'"
     ]
    }
   ],
   "source": [
    "mejor_modelo.predict(v_test_prep) "
   ]
  },
  {
   "cell_type": "markdown",
   "id": "781a57f6",
   "metadata": {
    "slideshow": {
     "slide_type": "slide"
    }
   },
   "source": [
    "## TIP"
   ]
  },
  {
   "cell_type": "markdown",
   "id": "24e4f86f",
   "metadata": {
    "slideshow": {
     "slide_type": "slide"
    }
   },
   "source": [
    "No olvide que puede tratar algunos de los pasos de preparación de datos como hiperparámetros."
   ]
  },
  {
   "cell_type": "markdown",
   "id": "224e8f8b",
   "metadata": {
    "slideshow": {
     "slide_type": "slide"
    }
   },
   "source": [
    "Por ejemplo, la búsqueda en cuadrícula descubrirá automáticamente si agregar o no una característica de la que no estaba seguro (por ejemplo, usando el hiperparámetro `ad_dph` de su transformador `AdAtribComb`)."
   ]
  },
  {
   "cell_type": "markdown",
   "id": "c3259de3",
   "metadata": {
    "slideshow": {
     "slide_type": "slide"
    }
   },
   "source": [
    "De manera similar, se puede usar para encontrar automáticamente la mejor manera de manejar valores atípicos, características faltantes, selección de características y más."
   ]
  },
  {
   "cell_type": "markdown",
   "id": "f767cdf9",
   "metadata": {
    "slideshow": {
     "slide_type": "slide"
    }
   },
   "source": [
    "## Búsqueda aleatoria"
   ]
  },
  {
   "cell_type": "markdown",
   "id": "970677f0",
   "metadata": {
    "slideshow": {
     "slide_type": "slide"
    }
   },
   "source": [
    "El enfoque de búsqueda en cuadrícula está bien cuando está explorando relativamente pocas combinaciones, como en el ejemplo anterior, pero cuando el espacio de búsqueda de hiperparámetros es grande, a menudo es preferible usar `RandomizedSearchCV` en su lugar."
   ]
  },
  {
   "cell_type": "markdown",
   "id": "0c6d0d98",
   "metadata": {
    "slideshow": {
     "slide_type": "slide"
    }
   },
   "source": [
    "Esta clase se puede usar de la misma manera que la clase GridSearchCV, pero en lugar de probar todas las combinaciones posibles, evalúa un número determinado de combinaciones aleatorias seleccionando un valor aleatorio para cada hiperparámetro en cada iteración."
   ]
  },
  {
   "cell_type": "markdown",
   "id": "29c4dc97",
   "metadata": {
    "slideshow": {
     "slide_type": "slide"
    }
   },
   "source": [
    "Este enfoque tiene dos ventajas principales:"
   ]
  },
  {
   "cell_type": "markdown",
   "id": "b1610772",
   "metadata": {
    "slideshow": {
     "slide_type": "slide"
    }
   },
   "source": [
    "Si deja que la búsqueda aleatoria se ejecute durante, digamos, 1000 iteraciones, este enfoque explorará 1000 valores diferentes para cada hiperparámetro (en lugar de solo unos pocos valores por hiperparámetro con el enfoque de búsqueda en cuadrícula)."
   ]
  },
  {
   "cell_type": "markdown",
   "id": "67872ad7",
   "metadata": {
    "slideshow": {
     "slide_type": "slide"
    }
   },
   "source": [
    "Simplemente configurando el número de iteraciones, tiene más control sobre el presupuesto informático que desea asignar a la búsqueda de hiperparámetros."
   ]
  },
  {
   "cell_type": "markdown",
   "id": "56831b3e",
   "metadata": {
    "slideshow": {
     "slide_type": "slide"
    }
   },
   "source": [
    "## Ensemble Methods\n"
   ]
  },
  {
   "cell_type": "markdown",
   "id": "d2bd1280",
   "metadata": {
    "slideshow": {
     "slide_type": "slide"
    }
   },
   "source": [
    "Otra forma de ajustar su sistema es intentar combinar los modelos que funcionan mejor. "
   ]
  },
  {
   "cell_type": "markdown",
   "id": "2ff5fd59",
   "metadata": {
    "slideshow": {
     "slide_type": "slide"
    }
   },
   "source": [
    "El grupo (o \"conjunto\") a menudo funcionará mejor que el mejor modelo individual (al igual que los bosques aleatorios funcionan mejor que los árboles de decisión individuales en los que se basan), especialmente si los modelos individuales cometen errores muy diferentes."
   ]
  },
  {
   "cell_type": "markdown",
   "id": "66cd8b13",
   "metadata": {
    "slideshow": {
     "slide_type": "slide"
    }
   },
   "source": [
    "Cubriremos este tema con más detalle en el Capítulo 7."
   ]
  },
  {
   "cell_type": "markdown",
   "id": "d84fec33",
   "metadata": {
    "slideshow": {
     "slide_type": "slide"
    }
   },
   "source": [
    "Analice los mejores modelos y sus errores A menudo obtendrá buenos conocimientos sobre el problema al inspeccionar los mejores modelos."
   ]
  },
  {
   "cell_type": "markdown",
   "id": "215d8c93",
   "metadata": {
    "slideshow": {
     "slide_type": "slide"
    }
   },
   "source": [
    "Por ejemplo, `RandomForestRegressor` puede indicar la importancia relativa de cada atributo para hacer predicciones precisas:"
   ]
  },
  {
   "cell_type": "code",
   "execution_count": null,
   "id": "6eaac56c",
   "metadata": {
    "slideshow": {
     "slide_type": "slide"
    }
   },
   "outputs": [],
   "source": [
    "feature_importances = grid_search.best_estimator_.feature_importances_\n",
    "feature_importances"
   ]
  },
  {
   "cell_type": "markdown",
   "id": "b5c22615",
   "metadata": {
    "slideshow": {
     "slide_type": "slide"
    }
   },
   "source": [
    "Vamos a mostrar estas puntuaciones de importancia junto a sus nombres de atributos correspondientes:\n"
   ]
  },
  {
   "cell_type": "code",
   "execution_count": null,
   "id": "cf002188",
   "metadata": {
    "slideshow": {
     "slide_type": "slide"
    }
   },
   "outputs": [],
   "source": [
    "atributos_extra = [\"habitaciones_por_hogar\", \"población_por_hogar\",\\\n",
    "                 \"dormitorios_por_habitación\"]\n",
    "cat_encoder = pipeline_total.named_transformers_[\"cat\"]\n",
    "cat_one_hot_attribs = list(cat_encoder.categories_[0])\n",
    "attributes = lista_atributos_num + atributos_extra + cat_one_hot_attribs\n",
    "sorted(zip(feature_importances, attributes), reverse=True)"
   ]
  },
  {
   "cell_type": "markdown",
   "id": "5fb6950d",
   "metadata": {
    "slideshow": {
     "slide_type": "slide"
    }
   },
   "source": [
    "Con esta información, es posible que desee intentar descartar algunas de las funciones menos útiles (por ejemplo, aparentemente solo una categoría `proximidad` es realmente útil, por lo que podría intentar descartar las demás)."
   ]
  },
  {
   "cell_type": "markdown",
   "id": "2dbf22ec",
   "metadata": {
    "slideshow": {
     "slide_type": "slide"
    }
   },
   "source": [
    "También debe observar los errores específicos que comete su sistema, luego tratar de comprender por qué los comete y qué podría solucionar el problema (agregar funciones adicionales o deshacerse de las que no son informativas, limpiar los valores atípicos, etc.)."
   ]
  },
  {
   "cell_type": "markdown",
   "id": "8fbcfe7c",
   "metadata": {
    "slideshow": {
     "slide_type": "slide"
    }
   },
   "source": [
    "## Evalúe su sistema en el conjunto de prueba"
   ]
  },
  {
   "cell_type": "markdown",
   "id": "652d54c4",
   "metadata": {
    "slideshow": {
     "slide_type": "slide"
    }
   },
   "source": [
    "Después de ajustar sus modelos por un tiempo, finalmente tiene un sistema que funciona lo suficientemente bien. "
   ]
  },
  {
   "cell_type": "markdown",
   "id": "251594c2",
   "metadata": {
    "slideshow": {
     "slide_type": "slide"
    }
   },
   "source": [
    "Ahora es el momento de evaluar el modelo final en el conjunto de prueba."
   ]
  },
  {
   "cell_type": "markdown",
   "id": "8ed7ebca",
   "metadata": {
    "slideshow": {
     "slide_type": "slide"
    }
   },
   "source": [
    "No hay nada especial en este proceso; simplemente obtenga los predictores y las etiquetas de su conjunto de prueba, ejecute su canalización completa para transformar los datos (llame a `transform()`, no a `fit_transform()`, ¡no desea ajustar el conjunto de prueba!) y evalúe el resultado final. "
   ]
  },
  {
   "cell_type": "markdown",
   "id": "3b68a97a",
   "metadata": {
    "slideshow": {
     "slide_type": "slide"
    }
   },
   "source": [
    "# modelo en el conjunto de prueba:"
   ]
  },
  {
   "cell_type": "code",
   "execution_count": null,
   "id": "e9dfb66a",
   "metadata": {
    "slideshow": {
     "slide_type": "slide"
    }
   },
   "outputs": [],
   "source": [
    "final_model = grid_search.best_estimator_\n",
    "X_test = v_train.drop(\"precio\", axis=1)\n",
    "y_test = v_train[\"precio\"].copy()\n",
    "X_test_prep = pipeline_total.transform(X_test)\n",
    "final_predictions = final_model.predict(X_test_prep)\n",
    "final_mse = mean_squared_error(y_test, final_predictions)\n",
    "final_rmse = np.sqrt(final_mse) "
   ]
  },
  {
   "cell_type": "code",
   "execution_count": null,
   "id": "fb8a618c",
   "metadata": {
    "slideshow": {
     "slide_type": "slide"
    }
   },
   "outputs": [],
   "source": [
    "final_rmse "
   ]
  },
  {
   "cell_type": "markdown",
   "id": "061ded25",
   "metadata": {
    "slideshow": {
     "slide_type": "slide"
    }
   },
   "source": [
    "In some cases, such a point estimate of the generalization error will not be quite enough to convince you to launch: what if it is just 0.1% better than the model currently in production? You might want to have an idea of how precise this estimate is. "
   ]
  },
  {
   "cell_type": "markdown",
   "id": "56a4a8a3",
   "metadata": {
    "slideshow": {
     "slide_type": "slide"
    }
   },
   "source": [
    "For this, you can compute a 95% confidence interval for the generalization error using scipy.stats.t.interval():"
   ]
  },
  {
   "cell_type": "code",
   "execution_count": null,
   "id": "0cbd5d22",
   "metadata": {
    "slideshow": {
     "slide_type": "slide"
    }
   },
   "outputs": [],
   "source": [
    "from scipy import stats\n",
    "confidence = 0.95\n",
    "squared_errors = (final_predictions - y_test) ** 2\n",
    "np.sqrt(stats.t.interval(confidence, len(squared_errors) - 1,\n",
    "       loc=squared_errors.mean(),\n",
    "       scale=stats.sem(squared_errors)))\n"
   ]
  },
  {
   "cell_type": "markdown",
   "id": "fcc51702",
   "metadata": {
    "slideshow": {
     "slide_type": "slide"
    }
   },
   "source": [
    "If you did a lot of hyperparameter tuning, the performance will usually be slightly worse than what you measured using cross-validation (because your system ends up fine-tuned to perform well on the validation data and will likely not perform as well on unknown datasets). "
   ]
  },
  {
   "cell_type": "markdown",
   "id": "f132dd6d",
   "metadata": {
    "slideshow": {
     "slide_type": "slide"
    }
   },
   "source": [
    "It is not the case in this example, but when this happens you must resist the temptation to tweak the hyperparameters to make the numbers look good on the test set; the improvements would be unlikely to generalize to new data."
   ]
  },
  {
   "cell_type": "markdown",
   "id": "98d10b85",
   "metadata": {
    "slideshow": {
     "slide_type": "slide"
    }
   },
   "source": [
    "Now comes the project prelaunch phase: you need to present your solution (highlighting what you have learned, what worked and what did not, what assumptions were made, and what your system’s limitations are), document everything, and create nice presentations with clear visualizations and easy-to remember statements (e.g., “the median income is the number one predictor of\n",
    "housing prices”). "
   ]
  },
  {
   "cell_type": "markdown",
   "id": "549f3643",
   "metadata": {
    "slideshow": {
     "slide_type": "slide"
    }
   },
   "source": [
    "In this California housing example, the final performance of the system is not better than the experts’ price estimates, which were often off by about 20%, but it may still be a good idea to launch it, especially if this frees up some time for the experts so they can work on more interesting and productive tasks."
   ]
  },
  {
   "cell_type": "markdown",
   "id": "e817a45a",
   "metadata": {
    "slideshow": {
     "slide_type": "slide"
    }
   },
   "source": [
    "## Launch, Monitor, and Maintain Your System"
   ]
  },
  {
   "cell_type": "markdown",
   "id": "4d7ee078",
   "metadata": {
    "slideshow": {
     "slide_type": "slide"
    }
   },
   "source": [
    "Perfect, you got approval to launch! You now need to get your solution ready for production (e.g., polish the code, write documentation and tests, and so on)."
   ]
  },
  {
   "cell_type": "markdown",
   "id": "2e2af3e7",
   "metadata": {
    "slideshow": {
     "slide_type": "slide"
    }
   },
   "source": [
    "Then you can deploy your model to your production environment. "
   ]
  },
  {
   "cell_type": "markdown",
   "id": "deb9d236",
   "metadata": {
    "slideshow": {
     "slide_type": "slide"
    }
   },
   "source": [
    "One way to do this is to save the trained Scikit-Learn model (e.g., using joblib), including\n",
    "the full preprocessing and prediction pipeline, then load this trained model within your production environment and use it to make predictions by calling its predict() method. "
   ]
  },
  {
   "cell_type": "markdown",
   "id": "45c034d0",
   "metadata": {
    "slideshow": {
     "slide_type": "slide"
    }
   },
   "source": [
    "For example, perhaps the model will be used within a website: the user will type in some data about a new district and click the Estimate Price button. "
   ]
  },
  {
   "cell_type": "markdown",
   "id": "be730e42",
   "metadata": {
    "slideshow": {
     "slide_type": "slide"
    }
   },
   "source": [
    "This will send a query containing the data to the web server, which will forward it to your web application, and finally your code will simply call the model’s predict() method (you want to load the model upon server startup, rather than every time the model is used). "
   ]
  },
  {
   "cell_type": "markdown",
   "id": "cad49b48",
   "metadata": {
    "slideshow": {
     "slide_type": "slide"
    }
   },
   "source": [
    "Alternatively, you can wrap the model within a dedicated web service that your web application can query through a REST API (see Figure 2-17). This makes it easier to upgrade your model to new versions without interrupting the main application. "
   ]
  },
  {
   "cell_type": "markdown",
   "id": "88aa4c1d",
   "metadata": {
    "slideshow": {
     "slide_type": "slide"
    }
   },
   "source": [
    "It also simplifies scaling, since you can start as many web services as needed and load balance the requests coming from your web application across these web services. "
   ]
  },
  {
   "cell_type": "markdown",
   "id": "bf703a16",
   "metadata": {
    "slideshow": {
     "slide_type": "slide"
    }
   },
   "source": [
    "Moreover, it allows your web application to use any language, not just Python."
   ]
  },
  {
   "cell_type": "markdown",
   "id": "e8ff3158",
   "metadata": {
    "slideshow": {
     "slide_type": "slide"
    }
   },
   "source": [
    "<img src = 'https://github.com/marco-canas/Machine-Learning/blob/main/ML/classes/class_march_3/fig_1.png?raw=true'> "
   ]
  },
  {
   "cell_type": "markdown",
   "id": "6b828f1b",
   "metadata": {
    "slideshow": {
     "slide_type": "slide"
    }
   },
   "source": [
    "Another popular strategy is to deploy your model on the cloud, for example on Google Cloud AI Platform (formerly known as Google Cloud ML Engine): just save your model using joblib and upload it to Google Cloud Storage (GCS), then head over to Google Cloud AI Platform and create a new model version, pointing it to the GCS file. "
   ]
  },
  {
   "cell_type": "markdown",
   "id": "670362a2",
   "metadata": {
    "slideshow": {
     "slide_type": "slide"
    }
   },
   "source": [
    "That’s it! This gives you a simple web service that takes care of load balancing and scaling for you. "
   ]
  },
  {
   "cell_type": "markdown",
   "id": "3c8a563c",
   "metadata": {
    "slideshow": {
     "slide_type": "slide"
    }
   },
   "source": [
    "It take JSON requests containing the input data (e.g., of a district) and returns JSON responses containing the predictions. "
   ]
  },
  {
   "cell_type": "markdown",
   "id": "0cbb786f",
   "metadata": {
    "slideshow": {
     "slide_type": "slide"
    }
   },
   "source": [
    "You can then use this web service in your website\n",
    "(or whatever production environment you are using). As we will see in\n",
    "Chapter 19, deploying TensorFlow models on AI Platform is not much different\n",
    "from deploying Scikit-Learn models."
   ]
  },
  {
   "cell_type": "markdown",
   "id": "8999932c",
   "metadata": {
    "slideshow": {
     "slide_type": "slide"
    }
   },
   "source": [
    "But deployment is not the end of the story. "
   ]
  },
  {
   "cell_type": "markdown",
   "id": "b6ccccca",
   "metadata": {
    "slideshow": {
     "slide_type": "slide"
    }
   },
   "source": [
    "You also need to write monitoring code to check your system’s live performance at regular intervals and trigger alerts when it drops. "
   ]
  },
  {
   "cell_type": "markdown",
   "id": "6dfe8cc6",
   "metadata": {
    "slideshow": {
     "slide_type": "slide"
    }
   },
   "source": [
    "This could be a steep drop, likely due to a broken\n",
    "component in your infrastructure, but be aware that it could also be a gentle\n",
    "decay that could easily go unnoticed for a long time. This is quite common\n",
    "because models tend to “rot” over time: indeed, the world changes, so if the\n",
    "model was trained with last year’s data, it may not be adapted to today’s data."
   ]
  },
  {
   "cell_type": "markdown",
   "id": "4576d20b",
   "metadata": {
    "slideshow": {
     "slide_type": "slide"
    }
   },
   "source": [
    "## WARNING"
   ]
  },
  {
   "cell_type": "markdown",
   "id": "9842bfcf",
   "metadata": {
    "slideshow": {
     "slide_type": "slide"
    }
   },
   "source": [
    "Even a model trained to classify pictures of cats and dogs may need to be retrained regularly,\n",
    "not because cats and dogs will mutate overnight, but because cameras keep changing, along with image formats, sharpness, brightness, and size ratios. "
   ]
  },
  {
   "cell_type": "markdown",
   "id": "e3afd383",
   "metadata": {
    "slideshow": {
     "slide_type": "slide"
    }
   },
   "source": [
    "Moreover, people may love different breeds next year, or they may decide to dress their pets with tiny hats—who knows?"
   ]
  },
  {
   "cell_type": "markdown",
   "id": "e1658c68",
   "metadata": {
    "slideshow": {
     "slide_type": "slide"
    }
   },
   "source": [
    "So you need to monitor your model’s live performance. "
   ]
  },
  {
   "cell_type": "markdown",
   "id": "6b1994b1",
   "metadata": {
    "slideshow": {
     "slide_type": "slide"
    }
   },
   "source": [
    "But how do you that? Well, it depends. In some cases, the model’s performance can be inferred from downstream metrics. "
   ]
  },
  {
   "cell_type": "markdown",
   "id": "5cda4be3",
   "metadata": {
    "slideshow": {
     "slide_type": "slide"
    }
   },
   "source": [
    "For example, if your model is part of a recommender system and it suggests products that the users may be interested in, then it’s easy to monitor the number of recommended products sold each day. "
   ]
  },
  {
   "cell_type": "markdown",
   "id": "02857909",
   "metadata": {
    "slideshow": {
     "slide_type": "slide"
    }
   },
   "source": [
    "If this number drops (compared to non-recommended products), then the prime\n",
    "suspect is the model. "
   ]
  },
  {
   "cell_type": "markdown",
   "id": "0cda085b",
   "metadata": {
    "slideshow": {
     "slide_type": "slide"
    }
   },
   "source": [
    "This may be because the data pipeline is broken, or perhaps the model needs to be retrained on fresh data (as we will discuss shortly)."
   ]
  },
  {
   "cell_type": "markdown",
   "id": "422bf2b6",
   "metadata": {
    "slideshow": {
     "slide_type": "slide"
    }
   },
   "source": [
    "However, it’s not always possible to determine the model’s performance without any human analysis. "
   ]
  },
  {
   "cell_type": "markdown",
   "id": "40a476f9",
   "metadata": {
    "slideshow": {
     "slide_type": "slide"
    }
   },
   "source": [
    "For example, suppose you trained an image classification model (see Chapter 3) to detect several product defects on a production line. "
   ]
  },
  {
   "cell_type": "markdown",
   "id": "7966ee9a",
   "metadata": {
    "slideshow": {
     "slide_type": "slide"
    }
   },
   "source": [
    "How can you get an alert if the model’s performance drops, before thousands of defective products get shipped to your clients? "
   ]
  },
  {
   "cell_type": "markdown",
   "id": "b4498933",
   "metadata": {
    "slideshow": {
     "slide_type": "slide"
    }
   },
   "source": [
    "One solution is to send to human raters a sample of all the pictures that the model classified\n",
    "(especially pictures that the model wasn’t so sure about). "
   ]
  },
  {
   "cell_type": "markdown",
   "id": "4b912137",
   "metadata": {
    "slideshow": {
     "slide_type": "slide"
    }
   },
   "source": [
    "Depending on the task, the raters may need to be experts, or they could be nonspecialists, such as workers on a crowdsourcing platform (e.g., Amazon Mechanical Turk). "
   ]
  },
  {
   "cell_type": "markdown",
   "id": "1b51fdd7",
   "metadata": {
    "slideshow": {
     "slide_type": "slide"
    }
   },
   "source": [
    "In some applications they could even be the users themselves, responding for example\n",
    "via surveys or repurposed captchas."
   ]
  },
  {
   "cell_type": "markdown",
   "id": "2200f576",
   "metadata": {
    "slideshow": {
     "slide_type": "slide"
    }
   },
   "source": [
    "Either way, you need to put in place a monitoring system (with or without human raters to evaluate the live model), as well as all the relevant processes to define what to do in case of failures and how to prepare for them."
   ]
  },
  {
   "cell_type": "markdown",
   "id": "c0d3ab48",
   "metadata": {
    "slideshow": {
     "slide_type": "slide"
    }
   },
   "source": [
    "Unfortunately, this can be a lot of work. In fact, it is often much more work than\n",
    "building and training a model."
   ]
  },
  {
   "cell_type": "markdown",
   "id": "66da9fb1",
   "metadata": {
    "slideshow": {
     "slide_type": "slide"
    }
   },
   "source": [
    "If the data keeps evolving, you will need to update your datasets and retrain your model regularly. "
   ]
  },
  {
   "cell_type": "markdown",
   "id": "74dbdcae",
   "metadata": {
    "slideshow": {
     "slide_type": "slide"
    }
   },
   "source": [
    "You should probably automate the whole process as much as possible. "
   ]
  },
  {
   "cell_type": "markdown",
   "id": "e663e6f1",
   "metadata": {
    "slideshow": {
     "slide_type": "slide"
    }
   },
   "source": [
    "Here are a few things you can automate: 24"
   ]
  },
  {
   "cell_type": "markdown",
   "id": "1664cf6f",
   "metadata": {
    "slideshow": {
     "slide_type": "slide"
    }
   },
   "source": [
    "Collect fresh data regularly and label it (e.g., using human raters)."
   ]
  },
  {
   "cell_type": "markdown",
   "id": "23837b90",
   "metadata": {
    "slideshow": {
     "slide_type": "slide"
    }
   },
   "source": [
    "Write a script to train the model and fine-tune the hyperparameters automatically. "
   ]
  },
  {
   "cell_type": "markdown",
   "id": "e6d7d19d",
   "metadata": {
    "slideshow": {
     "slide_type": "slide"
    }
   },
   "source": [
    "This script could run automatically, for example every day or every week, depending on your needs."
   ]
  },
  {
   "cell_type": "markdown",
   "id": "c40e7b68",
   "metadata": {
    "slideshow": {
     "slide_type": "slide"
    }
   },
   "source": [
    "Write another script that will evaluate both the new model and the previous model on the updated test set, and deploy the model to production if the performance has not decreased (if it did, make sure you investigate why)."
   ]
  },
  {
   "cell_type": "markdown",
   "id": "3e5f88d1",
   "metadata": {
    "slideshow": {
     "slide_type": "slide"
    }
   },
   "source": [
    "You should also make sure you evaluate the model’s input data quality.\n",
    "Sometimes performance will degrade slightly because of a poor-quality signal\n",
    "(e.g., a malfunctioning sensor sending random values, or another team’s output\n",
    "becoming stale), but it may take a while before your system’s performance\n",
    "degrades enough to trigger an alert. If you monitor your model’s inputs, you\n",
    "may catch this earlier. For example, you could trigger an alert if more and more\n",
    "inputs are missing a feature, or if its mean or standard deviation drifts too far\n",
    "from the training set, or a categorical feature starts containing new categories.\n",
    "Finally, make sure you keep backups of every model you create and have the\n",
    "process and tools in place to roll back to a previous model quickly, in case the\n",
    "new model starts failing badly for some reason. "
   ]
  },
  {
   "cell_type": "markdown",
   "id": "a43c2925",
   "metadata": {
    "slideshow": {
     "slide_type": "slide"
    }
   },
   "source": [
    "Having backups also makes it possible to easily compare new models with previous ones. "
   ]
  },
  {
   "cell_type": "markdown",
   "id": "2c036157",
   "metadata": {
    "slideshow": {
     "slide_type": "slide"
    }
   },
   "source": [
    "Similarly, you should keep backups of every version of your datasets so that you can roll back\n",
    "to a previous dataset if the new one ever gets corrupted (e.g., if the fresh data that gets added to it turns out to be full of outliers). "
   ]
  },
  {
   "cell_type": "markdown",
   "id": "a4b4ea34",
   "metadata": {
    "slideshow": {
     "slide_type": "slide"
    }
   },
   "source": [
    "Having backups of your datasets also allows you to evaluate any model against any previous dataset."
   ]
  },
  {
   "cell_type": "markdown",
   "id": "0071b8c7",
   "metadata": {
    "slideshow": {
     "slide_type": "slide"
    }
   },
   "source": [
    "## TIP"
   ]
  },
  {
   "cell_type": "markdown",
   "id": "dfe4b7db",
   "metadata": {
    "slideshow": {
     "slide_type": "slide"
    }
   },
   "source": [
    "You may want to create several subsets of the test set in order to evaluate how well your\n",
    "model performs on specific parts of the data. For example, you may want to have a subset\n",
    "containing only the most recent data, or a test set for specific kinds of inputs (e.g., districts\n",
    "located inland versus districts located near the ocean). This will give you a deeper\n",
    "understanding of your model’s strengths and weaknesses"
   ]
  },
  {
   "cell_type": "markdown",
   "id": "7491762d",
   "metadata": {
    "slideshow": {
     "slide_type": "slide"
    }
   },
   "source": [
    "As you can see, Machine Learning involves quite a lot of infrastructure, so don’t be surprised if your first ML project takes a lot of effort and time to build and deploy to production."
   ]
  },
  {
   "cell_type": "markdown",
   "id": "bf7530ef",
   "metadata": {
    "slideshow": {
     "slide_type": "slide"
    }
   },
   "source": [
    "Fortunately, once all the infrastructure is in place, going from idea to production will be much faster."
   ]
  },
  {
   "cell_type": "markdown",
   "id": "f895c081",
   "metadata": {
    "slideshow": {
     "slide_type": "slide"
    }
   },
   "source": [
    "## Try It Out!"
   ]
  },
  {
   "cell_type": "markdown",
   "id": "e392b995",
   "metadata": {
    "slideshow": {
     "slide_type": "slide"
    }
   },
   "source": [
    "Hopefully this chapter gave you a good idea of what a Machine Learning project looks like as well as showing you some of the tools you can use to train a great system. "
   ]
  },
  {
   "cell_type": "markdown",
   "id": "ae8127be",
   "metadata": {
    "slideshow": {
     "slide_type": "slide"
    }
   },
   "source": [
    "As you can see, much of the work is in the data preparation step: building monitoring tools, setting up human evaluation pipelines, and automating regular model training. "
   ]
  },
  {
   "cell_type": "markdown",
   "id": "4c816b94",
   "metadata": {
    "slideshow": {
     "slide_type": "slide"
    }
   },
   "source": [
    "The Machine Learning algorithms are\n",
    "important, of course, but it is probably preferable to be comfortable with the\n",
    "overall process and know three or four algorithms well rather than to spend all\n",
    "your time exploring advanced algorithms."
   ]
  },
  {
   "cell_type": "markdown",
   "id": "65d0f3fd",
   "metadata": {
    "slideshow": {
     "slide_type": "slide"
    }
   },
   "source": [
    "So, if you have not already done so, now is a good time to pick up a laptop, select a dataset that you are interested in, and try to go through the whole process from A to Z. "
   ]
  },
  {
   "cell_type": "markdown",
   "id": "57e5297f",
   "metadata": {
    "slideshow": {
     "slide_type": "slide"
    }
   },
   "source": [
    "A good place to start is on a competition website such as http://kaggle.com/: you will have a dataset to play with, a clear goal, and people to share the experience with. Have fun!"
   ]
  },
  {
   "cell_type": "markdown",
   "id": "a3a44db6",
   "metadata": {
    "slideshow": {
     "slide_type": "slide"
    }
   },
   "source": [
    "# Exercises"
   ]
  },
  {
   "cell_type": "markdown",
   "id": "17b145f7",
   "metadata": {
    "slideshow": {
     "slide_type": "slide"
    }
   },
   "source": [
    "Los siguientes ejercicios se basan en el conjunto de datos de vivienda de este capítulo:"
   ]
  },
  {
   "cell_type": "markdown",
   "id": "437cee70",
   "metadata": {
    "slideshow": {
     "slide_type": "slide"
    }
   },
   "source": [
    "1. Try a Support Vector Machine regressor (sklearn.svm.SVR) with various hyperparameters, such as kernel=\"linear\" (with various values for the C hyperparameter) or kernel=\"rbf\" (with various\n",
    "values for the C and gamma hyperparameters). Don’t worry about what these hyperparameters mean for now. How does the best SVR predictor perform?"
   ]
  },
  {
   "cell_type": "markdown",
   "id": "2d78c0f0",
   "metadata": {
    "slideshow": {
     "slide_type": "slide"
    }
   },
   "source": [
    "2. Try replacing GridSearchCV with RandomizedSearchCV."
   ]
  },
  {
   "cell_type": "markdown",
   "id": "90aed2ff",
   "metadata": {
    "slideshow": {
     "slide_type": "slide"
    }
   },
   "source": [
    "3. Try adding a transformer in the preparation pipeline to select only the\n",
    "most important attributes"
   ]
  },
  {
   "cell_type": "markdown",
   "id": "9705c344",
   "metadata": {
    "slideshow": {
     "slide_type": "slide"
    }
   },
   "source": [
    "4. Try creating a single pipeline that does the full data preparation plus the final prediction."
   ]
  },
  {
   "cell_type": "markdown",
   "id": "65e8a7d9",
   "metadata": {
    "slideshow": {
     "slide_type": "slide"
    }
   },
   "source": [
    "5. Automatically explore some preparation options using GridSearchCV.  \n",
    "\n",
    "Solutions to these exercises can be found in the Jupyter notebooks available at\n",
    "https://github.com/ageron/handson-ml2."
   ]
  },
  {
   "cell_type": "markdown",
   "id": "5c6be2af",
   "metadata": {
    "slideshow": {
     "slide_type": "slide"
    }
   },
   "source": [
    "1. El proyecto de ejemplo es ficticio; el objetivo es ilustrar los pasos principales de un proyecto de Machine Learning, no aprender nada sobre el negocio inmobiliario."
   ]
  },
  {
   "cell_type": "markdown",
   "id": "819f88c0",
   "metadata": {
    "slideshow": {
     "slide_type": "slide"
    }
   },
   "source": [
    "2 The original dataset appeared in R. Kelley Pace and Ronald Barry, “Sparse Spatial\n",
    "Autoregressions,” Statistics & Probability Letters 33, no. 3 (1997): 291–297.\n",
    "3 A piece of information fed to a Machine Learning system is often called a signal, in reference to\n",
    "Claude Shannon’s information theory, which he developed at Bell Labs to improve\n",
    "telecommunications. His theory: you want a high signal-to-noise ratio.\n",
    "4 Recall that the transpose operator flips a column vector into a row vector (and vice versa).\n",
    "5 The latest version of Python 3 is recommended. Python 2.7+ may work too, but now that it’s\n",
    "deprecated, all major scientific libraries are dropping support for it, so you should migrate to Python\n",
    "3 as soon as possible.\n",
    "6 I’ll show the installation steps using pip in a bash shell on a Linux or macOS system. You may\n",
    "need to adapt these commands to your own system. On Windows, I recommend installing Anaconda\n",
    "instead.\n",
    "7 If you want to upgrade pip for all users on your machine rather than just your own user, you should\n",
    "remove the --user option and make sure you have administrator rights (e.g., by adding sudo before\n",
    "the whole command on Linux or macOS).\n",
    "8 Alternative tools include venv (very similar to virtualenv and included in the standard library),\n",
    "virtualenvwrapper (provides extra functionalities on top of virtualenv), pyenv (allows easy\n",
    "switching between Python versions), and pipenv (a great packaging tool by the same author as the\n",
    "popular requests library, built on top of pip and virtualenv).\n",
    "9 Note that Jupyter can handle multiple versions of Python, and even many other languages such as\n",
    "R or Octave.\n",
    "10 You might also need to check legal constraints, such as private fields that should never be copied to\n",
    "unsafe data stores.\n",
    "11 In a real project you would save this code in a Python file, but for now you can just write it in your\n",
    "Jupyter notebook.\n",
    "12 The standard deviation is generally denoted σ (the Greek letter sigma), and it is the square root of\n",
    "the variance, which is the average of the squared deviation from the mean. When a feature has a\n",
    "bell-shaped normal distribution (also called a Gaussian distribution), which is very common, the\n",
    "“68-95-99.7” rule applies: about 68% of the values fall within 1σ of the mean, 95% within 2σ, and 99.7% within 3σ."
   ]
  },
  {
   "cell_type": "markdown",
   "id": "f655cba8",
   "metadata": {
    "slideshow": {
     "slide_type": "slide"
    }
   },
   "source": [
    "13 In this book, when a code example contains a mix of code and outputs, as is the case here, it is\n",
    "formatted like in the Python interpreter, for better readability: the code lines are prefixed with >>>\n",
    "(or ... for indented blocks), and the outputs have no prefix.\n",
    "14 You will often see people set the random seed to 42. This number has no special property, other\n",
    "than to be the Answer to the Ultimate Question of Life, the Universe, and Everything.\n",
    "15 The location information is actually quite coarse, and as a result many districts will have the exact\n",
    "same ID, so they will end up in the same set (test or train). This introduces some unfortunate\n",
    "sampling bias.\n",
    "16 If you are reading this in grayscale, grab a red pen and scribble over most of the coastline from the\n",
    "Bay Area down to San Diego (as you might expect). You can add a patch of yellow around\n",
    "Sacramento as well.\n",
    "17 For more details on the design principles, see Lars Buitinck et al., “API Design for Machine\n",
    "Learning Software: Experiences from the Scikit-Learn Project” ,” arXiv preprint arXiv:1309.0238\n",
    "(2013).\n",
    "18 Some predictors also provide methods to measure the confidence of their predictions.\n",
    "19 This class is available in Scikit-Learn 0.20 and later. If you use an earlier version, please consider\n",
    "upgrading, or use the pandas Series.factorize() method.\n",
    "20 Before Scikit-Learn 0.20, the method could only encode integer categorical values, but since 0.20 it\n",
    "can also handle other types of inputs, including text categorical inputs.\n",
    "21 See SciPy’s documentation for more details.\n",
    "22 Just like for pipelines, the name can be anything as long as it does not contain double underscores.\n",
    "23 In a nutshell, a REST (or RESTful) API is an HTTP-based API that follows some conventions,\n",
    "such as using standard HTTP verbs to read, update, create, or delete resources (GET, POST, PUT,\n",
    "and DELETE) and using JSON for the inputs and outputs.\n",
    "24 A captcha is a test to ensure a user is not a robot. These tests have often been used as a cheap way\n",
    "to label training data"
   ]
  }
 ],
 "metadata": {
  "celltoolbar": "Slideshow",
  "kernelspec": {
   "display_name": "Python 3 (ipykernel)",
   "language": "python",
   "name": "python3"
  },
  "language_info": {
   "codemirror_mode": {
    "name": "ipython",
    "version": 3
   },
   "file_extension": ".py",
   "mimetype": "text/x-python",
   "name": "python",
   "nbconvert_exporter": "python",
   "pygments_lexer": "ipython3",
   "version": "3.9.7"
  }
 },
 "nbformat": 4,
 "nbformat_minor": 5
}
