{
 "cells": [
  {
   "cell_type": "markdown",
   "id": "3e38419a",
   "metadata": {
    "slideshow": {
     "slide_type": "slide"
    }
   },
   "source": [
    "<table align=\"left\">\n",
    "  <td>\n",
    "    <a href=\"https://colab.research.google.com/github/marco-canas/intro-Machine-Learning/blob/main/classes/class_16_end_to_end_1/class_16_end_to_end_1.ipynb\" target=\"_parent\"><img src=\"https://colab.research.google.com/assets/colab-badge.svg\" alt=\"Open In Colab\"/></a>\n",
    "  </td>\n",
    "</table> "
   ]
  },
  {
   "cell_type": "markdown",
   "id": "3b732c7f",
   "metadata": {
    "slideshow": {
     "slide_type": "slide"
    }
   },
   "source": [
    "## [Video de apoyo a la lectura de esta clase](https://www.youtube.com/watch?v=4JDqj1NT4Qk)"
   ]
  },
  {
   "cell_type": "markdown",
   "id": "32057e54",
   "metadata": {
    "slideshow": {
     "slide_type": "slide"
    }
   },
   "source": [
    "# Modelo de regresión para predicción de precio de vivienda"
   ]
  },
  {
   "cell_type": "markdown",
   "id": "6c0c2b73",
   "metadata": {
    "slideshow": {
     "slide_type": "slide"
    }
   },
   "source": [
    "## Objetivo\n",
    "\n",
    "* Construir un modelo de regresión para la predicción de precio de vivienda siguiendo la metodología de Aurelien Geron."
   ]
  },
  {
   "cell_type": "markdown",
   "id": "a2c95a2d",
   "metadata": {
    "slideshow": {
     "slide_type": "slide"
    }
   },
   "source": [
    "## Metodología de modelamiento para Machine Learning de Geron"
   ]
  },
  {
   "cell_type": "markdown",
   "id": "a52b550c",
   "metadata": {
    "slideshow": {
     "slide_type": "slide"
    }
   },
   "source": [
    "1. Plantear, de manera justificada, la pregunta.\n",
    "   * ¿Regresión o clasificación?\n",
    "   * ¿Tipo de regresión y tipo de clasificación?"
   ]
  },
  {
   "cell_type": "markdown",
   "id": "4b455d2d",
   "metadata": {
    "slideshow": {
     "slide_type": "slide"
    }
   },
   "source": [
    "2. Exploración inicial.\n",
    "   * Indicar la fuente de dónde se toman los datos.\n",
    "   * Hacer explícita la función objetivo.\n",
    "   * Decir cuáles son los atributos (descripción breve de cada uno)\n",
    "   * Practicar una primera exploración gráfica de los datos."
   ]
  },
  {
   "cell_type": "markdown",
   "id": "0bed4e59",
   "metadata": {
    "slideshow": {
     "slide_type": "slide"
    }
   },
   "source": [
    "3. Preparar los datos para los algoritmos de aprendizaje.\n",
    "   * Hacer separación inicial de datos para entrenar y para testear.\n",
    "   * Explorar correlaciones lineales con la variable objetivo.\n",
    "   * Eliminar de ser necesario atributos que no sean de mucha utilidad.\n",
    "   * Limpiar datos y llenar datos faltantes.\n",
    "   * Estandarizar los datos.\n",
    "   * Crear funciones en Python de manera que se puedan replicar los procesos de transformación de datos en proyectos nuevos."
   ]
  },
  {
   "cell_type": "markdown",
   "id": "eabd86f8",
   "metadata": {
    "slideshow": {
     "slide_type": "slide"
    }
   },
   "source": [
    "4. Entrenamiento y selección de modelo.\n",
    "   * Instanciar varios modelos y entrenarlos sobre datos de entrenamiento preparados.\n",
    "   * Medir el desempeño de varios modelos (comparativa, con la técnica de la validación cruzada)."
   ]
  },
  {
   "cell_type": "markdown",
   "id": "a9359e3a",
   "metadata": {
    "slideshow": {
     "slide_type": "slide"
    }
   },
   "source": [
    "5. Afinar el modelo.\n",
    "   * Crear cuadrícula (de búsqueda) de hiperparámetros.\n",
    "   * Seleccionar la combinación de hiperparámetros que consigue el mejor puntaje. (El mejor modelo)."
   ]
  },
  {
   "cell_type": "markdown",
   "id": "fd844837",
   "metadata": {
    "slideshow": {
     "slide_type": "slide"
    }
   },
   "source": [
    "6. Presentar la solución.\n",
    "   * Mostrar el desempeño sobre los datos para testear.\n",
    "   * (Opcional) Gráfico intuitivo para representar el modelo."
   ]
  },
  {
   "cell_type": "markdown",
   "id": "8ea79849",
   "metadata": {
    "slideshow": {
     "slide_type": "slide"
    }
   },
   "source": [
    "7. (Opcional) ¿Cómo se sacará provecho del modelo en otros proyectos?"
   ]
  },
  {
   "cell_type": "markdown",
   "id": "fcf6f4d5",
   "metadata": {
    "slideshow": {
     "slide_type": "slide"
    }
   },
   "source": [
    "[Video de apoyo sobre presentación de la metodología para modelo de machine Learning](https://www.youtube.com/watch?v=blRXFU2KooI)"
   ]
  },
  {
   "cell_type": "markdown",
   "id": "d8dabd3a",
   "metadata": {
    "slideshow": {
     "slide_type": "slide"
    }
   },
   "source": [
    "# Implementación del plan "
   ]
  },
  {
   "cell_type": "markdown",
   "id": "a125c13a",
   "metadata": {
    "slideshow": {
     "slide_type": "slide"
    }
   },
   "source": [
    "1. Plantear bien la pregunta.\n",
    "   * ¿Regresión o clasificación?\n",
    "   * ¿Tipo de regresión y tipo de clasificación?"
   ]
  },
  {
   "cell_type": "markdown",
   "id": "04d121d0",
   "metadata": {
    "slideshow": {
     "slide_type": "slide"
    }
   },
   "source": [
    "Tenemos un dataset con la siguiente configuración: $[X|y]$.  \n",
    "\n",
    "$X = [x_{ij}] \\in \\mathbb{R}_{n,d}$.  \n",
    "$X^{j}$: $j$ ésimo atributo.   \n",
    "$X_{i}$: $i$ ésima fila o instancia ($i$ -ésimo distrito)  \n",
    "$x_{ij}$: $ij$ ésima entrada de la matriz $X$.   \n",
    "$y = [y_{i}] \\in \\mathbb{R}^{n}$: el vector de los valores promedios de vivienda.  \n",
    "$y_{i}$ el valor promedio de vivienda en el $i$ ésimo distrito"
   ]
  },
  {
   "cell_type": "markdown",
   "id": "0f160fcc",
   "metadata": {
    "slideshow": {
     "slide_type": "slide"
    }
   },
   "source": [
    "Este es un problema de regresión porque lo que se trata es de predecir un valor o la función predictora de valor continuo o de valores en un intervalo de números reales. "
   ]
  },
  {
   "cell_type": "markdown",
   "id": "7abb1b2c",
   "metadata": {
    "slideshow": {
     "slide_type": "slide"
    }
   },
   "source": [
    "El tipo de regresión es lineal porque \n",
    "\n",
    "$$h_{w}(X_{i}) = y_{i} = w^{T}X_{i} = w \\cdot X_{i} = w_{0} + w_{1}x_{i1} + \\cdots + w_{n}x_{id} = \\begin{pmatrix} w_{0} \\\\ w_{1} \\\\ \\vdots \\\\ w_{d} \\end{pmatrix} \\cdot \\begin{pmatrix} 1 \\\\ x_{i1} \\\\ \\cdots \\\\ x_{id} \\end{pmatrix} $$\n",
    "\n",
    "donde $d$ es el número de atributos. \n",
    "\n"
   ]
  },
  {
   "cell_type": "markdown",
   "id": "61421d22",
   "metadata": {
    "slideshow": {
     "slide_type": "slide"
    }
   },
   "source": [
    "# 2. Exploración inicial."
   ]
  },
  {
   "cell_type": "markdown",
   "id": "a924e190",
   "metadata": {
    "slideshow": {
     "slide_type": "slide"
    }
   },
   "source": [
    "##  Indicar la fuente de dónde se toman los datos."
   ]
  },
  {
   "cell_type": "markdown",
   "id": "cc551fa5",
   "metadata": {
    "slideshow": {
     "slide_type": "slide"
    }
   },
   "source": [
    "Su primera tarea es utilizar los datos del censo de California para construir un modelo de precios de viviendas en el estado.\n",
    "\n",
    "Estos datos incluyen métricas como la población, el ingreso medio y el precio medio de la vivienda para cada grupo de bloques en California.\n",
    "\n",
    "Los grupos de bloques son la unidad geográfica más pequeña para la que la Oficina del Censo de EE. UU. publica datos de muestra (un grupo de bloques suele tener una población de 600 a 3000 personas).\n",
    "\n",
    "Los llamaremos “distritos” para abreviar.\n",
    "\n",
    "Su modelo debe aprender de estos datos y poder predecir el precio medio de la vivienda en cualquier distrito, dadas todas las demás métricas."
   ]
  },
  {
   "cell_type": "markdown",
   "id": "1c32d9be",
   "metadata": {
    "slideshow": {
     "slide_type": "slide"
    }
   },
   "source": [
    "# Hacer explícita la función objetivo."
   ]
  },
  {
   "cell_type": "markdown",
   "id": "e0909354",
   "metadata": {
    "slideshow": {
     "slide_type": "slide"
    }
   },
   "source": [
    "$$ h:\\mathbb{R}^{9} \\to \\mathbb{R} $$\n",
    "\n",
    "$$ h(X_{n \\times m}) = y $$\n",
    "\n",
    "donde $X$ es una matriz alta (número de filas nucho mayor al número de columnas). \n",
    "\n",
    "$y$ es un vector de $\\mathbb{R}^{m}$ cuyas entradas son los valores promedio de vivienda por distrito. \n",
    "\n",
    "$$ h(X_{i}) = y_{i} \\in \\mathbb{R}$$"
   ]
  },
  {
   "cell_type": "markdown",
   "id": "7c1d4452",
   "metadata": {
    "slideshow": {
     "slide_type": "slide"
    }
   },
   "source": [
    "## Decir cuáles son los atributos (descripción breve de cada uno)"
   ]
  },
  {
   "cell_type": "markdown",
   "id": "9c429a5c",
   "metadata": {
    "slideshow": {
     "slide_type": "slide"
    }
   },
   "source": [
    "Son nueve atributos o variables predictoras entre las que están:\n",
    "\n",
    "* longitud\n",
    "* latitud\n",
    "* habitaciones\n",
    "* dormitorios\n",
    "* ingresos promedio\n",
    "* proximidad al oceano\n",
    "* antiguedad promedio de las viviendas en el distrito.\n",
    "* Número de hogares\n",
    "* población\n"
   ]
  },
  {
   "cell_type": "markdown",
   "id": "9000eef6",
   "metadata": {
    "slideshow": {
     "slide_type": "slide"
    }
   },
   "source": [
    "## [Video de apoyo]()"
   ]
  },
  {
   "cell_type": "markdown",
   "id": "1a4b3320",
   "metadata": {
    "slideshow": {
     "slide_type": "slide"
    }
   },
   "source": [
    "## Practicar una primera exploración gráfica de los datos."
   ]
  },
  {
   "cell_type": "code",
   "execution_count": 1,
   "id": "b6aa4a36",
   "metadata": {
    "slideshow": {
     "slide_type": "slide"
    }
   },
   "outputs": [],
   "source": [
    "import pandas as pd \n",
    "import numpy as np \n",
    "import matplotlib.pyplot as plt \n"
   ]
  },
  {
   "cell_type": "code",
   "execution_count": 2,
   "id": "31236055",
   "metadata": {
    "slideshow": {
     "slide_type": "slide"
    }
   },
   "outputs": [],
   "source": [
    "v = pd.read_csv('vivienda.csv')  "
   ]
  },
  {
   "cell_type": "code",
   "execution_count": 3,
   "id": "5e322862",
   "metadata": {
    "slideshow": {
     "slide_type": "slide"
    }
   },
   "outputs": [
    {
     "data": {
      "text/html": [
       "<div>\n",
       "<style scoped>\n",
       "    .dataframe tbody tr th:only-of-type {\n",
       "        vertical-align: middle;\n",
       "    }\n",
       "\n",
       "    .dataframe tbody tr th {\n",
       "        vertical-align: top;\n",
       "    }\n",
       "\n",
       "    .dataframe thead th {\n",
       "        text-align: right;\n",
       "    }\n",
       "</style>\n",
       "<table border=\"1\" class=\"dataframe\">\n",
       "  <thead>\n",
       "    <tr style=\"text-align: right;\">\n",
       "      <th></th>\n",
       "      <th>longitud</th>\n",
       "      <th>latitud</th>\n",
       "      <th>antiguedad</th>\n",
       "      <th>habitaciones</th>\n",
       "      <th>dormitorios</th>\n",
       "      <th>población</th>\n",
       "      <th>hogares</th>\n",
       "      <th>ingresos</th>\n",
       "      <th>proximidad</th>\n",
       "      <th>precio</th>\n",
       "    </tr>\n",
       "  </thead>\n",
       "  <tbody>\n",
       "    <tr>\n",
       "      <th>0</th>\n",
       "      <td>-122.23</td>\n",
       "      <td>37.88</td>\n",
       "      <td>41.0</td>\n",
       "      <td>880.0</td>\n",
       "      <td>129.0</td>\n",
       "      <td>322.0</td>\n",
       "      <td>126.0</td>\n",
       "      <td>8.3252</td>\n",
       "      <td>NEAR BAY</td>\n",
       "      <td>452600.0</td>\n",
       "    </tr>\n",
       "    <tr>\n",
       "      <th>1</th>\n",
       "      <td>-122.22</td>\n",
       "      <td>37.86</td>\n",
       "      <td>21.0</td>\n",
       "      <td>7099.0</td>\n",
       "      <td>1106.0</td>\n",
       "      <td>2401.0</td>\n",
       "      <td>1138.0</td>\n",
       "      <td>8.3014</td>\n",
       "      <td>NEAR BAY</td>\n",
       "      <td>358500.0</td>\n",
       "    </tr>\n",
       "    <tr>\n",
       "      <th>2</th>\n",
       "      <td>-122.24</td>\n",
       "      <td>37.85</td>\n",
       "      <td>52.0</td>\n",
       "      <td>1467.0</td>\n",
       "      <td>190.0</td>\n",
       "      <td>496.0</td>\n",
       "      <td>177.0</td>\n",
       "      <td>7.2574</td>\n",
       "      <td>NEAR BAY</td>\n",
       "      <td>352100.0</td>\n",
       "    </tr>\n",
       "    <tr>\n",
       "      <th>3</th>\n",
       "      <td>-122.25</td>\n",
       "      <td>37.85</td>\n",
       "      <td>52.0</td>\n",
       "      <td>1274.0</td>\n",
       "      <td>235.0</td>\n",
       "      <td>558.0</td>\n",
       "      <td>219.0</td>\n",
       "      <td>5.6431</td>\n",
       "      <td>NEAR BAY</td>\n",
       "      <td>341300.0</td>\n",
       "    </tr>\n",
       "    <tr>\n",
       "      <th>4</th>\n",
       "      <td>-122.25</td>\n",
       "      <td>37.85</td>\n",
       "      <td>52.0</td>\n",
       "      <td>1627.0</td>\n",
       "      <td>280.0</td>\n",
       "      <td>565.0</td>\n",
       "      <td>259.0</td>\n",
       "      <td>3.8462</td>\n",
       "      <td>NEAR BAY</td>\n",
       "      <td>342200.0</td>\n",
       "    </tr>\n",
       "    <tr>\n",
       "      <th>...</th>\n",
       "      <td>...</td>\n",
       "      <td>...</td>\n",
       "      <td>...</td>\n",
       "      <td>...</td>\n",
       "      <td>...</td>\n",
       "      <td>...</td>\n",
       "      <td>...</td>\n",
       "      <td>...</td>\n",
       "      <td>...</td>\n",
       "      <td>...</td>\n",
       "    </tr>\n",
       "    <tr>\n",
       "      <th>20635</th>\n",
       "      <td>-121.09</td>\n",
       "      <td>39.48</td>\n",
       "      <td>25.0</td>\n",
       "      <td>1665.0</td>\n",
       "      <td>374.0</td>\n",
       "      <td>845.0</td>\n",
       "      <td>330.0</td>\n",
       "      <td>1.5603</td>\n",
       "      <td>INLAND</td>\n",
       "      <td>78100.0</td>\n",
       "    </tr>\n",
       "    <tr>\n",
       "      <th>20636</th>\n",
       "      <td>-121.21</td>\n",
       "      <td>39.49</td>\n",
       "      <td>18.0</td>\n",
       "      <td>697.0</td>\n",
       "      <td>150.0</td>\n",
       "      <td>356.0</td>\n",
       "      <td>114.0</td>\n",
       "      <td>2.5568</td>\n",
       "      <td>INLAND</td>\n",
       "      <td>77100.0</td>\n",
       "    </tr>\n",
       "    <tr>\n",
       "      <th>20637</th>\n",
       "      <td>-121.22</td>\n",
       "      <td>39.43</td>\n",
       "      <td>17.0</td>\n",
       "      <td>2254.0</td>\n",
       "      <td>485.0</td>\n",
       "      <td>1007.0</td>\n",
       "      <td>433.0</td>\n",
       "      <td>1.7000</td>\n",
       "      <td>INLAND</td>\n",
       "      <td>92300.0</td>\n",
       "    </tr>\n",
       "    <tr>\n",
       "      <th>20638</th>\n",
       "      <td>-121.32</td>\n",
       "      <td>39.43</td>\n",
       "      <td>18.0</td>\n",
       "      <td>1860.0</td>\n",
       "      <td>409.0</td>\n",
       "      <td>741.0</td>\n",
       "      <td>349.0</td>\n",
       "      <td>1.8672</td>\n",
       "      <td>INLAND</td>\n",
       "      <td>84700.0</td>\n",
       "    </tr>\n",
       "    <tr>\n",
       "      <th>20639</th>\n",
       "      <td>-121.24</td>\n",
       "      <td>39.37</td>\n",
       "      <td>16.0</td>\n",
       "      <td>2785.0</td>\n",
       "      <td>616.0</td>\n",
       "      <td>1387.0</td>\n",
       "      <td>530.0</td>\n",
       "      <td>2.3886</td>\n",
       "      <td>INLAND</td>\n",
       "      <td>89400.0</td>\n",
       "    </tr>\n",
       "  </tbody>\n",
       "</table>\n",
       "<p>20640 rows × 10 columns</p>\n",
       "</div>"
      ],
      "text/plain": [
       "       longitud  latitud  antiguedad  habitaciones  dormitorios  población  \\\n",
       "0       -122.23    37.88        41.0         880.0        129.0      322.0   \n",
       "1       -122.22    37.86        21.0        7099.0       1106.0     2401.0   \n",
       "2       -122.24    37.85        52.0        1467.0        190.0      496.0   \n",
       "3       -122.25    37.85        52.0        1274.0        235.0      558.0   \n",
       "4       -122.25    37.85        52.0        1627.0        280.0      565.0   \n",
       "...         ...      ...         ...           ...          ...        ...   \n",
       "20635   -121.09    39.48        25.0        1665.0        374.0      845.0   \n",
       "20636   -121.21    39.49        18.0         697.0        150.0      356.0   \n",
       "20637   -121.22    39.43        17.0        2254.0        485.0     1007.0   \n",
       "20638   -121.32    39.43        18.0        1860.0        409.0      741.0   \n",
       "20639   -121.24    39.37        16.0        2785.0        616.0     1387.0   \n",
       "\n",
       "       hogares  ingresos proximidad    precio  \n",
       "0        126.0    8.3252   NEAR BAY  452600.0  \n",
       "1       1138.0    8.3014   NEAR BAY  358500.0  \n",
       "2        177.0    7.2574   NEAR BAY  352100.0  \n",
       "3        219.0    5.6431   NEAR BAY  341300.0  \n",
       "4        259.0    3.8462   NEAR BAY  342200.0  \n",
       "...        ...       ...        ...       ...  \n",
       "20635    330.0    1.5603     INLAND   78100.0  \n",
       "20636    114.0    2.5568     INLAND   77100.0  \n",
       "20637    433.0    1.7000     INLAND   92300.0  \n",
       "20638    349.0    1.8672     INLAND   84700.0  \n",
       "20639    530.0    2.3886     INLAND   89400.0  \n",
       "\n",
       "[20640 rows x 10 columns]"
      ]
     },
     "execution_count": 3,
     "metadata": {},
     "output_type": "execute_result"
    }
   ],
   "source": [
    "v"
   ]
  },
  {
   "cell_type": "code",
   "execution_count": 3,
   "id": "ebd9b7d0",
   "metadata": {
    "slideshow": {
     "slide_type": "slide"
    }
   },
   "outputs": [
    {
     "data": {
      "text/html": [
       "<div>\n",
       "<style scoped>\n",
       "    .dataframe tbody tr th:only-of-type {\n",
       "        vertical-align: middle;\n",
       "    }\n",
       "\n",
       "    .dataframe tbody tr th {\n",
       "        vertical-align: top;\n",
       "    }\n",
       "\n",
       "    .dataframe thead th {\n",
       "        text-align: right;\n",
       "    }\n",
       "</style>\n",
       "<table border=\"1\" class=\"dataframe\">\n",
       "  <thead>\n",
       "    <tr style=\"text-align: right;\">\n",
       "      <th></th>\n",
       "      <th>longitud</th>\n",
       "      <th>latitud</th>\n",
       "      <th>antiguedad</th>\n",
       "      <th>habitaciones</th>\n",
       "      <th>dormitorios</th>\n",
       "      <th>población</th>\n",
       "      <th>hogares</th>\n",
       "      <th>ingresos</th>\n",
       "      <th>proximidad</th>\n",
       "      <th>precio</th>\n",
       "    </tr>\n",
       "  </thead>\n",
       "  <tbody>\n",
       "    <tr>\n",
       "      <th>0</th>\n",
       "      <td>-122.23</td>\n",
       "      <td>37.88</td>\n",
       "      <td>41.0</td>\n",
       "      <td>880.0</td>\n",
       "      <td>129.0</td>\n",
       "      <td>322.0</td>\n",
       "      <td>126.0</td>\n",
       "      <td>8.3252</td>\n",
       "      <td>NEAR BAY</td>\n",
       "      <td>452600.0</td>\n",
       "    </tr>\n",
       "    <tr>\n",
       "      <th>1</th>\n",
       "      <td>-122.22</td>\n",
       "      <td>37.86</td>\n",
       "      <td>21.0</td>\n",
       "      <td>7099.0</td>\n",
       "      <td>1106.0</td>\n",
       "      <td>2401.0</td>\n",
       "      <td>1138.0</td>\n",
       "      <td>8.3014</td>\n",
       "      <td>NEAR BAY</td>\n",
       "      <td>358500.0</td>\n",
       "    </tr>\n",
       "  </tbody>\n",
       "</table>\n",
       "</div>"
      ],
      "text/plain": [
       "   longitud  latitud  antiguedad  habitaciones  dormitorios  población  \\\n",
       "0   -122.23    37.88        41.0         880.0        129.0      322.0   \n",
       "1   -122.22    37.86        21.0        7099.0       1106.0     2401.0   \n",
       "\n",
       "   hogares  ingresos proximidad    precio  \n",
       "0    126.0    8.3252   NEAR BAY  452600.0  \n",
       "1   1138.0    8.3014   NEAR BAY  358500.0  "
      ]
     },
     "execution_count": 3,
     "metadata": {},
     "output_type": "execute_result"
    }
   ],
   "source": [
    "v.head(2) "
   ]
  },
  {
   "cell_type": "code",
   "execution_count": 5,
   "id": "9b808f05",
   "metadata": {
    "slideshow": {
     "slide_type": "slide"
    }
   },
   "outputs": [
    {
     "data": {
      "text/html": [
       "<div>\n",
       "<style scoped>\n",
       "    .dataframe tbody tr th:only-of-type {\n",
       "        vertical-align: middle;\n",
       "    }\n",
       "\n",
       "    .dataframe tbody tr th {\n",
       "        vertical-align: top;\n",
       "    }\n",
       "\n",
       "    .dataframe thead th {\n",
       "        text-align: right;\n",
       "    }\n",
       "</style>\n",
       "<table border=\"1\" class=\"dataframe\">\n",
       "  <thead>\n",
       "    <tr style=\"text-align: right;\">\n",
       "      <th></th>\n",
       "      <th>longitud</th>\n",
       "      <th>latitud</th>\n",
       "      <th>antiguedad</th>\n",
       "      <th>habitaciones</th>\n",
       "      <th>dormitorios</th>\n",
       "      <th>población</th>\n",
       "      <th>hogares</th>\n",
       "      <th>ingresos</th>\n",
       "      <th>proximidad</th>\n",
       "      <th>precio</th>\n",
       "    </tr>\n",
       "  </thead>\n",
       "  <tbody>\n",
       "    <tr>\n",
       "      <th>20635</th>\n",
       "      <td>-121.09</td>\n",
       "      <td>39.48</td>\n",
       "      <td>25.0</td>\n",
       "      <td>1665.0</td>\n",
       "      <td>374.0</td>\n",
       "      <td>845.0</td>\n",
       "      <td>330.0</td>\n",
       "      <td>1.5603</td>\n",
       "      <td>INLAND</td>\n",
       "      <td>78100.0</td>\n",
       "    </tr>\n",
       "    <tr>\n",
       "      <th>20636</th>\n",
       "      <td>-121.21</td>\n",
       "      <td>39.49</td>\n",
       "      <td>18.0</td>\n",
       "      <td>697.0</td>\n",
       "      <td>150.0</td>\n",
       "      <td>356.0</td>\n",
       "      <td>114.0</td>\n",
       "      <td>2.5568</td>\n",
       "      <td>INLAND</td>\n",
       "      <td>77100.0</td>\n",
       "    </tr>\n",
       "    <tr>\n",
       "      <th>20637</th>\n",
       "      <td>-121.22</td>\n",
       "      <td>39.43</td>\n",
       "      <td>17.0</td>\n",
       "      <td>2254.0</td>\n",
       "      <td>485.0</td>\n",
       "      <td>1007.0</td>\n",
       "      <td>433.0</td>\n",
       "      <td>1.7000</td>\n",
       "      <td>INLAND</td>\n",
       "      <td>92300.0</td>\n",
       "    </tr>\n",
       "    <tr>\n",
       "      <th>20638</th>\n",
       "      <td>-121.32</td>\n",
       "      <td>39.43</td>\n",
       "      <td>18.0</td>\n",
       "      <td>1860.0</td>\n",
       "      <td>409.0</td>\n",
       "      <td>741.0</td>\n",
       "      <td>349.0</td>\n",
       "      <td>1.8672</td>\n",
       "      <td>INLAND</td>\n",
       "      <td>84700.0</td>\n",
       "    </tr>\n",
       "    <tr>\n",
       "      <th>20639</th>\n",
       "      <td>-121.24</td>\n",
       "      <td>39.37</td>\n",
       "      <td>16.0</td>\n",
       "      <td>2785.0</td>\n",
       "      <td>616.0</td>\n",
       "      <td>1387.0</td>\n",
       "      <td>530.0</td>\n",
       "      <td>2.3886</td>\n",
       "      <td>INLAND</td>\n",
       "      <td>89400.0</td>\n",
       "    </tr>\n",
       "  </tbody>\n",
       "</table>\n",
       "</div>"
      ],
      "text/plain": [
       "       longitud  latitud  antiguedad  habitaciones  dormitorios  población  \\\n",
       "20635   -121.09    39.48        25.0        1665.0        374.0      845.0   \n",
       "20636   -121.21    39.49        18.0         697.0        150.0      356.0   \n",
       "20637   -121.22    39.43        17.0        2254.0        485.0     1007.0   \n",
       "20638   -121.32    39.43        18.0        1860.0        409.0      741.0   \n",
       "20639   -121.24    39.37        16.0        2785.0        616.0     1387.0   \n",
       "\n",
       "       hogares  ingresos proximidad   precio  \n",
       "20635    330.0    1.5603     INLAND  78100.0  \n",
       "20636    114.0    2.5568     INLAND  77100.0  \n",
       "20637    433.0    1.7000     INLAND  92300.0  \n",
       "20638    349.0    1.8672     INLAND  84700.0  \n",
       "20639    530.0    2.3886     INLAND  89400.0  "
      ]
     },
     "execution_count": 5,
     "metadata": {},
     "output_type": "execute_result"
    }
   ],
   "source": [
    "v.tail()"
   ]
  },
  {
   "cell_type": "code",
   "execution_count": 6,
   "id": "38cb213f",
   "metadata": {
    "scrolled": true,
    "slideshow": {
     "slide_type": "slide"
    }
   },
   "outputs": [
    {
     "name": "stdout",
     "output_type": "stream",
     "text": [
      "<class 'pandas.core.frame.DataFrame'>\n",
      "RangeIndex: 20640 entries, 0 to 20639\n",
      "Data columns (total 10 columns):\n",
      " #   Column        Non-Null Count  Dtype  \n",
      "---  ------        --------------  -----  \n",
      " 0   longitud      20640 non-null  float64\n",
      " 1   latitud       20640 non-null  float64\n",
      " 2   antiguedad    20640 non-null  float64\n",
      " 3   habitaciones  20640 non-null  float64\n",
      " 4   dormitorios   20433 non-null  float64\n",
      " 5   población     20640 non-null  float64\n",
      " 6   hogares       20640 non-null  float64\n",
      " 7   ingresos      20640 non-null  float64\n",
      " 8   proximidad    20640 non-null  object \n",
      " 9   precio        20640 non-null  float64\n",
      "dtypes: float64(9), object(1)\n",
      "memory usage: 1.6+ MB\n"
     ]
    }
   ],
   "source": [
    "v.info()"
   ]
  },
  {
   "cell_type": "code",
   "execution_count": 7,
   "id": "b28a2037",
   "metadata": {
    "slideshow": {
     "slide_type": "slide"
    }
   },
   "outputs": [
    {
     "data": {
      "text/plain": [
       "<1H OCEAN     9136\n",
       "INLAND        6551\n",
       "NEAR OCEAN    2658\n",
       "NEAR BAY      2290\n",
       "ISLAND           5\n",
       "Name: proximidad, dtype: int64"
      ]
     },
     "execution_count": 7,
     "metadata": {},
     "output_type": "execute_result"
    }
   ],
   "source": [
    "v.proximidad.value_counts() "
   ]
  },
  {
   "cell_type": "code",
   "execution_count": 8,
   "id": "2e1d58ac",
   "metadata": {
    "slideshow": {
     "slide_type": "slide"
    }
   },
   "outputs": [
    {
     "data": {
      "text/html": [
       "<div>\n",
       "<style scoped>\n",
       "    .dataframe tbody tr th:only-of-type {\n",
       "        vertical-align: middle;\n",
       "    }\n",
       "\n",
       "    .dataframe tbody tr th {\n",
       "        vertical-align: top;\n",
       "    }\n",
       "\n",
       "    .dataframe thead th {\n",
       "        text-align: right;\n",
       "    }\n",
       "</style>\n",
       "<table border=\"1\" class=\"dataframe\">\n",
       "  <thead>\n",
       "    <tr style=\"text-align: right;\">\n",
       "      <th></th>\n",
       "      <th>longitud</th>\n",
       "      <th>latitud</th>\n",
       "      <th>antiguedad</th>\n",
       "      <th>habitaciones</th>\n",
       "      <th>dormitorios</th>\n",
       "      <th>población</th>\n",
       "      <th>hogares</th>\n",
       "      <th>ingresos</th>\n",
       "      <th>precio</th>\n",
       "    </tr>\n",
       "  </thead>\n",
       "  <tbody>\n",
       "    <tr>\n",
       "      <th>count</th>\n",
       "      <td>20640.000000</td>\n",
       "      <td>20640.000000</td>\n",
       "      <td>20640.000000</td>\n",
       "      <td>20640.000000</td>\n",
       "      <td>20433.000000</td>\n",
       "      <td>20640.000000</td>\n",
       "      <td>20640.000000</td>\n",
       "      <td>20640.000000</td>\n",
       "      <td>20640.000000</td>\n",
       "    </tr>\n",
       "    <tr>\n",
       "      <th>mean</th>\n",
       "      <td>-119.569704</td>\n",
       "      <td>35.631861</td>\n",
       "      <td>28.639486</td>\n",
       "      <td>2635.763081</td>\n",
       "      <td>537.870553</td>\n",
       "      <td>1425.476744</td>\n",
       "      <td>499.539680</td>\n",
       "      <td>3.870671</td>\n",
       "      <td>206855.816909</td>\n",
       "    </tr>\n",
       "    <tr>\n",
       "      <th>std</th>\n",
       "      <td>2.003532</td>\n",
       "      <td>2.135952</td>\n",
       "      <td>12.585558</td>\n",
       "      <td>2181.615252</td>\n",
       "      <td>421.385070</td>\n",
       "      <td>1132.462122</td>\n",
       "      <td>382.329753</td>\n",
       "      <td>1.899822</td>\n",
       "      <td>115395.615874</td>\n",
       "    </tr>\n",
       "    <tr>\n",
       "      <th>min</th>\n",
       "      <td>-124.350000</td>\n",
       "      <td>32.540000</td>\n",
       "      <td>1.000000</td>\n",
       "      <td>2.000000</td>\n",
       "      <td>1.000000</td>\n",
       "      <td>3.000000</td>\n",
       "      <td>1.000000</td>\n",
       "      <td>0.499900</td>\n",
       "      <td>14999.000000</td>\n",
       "    </tr>\n",
       "    <tr>\n",
       "      <th>25%</th>\n",
       "      <td>-121.800000</td>\n",
       "      <td>33.930000</td>\n",
       "      <td>18.000000</td>\n",
       "      <td>1447.750000</td>\n",
       "      <td>296.000000</td>\n",
       "      <td>787.000000</td>\n",
       "      <td>280.000000</td>\n",
       "      <td>2.563400</td>\n",
       "      <td>119600.000000</td>\n",
       "    </tr>\n",
       "    <tr>\n",
       "      <th>50%</th>\n",
       "      <td>-118.490000</td>\n",
       "      <td>34.260000</td>\n",
       "      <td>29.000000</td>\n",
       "      <td>2127.000000</td>\n",
       "      <td>435.000000</td>\n",
       "      <td>1166.000000</td>\n",
       "      <td>409.000000</td>\n",
       "      <td>3.534800</td>\n",
       "      <td>179700.000000</td>\n",
       "    </tr>\n",
       "    <tr>\n",
       "      <th>75%</th>\n",
       "      <td>-118.010000</td>\n",
       "      <td>37.710000</td>\n",
       "      <td>37.000000</td>\n",
       "      <td>3148.000000</td>\n",
       "      <td>647.000000</td>\n",
       "      <td>1725.000000</td>\n",
       "      <td>605.000000</td>\n",
       "      <td>4.743250</td>\n",
       "      <td>264725.000000</td>\n",
       "    </tr>\n",
       "    <tr>\n",
       "      <th>max</th>\n",
       "      <td>-114.310000</td>\n",
       "      <td>41.950000</td>\n",
       "      <td>52.000000</td>\n",
       "      <td>39320.000000</td>\n",
       "      <td>6445.000000</td>\n",
       "      <td>35682.000000</td>\n",
       "      <td>6082.000000</td>\n",
       "      <td>15.000100</td>\n",
       "      <td>500001.000000</td>\n",
       "    </tr>\n",
       "  </tbody>\n",
       "</table>\n",
       "</div>"
      ],
      "text/plain": [
       "           longitud       latitud    antiguedad  habitaciones   dormitorios  \\\n",
       "count  20640.000000  20640.000000  20640.000000  20640.000000  20433.000000   \n",
       "mean    -119.569704     35.631861     28.639486   2635.763081    537.870553   \n",
       "std        2.003532      2.135952     12.585558   2181.615252    421.385070   \n",
       "min     -124.350000     32.540000      1.000000      2.000000      1.000000   \n",
       "25%     -121.800000     33.930000     18.000000   1447.750000    296.000000   \n",
       "50%     -118.490000     34.260000     29.000000   2127.000000    435.000000   \n",
       "75%     -118.010000     37.710000     37.000000   3148.000000    647.000000   \n",
       "max     -114.310000     41.950000     52.000000  39320.000000   6445.000000   \n",
       "\n",
       "          población       hogares      ingresos         precio  \n",
       "count  20640.000000  20640.000000  20640.000000   20640.000000  \n",
       "mean    1425.476744    499.539680      3.870671  206855.816909  \n",
       "std     1132.462122    382.329753      1.899822  115395.615874  \n",
       "min        3.000000      1.000000      0.499900   14999.000000  \n",
       "25%      787.000000    280.000000      2.563400  119600.000000  \n",
       "50%     1166.000000    409.000000      3.534800  179700.000000  \n",
       "75%     1725.000000    605.000000      4.743250  264725.000000  \n",
       "max    35682.000000   6082.000000     15.000100  500001.000000  "
      ]
     },
     "execution_count": 8,
     "metadata": {},
     "output_type": "execute_result"
    }
   ],
   "source": [
    "v.describe() "
   ]
  },
  {
   "cell_type": "code",
   "execution_count": 9,
   "id": "a16a1019",
   "metadata": {
    "scrolled": true,
    "slideshow": {
     "slide_type": "slide"
    }
   },
   "outputs": [
    {
     "data": {
      "image/png": "[encoded data removed]",
      "text/plain": [
       "<Figure size 1440x720 with 9 Axes>"
      ]
     },
     "metadata": {
      "needs_background": "light"
     },
     "output_type": "display_data"
    }
   ],
   "source": [
    "import matplotlib.pyplot as plt\n",
    "\n",
    "v.hist(figsize = (20,10))\n",
    "\n",
    "plt.show() "
   ]
  },
  {
   "cell_type": "markdown",
   "id": "ff28400c",
   "metadata": {
    "slideshow": {
     "slide_type": "slide"
    }
   },
   "source": [
    "## Visualización de datos geográficos \n"
   ]
  },
  {
   "cell_type": "code",
   "execution_count": 10,
   "id": "b830cd5b",
   "metadata": {
    "slideshow": {
     "slide_type": "slide"
    }
   },
   "outputs": [
    {
     "data": {
      "image/png": "[encoded data removed]",
      "text/plain": [
       "<Figure size 432x288 with 1 Axes>"
      ]
     },
     "metadata": {
      "needs_background": "light"
     },
     "output_type": "display_data"
    }
   ],
   "source": [
    "v.plot(kind = 'scatter', x = 'longitud', y = 'latitud', alpha = 1)\n",
    "\n",
    "plt.show() "
   ]
  },
  {
   "cell_type": "code",
   "execution_count": 11,
   "id": "8903ff0e",
   "metadata": {
    "slideshow": {
     "slide_type": "slide"
    }
   },
   "outputs": [
    {
     "data": {
      "image/png": "[encoded data removed]",
      "text/plain": [
       "<Figure size 432x288 with 1 Axes>"
      ]
     },
     "metadata": {
      "needs_background": "light"
     },
     "output_type": "display_data"
    }
   ],
   "source": [
    "v.plot(kind = 'scatter', x = 'longitud', y = 'latitud', alpha = 0.1) \n",
    "\n",
    "plt.show() "
   ]
  },
  {
   "cell_type": "code",
   "execution_count": 14,
   "id": "42e66778",
   "metadata": {
    "slideshow": {
     "slide_type": "slide"
    }
   },
   "outputs": [
    {
     "data": {
      "image/png": "[encoded data removed]",
      "text/plain": [
       "<Figure size 864x576 with 2 Axes>"
      ]
     },
     "metadata": {
      "needs_background": "light"
     },
     "output_type": "display_data"
    }
   ],
   "source": [
    "v.plot(kind = 'scatter', x = 'longitud', y = 'latitud', alpha = 0.4, \\\n",
    "      s = v.población/100, label = 'Población', \\\n",
    "      c = 'precio', cmap = plt.get_cmap('jet'), colorbar = True, figsize = (12, 8))  \n",
    "\n",
    "# s de size o tamaño del punto. \n",
    "plt.savefig('california_4D.jpg')\n",
    "\n",
    "plt.show() "
   ]
  },
  {
   "cell_type": "markdown",
   "id": "4ab26c5b",
   "metadata": {
    "slideshow": {
     "slide_type": "slide"
    }
   },
   "source": [
    "# 3. Preparar los datos para los algoritmos de aprendizaje."
   ]
  },
  {
   "cell_type": "markdown",
   "id": "bbb8da33",
   "metadata": {
    "slideshow": {
     "slide_type": "slide"
    }
   },
   "source": [
    "## Hacer separación inicial de datos para entrenar y para testear."
   ]
  },
  {
   "cell_type": "code",
   "execution_count": 16,
   "id": "9fda418f",
   "metadata": {
    "slideshow": {
     "slide_type": "slide"
    }
   },
   "outputs": [],
   "source": [
    "import numpy as np \n",
    "np.random.seed(42) \n",
    "# establecer una semilla aleatoria para hacer reproducible la separación o muestreo aleatorio\n",
    "\n",
    "def dividir_entrenamiento_testeo(datos, porcentaje_testeo):\n",
    "    indices_reordenados = np.random.permutation(len(datos))\n",
    "    tamaño_conjunto_testeo = int(len(datos)*porcentaje_testeo)\n",
    "    indices_testeo = indices_reordenados[:tamaño_conjunto_testeo]\n",
    "    indices_entrenamiento = indices_reordenados[tamaño_conjunto_testeo:]\n",
    "    return datos.iloc[indices_entrenamiento], datos.iloc[indices_testeo]"
   ]
  },
  {
   "cell_type": "code",
   "execution_count": 17,
   "id": "11b1e642",
   "metadata": {
    "slideshow": {
     "slide_type": "slide"
    }
   },
   "outputs": [],
   "source": [
    "v_train, v_test = dividir_entrenamiento_testeo(v, 0.2)"
   ]
  },
  {
   "cell_type": "code",
   "execution_count": 18,
   "id": "50464f89",
   "metadata": {
    "slideshow": {
     "slide_type": "slide"
    }
   },
   "outputs": [
    {
     "data": {
      "text/plain": [
       "(16512, 4128)"
      ]
     },
     "execution_count": 18,
     "metadata": {},
     "output_type": "execute_result"
    }
   ],
   "source": [
    "len(v_train), len(v_test) "
   ]
  },
  {
   "cell_type": "code",
   "execution_count": 19,
   "id": "82dc8ce4",
   "metadata": {
    "slideshow": {
     "slide_type": "slide"
    }
   },
   "outputs": [
    {
     "data": {
      "text/plain": [
       "20640"
      ]
     },
     "execution_count": 19,
     "metadata": {},
     "output_type": "execute_result"
    }
   ],
   "source": [
    "len(v_train)+ len(v_test) "
   ]
  },
  {
   "cell_type": "code",
   "execution_count": 20,
   "id": "7e7f4948",
   "metadata": {
    "slideshow": {
     "slide_type": "slide"
    }
   },
   "outputs": [
    {
     "data": {
      "text/plain": [
       "4.0"
      ]
     },
     "execution_count": 20,
     "metadata": {},
     "output_type": "execute_result"
    }
   ],
   "source": [
    "len(v_train)/len(v_test) \n"
   ]
  },
  {
   "cell_type": "markdown",
   "id": "66afe329",
   "metadata": {
    "slideshow": {
     "slide_type": "slide"
    }
   },
   "source": [
    "# Separación del dataset en entrenamiento y testeo usando sklearn"
   ]
  },
  {
   "cell_type": "code",
   "execution_count": 22,
   "id": "f28d6016",
   "metadata": {
    "slideshow": {
     "slide_type": "slide"
    }
   },
   "outputs": [],
   "source": [
    "from sklearn.model_selection import train_test_split\n",
    "\n",
    "v_train, v_test = train_test_split(v, test_size = 0.2, random_state = 42)"
   ]
  },
  {
   "cell_type": "markdown",
   "id": "59f93928",
   "metadata": {
    "slideshow": {
     "slide_type": "slide"
    }
   },
   "source": [
    "De ahora en adelante se seguirá es procesando a los datos de entrenamiento"
   ]
  },
  {
   "cell_type": "code",
   "execution_count": 23,
   "id": "e476af99",
   "metadata": {
    "slideshow": {
     "slide_type": "slide"
    }
   },
   "outputs": [],
   "source": [
    "v = v_train "
   ]
  },
  {
   "cell_type": "markdown",
   "id": "f45838f6",
   "metadata": {
    "slideshow": {
     "slide_type": "slide"
    }
   },
   "source": [
    "## Limpiar datos y llenar datos faltantes."
   ]
  },
  {
   "cell_type": "code",
   "execution_count": 24,
   "id": "12d1f346",
   "metadata": {
    "slideshow": {
     "slide_type": "slide"
    }
   },
   "outputs": [],
   "source": [
    "mediana  = v.dormitorios.median() "
   ]
  },
  {
   "cell_type": "code",
   "execution_count": 25,
   "id": "0c121564",
   "metadata": {
    "slideshow": {
     "slide_type": "slide"
    }
   },
   "outputs": [
    {
     "data": {
      "text/plain": [
       "437.0"
      ]
     },
     "execution_count": 25,
     "metadata": {},
     "output_type": "execute_result"
    }
   ],
   "source": [
    "mediana "
   ]
  },
  {
   "cell_type": "code",
   "execution_count": 26,
   "id": "37b17ed2",
   "metadata": {
    "slideshow": {
     "slide_type": "slide"
    }
   },
   "outputs": [
    {
     "data": {
      "text/plain": [
       "14196     627.0\n",
       "8267      787.0\n",
       "17445     331.0\n",
       "14265     367.0\n",
       "2271      431.0\n",
       "          ...  \n",
       "11284     201.0\n",
       "11964     570.0\n",
       "5390      569.0\n",
       "860       597.0\n",
       "15795    1315.0\n",
       "Name: dormitorios, Length: 16512, dtype: float64"
      ]
     },
     "execution_count": 26,
     "metadata": {},
     "output_type": "execute_result"
    }
   ],
   "source": [
    "v.dormitorios.fillna(mediana)"
   ]
  },
  {
   "cell_type": "code",
   "execution_count": 27,
   "id": "9fd3e891",
   "metadata": {
    "slideshow": {
     "slide_type": "slide"
    }
   },
   "outputs": [
    {
     "data": {
      "text/plain": [
       "16512"
      ]
     },
     "execution_count": 27,
     "metadata": {},
     "output_type": "execute_result"
    }
   ],
   "source": [
    "len(pd.DataFrame(v.dormitorios.fillna(mediana)))"
   ]
  },
  {
   "cell_type": "markdown",
   "id": "1d194e06",
   "metadata": {
    "slideshow": {
     "slide_type": "slide"
    }
   },
   "source": [
    "# Imputación de datos faltantes"
   ]
  },
  {
   "cell_type": "code",
   "execution_count": 28,
   "id": "35cedf25",
   "metadata": {
    "slideshow": {
     "slide_type": "slide"
    }
   },
   "outputs": [],
   "source": [
    "from sklearn.impute import SimpleImputer"
   ]
  },
  {
   "cell_type": "code",
   "execution_count": 29,
   "id": "1cdbd3bc",
   "metadata": {
    "slideshow": {
     "slide_type": "slide"
    }
   },
   "outputs": [],
   "source": [
    "imputado = SimpleImputer(strategy = 'median') "
   ]
  },
  {
   "cell_type": "code",
   "execution_count": 30,
   "id": "615edebb",
   "metadata": {
    "slideshow": {
     "slide_type": "slide"
    }
   },
   "outputs": [],
   "source": [
    "v_num = v.drop(['proximidad'], axis = 1)"
   ]
  },
  {
   "cell_type": "code",
   "execution_count": 31,
   "id": "530c36b6",
   "metadata": {
    "slideshow": {
     "slide_type": "slide"
    }
   },
   "outputs": [
    {
     "data": {
      "text/plain": [
       "SimpleImputer(strategy='median')"
      ]
     },
     "execution_count": 31,
     "metadata": {},
     "output_type": "execute_result"
    }
   ],
   "source": [
    "imputado.fit(v_num)"
   ]
  },
  {
   "cell_type": "code",
   "execution_count": 32,
   "id": "4f2ba175",
   "metadata": {
    "slideshow": {
     "slide_type": "slide"
    }
   },
   "outputs": [],
   "source": [
    "X = imputado.fit_transform(v_num) "
   ]
  },
  {
   "cell_type": "code",
   "execution_count": 33,
   "id": "1ffe62e8",
   "metadata": {
    "slideshow": {
     "slide_type": "slide"
    }
   },
   "outputs": [],
   "source": [
    "v_num_imputado = pd.DataFrame(X,\\\n",
    "                     columns = v_num.columns, \\\n",
    "                     index = v_num.index) "
   ]
  },
  {
   "cell_type": "code",
   "execution_count": null,
   "id": "a2e0b51a",
   "metadata": {
    "slideshow": {
     "slide_type": "slide"
    }
   },
   "outputs": [],
   "source": [
    "v_num_imputado.info() "
   ]
  },
  {
   "cell_type": "markdown",
   "id": "1406ff73",
   "metadata": {
    "slideshow": {
     "slide_type": "slide"
    }
   },
   "source": [
    "## Explorar correlaciones lineales con la variable objetivo."
   ]
  },
  {
   "cell_type": "markdown",
   "id": "e2132753",
   "metadata": {
    "slideshow": {
     "slide_type": "slide"
    }
   },
   "source": [
    "<img src = 'https://upload.wikimedia.org/wikipedia/commons/thumb/d/d4/Correlation_examples2.svg/759px-Correlation_examples2.svg.png'>"
   ]
  },
  {
   "cell_type": "code",
   "execution_count": 34,
   "id": "a182f525",
   "metadata": {
    "slideshow": {
     "slide_type": "slide"
    }
   },
   "outputs": [
    {
     "data": {
      "text/html": [
       "<div>\n",
       "<style scoped>\n",
       "    .dataframe tbody tr th:only-of-type {\n",
       "        vertical-align: middle;\n",
       "    }\n",
       "\n",
       "    .dataframe tbody tr th {\n",
       "        vertical-align: top;\n",
       "    }\n",
       "\n",
       "    .dataframe thead th {\n",
       "        text-align: right;\n",
       "    }\n",
       "</style>\n",
       "<table border=\"1\" class=\"dataframe\">\n",
       "  <thead>\n",
       "    <tr style=\"text-align: right;\">\n",
       "      <th></th>\n",
       "      <th>longitud</th>\n",
       "      <th>latitud</th>\n",
       "      <th>antiguedad</th>\n",
       "      <th>habitaciones</th>\n",
       "      <th>dormitorios</th>\n",
       "      <th>población</th>\n",
       "      <th>hogares</th>\n",
       "      <th>ingresos</th>\n",
       "      <th>precio</th>\n",
       "    </tr>\n",
       "  </thead>\n",
       "  <tbody>\n",
       "    <tr>\n",
       "      <th>longitud</th>\n",
       "      <td>1.000000</td>\n",
       "      <td>-0.924485</td>\n",
       "      <td>-0.101818</td>\n",
       "      <td>0.038676</td>\n",
       "      <td>0.063064</td>\n",
       "      <td>0.094276</td>\n",
       "      <td>0.049306</td>\n",
       "      <td>-0.017040</td>\n",
       "      <td>-0.046349</td>\n",
       "    </tr>\n",
       "    <tr>\n",
       "      <th>latitud</th>\n",
       "      <td>-0.924485</td>\n",
       "      <td>1.000000</td>\n",
       "      <td>0.005296</td>\n",
       "      <td>-0.029224</td>\n",
       "      <td>-0.059998</td>\n",
       "      <td>-0.102499</td>\n",
       "      <td>-0.064061</td>\n",
       "      <td>-0.076571</td>\n",
       "      <td>-0.142983</td>\n",
       "    </tr>\n",
       "    <tr>\n",
       "      <th>antiguedad</th>\n",
       "      <td>-0.101818</td>\n",
       "      <td>0.005296</td>\n",
       "      <td>1.000000</td>\n",
       "      <td>-0.360922</td>\n",
       "      <td>-0.320624</td>\n",
       "      <td>-0.292283</td>\n",
       "      <td>-0.302796</td>\n",
       "      <td>-0.121711</td>\n",
       "      <td>0.103706</td>\n",
       "    </tr>\n",
       "    <tr>\n",
       "      <th>habitaciones</th>\n",
       "      <td>0.038676</td>\n",
       "      <td>-0.029224</td>\n",
       "      <td>-0.360922</td>\n",
       "      <td>1.000000</td>\n",
       "      <td>0.930489</td>\n",
       "      <td>0.857936</td>\n",
       "      <td>0.920482</td>\n",
       "      <td>0.198268</td>\n",
       "      <td>0.133989</td>\n",
       "    </tr>\n",
       "    <tr>\n",
       "      <th>dormitorios</th>\n",
       "      <td>0.063064</td>\n",
       "      <td>-0.059998</td>\n",
       "      <td>-0.320624</td>\n",
       "      <td>0.930489</td>\n",
       "      <td>1.000000</td>\n",
       "      <td>0.878932</td>\n",
       "      <td>0.980255</td>\n",
       "      <td>-0.009141</td>\n",
       "      <td>0.047980</td>\n",
       "    </tr>\n",
       "    <tr>\n",
       "      <th>población</th>\n",
       "      <td>0.094276</td>\n",
       "      <td>-0.102499</td>\n",
       "      <td>-0.292283</td>\n",
       "      <td>0.857936</td>\n",
       "      <td>0.878932</td>\n",
       "      <td>1.000000</td>\n",
       "      <td>0.907452</td>\n",
       "      <td>0.004122</td>\n",
       "      <td>-0.026032</td>\n",
       "    </tr>\n",
       "    <tr>\n",
       "      <th>hogares</th>\n",
       "      <td>0.049306</td>\n",
       "      <td>-0.064061</td>\n",
       "      <td>-0.302796</td>\n",
       "      <td>0.920482</td>\n",
       "      <td>0.980255</td>\n",
       "      <td>0.907452</td>\n",
       "      <td>1.000000</td>\n",
       "      <td>0.012776</td>\n",
       "      <td>0.063714</td>\n",
       "    </tr>\n",
       "    <tr>\n",
       "      <th>ingresos</th>\n",
       "      <td>-0.017040</td>\n",
       "      <td>-0.076571</td>\n",
       "      <td>-0.121711</td>\n",
       "      <td>0.198268</td>\n",
       "      <td>-0.009141</td>\n",
       "      <td>0.004122</td>\n",
       "      <td>0.012776</td>\n",
       "      <td>1.000000</td>\n",
       "      <td>0.690647</td>\n",
       "    </tr>\n",
       "    <tr>\n",
       "      <th>precio</th>\n",
       "      <td>-0.046349</td>\n",
       "      <td>-0.142983</td>\n",
       "      <td>0.103706</td>\n",
       "      <td>0.133989</td>\n",
       "      <td>0.047980</td>\n",
       "      <td>-0.026032</td>\n",
       "      <td>0.063714</td>\n",
       "      <td>0.690647</td>\n",
       "      <td>1.000000</td>\n",
       "    </tr>\n",
       "  </tbody>\n",
       "</table>\n",
       "</div>"
      ],
      "text/plain": [
       "              longitud   latitud  antiguedad  habitaciones  dormitorios  \\\n",
       "longitud      1.000000 -0.924485   -0.101818      0.038676     0.063064   \n",
       "latitud      -0.924485  1.000000    0.005296     -0.029224    -0.059998   \n",
       "antiguedad   -0.101818  0.005296    1.000000     -0.360922    -0.320624   \n",
       "habitaciones  0.038676 -0.029224   -0.360922      1.000000     0.930489   \n",
       "dormitorios   0.063064 -0.059998   -0.320624      0.930489     1.000000   \n",
       "población     0.094276 -0.102499   -0.292283      0.857936     0.878932   \n",
       "hogares       0.049306 -0.064061   -0.302796      0.920482     0.980255   \n",
       "ingresos     -0.017040 -0.076571   -0.121711      0.198268    -0.009141   \n",
       "precio       -0.046349 -0.142983    0.103706      0.133989     0.047980   \n",
       "\n",
       "              población   hogares  ingresos    precio  \n",
       "longitud       0.094276  0.049306 -0.017040 -0.046349  \n",
       "latitud       -0.102499 -0.064061 -0.076571 -0.142983  \n",
       "antiguedad    -0.292283 -0.302796 -0.121711  0.103706  \n",
       "habitaciones   0.857936  0.920482  0.198268  0.133989  \n",
       "dormitorios    0.878932  0.980255 -0.009141  0.047980  \n",
       "población      1.000000  0.907452  0.004122 -0.026032  \n",
       "hogares        0.907452  1.000000  0.012776  0.063714  \n",
       "ingresos       0.004122  0.012776  1.000000  0.690647  \n",
       "precio        -0.026032  0.063714  0.690647  1.000000  "
      ]
     },
     "execution_count": 34,
     "metadata": {},
     "output_type": "execute_result"
    }
   ],
   "source": [
    "v.corr() "
   ]
  },
  {
   "cell_type": "code",
   "execution_count": 45,
   "id": "5780c1c6",
   "metadata": {
    "slideshow": {
     "slide_type": "slide"
    }
   },
   "outputs": [
    {
     "data": {
      "text/plain": [
       "precio          1.000000\n",
       "ingresos        0.690647\n",
       "habitaciones    0.133989\n",
       "antiguedad      0.103706\n",
       "hogares         0.063714\n",
       "dormitorios     0.047980\n",
       "población      -0.026032\n",
       "longitud       -0.046349\n",
       "latitud        -0.142983\n",
       "Name: precio, dtype: float64"
      ]
     },
     "execution_count": 45,
     "metadata": {},
     "output_type": "execute_result"
    }
   ],
   "source": [
    "v.corr().precio.sort_values(ascending = False) "
   ]
  },
  {
   "cell_type": "code",
   "execution_count": 46,
   "id": "112b9e6a",
   "metadata": {
    "slideshow": {
     "slide_type": "slide"
    }
   },
   "outputs": [],
   "source": [
    "from pandas.plotting import scatter_matrix "
   ]
  },
  {
   "cell_type": "markdown",
   "id": "5c37d47e",
   "metadata": {
    "slideshow": {
     "slide_type": "slide"
    }
   },
   "source": [
    "## Eliminar de ser necesario atributos que no sean de mucha utilidad. Ingeniería de atributos."
   ]
  },
  {
   "cell_type": "markdown",
   "id": "ad7799c5",
   "metadata": {
    "slideshow": {
     "slide_type": "slide"
    }
   },
   "source": [
    "# Experimentación con combinación de atributos "
   ]
  },
  {
   "cell_type": "markdown",
   "id": "d99efa00",
   "metadata": {
    "slideshow": {
     "slide_type": "slide"
    }
   },
   "source": [
    "Una última cosa que quizás desee hacer antes de preparar los datos para los algoritmos de Machine Learning es probar varias combinaciones de atributos."
   ]
  },
  {
   "cell_type": "markdown",
   "id": "11efbaf5",
   "metadata": {
    "slideshow": {
     "slide_type": "slide"
    }
   },
   "source": [
    "Por ejemplo, el número total de habitaciones en un distrito no es muy útil si no sabe cuántos hogares hay. Lo que realmente desea es el número de habitaciones por hogar. Del mismo modo, el número total de dormitorios por sí solo no es muy útil:\n",
    "probablemente quieras compararlo con el número de habitaciones."
   ]
  },
  {
   "cell_type": "markdown",
   "id": "3092ec09",
   "metadata": {
    "slideshow": {
     "slide_type": "slide"
    }
   },
   "source": [
    "Y la población por hogar también parece una combinación de atributos interesante para observar."
   ]
  },
  {
   "cell_type": "markdown",
   "id": "e743c1b9",
   "metadata": {
    "slideshow": {
     "slide_type": "slide"
    }
   },
   "source": [
    "Vamos a crear estos nuevos atributos:"
   ]
  },
  {
   "cell_type": "code",
   "execution_count": 52,
   "id": "8ad283be",
   "metadata": {
    "slideshow": {
     "slide_type": "slide"
    }
   },
   "outputs": [
    {
     "data": {
      "text/html": [
       "<div>\n",
       "<style scoped>\n",
       "    .dataframe tbody tr th:only-of-type {\n",
       "        vertical-align: middle;\n",
       "    }\n",
       "\n",
       "    .dataframe tbody tr th {\n",
       "        vertical-align: top;\n",
       "    }\n",
       "\n",
       "    .dataframe thead th {\n",
       "        text-align: right;\n",
       "    }\n",
       "</style>\n",
       "<table border=\"1\" class=\"dataframe\">\n",
       "  <thead>\n",
       "    <tr style=\"text-align: right;\">\n",
       "      <th></th>\n",
       "      <th>longitud</th>\n",
       "      <th>latitud</th>\n",
       "      <th>antiguedad</th>\n",
       "      <th>habitaciones</th>\n",
       "      <th>dormitorios</th>\n",
       "      <th>población</th>\n",
       "      <th>hogares</th>\n",
       "      <th>ingresos</th>\n",
       "      <th>proximidad</th>\n",
       "      <th>precio</th>\n",
       "      <th>habitaciones_por_hogar</th>\n",
       "    </tr>\n",
       "  </thead>\n",
       "  <tbody>\n",
       "    <tr>\n",
       "      <th>14196</th>\n",
       "      <td>-117.03</td>\n",
       "      <td>32.71</td>\n",
       "      <td>33.0</td>\n",
       "      <td>3126.0</td>\n",
       "      <td>627.0</td>\n",
       "      <td>2300.0</td>\n",
       "      <td>623.0</td>\n",
       "      <td>3.2596</td>\n",
       "      <td>NEAR OCEAN</td>\n",
       "      <td>103000.0</td>\n",
       "      <td>5.017657</td>\n",
       "    </tr>\n",
       "  </tbody>\n",
       "</table>\n",
       "</div>"
      ],
      "text/plain": [
       "       longitud  latitud  antiguedad  habitaciones  dormitorios  población  \\\n",
       "14196   -117.03    32.71        33.0        3126.0        627.0     2300.0   \n",
       "\n",
       "       hogares  ingresos  proximidad    precio  habitaciones_por_hogar  \n",
       "14196    623.0    3.2596  NEAR OCEAN  103000.0                5.017657  "
      ]
     },
     "execution_count": 52,
     "metadata": {},
     "output_type": "execute_result"
    }
   ],
   "source": [
    "v.head(1)"
   ]
  },
  {
   "cell_type": "code",
   "execution_count": 6,
   "id": "dc1c3815",
   "metadata": {
    "slideshow": {
     "slide_type": "slide"
    }
   },
   "outputs": [],
   "source": [
    "v[\"habitaciones_por_hogar\"] = v[\"habitaciones\"]/v[\"hogares\"]"
   ]
  },
  {
   "cell_type": "code",
   "execution_count": 5,
   "id": "7f208756",
   "metadata": {
    "slideshow": {
     "slide_type": "slide"
    }
   },
   "outputs": [],
   "source": [
    "v[\"población_por_hogar\"]=v[\"población\"]/v[\"hogares\"] "
   ]
  },
  {
   "cell_type": "code",
   "execution_count": 4,
   "id": "e7e63619",
   "metadata": {
    "slideshow": {
     "slide_type": "slide"
    }
   },
   "outputs": [],
   "source": [
    "v['dormitorios_por_habitacion'] = v.dormitorios/v.habitaciones"
   ]
  },
  {
   "cell_type": "code",
   "execution_count": 7,
   "id": "10cf9826",
   "metadata": {
    "slideshow": {
     "slide_type": "slide"
    }
   },
   "outputs": [
    {
     "data": {
      "text/plain": [
       "precio                        1.000000\n",
       "ingresos                      0.688075\n",
       "habitaciones_por_hogar        0.151948\n",
       "habitaciones                  0.134153\n",
       "antiguedad                    0.105623\n",
       "hogares                       0.065843\n",
       "dormitorios                   0.049686\n",
       "población_por_hogar          -0.023737\n",
       "población                    -0.024650\n",
       "longitud                     -0.045967\n",
       "latitud                      -0.144160\n",
       "dormitorios_por_habitacion   -0.255880\n",
       "Name: precio, dtype: float64"
      ]
     },
     "execution_count": 7,
     "metadata": {},
     "output_type": "execute_result"
    }
   ],
   "source": [
    "corr_matrix = v.corr()\n",
    "corr_matrix['precio'].sort_values(ascending=False)"
   ]
  },
  {
   "cell_type": "markdown",
   "id": "14667cba",
   "metadata": {
    "slideshow": {
     "slide_type": "slide"
    }
   },
   "source": [
    "# Manipulación de datos categóricos"
   ]
  },
  {
   "cell_type": "code",
   "execution_count": 68,
   "id": "6c161c5c",
   "metadata": {
    "slideshow": {
     "slide_type": "slide"
    }
   },
   "outputs": [],
   "source": [
    "v_cat = v[['proximidad']] \n",
    "# Recuerde que la clase OrdinalEncoder exige que el atributo categórico se entregue \n",
    "#en la forma de arreglo 2D"
   ]
  },
  {
   "cell_type": "code",
   "execution_count": 69,
   "id": "89daf34d",
   "metadata": {
    "slideshow": {
     "slide_type": "slide"
    }
   },
   "outputs": [
    {
     "data": {
      "text/plain": [
       "proximidad\n",
       "<1H OCEAN     7341\n",
       "INLAND        5227\n",
       "NEAR OCEAN    2086\n",
       "NEAR BAY      1854\n",
       "ISLAND           4\n",
       "dtype: int64"
      ]
     },
     "execution_count": 69,
     "metadata": {},
     "output_type": "execute_result"
    }
   ],
   "source": [
    "v_cat.value_counts()"
   ]
  },
  {
   "cell_type": "code",
   "execution_count": 65,
   "id": "098aaa03",
   "metadata": {
    "slideshow": {
     "slide_type": "slide"
    }
   },
   "outputs": [],
   "source": [
    "from sklearn.preprocessing  import OrdinalEncoder "
   ]
  },
  {
   "cell_type": "code",
   "execution_count": 66,
   "id": "c454c6d6",
   "metadata": {
    "slideshow": {
     "slide_type": "slide"
    }
   },
   "outputs": [],
   "source": [
    "ordinal_encoder = OrdinalEncoder()"
   ]
  },
  {
   "cell_type": "code",
   "execution_count": 67,
   "id": "072a7b20",
   "metadata": {
    "slideshow": {
     "slide_type": "slide"
    }
   },
   "outputs": [],
   "source": [
    "v_cat_codificado = ordinal_encoder.fit_transform(v_cat) "
   ]
  },
  {
   "cell_type": "code",
   "execution_count": 70,
   "id": "93727d51",
   "metadata": {
    "slideshow": {
     "slide_type": "slide"
    }
   },
   "outputs": [
    {
     "data": {
      "text/plain": [
       "array([[4.],\n",
       "       [4.],\n",
       "       [4.],\n",
       "       [4.],\n",
       "       [1.],\n",
       "       [0.],\n",
       "       [0.],\n",
       "       [3.],\n",
       "       [0.],\n",
       "       [0.]])"
      ]
     },
     "execution_count": 70,
     "metadata": {},
     "output_type": "execute_result"
    }
   ],
   "source": [
    "v_cat_codificado[:10] "
   ]
  },
  {
   "cell_type": "markdown",
   "id": "d83a1e0a",
   "metadata": {
    "slideshow": {
     "slide_type": "slide"
    }
   },
   "source": [
    "# Estandarizar los datos.\n",
    "   "
   ]
  },
  {
   "cell_type": "code",
   "execution_count": null,
   "id": "36f96b7c",
   "metadata": {
    "slideshow": {
     "slide_type": "slide"
    }
   },
   "outputs": [],
   "source": []
  }
 ],
 "metadata": {
  "celltoolbar": "Slideshow",
  "kernelspec": {
   "display_name": "Python 3 (ipykernel)",
   "language": "python",
   "name": "python3"
  },
  "language_info": {
   "codemirror_mode": {
    "name": "ipython",
    "version": 3
   },
   "file_extension": ".py",
   "mimetype": "text/x-python",
   "name": "python",
   "nbconvert_exporter": "python",
   "pygments_lexer": "ipython3",
   "version": "3.9.7"
  },
  "rise": {
   "enable_chalkboard": true,
   "theme": "sky",
   "transition": "zoom"
  }
 },
 "nbformat": 4,
 "nbformat_minor": 5
}
