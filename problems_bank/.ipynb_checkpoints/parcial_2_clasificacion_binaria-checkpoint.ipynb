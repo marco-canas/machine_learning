{
 "cells": [
  {
   "cell_type": "markdown",
   "id": "b1e818ba",
   "metadata": {
    "slideshow": {
     "slide_type": "slide"
    }
   },
   "source": [
    "<table align=\"left\">\n",
    "  <td>\n",
    "    <a href=\"https://colab.research.google.com/github/marco-canas/intro-Machine-Learning/blob/main/classes/class_26_multiclase/class_26_multiclase.ipynb\" target=\"_parent\"><img src=\"https://colab.research.google.com/assets/colab-badge.svg\" alt=\"Open In Colab\"/></a>\n",
    "  </td>\n",
    "</table> "
   ]
  },
  {
   "cell_type": "markdown",
   "id": "3509baa8",
   "metadata": {
    "slideshow": {
     "slide_type": "slide"
    }
   },
   "source": [
    "# Parcial 2 Clasificación binaria"
   ]
  },
  {
   "cell_type": "markdown",
   "id": "d029511f",
   "metadata": {
    "slideshow": {
     "slide_type": "slide"
    }
   },
   "source": [
    "1. Tome el dataset load_digits y constituya el arreglo de imágenes $X$ y el de etiquetas $y$ como arreglos de numpy de valores de tipo int64. "
   ]
  },
  {
   "cell_type": "markdown",
   "id": "6589ae52",
   "metadata": {
    "slideshow": {
     "slide_type": "slide"
    }
   },
   "source": [
    "2. Visualice con `imshow()` las 100 primeras imágenes en una cuadrícula de 10 por 10. "
   ]
  },
  {
   "cell_type": "markdown",
   "id": "de90c7ec",
   "metadata": {
    "slideshow": {
     "slide_type": "slide"
    }
   },
   "source": [
    "3. Divida el dataset en un subconjunto para entrenamiento y un conjunto de testeo y muestre con histogramas que este muestreo ha quedado de manera estratificada, es decir, las muestras quedaron de tal menera que cada digito en la muestre esta presente en la misma proporción que en el dataset total.. "
   ]
  },
  {
   "cell_type": "markdown",
   "id": "99d3f993",
   "metadata": {},
   "source": [
    "4. Escale los datos con utilizando la clase MaxMin o la clase StandardScaler. "
   ]
  },
  {
   "cell_type": "markdown",
   "id": "9a74d3a9",
   "metadata": {
    "slideshow": {
     "slide_type": "slide"
    }
   },
   "source": [
    "5. Instancie y entrene los modelos SGDClassifier y el RandomForestClassifier.   "
   ]
  },
  {
   "cell_type": "markdown",
   "id": "40e8af3a",
   "metadata": {
    "slideshow": {
     "slide_type": "slide"
    }
   },
   "source": [
    "6. Mida sus desempeños con la metodología de Validación cruzada y luego afine el modelo seleccionado con la metodología de Grilla de hiperparámetros. \n",
    "\n",
    "* Para el SGDClassifier utilice los pararámetros de `alpha` con valores $[10^{-1}, 10^{-2}]$, `learning_rate` con valores en la lista `[0.1,0.01, 0.001]` y `penalty` con valores en la lista `['l1', 'l2']`.\n",
    "\n",
    "* Para el RandomForestClassifier utilice los parametros `max_feature` con valores en la lista `[2,3,10,20, 30, 40, 50]`,  `max_deep` con lalores en la lista `[2,3]` y `n_estimators` con valores en la lista `[3,10,30,100]`."
   ]
  },
  {
   "cell_type": "markdown",
   "id": "a3ec291f",
   "metadata": {
    "slideshow": {
     "slide_type": "slide"
    }
   },
   "source": [
    "7. Verifique que el desempeño en el conjunto de testeo es cercano al determinado en el conunto de entrenamiento. "
   ]
  },
  {
   "cell_type": "code",
   "execution_count": null,
   "id": "14044927",
   "metadata": {},
   "outputs": [],
   "source": []
  }
 ],
 "metadata": {
  "celltoolbar": "Slideshow",
  "kernelspec": {
   "display_name": "Python 3 (ipykernel)",
   "language": "python",
   "name": "python3"
  },
  "language_info": {
   "codemirror_mode": {
    "name": "ipython",
    "version": 3
   },
   "file_extension": ".py",
   "mimetype": "text/x-python",
   "name": "python",
   "nbconvert_exporter": "python",
   "pygments_lexer": "ipython3",
   "version": "3.9.7"
  }
 },
 "nbformat": 4,
 "nbformat_minor": 5
}
