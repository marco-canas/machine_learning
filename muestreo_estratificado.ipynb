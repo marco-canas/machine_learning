{
 "cells": [
  {
   "cell_type": "code",
   "execution_count": 2,
   "id": "5cda7023",
   "metadata": {},
   "outputs": [],
   "source": [
    "import numpy as np \n",
    "import pandas as pd \n",
    "\n",
    "import matplotlib.pyplot as plt \n",
    "\n",
    "from sklearn.model_selection import StratifiedShuffleSplit "
   ]
  },
  {
   "cell_type": "code",
   "execution_count": 3,
   "id": "7ef81a08",
   "metadata": {},
   "outputs": [
    {
     "data": {
      "text/html": [
       "<div>\n",
       "<style scoped>\n",
       "    .dataframe tbody tr th:only-of-type {\n",
       "        vertical-align: middle;\n",
       "    }\n",
       "\n",
       "    .dataframe tbody tr th {\n",
       "        vertical-align: top;\n",
       "    }\n",
       "\n",
       "    .dataframe thead th {\n",
       "        text-align: right;\n",
       "    }\n",
       "</style>\n",
       "<table border=\"1\" class=\"dataframe\">\n",
       "  <thead>\n",
       "    <tr style=\"text-align: right;\">\n",
       "      <th></th>\n",
       "      <th>longitud</th>\n",
       "      <th>latitud</th>\n",
       "      <th>antiguedad</th>\n",
       "      <th>habitaciones</th>\n",
       "      <th>dormitorios</th>\n",
       "      <th>población</th>\n",
       "      <th>hogares</th>\n",
       "      <th>ingresos</th>\n",
       "      <th>proximidad</th>\n",
       "      <th>precio</th>\n",
       "    </tr>\n",
       "  </thead>\n",
       "  <tbody>\n",
       "    <tr>\n",
       "      <th>0</th>\n",
       "      <td>-122.23</td>\n",
       "      <td>37.88</td>\n",
       "      <td>41.0</td>\n",
       "      <td>880.0</td>\n",
       "      <td>129.0</td>\n",
       "      <td>322.0</td>\n",
       "      <td>126.0</td>\n",
       "      <td>8.3252</td>\n",
       "      <td>NEAR BAY</td>\n",
       "      <td>452600.0</td>\n",
       "    </tr>\n",
       "    <tr>\n",
       "      <th>1</th>\n",
       "      <td>-122.22</td>\n",
       "      <td>37.86</td>\n",
       "      <td>21.0</td>\n",
       "      <td>7099.0</td>\n",
       "      <td>1106.0</td>\n",
       "      <td>2401.0</td>\n",
       "      <td>1138.0</td>\n",
       "      <td>8.3014</td>\n",
       "      <td>NEAR BAY</td>\n",
       "      <td>358500.0</td>\n",
       "    </tr>\n",
       "    <tr>\n",
       "      <th>2</th>\n",
       "      <td>-122.24</td>\n",
       "      <td>37.85</td>\n",
       "      <td>52.0</td>\n",
       "      <td>1467.0</td>\n",
       "      <td>190.0</td>\n",
       "      <td>496.0</td>\n",
       "      <td>177.0</td>\n",
       "      <td>7.2574</td>\n",
       "      <td>NEAR BAY</td>\n",
       "      <td>352100.0</td>\n",
       "    </tr>\n",
       "    <tr>\n",
       "      <th>3</th>\n",
       "      <td>-122.25</td>\n",
       "      <td>37.85</td>\n",
       "      <td>52.0</td>\n",
       "      <td>1274.0</td>\n",
       "      <td>235.0</td>\n",
       "      <td>558.0</td>\n",
       "      <td>219.0</td>\n",
       "      <td>5.6431</td>\n",
       "      <td>NEAR BAY</td>\n",
       "      <td>341300.0</td>\n",
       "    </tr>\n",
       "    <tr>\n",
       "      <th>4</th>\n",
       "      <td>-122.25</td>\n",
       "      <td>37.85</td>\n",
       "      <td>52.0</td>\n",
       "      <td>1627.0</td>\n",
       "      <td>280.0</td>\n",
       "      <td>565.0</td>\n",
       "      <td>259.0</td>\n",
       "      <td>3.8462</td>\n",
       "      <td>NEAR BAY</td>\n",
       "      <td>342200.0</td>\n",
       "    </tr>\n",
       "  </tbody>\n",
       "</table>\n",
       "</div>"
      ],
      "text/plain": [
       "   longitud  latitud  antiguedad  habitaciones  dormitorios  población  \\\n",
       "0   -122.23    37.88        41.0         880.0        129.0      322.0   \n",
       "1   -122.22    37.86        21.0        7099.0       1106.0     2401.0   \n",
       "2   -122.24    37.85        52.0        1467.0        190.0      496.0   \n",
       "3   -122.25    37.85        52.0        1274.0        235.0      558.0   \n",
       "4   -122.25    37.85        52.0        1627.0        280.0      565.0   \n",
       "\n",
       "   hogares  ingresos proximidad    precio  \n",
       "0    126.0    8.3252   NEAR BAY  452600.0  \n",
       "1   1138.0    8.3014   NEAR BAY  358500.0  \n",
       "2    177.0    7.2574   NEAR BAY  352100.0  \n",
       "3    219.0    5.6431   NEAR BAY  341300.0  \n",
       "4    259.0    3.8462   NEAR BAY  342200.0  "
      ]
     },
     "execution_count": 3,
     "metadata": {},
     "output_type": "execute_result"
    }
   ],
   "source": [
    "v = pd.read_csv('vivienda.csv') \n",
    "v.head() "
   ]
  },
  {
   "cell_type": "code",
   "execution_count": 4,
   "id": "47812365",
   "metadata": {},
   "outputs": [
    {
     "name": "stdout",
     "output_type": "stream",
     "text": [
      "<class 'pandas.core.frame.DataFrame'>\n",
      "RangeIndex: 20640 entries, 0 to 20639\n",
      "Data columns (total 10 columns):\n",
      " #   Column        Non-Null Count  Dtype  \n",
      "---  ------        --------------  -----  \n",
      " 0   longitud      20640 non-null  float64\n",
      " 1   latitud       20640 non-null  float64\n",
      " 2   antiguedad    20640 non-null  float64\n",
      " 3   habitaciones  20640 non-null  float64\n",
      " 4   dormitorios   20433 non-null  float64\n",
      " 5   población     20640 non-null  float64\n",
      " 6   hogares       20640 non-null  float64\n",
      " 7   ingresos      20640 non-null  float64\n",
      " 8   proximidad    20640 non-null  object \n",
      " 9   precio        20640 non-null  float64\n",
      "dtypes: float64(9), object(1)\n",
      "memory usage: 1.6+ MB\n"
     ]
    }
   ],
   "source": [
    "v.info() "
   ]
  },
  {
   "cell_type": "code",
   "execution_count": 5,
   "id": "36b51b04",
   "metadata": {},
   "outputs": [],
   "source": [
    "v['ingresos_cat'] = pd.cut(v.ingresos, bins = [0,1.5, 3.0, 4.5, 6.0,np.inf], \\\n",
    "                          labels = [1,2,3,4,5])"
   ]
  },
  {
   "cell_type": "code",
   "execution_count": 6,
   "id": "18ed9543",
   "metadata": {},
   "outputs": [
    {
     "data": {
      "text/html": [
       "<div>\n",
       "<style scoped>\n",
       "    .dataframe tbody tr th:only-of-type {\n",
       "        vertical-align: middle;\n",
       "    }\n",
       "\n",
       "    .dataframe tbody tr th {\n",
       "        vertical-align: top;\n",
       "    }\n",
       "\n",
       "    .dataframe thead th {\n",
       "        text-align: right;\n",
       "    }\n",
       "</style>\n",
       "<table border=\"1\" class=\"dataframe\">\n",
       "  <thead>\n",
       "    <tr style=\"text-align: right;\">\n",
       "      <th></th>\n",
       "      <th>longitud</th>\n",
       "      <th>latitud</th>\n",
       "      <th>antiguedad</th>\n",
       "      <th>habitaciones</th>\n",
       "      <th>dormitorios</th>\n",
       "      <th>población</th>\n",
       "      <th>hogares</th>\n",
       "      <th>ingresos</th>\n",
       "      <th>proximidad</th>\n",
       "      <th>precio</th>\n",
       "      <th>ingresos_cat</th>\n",
       "    </tr>\n",
       "  </thead>\n",
       "  <tbody>\n",
       "    <tr>\n",
       "      <th>0</th>\n",
       "      <td>-122.23</td>\n",
       "      <td>37.88</td>\n",
       "      <td>41.0</td>\n",
       "      <td>880.0</td>\n",
       "      <td>129.0</td>\n",
       "      <td>322.0</td>\n",
       "      <td>126.0</td>\n",
       "      <td>8.3252</td>\n",
       "      <td>NEAR BAY</td>\n",
       "      <td>452600.0</td>\n",
       "      <td>5</td>\n",
       "    </tr>\n",
       "    <tr>\n",
       "      <th>1</th>\n",
       "      <td>-122.22</td>\n",
       "      <td>37.86</td>\n",
       "      <td>21.0</td>\n",
       "      <td>7099.0</td>\n",
       "      <td>1106.0</td>\n",
       "      <td>2401.0</td>\n",
       "      <td>1138.0</td>\n",
       "      <td>8.3014</td>\n",
       "      <td>NEAR BAY</td>\n",
       "      <td>358500.0</td>\n",
       "      <td>5</td>\n",
       "    </tr>\n",
       "    <tr>\n",
       "      <th>2</th>\n",
       "      <td>-122.24</td>\n",
       "      <td>37.85</td>\n",
       "      <td>52.0</td>\n",
       "      <td>1467.0</td>\n",
       "      <td>190.0</td>\n",
       "      <td>496.0</td>\n",
       "      <td>177.0</td>\n",
       "      <td>7.2574</td>\n",
       "      <td>NEAR BAY</td>\n",
       "      <td>352100.0</td>\n",
       "      <td>5</td>\n",
       "    </tr>\n",
       "    <tr>\n",
       "      <th>3</th>\n",
       "      <td>-122.25</td>\n",
       "      <td>37.85</td>\n",
       "      <td>52.0</td>\n",
       "      <td>1274.0</td>\n",
       "      <td>235.0</td>\n",
       "      <td>558.0</td>\n",
       "      <td>219.0</td>\n",
       "      <td>5.6431</td>\n",
       "      <td>NEAR BAY</td>\n",
       "      <td>341300.0</td>\n",
       "      <td>4</td>\n",
       "    </tr>\n",
       "    <tr>\n",
       "      <th>4</th>\n",
       "      <td>-122.25</td>\n",
       "      <td>37.85</td>\n",
       "      <td>52.0</td>\n",
       "      <td>1627.0</td>\n",
       "      <td>280.0</td>\n",
       "      <td>565.0</td>\n",
       "      <td>259.0</td>\n",
       "      <td>3.8462</td>\n",
       "      <td>NEAR BAY</td>\n",
       "      <td>342200.0</td>\n",
       "      <td>3</td>\n",
       "    </tr>\n",
       "  </tbody>\n",
       "</table>\n",
       "</div>"
      ],
      "text/plain": [
       "   longitud  latitud  antiguedad  habitaciones  dormitorios  población  \\\n",
       "0   -122.23    37.88        41.0         880.0        129.0      322.0   \n",
       "1   -122.22    37.86        21.0        7099.0       1106.0     2401.0   \n",
       "2   -122.24    37.85        52.0        1467.0        190.0      496.0   \n",
       "3   -122.25    37.85        52.0        1274.0        235.0      558.0   \n",
       "4   -122.25    37.85        52.0        1627.0        280.0      565.0   \n",
       "\n",
       "   hogares  ingresos proximidad    precio ingresos_cat  \n",
       "0    126.0    8.3252   NEAR BAY  452600.0            5  \n",
       "1   1138.0    8.3014   NEAR BAY  358500.0            5  \n",
       "2    177.0    7.2574   NEAR BAY  352100.0            5  \n",
       "3    219.0    5.6431   NEAR BAY  341300.0            4  \n",
       "4    259.0    3.8462   NEAR BAY  342200.0            3  "
      ]
     },
     "execution_count": 6,
     "metadata": {},
     "output_type": "execute_result"
    }
   ],
   "source": [
    "v.head() "
   ]
  },
  {
   "cell_type": "code",
   "execution_count": 8,
   "id": "b786373b",
   "metadata": {},
   "outputs": [
    {
     "data": {
      "text/plain": [
       "3    7236\n",
       "2    6581\n",
       "4    3639\n",
       "5    2362\n",
       "1     822\n",
       "Name: ingresos_cat, dtype: int64"
      ]
     },
     "execution_count": 8,
     "metadata": {},
     "output_type": "execute_result"
    }
   ],
   "source": [
    "v.ingresos_cat.value_counts() "
   ]
  },
  {
   "cell_type": "code",
   "execution_count": 9,
   "id": "cd3916a1",
   "metadata": {},
   "outputs": [],
   "source": [
    "sss = StratifiedShuffleSplit(n_splits = 1, random_state = 513) "
   ]
  },
  {
   "cell_type": "code",
   "execution_count": 10,
   "id": "f28d2e1a",
   "metadata": {},
   "outputs": [],
   "source": [
    "for train_index, test_index in sss.split(v, v.ingresos_cat):\n",
    "    v_train, v_test = v.loc[train_index], v.loc[test_index]"
   ]
  },
  {
   "cell_type": "code",
   "execution_count": 11,
   "id": "7cfb25c2",
   "metadata": {},
   "outputs": [
    {
     "data": {
      "text/plain": [
       "3    0.350581\n",
       "2    0.318847\n",
       "4    0.176308\n",
       "5    0.114438\n",
       "1    0.039826\n",
       "Name: ingresos_cat, dtype: float64"
      ]
     },
     "execution_count": 11,
     "metadata": {},
     "output_type": "execute_result"
    }
   ],
   "source": [
    "v.ingresos_cat.value_counts()/len(v) "
   ]
  },
  {
   "cell_type": "code",
   "execution_count": 12,
   "id": "6d099d1d",
   "metadata": {},
   "outputs": [
    {
     "data": {
      "text/plain": [
       "3    0.315504\n",
       "2    0.286967\n",
       "4    0.158672\n",
       "5    0.103004\n",
       "1    0.035853\n",
       "Name: ingresos_cat, dtype: float64"
      ]
     },
     "execution_count": 12,
     "metadata": {},
     "output_type": "execute_result"
    }
   ],
   "source": [
    "v_train.ingresos_cat.value_counts()/len(v) "
   ]
  },
  {
   "cell_type": "code",
   "execution_count": 13,
   "id": "11eb9009",
   "metadata": {},
   "outputs": [
    {
     "data": {
      "text/plain": [
       "3    0.035078\n",
       "2    0.031880\n",
       "4    0.017636\n",
       "5    0.011434\n",
       "1    0.003973\n",
       "Name: ingresos_cat, dtype: float64"
      ]
     },
     "execution_count": 13,
     "metadata": {},
     "output_type": "execute_result"
    }
   ],
   "source": [
    "v_test.ingresos_cat.value_counts()/len(v) "
   ]
  },
  {
   "cell_type": "code",
   "execution_count": 14,
   "id": "cb25f76b",
   "metadata": {},
   "outputs": [
    {
     "data": {
      "image/png": "[encoded data removed]",
      "text/plain": [
       "<Figure size 1440x576 with 3 Axes>"
      ]
     },
     "metadata": {
      "needs_background": "light"
     },
     "output_type": "display_data"
    }
   ],
   "source": [
    "fig, ax = plt.subplots(1,3, figsize = (20,8))\n",
    "\n",
    "ax[0].hist(v.ingresos_cat) \n",
    "ax[1].hist(v_train.ingresos_cat) \n",
    "ax[2].hist(v_test.ingresos_cat) \n",
    "\n",
    "plt.show() "
   ]
  },
  {
   "cell_type": "code",
   "execution_count": null,
   "id": "bfc56761",
   "metadata": {},
   "outputs": [],
   "source": []
  }
 ],
 "metadata": {
  "kernelspec": {
   "display_name": "Python 3 (ipykernel)",
   "language": "python",
   "name": "python3"
  },
  "language_info": {
   "codemirror_mode": {
    "name": "ipython",
    "version": 3
   },
   "file_extension": ".py",
   "mimetype": "text/x-python",
   "name": "python",
   "nbconvert_exporter": "python",
   "pygments_lexer": "ipython3",
   "version": "3.9.7"
  }
 },
 "nbformat": 4,
 "nbformat_minor": 5
}
