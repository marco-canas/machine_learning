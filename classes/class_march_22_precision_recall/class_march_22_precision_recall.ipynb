{
 "cells": [
  {
   "cell_type": "markdown",
   "id": "9df4df13",
   "metadata": {
    "slideshow": {
     "slide_type": "slide"
    }
   },
   "source": [
    "<table align=\"left\">\n",
    "  <td>\n",
    "    <a href=\"https://colab.research.google.com/github/marco-canas/machine_learning/blob/main/classes/class_march_17/clase_march_17_clasificacion_multietiqueta.ipynb\" target=\"_parent\"><img src=\"https://colab.research.google.com/assets/colab-badge.svg\" alt=\"Open In Colab\"/></a>\n",
    "  </td>\n",
    "</table> "
   ]
  },
  {
   "cell_type": "markdown",
   "id": "65f37c1d",
   "metadata": {
    "slideshow": {
     "slide_type": "slide"
    }
   },
   "source": [
    "# Class del 22 de marzo Precision and recall"
   ]
  },
  {
   "cell_type": "markdown",
   "id": "86bce79f",
   "metadata": {
    "slideshow": {
     "slide_type": "slide"
    }
   },
   "source": [
    "## Intercambio de precisión/recuperación"
   ]
  },
  {
   "cell_type": "markdown",
   "id": "29bd3829",
   "metadata": {
    "slideshow": {
     "slide_type": "slide"
    }
   },
   "source": [
    "Para comprender esta compensación, veamos cómo `SGDClassifier` toma sus decisiones de clasificación."
   ]
  },
  {
   "cell_type": "markdown",
   "id": "0d148716",
   "metadata": {
    "slideshow": {
     "slide_type": "slide"
    }
   },
   "source": [
    "Para cada instancia, calcula una puntuación basada en una función de decisión."
   ]
  },
  {
   "cell_type": "markdown",
   "id": "00fa2efe",
   "metadata": {
    "slideshow": {
     "slide_type": "slide"
    }
   },
   "source": [
    "Si esa puntuación es mayor que un umbral, asigna la instancia a la clase positiva; de lo contrario, lo asigna a la clase negativa."
   ]
  },
  {
   "cell_type": "markdown",
   "id": "47963dff",
   "metadata": {
    "slideshow": {
     "slide_type": "slide"
    }
   },
   "source": [
    "La siguiente figura muestra algunos dígitos ubicados desde la puntuación más baja a la izquierda hasta la puntuación más alta a la derecha."
   ]
  },
  {
   "cell_type": "markdown",
   "id": "2a08a6d1",
   "metadata": {
    "slideshow": {
     "slide_type": "slide"
    }
   },
   "source": [
    "<img src = 'https://github.com/marco-canas/taca/blob/main/ref/geron/part_1/chap_3/1_MNIST/figura_3_3_clasificacion_binaria_mnist.jpg?raw=true'>"
   ]
  },
  {
   "cell_type": "markdown",
   "id": "de7cb644",
   "metadata": {
    "slideshow": {
     "slide_type": "slide"
    }
   },
   "source": [
    "Supongamos que el umbral de decisión se coloca en la flecha central (entre los dos 5): encontrará 4 verdaderos positivos (5 reales) a la derecha de ese umbral y 1 falso positivo (en realidad, un 6)."
   ]
  },
  {
   "cell_type": "markdown",
   "id": "16057d7d",
   "metadata": {
    "slideshow": {
     "slide_type": "slide"
    }
   },
   "source": [
    "Por tanto, con ese umbral, la precisión es del 80% (4 sobre 5)."
   ]
  },
  {
   "cell_type": "markdown",
   "id": "04a89f96",
   "metadata": {
    "slideshow": {
     "slide_type": "slide"
    }
   },
   "source": [
    "Pero de los 6 cincos reales, el clasificador solo detecta 4, por lo que la recuperación es del $67 \\%$ (4 de 6)."
   ]
  },
  {
   "cell_type": "markdown",
   "id": "bd5e0075",
   "metadata": {
    "slideshow": {
     "slide_type": "slide"
    }
   },
   "source": [
    "Si subes el umbral (muévelo hacia la flecha de la derecha), el falso positivo (el 6) se convierte en un verdadero negativo, aumentando así la precisión (hasta el 100% en este caso), pero un verdadero positivo se convierte en un falso negativo , disminuyendo el recuerdo hasta un $50\\%$."
   ]
  },
  {
   "cell_type": "markdown",
   "id": "482b4370",
   "metadata": {
    "slideshow": {
     "slide_type": "slide"
    }
   },
   "source": [
    "Por el contrario, bajar el umbral aumenta la recuperación y reduce la precisión."
   ]
  },
  {
   "cell_type": "markdown",
   "id": "5fd27a7a",
   "metadata": {
    "slideshow": {
     "slide_type": "slide"
    }
   },
   "source": [
    "Scikit-Learn no le permite establecer el umbral directamente, pero le da acceso a los puntajes de decisión que utiliza para hacer predicciones. "
   ]
  },
  {
   "cell_type": "markdown",
   "id": "258c3292",
   "metadata": {
    "slideshow": {
     "slide_type": "slide"
    }
   },
   "source": [
    "En lugar de llamar al método `predict()` del clasificador, puede llamar a su método `decision_function()`, que devuelve un puntaje para cada instancia, y luego usar cualquier umbral que desee para hacer predicciones basadas en esos puntajes:"
   ]
  },
  {
   "cell_type": "code",
   "execution_count": null,
   "id": "c4975982",
   "metadata": {
    "slideshow": {
     "slide_type": "slide"
    }
   },
   "outputs": [],
   "source": [
    "%%time \n",
    "\n",
    "import numpy as np \n",
    "from sklearn.datasets import fetch_openml\n",
    "mnist = fetch_openml('mnist_784', version = 1, as_frame = False) "
   ]
  },
  {
   "cell_type": "code",
   "execution_count": null,
   "id": "e3f741c2",
   "metadata": {
    "slideshow": {
     "slide_type": "slide"
    }
   },
   "outputs": [],
   "source": [
    "X,y = mnist['data'], mnist['target'] "
   ]
  },
  {
   "cell_type": "code",
   "execution_count": null,
   "id": "c56a6750",
   "metadata": {
    "slideshow": {
     "slide_type": "slide"
    }
   },
   "outputs": [],
   "source": [
    "y = y.astype(np.int64) "
   ]
  },
  {
   "cell_type": "code",
   "execution_count": null,
   "id": "0ef03c33",
   "metadata": {
    "slideshow": {
     "slide_type": "slide"
    }
   },
   "outputs": [],
   "source": [
    "X_train, X_test, y_train, y_test = X[:60_000], X[60_000:], y[:60_000], y[60_000:]"
   ]
  },
  {
   "cell_type": "code",
   "execution_count": null,
   "id": "758d871a",
   "metadata": {
    "slideshow": {
     "slide_type": "slide"
    }
   },
   "outputs": [],
   "source": [
    "y_train_5 = (y_train==5)\n",
    "y_test_5 = (y_test==5)"
   ]
  },
  {
   "cell_type": "code",
   "execution_count": null,
   "id": "6cccfa63",
   "metadata": {
    "slideshow": {
     "slide_type": "slide"
    }
   },
   "outputs": [],
   "source": [
    "from sklearn.linear_model import SGDClassifier"
   ]
  },
  {
   "cell_type": "code",
   "execution_count": null,
   "id": "3f523975",
   "metadata": {
    "slideshow": {
     "slide_type": "slide"
    }
   },
   "outputs": [],
   "source": [
    "sgd_clf = SGDClassifier(max_iter = 1000, tol = 1e-3, random_state = 42) "
   ]
  },
  {
   "cell_type": "code",
   "execution_count": null,
   "id": "9f5bfd04",
   "metadata": {
    "slideshow": {
     "slide_type": "slide"
    }
   },
   "outputs": [],
   "source": [
    "%%time\n",
    "\n",
    "sgd_clf.fit(X_train, y_train_5) "
   ]
  },
  {
   "cell_type": "code",
   "execution_count": null,
   "id": "e767ed65",
   "metadata": {
    "slideshow": {
     "slide_type": "slide"
    }
   },
   "outputs": [],
   "source": [
    "y_scores = sgd_clf.decision_function([X[0]])\n",
    "y_scores"
   ]
  },
  {
   "cell_type": "markdown",
   "id": "ee964665",
   "metadata": {
    "slideshow": {
     "slide_type": "slide"
    }
   },
   "source": [
    "# Función de decisión personalizada"
   ]
  },
  {
   "cell_type": "code",
   "execution_count": null,
   "id": "9cb4d166",
   "metadata": {
    "slideshow": {
     "slide_type": "slide"
    }
   },
   "outputs": [],
   "source": [
    "def funcion_decision(imagen, threshold):\n",
    "    y_score = sgd_clf.decision_function([imagen])\n",
    "    return y_score>threshold"
   ]
  },
  {
   "cell_type": "code",
   "execution_count": null,
   "id": "b4b0cdd9",
   "metadata": {
    "slideshow": {
     "slide_type": "slide"
    }
   },
   "outputs": [],
   "source": [
    "threshold = 0\n",
    "y_some_digit_pred = (y_scores > threshold)\n",
    "y_some_digit_pred"
   ]
  },
  {
   "cell_type": "markdown",
   "id": "a60d159b",
   "metadata": {
    "slideshow": {
     "slide_type": "slide"
    }
   },
   "source": [
    "El `SGDClassifier` usa un umbral igual a 0, por lo que el código anterior devuelve el mismo resultado que el método `predict()` (es decir, True)."
   ]
  },
  {
   "cell_type": "markdown",
   "id": "9fcc8f68",
   "metadata": {
    "slideshow": {
     "slide_type": "slide"
    }
   },
   "source": [
    "Subamos el umbral:"
   ]
  },
  {
   "cell_type": "code",
   "execution_count": null,
   "id": "f2901d69",
   "metadata": {
    "slideshow": {
     "slide_type": "slide"
    }
   },
   "outputs": [],
   "source": [
    "threshold = 8000\n",
    "y_some_digit_pred = (y_scores > threshold)\n",
    "y_some_digit_pred"
   ]
  },
  {
   "cell_type": "markdown",
   "id": "5a1ec0ea",
   "metadata": {
    "slideshow": {
     "slide_type": "slide"
    }
   },
   "source": [
    "Esto confirma que elevar el umbral disminuye el recuerdo."
   ]
  },
  {
   "cell_type": "markdown",
   "id": "d8ef139d",
   "metadata": {
    "slideshow": {
     "slide_type": "slide"
    }
   },
   "source": [
    "La imagen en realidad representa un 5, y el clasificador lo detecta cuando el umbral es 0, pero lo pierde cuando el umbral aumenta a 8000."
   ]
  },
  {
   "cell_type": "markdown",
   "id": "67786293",
   "metadata": {
    "slideshow": {
     "slide_type": "slide"
    }
   },
   "source": [
    "¿Cómo se decide qué umbral usar?"
   ]
  },
  {
   "cell_type": "markdown",
   "id": "c4ef6d29",
   "metadata": {
    "slideshow": {
     "slide_type": "slide"
    }
   },
   "source": [
    "Primero, use la función `cross_val_predict()` para obtener los puntajes de todas las instancias en el conjunto de entrenamiento, pero esta vez especifique que desea obtener puntajes de decisión en lugar de predicciones:"
   ]
  },
  {
   "cell_type": "code",
   "execution_count": null,
   "id": "24ea2ea7",
   "metadata": {
    "slideshow": {
     "slide_type": "slide"
    }
   },
   "outputs": [],
   "source": [
    "from sklearn.model_selection import cross_val_predict "
   ]
  },
  {
   "cell_type": "code",
   "execution_count": null,
   "id": "20a835c0",
   "metadata": {
    "slideshow": {
     "slide_type": "slide"
    }
   },
   "outputs": [],
   "source": [
    "%%time \n",
    "\n",
    "y_scores = cross_val_predict(sgd_clf, X_train, y_train_5, cv=3, method=\"decision_function\")"
   ]
  },
  {
   "cell_type": "markdown",
   "id": "1ed12489",
   "metadata": {
    "slideshow": {
     "slide_type": "slide"
    }
   },
   "source": [
    "Con estas puntuaciones, utilice la función `precision_recall_curve()` para calcular la precisión y la recuperación de todos los umbrales posibles:"
   ]
  },
  {
   "cell_type": "code",
   "execution_count": null,
   "id": "2ffc60a1",
   "metadata": {
    "slideshow": {
     "slide_type": "slide"
    }
   },
   "outputs": [],
   "source": [
    "from sklearn.metrics import precision_recall_curve\n",
    "precisions, recalls, thresholds = precision_recall_curve(y_train_5, y_scores)"
   ]
  },
  {
   "cell_type": "markdown",
   "id": "6accace6",
   "metadata": {
    "slideshow": {
     "slide_type": "slide"
    }
   },
   "source": [
    "Finalmente, use Matplotlib para trazar la precisión y recordar como funciones del valor de umbral (Figura 3-4):"
   ]
  },
  {
   "cell_type": "code",
   "execution_count": null,
   "id": "84e8b711",
   "metadata": {
    "scrolled": true,
    "slideshow": {
     "slide_type": "slide"
    }
   },
   "outputs": [],
   "source": [
    "import matplotlib.pyplot as plt \n",
    "\n",
    "def plot_precision_recall_vs_threshold(precisions, recalls, thresholds):\n",
    "    plt.plot(thresholds, precisions[:-1], \"b--\", label=\"Precision\")\n",
    "    plt.plot(thresholds, recalls[:-1], \"g-\", label=\"Recall\")\n",
    "    [...] # highlight the threshold and add the legend, axis label, and grid\n",
    "plot_precision_recall_vs_threshold(precisions, recalls, thresholds)\n",
    "plt.show()"
   ]
  },
  {
   "cell_type": "markdown",
   "id": "31e3f389",
   "metadata": {
    "slideshow": {
     "slide_type": "slide"
    }
   },
   "source": [
    "Figura 3_4 \n",
    "<img src = ''>"
   ]
  },
  {
   "cell_type": "markdown",
   "id": "60774328",
   "metadata": {
    "slideshow": {
     "slide_type": "slide"
    }
   },
   "source": [
    "## NOTE"
   ]
  },
  {
   "cell_type": "markdown",
   "id": "cd24de03",
   "metadata": {
    "slideshow": {
     "slide_type": "slide"
    }
   },
   "source": [
    "Quizás se pregunte por qué la curva de precisión es más irregular que la curva de recuperación de la figura 3-4."
   ]
  },
  {
   "cell_type": "markdown",
   "id": "0168cfe8",
   "metadata": {
    "slideshow": {
     "slide_type": "slide"
    }
   },
   "source": [
    "El motivo es que, en ocasiones, la precisión puede disminuir cuando aumenta el umbral (aunque, en general, aumentará)."
   ]
  },
  {
   "cell_type": "markdown",
   "id": "0b3f528d",
   "metadata": {
    "slideshow": {
     "slide_type": "slide"
    }
   },
   "source": [
    "Para comprender por qué, vuelva a mirar la Figura 3-3 y observe lo que sucede cuando comienza desde el umbral central y lo mueve solo un dígito a la derecha: la precisión va de 4/5 (80 %) a 3/4 (75 %). )."
   ]
  },
  {
   "cell_type": "markdown",
   "id": "d67068f8",
   "metadata": {
    "slideshow": {
     "slide_type": "slide"
    }
   },
   "source": [
    "Por otro lado, la recuperación solo puede disminuir cuando se aumenta el umbral, lo que explica por qué su curva parece suave."
   ]
  },
  {
   "cell_type": "markdown",
   "id": "4190606a",
   "metadata": {
    "slideshow": {
     "slide_type": "slide"
    }
   },
   "source": [
    "Otra forma de seleccionar una buena compensación de precisión/recuperación es graficar la precisión directamente contra la recuperación, como se muestra en la Figura 3-5 (se resalta el mismo umbral que antes)."
   ]
  },
  {
   "cell_type": "markdown",
   "id": "cf9d5ec5",
   "metadata": {
    "slideshow": {
     "slide_type": "slide"
    }
   },
   "source": []
  },
  {
   "cell_type": "markdown",
   "id": "c14596f5",
   "metadata": {
    "slideshow": {
     "slide_type": "slide"
    }
   },
   "source": [
    "Puede ver que la precisión realmente comienza a caer bruscamente alrededor del $80\\%$ de recuerdo."
   ]
  },
  {
   "cell_type": "markdown",
   "id": "f7f8a444",
   "metadata": {
    "slideshow": {
     "slide_type": "slide"
    }
   },
   "source": [
    "You will probably want to select a precision/recall trade-off just before that drop—for example, at around 60% recall. "
   ]
  },
  {
   "cell_type": "markdown",
   "id": "19fd708e",
   "metadata": {
    "slideshow": {
     "slide_type": "slide"
    }
   },
   "source": [
    "But of course, the choice depends on your project."
   ]
  },
  {
   "cell_type": "markdown",
   "id": "b7ad832f",
   "metadata": {
    "slideshow": {
     "slide_type": "slide"
    }
   },
   "source": [
    "Suppose you decide to aim for 90% precision. "
   ]
  },
  {
   "cell_type": "markdown",
   "id": "34d52392",
   "metadata": {
    "slideshow": {
     "slide_type": "slide"
    }
   },
   "source": [
    "You look up the first plot and find that you need to use a threshold of about 8,000. "
   ]
  },
  {
   "cell_type": "markdown",
   "id": "63e044bc",
   "metadata": {
    "slideshow": {
     "slide_type": "slide"
    }
   },
   "source": [
    "To be more precise you can search for the lowest threshold that gives you at least 90% precision (np.argmax() will give you the first index of the maximum value, which in this case means the first True value):"
   ]
  },
  {
   "cell_type": "code",
   "execution_count": null,
   "id": "8549ad97",
   "metadata": {
    "slideshow": {
     "slide_type": "slide"
    }
   },
   "outputs": [],
   "source": [
    "threshold_90_precision = thresholds[np.argmax(precisions >= 0.90)] "
   ]
  },
  {
   "cell_type": "code",
   "execution_count": null,
   "id": "4b870cff",
   "metadata": {
    "slideshow": {
     "slide_type": "slide"
    }
   },
   "outputs": [],
   "source": [
    "threshold_90_precision"
   ]
  },
  {
   "cell_type": "markdown",
   "id": "dc8b243a",
   "metadata": {
    "slideshow": {
     "slide_type": "slide"
    }
   },
   "source": [
    "To make predictions (on the training set for now), instead of calling the classifier’s `predict()` method, you can run this code:"
   ]
  },
  {
   "cell_type": "code",
   "execution_count": null,
   "id": "d7b06c3a",
   "metadata": {
    "slideshow": {
     "slide_type": "slide"
    }
   },
   "outputs": [],
   "source": [
    "y_train_pred_90 = (y_scores >= threshold_90_precision)"
   ]
  },
  {
   "cell_type": "markdown",
   "id": "6a407467",
   "metadata": {
    "slideshow": {
     "slide_type": "slide"
    }
   },
   "source": [
    "Let’s check these predictions’ precision and recall:"
   ]
  },
  {
   "cell_type": "code",
   "execution_count": null,
   "id": "c2caeff8",
   "metadata": {
    "slideshow": {
     "slide_type": "slide"
    }
   },
   "outputs": [],
   "source": [
    "from sklearn.metrics import precision_score, recall_score"
   ]
  },
  {
   "cell_type": "code",
   "execution_count": null,
   "id": "564546a9",
   "metadata": {
    "slideshow": {
     "slide_type": "slide"
    }
   },
   "outputs": [],
   "source": [
    "precision_score(y_train_5, y_train_pred_90)"
   ]
  },
  {
   "cell_type": "code",
   "execution_count": null,
   "id": "cb96cac1",
   "metadata": {
    "slideshow": {
     "slide_type": "slide"
    }
   },
   "outputs": [],
   "source": [
    "recall_score(y_train_5, y_train_pred_90)"
   ]
  },
  {
   "cell_type": "markdown",
   "id": "5d1840e4",
   "metadata": {
    "slideshow": {
     "slide_type": "slide"
    }
   },
   "source": [
    "Great, you have a 90% precision classifier! "
   ]
  },
  {
   "cell_type": "markdown",
   "id": "c405e0d5",
   "metadata": {
    "slideshow": {
     "slide_type": "slide"
    }
   },
   "source": [
    "Como puede ver, es bastante fácil crear un clasificador con prácticamente cualquier precisión que desee: simplemente establezca un umbral suficientemente alto, y está listo."
   ]
  },
  {
   "cell_type": "markdown",
   "id": "e1ba5036",
   "metadata": {
    "slideshow": {
     "slide_type": "slide"
    }
   },
   "source": [
    "But wait, not so fast. "
   ]
  },
  {
   "cell_type": "markdown",
   "id": "dcdcaa1a",
   "metadata": {
    "slideshow": {
     "slide_type": "slide"
    }
   },
   "source": [
    "A high-precision classifier is not very useful if its recall is too low!"
   ]
  },
  {
   "cell_type": "markdown",
   "id": "7dd18971",
   "metadata": {
    "slideshow": {
     "slide_type": "slide"
    }
   },
   "source": [
    "### Sugerencia "
   ]
  },
  {
   "cell_type": "markdown",
   "id": "57f96787",
   "metadata": {
    "slideshow": {
     "slide_type": "slide"
    }
   },
   "source": [
    "If someone says, “Let’s reach 99% precision,” you should ask, “At what recall?”"
   ]
  },
  {
   "cell_type": "markdown",
   "id": "a44dd3d6",
   "metadata": {
    "slideshow": {
     "slide_type": "slide"
    }
   },
   "source": [
    "## The ROC Curve"
   ]
  },
  {
   "cell_type": "markdown",
   "id": "0a49dbe4",
   "metadata": {
    "slideshow": {
     "slide_type": "slide"
    }
   },
   "source": [
    "The receiver operating characteristic (ROC) curve is another common tool used with binary classifiers. "
   ]
  },
  {
   "cell_type": "markdown",
   "id": "ee4d41b1",
   "metadata": {
    "slideshow": {
     "slide_type": "slide"
    }
   },
   "source": [
    "It is very similar to the precision/recall curve, but instead of plotting precision versus recall, the ROC curve plots the true positive rate (another name for recall) against the false positive rate (FPR)."
   ]
  },
  {
   "cell_type": "markdown",
   "id": "505a833d",
   "metadata": {
    "slideshow": {
     "slide_type": "slide"
    }
   },
   "source": [
    "The FPR is the ratio of negative instances that are incorrectly classified as positive. "
   ]
  },
  {
   "cell_type": "markdown",
   "id": "d7d2b8a2",
   "metadata": {
    "slideshow": {
     "slide_type": "slide"
    }
   },
   "source": [
    "It is equal to 1 – the true negative rate (TNR), which is the ratio of negative instances that are correctly classified as negative. "
   ]
  },
  {
   "cell_type": "markdown",
   "id": "1841f437",
   "metadata": {
    "slideshow": {
     "slide_type": "slide"
    }
   },
   "source": [
    "The TNR is also called specificity. Hence, the ROC curve plots sensitivity (recall) versus 1 –\n",
    "specificity."
   ]
  },
  {
   "cell_type": "markdown",
   "id": "33c796a9",
   "metadata": {
    "slideshow": {
     "slide_type": "slide"
    }
   },
   "source": [
    "To plot the ROC curve, you first use the `roc_curve()` function to compute the TPR and FPR for various threshold values:"
   ]
  },
  {
   "cell_type": "code",
   "execution_count": null,
   "id": "f0c57329",
   "metadata": {
    "slideshow": {
     "slide_type": "slide"
    }
   },
   "outputs": [],
   "source": [
    "from sklearn.metrics import roc_curve\n",
    "fpr, tpr, thresholds = roc_curve(y_train_5, y_scores)"
   ]
  },
  {
   "cell_type": "markdown",
   "id": "12b4897b",
   "metadata": {
    "slideshow": {
     "slide_type": "slide"
    }
   },
   "source": [
    "Then you can plot the FPR against the TPR using Matplotlib. "
   ]
  },
  {
   "cell_type": "markdown",
   "id": "24112a2f",
   "metadata": {
    "slideshow": {
     "slide_type": "slide"
    }
   },
   "source": [
    "This code produces the plot in Figure 3-6:"
   ]
  },
  {
   "cell_type": "code",
   "execution_count": null,
   "id": "cc051ea1",
   "metadata": {
    "slideshow": {
     "slide_type": "slide"
    }
   },
   "outputs": [],
   "source": [
    "def plot_roc_curve(fpr, tpr, label=None):\n",
    "    plt.plot(fpr, tpr, linewidth=2, label=label)\n",
    "    plt.plot([0, 1], [0, 1], 'k--') # Dashed diagonal\n",
    "    [...] # Add axis labels and grid\n",
    "plot_roc_curve(fpr, tpr)\n",
    "plt.show()"
   ]
  },
  {
   "cell_type": "markdown",
   "id": "d4780be8",
   "metadata": {
    "slideshow": {
     "slide_type": "slide"
    }
   },
   "source": [
    "Once again there is a trade-off: the higher the recall (TPR), the more false positives (FPR) the classifier produces. "
   ]
  },
  {
   "cell_type": "markdown",
   "id": "d0b4bd02",
   "metadata": {
    "slideshow": {
     "slide_type": "slide"
    }
   },
   "source": [
    "The dotted line represents the ROC curve of a purely random classifier; a good classifier stays as far away from that line as possible (toward the top-left corner)."
   ]
  },
  {
   "cell_type": "markdown",
   "id": "26520710",
   "metadata": {
    "slideshow": {
     "slide_type": "slide"
    }
   },
   "source": [
    "One way to compare classifiers is to measure the area under the curve (AUC).  "
   ]
  },
  {
   "cell_type": "markdown",
   "id": "08dccd51",
   "metadata": {
    "slideshow": {
     "slide_type": "slide"
    }
   },
   "source": [
    "A perfect classifier will have a ROC AUC equal to 1, whereas a purely random classifier will have a ROC AUC equal to 0.5. Scikit-Learn provides a function to compute the ROC AUC:"
   ]
  },
  {
   "cell_type": "markdown",
   "id": "4c773afa",
   "metadata": {
    "slideshow": {
     "slide_type": "slide"
    }
   },
   "source": [
    "## Sugerencia \n"
   ]
  },
  {
   "cell_type": "markdown",
   "id": "b5fcfb87",
   "metadata": {
    "slideshow": {
     "slide_type": "slide"
    }
   },
   "source": [
    "Dado que la curva ROC es tan similar a la curva de precisión/recuerdo (PR), puede preguntarse cómo decidir cuál usar."
   ]
  },
  {
   "cell_type": "markdown",
   "id": "0137bde1",
   "metadata": {
    "slideshow": {
     "slide_type": "slide"
    }
   },
   "source": [
    "As a rule of thumb, you should prefer the PR curve whenever the positive class is rare or when you care more about the false positives than the false negatives. "
   ]
  },
  {
   "cell_type": "markdown",
   "id": "bb97c8d8",
   "metadata": {
    "slideshow": {
     "slide_type": "slide"
    }
   },
   "source": [
    "Otherwise, use the ROC curve. For example, looking at the previous ROC curve (and the ROC AUC score), you may think that the classifier is really good."
   ]
  },
  {
   "cell_type": "markdown",
   "id": "95be889e",
   "metadata": {
    "slideshow": {
     "slide_type": "slide"
    }
   },
   "source": [
    "But this is mostly because there are few positives (5s) compared to the negatives (non - 5s). "
   ]
  },
  {
   "cell_type": "markdown",
   "id": "9c294e6a",
   "metadata": {
    "slideshow": {
     "slide_type": "slide"
    }
   },
   "source": [
    "In contrast, the PR curve makes it clear that the classifier has room for improvement\n",
    "(the curve could be closer to the top-left corner)."
   ]
  },
  {
   "cell_type": "markdown",
   "id": "f80d1e45",
   "metadata": {},
   "source": [
    "Let’s now train a RandomForestClassifier and compare its ROC curve and ROC AUC score to those of the SGDClassifier. "
   ]
  },
  {
   "cell_type": "markdown",
   "id": "2c22c175",
   "metadata": {
    "slideshow": {
     "slide_type": "slide"
    }
   },
   "source": [
    "First, you need to get scores for each instance in the training set. "
   ]
  },
  {
   "cell_type": "markdown",
   "id": "cfca334c",
   "metadata": {
    "slideshow": {
     "slide_type": "slide"
    }
   },
   "source": [
    "But due to the way it works (see Chapter 7), the `RandomForestClassifier` class does not have a\n",
    "`decision_function()` method. Instead, it has a `predict_proba()` method. "
   ]
  },
  {
   "cell_type": "markdown",
   "id": "a5949c65",
   "metadata": {
    "slideshow": {
     "slide_type": "slide"
    }
   },
   "source": [
    "Scikit-Learn classifiers generally have one or the other, or both."
   ]
  },
  {
   "cell_type": "markdown",
   "id": "53440f34",
   "metadata": {
    "slideshow": {
     "slide_type": "slide"
    }
   },
   "source": [
    "The `predict_proba()` method returns an array containing a row per instance and a column per class, each containing the probability that the given instance belongs to the given class (e.g., 70% chance that the image represents a 5):"
   ]
  },
  {
   "cell_type": "code",
   "execution_count": null,
   "id": "7dca415c",
   "metadata": {
    "slideshow": {
     "slide_type": "slide"
    }
   },
   "outputs": [],
   "source": [
    "from sklearn.ensemble import RandomForestClassifier\n",
    "forest_clf = RandomForestClassifier(random_state=42)\n",
    "y_probas_forest = cross_val_predict(forest_clf, X_train, y_train_5, cv=3,\n",
    "method=\"predict_proba\")"
   ]
  },
  {
   "cell_type": "markdown",
   "id": "890adc7d",
   "metadata": {
    "slideshow": {
     "slide_type": "slide"
    }
   },
   "source": [
    "The roc_curve() function expects labels and scores, but instead of scores you can give it class probabilities. "
   ]
  },
  {
   "cell_type": "markdown",
   "id": "72c2adc4",
   "metadata": {
    "slideshow": {
     "slide_type": "slide"
    }
   },
   "source": [
    "Let’s use the positive class’s probability as the score:"
   ]
  },
  {
   "cell_type": "code",
   "execution_count": null,
   "id": "18d9738f",
   "metadata": {
    "slideshow": {
     "slide_type": "slide"
    }
   },
   "outputs": [],
   "source": [
    "y_scores_forest = y_probas_forest[:, 1] # score = proba of positive class\n",
    "fpr_forest, tpr_forest, thresholds_forest = roc_curve(y_train_5,y_scores_forest)"
   ]
  },
  {
   "cell_type": "markdown",
   "id": "de2484d1",
   "metadata": {
    "slideshow": {
     "slide_type": "slide"
    }
   },
   "source": [
    "Now you are ready to plot the ROC curve. "
   ]
  },
  {
   "cell_type": "markdown",
   "id": "6f5a6be0",
   "metadata": {
    "slideshow": {
     "slide_type": "slide"
    }
   },
   "source": [
    "It is useful to plot the first ROC curve as well to see how they compare (Figure 3-7):"
   ]
  },
  {
   "cell_type": "code",
   "execution_count": null,
   "id": "44c755bb",
   "metadata": {
    "slideshow": {
     "slide_type": "slide"
    }
   },
   "outputs": [],
   "source": [
    "plt.plot(fpr, tpr, \"b:\", label=\"SGD\")\n",
    "plot_roc_curve(fpr_forest, tpr_forest, \"Random Forest\")\n",
    "plt.legend(loc=\"lower right\")\n",
    "plt.show()"
   ]
  },
  {
   "cell_type": "markdown",
   "id": "07a3a3d7",
   "metadata": {
    "slideshow": {
     "slide_type": "slide"
    }
   },
   "source": [
    "As you can see in Figure 3-7, the RandomForestClassifier’s ROC curve looks much better than the `SGDClassifier’s`: it comes much closer to the top-left corner. "
   ]
  },
  {
   "cell_type": "markdown",
   "id": "f2898abc",
   "metadata": {
    "slideshow": {
     "slide_type": "slide"
    }
   },
   "source": [
    "As a result, its ROC AUC score is also significantly better:"
   ]
  },
  {
   "cell_type": "code",
   "execution_count": null,
   "id": "bf041f16",
   "metadata": {
    "slideshow": {
     "slide_type": "slide"
    }
   },
   "outputs": [],
   "source": [
    "from sklearn.metrics import roc_auc_score "
   ]
  },
  {
   "cell_type": "code",
   "execution_count": null,
   "id": "52645e5a",
   "metadata": {
    "slideshow": {
     "slide_type": "slide"
    }
   },
   "outputs": [],
   "source": [
    "roc_auc_score(y_train_5, y_scores_forest)"
   ]
  },
  {
   "cell_type": "markdown",
   "id": "60084a04",
   "metadata": {},
   "source": [
    "Try measuring the precision and recall scores: you should find $99.0\\%$ precision and $86.6\\%$ recall. "
   ]
  },
  {
   "cell_type": "markdown",
   "id": "97bc524d",
   "metadata": {
    "slideshow": {
     "slide_type": "slide"
    }
   },
   "source": [
    "Not too bad!"
   ]
  },
  {
   "cell_type": "markdown",
   "id": "a3ea4eb8",
   "metadata": {
    "slideshow": {
     "slide_type": "slide"
    }
   },
   "source": [
    "You now know how to train binary classifiers, choose the appropriate metric for your task, evaluate your classifiers using cross-validation, select the precision/recall trade-off that fits your needs, and use ROC curves and ROC AUC scores to compare various models. "
   ]
  },
  {
   "cell_type": "markdown",
   "id": "1ddb75a8",
   "metadata": {
    "slideshow": {
     "slide_type": "slide"
    }
   },
   "source": [
    "Now let’s try to detect more than just the 5s."
   ]
  },
  {
   "cell_type": "code",
   "execution_count": null,
   "id": "66300ab0",
   "metadata": {
    "slideshow": {
     "slide_type": "slide"
    }
   },
   "outputs": [],
   "source": []
  },
  {
   "cell_type": "code",
   "execution_count": null,
   "id": "5ed15abb",
   "metadata": {},
   "outputs": [],
   "source": []
  },
  {
   "cell_type": "code",
   "execution_count": null,
   "id": "9b78f1db",
   "metadata": {},
   "outputs": [],
   "source": []
  },
  {
   "cell_type": "code",
   "execution_count": null,
   "id": "da107274",
   "metadata": {},
   "outputs": [],
   "source": []
  }
 ],
 "metadata": {
  "celltoolbar": "Slideshow",
  "kernelspec": {
   "display_name": "Python 3 (ipykernel)",
   "language": "python",
   "name": "python3"
  },
  "language_info": {
   "codemirror_mode": {
    "name": "ipython",
    "version": 3
   },
   "file_extension": ".py",
   "mimetype": "text/x-python",
   "name": "python",
   "nbconvert_exporter": "python",
   "pygments_lexer": "ipython3",
   "version": "3.9.7"
  },
  "rise": {
   "enable_chalkboard": true,
   "theme": "sky",
   "transition": "zoom"
  }
 },
 "nbformat": 4,
 "nbformat_minor": 5
}
