{
 "cells": [
  {
   "cell_type": "markdown",
   "id": "ea435566",
   "metadata": {
    "slideshow": {
     "slide_type": "slide"
    }
   },
   "source": [
    "<table align=\"left\">\n",
    "  <td>\n",
    "    <a href=\"https://colab.research.google.com/github/marco-canas/Machine-Learning/blob/main/ML/classes/class_feb_29/class_feb_29.ipynb\" target=\"_parent\"><img src=\"https://colab.research.google.com/assets/colab-badge.svg\" alt=\"Open In Colab\"/></a>\n",
    "  </td>\n",
    "</table>"
   ]
  },
  {
   "cell_type": "markdown",
   "id": "0b79d099",
   "metadata": {
    "slideshow": {
     "slide_type": "slide"
    }
   },
   "source": [
    "# Construcción de un modelo de regresión lineal"
   ]
  },
  {
   "cell_type": "markdown",
   "id": "6fe35c42",
   "metadata": {
    "slideshow": {
     "slide_type": "slide"
    }
   },
   "source": [
    "4. Preprocesamiento usando el concepto de pipeline  \n",
    "   * Hacer separación inicial de datos para entrenar y para testear.\n",
    "   * llenar datos faltantes.\n",
    "   * adicionar atributos que estén mejor correlacionados con la variable objetivo.\n",
    "   * Estandarizar los datos.\n",
    "   * codificar las variables categóricas. \n",
    "     "
   ]
  },
  {
   "cell_type": "markdown",
   "id": "07bd2d12",
   "metadata": {
    "slideshow": {
     "slide_type": "slide"
    }
   },
   "source": [
    "5. Entrenar el modelo de regresión lineal.\n",
    "\n",
    "   "
   ]
  },
  {
   "cell_type": "markdown",
   "id": "3eca3151",
   "metadata": {
    "slideshow": {
     "slide_type": "slide"
    }
   },
   "source": [
    "# Transformadores personalizados"
   ]
  },
  {
   "cell_type": "markdown",
   "id": "b22100c5",
   "metadata": {
    "slideshow": {
     "slide_type": "slide"
    }
   },
   "source": [
    "Aunque Scikit-Learn proporciona muchos transformadores útiles, deberá escribir los suyos propios para tareas como:\n",
    "\n",
    "* operaciones de limpieza personalizadas o \n",
    "* combinación de atributos específicos."
   ]
  },
  {
   "cell_type": "markdown",
   "id": "0bba862d",
   "metadata": {
    "slideshow": {
     "slide_type": "slide"
    }
   },
   "source": [
    " \n",
    "* todo lo que necesita hacer es crear una clase e implementar tres métodos: \n",
    "   * `fit( )` (retornando a sí mismo), \n",
    "   * `transform()` y \n",
    "   * `fit_transform()`."
   ]
  },
  {
   "cell_type": "markdown",
   "id": "1d1c38ae",
   "metadata": {
    "slideshow": {
     "slide_type": "slide"
    }
   },
   "source": [
    "Puede obtener el último de forma gratuita simplemente agregando `TransformerMixin` como clase base. "
   ]
  },
  {
   "cell_type": "markdown",
   "id": "6dd2c65f",
   "metadata": {
    "slideshow": {
     "slide_type": "slide"
    }
   },
   "source": [
    "Si agrega `BaseEstimator` como clase base (y evita `*args` y `**kargs` en su constructor), también obtendrá dos métodos adicionales (`get_params()` y `set_params()`) que son útiles para el ajuste automático de hiperparámetros."
   ]
  },
  {
   "cell_type": "markdown",
   "id": "c359da28",
   "metadata": {
    "slideshow": {
     "slide_type": "slide"
    }
   },
   "source": [
    "Por ejemplo, aquí hay una pequeña clase de transformador que agrega los atributos combinados que discutimos anteriormente:"
   ]
  },
  {
   "cell_type": "markdown",
   "id": "2fe15e8f",
   "metadata": {
    "slideshow": {
     "slide_type": "slide"
    }
   },
   "source": [
    "## Importar las liberías necesarias"
   ]
  },
  {
   "cell_type": "code",
   "execution_count": null,
   "id": "20eedfd5",
   "metadata": {
    "slideshow": {
     "slide_type": "slide"
    }
   },
   "outputs": [],
   "source": [
    "import pandas as pd \n",
    "import numpy as np \n",
    "\n",
    "from sklearn.model_selection import train_test_split \n",
    "\n",
    "from sklearn.base import BaseEstimator, TransformerMixin\n"
   ]
  },
  {
   "cell_type": "code",
   "execution_count": 1,
   "id": "58d3537f",
   "metadata": {
    "slideshow": {
     "slide_type": "slide"
    }
   },
   "outputs": [],
   "source": [
    "v = pd.read_csv('vivienda.csv') "
   ]
  },
  {
   "cell_type": "code",
   "execution_count": 2,
   "id": "bcacaf91",
   "metadata": {
    "slideshow": {
     "slide_type": "slide"
    }
   },
   "outputs": [
    {
     "data": {
      "text/html": [
       "<div>\n",
       "<style scoped>\n",
       "    .dataframe tbody tr th:only-of-type {\n",
       "        vertical-align: middle;\n",
       "    }\n",
       "\n",
       "    .dataframe tbody tr th {\n",
       "        vertical-align: top;\n",
       "    }\n",
       "\n",
       "    .dataframe thead th {\n",
       "        text-align: right;\n",
       "    }\n",
       "</style>\n",
       "<table border=\"1\" class=\"dataframe\">\n",
       "  <thead>\n",
       "    <tr style=\"text-align: right;\">\n",
       "      <th></th>\n",
       "      <th>longitud</th>\n",
       "      <th>latitud</th>\n",
       "      <th>antiguedad</th>\n",
       "      <th>habitaciones</th>\n",
       "      <th>dormitorios</th>\n",
       "      <th>población</th>\n",
       "      <th>hogares</th>\n",
       "      <th>ingresos</th>\n",
       "      <th>proximidad</th>\n",
       "      <th>precio</th>\n",
       "    </tr>\n",
       "  </thead>\n",
       "  <tbody>\n",
       "    <tr>\n",
       "      <th>0</th>\n",
       "      <td>-122.23</td>\n",
       "      <td>37.88</td>\n",
       "      <td>41.0</td>\n",
       "      <td>880.0</td>\n",
       "      <td>129.0</td>\n",
       "      <td>322.0</td>\n",
       "      <td>126.0</td>\n",
       "      <td>8.3252</td>\n",
       "      <td>NEAR BAY</td>\n",
       "      <td>452600.0</td>\n",
       "    </tr>\n",
       "  </tbody>\n",
       "</table>\n",
       "</div>"
      ],
      "text/plain": [
       "   longitud  latitud  antiguedad  habitaciones  dormitorios  población  \\\n",
       "0   -122.23    37.88        41.0         880.0        129.0      322.0   \n",
       "\n",
       "   hogares  ingresos proximidad    precio  \n",
       "0    126.0    8.3252   NEAR BAY  452600.0  "
      ]
     },
     "execution_count": 2,
     "metadata": {},
     "output_type": "execute_result"
    }
   ],
   "source": [
    "v.head(1) "
   ]
  },
  {
   "cell_type": "code",
   "execution_count": null,
   "id": "f4a5856c",
   "metadata": {
    "slideshow": {
     "slide_type": "slide"
    }
   },
   "outputs": [],
   "source": [
    "\n",
    "v_train, v_test = train_test_split(v, test_size = 0.2, random_state = 513) "
   ]
  },
  {
   "cell_type": "markdown",
   "id": "dbc9abf8",
   "metadata": {
    "slideshow": {
     "slide_type": "slide"
    }
   },
   "source": [
    "## Dividir entre predictores y objetivo"
   ]
  },
  {
   "cell_type": "code",
   "execution_count": 3,
   "id": "2091c8c2",
   "metadata": {
    "slideshow": {
     "slide_type": "slide"
    }
   },
   "outputs": [],
   "source": [
    "v = v_train.drop('precio', axis = 1) \n",
    "v_labels = v_train.precio "
   ]
  },
  {
   "cell_type": "code",
   "execution_count": 5,
   "id": "786d2d9e",
   "metadata": {
    "slideshow": {
     "slide_type": "slide"
    }
   },
   "outputs": [],
   "source": [
    "class AdAtribComb(BaseEstimator, TransformerMixin):\n",
    "    def __init__(self, ad_dph = True, ad_hph = True, ad_pph = True): # no *args or **kargs\n",
    "        self.ad_dph = ad_dph\n",
    "        self.ad_hph = ad_hph\n",
    "        self.ad_pph = ad_pph\n",
    "        \n",
    "    def fit(self, X, y=None):\n",
    "        return self # nothing else to do\n",
    "    \n",
    "    def transform(self, X, y=None):\n",
    "        habitaciones, dormitorios, población, hogares = 3, 4, 5, 6 \n",
    "        if self.ad_dph:\n",
    "            dormitorios_por_habitación=X[:,dormitorios]/X[:,habitaciones]\n",
    "            X=np.c_[X, dormitorios_por_habitación]\n",
    "        if self.ad_hph:\n",
    "            habitaciones_por_hogar=X[:,habitaciones]/X[:,hogares]\n",
    "            X=np.c_[X, habitaciones_por_hogar]\n",
    "        if self.ad_pph: \n",
    "            población_por_hogar = X[:, población] / X[:, hogares]\n",
    "            X=np.c_[X, población_por_hogar] \n",
    "        return X\n",
    "       "
   ]
  },
  {
   "cell_type": "code",
   "execution_count": 6,
   "id": "43e437f5",
   "metadata": {
    "slideshow": {
     "slide_type": "slide"
    }
   },
   "outputs": [],
   "source": [
    "adicionador_atributos = AdAtribComb(ad_dph=True, ad_hph=False, ad_pph=False)"
   ]
  },
  {
   "cell_type": "code",
   "execution_count": 7,
   "id": "6d163854",
   "metadata": {
    "slideshow": {
     "slide_type": "slide"
    }
   },
   "outputs": [
    {
     "data": {
      "text/plain": [
       "(16512, 10)"
      ]
     },
     "execution_count": 7,
     "metadata": {},
     "output_type": "execute_result"
    }
   ],
   "source": [
    "X = adicionador_atributos.fit_transform(v.values)   \n",
    "X.shape "
   ]
  },
  {
   "cell_type": "code",
   "execution_count": null,
   "id": "44e4eb95",
   "metadata": {
    "slideshow": {
     "slide_type": "slide"
    }
   },
   "outputs": [],
   "source": [
    "def recuperar_df(X):\n",
    "    columnas = list(v.columns) \n",
    "    if adicionador_atributos.ad_dph: \n",
    "        columnas += ['dormitorios_por_habitación']\n",
    "    if adicionador_atributos.ad_hph:\n",
    "        columnas += ['habitaciones_por_hogar'] \n",
    "    if adicionador_atributos.ad_pph:\n",
    "        columnas += ['población_por_hogar'] \n",
    "    indices = v.index\n",
    "    return pd.DataFrame(X, columns = columnas, index = indices) "
   ]
  },
  {
   "cell_type": "code",
   "execution_count": null,
   "id": "3ede5329",
   "metadata": {
    "slideshow": {
     "slide_type": "slide"
    }
   },
   "outputs": [],
   "source": [
    "df = recuperar_df(X,ad_dph=True,ad_hph=False, ad_pph=False)\n",
    "df.head(2)"
   ]
  },
  {
   "cell_type": "markdown",
   "id": "71bbeb10",
   "metadata": {
    "slideshow": {
     "slide_type": "slide"
    }
   },
   "source": [
    "En este ejemplo, el transformador tiene tres hiperparámetros:\n",
    "\n",
    "* ad_dph, \n",
    "* ad_hph y\n",
    "* ad_pph,\n",
    "\n",
    "establecidos en `True` de forma predeterminada (a menudo es útil proporcionar valores predeterminados sensibles)."
   ]
  },
  {
   "cell_type": "markdown",
   "id": "baffe4a4",
   "metadata": {
    "slideshow": {
     "slide_type": "slide"
    }
   },
   "source": [
    "Estos hiperparámetros le permitirá averiguar fácilmente si agregar estos atributos ayudan o no a los algoritmos de Machine Learning."
   ]
  },
  {
   "cell_type": "markdown",
   "id": "cc8f7058",
   "metadata": {
    "slideshow": {
     "slide_type": "slide"
    }
   },
   "source": [
    "En términos más generales, puede agregar un hiperparámetro para controlar cualquier paso de preparación de datos del que no esté $100 \\%$ seguro."
   ]
  },
  {
   "cell_type": "markdown",
   "id": "ddc5053d",
   "metadata": {
    "slideshow": {
     "slide_type": "slide"
    }
   },
   "source": [
    "Cuanto más automatice estos pasos de preparación de datos, más combinaciones podrá probar automáticamente, lo que hará que sea mucho más probable que encuentre una gran combinación (y le ahorrará mucho tiempo)."
   ]
  },
  {
   "cell_type": "markdown",
   "id": "528d7b66",
   "metadata": {
    "slideshow": {
     "slide_type": "slide"
    }
   },
   "source": [
    "## Escalado de características"
   ]
  },
  {
   "cell_type": "markdown",
   "id": "7f5e49fb",
   "metadata": {
    "slideshow": {
     "slide_type": "slide"
    }
   },
   "source": [
    "Una de las transformaciones más importantes que debe aplicar a sus datos es el escalado de atributos. "
   ]
  },
  {
   "cell_type": "markdown",
   "id": "54a6f6f7",
   "metadata": {
    "slideshow": {
     "slide_type": "slide"
    }
   },
   "source": [
    "Con pocas excepciones, los algoritmos de Machine Learning no funcionan bien cuando los atributos numéricos de entrada tienen escalas muy diferentes."
   ]
  },
  {
   "cell_type": "markdown",
   "id": "0af6b2fb",
   "metadata": {
    "slideshow": {
     "slide_type": "slide"
    }
   },
   "source": [
    "Este es el caso de los datos de vivienda: \n",
    "\n",
    "* el número total de habitaciones oscila entre unas 6 y 39.320, \n",
    "* mientras que los ingresos medios solo oscilan entre 0 y 15."
   ]
  },
  {
   "cell_type": "markdown",
   "id": "3845be58",
   "metadata": {
    "slideshow": {
     "slide_type": "slide"
    }
   },
   "source": [
    "Tenga en cuenta que, por lo general, no es necesario escalar los valores objetivo."
   ]
  },
  {
   "cell_type": "markdown",
   "id": "e1a1eee9",
   "metadata": {
    "slideshow": {
     "slide_type": "slide"
    }
   },
   "source": [
    "Hay dos formas comunes de hacer que todos los atributos tengan la misma escala: \n",
    "* escala minmax y \n",
    "* estandarización."
   ]
  },
  {
   "cell_type": "markdown",
   "id": "ce30ee04",
   "metadata": {
    "slideshow": {
     "slide_type": "slide"
    }
   },
   "source": [
    "El escalado mínimo-máximo (muchas personas llaman a esto normalización) es el más simple:  \n",
    "\n",
    "* los valores se desplazan y reescalan para que terminen variando de 0 a 1."
   ]
  },
  {
   "cell_type": "markdown",
   "id": "1309c1d2",
   "metadata": {
    "slideshow": {
     "slide_type": "slide"
    }
   },
   "source": [
    "Hacemos esto restando el valor mínimo y dividiendo por el máximo menos el mínimo."
   ]
  },
  {
   "cell_type": "markdown",
   "id": "16be2719",
   "metadata": {
    "slideshow": {
     "slide_type": "slide"
    }
   },
   "source": [
    "Scikit-Learn proporciona un transformador llamado `MinMaxScaler` para esto."
   ]
  },
  {
   "cell_type": "markdown",
   "id": "d59ecefd",
   "metadata": {
    "slideshow": {
     "slide_type": "slide"
    }
   },
   "source": [
    "Tiene un hiperparámetro `feature_range` que le permite cambiar el rango si, por alguna razón, no desea 0–1."
   ]
  },
  {
   "cell_type": "code",
   "execution_count": null,
   "id": "de0301ad",
   "metadata": {
    "slideshow": {
     "slide_type": "slide"
    }
   },
   "outputs": [],
   "source": [
    "v_num = v.drop('proximidad', axis = 1)"
   ]
  },
  {
   "cell_type": "code",
   "execution_count": null,
   "id": "e2618c9b",
   "metadata": {
    "slideshow": {
     "slide_type": "slide"
    }
   },
   "outputs": [],
   "source": [
    "from sklearn.preprocessing import MinMaxScaler "
   ]
  },
  {
   "cell_type": "code",
   "execution_count": null,
   "id": "6d7242c1",
   "metadata": {
    "slideshow": {
     "slide_type": "slide"
    }
   },
   "outputs": [],
   "source": [
    "escalar_min_max = MinMaxScaler() "
   ]
  },
  {
   "cell_type": "code",
   "execution_count": null,
   "id": "aef3091c",
   "metadata": {
    "slideshow": {
     "slide_type": "slide"
    }
   },
   "outputs": [],
   "source": [
    "X_escalado_min_max = escalar_min_max.fit_transform(v_num)"
   ]
  },
  {
   "cell_type": "code",
   "execution_count": null,
   "id": "e984aaa5",
   "metadata": {
    "slideshow": {
     "slide_type": "slide"
    }
   },
   "outputs": [],
   "source": [
    "v_escalado_min_max = pd.DataFrame(X_escalado_min_max, columns = v_num.columns, \\\n",
    "                                  index = v_num.index)"
   ]
  },
  {
   "cell_type": "code",
   "execution_count": null,
   "id": "2f071abf",
   "metadata": {
    "slideshow": {
     "slide_type": "slide"
    }
   },
   "outputs": [],
   "source": [
    "v_escalado_min_max.head() "
   ]
  },
  {
   "cell_type": "code",
   "execution_count": null,
   "id": "ea2a202c",
   "metadata": {
    "slideshow": {
     "slide_type": "slide"
    }
   },
   "outputs": [],
   "source": [
    "v_escalado_min_max.describe() "
   ]
  },
  {
   "cell_type": "code",
   "execution_count": null,
   "id": "a1b27115",
   "metadata": {
    "scrolled": true,
    "slideshow": {
     "slide_type": "slide"
    }
   },
   "outputs": [],
   "source": [
    "v_num.min() # Si se aplica una función a un DataFrame, esta actuará por columnas. "
   ]
  },
  {
   "cell_type": "code",
   "execution_count": null,
   "id": "d0e08a02",
   "metadata": {
    "scrolled": true,
    "slideshow": {
     "slide_type": "slide"
    }
   },
   "outputs": [],
   "source": [
    "v_num.apply(lambda df:(df-df.min())/(df.max() - df.min()))"
   ]
  },
  {
   "cell_type": "markdown",
   "id": "6a707692",
   "metadata": {
    "slideshow": {
     "slide_type": "slide"
    }
   },
   "source": [
    "# La estandarización de datos "
   ]
  },
  {
   "cell_type": "markdown",
   "id": "f55b08d5",
   "metadata": {
    "slideshow": {
     "slide_type": "slide"
    }
   },
   "source": [
    "La estandarización es diferente:  \n",
    "\n",
    "* primero resta el valor medio (por lo que los valores estandarizados siempre tienen una media cero) y luego \n",
    "* divide por la desviación estándar para que la distribución resultante tenga varianza unitaria."
   ]
  },
  {
   "cell_type": "markdown",
   "id": "7da0989c",
   "metadata": {
    "slideshow": {
     "slide_type": "slide"
    }
   },
   "source": [
    "A diferencia del escalado mínimo-máximo, la estandarización no vincula los valores a un rango específico, lo que puede ser un problema para algunos algoritmos (por ejemplo, las redes neuronales a menudo esperan un valor de entrada de 0 a 1)."
   ]
  },
  {
   "cell_type": "markdown",
   "id": "93969fc4",
   "metadata": {
    "slideshow": {
     "slide_type": "slide"
    }
   },
   "source": [
    "Sin embargo, la estandarización se ve mucho menos afectada por los valores atípicos."
   ]
  },
  {
   "cell_type": "markdown",
   "id": "9eab2ae2",
   "metadata": {
    "slideshow": {
     "slide_type": "slide"
    }
   },
   "source": [
    "Por ejemplo, suponga que un distrito tiene un ingreso medio igual a 100 (por error). La escala min-max aplastaría todos los demás valores de 0 a 15 hasta 0 a 0,15, mientras que la estandarización no se vería muy afectada. ScikitLearn proporciona un transformador llamado `StandardScaler` para la estandarización."
   ]
  },
  {
   "cell_type": "markdown",
   "id": "5bd4777b",
   "metadata": {
    "slideshow": {
     "slide_type": "slide"
    }
   },
   "source": [
    "## ADVERTENCIA"
   ]
  },
  {
   "cell_type": "markdown",
   "id": "4ba9b67a",
   "metadata": {
    "slideshow": {
     "slide_type": "slide"
    }
   },
   "source": [
    "Al igual que con todas las transformaciones, es importante ajustar los escaladores solo a los datos de entrenamiento, no al conjunto de datos completo (incluido el conjunto de prueba)."
   ]
  },
  {
   "cell_type": "markdown",
   "id": "4025537e",
   "metadata": {
    "slideshow": {
     "slide_type": "slide"
    }
   },
   "source": [
    "Solo entonces puede usarlos para transformar el conjunto de entrenamiento y el conjunto de prueba (y nuevos datos)."
   ]
  },
  {
   "cell_type": "markdown",
   "id": "1401e88d",
   "metadata": {
    "slideshow": {
     "slide_type": "slide"
    }
   },
   "source": [
    "## Transformation Pipelines"
   ]
  },
  {
   "cell_type": "markdown",
   "id": "e97fceba",
   "metadata": {
    "slideshow": {
     "slide_type": "slide"
    }
   },
   "source": [
    "Como puede ver, hay muchos pasos de transformación de datos que deben ejecutarse en el orden correcto."
   ]
  },
  {
   "cell_type": "markdown",
   "id": "db7e872c",
   "metadata": {
    "slideshow": {
     "slide_type": "slide"
    }
   },
   "source": [
    "Afortunadamente, Scikit-Learn proporciona la clase `Pipeline` para ayudar con tales secuencias de transformaciones."
   ]
  },
  {
   "cell_type": "markdown",
   "id": "0088584b",
   "metadata": {
    "slideshow": {
     "slide_type": "slide"
    }
   },
   "source": [
    "Aquí hay una pequeña tubería para los atributos numéricos:"
   ]
  },
  {
   "cell_type": "code",
   "execution_count": null,
   "id": "4f671082",
   "metadata": {
    "slideshow": {
     "slide_type": "slide"
    }
   },
   "outputs": [],
   "source": [
    "import numpy as np \n",
    "import pandas as pd\n",
    "\n",
    "from sklearn.pipeline import Pipeline\n",
    "from sklearn.impute import SimpleImputer \n",
    "from sklearn.base import BaseEstimator, TransformerMixin\n",
    "from sklearn.preprocessing import StandardScaler \n",
    "from sklearn.preprocessing import OneHotEncoder\n",
    "\n",
    "from sklearn.model_selection import train_test_split "
   ]
  },
  {
   "cell_type": "code",
   "execution_count": null,
   "id": "a843bacd",
   "metadata": {
    "slideshow": {
     "slide_type": "slide"
    }
   },
   "outputs": [],
   "source": [
    "v = pd.read_csv('vivienda.csv') \n",
    "v_train, v_test = train_test_split(v, test_size = 0.2, random_state = 513)\n",
    "v = v_train\n",
    "v_num = v.drop(['proximidad', 'precio'], axis = 1)"
   ]
  },
  {
   "cell_type": "code",
   "execution_count": null,
   "id": "8ef1021a",
   "metadata": {
    "slideshow": {
     "slide_type": "slide"
    }
   },
   "outputs": [],
   "source": [
    "habitaciones, dormitorios, población, hogares = 3, 4, 5, 6 \n",
    "class AdAtribComb(BaseEstimator, TransformerMixin):\n",
    "    def __init__(self, ad_dph = True, ad_hph = True, ad_pph = True): # no *args or **kargs\n",
    "        self.ad_dph = ad_dph\n",
    "        self.ad_hph = ad_hph\n",
    "        self.ad_pph = ad_pph\n",
    "        \n",
    "    def fit(self, X, y=None):\n",
    "        return self # nothing else to do\n",
    "    def transform(self, X, y=None):\n",
    "        if self.ad_dph:\n",
    "            dormitorios_por_habitación = X[:, dormitorios] / X[:, habitaciones]\n",
    "            X=np.c_[X, dormitorios_por_habitación]\n",
    "        if self.ad_hph:\n",
    "            habitaciones_por_hogar = X[:, habitaciones] / X[:, hogares]\n",
    "            X=np.c_[X, habitaciones_por_hogar]\n",
    "        if self.ad_pph: \n",
    "            población_por_hogar = X[:, población] / X[:, hogares]\n",
    "            X=np.c_[X, población_por_hogar] \n",
    "        return X\n",
    "       "
   ]
  },
  {
   "cell_type": "code",
   "execution_count": null,
   "id": "0086738e",
   "metadata": {
    "slideshow": {
     "slide_type": "slide"
    }
   },
   "outputs": [],
   "source": [
    "pipeline_num = Pipeline([ ('imputador', SimpleImputer(strategy = 'median')),\n",
    "                        ('adicionar_atributos', AdAtribComb()),\n",
    "                        ('estandarizar', StandardScaler()) \n",
    "                         ])"
   ]
  },
  {
   "cell_type": "code",
   "execution_count": null,
   "id": "8b65f44d",
   "metadata": {
    "slideshow": {
     "slide_type": "slide"
    }
   },
   "outputs": [],
   "source": [
    "X_num_tr = pipeline_num.fit_transform(v_num) "
   ]
  },
  {
   "cell_type": "code",
   "execution_count": null,
   "id": "870191e4",
   "metadata": {
    "scrolled": true,
    "slideshow": {
     "slide_type": "slide"
    }
   },
   "outputs": [],
   "source": [
    "v_num_tr = pd.DataFrame(X_num_tr, columns = list(v_num.columns) + \\\n",
    "                        ['dormitorios_por_habitación', 'habitaciones_por hogar', \\\n",
    "                        'población_por_hogar'], \\\n",
    "                        index = v_num.index)\n",
    "v_num_tr.head() "
   ]
  },
  {
   "cell_type": "code",
   "execution_count": null,
   "id": "6660e7b8",
   "metadata": {
    "scrolled": true,
    "slideshow": {
     "slide_type": "slide"
    }
   },
   "outputs": [],
   "source": [
    "v_num_tr.info()"
   ]
  },
  {
   "cell_type": "code",
   "execution_count": null,
   "id": "cb5aab09",
   "metadata": {
    "scrolled": true,
    "slideshow": {
     "slide_type": "slide"
    }
   },
   "outputs": [],
   "source": [
    "v_num_tr.describe() "
   ]
  },
  {
   "cell_type": "markdown",
   "id": "9308de8e",
   "metadata": {
    "slideshow": {
     "slide_type": "slide"
    }
   },
   "source": [
    "El constructor Pipeline toma una lista de pares de nombre/estimador que definen una secuencia de pasos."
   ]
  },
  {
   "cell_type": "markdown",
   "id": "1e42631f",
   "metadata": {
    "slideshow": {
     "slide_type": "slide"
    }
   },
   "source": [
    "Todos menos el último estimador deben ser transformadores (es decir, deben tener un método `fit_transform()`)."
   ]
  },
  {
   "cell_type": "markdown",
   "id": "b0bd4c55",
   "metadata": {
    "slideshow": {
     "slide_type": "slide"
    }
   },
   "source": [
    "Los nombres pueden ser cualquier cosa que desee (siempre que sean únicos y no contengan guiones bajos dobles, __); serán útiles más adelante para el ajuste de hiperparámetros."
   ]
  },
  {
   "cell_type": "markdown",
   "id": "b1c5880d",
   "metadata": {
    "slideshow": {
     "slide_type": "slide"
    }
   },
   "source": [
    "Cuando llamas al método `fit()` de la canalización, este llama a `fit_transform()` secuencialmente en todos los transformadores, pasando la salida de cada llamada como parámetro a la siguiente llamada hasta que llega al estimador final, para lo cual llama al método `fit()`."
   ]
  },
  {
   "cell_type": "markdown",
   "id": "601aa643",
   "metadata": {
    "slideshow": {
     "slide_type": "slide"
    }
   },
   "source": [
    "La canalización expone los mismos métodos que el estimador final."
   ]
  },
  {
   "cell_type": "markdown",
   "id": "d9ddc2c1",
   "metadata": {
    "slideshow": {
     "slide_type": "slide"
    }
   },
   "source": [
    "En este ejemplo, el último estimador es un `StandardScaler`, que es un transformador, por lo que la canalización tiene un método `transform()` que aplica todas las transformaciones a los datos en secuencia (y, por supuesto, también un método `fit_transform()`, que es el que usamos)."
   ]
  },
  {
   "cell_type": "markdown",
   "id": "8a7eb822",
   "metadata": {
    "slideshow": {
     "slide_type": "slide"
    }
   },
   "source": [
    "Hasta ahora, hemos manejado las columnas categóricas y las columnas numéricas por separado."
   ]
  },
  {
   "cell_type": "markdown",
   "id": "c29f42f6",
   "metadata": {
    "slideshow": {
     "slide_type": "slide"
    }
   },
   "source": [
    "Sería más conveniente tener un solo transformador capaz de manejar todas las columnas, aplicando las transformaciones adecuadas a cada columna."
   ]
  },
  {
   "cell_type": "markdown",
   "id": "2dd12470",
   "metadata": {
    "slideshow": {
     "slide_type": "slide"
    }
   },
   "source": [
    "En la versión 0.20, Scikit-Learn introdujo `ColumnTransformer` para este propósito, y la buena noticia es que funciona muy bien con pandas DataFrames."
   ]
  },
  {
   "cell_type": "markdown",
   "id": "f7643649",
   "metadata": {
    "slideshow": {
     "slide_type": "slide"
    }
   },
   "source": [
    "Let’s use it to apply all the transformations to the housing data:"
   ]
  },
  {
   "cell_type": "code",
   "execution_count": null,
   "id": "1c13ca7b",
   "metadata": {
    "slideshow": {
     "slide_type": "slide"
    }
   },
   "outputs": [],
   "source": [
    "from sklearn.compose import ColumnTransformer\n",
    "lista_atributos_num = list(v_num.columns)\n",
    "lista_atributos_cat = ['proximidad']\n",
    "full_pipeline = ColumnTransformer([\n",
    "                                   (\"numerica\", pipeline_num, lista_atributos_num),\n",
    "                                   (\"categórica\", OneHotEncoder(), lista_atributos_cat),\n",
    "                                  ])\n",
    "X_preparado = full_pipeline.fit_transform(v)"
   ]
  },
  {
   "cell_type": "code",
   "execution_count": null,
   "id": "38e787d0",
   "metadata": {
    "slideshow": {
     "slide_type": "slide"
    }
   },
   "outputs": [],
   "source": [
    "X_preparado.shape "
   ]
  },
  {
   "cell_type": "code",
   "execution_count": null,
   "id": "42a32493",
   "metadata": {
    "slideshow": {
     "slide_type": "slide"
    }
   },
   "outputs": [],
   "source": [
    "def recuperar_df(X,ad_dph=True,ad_hph=False, ad_pph=False):\n",
    "    columnas = list(v_num.columns) \n",
    "    if ad_dph: \n",
    "        columnas += ['dormitorios_por_habitación']\n",
    "    if ad_hph:\n",
    "        columnas += ['habitaciones_por_hogar'] \n",
    "    if ad_pph:\n",
    "        columnas += ['población_por_hogar'] \n",
    "    columnas+=['hora', 'interior','isla', 'bahia', 'oceano' ]    \n",
    "    indices = v.index\n",
    "    return pd.DataFrame(X, columns = columnas, index = indices) "
   ]
  },
  {
   "cell_type": "code",
   "execution_count": null,
   "id": "41a1bc48",
   "metadata": {
    "slideshow": {
     "slide_type": "slide"
    }
   },
   "outputs": [],
   "source": [
    "v_cat = v[['proximidad']]"
   ]
  },
  {
   "cell_type": "code",
   "execution_count": null,
   "id": "858c49b4",
   "metadata": {
    "slideshow": {
     "slide_type": "slide"
    }
   },
   "outputs": [],
   "source": [
    "codificador = OneHotEncoder()"
   ]
  },
  {
   "cell_type": "code",
   "execution_count": null,
   "id": "407380df",
   "metadata": {
    "slideshow": {
     "slide_type": "slide"
    }
   },
   "outputs": [],
   "source": [
    "X_cat = codificador.fit_transform(v_cat)"
   ]
  },
  {
   "cell_type": "code",
   "execution_count": null,
   "id": "e537b7e3",
   "metadata": {
    "slideshow": {
     "slide_type": "slide"
    }
   },
   "outputs": [],
   "source": [
    "codificador.categories_"
   ]
  },
  {
   "cell_type": "code",
   "execution_count": null,
   "id": "13e2384c",
   "metadata": {
    "slideshow": {
     "slide_type": "slide"
    }
   },
   "outputs": [],
   "source": [
    "v_preparado = recuperar_df(x_preparado, ad_dph = True, ad_hph = True, ad_pph = True ) "
   ]
  },
  {
   "cell_type": "code",
   "execution_count": null,
   "id": "d0d48e48",
   "metadata": {
    "slideshow": {
     "slide_type": "slide"
    }
   },
   "outputs": [],
   "source": [
    "v_preparado.info() "
   ]
  },
  {
   "cell_type": "markdown",
   "id": "6fc3eca4",
   "metadata": {
    "slideshow": {
     "slide_type": "slide"
    }
   },
   "source": [
    "Primero importamos la clase `ColumnTransformer`, luego obtenemos la lista de nombres de columnas numéricas y la lista de nombres de columnas categóricas, y luego construimos un `ColumnTransformer`."
   ]
  },
  {
   "cell_type": "markdown",
   "id": "53eef0a1",
   "metadata": {
    "slideshow": {
     "slide_type": "slide"
    }
   },
   "source": [
    "El constructor requiere una lista de tuplas, donde cada tupla contiene un nombre, un transformador y una lista de nombres (o índices) de columnas a las que se debe aplicar el transformador."
   ]
  },
  {
   "cell_type": "markdown",
   "id": "0b2d57f4",
   "metadata": {
    "slideshow": {
     "slide_type": "slide"
    }
   },
   "source": [
    "En este ejemplo, especificamos que las columnas numéricas deben transformarse usando num_pipeline que definimos anteriormente, y las columnas categóricas deben transformarse usando un `OneHotEncoder`."
   ]
  },
  {
   "cell_type": "markdown",
   "id": "1f8bb808",
   "metadata": {
    "slideshow": {
     "slide_type": "slide"
    }
   },
   "source": [
    "Finalmente, aplicamos este ColumnTransformer a los datos de la vivienda: aplica cada transformador a las columnas apropiadas y concatena las salidas a lo largo del segundo eje (los transformadores deben devolver el mismo número de filas)."
   ]
  },
  {
   "cell_type": "markdown",
   "id": "94fe76db",
   "metadata": {
    "slideshow": {
     "slide_type": "slide"
    }
   },
   "source": [
    "Tenga en cuenta que `OneHotEncoder` devuelve una **matriz dispersa**, mientras que `num_pipeline` devuelve una **matriz densa**."
   ]
  },
  {
   "cell_type": "markdown",
   "id": "20a4fef8",
   "metadata": {
    "slideshow": {
     "slide_type": "slide"
    }
   },
   "source": [
    "Cuando existe tal combinación de matrices densas y dispersas, ColumnTransformer estima la densidad de la matriz final (es decir, la proporción de celdas distintas de cero) y devuelve una matriz dispersa si la densidad es inferior a un umbral dado (por defecto, umbral_disperso=0.3)."
   ]
  },
  {
   "cell_type": "markdown",
   "id": "54cc87fe",
   "metadata": {
    "slideshow": {
     "slide_type": "slide"
    }
   },
   "source": [
    "En este ejemplo, devuelve una matriz densa."
   ]
  },
  {
   "cell_type": "markdown",
   "id": "6df2b1dc",
   "metadata": {
    "slideshow": {
     "slide_type": "slide"
    }
   },
   "source": [
    "¡Y eso es! Tenemos una canalización de preprocesamiento que toma los datos de vivienda completos y aplica las transformaciones apropiadas a cada columna."
   ]
  },
  {
   "cell_type": "markdown",
   "id": "6463ee40",
   "metadata": {
    "slideshow": {
     "slide_type": "slide"
    }
   },
   "source": [
    "## TIP"
   ]
  },
  {
   "cell_type": "markdown",
   "id": "e10d51ba",
   "metadata": {
    "slideshow": {
     "slide_type": "slide"
    }
   },
   "source": [
    "Instead of using a transformer, you can specify the string \"drop\" if you want the columns to\n",
    "be dropped, or you can specify \"passthrough\" if you want the columns to be left untouched."
   ]
  },
  {
   "cell_type": "markdown",
   "id": "0847334f",
   "metadata": {
    "slideshow": {
     "slide_type": "slide"
    }
   },
   "source": [
    "By default, the remaining columns (i.e., the ones that were not listed) will be dropped, but\n",
    "you can set the remainder hyperparameter to any transformer (or to \"passthrough\") if you\n",
    "want these columns to be handled differently."
   ]
  },
  {
   "cell_type": "markdown",
   "id": "1f6c2f0f",
   "metadata": {
    "slideshow": {
     "slide_type": "slide"
    }
   },
   "source": [
    "If you are using Scikit-Learn 0.19 or earlier, you can use a third-party library such as sklearn-pandas, or you can roll out your own custom transformer to get the same functionality as the ColumnTransformer. "
   ]
  },
  {
   "cell_type": "markdown",
   "id": "b18c3198",
   "metadata": {
    "slideshow": {
     "slide_type": "slide"
    }
   },
   "source": [
    "Alternatively, you can use the FeatureUnion class, which can apply different transformers and\n",
    "concatenate their outputs. "
   ]
  },
  {
   "cell_type": "markdown",
   "id": "86e81295",
   "metadata": {
    "slideshow": {
     "slide_type": "slide"
    }
   },
   "source": [
    "But you cannot specify different columns for each transformer; they all apply to the whole data. "
   ]
  },
  {
   "cell_type": "markdown",
   "id": "52e714c9",
   "metadata": {
    "slideshow": {
     "slide_type": "slide"
    }
   },
   "source": [
    "It is possible to work around this limitation using a custom transformer for column selection (see the Jupyter notebook for an example)."
   ]
  },
  {
   "cell_type": "markdown",
   "id": "10a400ac",
   "metadata": {
    "slideshow": {
     "slide_type": "slide"
    }
   },
   "source": [
    "## Select and Train a Model"
   ]
  },
  {
   "cell_type": "markdown",
   "id": "f8955bee",
   "metadata": {
    "slideshow": {
     "slide_type": "slide"
    }
   },
   "source": [
    "¡Por fin! \n",
    "\n",
    "* Enmarcó el problema, \n",
    "* obtuvo los datos y los exploró, \n",
    "* muestreó un conjunto de entrenamiento y un conjunto de prueba, y \n",
    "* escribió canalizaciones de transformación para limpiar y preparar sus datos para los algoritmos de aprendizaje automático automáticamente."
   ]
  },
  {
   "cell_type": "markdown",
   "id": "ced0f70b",
   "metadata": {
    "slideshow": {
     "slide_type": "slide"
    }
   },
   "source": [
    "Ahora está listo para seleccionar y entrenar un modelo de Machine Learning."
   ]
  },
  {
   "cell_type": "markdown",
   "id": "9f628da5",
   "metadata": {
    "slideshow": {
     "slide_type": "slide"
    }
   },
   "source": [
    "## Entrenamiento y evaluación en el conjunto de entrenamiento"
   ]
  },
  {
   "cell_type": "markdown",
   "id": "f1c8aea6",
   "metadata": {
    "slideshow": {
     "slide_type": "slide"
    }
   },
   "source": [
    "The good news is that thanks to all these previous steps, things are now going to be much simpler than you might think. "
   ]
  },
  {
   "cell_type": "markdown",
   "id": "c9f2e2c2",
   "metadata": {
    "slideshow": {
     "slide_type": "slide"
    }
   },
   "source": [
    "Let’s first train a Linear Regression model, like we did in the previous chapter:\n"
   ]
  },
  {
   "cell_type": "code",
   "execution_count": null,
   "id": "f0265607",
   "metadata": {
    "slideshow": {
     "slide_type": "slide"
    }
   },
   "outputs": [],
   "source": [
    "from sklearn.linear_model import LinearRegression\n",
    "reg_lin = LinearRegression()\n",
    "reg_lin.fit(v_preparado, v_labels)"
   ]
  },
  {
   "cell_type": "markdown",
   "id": "f7a6784b",
   "metadata": {
    "slideshow": {
     "slide_type": "slide"
    }
   },
   "source": [
    "¡Hecho! Ahora tiene un modelo de regresión lineal en funcionamiento. Probémoslo en algunas instancias del conjunto de entrenamiento:"
   ]
  },
  {
   "cell_type": "code",
   "execution_count": null,
   "id": "d72ab658",
   "metadata": {
    "slideshow": {
     "slide_type": "slide"
    }
   },
   "outputs": [],
   "source": [
    "some_data = housing.iloc[:5]\n",
    "some_labels = housing_labels.iloc[:5]\n",
    "some_data_prepared = full_pipeline.transform(some_data)\n",
    "print(\"Predictions:\", lin_reg.predict(some_data_prepared))"
   ]
  },
  {
   "cell_type": "code",
   "execution_count": null,
   "id": "4fb4f685",
   "metadata": {
    "slideshow": {
     "slide_type": "slide"
    }
   },
   "outputs": [],
   "source": [
    "print(\"Labels:\", list(some_labels))"
   ]
  },
  {
   "cell_type": "markdown",
   "id": "48c3bb0e",
   "metadata": {
    "slideshow": {
     "slide_type": "slide"
    }
   },
   "source": [
    "## [Video de apoyo](https://www.youtube.com/watch?v=o-GSsrfHmEk)"
   ]
  },
  {
   "cell_type": "code",
   "execution_count": null,
   "id": "cccddf51",
   "metadata": {},
   "outputs": [],
   "source": []
  },
  {
   "cell_type": "markdown",
   "id": "1b45ad0a",
   "metadata": {
    "slideshow": {
     "slide_type": "slide"
    }
   },
   "source": [
    "# Randomized Search"
   ]
  },
  {
   "cell_type": "markdown",
   "id": "a68e7c41",
   "metadata": {
    "slideshow": {
     "slide_type": "slide"
    }
   },
   "source": [
    "El enfoque de búsqueda en cuadrícula está bien cuando está explorando relativamente pocas combinaciones, como en el ejemplo anterior, pero cuando el espacio de búsqueda de hiperparámetros es grande, a menudo es preferible usar `RandomizedSearchCV` en su lugar."
   ]
  },
  {
   "cell_type": "markdown",
   "id": "773ef984",
   "metadata": {
    "slideshow": {
     "slide_type": "slide"
    }
   },
   "source": [
    "Esta clase se puede usar de la misma manera que la clase `GridSearchCV`, pero en lugar de probar todas las combinaciones posibles, evalúa un número determinado de combinaciones aleatorias seleccionando un valor aleatorio para cada hiperparámetro en cada iteración."
   ]
  },
  {
   "cell_type": "markdown",
   "id": "1848d58b",
   "metadata": {
    "slideshow": {
     "slide_type": "slide"
    }
   },
   "source": [
    "This approach has two main benefits: If you let the randomized search run for, say, 1,000 iterations, this\n",
    "approach will explore 1,000 different values for each hyperparameter (instead of just a few values per hyperparameter with the grid search approach)."
   ]
  },
  {
   "cell_type": "markdown",
   "id": "28a55b69",
   "metadata": {
    "slideshow": {
     "slide_type": "slide"
    }
   },
   "source": [
    "Simply by setting the number of iterations, you have more control over the computing budget you want to allocate to hyperparameter search."
   ]
  },
  {
   "cell_type": "markdown",
   "id": "abb58845",
   "metadata": {
    "slideshow": {
     "slide_type": "slide"
    }
   },
   "source": [
    "## Ensemble Methods\n"
   ]
  },
  {
   "cell_type": "markdown",
   "id": "8346b224",
   "metadata": {
    "slideshow": {
     "slide_type": "slide"
    }
   },
   "source": [
    "Otra forma de ajustar su sistema es intentar combinar los modelos que funcionan mejor."
   ]
  },
  {
   "cell_type": "markdown",
   "id": "da32d32e",
   "metadata": {
    "slideshow": {
     "slide_type": "slide"
    }
   },
   "source": [
    "The group (or “ensemble”) will often perform better than the best individual model (just like Random Forests perform better than the individual Decision Trees they rely on), especially if the individual models make very different types of errors. "
   ]
  },
  {
   "cell_type": "markdown",
   "id": "7af94a98",
   "metadata": {
    "slideshow": {
     "slide_type": "slide"
    }
   },
   "source": [
    "We will cover this topic in more detail in Chapter 7."
   ]
  },
  {
   "cell_type": "code",
   "execution_count": null,
   "id": "c7b2e77a",
   "metadata": {
    "slideshow": {
     "slide_type": "slide"
    }
   },
   "outputs": [],
   "source": []
  },
  {
   "cell_type": "code",
   "execution_count": null,
   "id": "a1665a9e",
   "metadata": {
    "slideshow": {
     "slide_type": "slide"
    }
   },
   "outputs": [],
   "source": []
  },
  {
   "cell_type": "code",
   "execution_count": null,
   "id": "227dd130",
   "metadata": {
    "slideshow": {
     "slide_type": "slide"
    }
   },
   "outputs": [],
   "source": []
  },
  {
   "cell_type": "code",
   "execution_count": null,
   "id": "a4dfbe03",
   "metadata": {
    "slideshow": {
     "slide_type": "slide"
    }
   },
   "outputs": [],
   "source": []
  },
  {
   "cell_type": "code",
   "execution_count": null,
   "id": "98ee2c11",
   "metadata": {},
   "outputs": [],
   "source": []
  },
  {
   "cell_type": "code",
   "execution_count": null,
   "id": "4f9a17b8",
   "metadata": {},
   "outputs": [],
   "source": []
  },
  {
   "cell_type": "code",
   "execution_count": null,
   "id": "fb67b046",
   "metadata": {},
   "outputs": [],
   "source": []
  },
  {
   "cell_type": "code",
   "execution_count": null,
   "id": "02bd0be6",
   "metadata": {},
   "outputs": [],
   "source": []
  },
  {
   "cell_type": "code",
   "execution_count": null,
   "id": "067e2e20",
   "metadata": {},
   "outputs": [],
   "source": []
  },
  {
   "cell_type": "code",
   "execution_count": null,
   "id": "88f2065c",
   "metadata": {},
   "outputs": [],
   "source": []
  },
  {
   "cell_type": "code",
   "execution_count": null,
   "id": "0835e37a",
   "metadata": {},
   "outputs": [],
   "source": []
  },
  {
   "cell_type": "code",
   "execution_count": null,
   "id": "7f432e99",
   "metadata": {},
   "outputs": [],
   "source": []
  },
  {
   "cell_type": "code",
   "execution_count": null,
   "id": "b0f26f7d",
   "metadata": {},
   "outputs": [],
   "source": []
  },
  {
   "cell_type": "code",
   "execution_count": null,
   "id": "60521c07",
   "metadata": {},
   "outputs": [],
   "source": []
  },
  {
   "cell_type": "code",
   "execution_count": null,
   "id": "9e0aac1d",
   "metadata": {},
   "outputs": [],
   "source": []
  },
  {
   "cell_type": "code",
   "execution_count": null,
   "id": "151ef74c",
   "metadata": {},
   "outputs": [],
   "source": []
  },
  {
   "cell_type": "code",
   "execution_count": null,
   "id": "d02f23c1",
   "metadata": {},
   "outputs": [],
   "source": []
  },
  {
   "cell_type": "code",
   "execution_count": null,
   "id": "5909cb8a",
   "metadata": {},
   "outputs": [],
   "source": []
  },
  {
   "cell_type": "code",
   "execution_count": null,
   "id": "0b8ab3c5",
   "metadata": {},
   "outputs": [],
   "source": []
  },
  {
   "cell_type": "code",
   "execution_count": null,
   "id": "77b46829",
   "metadata": {},
   "outputs": [],
   "source": []
  },
  {
   "cell_type": "code",
   "execution_count": null,
   "id": "dc720991",
   "metadata": {},
   "outputs": [],
   "source": []
  },
  {
   "cell_type": "code",
   "execution_count": null,
   "id": "5e5ad6b3",
   "metadata": {},
   "outputs": [],
   "source": []
  },
  {
   "cell_type": "code",
   "execution_count": null,
   "id": "cd7616f0",
   "metadata": {},
   "outputs": [],
   "source": []
  },
  {
   "cell_type": "code",
   "execution_count": null,
   "id": "1fd9fd65",
   "metadata": {},
   "outputs": [],
   "source": []
  },
  {
   "cell_type": "code",
   "execution_count": null,
   "id": "e2b5a6e9",
   "metadata": {},
   "outputs": [],
   "source": []
  },
  {
   "cell_type": "code",
   "execution_count": null,
   "id": "cf689ff0",
   "metadata": {},
   "outputs": [],
   "source": []
  },
  {
   "cell_type": "code",
   "execution_count": null,
   "id": "e3bf7545",
   "metadata": {},
   "outputs": [],
   "source": []
  },
  {
   "cell_type": "markdown",
   "id": "8a3dfef1",
   "metadata": {
    "slideshow": {
     "slide_type": "slide"
    }
   },
   "source": [
    "Let’s first train a Linear Regression model, like we did in the previous chapter:"
   ]
  },
  {
   "cell_type": "code",
   "execution_count": null,
   "id": "2a2d53b7",
   "metadata": {
    "slideshow": {
     "slide_type": "slide"
    }
   },
   "outputs": [],
   "source": [
    "from sklearn.linear_model import LinearRegression\n",
    "lin_reg = LinearRegression()\n",
    "lin_reg.fit(housing_prepared, housing_labels)"
   ]
  },
  {
   "cell_type": "markdown",
   "id": "23fbeeb5",
   "metadata": {
    "slideshow": {
     "slide_type": "slide"
    }
   },
   "source": [
    "Done! You now have a working Linear Regression model. "
   ]
  },
  {
   "cell_type": "markdown",
   "id": "0fe4cd29",
   "metadata": {
    "slideshow": {
     "slide_type": "slide"
    }
   },
   "source": [
    "Let’s try it out on a few instances from the training set:"
   ]
  },
  {
   "cell_type": "code",
   "execution_count": null,
   "id": "4432cf5d",
   "metadata": {
    "slideshow": {
     "slide_type": "slide"
    }
   },
   "outputs": [],
   "source": [
    "some_data = housing.iloc[:5]\n",
    "some_labels = housing_labels.iloc[:5]\n",
    "some_data_prepared = full_pipeline.transform(some_data)\n",
    "print(\"Predictions:\", lin_reg.predict(some_data_prepared))\n"
   ]
  },
  {
   "cell_type": "code",
   "execution_count": null,
   "id": "8293bcfb",
   "metadata": {
    "slideshow": {
     "slide_type": "slide"
    }
   },
   "outputs": [],
   "source": [
    "print(\"Labels:\", list(some_labels))\n"
   ]
  },
  {
   "cell_type": "markdown",
   "id": "edaa7899",
   "metadata": {
    "slideshow": {
     "slide_type": "slide"
    }
   },
   "source": [
    "It works, although the predictions are not exactly accurate (e.g., the first prediction is off by close to 40%!). "
   ]
  },
  {
   "cell_type": "markdown",
   "id": "c093fa37",
   "metadata": {
    "slideshow": {
     "slide_type": "slide"
    }
   },
   "source": [
    "Let’s measure this regression model’s RMSE on the whole training set using Scikit-Learn’s mean_squared_error() function:"
   ]
  },
  {
   "cell_type": "code",
   "execution_count": null,
   "id": "49c8065f",
   "metadata": {
    "slideshow": {
     "slide_type": "slide"
    }
   },
   "outputs": [],
   "source": [
    "from sklearn.metrics import mean_squared_error\n",
    "housing_predictions = lin_reg.predict(housing_prepared)\n",
    "lin_mse = mean_squared_error(housing_labels, housing_predictions)\n",
    "lin_rmse = np.sqrt(lin_mse)\n",
    "lin_rmse\n"
   ]
  },
  {
   "cell_type": "markdown",
   "id": "b1d93f2f",
   "metadata": {
    "slideshow": {
     "slide_type": "slide"
    }
   },
   "source": [
    "This is better than nothing, but clearly not a great score: most districts’ median_housing_values range between $120,000 and $265,000, so a typical prediction error of $68,628 is not very satisfying. "
   ]
  },
  {
   "cell_type": "markdown",
   "id": "a81bbc0f",
   "metadata": {
    "slideshow": {
     "slide_type": "slide"
    }
   },
   "source": [
    "This is an example of a model underfitting the training data. "
   ]
  },
  {
   "cell_type": "markdown",
   "id": "e320c62e",
   "metadata": {
    "slideshow": {
     "slide_type": "slide"
    }
   },
   "source": [
    "When this happens it can mean that the features do not provide enough information to make good predictions, or that the model is not powerful enough. "
   ]
  },
  {
   "cell_type": "markdown",
   "id": "62814e0b",
   "metadata": {
    "slideshow": {
     "slide_type": "slide"
    }
   },
   "source": [
    "As we saw in the previous chapter, the main ways to fix underfitting are to select a more powerful model, to feed the training algorithm with better features, or to reduce the constraints on the model. "
   ]
  },
  {
   "cell_type": "markdown",
   "id": "b8a00de2",
   "metadata": {
    "slideshow": {
     "slide_type": "slide"
    }
   },
   "source": [
    "This model is not regularized, which rules out the last option. "
   ]
  },
  {
   "cell_type": "markdown",
   "id": "9a3b5d68",
   "metadata": {
    "slideshow": {
     "slide_type": "slide"
    }
   },
   "source": [
    "You could try to add more features (e.g., the log of the population), but first let’s try a more complex model to see how it does."
   ]
  },
  {
   "cell_type": "markdown",
   "id": "3a02b112",
   "metadata": {
    "slideshow": {
     "slide_type": "slide"
    }
   },
   "source": [
    "Let’s train a DecisionTreeRegressor. "
   ]
  },
  {
   "cell_type": "markdown",
   "id": "e8d3bc9c",
   "metadata": {
    "slideshow": {
     "slide_type": "slide"
    }
   },
   "source": [
    "This is a powerful model, capable of finding complex nonlinear relationships in the data (Decision Trees are presented in more detail in Chapter 6). "
   ]
  },
  {
   "cell_type": "markdown",
   "id": "e61785db",
   "metadata": {
    "slideshow": {
     "slide_type": "slide"
    }
   },
   "source": [
    "The code should look familiar by now:"
   ]
  },
  {
   "cell_type": "code",
   "execution_count": null,
   "id": "9971bda5",
   "metadata": {
    "slideshow": {
     "slide_type": "slide"
    }
   },
   "outputs": [],
   "source": []
  },
  {
   "cell_type": "code",
   "execution_count": null,
   "id": "f35ada45",
   "metadata": {
    "slideshow": {
     "slide_type": "slide"
    }
   },
   "outputs": [],
   "source": []
  },
  {
   "cell_type": "code",
   "execution_count": null,
   "id": "9ad9cf95",
   "metadata": {
    "slideshow": {
     "slide_type": "slide"
    }
   },
   "outputs": [],
   "source": []
  },
  {
   "cell_type": "markdown",
   "id": "f3ee6795",
   "metadata": {
    "slideshow": {
     "slide_type": "slide"
    }
   },
   "source": [
    "## Referentes\n",
    "\n",
    "* La clase Pipeline: https://scikit-learn.org/stable/modules/generated/sklearn.pipeline.Pipeline.html"
   ]
  }
 ],
 "metadata": {
  "celltoolbar": "Slideshow",
  "kernelspec": {
   "display_name": "Python 3 (ipykernel)",
   "language": "python",
   "name": "python3"
  },
  "language_info": {
   "codemirror_mode": {
    "name": "ipython",
    "version": 3
   },
   "file_extension": ".py",
   "mimetype": "text/x-python",
   "name": "python",
   "nbconvert_exporter": "python",
   "pygments_lexer": "ipython3",
   "version": "3.9.7"
  },
  "rise": {
   "enable_chalkboard": true,
   "theme": "sky",
   "transition": "sky"
  }
 },
 "nbformat": 4,
 "nbformat_minor": 5
}
