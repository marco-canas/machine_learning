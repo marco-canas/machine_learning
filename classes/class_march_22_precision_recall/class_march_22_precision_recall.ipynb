{
 "cells": [
  {
   "cell_type": "markdown",
   "id": "9df4df13",
   "metadata": {
    "slideshow": {
     "slide_type": "slide"
    }
   },
   "source": [
    "<table align=\"left\">\n",
    "  <td>\n",
    "    <a href=\"https://colab.research.google.com/github/marco-canas/machine_learning/blob/main/classes/class_march_22_precision_recall/class_march_22_precision_recall.ipynb\" target=\"_parent\"><img src=\"https://colab.research.google.com/assets/colab-badge.svg\" alt=\"Open In Colab\"/></a>\n",
    "  </td>\n",
    "</table> "
   ]
  },
  {
   "cell_type": "markdown",
   "id": "65f37c1d",
   "metadata": {
    "slideshow": {
     "slide_type": "slide"
    }
   },
   "source": [
    "# Class del 22 de marzo Precision and recall"
   ]
  },
  {
   "cell_type": "markdown",
   "id": "bc70aa30",
   "metadata": {
    "slideshow": {
     "slide_type": "slide"
    }
   },
   "source": [
    "## Objetivo\n",
    "\n",
    "Capacitar un clasificador binario de acuerdo a la necesidad de precisión o recuerdo. \n"
   ]
  },
  {
   "cell_type": "markdown",
   "id": "86bce79f",
   "metadata": {
    "slideshow": {
     "slide_type": "slide"
    }
   },
   "source": [
    "## Intercambio de precisión/recuperación"
   ]
  },
  {
   "cell_type": "markdown",
   "id": "29bd3829",
   "metadata": {
    "slideshow": {
     "slide_type": "slide"
    }
   },
   "source": [
    "Para comprender esta compensación, veamos cómo `SGDClassifier` toma sus decisiones de clasificación."
   ]
  },
  {
   "cell_type": "markdown",
   "id": "0d148716",
   "metadata": {
    "slideshow": {
     "slide_type": "slide"
    }
   },
   "source": [
    "Para cada instancia, calcula una puntuación basada en una función de decisión."
   ]
  },
  {
   "cell_type": "markdown",
   "id": "00fa2efe",
   "metadata": {
    "slideshow": {
     "slide_type": "slide"
    }
   },
   "source": [
    "* Si esa puntuación es mayor que un umbral, asigna la instancia a la **clase positiva**; \n",
    "* de lo contrario, la asigna a **la clase negativa**."
   ]
  },
  {
   "cell_type": "markdown",
   "id": "47963dff",
   "metadata": {
    "slideshow": {
     "slide_type": "skip"
    }
   },
   "source": [
    "La siguiente figura muestra algunos dígitos ubicados desde la puntuación más baja a la izquierda hasta la puntuación más alta a la derecha."
   ]
  },
  {
   "cell_type": "markdown",
   "id": "2a08a6d1",
   "metadata": {
    "slideshow": {
     "slide_type": "slide"
    }
   },
   "source": [
    "<img src = 'https://github.com/marco-canas/machine_learning/blob/main/classes/class_march_22_precision_recall/figura_3_3_clasificacion_binaria_mnist.jpg?raw=true'>"
   ]
  },
  {
   "cell_type": "markdown",
   "id": "de7cb644",
   "metadata": {
    "slideshow": {
     "slide_type": "skip"
    }
   },
   "source": [
    "Supongamos que el umbral de decisión se coloca en la flecha central (entre los dos 5):  \n",
    "\n",
    "* encontrará 4 verdaderos positivos (cincos reales) a la derecha de ese umbral y 1 falso positivo (en realidad, un 6)."
   ]
  },
  {
   "cell_type": "markdown",
   "id": "16057d7d",
   "metadata": {
    "slideshow": {
     "slide_type": "skip"
    }
   },
   "source": [
    "Por tanto, con ese umbral, la precisión es del 80% (4 sobre 5)."
   ]
  },
  {
   "cell_type": "markdown",
   "id": "04a89f96",
   "metadata": {
    "slideshow": {
     "slide_type": "skip"
    }
   },
   "source": [
    "Pero de los 6 cincos reales, el clasificador solo detecta 4, por lo que la recuperación es del $67 \\%$ (4 de 6)."
   ]
  },
  {
   "cell_type": "code",
   "execution_count": null,
   "id": "86b97c84",
   "metadata": {
    "slideshow": {
     "slide_type": "skip"
    }
   },
   "outputs": [],
   "source": [
    "4/6"
   ]
  },
  {
   "cell_type": "markdown",
   "id": "bd5e0075",
   "metadata": {
    "slideshow": {
     "slide_type": "skip"
    }
   },
   "source": [
    "* Si subes el umbral, el **falso positivo** (el 6) se convierte en un verdadero negativo, aumentando así la precisión,  \n",
    "\n",
    "* pero un verdadero positivo se convierte en un **falso negativo** , disminuyendo el recuerdo hasta un $50\\%$."
   ]
  },
  {
   "cell_type": "markdown",
   "id": "482b4370",
   "metadata": {
    "slideshow": {
     "slide_type": "skip"
    }
   },
   "source": [
    "Por el contrario, bajar el umbral aumenta la recuperación y reduce la precisión."
   ]
  },
  {
   "cell_type": "markdown",
   "id": "5fd27a7a",
   "metadata": {
    "slideshow": {
     "slide_type": "slide"
    }
   },
   "source": [
    "Scikit-Learn no le permite establecer el umbral directamente, pero le da acceso a los puntajes de decisión que utiliza para hacer predicciones. "
   ]
  },
  {
   "cell_type": "markdown",
   "id": "258c3292",
   "metadata": {
    "slideshow": {
     "slide_type": "slide"
    }
   },
   "source": [
    "* En lugar de llamar al método `predict()` del clasificador, \n",
    "\n",
    "\n",
    "* puede llamar a su método `decision_function()`, que devuelve un puntaje para cada instancia, y \n",
    "\n",
    "* luego usar cualquier umbral que desee para hacer predicciones basadas en esos puntajes:"
   ]
  },
  {
   "cell_type": "code",
   "execution_count": 1,
   "id": "c4975982",
   "metadata": {
    "slideshow": {
     "slide_type": "slide"
    }
   },
   "outputs": [
    {
     "name": "stdout",
     "output_type": "stream",
     "text": [
      "Wall time: 58 s\n"
     ]
    }
   ],
   "source": [
    "%%time \n",
    "\n",
    "import numpy as np \n",
    "from sklearn.datasets import fetch_openml\n",
    "mnist = fetch_openml('mnist_784', version = 1, as_frame = False) "
   ]
  },
  {
   "cell_type": "code",
   "execution_count": 2,
   "id": "e3f741c2",
   "metadata": {
    "slideshow": {
     "slide_type": "slide"
    }
   },
   "outputs": [
    {
     "name": "stdout",
     "output_type": "stream",
     "text": [
      "Wall time: 0 ns\n"
     ]
    }
   ],
   "source": [
    "%%time \n",
    "\n",
    "X,y = mnist['data'], mnist['target'] "
   ]
  },
  {
   "cell_type": "markdown",
   "id": "c5276eb7",
   "metadata": {
    "slideshow": {
     "slide_type": "slide"
    }
   },
   "source": [
    "## Hacer conversión de `str` a `int64`"
   ]
  },
  {
   "cell_type": "code",
   "execution_count": 3,
   "id": "db633b33",
   "metadata": {
    "slideshow": {
     "slide_type": "slide"
    }
   },
   "outputs": [
    {
     "data": {
      "text/plain": [
       "str"
      ]
     },
     "execution_count": 3,
     "metadata": {},
     "output_type": "execute_result"
    }
   ],
   "source": [
    "type(y[0]) "
   ]
  },
  {
   "cell_type": "code",
   "execution_count": 4,
   "id": "c56a6750",
   "metadata": {
    "slideshow": {
     "slide_type": "slide"
    }
   },
   "outputs": [
    {
     "name": "stdout",
     "output_type": "stream",
     "text": [
      "Wall time: 11 ms\n"
     ]
    }
   ],
   "source": [
    "%%time \n",
    "\n",
    "y = y.astype(np.int64) "
   ]
  },
  {
   "cell_type": "code",
   "execution_count": 5,
   "id": "0ef03c33",
   "metadata": {
    "slideshow": {
     "slide_type": "slide"
    }
   },
   "outputs": [
    {
     "name": "stdout",
     "output_type": "stream",
     "text": [
      "Wall time: 0 ns\n"
     ]
    }
   ],
   "source": [
    "%%time \n",
    "\n",
    "X_train, X_test, y_train, y_test = X[:60_000], X[60_000:], \\\n",
    "                                   y[:60_000], y[60_000:]"
   ]
  },
  {
   "cell_type": "markdown",
   "id": "ae025209",
   "metadata": {
    "slideshow": {
     "slide_type": "slide"
    }
   },
   "source": [
    "## Configurar los datos para un detector de cincos \n"
   ]
  },
  {
   "cell_type": "code",
   "execution_count": 6,
   "id": "758d871a",
   "metadata": {
    "slideshow": {
     "slide_type": "slide"
    }
   },
   "outputs": [],
   "source": [
    "y_train_5 = (y_train==5)\n",
    "y_test_5 = (y_test==5)"
   ]
  },
  {
   "cell_type": "code",
   "execution_count": 7,
   "id": "6cccfa63",
   "metadata": {
    "slideshow": {
     "slide_type": "slide"
    }
   },
   "outputs": [
    {
     "name": "stdout",
     "output_type": "stream",
     "text": [
      "Wall time: 431 ms\n"
     ]
    }
   ],
   "source": [
    "%%time \n",
    "\n",
    "from sklearn.linear_model import SGDClassifier"
   ]
  },
  {
   "cell_type": "code",
   "execution_count": 8,
   "id": "3f523975",
   "metadata": {
    "slideshow": {
     "slide_type": "slide"
    }
   },
   "outputs": [
    {
     "name": "stdout",
     "output_type": "stream",
     "text": [
      "Wall time: 0 ns\n"
     ]
    }
   ],
   "source": [
    "%%time \n",
    "\n",
    "sgd_clf = SGDClassifier(max_iter = 1000, tol = 1e-3, random_state = 42) "
   ]
  },
  {
   "cell_type": "code",
   "execution_count": 9,
   "id": "9f5bfd04",
   "metadata": {
    "slideshow": {
     "slide_type": "slide"
    }
   },
   "outputs": [
    {
     "name": "stdout",
     "output_type": "stream",
     "text": [
      "Wall time: 35.8 s\n"
     ]
    },
    {
     "data": {
      "text/plain": [
       "SGDClassifier(random_state=42)"
      ]
     },
     "execution_count": 9,
     "metadata": {},
     "output_type": "execute_result"
    }
   ],
   "source": [
    "%%time\n",
    "\n",
    "sgd_clf.fit(X_train, y_train_5) "
   ]
  },
  {
   "cell_type": "markdown",
   "id": "6e9bb454",
   "metadata": {
    "slideshow": {
     "slide_type": "slide"
    }
   },
   "source": [
    "# Función de puntajes "
   ]
  },
  {
   "cell_type": "markdown",
   "id": "f86fddde",
   "metadata": {
    "slideshow": {
     "slide_type": "slide"
    }
   },
   "source": [
    "$$ h_{w}(x) = \\text{sign} \\left(\\sum_{i = 0}^{784} w \\cdot x_b \\right) $$"
   ]
  },
  {
   "cell_type": "markdown",
   "id": "7dfb8d73",
   "metadata": {
    "slideshow": {
     "slide_type": "slide"
    }
   },
   "source": [
    "$$ h_{w}(x) = w_{0} + w_{1}x_{1} + w_{2}x_{2} + \\cdots + w_{784}x_{784} $$"
   ]
  },
  {
   "cell_type": "code",
   "execution_count": 47,
   "id": "eca1b219",
   "metadata": {
    "slideshow": {
     "slide_type": "slide"
    }
   },
   "outputs": [
    {
     "data": {
      "text/plain": [
       "array([[ 0.00000000e+00,  0.00000000e+00,  0.00000000e+00,\n",
       "         0.00000000e+00,  0.00000000e+00,  0.00000000e+00,\n",
       "         0.00000000e+00,  0.00000000e+00,  0.00000000e+00,\n",
       "         0.00000000e+00,  0.00000000e+00,  0.00000000e+00,\n",
       "         0.00000000e+00,  0.00000000e+00,  0.00000000e+00,\n",
       "         0.00000000e+00,  0.00000000e+00,  0.00000000e+00,\n",
       "         0.00000000e+00,  0.00000000e+00,  0.00000000e+00,\n",
       "         0.00000000e+00,  0.00000000e+00,  0.00000000e+00,\n",
       "         0.00000000e+00,  0.00000000e+00,  0.00000000e+00,\n",
       "         0.00000000e+00,  0.00000000e+00,  0.00000000e+00,\n",
       "         0.00000000e+00,  0.00000000e+00,  0.00000000e+00,\n",
       "         0.00000000e+00,  0.00000000e+00,  0.00000000e+00,\n",
       "         0.00000000e+00, -3.62596776e-02, -1.76417277e-01,\n",
       "        -1.63168549e-01, -3.13785671e-01, -1.93849815e-01,\n",
       "        -3.83515821e-02, -5.62722304e-01, -1.26281300e+00,\n",
       "        -5.15305803e-01, -1.33324045e+00, -1.10731477e+00,\n",
       "        -3.17272179e-01, -1.05989827e-01,  0.00000000e+00,\n",
       "         0.00000000e+00,  0.00000000e+00,  0.00000000e+00,\n",
       "         0.00000000e+00,  0.00000000e+00,  0.00000000e+00,\n",
       "         0.00000000e+00,  0.00000000e+00, -1.35973791e-01,\n",
       "        -7.60058626e-02, -5.85733253e-02, -2.02217433e-02,\n",
       "        -2.19649970e-01, -1.91060609e+00, -4.63077921e+00,\n",
       "        -6.99044746e+00, -1.23450256e+01, -1.13771711e+01,\n",
       "        -1.06798697e+01, -1.47681483e+01, -4.64751444e+00,\n",
       "        -1.36392172e+00, -3.28429003e+00,  2.58698854e-01,\n",
       "        -1.06896319e+00, -6.59577481e+00, -2.53748013e+00,\n",
       "        -1.14148254e+00, -7.46112596e-01, -1.82762721e+00,\n",
       "         0.00000000e+00,  0.00000000e+00,  0.00000000e+00,\n",
       "         0.00000000e+00,  0.00000000e+00,  0.00000000e+00,\n",
       "        -4.35116131e-01,  8.59912200e+00, -2.25298112e+00,\n",
       "        -2.44334443e+00, -6.76312717e+00, -6.31057850e-01,\n",
       "        -9.63391741e+00,  9.20089319e+00, -1.05982854e+01,\n",
       "         3.05069403e+00, -2.50122045e+00, -2.17558066e-01,\n",
       "        -3.55623761e-02, -2.79687628e+00,  8.29788776e-02,\n",
       "        -1.62471248e+00, -2.14768860e-01, -4.35116131e-01,\n",
       "        -1.95104957e+00,  2.90844452e+00, -9.56558187e+00,\n",
       "        -2.55630727e+00,  3.36099319e-01, -7.04274507e-01,\n",
       "         0.00000000e+00,  0.00000000e+00, -2.64974567e-02,\n",
       "        -6.24782137e-01, -4.88111044e-01, -4.46203225e+00,\n",
       "        -1.59047497e+01,  3.44466937e-01,  2.97259626e+00,\n",
       "        -6.58322339e+00, -6.66620226e-01, -1.67770739e+00,\n",
       "         4.62310889e-01, -7.92134495e-01, -1.96987672e+00,\n",
       "         3.21455988e-01,  1.39948409e+00, -1.09546064e+00,\n",
       "        -1.70071834e+00,  7.69820847e-01, -1.37577584e+00,\n",
       "        -2.85475231e+00,  3.18736512e+00, -6.42214674e-01,\n",
       "         1.96848211e+00,  5.30576705e+00, -2.24949461e+00,\n",
       "         3.61899474e-01, -2.66787551e+00,  0.00000000e+00,\n",
       "         0.00000000e+00, -7.64939737e-01,  4.72909872e+00,\n",
       "        -1.77804907e+01, -2.46217157e+00, -5.04846280e+00,\n",
       "         1.66655057e-01, -3.89094233e-01, -8.16540047e-01,\n",
       "         3.05418054e-01, -1.22585602e+00, -1.53336598e+00,\n",
       "         9.31594793e-01, -4.01645659e-01, -1.40506251e+00,\n",
       "        -2.07516924e+00,  8.27696871e-01,  2.23206208e+00,\n",
       "        -4.26051212e-01,  3.45931270e+00, -6.41517373e-01,\n",
       "         1.72233469e+00,  7.23101647e-01,  7.94923701e-02,\n",
       "         9.13464955e-02,  3.75845504e+00, -2.84777929e+00,\n",
       "         0.00000000e+00,  0.00000000e+00,  4.00181326e+00,\n",
       "        -9.67017709e+00,  3.42165842e+00,  3.17272179e+00,\n",
       "        -1.81507578e+00, -1.80601086e-01, -1.67561549e+00,\n",
       "         1.42249504e-01, -9.12767653e-01, -5.55749289e-01,\n",
       "        -1.15821778e+00, -7.55874817e-01,  1.57590137e-01,\n",
       "        -6.58252608e-01, -4.72770412e-01, -6.72895940e-01,\n",
       "        -8.74416071e-01,  2.06052591e+00,  4.24656609e-01,\n",
       "        -5.32738340e-01,  4.69981206e-01, -7.06366411e-01,\n",
       "         4.91527822e+00, -2.51795569e+00,  4.31420433e+00,\n",
       "         2.65532408e+00,  0.00000000e+00, -3.27731701e-01,\n",
       "         2.21532684e+00, -7.03577205e+00, -1.34648918e+01,\n",
       "        -1.74952944e+00, -6.05954997e-01,  1.37368394e-01,\n",
       "         1.47339805e+00, -1.00062764e+00,  1.20214777e+00,\n",
       "        -1.05292525e-01, -7.50296405e-01, -1.26281300e+00,\n",
       "         2.01659591e+00, -2.08074765e+00,  9.29502889e-01,\n",
       "         1.10870937e-01,  5.66906113e-01,  1.58984740e-01,\n",
       "         6.71501337e-01,  9.97141134e-01,  1.07035779e+00,\n",
       "        -5.99679283e-02,  2.76898422e+00,  7.96597225e+00,\n",
       "        -8.08730270e+00,  7.75050608e+00,  0.00000000e+00,\n",
       "         0.00000000e+00, -8.73718770e-01, -9.25319080e+00,\n",
       "        -6.62924528e+00, -5.02057074e-01, -1.37019743e+00,\n",
       "        -1.68468040e+00,  6.59647211e-01, -1.41761393e+00,\n",
       "         3.90488836e-01,  7.60058626e-02,  2.37779809e-01,\n",
       "        -9.42054316e-01,  4.39299940e-02, -1.18122873e+00,\n",
       "        -1.45875472e+00,  1.88968704e-01, -9.28805587e-01,\n",
       "         7.60058626e-01,  1.60309613e+00,  3.21455988e-01,\n",
       "        -3.26755479e+00,  4.22006863e+00,  3.21037607e+00,\n",
       "         4.23680387e+00,  3.89233693e+00, -7.39000121e+00,\n",
       "         0.00000000e+00,  0.00000000e+00, -2.07656384e+00,\n",
       "        -1.14587554e+01, -5.43616243e+00, -2.98305578e+00,\n",
       "         1.34021347e+00, -2.40080904e+00,  4.02342961e-01,\n",
       "         1.07175239e+00, -1.80810277e+00,  1.67701009e+00,\n",
       "         2.00125528e-01, -1.33184585e+00, -1.36601362e+00,\n",
       "        -2.65114027e+00, -3.13785671e-02, -1.40715441e+00,\n",
       "        -6.95906889e-01, -7.63545134e-01, -4.37905337e-01,\n",
       "         4.32257195e+00,  3.47674524e+00, -1.25932649e+00,\n",
       "         7.24008139e+00,  3.59737840e+00,  5.59235797e-01,\n",
       "        -1.50477662e+00,  0.00000000e+00, -1.88271403e-02,\n",
       "        -8.64653850e-01, -1.55296015e+01,  5.05683042e+00,\n",
       "        -1.88689784e+00, -4.04922976e+00,  3.81423916e+00,\n",
       "         1.74534563e+00,  3.90976947e+00,  2.24182430e+00,\n",
       "         1.25583999e+00,  2.60442107e+00,  1.14217984e+00,\n",
       "         2.89380119e-01,  1.68607501e+00, -6.51976895e-01,\n",
       "        -1.53406328e+00, -2.26274334e+00, -2.66648091e+00,\n",
       "        -3.60714062e+00, -1.52918217e+00,  4.69493095e+00,\n",
       "         3.20479766e+00,  1.30179216e+01,  5.01847884e+00,\n",
       "         1.06450046e+01, -6.82309510e+00,  0.00000000e+00,\n",
       "        -8.01199414e-01, -1.47479266e+00, -1.75796679e+01,\n",
       "        -8.52102423e-01, -6.32452453e-01,  2.52074489e+00,\n",
       "        -2.60651298e+00,  1.11149858e+00,  6.59647211e-01,\n",
       "         1.35904061e+00,  1.02642780e+00, -6.97301492e-03,\n",
       "         1.28373205e+00, -1.26629951e+00, -2.15675351e+00,\n",
       "        -4.84624537e-01, -6.06652298e-01, -1.00550875e+00,\n",
       "        -1.84784895e+00, -5.87964618e+00, -1.03270351e+01,\n",
       "        -1.16191348e+01,  1.23492094e+00,  1.90014657e+01,\n",
       "         2.00292881e+01, -1.53043731e+01, -3.03326149e-01,\n",
       "         0.00000000e+00, -1.01596827e+00, -4.60079524e+00,\n",
       "         1.76696198e+00,  4.99965170e-01, -1.08779033e+00,\n",
       "         1.91130339e+00, -4.44181050e-01,  3.38191224e-01,\n",
       "        -2.09190448e-01,  2.22997017e+00,  1.11777429e+00,\n",
       "         1.88271403e-01,  1.79067023e+00, -1.29628347e+00,\n",
       "         1.31092681e-01, -1.63586930e+00, -1.77463230e+00,\n",
       "        -2.25995414e+00, -3.43211794e+00,  5.05543582e-01,\n",
       "        -3.94602914e+00, -1.36733850e+01, -2.40910692e+01,\n",
       "        -4.86409629e+01,  2.33840055e+01,  6.02015243e+01,\n",
       "        -4.40694543e-01,  0.00000000e+00, -6.14322614e-01,\n",
       "        -7.00369619e+00,  1.77881611e+00, -8.24907665e-01,\n",
       "         4.47179447e+00, -1.53266868e+00,  8.24907665e-01,\n",
       "        -7.71215450e-01,  5.89219761e-01,  1.11707699e+00,\n",
       "         1.48594948e+00,  2.13304526e+00,  2.51028537e-02,\n",
       "        -1.86040038e+00, -7.33561170e-01, -2.73342185e+00,\n",
       "        -1.84505975e+00,  3.93975343e-01,  9.10675749e-01,\n",
       "         1.15821778e+00, -1.23771015e+00,  1.84715165e+00,\n",
       "        -8.15912476e+00, -2.23729184e+01, -4.06805690e+01,\n",
       "         1.16888649e+01, -7.46112596e-01,  6.77637590e+00,\n",
       "        -2.36385206e-01, -1.01527097e+00,  6.06164187e+00,\n",
       "         1.69374532e+00, -1.53615519e+00, -2.30109492e-01,\n",
       "        -2.34711682e+00, -9.05794638e-01,  8.34669886e-01,\n",
       "         1.66166946e+00, -1.27815363e+00,  1.33742426e+00,\n",
       "        -6.35241659e-01, -1.38762997e-01, -7.40534185e-01,\n",
       "        -1.87016260e+00, -8.13053540e-01, -6.24084835e-01,\n",
       "        -1.61843676e+00,  1.77881611e+00, -1.14287715e+00,\n",
       "         4.51851367e-01,  1.18541254e-02,  1.68405283e+01,\n",
       "        -3.93766153e+01, -1.09267144e+00, -8.36761790e-03,\n",
       "         1.80880007e+00,  0.00000000e+00, -7.37744979e-01,\n",
       "        -9.92957325e+00,  6.13346392e+00, -3.01722356e+00,\n",
       "        -3.34704716e-01, -1.45596552e+00,  5.05543582e-01,\n",
       "         4.97873265e-01,  2.76131391e-01, -1.12265540e-01,\n",
       "         6.39425468e-01, -8.84875593e-01, -1.12893112e+00,\n",
       "        -7.94923701e-01,  8.66745755e-01, -2.09678559e+00,\n",
       "         3.62596776e-01,  7.50993707e-01,  4.26748513e-01,\n",
       "        -7.97015605e-01, -3.18527322e+00, -2.12676955e-01,\n",
       "         6.55393672e+00, -1.89735736e+00, -5.43476783e+00,\n",
       "        -4.29537719e-01, -2.34293301e+00,  0.00000000e+00,\n",
       "        -6.74290543e-01,  4.49968653e+00, -2.96562325e+00,\n",
       "         9.95049229e-01, -3.48232365e+00, -3.82260678e+00,\n",
       "        -2.58908044e+00, -2.85823882e+00,  1.27606173e+00,\n",
       "        -1.54731201e+00,  2.17558066e-01,  1.18541254e-01,\n",
       "        -9.24621778e-01, -3.41677731e-01, -6.35938961e-01,\n",
       "         4.74862316e-01, -2.52632331e+00, -1.54103630e+00,\n",
       "         1.75441055e+00, -8.90454005e-01,  5.88871110e+00,\n",
       "         3.49348048e-01, -5.11610105e+00, -5.03033296e+00,\n",
       "        -1.08528004e+01, -9.30200190e-01,  0.00000000e+00,\n",
       "         0.00000000e+00, -4.00390517e+00, -9.16951462e-01,\n",
       "        -1.03967652e+00, -1.95244418e-02,  5.99888474e+00,\n",
       "        -2.59744806e+00, -1.45666282e+00, -2.93285008e+00,\n",
       "        -4.49759462e+00, -2.70483249e+00, -3.17760290e+00,\n",
       "        -2.65950789e+00, -2.40220364e+00,  9.30897492e-01,\n",
       "         2.99839642e-02,  1.27885094e+00,  1.84227054e+00,\n",
       "        -8.18631952e-01,  5.36224847e-01,  3.58761618e+00,\n",
       "        -3.54089698e+00,  1.78021071e+00,  4.91458092e+00,\n",
       "        -9.21414192e+00, -1.08430382e+00, -5.22976119e-02,\n",
       "        -7.74004656e-02, -7.71912752e-01, -1.20758672e+01,\n",
       "        -3.33449573e+00,  3.09113751e+00,  1.36392172e+00,\n",
       "         1.72094008e+00,  2.53469092e+00, -1.27606173e+00,\n",
       "        -9.56000346e-01, -2.35339254e+00, -1.38693267e+00,\n",
       "         9.88076214e-01,  3.62596776e-02,  1.25235348e+00,\n",
       "        -3.60504871e-01,  8.89059402e-01,  2.07028813e+00,\n",
       "         4.88111044e-01,  1.29907268e+00,  4.10710579e-01,\n",
       "        -1.08988223e+00,  3.31427399e+00, -5.00662471e-01,\n",
       "        -2.31085714e+00, -9.10884939e+00,  3.94672644e+00,\n",
       "        -6.42214674e-01,  0.00000000e+00, -1.81019467e+00,\n",
       "         6.69269972e+00, -1.72930770e+00,  3.06812656e+00,\n",
       "        -7.04971808e-01,  1.52639297e+00, -3.11693767e-01,\n",
       "         1.82623261e+00,  7.69820847e-01,  9.79708596e-01,\n",
       "        -4.55337874e-01,  1.19308285e+00,  4.17683594e-01,\n",
       "         4.95084059e-02,  1.88341133e+00, -4.71375809e-01,\n",
       "        -1.18820174e+00,  6.84052764e-01, -6.47793086e-01,\n",
       "        -9.14162256e-01,  1.87085990e+00, -1.59612312e+00,\n",
       "        -7.67031641e-01,  8.16749238e+00, -9.36057523e+00,\n",
       "        -3.18597052e+00, -6.19901026e-01,  0.00000000e+00,\n",
       "        -2.08493146e-01,  3.70894664e+00, -2.43009570e+00,\n",
       "        -1.25583999e+00,  1.43365187e+00,  1.26211570e-01,\n",
       "        -4.30235021e-01,  1.45736012e-01,  3.21455988e-01,\n",
       "        -5.28554531e-01,  2.60232917e+00, -4.11407880e-01,\n",
       "         1.07035779e+00, -2.07656384e+00, -9.50421934e-01,\n",
       "         1.49850091e+00,  2.76828692e-01, -3.48650746e-02,\n",
       "         1.04734684e+00, -8.94637814e-01, -2.08214226e+00,\n",
       "         3.64618950e+00,  3.87699630e-01, -8.35227727e+00,\n",
       "         9.14859558e+00, -9.09490336e+00,  0.00000000e+00,\n",
       "         0.00000000e+00, -1.24816967e-01, -8.45687250e+00,\n",
       "        -9.26713683e-01,  2.58489663e+00,  1.25723459e+00,\n",
       "         1.56823106e+00,  1.99916338e+00,  1.10870937e-01,\n",
       "         1.96081180e+00,  1.05641176e+00,  1.03479541e+00,\n",
       "        -1.21330460e+00,  4.34418830e-01,  7.88647987e-01,\n",
       "         8.24210364e-01, -9.44146220e-01,  5.28554531e-01,\n",
       "        -5.82944047e-01,  4.88111044e-02,  3.09741323e+00,\n",
       "         4.09594896e+00,  1.33602966e+00, -3.76542806e-02,\n",
       "         2.37152237e+00, -2.56885870e+00, -1.06533722e+01,\n",
       "         0.00000000e+00,  0.00000000e+00,  0.00000000e+00,\n",
       "        -3.62805966e+00, -8.73300389e+00, -8.92545910e-02,\n",
       "        -2.84987120e+00, -3.49348048e-01,  1.44759790e+00,\n",
       "        -4.53245970e-02,  7.27285456e-01,  4.32326925e-02,\n",
       "        -9.34383999e-02,  2.29412191e+00,  2.30109492e-02,\n",
       "         9.38567808e-01, -6.17809122e-01,  7.67031641e-01,\n",
       "        -2.21951065e+00,  1.42946806e+00,  6.73593241e-01,\n",
       "        -1.01945478e+00,  2.09190448e-03,  3.93278042e-01,\n",
       "         1.84157324e+00, -1.27954824e+00,  2.01868782e+00,\n",
       "         4.14476007e+00,  0.00000000e+00,  0.00000000e+00,\n",
       "         0.00000000e+00,  9.12070352e-01,  1.99288766e+00,\n",
       "         1.74534563e+00,  3.32473351e+00,  1.96081180e+00,\n",
       "        -3.46001000e+00,  3.19364083e-01, -1.17913682e+00,\n",
       "         2.59186965e+00,  2.46844728e-01, -4.88111044e-03,\n",
       "         6.24782137e-01,  9.19740668e-01,  6.06652298e-02,\n",
       "         1.58287439e+00, -9.85984310e-01, -1.91409260e+00,\n",
       "        -1.20563428e+00,  3.46698302e+00, -4.91597552e-01,\n",
       "        -4.33024227e-01,  4.21867403e+00, -5.45777878e+00,\n",
       "         1.61955245e+01,  7.18499457e+00,  0.00000000e+00,\n",
       "         0.00000000e+00,  0.00000000e+00, -7.43323391e-01,\n",
       "        -1.21121269e+00, -9.60881456e+00,  2.64625916e+00,\n",
       "        -3.31776050e+00,  1.54382550e+00, -1.52709027e+00,\n",
       "         3.80029313e+00, -1.91478990e+00, -6.55463403e-01,\n",
       "        -1.20633158e-01,  4.81138030e-02, -4.86716441e-01,\n",
       "         1.93780085e+00, -2.59675076e+00,  3.84910424e-01,\n",
       "         2.61557790e+00, -3.23757083e+00,  1.11428778e+00,\n",
       "        -1.10313096e+00,  1.61634486e+00, -1.72902878e+01,\n",
       "         1.84157324e+00, -1.78669561e+01, -1.75719976e+00,\n",
       "         0.00000000e+00,  0.00000000e+00,  0.00000000e+00,\n",
       "         0.00000000e+00,  6.26525391e+00,  1.20026506e+01,\n",
       "        -8.19259523e+00,  1.08151461e+00,  1.37159203e+00,\n",
       "        -3.85468265e+00,  1.89177895e+00, -1.59542581e+00,\n",
       "         5.24370722e-01, -1.58705820e+00,  6.51976895e-01,\n",
       "        -2.37640348e+00,  1.71954548e+00, -3.16574877e-01,\n",
       "         4.39299940e-02, -7.60058626e-02,  5.02963566e+00,\n",
       "        -1.08109623e+01,  7.69820847e-01,  7.51760739e+00,\n",
       "         1.36050494e+01,  2.07321680e+01,  0.00000000e+00,\n",
       "         0.00000000e+00,  0.00000000e+00,  0.00000000e+00,\n",
       "         0.00000000e+00,  0.00000000e+00,  0.00000000e+00,\n",
       "         0.00000000e+00, -2.92866627e-01,  1.16449349e+00,\n",
       "        -1.74297481e+01, -1.19963749e+01,  2.82058454e+00,\n",
       "        -5.53727115e+00,  3.43769636e-01, -3.96904009e+00,\n",
       "         1.16379619e+00, -4.39230210e+00,  1.29698078e-01,\n",
       "        -3.90488836e-01, -1.68049660e+00, -4.67122270e+00,\n",
       "        -2.75713010e+00,  9.09699527e+00, -9.37661316e+00,\n",
       "        -8.39132616e+00, -1.08500112e+00, -7.61453229e-01,\n",
       "         0.00000000e+00,  0.00000000e+00,  0.00000000e+00,\n",
       "         0.00000000e+00,  0.00000000e+00,  0.00000000e+00,\n",
       "         0.00000000e+00,  0.00000000e+00,  0.00000000e+00,\n",
       "        -1.32487283e-02, -1.69444263e-01, -2.76828692e-01,\n",
       "        -8.05383223e-01,  1.43713838e+00,  2.56955600e+00,\n",
       "         6.64528322e-01, -4.27166894e+00, -4.99686249e+00,\n",
       "        -3.90976947e+00, -5.27020468e+00, -3.43630175e+00,\n",
       "        -3.29823606e+00, -1.66933977e+00, -2.28714889e+00,\n",
       "        -6.63691560e+00, -3.48511286e+00,  0.00000000e+00,\n",
       "         0.00000000e+00,  0.00000000e+00,  0.00000000e+00,\n",
       "         0.00000000e+00]])"
      ]
     },
     "execution_count": 47,
     "metadata": {},
     "output_type": "execute_result"
    }
   ],
   "source": [
    "sgd_clf.coef_"
   ]
  },
  {
   "cell_type": "code",
   "execution_count": 10,
   "id": "d535886c",
   "metadata": {
    "slideshow": {
     "slide_type": "slide"
    }
   },
   "outputs": [],
   "source": [
    "w = np.c_[ sgd_clf.intercept_.reshape(1,1), sgd_clf.coef_] "
   ]
  },
  {
   "cell_type": "code",
   "execution_count": 11,
   "id": "38917d57",
   "metadata": {
    "slideshow": {
     "slide_type": "slide"
    }
   },
   "outputs": [
    {
     "data": {
      "text/plain": [
       "(1, 785)"
      ]
     },
     "execution_count": 11,
     "metadata": {},
     "output_type": "execute_result"
    }
   ],
   "source": [
    "w.shape "
   ]
  },
  {
   "cell_type": "code",
   "execution_count": 12,
   "id": "7612e081",
   "metadata": {
    "slideshow": {
     "slide_type": "slide"
    }
   },
   "outputs": [],
   "source": [
    "X_b = np.c_[np.ones((len(X_train),1)),X_train] "
   ]
  },
  {
   "cell_type": "code",
   "execution_count": 48,
   "id": "0085842f",
   "metadata": {},
   "outputs": [
    {
     "data": {
      "text/plain": [
       "array([[1., 0., 0., ..., 0., 0., 0.],\n",
       "       [1., 0., 0., ..., 0., 0., 0.],\n",
       "       [1., 0., 0., ..., 0., 0., 0.],\n",
       "       ...,\n",
       "       [1., 0., 0., ..., 0., 0., 0.],\n",
       "       [1., 0., 0., ..., 0., 0., 0.],\n",
       "       [1., 0., 0., ..., 0., 0., 0.]])"
      ]
     },
     "execution_count": 48,
     "metadata": {},
     "output_type": "execute_result"
    }
   ],
   "source": [
    "X_b"
   ]
  },
  {
   "cell_type": "code",
   "execution_count": 13,
   "id": "a8db9e28",
   "metadata": {},
   "outputs": [
    {
     "data": {
      "text/plain": [
       "(785,)"
      ]
     },
     "execution_count": 13,
     "metadata": {},
     "output_type": "execute_result"
    }
   ],
   "source": [
    "X_b[0].shape "
   ]
  },
  {
   "cell_type": "code",
   "execution_count": 15,
   "id": "7693231e",
   "metadata": {
    "slideshow": {
     "slide_type": "slide"
    }
   },
   "outputs": [],
   "source": [
    "def puntajes_para_decidir(imagen):\n",
    "    imagen = imagen.reshape(-1,1)\n",
    "    return np.dot(w,imagen)"
   ]
  },
  {
   "cell_type": "code",
   "execution_count": null,
   "id": "24812eff",
   "metadata": {
    "slideshow": {
     "slide_type": "slide"
    }
   },
   "outputs": [],
   "source": [
    "X_b[0].reshape(-1,1)"
   ]
  },
  {
   "cell_type": "code",
   "execution_count": 14,
   "id": "3f912205",
   "metadata": {
    "slideshow": {
     "slide_type": "slide"
    }
   },
   "outputs": [
    {
     "data": {
      "text/plain": [
       "(785, 1)"
      ]
     },
     "execution_count": 14,
     "metadata": {},
     "output_type": "execute_result"
    }
   ],
   "source": [
    "X_b[0].reshape(-1,1).shape "
   ]
  },
  {
   "cell_type": "code",
   "execution_count": 16,
   "id": "9d8b2aea",
   "metadata": {
    "slideshow": {
     "slide_type": "slide"
    }
   },
   "outputs": [
    {
     "data": {
      "text/plain": [
       "array([[2164.22030239]])"
      ]
     },
     "execution_count": 16,
     "metadata": {},
     "output_type": "execute_result"
    }
   ],
   "source": [
    "puntajes_para_decidir(X_b[0]) "
   ]
  },
  {
   "cell_type": "code",
   "execution_count": 18,
   "id": "e767ed65",
   "metadata": {
    "slideshow": {
     "slide_type": "slide"
    }
   },
   "outputs": [
    {
     "data": {
      "text/plain": [
       "array([2164.22030239])"
      ]
     },
     "execution_count": 18,
     "metadata": {},
     "output_type": "execute_result"
    }
   ],
   "source": [
    "y_scores = sgd_clf.decision_function([X[0]]) \n",
    "y_scores "
   ]
  },
  {
   "cell_type": "markdown",
   "id": "ee964665",
   "metadata": {
    "slideshow": {
     "slide_type": "slide"
    }
   },
   "source": [
    "# Función de decisión personalizada"
   ]
  },
  {
   "cell_type": "code",
   "execution_count": 19,
   "id": "9cb4d166",
   "metadata": {
    "slideshow": {
     "slide_type": "slide"
    }
   },
   "outputs": [],
   "source": [
    "def funcion_decision(imagen, threshold):\n",
    "    y_score = sgd_clf.decision_function([imagen])\n",
    "    return y_score>threshold "
   ]
  },
  {
   "cell_type": "code",
   "execution_count": 20,
   "id": "4d9d3321",
   "metadata": {
    "slideshow": {
     "slide_type": "slide"
    }
   },
   "outputs": [
    {
     "data": {
      "text/plain": [
       "array([ True])"
      ]
     },
     "execution_count": 20,
     "metadata": {},
     "output_type": "execute_result"
    }
   ],
   "source": [
    "funcion_decision(X[0], 0)"
   ]
  },
  {
   "cell_type": "code",
   "execution_count": 21,
   "id": "1ae2d0aa",
   "metadata": {
    "slideshow": {
     "slide_type": "slide"
    }
   },
   "outputs": [
    {
     "data": {
      "text/plain": [
       "array([False])"
      ]
     },
     "execution_count": 21,
     "metadata": {},
     "output_type": "execute_result"
    }
   ],
   "source": [
    "funcion_decision(X[0], 3000) "
   ]
  },
  {
   "cell_type": "code",
   "execution_count": 22,
   "id": "b4b0cdd9",
   "metadata": {
    "slideshow": {
     "slide_type": "slide"
    }
   },
   "outputs": [
    {
     "data": {
      "text/plain": [
       "array([False])"
      ]
     },
     "execution_count": 22,
     "metadata": {},
     "output_type": "execute_result"
    }
   ],
   "source": [
    "threshold = 8000\n",
    "y_predicciones_imagenes = (y_scores > threshold)\n",
    "y_predicciones_imagenes "
   ]
  },
  {
   "cell_type": "markdown",
   "id": "a60d159b",
   "metadata": {
    "slideshow": {
     "slide_type": "slide"
    }
   },
   "source": [
    "El `SGDClassifier` usa un umbral igual a 0, por lo que el código anterior devuelve el mismo resultado que el método `predict()` (es decir, True)."
   ]
  },
  {
   "cell_type": "code",
   "execution_count": 49,
   "id": "c4d1f54d",
   "metadata": {
    "slideshow": {
     "slide_type": "slide"
    }
   },
   "outputs": [
    {
     "data": {
      "text/plain": [
       "array([ True])"
      ]
     },
     "execution_count": 49,
     "metadata": {},
     "output_type": "execute_result"
    }
   ],
   "source": [
    "sgd_clf.predict([X[0]]) "
   ]
  },
  {
   "cell_type": "markdown",
   "id": "9fcc8f68",
   "metadata": {
    "slideshow": {
     "slide_type": "slide"
    }
   },
   "source": [
    "Subamos el umbral:"
   ]
  },
  {
   "cell_type": "code",
   "execution_count": null,
   "id": "f2901d69",
   "metadata": {
    "slideshow": {
     "slide_type": "slide"
    }
   },
   "outputs": [],
   "source": [
    "threshold = 8000\n",
    "y_some_digit_pred = (y_scores > threshold)\n",
    "y_some_digit_pred"
   ]
  },
  {
   "cell_type": "markdown",
   "id": "5a1ec0ea",
   "metadata": {
    "slideshow": {
     "slide_type": "slide"
    }
   },
   "source": [
    "Esto confirma que elevar el umbral disminuye el recuerdo."
   ]
  },
  {
   "cell_type": "markdown",
   "id": "d8ef139d",
   "metadata": {
    "slideshow": {
     "slide_type": "slide"
    }
   },
   "source": [
    "La imagen en realidad representa un 5, y el clasificador lo detecta cuando el umbral es 0, pero lo pierde cuando el umbral aumenta a 8000."
   ]
  },
  {
   "cell_type": "markdown",
   "id": "67786293",
   "metadata": {
    "slideshow": {
     "slide_type": "slide"
    }
   },
   "source": [
    "¿Cómo se decide qué umbral usar?"
   ]
  },
  {
   "cell_type": "markdown",
   "id": "c4ef6d29",
   "metadata": {
    "slideshow": {
     "slide_type": "slide"
    }
   },
   "source": [
    "Primero, use la función `cross_val_predict()` para obtener los puntajes de todas las instancias en el conjunto de entrenamiento, pero esta vez especifique que desea obtener **puntajes de decisión** en lugar de **predicciones**:"
   ]
  },
  {
   "cell_type": "code",
   "execution_count": 23,
   "id": "24ea2ea7",
   "metadata": {
    "slideshow": {
     "slide_type": "slide"
    }
   },
   "outputs": [],
   "source": [
    "from sklearn.model_selection import cross_val_predict "
   ]
  },
  {
   "cell_type": "code",
   "execution_count": 24,
   "id": "20a835c0",
   "metadata": {
    "slideshow": {
     "slide_type": "slide"
    }
   },
   "outputs": [
    {
     "name": "stdout",
     "output_type": "stream",
     "text": [
      "Wall time: 53.4 s\n"
     ]
    }
   ],
   "source": [
    "%%time \n",
    "\n",
    "y_scores = cross_val_predict(sgd_clf, X_train, y_train_5, cv=3, \\\n",
    "                             method=\"decision_function\")"
   ]
  },
  {
   "cell_type": "markdown",
   "id": "1ed12489",
   "metadata": {
    "slideshow": {
     "slide_type": "slide"
    }
   },
   "source": [
    "Con estas puntuaciones, utilice la función `precision_recall_curve()` para calcular la precisión y la recuperación de todos los umbrales posibles:"
   ]
  },
  {
   "cell_type": "code",
   "execution_count": 55,
   "id": "2ffc60a1",
   "metadata": {
    "slideshow": {
     "slide_type": "slide"
    }
   },
   "outputs": [
    {
     "name": "stdout",
     "output_type": "stream",
     "text": [
      "Wall time: 117 ms\n"
     ]
    }
   ],
   "source": [
    "%%time \n",
    "\n",
    "from sklearn.metrics import precision_recall_curve\n",
    "precisions, recalls, thresholds = precision_recall_curve(y_train_5,\\\n",
    "                                                          y_scores)"
   ]
  },
  {
   "cell_type": "code",
   "execution_count": 26,
   "id": "eff4232b",
   "metadata": {
    "slideshow": {
     "slide_type": "slide"
    }
   },
   "outputs": [
    {
     "data": {
      "text/plain": [
       "(59967,)"
      ]
     },
     "execution_count": 26,
     "metadata": {},
     "output_type": "execute_result"
    }
   ],
   "source": [
    "precisions.shape"
   ]
  },
  {
   "cell_type": "code",
   "execution_count": 27,
   "id": "84ff3a4b",
   "metadata": {
    "slideshow": {
     "slide_type": "slide"
    }
   },
   "outputs": [
    {
     "data": {
      "text/plain": [
       "(59967,)"
      ]
     },
     "execution_count": 27,
     "metadata": {},
     "output_type": "execute_result"
    }
   ],
   "source": [
    "recalls.shape "
   ]
  },
  {
   "cell_type": "code",
   "execution_count": 56,
   "id": "599c6f77",
   "metadata": {
    "slideshow": {
     "slide_type": "slide"
    }
   },
   "outputs": [
    {
     "data": {
      "text/plain": [
       "(59966,)"
      ]
     },
     "execution_count": 56,
     "metadata": {},
     "output_type": "execute_result"
    }
   ],
   "source": [
    "thresholds.shape "
   ]
  },
  {
   "cell_type": "markdown",
   "id": "6accace6",
   "metadata": {
    "slideshow": {
     "slide_type": "slide"
    }
   },
   "source": [
    "Finalmente, use Matplotlib para trazar la precisión y el recuerdo(recall) como funciones del valor de umbral:"
   ]
  },
  {
   "cell_type": "code",
   "execution_count": 57,
   "id": "84e8b711",
   "metadata": {
    "scrolled": true,
    "slideshow": {
     "slide_type": "slide"
    }
   },
   "outputs": [
    {
     "data": {
      "image/png": "[encoded data removed]",
      "text/plain": [
       "<Figure size 432x288 with 1 Axes>"
      ]
     },
     "metadata": {
      "needs_background": "light"
     },
     "output_type": "display_data"
    }
   ],
   "source": [
    "import matplotlib.pyplot as plt \n",
    "\n",
    "def plot_precision_recall_vs_threshold(precisions, recalls, thresholds):\n",
    "    plt.plot(thresholds, precisions[:-1], \"b--\", label=\"Precision\")\n",
    "    plt.plot(thresholds, recalls[:-1], \"g-\", label=\"Recall\")\n",
    "    plt.grid()  # Resalte el umbral y agregue la leyenda, la etiqueta del eje y la cuadrícula\n",
    "    plt.legend() \n",
    "    plt.xlabel('thresholds')\n",
    "plot_precision_recall_vs_threshold(precisions, recalls, thresholds)\n",
    "plt.show()"
   ]
  },
  {
   "cell_type": "code",
   "execution_count": 50,
   "id": "c62f6465",
   "metadata": {
    "slideshow": {
     "slide_type": "slide"
    }
   },
   "outputs": [
    {
     "data": {
      "text/plain": [
       "array([False, False, False, ..., False, False, False])"
      ]
     },
     "execution_count": 50,
     "metadata": {},
     "output_type": "execute_result"
    }
   ],
   "source": [
    "precisions ==0.9"
   ]
  },
  {
   "cell_type": "code",
   "execution_count": 51,
   "id": "160aadac",
   "metadata": {
    "slideshow": {
     "slide_type": "slide"
    }
   },
   "outputs": [
    {
     "data": {
      "text/plain": [
       "array([0.09040123, 0.09038606, 0.09038757, ..., 1.        , 1.        ,\n",
       "       1.        ])"
      ]
     },
     "execution_count": 51,
     "metadata": {},
     "output_type": "execute_result"
    }
   ],
   "source": [
    "precisions "
   ]
  },
  {
   "cell_type": "code",
   "execution_count": 52,
   "id": "2b9983b9",
   "metadata": {
    "slideshow": {
     "slide_type": "slide"
    }
   },
   "outputs": [
    {
     "data": {
      "text/plain": [
       "57076"
      ]
     },
     "execution_count": 52,
     "metadata": {},
     "output_type": "execute_result"
    }
   ],
   "source": [
    "np.argmax(precisions ==0.9)"
   ]
  },
  {
   "cell_type": "code",
   "execution_count": 53,
   "id": "b0087cf0",
   "metadata": {
    "slideshow": {
     "slide_type": "slide"
    }
   },
   "outputs": [
    {
     "data": {
      "text/plain": [
       "0.9"
      ]
     },
     "execution_count": 53,
     "metadata": {},
     "output_type": "execute_result"
    }
   ],
   "source": [
    "precisions[57076]"
   ]
  },
  {
   "cell_type": "code",
   "execution_count": 58,
   "id": "ea237efc",
   "metadata": {
    "slideshow": {
     "slide_type": "slide"
    }
   },
   "outputs": [
    {
     "data": {
      "text/plain": [
       "3370.0692037709427"
      ]
     },
     "execution_count": 58,
     "metadata": {},
     "output_type": "execute_result"
    }
   ],
   "source": [
    "thresholds[57076]"
   ]
  },
  {
   "cell_type": "markdown",
   "id": "31e3f389",
   "metadata": {
    "slideshow": {
     "slide_type": "slide"
    }
   },
   "source": [
    "\n",
    "<img src = 'https://github.com/marco-canas/machine_learning/blob/main/classes/class_march_22_precision_recall/figura_3_4_threshold.jpg?raw=true'>"
   ]
  },
  {
   "cell_type": "markdown",
   "id": "60774328",
   "metadata": {
    "slideshow": {
     "slide_type": "slide"
    }
   },
   "source": [
    "## NOTE"
   ]
  },
  {
   "cell_type": "markdown",
   "id": "cd24de03",
   "metadata": {
    "slideshow": {
     "slide_type": "slide"
    }
   },
   "source": [
    "Quizás se pregunte por qué la curva de precisión es más irregular que la curva de recuperación de la figura anterior."
   ]
  },
  {
   "cell_type": "markdown",
   "id": "0168cfe8",
   "metadata": {
    "slideshow": {
     "slide_type": "slide"
    }
   },
   "source": [
    "El motivo es que, en ocasiones, la precisión puede disminuir cuando aumenta el umbral (aunque, en general, aumentará)."
   ]
  },
  {
   "cell_type": "markdown",
   "id": "0b3f528d",
   "metadata": {
    "slideshow": {
     "slide_type": "slide"
    }
   },
   "source": [
    "Para comprender por qué, vuelva a mirar la siguiente figura y observe lo que sucede cuando comienza desde el umbral central y lo mueve solo un dígito a la derecha: \n",
    "\n",
    "* la precisión va de 4/5 (80 %) a 3/4 (75 %))"
   ]
  },
  {
   "cell_type": "markdown",
   "id": "f559e684",
   "metadata": {
    "slideshow": {
     "slide_type": "slide"
    }
   },
   "source": [
    "<img src = 'https://github.com/marco-canas/machine_learning/blob/main/classes/class_march_22_precision_recall/figura_3_3_clasificacion_binaria_mnist.jpg?raw=true'>"
   ]
  },
  {
   "cell_type": "markdown",
   "id": "d67068f8",
   "metadata": {
    "slideshow": {
     "slide_type": "slide"
    }
   },
   "source": [
    "Por otro lado, la recuperación solo puede disminuir cuando se aumenta el umbral, lo que explica por qué su curva parece suave."
   ]
  },
  {
   "cell_type": "markdown",
   "id": "4190606a",
   "metadata": {
    "slideshow": {
     "slide_type": "slide"
    }
   },
   "source": [
    "Otra forma de seleccionar una buena compensación de precisión/recuperación es graficar la precisión directamente contra la recuperación, como se muestra en la Figura siguiente (se resalta el mismo umbral que antes)."
   ]
  },
  {
   "cell_type": "code",
   "execution_count": 30,
   "id": "b55bfc44",
   "metadata": {
    "slideshow": {
     "slide_type": "slide"
    }
   },
   "outputs": [
    {
     "data": {
      "image/png": "[encoded data removed]",
      "text/plain": [
       "<Figure size 432x288 with 1 Axes>"
      ]
     },
     "metadata": {
      "needs_background": "light"
     },
     "output_type": "display_data"
    }
   ],
   "source": [
    "import matplotlib.pyplot as plt \n",
    "\n",
    "def plot_precision_vs_recall(precisions, recalls):\n",
    "    plt.plot(recalls, precisions, \"b-\", label=\"Precision vs. Recall\")\n",
    "    plt.grid()  # Resalte el umbral y agregue la leyenda, la etiqueta del eje y la cuadrícula\n",
    "    plt.legend()  \n",
    "    plt.xlabel('Recall')\n",
    "    plt.ylabel('precision') \n",
    "plot_precision_vs_recall(recalls, precisions)\n",
    "plt.show()"
   ]
  },
  {
   "cell_type": "markdown",
   "id": "cf9d5ec5",
   "metadata": {
    "slideshow": {
     "slide_type": "slide"
    }
   },
   "source": [
    "<img src = 'https://github.com/marco-canas/machine_learning/blob/main/classes/class_march_22_precision_recall/figura_3_5_recall_vs_precision.jpg?raw=true'>"
   ]
  },
  {
   "cell_type": "markdown",
   "id": "c14596f5",
   "metadata": {
    "slideshow": {
     "slide_type": "skip"
    }
   },
   "source": [
    "Puede ver que la precisión realmente comienza a caer bruscamente alrededor del $80\\%$ de recuerdo."
   ]
  },
  {
   "cell_type": "markdown",
   "id": "f7f8a444",
   "metadata": {
    "slideshow": {
     "slide_type": "slide"
    }
   },
   "source": [
    "Probablemente querrá seleccionar una compensación de precisión / recuperación justo antes de esa caída, por ejemplo, en un $60\\%$ de recuperación."
   ]
  },
  {
   "cell_type": "markdown",
   "id": "19fd708e",
   "metadata": {
    "slideshow": {
     "slide_type": "slide"
    }
   },
   "source": [
    "Pero, por supuesto, la elección depende de su proyecto."
   ]
  },
  {
   "cell_type": "markdown",
   "id": "c9f6a846",
   "metadata": {
    "slideshow": {
     "slide_type": "slide"
    }
   },
   "source": [
    "# Configuración del modelo para obtener una precisión del 90%"
   ]
  },
  {
   "cell_type": "markdown",
   "id": "b7ad832f",
   "metadata": {
    "slideshow": {
     "slide_type": "slide"
    }
   },
   "source": [
    "Supongamos que decide apuntar para una precisión del 90%."
   ]
  },
  {
   "cell_type": "markdown",
   "id": "34d52392",
   "metadata": {
    "slideshow": {
     "slide_type": "slide"
    }
   },
   "source": [
    "Buscas en la primera gráfica (precisions vs. thresholds) y descubras que necesitas usar un umbral de aproximadamente 8,000. "
   ]
  },
  {
   "cell_type": "markdown",
   "id": "63e044bc",
   "metadata": {
    "slideshow": {
     "slide_type": "slide"
    }
   },
   "source": [
    "Para ser más precisos, puede buscar el umbral más bajo que le brinda al menos $ 90 \\% $ de Precisión (`np.argmax()` le dará el primer índice del valor máximo, que en este caso significa el primer valor `True`):"
   ]
  },
  {
   "cell_type": "code",
   "execution_count": 59,
   "id": "9e822dbc",
   "metadata": {
    "slideshow": {
     "slide_type": "slide"
    }
   },
   "outputs": [],
   "source": [
    "a = np.array([1,3,3,3,3])"
   ]
  },
  {
   "cell_type": "code",
   "execution_count": 60,
   "id": "db138211",
   "metadata": {
    "slideshow": {
     "slide_type": "slide"
    }
   },
   "outputs": [
    {
     "data": {
      "text/plain": [
       "1"
      ]
     },
     "execution_count": 60,
     "metadata": {},
     "output_type": "execute_result"
    }
   ],
   "source": [
    "np.argmax(a)"
   ]
  },
  {
   "cell_type": "code",
   "execution_count": 33,
   "id": "8549ad97",
   "metadata": {
    "slideshow": {
     "slide_type": "slide"
    }
   },
   "outputs": [],
   "source": [
    "threshold_90_precision = thresholds[np.argmax(precisions >= 0.90)] "
   ]
  },
  {
   "cell_type": "code",
   "execution_count": 34,
   "id": "4b870cff",
   "metadata": {
    "slideshow": {
     "slide_type": "slide"
    }
   },
   "outputs": [
    {
     "data": {
      "text/plain": [
       "3370.0194991439557"
      ]
     },
     "execution_count": 34,
     "metadata": {},
     "output_type": "execute_result"
    }
   ],
   "source": [
    "threshold_90_precision"
   ]
  },
  {
   "cell_type": "markdown",
   "id": "dc8b243a",
   "metadata": {
    "slideshow": {
     "slide_type": "slide"
    }
   },
   "source": [
    "Para hacer predicciones (en el conjunto de capacitación por ahora), en lugar de llamar al método `predict()` del clasificador, puede ejecutar este código:"
   ]
  },
  {
   "cell_type": "code",
   "execution_count": 35,
   "id": "d7b06c3a",
   "metadata": {
    "slideshow": {
     "slide_type": "slide"
    }
   },
   "outputs": [],
   "source": [
    "y_train_pred_90 = (y_scores >= threshold_90_precision)"
   ]
  },
  {
   "cell_type": "markdown",
   "id": "6a407467",
   "metadata": {
    "slideshow": {
     "slide_type": "slide"
    }
   },
   "source": [
    "Vamos a verificar la precisión y el recuerdo de estas predicciones:"
   ]
  },
  {
   "cell_type": "code",
   "execution_count": 36,
   "id": "c2caeff8",
   "metadata": {
    "slideshow": {
     "slide_type": "slide"
    }
   },
   "outputs": [],
   "source": [
    "from sklearn.metrics import precision_score, recall_score "
   ]
  },
  {
   "cell_type": "code",
   "execution_count": 37,
   "id": "564546a9",
   "metadata": {
    "scrolled": true,
    "slideshow": {
     "slide_type": "slide"
    }
   },
   "outputs": [
    {
     "data": {
      "text/plain": [
       "0.9000345901072293"
      ]
     },
     "execution_count": 37,
     "metadata": {},
     "output_type": "execute_result"
    }
   ],
   "source": [
    "precision_score(y_train_5, y_train_pred_90)"
   ]
  },
  {
   "cell_type": "code",
   "execution_count": 38,
   "id": "cb96cac1",
   "metadata": {
    "slideshow": {
     "slide_type": "slide"
    }
   },
   "outputs": [
    {
     "data": {
      "text/plain": [
       "0.4799852425751706"
      ]
     },
     "execution_count": 38,
     "metadata": {},
     "output_type": "execute_result"
    }
   ],
   "source": [
    "recall_score(y_train_5, y_train_pred_90)"
   ]
  },
  {
   "cell_type": "markdown",
   "id": "c405e0d5",
   "metadata": {
    "slideshow": {
     "slide_type": "slide"
    }
   },
   "source": [
    "Como puede ver, es bastante fácil crear un clasificador con prácticamente cualquier precisión que desee: simplemente establezca un umbral suficientemente alto, y está listo."
   ]
  },
  {
   "cell_type": "markdown",
   "id": "7dd18971",
   "metadata": {
    "slideshow": {
     "slide_type": "slide"
    }
   },
   "source": [
    "### Sugerencia "
   ]
  },
  {
   "cell_type": "markdown",
   "id": "57f96787",
   "metadata": {
    "slideshow": {
     "slide_type": "slide"
    }
   },
   "source": [
    "Si alguien dice: \"Llegamos al 99% de precisión\", deberías preguntar: \"¿En qué recuerdo?\""
   ]
  },
  {
   "cell_type": "markdown",
   "id": "a44dd3d6",
   "metadata": {
    "slideshow": {
     "slide_type": "slide"
    }
   },
   "source": [
    "## The ROC Curve"
   ]
  },
  {
   "cell_type": "markdown",
   "id": "0a49dbe4",
   "metadata": {
    "slideshow": {
     "slide_type": "slide"
    }
   },
   "source": [
    "La Curva característica de Operación del Receptor (ROC) es otra herramienta común utilizada con clasificadores binarios."
   ]
  },
  {
   "cell_type": "markdown",
   "id": "ee4d41b1",
   "metadata": {
    "slideshow": {
     "slide_type": "slide"
    }
   },
   "source": [
    "Es muy similar a la curva de precisión / recuperación, pero en lugar de trazar la precisión frente a la recuperación, la curva ROC presenta la tasa positiva verdadera (otro nombre para el recall) contra la tasa positiva falsa (FPR)."
   ]
  },
  {
   "cell_type": "markdown",
   "id": "505a833d",
   "metadata": {
    "slideshow": {
     "slide_type": "slide"
    }
   },
   "source": [
    "El FPR es la proporción de instancias negativas que se clasifican incorrectamente como positivas. "
   ]
  },
  {
   "cell_type": "markdown",
   "id": "08719808",
   "metadata": {
    "slideshow": {
     "slide_type": "slide"
    }
   },
   "source": [
    "$$ FPR = \\frac{FP}{FP + TN} $$"
   ]
  },
  {
   "cell_type": "markdown",
   "id": "967cf741",
   "metadata": {
    "slideshow": {
     "slide_type": "slide"
    }
   },
   "source": [
    "<img src = 'https://github.com/marco-canas/machine_learning/blob/main/classes/class_march_22_precision_recall/figura_3_2_clasificacion_binaria_matriz_confusion.jpg?raw=true'>"
   ]
  },
  {
   "cell_type": "markdown",
   "id": "33c796a9",
   "metadata": {
    "slideshow": {
     "slide_type": "slide"
    }
   },
   "source": [
    "Para trazar la curva ROC, primero use la función `roc_curve()` para calcular el TPR y el FPR para varios valores de umbral:"
   ]
  },
  {
   "cell_type": "code",
   "execution_count": 39,
   "id": "f0c57329",
   "metadata": {
    "slideshow": {
     "slide_type": "slide"
    }
   },
   "outputs": [],
   "source": [
    "from sklearn.metrics import roc_curve\n",
    "fpr, tpr, thresholds = roc_curve(y_train_5, y_scores)"
   ]
  },
  {
   "cell_type": "markdown",
   "id": "12b4897b",
   "metadata": {
    "slideshow": {
     "slide_type": "slide"
    }
   },
   "source": [
    "Luego, puede trazar el FPR contra el TPR utilizando MATPLOTLIB."
   ]
  },
  {
   "cell_type": "markdown",
   "id": "24112a2f",
   "metadata": {
    "slideshow": {
     "slide_type": "slide"
    }
   },
   "source": [
    "This code produces the plot in Figure 3-6:"
   ]
  },
  {
   "cell_type": "code",
   "execution_count": 40,
   "id": "cc051ea1",
   "metadata": {
    "slideshow": {
     "slide_type": "slide"
    }
   },
   "outputs": [
    {
     "data": {
      "image/png": "[encoded data removed]",
      "text/plain": [
       "<Figure size 432x288 with 1 Axes>"
      ]
     },
     "metadata": {
      "needs_background": "light"
     },
     "output_type": "display_data"
    }
   ],
   "source": [
    "def plot_roc_curve(fpr, tpr, label=None):\n",
    "    plt.plot(fpr, tpr, linewidth=2, label=label)\n",
    "    plt.plot([0, 1], [0, 1], 'k--') # Dashed diagonal\n",
    "    [...] # Add axis labels and grid\n",
    "plot_roc_curve(fpr, tpr)\n",
    "plt.show()"
   ]
  },
  {
   "cell_type": "markdown",
   "id": "d4780be8",
   "metadata": {
    "slideshow": {
     "slide_type": "slide"
    }
   },
   "source": [
    "Una vez más, hay una compensación: cuanto mayor sea el retiro (TPR), los positivos más falsos (FPR) produce el clasificador."
   ]
  },
  {
   "cell_type": "markdown",
   "id": "d0b4bd02",
   "metadata": {
    "slideshow": {
     "slide_type": "slide"
    }
   },
   "source": [
    "La línea de puntos representa la curva ROC de un clasificador puramente aleatorio; Un buen clasificador permanece tan lejos de esa línea como sea posible (hacia la esquina superior izquierda)."
   ]
  },
  {
   "cell_type": "markdown",
   "id": "26520710",
   "metadata": {
    "slideshow": {
     "slide_type": "slide"
    }
   },
   "source": [
    "Una forma de comparar los clasificadores es medir el área debajo de la curva (AUC)."
   ]
  },
  {
   "cell_type": "markdown",
   "id": "546ef0d2",
   "metadata": {
    "slideshow": {
     "slide_type": "slide"
    }
   },
   "source": [
    "Un clasificador perfecto tendrá un AUC ROC igual a 1, mientras que un clasificador puramente aleatorio tendrá un AUC ROC igual a 0.5. "
   ]
  },
  {
   "cell_type": "markdown",
   "id": "08dccd51",
   "metadata": {
    "slideshow": {
     "slide_type": "slide"
    }
   },
   "source": [
    "Scikit-Learn proporciona una función para calcular el ROC AUC:"
   ]
  },
  {
   "cell_type": "markdown",
   "id": "4c773afa",
   "metadata": {
    "slideshow": {
     "slide_type": "slide"
    }
   },
   "source": [
    "## Sugerencia \n"
   ]
  },
  {
   "cell_type": "markdown",
   "id": "b5fcfb87",
   "metadata": {
    "slideshow": {
     "slide_type": "slide"
    }
   },
   "source": [
    "Dado que la curva ROC es tan similar a la curva de precisión/recuerdo (PR), puede preguntarse cómo decidir cuál usar."
   ]
  },
  {
   "cell_type": "markdown",
   "id": "0137bde1",
   "metadata": {
    "slideshow": {
     "slide_type": "slide"
    }
   },
   "source": [
    "Como regla general, debe preferir la curva de PR siempre que la clase positiva sea rara o cuando se preocupe más por los falsos positivos que los falsos negativos."
   ]
  },
  {
   "cell_type": "markdown",
   "id": "f9055bd2",
   "metadata": {
    "slideshow": {
     "slide_type": "slide"
    }
   },
   "source": [
    "De lo contrario, use la curva ROC."
   ]
  },
  {
   "cell_type": "markdown",
   "id": "bb97c8d8",
   "metadata": {
    "slideshow": {
     "slide_type": "slide"
    }
   },
   "source": [
    "Por ejemplo, mirando la curva ROC anterior (y la puntuación ROC AUC), puede pensar que el clasificador es realmente bueno."
   ]
  },
  {
   "cell_type": "markdown",
   "id": "95be889e",
   "metadata": {
    "slideshow": {
     "slide_type": "slide"
    }
   },
   "source": [
    "Pero esto es principalmente porque hay pocos positivos (5s) en comparación con los negativos (no 5s)."
   ]
  },
  {
   "cell_type": "markdown",
   "id": "9c294e6a",
   "metadata": {
    "slideshow": {
     "slide_type": "slide"
    }
   },
   "source": [
    "En contraste, la curva de PR deja en claro que el clasificador tiene espacio para mejorar (la curva podría estar más cerca de la esquina superior izquierda)."
   ]
  },
  {
   "cell_type": "markdown",
   "id": "f80d1e45",
   "metadata": {
    "slideshow": {
     "slide_type": "slide"
    }
   },
   "source": [
    "Vamos a entrenar a un `RandomForestClassifier` y comparemos su curva ROC y la puntuación ROC AUC a los del Classificador SGD. "
   ]
  },
  {
   "cell_type": "markdown",
   "id": "2c22c175",
   "metadata": {
    "slideshow": {
     "slide_type": "slide"
    }
   },
   "source": [
    "Primero, debe obtener puntajes para cada instancia en el conjunto de entrenamiento."
   ]
  },
  {
   "cell_type": "markdown",
   "id": "ca1501f5",
   "metadata": {
    "slideshow": {
     "slide_type": "slide"
    }
   },
   "source": [
    "Pero, debido a la forma en que funciona (ver Capítulo 7), la clase `RandomForestClassifier` no tiene un método `decision_function()`. "
   ]
  },
  {
   "cell_type": "markdown",
   "id": "cfca334c",
   "metadata": {
    "slideshow": {
     "slide_type": "slide"
    }
   },
   "source": [
    "En su lugar, tiene un método `predict_proba()`. "
   ]
  },
  {
   "cell_type": "markdown",
   "id": "a5949c65",
   "metadata": {
    "slideshow": {
     "slide_type": "slide"
    }
   },
   "source": [
    "Los clasificadores de Scikit-Learn generalmente tienen uno u otro, o ambos"
   ]
  },
  {
   "cell_type": "markdown",
   "id": "53440f34",
   "metadata": {
    "slideshow": {
     "slide_type": "slide"
    }
   },
   "source": [
    "El método `predict_proba()` devuelve una matriz que contiene una fila por instancia y una columna por clase, cada una con la probabilidad de que la instancia dada pertenece a la clase dada (por ejemplo, 70% de probabilidad de que la imagen represente un 5):"
   ]
  },
  {
   "cell_type": "code",
   "execution_count": 41,
   "id": "70a09b5f",
   "metadata": {
    "slideshow": {
     "slide_type": "slide"
    }
   },
   "outputs": [],
   "source": [
    "from sklearn.ensemble import RandomForestClassifier"
   ]
  },
  {
   "cell_type": "code",
   "execution_count": 42,
   "id": "7dca415c",
   "metadata": {
    "slideshow": {
     "slide_type": "slide"
    }
   },
   "outputs": [
    {
     "name": "stdout",
     "output_type": "stream",
     "text": [
      "Wall time: 2min 43s\n"
     ]
    }
   ],
   "source": [
    "%%time \n",
    "\n",
    "forest_clf = RandomForestClassifier(random_state=42)\n",
    "y_probas_forest = cross_val_predict(forest_clf, X_train, y_train_5, cv=3,\n",
    "method=\"predict_proba\")"
   ]
  },
  {
   "cell_type": "markdown",
   "id": "890adc7d",
   "metadata": {
    "slideshow": {
     "slide_type": "slide"
    }
   },
   "source": [
    "La función `roc_curve()` espera etiquetas y puntajes, pero en lugar de puntajes puede darle probabilidades de clase."
   ]
  },
  {
   "cell_type": "markdown",
   "id": "72c2adc4",
   "metadata": {
    "slideshow": {
     "slide_type": "slide"
    }
   },
   "source": [
    "Usemos la probabilidad de clase positiva como la puntuación:"
   ]
  },
  {
   "cell_type": "code",
   "execution_count": 43,
   "id": "18d9738f",
   "metadata": {
    "slideshow": {
     "slide_type": "slide"
    }
   },
   "outputs": [],
   "source": [
    "%%time \n",
    "\n",
    "y_scores_forest = y_probas_forest[:, 1] # score = proba of positive class\n",
    "fpr_forest, tpr_forest, thresholds_forest = roc_curve(y_train_5,y_scores_forest)"
   ]
  },
  {
   "cell_type": "markdown",
   "id": "de2484d1",
   "metadata": {
    "slideshow": {
     "slide_type": "slide"
    }
   },
   "source": [
    "Ahora estás listo para trazar la curva ROC."
   ]
  },
  {
   "cell_type": "markdown",
   "id": "6f5a6be0",
   "metadata": {
    "slideshow": {
     "slide_type": "slide"
    }
   },
   "source": [
    "Es útil trazar la primera curva ROC también para ver cómo se comparan:"
   ]
  },
  {
   "cell_type": "code",
   "execution_count": 44,
   "id": "44c755bb",
   "metadata": {
    "slideshow": {
     "slide_type": "slide"
    }
   },
   "outputs": [
    {
     "data": {
      "image/png": "[encoded data removed]",
      "text/plain": [
       "<Figure size 432x288 with 1 Axes>"
      ]
     },
     "metadata": {
      "needs_background": "light"
     },
     "output_type": "display_data"
    }
   ],
   "source": [
    "plt.plot(fpr, tpr, \"b:\", label=\"SGD\")\n",
    "plot_roc_curve(fpr_forest, tpr_forest, \"Random Forest\")\n",
    "plt.legend(loc=\"lower right\")\n",
    "plt.show()"
   ]
  },
  {
   "cell_type": "markdown",
   "id": "07a3a3d7",
   "metadata": {
    "slideshow": {
     "slide_type": "slide"
    }
   },
   "source": [
    "Como puede ver en la Figura anterior, la curva ROC del `RandomForestClassifier` se ve mucho mejor que el `SGDClassifier`: se acerca mucho a la esquina superior izquierda."
   ]
  },
  {
   "cell_type": "markdown",
   "id": "333680bb",
   "metadata": {
    "slideshow": {
     "slide_type": "slide"
    }
   },
   "source": [
    "# Cómo calculo el área bajo la curva ROC "
   ]
  },
  {
   "cell_type": "markdown",
   "id": "f2898abc",
   "metadata": {
    "slideshow": {
     "slide_type": "slide"
    }
   },
   "source": [
    "Como resultado, su puntaje ROC AUC también es significativamente mejor:"
   ]
  },
  {
   "cell_type": "code",
   "execution_count": 45,
   "id": "bf041f16",
   "metadata": {
    "slideshow": {
     "slide_type": "slide"
    }
   },
   "outputs": [],
   "source": [
    "from sklearn.metrics import roc_auc_score "
   ]
  },
  {
   "cell_type": "code",
   "execution_count": 46,
   "id": "52645e5a",
   "metadata": {
    "slideshow": {
     "slide_type": "slide"
    }
   },
   "outputs": [
    {
     "data": {
      "text/plain": [
       "0.9983436731328145"
      ]
     },
     "execution_count": 46,
     "metadata": {},
     "output_type": "execute_result"
    }
   ],
   "source": [
    "roc_auc_score(y_train_5, y_scores_forest)"
   ]
  },
  {
   "cell_type": "markdown",
   "id": "60084a04",
   "metadata": {
    "slideshow": {
     "slide_type": "slide"
    }
   },
   "source": [
    "Intente medir las puntuaciones de precisión y recuperación: debe encontrar $ 99.0 \\% $ Precisión y $ 86.6 \\% $ Recall."
   ]
  },
  {
   "cell_type": "markdown",
   "id": "0d412479",
   "metadata": {
    "slideshow": {
     "slide_type": "slide"
    }
   },
   "source": [
    "# ¿Cómo capacitar nuestro clasificador binario? "
   ]
  },
  {
   "cell_type": "markdown",
   "id": "a3ea4eb8",
   "metadata": {
    "slideshow": {
     "slide_type": "slide"
    }
   },
   "source": [
    "Ahora sabe cómo capacitar a los clasificadores binarios, \n",
    "\n",
    "* elija la métrica adecuada para su tarea, \n",
    "* evalúe a sus clasificadores utilizando la validación cruzada, \n",
    "* seleccione la compensación de precisión / recuperación que se ajuste a sus necesidades y\n",
    "* use las curvas ROC y las puntuaciones de ROC AUC para comparar varios modelos ."
   ]
  },
  {
   "cell_type": "markdown",
   "id": "1ddb75a8",
   "metadata": {
    "slideshow": {
     "slide_type": "slide"
    }
   },
   "source": [
    "Ahora intentemos detectar más que solo los 5s."
   ]
  },
  {
   "cell_type": "markdown",
   "id": "254d02da",
   "metadata": {
    "slideshow": {
     "slide_type": "slide"
    }
   },
   "source": [
    "# Multiclass Classification  "
   ]
  },
  {
   "cell_type": "markdown",
   "id": "f144b65e",
   "metadata": {
    "slideshow": {
     "slide_type": "slide"
    }
   },
   "source": [
    "Whereas binary classifiers distinguish between two classes, multiclass classifiers (also called multinomial classifiers) can distinguish between more than two classes."
   ]
  },
  {
   "cell_type": "code",
   "execution_count": null,
   "id": "5ed15abb",
   "metadata": {
    "slideshow": {
     "slide_type": "slide"
    }
   },
   "outputs": [],
   "source": []
  },
  {
   "cell_type": "code",
   "execution_count": null,
   "id": "9b78f1db",
   "metadata": {},
   "outputs": [],
   "source": []
  },
  {
   "cell_type": "markdown",
   "id": "c48dd62f",
   "metadata": {
    "slideshow": {
     "slide_type": "slide"
    }
   },
   "source": [
    "## Referentes  \n",
    "\n",
    "* `sklearn.linear_model import SGDClassifier`: https://scikit-learn.org/stable/modules/generated/sklearn.linear_model.SGDClassifier.html"
   ]
  },
  {
   "cell_type": "code",
   "execution_count": null,
   "id": "d08caf20",
   "metadata": {},
   "outputs": [],
   "source": []
  }
 ],
 "metadata": {
  "celltoolbar": "Slideshow",
  "kernelspec": {
   "display_name": "Python 3 (ipykernel)",
   "language": "python",
   "name": "python3"
  },
  "language_info": {
   "codemirror_mode": {
    "name": "ipython",
    "version": 3
   },
   "file_extension": ".py",
   "mimetype": "text/x-python",
   "name": "python",
   "nbconvert_exporter": "python",
   "pygments_lexer": "ipython3",
   "version": "3.9.7"
  },
  "rise": {
   "enable_chalkboard": true,
   "theme": "sky",
   "transition": "zoom"
  }
 },
 "nbformat": 4,
 "nbformat_minor": 5
}
