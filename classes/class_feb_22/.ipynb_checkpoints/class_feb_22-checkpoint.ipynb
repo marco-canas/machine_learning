{
 "cells": [
  {
   "cell_type": "markdown",
   "id": "79f89ef7",
   "metadata": {
    "slideshow": {
     "slide_type": "slide"
    }
   },
   "source": [
    "<table align=\"left\">\n",
    "  <td>\n",
    "    <a href=\"https://colab.research.google.com/github/marco-canas/Machine-Learning/blob/main/ML/classes/class_feb_22/class_feb_22.ipynb\" target=\"_parent\"><img src=\"https://colab.research.google.com/assets/colab-badge.svg\" alt=\"Open In Colab\"/></a>\n",
    "  </td>\n",
    "</table>"
   ]
  },
  {
   "cell_type": "markdown",
   "id": "6937a238",
   "metadata": {
    "slideshow": {
     "slide_type": "slide"
    }
   },
   "source": [
    "# Construcción de un modelo de regresión lineal"
   ]
  },
  {
   "cell_type": "markdown",
   "id": "0574b3cb",
   "metadata": {
    "slideshow": {
     "slide_type": "slide"
    }
   },
   "source": [
    "## Objetivos de la clase"
   ]
  },
  {
   "cell_type": "markdown",
   "id": "d92b9de7",
   "metadata": {
    "slideshow": {
     "slide_type": "slide"
    }
   },
   "source": [
    "3. Preparar los datos para los algoritmos de aprendizaje.\n",
    "   * Hacer separación inicial de datos para entrenar y para testear.\n",
    "   * Explorar correlaciones lineales con la variable objetivo.\n",
    "   * Eliminar de ser necesario atributos que no sean de mucha utilidad.\n",
    "   * Limpiar datos y llenar datos faltantes.\n",
    "   * Codificar los atributos categóricos. \n",
    "   * Estandarizar los datos.\n",
    "   "
   ]
  },
  {
   "cell_type": "markdown",
   "id": "30f9de08",
   "metadata": {
    "slideshow": {
     "slide_type": "slide"
    }
   },
   "source": [
    "## [Video de apoyo para la lectura de este cuaderno](https://www.youtube.com/watch?v=CYVsLrnjGIc)"
   ]
  },
  {
   "cell_type": "markdown",
   "id": "119c98f0",
   "metadata": {
    "slideshow": {
     "slide_type": "slide"
    }
   },
   "source": [
    "# Desarrollo teórico"
   ]
  },
  {
   "cell_type": "code",
   "execution_count": 1,
   "id": "cc6412c2",
   "metadata": {
    "slideshow": {
     "slide_type": "slide"
    }
   },
   "outputs": [],
   "source": [
    "import numpy as np \n",
    "import pandas as pd\n",
    "import matplotlib.pyplot as plt "
   ]
  },
  {
   "cell_type": "code",
   "execution_count": 3,
   "id": "bd7ad013",
   "metadata": {
    "slideshow": {
     "slide_type": "slide"
    }
   },
   "outputs": [],
   "source": [
    "url = 'https://raw.githubusercontent.com/marco-canas/didactica_ciencia_datos/main/datasets/vivienda/vivienda.csv'\n",
    "v = pd.read_csv(url) "
   ]
  },
  {
   "cell_type": "code",
   "execution_count": 4,
   "id": "c02180b6",
   "metadata": {
    "slideshow": {
     "slide_type": "slide"
    }
   },
   "outputs": [
    {
     "data": {
      "text/html": [
       "<div>\n",
       "<style scoped>\n",
       "    .dataframe tbody tr th:only-of-type {\n",
       "        vertical-align: middle;\n",
       "    }\n",
       "\n",
       "    .dataframe tbody tr th {\n",
       "        vertical-align: top;\n",
       "    }\n",
       "\n",
       "    .dataframe thead th {\n",
       "        text-align: right;\n",
       "    }\n",
       "</style>\n",
       "<table border=\"1\" class=\"dataframe\">\n",
       "  <thead>\n",
       "    <tr style=\"text-align: right;\">\n",
       "      <th></th>\n",
       "      <th>longitud</th>\n",
       "      <th>latitud</th>\n",
       "      <th>antiguedad</th>\n",
       "      <th>habitaciones</th>\n",
       "      <th>dormitorios</th>\n",
       "      <th>población</th>\n",
       "      <th>hogares</th>\n",
       "      <th>ingresos</th>\n",
       "      <th>proximidad</th>\n",
       "      <th>precio</th>\n",
       "    </tr>\n",
       "  </thead>\n",
       "  <tbody>\n",
       "    <tr>\n",
       "      <th>0</th>\n",
       "      <td>-122.23</td>\n",
       "      <td>37.88</td>\n",
       "      <td>41.0</td>\n",
       "      <td>880.0</td>\n",
       "      <td>129.0</td>\n",
       "      <td>322.0</td>\n",
       "      <td>126.0</td>\n",
       "      <td>8.3252</td>\n",
       "      <td>NEAR BAY</td>\n",
       "      <td>452600.0</td>\n",
       "    </tr>\n",
       "    <tr>\n",
       "      <th>1</th>\n",
       "      <td>-122.22</td>\n",
       "      <td>37.86</td>\n",
       "      <td>21.0</td>\n",
       "      <td>7099.0</td>\n",
       "      <td>1106.0</td>\n",
       "      <td>2401.0</td>\n",
       "      <td>1138.0</td>\n",
       "      <td>8.3014</td>\n",
       "      <td>NEAR BAY</td>\n",
       "      <td>358500.0</td>\n",
       "    </tr>\n",
       "    <tr>\n",
       "      <th>2</th>\n",
       "      <td>-122.24</td>\n",
       "      <td>37.85</td>\n",
       "      <td>52.0</td>\n",
       "      <td>1467.0</td>\n",
       "      <td>190.0</td>\n",
       "      <td>496.0</td>\n",
       "      <td>177.0</td>\n",
       "      <td>7.2574</td>\n",
       "      <td>NEAR BAY</td>\n",
       "      <td>352100.0</td>\n",
       "    </tr>\n",
       "    <tr>\n",
       "      <th>3</th>\n",
       "      <td>-122.25</td>\n",
       "      <td>37.85</td>\n",
       "      <td>52.0</td>\n",
       "      <td>1274.0</td>\n",
       "      <td>235.0</td>\n",
       "      <td>558.0</td>\n",
       "      <td>219.0</td>\n",
       "      <td>5.6431</td>\n",
       "      <td>NEAR BAY</td>\n",
       "      <td>341300.0</td>\n",
       "    </tr>\n",
       "    <tr>\n",
       "      <th>4</th>\n",
       "      <td>-122.25</td>\n",
       "      <td>37.85</td>\n",
       "      <td>52.0</td>\n",
       "      <td>1627.0</td>\n",
       "      <td>280.0</td>\n",
       "      <td>565.0</td>\n",
       "      <td>259.0</td>\n",
       "      <td>3.8462</td>\n",
       "      <td>NEAR BAY</td>\n",
       "      <td>342200.0</td>\n",
       "    </tr>\n",
       "    <tr>\n",
       "      <th>...</th>\n",
       "      <td>...</td>\n",
       "      <td>...</td>\n",
       "      <td>...</td>\n",
       "      <td>...</td>\n",
       "      <td>...</td>\n",
       "      <td>...</td>\n",
       "      <td>...</td>\n",
       "      <td>...</td>\n",
       "      <td>...</td>\n",
       "      <td>...</td>\n",
       "    </tr>\n",
       "    <tr>\n",
       "      <th>20635</th>\n",
       "      <td>-121.09</td>\n",
       "      <td>39.48</td>\n",
       "      <td>25.0</td>\n",
       "      <td>1665.0</td>\n",
       "      <td>374.0</td>\n",
       "      <td>845.0</td>\n",
       "      <td>330.0</td>\n",
       "      <td>1.5603</td>\n",
       "      <td>INLAND</td>\n",
       "      <td>78100.0</td>\n",
       "    </tr>\n",
       "    <tr>\n",
       "      <th>20636</th>\n",
       "      <td>-121.21</td>\n",
       "      <td>39.49</td>\n",
       "      <td>18.0</td>\n",
       "      <td>697.0</td>\n",
       "      <td>150.0</td>\n",
       "      <td>356.0</td>\n",
       "      <td>114.0</td>\n",
       "      <td>2.5568</td>\n",
       "      <td>INLAND</td>\n",
       "      <td>77100.0</td>\n",
       "    </tr>\n",
       "    <tr>\n",
       "      <th>20637</th>\n",
       "      <td>-121.22</td>\n",
       "      <td>39.43</td>\n",
       "      <td>17.0</td>\n",
       "      <td>2254.0</td>\n",
       "      <td>485.0</td>\n",
       "      <td>1007.0</td>\n",
       "      <td>433.0</td>\n",
       "      <td>1.7000</td>\n",
       "      <td>INLAND</td>\n",
       "      <td>92300.0</td>\n",
       "    </tr>\n",
       "    <tr>\n",
       "      <th>20638</th>\n",
       "      <td>-121.32</td>\n",
       "      <td>39.43</td>\n",
       "      <td>18.0</td>\n",
       "      <td>1860.0</td>\n",
       "      <td>409.0</td>\n",
       "      <td>741.0</td>\n",
       "      <td>349.0</td>\n",
       "      <td>1.8672</td>\n",
       "      <td>INLAND</td>\n",
       "      <td>84700.0</td>\n",
       "    </tr>\n",
       "    <tr>\n",
       "      <th>20639</th>\n",
       "      <td>-121.24</td>\n",
       "      <td>39.37</td>\n",
       "      <td>16.0</td>\n",
       "      <td>2785.0</td>\n",
       "      <td>616.0</td>\n",
       "      <td>1387.0</td>\n",
       "      <td>530.0</td>\n",
       "      <td>2.3886</td>\n",
       "      <td>INLAND</td>\n",
       "      <td>89400.0</td>\n",
       "    </tr>\n",
       "  </tbody>\n",
       "</table>\n",
       "<p>20640 rows × 10 columns</p>\n",
       "</div>"
      ],
      "text/plain": [
       "       longitud  latitud  antiguedad  habitaciones  dormitorios  población  \\\n",
       "0       -122.23    37.88        41.0         880.0        129.0      322.0   \n",
       "1       -122.22    37.86        21.0        7099.0       1106.0     2401.0   \n",
       "2       -122.24    37.85        52.0        1467.0        190.0      496.0   \n",
       "3       -122.25    37.85        52.0        1274.0        235.0      558.0   \n",
       "4       -122.25    37.85        52.0        1627.0        280.0      565.0   \n",
       "...         ...      ...         ...           ...          ...        ...   \n",
       "20635   -121.09    39.48        25.0        1665.0        374.0      845.0   \n",
       "20636   -121.21    39.49        18.0         697.0        150.0      356.0   \n",
       "20637   -121.22    39.43        17.0        2254.0        485.0     1007.0   \n",
       "20638   -121.32    39.43        18.0        1860.0        409.0      741.0   \n",
       "20639   -121.24    39.37        16.0        2785.0        616.0     1387.0   \n",
       "\n",
       "       hogares  ingresos proximidad    precio  \n",
       "0        126.0    8.3252   NEAR BAY  452600.0  \n",
       "1       1138.0    8.3014   NEAR BAY  358500.0  \n",
       "2        177.0    7.2574   NEAR BAY  352100.0  \n",
       "3        219.0    5.6431   NEAR BAY  341300.0  \n",
       "4        259.0    3.8462   NEAR BAY  342200.0  \n",
       "...        ...       ...        ...       ...  \n",
       "20635    330.0    1.5603     INLAND   78100.0  \n",
       "20636    114.0    2.5568     INLAND   77100.0  \n",
       "20637    433.0    1.7000     INLAND   92300.0  \n",
       "20638    349.0    1.8672     INLAND   84700.0  \n",
       "20639    530.0    2.3886     INLAND   89400.0  \n",
       "\n",
       "[20640 rows x 10 columns]"
      ]
     },
     "execution_count": 4,
     "metadata": {},
     "output_type": "execute_result"
    }
   ],
   "source": [
    "v"
   ]
  },
  {
   "cell_type": "code",
   "execution_count": null,
   "id": "5e9d0a3e",
   "metadata": {
    "slideshow": {
     "slide_type": "slide"
    }
   },
   "outputs": [],
   "source": [
    "from sklearn.model_selection import train_test_split "
   ]
  },
  {
   "cell_type": "code",
   "execution_count": null,
   "id": "e9ac5fed",
   "metadata": {
    "slideshow": {
     "slide_type": "slide"
    }
   },
   "outputs": [],
   "source": [
    "train_set, test_set = train_test_split(v, test_size = 0.2, random_state = 513) "
   ]
  },
  {
   "cell_type": "code",
   "execution_count": null,
   "id": "48c53403",
   "metadata": {
    "slideshow": {
     "slide_type": "slide"
    }
   },
   "outputs": [],
   "source": [
    "v = train_set "
   ]
  },
  {
   "cell_type": "markdown",
   "id": "6989922d",
   "metadata": {
    "slideshow": {
     "slide_type": "slide"
    }
   },
   "source": [
    "# Búsqueda de correlaciones "
   ]
  },
  {
   "cell_type": "code",
   "execution_count": null,
   "id": "ed9d1018",
   "metadata": {
    "slideshow": {
     "slide_type": "slide"
    }
   },
   "outputs": [],
   "source": [
    "v.corr()"
   ]
  },
  {
   "cell_type": "code",
   "execution_count": null,
   "id": "761ebee4",
   "metadata": {
    "slideshow": {
     "slide_type": "slide"
    }
   },
   "outputs": [],
   "source": [
    "v.corr().valor"
   ]
  },
  {
   "cell_type": "code",
   "execution_count": null,
   "id": "67ab4636",
   "metadata": {
    "slideshow": {
     "slide_type": "slide"
    }
   },
   "outputs": [],
   "source": [
    "v.corr().valor.sort_values(ascending = False) "
   ]
  },
  {
   "cell_type": "markdown",
   "id": "5be8cf37",
   "metadata": {
    "slideshow": {
     "slide_type": "slide"
    }
   },
   "source": [
    "El coeficiente de correlación va de –1 a 1. "
   ]
  },
  {
   "cell_type": "markdown",
   "id": "d13ea140",
   "metadata": {
    "slideshow": {
     "slide_type": "slide"
    }
   },
   "source": [
    "Cuando está cerca de 1, significa que hay una fuerte correlación positiva; por ejemplo, el valor medio de la vivienda tiende a aumentar cuando aumenta el ingreso medio."
   ]
  },
  {
   "cell_type": "markdown",
   "id": "2c5ccc4a",
   "metadata": {
    "slideshow": {
     "slide_type": "slide"
    }
   },
   "source": [
    "Cuando el coeficiente es cercano a –1, significa que existe una fuerte correlación negativa; puede ver una pequeña correlación negativa entre la latitud y el valor medio de la vivienda (es decir, los precios tienen una ligera tendencia a bajar cuando va hacia el norte)."
   ]
  },
  {
   "cell_type": "markdown",
   "id": "e11b2f7e",
   "metadata": {
    "slideshow": {
     "slide_type": "slide"
    }
   },
   "source": [
    "Finalmente, los coeficientes cercanos a 0 significan que no existe una correlación lineal."
   ]
  },
  {
   "cell_type": "markdown",
   "id": "4e1f8e14",
   "metadata": {
    "slideshow": {
     "slide_type": "slide"
    }
   },
   "source": [
    "La Figura siguiente muestra varios gráficos junto con el coeficiente de correlación entre sus ejes horizontal y vertical."
   ]
  },
  {
   "cell_type": "markdown",
   "id": "12b889ac",
   "metadata": {
    "slideshow": {
     "slide_type": "slide"
    }
   },
   "source": [
    "<img src = 'https://github.com/marco-canas/taca/blob/main/ref/geron/part_1/chap_2/4_visualize/figura_2_14_Standard_correlation_coefficient_of_various_datasets.PNG?raw=true'>"
   ]
  },
  {
   "cell_type": "markdown",
   "id": "b93e0abc",
   "metadata": {
    "slideshow": {
     "slide_type": "slide"
    }
   },
   "source": [
    "### ADVERTENCIA"
   ]
  },
  {
   "cell_type": "markdown",
   "id": "72517fe8",
   "metadata": {
    "slideshow": {
     "slide_type": "slide"
    }
   },
   "source": [
    "El coeficiente de correlación solo mide las correlaciones lineales (\"si $x$ sube, entonces $y$ generalmente sube/baja\")."
   ]
  },
  {
   "cell_type": "markdown",
   "id": "d7fecdb4",
   "metadata": {
    "slideshow": {
     "slide_type": "slide"
    }
   },
   "source": [
    "Puede perder por completo las relaciones no lineales."
   ]
  },
  {
   "cell_type": "markdown",
   "id": "7fc3ff1d",
   "metadata": {
    "slideshow": {
     "slide_type": "slide"
    }
   },
   "source": [
    "Observe cómo todas las gráficas de la fila inferior tienen un coeficiente de correlación igual a 0, a pesar de que sus ejes claramente no son independientes: estos son ejemplos de relaciones no lineales."
   ]
  },
  {
   "cell_type": "markdown",
   "id": "2ddeb2a9",
   "metadata": {
    "slideshow": {
     "slide_type": "slide"
    }
   },
   "source": [
    "Además, la segunda fila muestra ejemplos donde el coeficiente de correlación es igual a 1 o -1; observe que esto no tiene nada que ver con la pendiente."
   ]
  },
  {
   "cell_type": "markdown",
   "id": "5917403a",
   "metadata": {
    "slideshow": {
     "slide_type": "slide"
    }
   },
   "source": [
    "Por ejemplo, su altura en pulgadas tiene un coeficiente de correlación de 1 con su altura en pies o en nanómetros."
   ]
  },
  {
   "cell_type": "markdown",
   "id": "baecc70d",
   "metadata": {
    "slideshow": {
     "slide_type": "slide"
    }
   },
   "source": [
    "Otra forma de verificar la correlación entre los atributos es usar la función de pandas `scatter_matrix()`, que traza cada atributo numérico contra cualquier otro atributo numérico."
   ]
  },
  {
   "cell_type": "markdown",
   "id": "8fd176dd",
   "metadata": {
    "slideshow": {
     "slide_type": "slide"
    }
   },
   "source": [
    "Dado que ahora hay 9 atributos numéricos, obtendría $9^{2} = 81$ gráficos, que no cabrían en una página, así que solo concéntrese en algunos atributos prometedores que parecen estar más correlacionados con el valor medio de la vivienda:"
   ]
  },
  {
   "cell_type": "markdown",
   "id": "fc8fb45c",
   "metadata": {
    "slideshow": {
     "slide_type": "slide"
    }
   },
   "source": [
    "# Visualización de los atributos mejor correlacionados con la variable objetivo"
   ]
  },
  {
   "cell_type": "code",
   "execution_count": 7,
   "id": "dd0a7057",
   "metadata": {
    "slideshow": {
     "slide_type": "slide"
    }
   },
   "outputs": [],
   "source": [
    "atributos = ['valor', 'ingresos','habitaciones', 'antiguedad', \\\n",
    "             'población', 'longitud', 'latitud'] "
   ]
  },
  {
   "cell_type": "code",
   "execution_count": 8,
   "id": "0dd7a6e7",
   "metadata": {
    "slideshow": {
     "slide_type": "slide"
    }
   },
   "outputs": [],
   "source": [
    "from pandas.plotting import scatter_matrix\n"
   ]
  },
  {
   "cell_type": "code",
   "execution_count": 9,
   "id": "b5218af2",
   "metadata": {
    "slideshow": {
     "slide_type": "slide"
    }
   },
   "outputs": [
    {
     "data": {
      "image/png": "[encoded data removed]",
      "text/plain": [
       "<Figure size 864x576 with 49 Axes>"
      ]
     },
     "metadata": {
      "needs_background": "light"
     },
     "output_type": "display_data"
    }
   ],
   "source": [
    "scatter_matrix(v[atributos], figsize = (12,8)) \n",
    "\n",
    "plt.savefig('scatter_atributis.jpg')\n",
    "\n",
    "plt.show() "
   ]
  },
  {
   "cell_type": "markdown",
   "id": "934a3399",
   "metadata": {
    "slideshow": {
     "slide_type": "slide"
    }
   },
   "source": [
    "La diagonal principal (de arriba a la izquierda a abajo a la derecha) estaría llena de líneas rectas si los pandas trazaran cada variable contra sí misma, lo que no sería muy útil."
   ]
  },
  {
   "cell_type": "markdown",
   "id": "4d2e412a",
   "metadata": {
    "slideshow": {
     "slide_type": "slide"
    }
   },
   "source": [
    "Entonces, en lugar de eso, pandas muestra un histograma de cada atributo (hay otras opciones disponibles; consulte la documentación de pandas para obtener más detalles)."
   ]
  },
  {
   "cell_type": "markdown",
   "id": "4612232b",
   "metadata": {
    "slideshow": {
     "slide_type": "slide"
    }
   },
   "source": [
    "El atributo más prometedor para predecir el `valor medio de la vivienda` es el `ingreso medio`, así que acerquémonos a su diagrama de dispersión de correlación:"
   ]
  },
  {
   "cell_type": "code",
   "execution_count": null,
   "id": "4bdd38af",
   "metadata": {
    "slideshow": {
     "slide_type": "slide"
    }
   },
   "outputs": [],
   "source": [
    "v.plot(kind = 'scatter', x = 'ingresos', y = 'valor', figsize = (10,7), alpha = 0.1) "
   ]
  },
  {
   "cell_type": "markdown",
   "id": "7e31dd4a",
   "metadata": {
    "slideshow": {
     "slide_type": "slide"
    }
   },
   "source": [
    "Este gráfico de dispersión revela algunas cosas."
   ]
  },
  {
   "cell_type": "markdown",
   "id": "7e748917",
   "metadata": {
    "slideshow": {
     "slide_type": "slide"
    }
   },
   "source": [
    "Primero, la correlación es de hecho muy fuerte; se puede ver claramente la tendencia al alza, y los puntos no están demasiado dispersos."
   ]
  },
  {
   "cell_type": "markdown",
   "id": "2286e991",
   "metadata": {
    "slideshow": {
     "slide_type": "slide"
    }
   },
   "source": [
    "En segundo lugar, el límite de precio que notamos anteriormente es claramente visible como una línea horizontal en $500,000."
   ]
  },
  {
   "cell_type": "markdown",
   "id": "4023b6de",
   "metadata": {
    "slideshow": {
     "slide_type": "slide"
    }
   },
   "source": [
    "Pero este gráfico revela otras líneas rectas menos obvias:\n",
    "\n",
    "* una línea horizontal alrededor de $450 000$, \n",
    "* otra alrededor de $350 000$,  \n",
    "* quizás una alrededor de $280 000 y \n",
    "\n",
    "algunas más por debajo de esa."
   ]
  },
  {
   "cell_type": "markdown",
   "id": "07e08d32",
   "metadata": {
    "slideshow": {
     "slide_type": "slide"
    }
   },
   "source": [
    "Es posible que desee intentar eliminar los distritos correspondientes para evitar que sus algoritmos aprendan a reproducir estas peculiaridades de los datos."
   ]
  },
  {
   "cell_type": "markdown",
   "id": "d8fac872",
   "metadata": {
    "slideshow": {
     "slide_type": "slide"
    }
   },
   "source": [
    "## Experimentando con combinaciones de atributos"
   ]
  },
  {
   "cell_type": "markdown",
   "id": "85cdbc5e",
   "metadata": {
    "slideshow": {
     "slide_type": "slide"
    }
   },
   "source": [
    "Una última cosa que quizás desee hacer antes de preparar los datos para los algoritmos de Machine Learning es probar varias combinaciones de atributos."
   ]
  },
  {
   "cell_type": "markdown",
   "id": "596d7ccc",
   "metadata": {
    "slideshow": {
     "slide_type": "slide"
    }
   },
   "source": [
    "Por ejemplo, el número total de habitaciones en un distrito no es muy útil si no sabe cuántos hogares hay. "
   ]
  },
  {
   "cell_type": "markdown",
   "id": "c5746ba0",
   "metadata": {
    "slideshow": {
     "slide_type": "slide"
    }
   },
   "source": [
    "Lo que realmente desea es el número de **habitaciones por hogar**."
   ]
  },
  {
   "cell_type": "markdown",
   "id": "a5aa8395",
   "metadata": {
    "slideshow": {
     "slide_type": "slide"
    }
   },
   "source": [
    "Del mismo modo, el número total de **dormitorios** por sí solo no es muy útil: probablemente quieras compararlo con el número de **habitaciones**."
   ]
  },
  {
   "cell_type": "markdown",
   "id": "78e812bf",
   "metadata": {
    "slideshow": {
     "slide_type": "slide"
    }
   },
   "source": [
    "Y la **población por hogar** también parece una combinación de atributos interesante para observar."
   ]
  },
  {
   "cell_type": "markdown",
   "id": "b357e85b",
   "metadata": {
    "slideshow": {
     "slide_type": "slide"
    }
   },
   "source": [
    "Vamos a crear estos nuevos atributos:"
   ]
  },
  {
   "cell_type": "code",
   "execution_count": null,
   "id": "61854a09",
   "metadata": {
    "slideshow": {
     "slide_type": "slide"
    }
   },
   "outputs": [],
   "source": [
    "v['habitaciones_por_hogar'] = v.habitaciones/v.hogares"
   ]
  },
  {
   "cell_type": "code",
   "execution_count": null,
   "id": "c6bfe1d5",
   "metadata": {
    "slideshow": {
     "slide_type": "slide"
    }
   },
   "outputs": [],
   "source": [
    "v['dormitorios_por_habitación'] = v.dormitorios/v.habitaciones"
   ]
  },
  {
   "cell_type": "code",
   "execution_count": null,
   "id": "847b2527",
   "metadata": {
    "slideshow": {
     "slide_type": "slide"
    }
   },
   "outputs": [],
   "source": [
    "v['población_por_hogar'] = v.población/v.hogares "
   ]
  },
  {
   "cell_type": "markdown",
   "id": "5d65a8bb",
   "metadata": {
    "slideshow": {
     "slide_type": "slide"
    }
   },
   "source": [
    "Ahora veamos las correlaciones de nuevo:"
   ]
  },
  {
   "cell_type": "code",
   "execution_count": null,
   "id": "35620e16",
   "metadata": {
    "slideshow": {
     "slide_type": "slide"
    }
   },
   "outputs": [],
   "source": [
    "v.corr().valor.sort_values(ascending = False) \n"
   ]
  },
  {
   "cell_type": "markdown",
   "id": "374d35e1",
   "metadata": {
    "slideshow": {
     "slide_type": "slide"
    }
   },
   "source": [
    "Note que el nuevo atributo `dormitorios_por_habitación` está mucho más correlacionado con el `valor` medio de la casa que con el número total de `habitaciones` o `dormitorios`."
   ]
  },
  {
   "cell_type": "markdown",
   "id": "c207fade",
   "metadata": {
    "slideshow": {
     "slide_type": "slide"
    }
   },
   "source": [
    "Aparentemente, las casas con una relación dormitorio/habitación más baja tienden a ser más caras."
   ]
  },
  {
   "cell_type": "markdown",
   "id": "a6e988f2",
   "metadata": {
    "slideshow": {
     "slide_type": "slide"
    }
   },
   "source": [
    "El número de habitaciones por hogar también es más informativo que el número total de habitaciones en un distrito; obviamente, cuanto más grandes son las casas, más caras son."
   ]
  },
  {
   "cell_type": "markdown",
   "id": "5dbd92d2",
   "metadata": {
    "slideshow": {
     "slide_type": "slide"
    }
   },
   "source": [
    "Esta ronda de exploración no tiene que ser absolutamente minuciosa; el punto es comenzar con el pie derecho y obtener rápidamente información que lo ayudará a obtener un primer prototipo razonablemente bueno."
   ]
  },
  {
   "cell_type": "markdown",
   "id": "8c5751d0",
   "metadata": {
    "slideshow": {
     "slide_type": "slide"
    }
   },
   "source": [
    "Pero este es un proceso iterativo: una vez que tiene un prototipo en funcionamiento, puede analizar su resultado para obtener más información y volver a este paso de exploración."
   ]
  },
  {
   "cell_type": "markdown",
   "id": "86a93811",
   "metadata": {
    "slideshow": {
     "slide_type": "slide"
    }
   },
   "source": [
    "# Preparar los datos para los algoritmos de aprendizaje automático"
   ]
  },
  {
   "cell_type": "markdown",
   "id": "817e0746",
   "metadata": {
    "slideshow": {
     "slide_type": "slide"
    }
   },
   "source": [
    "En lugar de hacer esto manualmente, debe escribir funciones para este propósito, por varias buenas razones:"
   ]
  },
  {
   "cell_type": "markdown",
   "id": "9fc71306",
   "metadata": {
    "slideshow": {
     "slide_type": "slide"
    }
   },
   "source": [
    "Esto le permitirá reproducir estas transformaciones fácilmente en cualquier conjunto de datos (por ejemplo, la próxima vez que obtenga un conjunto de datos nuevo)."
   ]
  },
  {
   "cell_type": "markdown",
   "id": "4d93ad50",
   "metadata": {
    "slideshow": {
     "slide_type": "slide"
    }
   },
   "source": [
    "Gradualmente creará una biblioteca de funciones de transformación que podrá reutilizar en proyectos futuros."
   ]
  },
  {
   "cell_type": "markdown",
   "id": "a1631d41",
   "metadata": {
    "slideshow": {
     "slide_type": "slide"
    }
   },
   "source": [
    "Puede usar estas funciones en su sistema en vivo para transformar los nuevos datos antes de alimentarlos a sus algoritmos."
   ]
  },
  {
   "cell_type": "markdown",
   "id": "362d9877",
   "metadata": {
    "slideshow": {
     "slide_type": "slide"
    }
   },
   "source": [
    "Esto le permitirá probar fácilmente varias transformaciones y ver qué combinación de transformaciones funciona mejor."
   ]
  },
  {
   "cell_type": "markdown",
   "id": "0b32ecda",
   "metadata": {
    "slideshow": {
     "slide_type": "slide"
    }
   },
   "source": [
    "Pero primero volvamos a un conjunto de entrenamiento limpio (copiando `train_set` una vez más)."
   ]
  },
  {
   "cell_type": "markdown",
   "id": "a9e5293c",
   "metadata": {
    "slideshow": {
     "slide_type": "slide"
    }
   },
   "source": [
    "También separemos los predictores y las etiquetas, ya que no necesariamente queremos aplicar las mismas transformaciones a los predictores y los valores objetivo (tenga en cuenta que `drop()` crea una copia de los datos y no afecta a strat_train_set):"
   ]
  },
  {
   "cell_type": "code",
   "execution_count": null,
   "id": "67558ab9",
   "metadata": {
    "slideshow": {
     "slide_type": "slide"
    }
   },
   "outputs": [],
   "source": [
    "v = train_set.drop('valor', axis=1)\n",
    "v_labels = train_set['valor']\n"
   ]
  },
  {
   "cell_type": "markdown",
   "id": "b8ee189d",
   "metadata": {
    "slideshow": {
     "slide_type": "slide"
    }
   },
   "source": [
    "## Data Cleaning"
   ]
  },
  {
   "cell_type": "markdown",
   "id": "43ca95b5",
   "metadata": {
    "slideshow": {
     "slide_type": "slide"
    }
   },
   "source": [
    "La mayoría de los algoritmos de aprendizaje automático no pueden funcionar con atributos faltantes, así que creemos algunas funciones para encargarnos de ellas."
   ]
  },
  {
   "cell_type": "markdown",
   "id": "b35817e0",
   "metadata": {
    "slideshow": {
     "slide_type": "slide"
    }
   },
   "source": [
    "Vimos anteriormente que el atributo `dormitorios` tiene algunos valores faltantes, así que arreglemos esto. "
   ]
  },
  {
   "cell_type": "markdown",
   "id": "6bbb6efb",
   "metadata": {
    "slideshow": {
     "slide_type": "slide"
    }
   },
   "source": [
    "Tienes tres opciones"
   ]
  },
  {
   "cell_type": "markdown",
   "id": "ebd7b9ed",
   "metadata": {
    "slideshow": {
     "slide_type": "slide"
    }
   },
   "source": [
    "1. Deshacerse de los distritos correspondientes.\n",
    "2. Deshágase de todo el atributo.\n",
    "3. Establezca los valores en algún valor (cero, la media, la mediana, etc.)."
   ]
  },
  {
   "cell_type": "markdown",
   "id": "d59ace9e",
   "metadata": {
    "slideshow": {
     "slide_type": "slide"
    }
   },
   "source": [
    "You can accomplish these easily using DataFrame’s `dropna()`, `drop()`, and `fillna()` methods:"
   ]
  },
  {
   "cell_type": "code",
   "execution_count": null,
   "id": "3f8518dd",
   "metadata": {
    "scrolled": true,
    "slideshow": {
     "slide_type": "slide"
    }
   },
   "outputs": [],
   "source": [
    "v.dropna(subset=[\"habitaciones\"]) # option 1"
   ]
  },
  {
   "cell_type": "code",
   "execution_count": null,
   "id": "2982f26c",
   "metadata": {},
   "outputs": [],
   "source": [
    "v.dormitorios.dropna()"
   ]
  },
  {
   "cell_type": "code",
   "execution_count": null,
   "id": "4a7722a2",
   "metadata": {
    "slideshow": {
     "slide_type": "slide"
    }
   },
   "outputs": [],
   "source": [
    "v.drop(\"dormitorios\", axis=1) # option 2"
   ]
  },
  {
   "cell_type": "code",
   "execution_count": null,
   "id": "65fff895",
   "metadata": {
    "slideshow": {
     "slide_type": "slide"
    }
   },
   "outputs": [],
   "source": [
    "median = v[\"dormitorios\"].median() # option 3\n",
    "v[\"dormitorios\"].fillna(median)"
   ]
  },
  {
   "cell_type": "markdown",
   "id": "55aafff9",
   "metadata": {
    "slideshow": {
     "slide_type": "slide"
    }
   },
   "source": [
    "If you choose option 3, you should compute the median value on the training set and use it to fill the missing values in the training set. "
   ]
  },
  {
   "cell_type": "markdown",
   "id": "78e24055",
   "metadata": {
    "slideshow": {
     "slide_type": "slide"
    }
   },
   "source": [
    "Don’t forget to save the median value that you have computed. "
   ]
  },
  {
   "cell_type": "markdown",
   "id": "644757ec",
   "metadata": {
    "slideshow": {
     "slide_type": "slide"
    }
   },
   "source": [
    "You will need it later to replace missing values in the test set when you want to evaluate your system, and also once the system goes live to replace missing values in new data."
   ]
  },
  {
   "cell_type": "markdown",
   "id": "4261cf70",
   "metadata": {
    "slideshow": {
     "slide_type": "slide"
    }
   },
   "source": [
    "Scikit-Learn provides a handy class to take care of missing values:"
   ]
  },
  {
   "cell_type": "markdown",
   "id": "759aff76",
   "metadata": {
    "slideshow": {
     "slide_type": "slide"
    }
   },
   "source": [
    "SimpleImputer. Here is how to use it. "
   ]
  },
  {
   "cell_type": "markdown",
   "id": "993ff39d",
   "metadata": {
    "slideshow": {
     "slide_type": "slide"
    }
   },
   "source": [
    "First, you need to create a `SimpleImputer` instance, specifying that you want to replace each attribute’s missing values with the median of that attribute:"
   ]
  },
  {
   "cell_type": "code",
   "execution_count": null,
   "id": "823aa5c2",
   "metadata": {
    "slideshow": {
     "slide_type": "slide"
    }
   },
   "outputs": [],
   "source": [
    "from sklearn.impute import SimpleImputer\n",
    "imputador = SimpleImputer(strategy=\"median\")\n"
   ]
  },
  {
   "cell_type": "markdown",
   "id": "49826322",
   "metadata": {
    "slideshow": {
     "slide_type": "slide"
    }
   },
   "source": [
    "Since the median can only be computed on numerical attributes, you need to create a copy of the data without the text attribute `proximidad`:\n"
   ]
  },
  {
   "cell_type": "code",
   "execution_count": null,
   "id": "00f5d14b",
   "metadata": {
    "slideshow": {
     "slide_type": "slide"
    }
   },
   "outputs": [],
   "source": [
    "v_num = v.drop(\"proximidad\", axis=1)"
   ]
  },
  {
   "cell_type": "markdown",
   "id": "932ccc46",
   "metadata": {
    "slideshow": {
     "slide_type": "slide"
    }
   },
   "source": [
    "Now you can fit the imputer instance to the training data using the fit()\n",
    "method:"
   ]
  },
  {
   "cell_type": "code",
   "execution_count": null,
   "id": "1b101f0f",
   "metadata": {
    "slideshow": {
     "slide_type": "slide"
    }
   },
   "outputs": [],
   "source": [
    "imputador.fit(v_num)\n"
   ]
  },
  {
   "cell_type": "markdown",
   "id": "27f04f18",
   "metadata": {
    "slideshow": {
     "slide_type": "slide"
    }
   },
   "source": [
    "The imputer has simply computed the median of each attribute and stored the result in its statistics_ instance variable. "
   ]
  },
  {
   "cell_type": "markdown",
   "id": "db95158a",
   "metadata": {
    "slideshow": {
     "slide_type": "slide"
    }
   },
   "source": [
    "Only the total_bedrooms attribute had missing values, but we cannot be sure that there won’t be any missing values in new data after the system goes live, so it is safer to apply the imputer\n",
    "to all the numerical attributes:"
   ]
  },
  {
   "cell_type": "code",
   "execution_count": null,
   "id": "749a31c1",
   "metadata": {
    "slideshow": {
     "slide_type": "slide"
    }
   },
   "outputs": [],
   "source": [
    "imputador.statistics_"
   ]
  },
  {
   "cell_type": "code",
   "execution_count": null,
   "id": "b11b47cf",
   "metadata": {
    "slideshow": {
     "slide_type": "slide"
    }
   },
   "outputs": [],
   "source": [
    "v_num.median().values"
   ]
  },
  {
   "cell_type": "markdown",
   "id": "df24fc79",
   "metadata": {
    "slideshow": {
     "slide_type": "slide"
    }
   },
   "source": [
    "Now you can use this “trained” imputer to transform the training set by replacing missing values with the learned medians:"
   ]
  },
  {
   "cell_type": "code",
   "execution_count": null,
   "id": "084b43f6",
   "metadata": {
    "slideshow": {
     "slide_type": "slide"
    }
   },
   "outputs": [],
   "source": [
    "X = imputador.transform(v_num)"
   ]
  },
  {
   "cell_type": "markdown",
   "id": "1e57a015",
   "metadata": {
    "slideshow": {
     "slide_type": "slide"
    }
   },
   "source": [
    "The result is a plain NumPy array containing the transformed features. "
   ]
  },
  {
   "cell_type": "markdown",
   "id": "1916cd06",
   "metadata": {
    "slideshow": {
     "slide_type": "slide"
    }
   },
   "source": [
    "If you want to put it back into a pandas DataFrame, it’s simple:"
   ]
  },
  {
   "cell_type": "code",
   "execution_count": null,
   "id": "e142e272",
   "metadata": {
    "slideshow": {
     "slide_type": "slide"
    }
   },
   "outputs": [],
   "source": [
    "v_tr = pd.DataFrame(X, columns=v_num.columns, index=v_num.index)\n"
   ]
  },
  {
   "cell_type": "markdown",
   "id": "0744ecf2",
   "metadata": {
    "slideshow": {
     "slide_type": "slide"
    }
   },
   "source": [
    "## El diseño de SCIKIT-LEARN "
   ]
  },
  {
   "cell_type": "markdown",
   "id": "9aff8d7d",
   "metadata": {
    "slideshow": {
     "slide_type": "slide"
    }
   },
   "source": [
    "Scikit-Learn’s API is remarkably well designed. "
   ]
  },
  {
   "cell_type": "markdown",
   "id": "e4c3af04",
   "metadata": {
    "slideshow": {
     "slide_type": "slide"
    }
   },
   "source": [
    "These are the main design principles:"
   ]
  },
  {
   "cell_type": "markdown",
   "id": "b9d915f9",
   "metadata": {
    "slideshow": {
     "slide_type": "slide"
    }
   },
   "source": [
    "Consistency\n",
    "All objects share a consistent and simple interface:"
   ]
  },
  {
   "cell_type": "markdown",
   "id": "211a3f6a",
   "metadata": {
    "slideshow": {
     "slide_type": "slide"
    }
   },
   "source": [
    "## Estimators  \n",
    "\n",
    "Any object that can estimate some parameters based on a dataset is called an estimator (e.g., an imputer is an estimator). The estimation itself is performed by the fit() method, and it takes only a dataset as a parameter (or two for supervised learning algorithms; the second dataset contains the labels). Any other parameter needed to guide the estimation process is considered a hyperparameter (such as an imputer’s strategy), and it must be set\n",
    "as an instance variable (generally via a constructor parameter)."
   ]
  },
  {
   "cell_type": "markdown",
   "id": "2300d9a7",
   "metadata": {
    "slideshow": {
     "slide_type": "slide"
    }
   },
   "source": [
    "Transformers\n",
    "Some estimators (such as an imputer) can also transform a dataset; these are called transformers. Once again, the API is simple: the transformation is performed by the transform() method with the dataset to transform as a parameter. It returns the transformed\n",
    "dataset. This transformation generally relies on the learned parameters, as is the case for an imputer. All transformers also have\n",
    "a convenience method called fit_transform() that is equivalent to\n",
    "calling fit() and then transform() (but sometimes\n",
    "fit_transform() is optimized and runs much faster)."
   ]
  },
  {
   "cell_type": "markdown",
   "id": "aeed0099",
   "metadata": {
    "slideshow": {
     "slide_type": "slide"
    }
   },
   "source": [
    "## Predictors\n",
    "Finally, some estimators, given a dataset, are capable of making\n",
    "predictions; they are called predictors. For example, the\n",
    "LinearRegression model in the previous chapter was a predictor:\n",
    "given a country’s GDP per capita, it predicted life satisfaction. A\n",
    "predictor has a `predict()` method that takes a dataset of new instances and returns a dataset of corresponding predictions. It also has a score() method that measures the quality of the predictions, given a test set (and the corresponding labels, in the case of\n",
    "supervised learning algorithms)."
   ]
  },
  {
   "cell_type": "markdown",
   "id": "842f79f7",
   "metadata": {
    "slideshow": {
     "slide_type": "slide"
    }
   },
   "source": [
    "Inspection\n",
    "All the estimator’s hyperparameters are accessible directly via public instance variables (e.g., imputer.strategy), and all the estimator’s learned parameters are accessible via public instance variables with an underscore suffix (e.g., imputer.statistics_)."
   ]
  },
  {
   "cell_type": "markdown",
   "id": "6bc81921",
   "metadata": {
    "slideshow": {
     "slide_type": "slide"
    }
   },
   "source": [
    "## Nonproliferation of classes \n",
    "\n",
    "Datasets are represented as NumPy arrays or SciPy sparse matrices,\n",
    "instead of homemade classes. Hyperparameters are just regular Python\n",
    "strings or numbers."
   ]
  },
  {
   "cell_type": "markdown",
   "id": "0fcb51d6",
   "metadata": {
    "slideshow": {
     "slide_type": "slide"
    }
   },
   "source": [
    "## Composition "
   ]
  },
  {
   "cell_type": "markdown",
   "id": "29afdac7",
   "metadata": {
    "slideshow": {
     "slide_type": "slide"
    }
   },
   "source": [
    " \n",
    "Existing building blocks are reused as much as possible. "
   ]
  },
  {
   "cell_type": "markdown",
   "id": "40b95fd6",
   "metadata": {
    "slideshow": {
     "slide_type": "slide"
    }
   },
   "source": [
    "For example, it is easy to create a Pipeline estimator from an arbitrary sequence of\n",
    "transformers followed by a final estimator, as we will see."
   ]
  },
  {
   "cell_type": "markdown",
   "id": "b809e972",
   "metadata": {
    "slideshow": {
     "slide_type": "slide"
    }
   },
   "source": [
    "Sensible defaults Scikit-Learn provides reasonable default values for most parameters,\n",
    "making it easy to quickly create a baseline working system."
   ]
  },
  {
   "cell_type": "markdown",
   "id": "10a49b5e",
   "metadata": {
    "slideshow": {
     "slide_type": "slide"
    }
   },
   "source": [
    "## Handling Text and Categorical Attributes"
   ]
  },
  {
   "cell_type": "markdown",
   "id": "dc70aff7",
   "metadata": {
    "slideshow": {
     "slide_type": "slide"
    }
   },
   "source": [
    "So far we have only dealt with numerical attributes, but now let’s look at text\n",
    "attributes. In this dataset, there is just one: the ocean_proximity attribute.\n",
    "Let’s look at its value for the first 10 instances:"
   ]
  },
  {
   "cell_type": "code",
   "execution_count": null,
   "id": "ff950c7b",
   "metadata": {
    "slideshow": {
     "slide_type": "slide"
    }
   },
   "outputs": [],
   "source": [
    "v_cat = v[['proximidad']]\n",
    "v_cat.head(10)"
   ]
  },
  {
   "cell_type": "markdown",
   "id": "884e5091",
   "metadata": {
    "slideshow": {
     "slide_type": "slide"
    }
   },
   "source": [
    "It’s not arbitrary text: there are a limited number of possible values, each of which represents a category. "
   ]
  },
  {
   "cell_type": "markdown",
   "id": "e6eb3bac",
   "metadata": {
    "slideshow": {
     "slide_type": "slide"
    }
   },
   "source": [
    "So this attribute is a categorical attribute. Most Machine Learning algorithms prefer to work with numbers, so let’s convert these categories from text to numbers. For this, we can use Scikit-Learn’s OrdinalEncoder class:"
   ]
  },
  {
   "cell_type": "code",
   "execution_count": null,
   "id": "be6617a5",
   "metadata": {
    "slideshow": {
     "slide_type": "slide"
    }
   },
   "outputs": [],
   "source": [
    "from sklearn.preprocessing import OrdinalEncoder\n",
    "codificador_ordinario = OrdinalEncoder()\n",
    "v_cat_codificado = codificador_ordinario.fit_transform(v_cat)\n",
    "v_cat_codificado[:10]"
   ]
  },
  {
   "cell_type": "markdown",
   "id": "4638f92b",
   "metadata": {
    "slideshow": {
     "slide_type": "slide"
    }
   },
   "source": [
    "You can get the list of categories using the categories_ instance variable. "
   ]
  },
  {
   "cell_type": "markdown",
   "id": "88395b0d",
   "metadata": {
    "slideshow": {
     "slide_type": "slide"
    }
   },
   "source": [
    "It is a list containing a 1D array of categories for each categorical attribute (in this\n",
    "case, a list containing a single array since there is just one categorical attribute):"
   ]
  },
  {
   "cell_type": "code",
   "execution_count": null,
   "id": "aab974d7",
   "metadata": {
    "slideshow": {
     "slide_type": "slide"
    }
   },
   "outputs": [],
   "source": [
    "codificador_ordinario.categories_"
   ]
  },
  {
   "cell_type": "markdown",
   "id": "97d51b91",
   "metadata": {
    "slideshow": {
     "slide_type": "slide"
    }
   },
   "source": [
    "One issue with this representation is that ML algorithms will assume that two\n",
    "nearby values are more similar than two distant values. "
   ]
  },
  {
   "cell_type": "markdown",
   "id": "e88a2cae",
   "metadata": {
    "slideshow": {
     "slide_type": "slide"
    }
   },
   "source": [
    "This may be fine in some cases (e.g., for ordered categories such as “bad,” “average,” “good,” and “excellent”), but it is obviously not the case for the ocean_proximity column\n",
    "(for example, categories 0 and 4 are clearly more similar than categories 0 and 1). "
   ]
  },
  {
   "cell_type": "markdown",
   "id": "5fe4feb9",
   "metadata": {
    "slideshow": {
     "slide_type": "slide"
    }
   },
   "source": [
    "To fix this issue, a common solution is to create one binary attribute per category: one attribute equal to 1 when the category is “<1H OCEAN” (and 0 otherwise), another attribute equal to 1 when the category is “INLAND” (and 0 otherwise), and so on. "
   ]
  },
  {
   "cell_type": "markdown",
   "id": "289cd9e9",
   "metadata": {
    "slideshow": {
     "slide_type": "slide"
    }
   },
   "source": [
    "This is called one-hot encoding, because only one attribute will be equal to 1 (hot), while the others will be 0 (cold). "
   ]
  },
  {
   "cell_type": "markdown",
   "id": "1e059d54",
   "metadata": {
    "slideshow": {
     "slide_type": "slide"
    }
   },
   "source": [
    "The new attributes are sometimes called dummy attributes. Scikit-Learn provides a OneHotEncoder class to convert categorical values into one-hot vectors:"
   ]
  },
  {
   "cell_type": "code",
   "execution_count": null,
   "id": "34b4d83a",
   "metadata": {
    "slideshow": {
     "slide_type": "slide"
    }
   },
   "outputs": [],
   "source": [
    "from sklearn.preprocessing import OneHotEncoder\n",
    "codificador_1hot = OneHotEncoder()\n",
    "v_cat_1hot = codificador_1hot.fit_transform(v_cat)\n",
    "v_cat_1hot\n"
   ]
  },
  {
   "cell_type": "markdown",
   "id": "3f42b115",
   "metadata": {},
   "source": [
    "Notice that the output is a SciPy sparse matrix, instead of a NumPy array. This\n",
    "is very useful when you have categorical attributes with thousands of\n",
    "categories. After one-hot encoding, we get a matrix with thousands of columns,\n",
    "and the matrix is full of 0s except for a single 1 per row. Using up tons of\n",
    "memory mostly to store zeros would be very wasteful, so instead a sparse\n",
    "matrix only stores the location of the nonzero elements. You can use it mostly\n",
    "like a normal 2D array, but if you really want to convert it to a (dense)\n",
    "NumPy array, just call the toarray() method:"
   ]
  },
  {
   "cell_type": "code",
   "execution_count": null,
   "id": "41e4c467",
   "metadata": {
    "slideshow": {
     "slide_type": "slide"
    }
   },
   "outputs": [],
   "source": [
    "v_cat_1hot.toarray()\n"
   ]
  },
  {
   "cell_type": "markdown",
   "id": "64e440f5",
   "metadata": {
    "slideshow": {
     "slide_type": "slide"
    }
   },
   "source": [
    "Once again, you can get the list of categories using the encoder’s categories_\n",
    "instance variable:\n"
   ]
  },
  {
   "cell_type": "code",
   "execution_count": null,
   "id": "c89e9134",
   "metadata": {
    "slideshow": {
     "slide_type": "slide"
    }
   },
   "outputs": [],
   "source": [
    "codificador_1hot.categories_\n"
   ]
  },
  {
   "cell_type": "markdown",
   "id": "0f242895",
   "metadata": {
    "slideshow": {
     "slide_type": "slide"
    }
   },
   "source": [
    "## Features scaling "
   ]
  },
  {
   "cell_type": "code",
   "execution_count": null,
   "id": "fcca9cef",
   "metadata": {},
   "outputs": [],
   "source": [
    "from sklearn.preprocessing import StandardScaler "
   ]
  },
  {
   "cell_type": "code",
   "execution_count": null,
   "id": "8efe2f21",
   "metadata": {},
   "outputs": [],
   "source": [
    "estandarizador = StandardScaler() "
   ]
  },
  {
   "cell_type": "code",
   "execution_count": null,
   "id": "70525a08",
   "metadata": {},
   "outputs": [],
   "source": [
    "X = estandarizador.fit_transform(v_num)"
   ]
  },
  {
   "cell_type": "code",
   "execution_count": null,
   "id": "a23ac156",
   "metadata": {},
   "outputs": [],
   "source": [
    "v_estandarizado = pd.DataFrame(X, columns = v_num.columns, index = v_num.index) "
   ]
  },
  {
   "cell_type": "code",
   "execution_count": null,
   "id": "614fd2ab",
   "metadata": {},
   "outputs": [],
   "source": [
    "v_estandarizado.describe() "
   ]
  },
  {
   "cell_type": "code",
   "execution_count": null,
   "id": "86c757d2",
   "metadata": {},
   "outputs": [],
   "source": []
  }
 ],
 "metadata": {
  "celltoolbar": "Slideshow",
  "kernelspec": {
   "display_name": "Python 3 (ipykernel)",
   "language": "python",
   "name": "python3"
  },
  "language_info": {
   "codemirror_mode": {
    "name": "ipython",
    "version": 3
   },
   "file_extension": ".py",
   "mimetype": "text/x-python",
   "name": "python",
   "nbconvert_exporter": "python",
   "pygments_lexer": "ipython3",
   "version": "3.9.7"
  },
  "rise": {
   "enable_chalkboard": true,
   "theme": "sky",
   "transition": "zoom"
  }
 },
 "nbformat": 4,
 "nbformat_minor": 5
}
