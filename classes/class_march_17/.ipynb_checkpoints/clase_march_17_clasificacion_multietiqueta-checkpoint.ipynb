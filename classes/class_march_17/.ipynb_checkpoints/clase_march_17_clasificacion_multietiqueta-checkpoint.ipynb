{
 "cells": [
  {
   "cell_type": "markdown",
   "id": "e9535e45",
   "metadata": {
    "slideshow": {
     "slide_type": "slide"
    }
   },
   "source": [
    "<table align=\"left\">\n",
    "  <td>\n",
    "    <a href=\"https://colab.research.google.com/github/marco-canas/machine_learning/blob/main/classes/class_march_17/clase_march_17_clasificacion_multietiqueta.ipynb\" target=\"_parent\"><img src=\"https://colab.research.google.com/assets/colab-badge.svg\" alt=\"Open In Colab\"/></a>\n",
    "  </td>\n",
    "</table> "
   ]
  },
  {
   "cell_type": "markdown",
   "id": "4a7ff316",
   "metadata": {
    "slideshow": {
     "slide_type": "slide"
    }
   },
   "source": [
    "# Clase del 17 de Marzo. Clasificación multietiqueta "
   ]
  },
  {
   "cell_type": "markdown",
   "id": "087c8b9e",
   "metadata": {
    "slideshow": {
     "slide_type": "slide"
    }
   },
   "source": [
    "Página 159 de Aurelien Geron"
   ]
  },
  {
   "cell_type": "markdown",
   "id": "9b453cd8",
   "metadata": {
    "slideshow": {
     "slide_type": "slide"
    }
   },
   "source": [
    "Hasta ahora, cada instancia siempre se ha asignado a una sola clase."
   ]
  },
  {
   "cell_type": "markdown",
   "id": "603965af",
   "metadata": {
    "slideshow": {
     "slide_type": "slide"
    }
   },
   "source": [
    "En algunos casos, es posible que desee que su clasificador genere múltiples clases para cada instancia."
   ]
  },
  {
   "cell_type": "markdown",
   "id": "1dcc08c7",
   "metadata": {
    "slideshow": {
     "slide_type": "slide"
    }
   },
   "source": [
    "Considere un **clasificador de reconocimiento facial**: ¿qué debería hacer si reconoce a varias personas en la misma imagen?"
   ]
  },
  {
   "cell_type": "markdown",
   "id": "f42289aa",
   "metadata": {
    "slideshow": {
     "slide_type": "slide"
    }
   },
   "source": [
    "Debe adjuntar una etiqueta por persona que reconozca."
   ]
  },
  {
   "cell_type": "markdown",
   "id": "5e59e5ed",
   "metadata": {
    "slideshow": {
     "slide_type": "slide"
    }
   },
   "source": [
    "Digamos que el clasificador ha sido entrenado para reconocer tres caras, Alice, Bob y Charlie. "
   ]
  },
  {
   "cell_type": "markdown",
   "id": "d83bd2a6",
   "metadata": {
    "slideshow": {
     "slide_type": "slide"
    }
   },
   "source": [
    "Luego, cuando al clasificador se le muestre una imagen de Alice y Charlie, debería generar [1, 0, 1] (que significa \"Alice sí, Bob no, Charlie sí\")."
   ]
  },
  {
   "cell_type": "markdown",
   "id": "4569b4a6",
   "metadata": {
    "slideshow": {
     "slide_type": "slide"
    }
   },
   "source": [
    "Un sistema de clasificación de este tipo que genera múltiples etiquetas binarias se denomina sistema de **clasificación de múltiples etiquetas**."
   ]
  },
  {
   "cell_type": "markdown",
   "id": "e965bce4",
   "metadata": {
    "slideshow": {
     "slide_type": "slide"
    }
   },
   "source": [
    "Todavía no entraremos en el reconocimiento facial, pero veamos un ejemplo más simple, solo con fines ilustrativos:"
   ]
  },
  {
   "cell_type": "code",
   "execution_count": null,
   "id": "2890f32b",
   "metadata": {
    "slideshow": {
     "slide_type": "slide"
    }
   },
   "outputs": [],
   "source": [
    "from sklearn.datasets import fetch_openml\n",
    "mnist = fetch_openml('mnist_784', version=1, as_frame=False)\n",
    "mnist.keys()"
   ]
  },
  {
   "cell_type": "code",
   "execution_count": null,
   "id": "e680fe44",
   "metadata": {
    "slideshow": {
     "slide_type": "slide"
    }
   },
   "outputs": [],
   "source": [
    "X, y = mnist[\"data\"], mnist[\"target\"]\n",
    "X.shape"
   ]
  },
  {
   "cell_type": "code",
   "execution_count": null,
   "id": "6ee04796",
   "metadata": {
    "slideshow": {
     "slide_type": "slide"
    }
   },
   "outputs": [],
   "source": [
    "import numpy as np \n",
    "y = y.astype(np.int64) "
   ]
  },
  {
   "cell_type": "code",
   "execution_count": null,
   "id": "59e58022",
   "metadata": {
    "slideshow": {
     "slide_type": "slide"
    }
   },
   "outputs": [],
   "source": [
    "X_train, X_test, y_train, y_test = X[:60000], X[60000:], y[:60000], y[60000:]"
   ]
  },
  {
   "cell_type": "code",
   "execution_count": null,
   "id": "5d332abb",
   "metadata": {
    "slideshow": {
     "slide_type": "slide"
    }
   },
   "outputs": [],
   "source": [
    "%%time \n",
    "\n",
    "from sklearn.neighbors import KNeighborsClassifier\n",
    "y_train_large = (y_train >= 7)\n",
    "y_train_odd = (y_train % 2 == 1)\n",
    "y_multilabel = np.c_[y_train_large, y_train_odd]\n",
    "knn_clf = KNeighborsClassifier()\n",
    "knn_clf.fit(X_train, y_multilabel)"
   ]
  },
  {
   "cell_type": "markdown",
   "id": "c2ae3ac2",
   "metadata": {
    "slideshow": {
     "slide_type": "slide"
    }
   },
   "source": [
    "Este código crea una matriz `y_multilabel` que contiene dos etiquetas objetivo para cada imagen de dígito: la primera indica si el dígito es grande o no (7, 8 o 9) y la segunda indica si es impar o no."
   ]
  },
  {
   "cell_type": "markdown",
   "id": "30bb634d",
   "metadata": {
    "slideshow": {
     "slide_type": "slide"
    }
   },
   "source": [
    "Las siguientes líneas crean una instancia `KNeighborsClassifier` (que admite clasificación multietiqueta, aunque no todos los clasificadores lo hacen), y la entrenamos usando la matriz de objetivos múltiples."
   ]
  },
  {
   "cell_type": "markdown",
   "id": "50235292",
   "metadata": {
    "slideshow": {
     "slide_type": "slide"
    }
   },
   "source": [
    "Ahora puede hacer una predicción y notar que genera dos etiquetas:"
   ]
  },
  {
   "cell_type": "code",
   "execution_count": null,
   "id": "cd6e0c58",
   "metadata": {
    "slideshow": {
     "slide_type": "slide"
    }
   },
   "outputs": [],
   "source": [
    "knn_clf.predict([X[0]]) "
   ]
  },
  {
   "cell_type": "markdown",
   "id": "99acefa9",
   "metadata": {
    "slideshow": {
     "slide_type": "slide"
    }
   },
   "source": [
    "¡Y lo hace bien! De hecho, el dígito 5 no es grande (Falso) e impar (Verdadero)."
   ]
  },
  {
   "cell_type": "markdown",
   "id": "36beb51e",
   "metadata": {
    "slideshow": {
     "slide_type": "slide"
    }
   },
   "source": [
    "# Evaluación de un clasificador multietiqueta "
   ]
  },
  {
   "cell_type": "markdown",
   "id": "fa43fa45",
   "metadata": {
    "slideshow": {
     "slide_type": "slide"
    }
   },
   "source": [
    "Hay muchas formas de evaluar un clasificador multietiqueta, y seleccionar la métrica correcta realmente depende de su proyecto."
   ]
  },
  {
   "cell_type": "markdown",
   "id": "5a4006d3",
   "metadata": {
    "slideshow": {
     "slide_type": "slide"
    }
   },
   "source": [
    "Un enfoque es medir la puntuación $F_{1}$ para cada etiqueta individual (o cualquier otra métrica de clasificador binario discutida anteriormente), luego simplemente calcular la puntuación promedio."
   ]
  },
  {
   "cell_type": "markdown",
   "id": "2fa8fb9c",
   "metadata": {
    "slideshow": {
     "slide_type": "slide"
    }
   },
   "source": [
    "Este código calcula la puntuación media $F_{1}$ en todas las etiquetas:"
   ]
  },
  {
   "cell_type": "code",
   "execution_count": null,
   "id": "3a530961",
   "metadata": {
    "slideshow": {
     "slide_type": "slide"
    }
   },
   "outputs": [],
   "source": [
    "from sklearn.model_selection import cross_val_predict "
   ]
  },
  {
   "cell_type": "code",
   "execution_count": null,
   "id": "acc17632",
   "metadata": {
    "slideshow": {
     "slide_type": "slide"
    }
   },
   "outputs": [],
   "source": [
    "from sklearn.metrics import f1_score "
   ]
  },
  {
   "cell_type": "code",
   "execution_count": null,
   "id": "6af30c8c",
   "metadata": {
    "slideshow": {
     "slide_type": "slide"
    }
   },
   "outputs": [],
   "source": [
    "%%time \n",
    "\n",
    "y_train_knn_pred = cross_val_predict(knn_clf, X_train, y_multilabel, cv=3)"
   ]
  },
  {
   "cell_type": "code",
   "execution_count": null,
   "id": "7e2ae0f2",
   "metadata": {
    "slideshow": {
     "slide_type": "slide"
    }
   },
   "outputs": [],
   "source": [
    "%%time \n",
    "\n",
    "f1_score(y_multilabel, y_train_knn_pred, average=\"macro\")"
   ]
  },
  {
   "cell_type": "markdown",
   "id": "163758fe",
   "metadata": {
    "slideshow": {
     "slide_type": "slide"
    }
   },
   "source": [
    "Sin embargo, esto supone que todas las etiquetas son igualmente importantes, lo que puede no ser el caso."
   ]
  },
  {
   "cell_type": "markdown",
   "id": "0a56d263",
   "metadata": {
    "slideshow": {
     "slide_type": "slide"
    }
   },
   "source": [
    "En particular, si tiene muchas más imágenes de Alicia que de Bob o Charlie, es posible que desee dar más peso a la puntuación del clasificador en las imágenes de Alicia."
   ]
  },
  {
   "cell_type": "markdown",
   "id": "bb43910b",
   "metadata": {
    "slideshow": {
     "slide_type": "slide"
    }
   },
   "source": [
    "Una opción simple es darle a cada etiqueta un peso igual a su soporte (es decir, el número de instancias con esa etiqueta de destino)."
   ]
  },
  {
   "cell_type": "markdown",
   "id": "27efa60b",
   "metadata": {
    "slideshow": {
     "slide_type": "slide"
    }
   },
   "source": [
    "Para hacer esto, simplemente establezca `average=\"weighted\"` en el código anterior."
   ]
  },
  {
   "cell_type": "code",
   "execution_count": null,
   "id": "14543b58",
   "metadata": {},
   "outputs": [],
   "source": [
    "%%time \n",
    "\n",
    "f1_score(y_multilabel, y_train_knn_pred, average=\"weighted\")"
   ]
  },
  {
   "cell_type": "markdown",
   "id": "19c2678a",
   "metadata": {
    "slideshow": {
     "slide_type": "slide"
    }
   },
   "source": [
    "## Multioutput Classification"
   ]
  },
  {
   "cell_type": "markdown",
   "id": "6caaab27",
   "metadata": {
    "slideshow": {
     "slide_type": "slide"
    }
   },
   "source": [
    "El último tipo de tarea de clasificación que vamos a discutir aquí se llama clasificación multisalida-multiclase (o simplemente clasificación multisalida)."
   ]
  },
  {
   "cell_type": "markdown",
   "id": "36f8226e",
   "metadata": {
    "slideshow": {
     "slide_type": "slide"
    }
   },
   "source": [
    "Es simplemente una generalización de la clasificación multietiqueta donde cada etiqueta puede ser multiclase (es decir, puede tener más de dos valores posibles)."
   ]
  },
  {
   "cell_type": "markdown",
   "id": "e2cd103b",
   "metadata": {
    "slideshow": {
     "slide_type": "slide"
    }
   },
   "source": [
    "Para ilustrar esto, construyamos un **sistema que elimine el ruido de las imágenes**."
   ]
  },
  {
   "cell_type": "markdown",
   "id": "1957d77d",
   "metadata": {
    "slideshow": {
     "slide_type": "slide"
    }
   },
   "source": [
    "Tomará como entrada una imagen de dígito ruidosa y (con suerte) generará una imagen de dígito limpia, representada como **una matriz de intensidades de píxeles**, al igual que las imágenes MNIST."
   ]
  },
  {
   "cell_type": "markdown",
   "id": "a42da860",
   "metadata": {
    "slideshow": {
     "slide_type": "slide"
    }
   },
   "source": [
    "Tenga en cuenta que la salida del clasificador es multietiqueta (una etiqueta por píxel) y cada etiqueta puede tener múltiples valores (la intensidad de píxel varía de 0 a 255)."
   ]
  },
  {
   "cell_type": "markdown",
   "id": "71f1e442",
   "metadata": {
    "slideshow": {
     "slide_type": "slide"
    }
   },
   "source": [
    "Por lo tanto, es un ejemplo de un sistema de clasificación de múltiples salidas."
   ]
  },
  {
   "cell_type": "markdown",
   "id": "85cdde28",
   "metadata": {
    "slideshow": {
     "slide_type": "slide"
    }
   },
   "source": [
    "## NOTE"
   ]
  },
  {
   "cell_type": "markdown",
   "id": "58717d3d",
   "metadata": {
    "slideshow": {
     "slide_type": "slide"
    }
   },
   "source": [
    "La línea entre clasificación y regresión a veces es borrosa, como en este ejemplo."
   ]
  },
  {
   "cell_type": "markdown",
   "id": "35bf52c1",
   "metadata": {
    "slideshow": {
     "slide_type": "slide"
    }
   },
   "source": [
    "Podría decirse que predecir la intensidad de los píxeles es más parecido a una regresión que a una clasificación."
   ]
  },
  {
   "cell_type": "markdown",
   "id": "0ee45846",
   "metadata": {
    "slideshow": {
     "slide_type": "slide"
    }
   },
   "source": [
    "* los sistemas multisalida no se limitan a tareas de clasificación;   \n",
    "\n",
    "* incluso podría tener un sistema que genere varias etiquetas por instancia, \n",
    "* incluidas las etiquetas de clase y las etiquetas de valor."
   ]
  },
  {
   "cell_type": "markdown",
   "id": "083e7840",
   "metadata": {
    "slideshow": {
     "slide_type": "slide"
    }
   },
   "source": [
    "Comencemos por crear los conjuntos de entrenamiento y prueba tomando las imágenes MNIST y agregando ruido a sus intensidades de píxeles con la función `randint()` de NumPy."
   ]
  },
  {
   "cell_type": "markdown",
   "id": "dea1fe49",
   "metadata": {
    "slideshow": {
     "slide_type": "slide"
    }
   },
   "source": [
    "Las imágenes de destino serán las imágenes originales:"
   ]
  },
  {
   "cell_type": "code",
   "execution_count": null,
   "id": "8df94be1",
   "metadata": {
    "slideshow": {
     "slide_type": "slide"
    }
   },
   "outputs": [],
   "source": [
    "noise = np.random.randint(0, 150, (len(X_train), 784))\n",
    "X_train_mod = X_train + noise\n",
    "noise = np.random.randint(0, 150, (len(X_test), 784))\n",
    "X_test_mod = X_test + noise\n",
    "y_train_mod = X_train\n",
    "y_test_mod = X_test"
   ]
  },
  {
   "cell_type": "code",
   "execution_count": null,
   "id": "84a54f97",
   "metadata": {
    "slideshow": {
     "slide_type": "slide"
    }
   },
   "outputs": [],
   "source": [
    "%%time\n",
    "\n",
    "knn_clf.fit(X_train_mod, y_train_mod)"
   ]
  },
  {
   "cell_type": "markdown",
   "id": "d49da781",
   "metadata": {
    "slideshow": {
     "slide_type": "slide"
    }
   },
   "source": [
    "# Comparación de imagenes"
   ]
  },
  {
   "cell_type": "markdown",
   "id": "d731a999",
   "metadata": {
    "slideshow": {
     "slide_type": "slide"
    }
   },
   "source": [
    "Echemos un vistazo a una imagen del conjunto de prueba (sí, estamos husmeando en los datos de prueba, por lo que debería estar frunciendo el ceño en este momento):"
   ]
  },
  {
   "cell_type": "code",
   "execution_count": null,
   "id": "a6353a2b",
   "metadata": {
    "slideshow": {
     "slide_type": "slide"
    }
   },
   "outputs": [],
   "source": [
    "import matplotlib as mpl\n",
    "import matplotlib.pyplot as plt \n",
    "\n",
    "def plot_digit(data):\n",
    "    image = data.reshape(28, 28)\n",
    "    plt.imshow(image, cmap = mpl.cm.binary,\n",
    "               interpolation=\"nearest\")\n",
    "    plt.axis(\"off\")"
   ]
  },
  {
   "cell_type": "code",
   "execution_count": null,
   "id": "7311feba",
   "metadata": {
    "slideshow": {
     "slide_type": "slide"
    }
   },
   "outputs": [],
   "source": [
    "fig, ax = plt.subplots(1,2, figsize = (8,4))\n",
    "\n",
    "ax[0].imshow(X_test_mod[4].reshape(28,28), cmap = 'binary')\n",
    "ax[1].imshow(X_test[4].reshape(28,28), cmap = 'binary')\n",
    "\n"
   ]
  },
  {
   "cell_type": "markdown",
   "id": "17a287cc",
   "metadata": {
    "slideshow": {
     "slide_type": "slide"
    }
   },
   "source": [
    "A la izquierda está la imagen de entrada ruidosa y a la derecha está la imagen de destino limpia."
   ]
  },
  {
   "cell_type": "markdown",
   "id": "fd6b9227",
   "metadata": {
    "slideshow": {
     "slide_type": "slide"
    }
   },
   "source": [
    "Ahora entrenemos el clasificador y hagamos que limpie esta imagen:"
   ]
  },
  {
   "cell_type": "code",
   "execution_count": null,
   "id": "bb8ff0b6",
   "metadata": {
    "slideshow": {
     "slide_type": "slide"
    }
   },
   "outputs": [],
   "source": [
    "clean_digit = knn_clf.predict([X_test_mod[4]])\n",
    "plot_digit(clean_digit)"
   ]
  },
  {
   "cell_type": "markdown",
   "id": "c83cd4e8",
   "metadata": {
    "slideshow": {
     "slide_type": "slide"
    }
   },
   "source": [
    "¡Parece lo suficientemente cerca del objetivo! "
   ]
  },
  {
   "cell_type": "markdown",
   "id": "ffbdabf3",
   "metadata": {
    "slideshow": {
     "slide_type": "slide"
    }
   },
   "source": [
    "Con esto concluye nuestro recorrido de clasificación."
   ]
  },
  {
   "cell_type": "markdown",
   "id": "adf1bbe0",
   "metadata": {
    "slideshow": {
     "slide_type": "slide"
    }
   },
   "source": [
    "Ahora debe saber:  \n",
    "\n",
    "* cómo seleccionar buenas métricas para las tareas de clasificación, \n",
    "* elegir la compensación adecuada de precisión/recuperación, \n",
    "* comparar clasificadores y, en general, crear buenos sistemas de clasificación para una variedad de tareas."
   ]
  },
  {
   "cell_type": "code",
   "execution_count": null,
   "id": "a3a56ebe",
   "metadata": {
    "slideshow": {
     "slide_type": "slide"
    }
   },
   "outputs": [],
   "source": []
  },
  {
   "cell_type": "markdown",
   "id": "46c7fb59",
   "metadata": {
    "slideshow": {
     "slide_type": "slide"
    }
   },
   "source": [
    "## Referencias  \n",
    "\n",
    "* Cuaderno sobre Clasificación de Geron: https://github.com/ageron/handson-ml2/blob/master/03_classification.ipynb"
   ]
  },
  {
   "cell_type": "code",
   "execution_count": null,
   "id": "00ae7d14",
   "metadata": {
    "slideshow": {
     "slide_type": "slide"
    }
   },
   "outputs": [],
   "source": []
  }
 ],
 "metadata": {
  "celltoolbar": "Slideshow",
  "kernelspec": {
   "display_name": "Python 3 (ipykernel)",
   "language": "python",
   "name": "python3"
  },
  "language_info": {
   "codemirror_mode": {
    "name": "ipython",
    "version": 3
   },
   "file_extension": ".py",
   "mimetype": "text/x-python",
   "name": "python",
   "nbconvert_exporter": "python",
   "pygments_lexer": "ipython3",
   "version": "3.9.7"
  },
  "rise": {
   "enable_chalkboard": true,
   "theme": "sky",
   "transition": "zoom"
  }
 },
 "nbformat": 4,
 "nbformat_minor": 5
}
