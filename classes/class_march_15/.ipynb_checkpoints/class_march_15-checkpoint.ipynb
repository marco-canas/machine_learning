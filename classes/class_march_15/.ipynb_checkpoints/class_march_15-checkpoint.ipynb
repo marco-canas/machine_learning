{
 "cells": [
  {
   "cell_type": "markdown",
   "id": "a72960a9",
   "metadata": {
    "slideshow": {
     "slide_type": "slide"
    }
   },
   "source": [
    "<table align=\"left\">\n",
    "  <td>\n",
    "    <a href=\"https://colab.research.google.com/github/marco-canas/machine_learning/blob/main/classes/class_march_15/class_march_15.ipynb\" target=\"_parent\"><img src=\"https://colab.research.google.com/assets/colab-badge.svg\" alt=\"Open In Colab\"/></a>\n",
    "  </td>\n",
    "</table>"
   ]
  },
  {
   "cell_type": "markdown",
   "id": "f91bc5e4",
   "metadata": {
    "slideshow": {
     "slide_type": "slide"
    }
   },
   "source": [
    "# [Medidas de desempeño para un clasificador](https://www.knowledgeisle.com/wp-content/uploads/2019/12/2-Aur%C3%A9lien-G%C3%A9ron-Hands-On-Machine-Learning-with-Scikit-Learn-Keras-and-Tensorflow_-Concepts-Tools-and-Techniques-to-Build-Intelligent-Systems-O%E2%80%99Reilly-Media-2019.pdf) "
   ]
  },
  {
   "cell_type": "markdown",
   "id": "bf50b6ca",
   "metadata": {
    "slideshow": {
     "slide_type": "slide"
    }
   },
   "source": [
    "## Medición de la exactitud mediante validación cruzada"
   ]
  },
  {
   "cell_type": "markdown",
   "id": "dcbb1fe4",
   "metadata": {
    "slideshow": {
     "slide_type": "slide"
    }
   },
   "source": [
    "Evaluating a classifier is often significantly trickier than evaluating a regressor, so we\n",
    "will spend a large part of this chapter on this topic. "
   ]
  },
  {
   "cell_type": "markdown",
   "id": "171ce3f4",
   "metadata": {
    "slideshow": {
     "slide_type": "slide"
    }
   },
   "source": [
    "Hay muchas medidas de desempeño disponibles, ¡así que tome otro café y prepárese para aprender muchos conceptos y acrónimos nuevos!"
   ]
  },
  {
   "cell_type": "markdown",
   "id": "c33f695f",
   "metadata": {
    "slideshow": {
     "slide_type": "slide"
    }
   },
   "source": [
    "## Medición de la precisión mediante validación cruzada"
   ]
  },
  {
   "cell_type": "markdown",
   "id": "ff4cd30c",
   "metadata": {
    "slideshow": {
     "slide_type": "slide"
    }
   },
   "source": [
    "Una buena manera de evaluar un modelo es usar la validación cruzada, tal como lo hizo en el Capítulo 2."
   ]
  },
  {
   "cell_type": "markdown",
   "id": "63cdfb71",
   "metadata": {
    "slideshow": {
     "slide_type": "slide"
    }
   },
   "source": [
    "## Implementación de validación cruzada"
   ]
  },
  {
   "cell_type": "markdown",
   "id": "a772cc2a",
   "metadata": {
    "slideshow": {
     "slide_type": "slide"
    }
   },
   "source": [
    "Ocasionalmente, necesitará más control sobre el proceso de validación cruzada que el que Scikit-Learn proporciona de manera estándar."
   ]
  },
  {
   "cell_type": "markdown",
   "id": "0244886f",
   "metadata": {
    "slideshow": {
     "slide_type": "slide"
    }
   },
   "source": [
    "En estos casos, puede implementar la validación cruzada usted mismo; en realidad es bastante sencillo."
   ]
  },
  {
   "cell_type": "markdown",
   "id": "5b740ab1",
   "metadata": {
    "slideshow": {
     "slide_type": "slide"
    }
   },
   "source": [
    "El siguiente código hace más o menos lo mismo que la función `cross_val_score()` de Scikit-Learn e imprime el mismo resultado:"
   ]
  },
  {
   "cell_type": "code",
   "execution_count": null,
   "id": "45182db4",
   "metadata": {
    "slideshow": {
     "slide_type": "slide"
    }
   },
   "outputs": [],
   "source": [
    "import numpy as np \n",
    "from sklearn.datasets import fetch_openml "
   ]
  },
  {
   "cell_type": "code",
   "execution_count": null,
   "id": "813c36ac",
   "metadata": {
    "slideshow": {
     "slide_type": "slide"
    }
   },
   "outputs": [],
   "source": [
    "mnist = fetch_openml('mnist_784', version = 1) "
   ]
  },
  {
   "cell_type": "code",
   "execution_count": null,
   "id": "86e9142c",
   "metadata": {
    "slideshow": {
     "slide_type": "slide"
    }
   },
   "outputs": [],
   "source": [
    "X,y = mnist['data'], mnist['target'] "
   ]
  },
  {
   "cell_type": "markdown",
   "id": "179e659a",
   "metadata": {
    "slideshow": {
     "slide_type": "slide"
    }
   },
   "source": [
    "# Convertir a arreglos de numpy de valores enteros"
   ]
  },
  {
   "cell_type": "code",
   "execution_count": null,
   "id": "d3f2c53f",
   "metadata": {
    "slideshow": {
     "slide_type": "slide"
    }
   },
   "outputs": [],
   "source": [
    "X = X.values\n",
    "y = y.values.astype(np.int64) "
   ]
  },
  {
   "cell_type": "code",
   "execution_count": null,
   "id": "d8f334e3",
   "metadata": {
    "slideshow": {
     "slide_type": "slide"
    }
   },
   "outputs": [],
   "source": [
    "y[0]"
   ]
  },
  {
   "cell_type": "code",
   "execution_count": null,
   "id": "6436f1e1",
   "metadata": {
    "slideshow": {
     "slide_type": "slide"
    }
   },
   "outputs": [],
   "source": [
    "from sklearn.model_selection import StratifiedKFold\n",
    "from sklearn.base import clone\n",
    "    skfolds = StratifiedKFold(n_splits=3, random_state=42)\n",
    "    for train_index, test_index in skfolds.split(X_train, y_train_5):\n",
    "    clone_clf = clone(sgd_clf)\n",
    "    X_train_folds = X_train[train_index]\n",
    "    y_train_folds = y_train_5[train_index]\n",
    "    X_test_fold = X_train[test_index]\n",
    "    y_test_fold = y_train_5[test_index]\n",
    "    clone_clf.fit(X_train_folds, y_train_folds)\n",
    "    y_pred = clone_clf.predict(X_test_fold)\n",
    "    n_correct = sum(y_pred == y_test_fold)\n",
    "    print(n_correct / len(y_pred)) # prints 0.9502, 0.96565 and 0.9649"
   ]
  },
  {
   "cell_type": "markdown",
   "id": "c86a32ed",
   "metadata": {
    "slideshow": {
     "slide_type": "slide"
    }
   },
   "source": [
    "The StratifiedKFold class performs stratified sampling (as explained in Chapter 2) to produce folds that contain a representative ratio of each class. "
   ]
  },
  {
   "cell_type": "markdown",
   "id": "85e139e6",
   "metadata": {
    "slideshow": {
     "slide_type": "slide"
    }
   },
   "source": [
    "At each iteration the code creates a clone of the classifier, trains that clone on the training folds, and makes predictions on the test fold."
   ]
  },
  {
   "cell_type": "markdown",
   "id": "dd11e4cc",
   "metadata": {
    "slideshow": {
     "slide_type": "slide"
    }
   },
   "source": [
    "Then it counts the number of correct predictions and outputs the ratio of correct predictions."
   ]
  },
  {
   "cell_type": "markdown",
   "id": "59c07c1a",
   "metadata": {
    "slideshow": {
     "slide_type": "slide"
    }
   },
   "source": [
    "Let’s use the cross_val_score() function to evaluate our SGDClassifier model, using K-fold cross-validation with three folds. "
   ]
  },
  {
   "cell_type": "markdown",
   "id": "d84e8c7a",
   "metadata": {
    "slideshow": {
     "slide_type": "slide"
    }
   },
   "source": [
    "Remember that K-fold cross-validation means splitting the training set into K folds (in this\n",
    "case, three), then making predictions and evaluating them on each fold using a model trained on the remaining folds (see Chapter 2):"
   ]
  },
  {
   "cell_type": "code",
   "execution_count": null,
   "id": "7dab4704",
   "metadata": {
    "slideshow": {
     "slide_type": "slide"
    }
   },
   "outputs": [],
   "source": [
    "from sklearn.model_selection import cross_val_score\n",
    "cross_val_score(sgd_clf, X_train, y_train_5, cv=3, scoring=\"accuracy\")\n"
   ]
  },
  {
   "cell_type": "markdown",
   "id": "117e379f",
   "metadata": {
    "slideshow": {
     "slide_type": "slide"
    }
   },
   "source": [
    "Wow! Above 93% accuracy (ratio of correct predictions) on all cross-validation folds? This looks amazing, doesn’t it? Well, before you get too excited, let’s look at a very dumb classifier that just classifies every single image in the “not-5” class:\n"
   ]
  },
  {
   "cell_type": "code",
   "execution_count": null,
   "id": "dba53949",
   "metadata": {
    "slideshow": {
     "slide_type": "slide"
    }
   },
   "outputs": [],
   "source": []
  },
  {
   "cell_type": "code",
   "execution_count": null,
   "id": "48313a6f",
   "metadata": {
    "slideshow": {
     "slide_type": "slide"
    }
   },
   "outputs": [],
   "source": []
  },
  {
   "cell_type": "code",
   "execution_count": null,
   "id": "b9d8d83d",
   "metadata": {},
   "outputs": [],
   "source": []
  },
  {
   "cell_type": "code",
   "execution_count": null,
   "id": "4ab4132b",
   "metadata": {},
   "outputs": [],
   "source": []
  },
  {
   "cell_type": "code",
   "execution_count": null,
   "id": "c761469d",
   "metadata": {},
   "outputs": [],
   "source": []
  },
  {
   "cell_type": "code",
   "execution_count": null,
   "id": "37965e86",
   "metadata": {},
   "outputs": [],
   "source": []
  },
  {
   "cell_type": "code",
   "execution_count": null,
   "id": "84f5b74c",
   "metadata": {},
   "outputs": [],
   "source": []
  },
  {
   "cell_type": "code",
   "execution_count": null,
   "id": "44cfa353",
   "metadata": {},
   "outputs": [],
   "source": []
  },
  {
   "cell_type": "code",
   "execution_count": null,
   "id": "26ac6dda",
   "metadata": {},
   "outputs": [],
   "source": []
  },
  {
   "cell_type": "code",
   "execution_count": null,
   "id": "94df836d",
   "metadata": {
    "slideshow": {
     "slide_type": "slide"
    }
   },
   "outputs": [],
   "source": []
  },
  {
   "cell_type": "markdown",
   "id": "e4bb978d",
   "metadata": {
    "slideshow": {
     "slide_type": "slide"
    }
   },
   "source": [
    "# Clasificación multiclase"
   ]
  },
  {
   "cell_type": "markdown",
   "id": "a6c78f6f",
   "metadata": {
    "slideshow": {
     "slide_type": "slide"
    }
   },
   "source": [
    "Mientras que los clasificadores binarios distinguen entre dos clases, los clasificadores multiclase (también llamados clasificadores multinomiales) pueden distinguir entre más de dos clases."
   ]
  },
  {
   "cell_type": "markdown",
   "id": "9a775ca7",
   "metadata": {
    "slideshow": {
     "slide_type": "slide"
    }
   },
   "source": [
    "Algunos algoritmos (como los clasificadores SGD, los clasificadores Random Forest y los clasificadores Naive Bayes) son capaces de manejar varias clases de forma nativa."
   ]
  },
  {
   "cell_type": "markdown",
   "id": "1f670bad",
   "metadata": {
    "slideshow": {
     "slide_type": "slide"
    }
   },
   "source": [
    "Otros (como los clasificadores de regresión logística o de máquina de soporte vectorial) son clasificadores estrictamente binarios."
   ]
  },
  {
   "cell_type": "markdown",
   "id": "87a6ba8f",
   "metadata": {
    "slideshow": {
     "slide_type": "slide"
    }
   },
   "source": [
    "Sin embargo, existen varias estrategias que puede utilizar para realizar una clasificación multiclase con varios clasificadores binarios."
   ]
  },
  {
   "cell_type": "markdown",
   "id": "1e117a2d",
   "metadata": {
    "slideshow": {
     "slide_type": "slide"
    }
   },
   "source": [
    "Una forma de crear un sistema que pueda clasificar las imágenes de dígitos en 10 clases (del 0 al 9) es entrenar 10 clasificadores binarios, uno para cada dígito (un detector 0, un detector 1, un detector 2, etc.))."
   ]
  },
  {
   "cell_type": "markdown",
   "id": "0ac18a71",
   "metadata": {
    "slideshow": {
     "slide_type": "slide"
    }
   },
   "source": [
    "Luego, cuando desea clasificar una imagen, obtiene el puntaje de decisión de cada clasificador para esa imagen y selecciona la clase cuyo clasificador genera el puntaje más alto."
   ]
  },
  {
   "cell_type": "markdown",
   "id": "76f1c219",
   "metadata": {
    "slideshow": {
     "slide_type": "slide"
    }
   },
   "source": [
    "Esto se denomina estrategia uno contra el resto (OvR) (también llamada uno contra todos)."
   ]
  },
  {
   "cell_type": "markdown",
   "id": "1b502587",
   "metadata": {
    "slideshow": {
     "slide_type": "slide"
    }
   },
   "source": [
    "Otra estrategia es entrenar un clasificador binario para cada par de dígitos: uno para distinguir 0s y 1s, otro para distinguir 0s y 2s, otro para 1s y 2s, y así sucesivamente."
   ]
  },
  {
   "cell_type": "markdown",
   "id": "60c73fa8",
   "metadata": {
    "slideshow": {
     "slide_type": "slide"
    }
   },
   "source": [
    "Esto se llama la estrategia uno contra uno (OvO)."
   ]
  },
  {
   "cell_type": "markdown",
   "id": "c198e943",
   "metadata": {
    "slideshow": {
     "slide_type": "slide"
    }
   },
   "source": [
    "Si hay N clases, necesita entrenar N × (N – 1) / 2 clasificadores."
   ]
  },
  {
   "cell_type": "markdown",
   "id": "98514678",
   "metadata": {
    "slideshow": {
     "slide_type": "slide"
    }
   },
   "source": [
    "Para el problema MNIST, ¡esto significa entrenar 45 clasificadores binarios!"
   ]
  },
  {
   "cell_type": "markdown",
   "id": "130d6221",
   "metadata": {
    "slideshow": {
     "slide_type": "slide"
    }
   },
   "source": [
    "Cuando desee clasificar una imagen, debe ejecutar la imagen a través de los 45 clasificadores y ver qué clase gana la mayor cantidad de duelos."
   ]
  },
  {
   "cell_type": "markdown",
   "id": "69f27a70",
   "metadata": {
    "slideshow": {
     "slide_type": "slide"
    }
   },
   "source": [
    "La principal ventaja de OvO es que cada clasificador solo necesita ser entrenado en la parte del conjunto de entrenamiento para las dos clases que debe distinguir."
   ]
  },
  {
   "cell_type": "markdown",
   "id": "931adc2d",
   "metadata": {
    "slideshow": {
     "slide_type": "slide"
    }
   },
   "source": [
    "Algunos algoritmos (como los clasificadores de máquinas de soporte vectorial) escalan mal con el tamaño del conjunto de entrenamiento."
   ]
  },
  {
   "cell_type": "markdown",
   "id": "379258c7",
   "metadata": {
    "slideshow": {
     "slide_type": "slide"
    }
   },
   "source": [
    "Para estos algoritmos, se prefiere OvO porque es más rápido entrenar muchos clasificadores en pequeños conjuntos de entrenamiento que entrenar pocos clasificadores en grandes conjuntos de entrenamiento."
   ]
  },
  {
   "cell_type": "markdown",
   "id": "143c840c",
   "metadata": {
    "slideshow": {
     "slide_type": "slide"
    }
   },
   "source": [
    "Sin embargo, para la mayoría de los algoritmos de clasificación binaria, se prefiere OvR."
   ]
  },
  {
   "cell_type": "markdown",
   "id": "6610d826",
   "metadata": {
    "slideshow": {
     "slide_type": "slide"
    }
   },
   "source": [
    "Scikit-Learn detecta cuando intenta utilizar un algoritmo de clasificación binaria para una tarea de clasificación multiclase y automáticamente ejecuta OvR u OvO, según el algoritmo."
   ]
  },
  {
   "cell_type": "markdown",
   "id": "d849f731",
   "metadata": {
    "slideshow": {
     "slide_type": "slide"
    }
   },
   "source": [
    "Intentemos esto con un clasificador de máquina de soporte vectorial, usando la clase `sklearn.svm.SVC`:"
   ]
  },
  {
   "cell_type": "code",
   "execution_count": 1,
   "id": "0aa0ae46",
   "metadata": {
    "slideshow": {
     "slide_type": "slide"
    }
   },
   "outputs": [],
   "source": [
    "from sklearn.datasets import fetch_openml \n",
    "\n",
    "mnist = fetch_openml('mnist_784', version = 1) "
   ]
  },
  {
   "cell_type": "code",
   "execution_count": 2,
   "id": "50660eae",
   "metadata": {
    "slideshow": {
     "slide_type": "slide"
    }
   },
   "outputs": [],
   "source": [
    "X,y = mnist['data'], mnist['target'] "
   ]
  },
  {
   "cell_type": "code",
   "execution_count": 3,
   "id": "464bcb77",
   "metadata": {
    "slideshow": {
     "slide_type": "slide"
    }
   },
   "outputs": [],
   "source": [
    "import numpy as np \n",
    "\n",
    "X = X.values\n",
    "y = y.values.ravel().astype(np.int64) "
   ]
  },
  {
   "cell_type": "code",
   "execution_count": 4,
   "id": "7573ab84",
   "metadata": {
    "slideshow": {
     "slide_type": "slide"
    }
   },
   "outputs": [],
   "source": [
    "X_train, X_test, y_train, y_test = X[:60_000,:], X[60_000:,:], y[:60_000], y[60_000:] "
   ]
  },
  {
   "cell_type": "code",
   "execution_count": 5,
   "id": "e507eb70",
   "metadata": {
    "slideshow": {
     "slide_type": "slide"
    }
   },
   "outputs": [
    {
     "data": {
      "text/plain": [
       "SVC()"
      ]
     },
     "execution_count": 5,
     "metadata": {},
     "output_type": "execute_result"
    }
   ],
   "source": [
    "from sklearn.svm import SVC\n",
    "svm_clf = SVC()\n",
    "svm_clf.fit(X_train, y_train) # y_train, not y_train_5"
   ]
  },
  {
   "cell_type": "code",
   "execution_count": 6,
   "id": "c7ac7bd9",
   "metadata": {
    "slideshow": {
     "slide_type": "slide"
    }
   },
   "outputs": [
    {
     "data": {
      "text/plain": [
       "array([5, 0, 4, 1, 9], dtype=int64)"
      ]
     },
     "execution_count": 6,
     "metadata": {},
     "output_type": "execute_result"
    }
   ],
   "source": [
    "svm_clf.predict(X[:5,:])"
   ]
  },
  {
   "cell_type": "code",
   "execution_count": 7,
   "id": "f154f1bd",
   "metadata": {
    "slideshow": {
     "slide_type": "slide"
    }
   },
   "outputs": [
    {
     "data": {
      "image/png": "[encoded data removed]",
      "text/plain": [
       "<Figure size 1440x432 with 5 Axes>"
      ]
     },
     "metadata": {
      "needs_background": "light"
     },
     "output_type": "display_data"
    }
   ],
   "source": [
    "import matplotlib.pyplot as plt \n",
    "\n",
    "fig, ax = plt.subplots(1,5, figsize = (20,6)) \n",
    "\n",
    "for i in range(5):\n",
    "    ax[i].imshow(X[i,:].reshape(28, 28), cmap = 'binary')\n",
    "    ax[i].axis('off')\n",
    "    \n",
    "plt.show()     \n"
   ]
  },
  {
   "cell_type": "markdown",
   "id": "859a3ccc",
   "metadata": {
    "slideshow": {
     "slide_type": "slide"
    }
   },
   "source": [
    "¡Eso fue fácil! Este código entrena el SVC en el conjunto de entrenamiento usando las clases de destino originales de 0 a 9 (`y_train`), en lugar de las clases de destino de 5 contra el resto (`y_train_5`)."
   ]
  },
  {
   "cell_type": "markdown",
   "id": "39771a02",
   "metadata": {
    "slideshow": {
     "slide_type": "slide"
    }
   },
   "source": [
    "Luego hace una predicción (una correcta en este caso)."
   ]
  },
  {
   "cell_type": "markdown",
   "id": "f0cbc068",
   "metadata": {
    "slideshow": {
     "slide_type": "slide"
    }
   },
   "source": [
    "Debajo del capó, Scikit-Learn en realidad usó la estrategia OvO: entrenó a 45 clasificadores binarios, obtuvo sus puntajes de decisión para la imagen y seleccionó la clase que ganó la mayor cantidad de duelos."
   ]
  },
  {
   "cell_type": "markdown",
   "id": "ae9470d0",
   "metadata": {
    "slideshow": {
     "slide_type": "slide"
    }
   },
   "source": [
    "Si llama al método `decision_function()`, verá que devuelve 10 puntuaciones por instancia (en lugar de solo 1). "
   ]
  },
  {
   "cell_type": "markdown",
   "id": "cbcf9ecb",
   "metadata": {
    "slideshow": {
     "slide_type": "slide"
    }
   },
   "source": [
    "Esa es una puntuación por clase:"
   ]
  },
  {
   "cell_type": "code",
   "execution_count": 8,
   "id": "c85cad57",
   "metadata": {
    "slideshow": {
     "slide_type": "slide"
    }
   },
   "outputs": [
    {
     "data": {
      "text/plain": [
       "array([[ 1.72501977,  2.72809088,  7.2510018 ,  8.3076379 , -0.31087254,\n",
       "         9.3132482 ,  1.70975103,  2.76765202,  6.23049537,  4.84771048]])"
      ]
     },
     "execution_count": 8,
     "metadata": {},
     "output_type": "execute_result"
    }
   ],
   "source": [
    "puntajes_primer_digito = svm_clf.decision_function([X[0,:]])\n",
    "puntajes_primer_digito\n"
   ]
  },
  {
   "cell_type": "markdown",
   "id": "74cfaa12",
   "metadata": {
    "slideshow": {
     "slide_type": "slide"
    }
   },
   "source": [
    "De hecho, la puntuación más alta es la correspondiente a la clase 5:"
   ]
  },
  {
   "cell_type": "code",
   "execution_count": 9,
   "id": "df6e296e",
   "metadata": {
    "slideshow": {
     "slide_type": "slide"
    }
   },
   "outputs": [
    {
     "data": {
      "text/plain": [
       "5"
      ]
     },
     "execution_count": 9,
     "metadata": {},
     "output_type": "execute_result"
    }
   ],
   "source": [
    "np.argmax(puntajes_primer_digito)"
   ]
  },
  {
   "cell_type": "code",
   "execution_count": 10,
   "id": "36b6d2fd",
   "metadata": {
    "slideshow": {
     "slide_type": "slide"
    }
   },
   "outputs": [
    {
     "data": {
      "text/plain": [
       "array([0, 1, 2, 3, 4, 5, 6, 7, 8, 9], dtype=int64)"
      ]
     },
     "execution_count": 10,
     "metadata": {},
     "output_type": "execute_result"
    }
   ],
   "source": [
    "svm_clf.classes_"
   ]
  },
  {
   "cell_type": "code",
   "execution_count": 11,
   "id": "4956cdab",
   "metadata": {
    "slideshow": {
     "slide_type": "slide"
    }
   },
   "outputs": [
    {
     "data": {
      "text/plain": [
       "5"
      ]
     },
     "execution_count": 11,
     "metadata": {},
     "output_type": "execute_result"
    }
   ],
   "source": [
    "svm_clf.classes_[5]"
   ]
  },
  {
   "cell_type": "markdown",
   "id": "d35b0ef8",
   "metadata": {
    "slideshow": {
     "slide_type": "slide"
    }
   },
   "source": [
    "## ADVERTENCIA"
   ]
  },
  {
   "cell_type": "markdown",
   "id": "6dec008b",
   "metadata": {
    "slideshow": {
     "slide_type": "slide"
    }
   },
   "source": [
    "Cuando se entrena un clasificador, almacena la lista de clases objetivo en su atributo `classes_`, ordenadas por valor."
   ]
  },
  {
   "cell_type": "markdown",
   "id": "733cee36",
   "metadata": {
    "slideshow": {
     "slide_type": "slide"
    }
   },
   "source": [
    "En este caso, el índice de cada clase en el arreglo `classes_` coincide convenientemente con la clase misma (por ejemplo, la clase en el índice 5 resulta ser la clase 5), pero en general no tendrá tanta suerte."
   ]
  },
  {
   "cell_type": "markdown",
   "id": "e38afe79",
   "metadata": {
    "slideshow": {
     "slide_type": "slide"
    }
   },
   "source": [
    "Si desea forzar a Scikit-Learn a usar uno contra uno o uno contra el resto, puede usar las clases `OneVsOneClassifier` o `OneVsRestClassifier`."
   ]
  },
  {
   "cell_type": "markdown",
   "id": "006b21c2",
   "metadata": {
    "slideshow": {
     "slide_type": "slide"
    }
   },
   "source": [
    "Simplemente cree una instancia y pase un clasificador a su constructor (ni siquiera tiene que ser un clasificador binario)."
   ]
  },
  {
   "cell_type": "markdown",
   "id": "4af443d1",
   "metadata": {
    "slideshow": {
     "slide_type": "slide"
    }
   },
   "source": [
    "Por ejemplo, este código crea un clasificador multiclase usando la estrategia OvR, basado en un SVC:"
   ]
  },
  {
   "cell_type": "code",
   "execution_count": null,
   "id": "0b2f406c",
   "metadata": {
    "slideshow": {
     "slide_type": "slide"
    }
   },
   "outputs": [],
   "source": [
    "from sklearn.multiclass import OneVsRestClassifier\n",
    "ovr_clf = OneVsRestClassifier(SVC())\n",
    "ovr_clf.fit(X_train, y_train)\n",
    "ovr_clf.predict(X[:5,:])"
   ]
  },
  {
   "cell_type": "code",
   "execution_count": null,
   "id": "584be9d3",
   "metadata": {
    "slideshow": {
     "slide_type": "slide"
    }
   },
   "outputs": [],
   "source": [
    "len(ovr_clf.estimators_)"
   ]
  },
  {
   "cell_type": "markdown",
   "id": "d1574af4",
   "metadata": {
    "slideshow": {
     "slide_type": "slide"
    }
   },
   "source": [
    "Entrenar un `SGDClassifier` (o un `RandomForestClassifier`) es igual de fácil:"
   ]
  },
  {
   "cell_type": "code",
   "execution_count": null,
   "id": "abf1549c",
   "metadata": {
    "slideshow": {
     "slide_type": "slide"
    }
   },
   "outputs": [],
   "source": [
    "from sklearn.linear_model import SGDClassifier \n",
    "\n",
    "sgd_clf = SGDClassifier(random_state = 42) "
   ]
  },
  {
   "cell_type": "code",
   "execution_count": null,
   "id": "b3612b08",
   "metadata": {
    "slideshow": {
     "slide_type": "slide"
    }
   },
   "outputs": [],
   "source": [
    "sgd_clf.fit(X_train, y_train)\n",
    "sgd_clf.predict([X[0,:]])\n"
   ]
  },
  {
   "cell_type": "markdown",
   "id": "df1021d0",
   "metadata": {
    "slideshow": {
     "slide_type": "slide"
    }
   },
   "source": [
    "Esta vez, Scikit-Learn no tuvo que ejecutar OvR ni OvO porque los clasificadores SGD pueden clasificar directamente las instancias en varias clases."
   ]
  },
  {
   "cell_type": "markdown",
   "id": "812910bb",
   "metadata": {
    "slideshow": {
     "slide_type": "slide"
    }
   },
   "source": [
    "El método `decision_function()` ahora devuelve un valor por clase."
   ]
  },
  {
   "cell_type": "markdown",
   "id": "ca0e6258",
   "metadata": {
    "slideshow": {
     "slide_type": "slide"
    }
   },
   "source": [
    "Veamos la puntuación que el clasificador SGD asignó a cada clase:"
   ]
  },
  {
   "cell_type": "code",
   "execution_count": null,
   "id": "a2c9215c",
   "metadata": {
    "slideshow": {
     "slide_type": "slide"
    }
   },
   "outputs": [],
   "source": [
    "sgd_clf.decision_function([some_digit])"
   ]
  },
  {
   "cell_type": "markdown",
   "id": "f46c8f59",
   "metadata": {
    "slideshow": {
     "slide_type": "slide"
    }
   },
   "source": [
    "Puede ver que el clasificador tiene bastante confianza en su predicción: casi todos los puntajes son en gran parte negativos, mientras que la clase 5 tiene un puntaje de 2412.5."
   ]
  },
  {
   "cell_type": "markdown",
   "id": "f3dd75d6",
   "metadata": {
    "slideshow": {
     "slide_type": "slide"
    }
   },
   "source": [
    "El modelo tiene una ligera duda respecto a la clase 3, que obtiene una puntuación de 573,5. "
   ]
  },
  {
   "cell_type": "markdown",
   "id": "3bd2239b",
   "metadata": {
    "slideshow": {
     "slide_type": "slide"
    }
   },
   "source": [
    "Ahora, por supuesto, desea evaluar este clasificador."
   ]
  },
  {
   "cell_type": "markdown",
   "id": "6cd0a675",
   "metadata": {
    "slideshow": {
     "slide_type": "slide"
    }
   },
   "source": [
    "Como de costumbre, puede utilizar la validación cruzada."
   ]
  },
  {
   "cell_type": "markdown",
   "id": "c3dc88d6",
   "metadata": {
    "slideshow": {
     "slide_type": "slide"
    }
   },
   "source": [
    "Utilice la función `cross_val_score()` para evaluar la precisión del SGDClassifier:"
   ]
  },
  {
   "cell_type": "code",
   "execution_count": null,
   "id": "3d5d03dd",
   "metadata": {
    "slideshow": {
     "slide_type": "slide"
    }
   },
   "outputs": [],
   "source": [
    "cross_val_score(sgd_clf, X_train, y_train, cv=3, scoring=\"accuracy\")\n"
   ]
  },
  {
   "cell_type": "markdown",
   "id": "ba5a3207",
   "metadata": {
    "slideshow": {
     "slide_type": "slide"
    }
   },
   "source": [
    "Obtiene más del 84% en todos los pliegues de prueba."
   ]
  },
  {
   "cell_type": "markdown",
   "id": "3cba1026",
   "metadata": {
    "slideshow": {
     "slide_type": "slide"
    }
   },
   "source": [
    "Si usó un clasificador aleatorio, obtendría un 10% de precisión, por lo que no es un puntaje tan malo, pero aún puede hacerlo mucho mejor."
   ]
  },
  {
   "cell_type": "markdown",
   "id": "92be5b8c",
   "metadata": {
    "slideshow": {
     "slide_type": "slide"
    }
   },
   "source": [
    "Simplemente escalando las entradas (como se discutió en el Capítulo 2) aumenta la precisión por encima del 89%:"
   ]
  },
  {
   "cell_type": "code",
   "execution_count": null,
   "id": "cc64fbdb",
   "metadata": {
    "slideshow": {
     "slide_type": "slide"
    }
   },
   "outputs": [],
   "source": [
    "from sklearn.preprocessing import StandardScaler\n",
    "scaler = StandardScaler()\n",
    "X_train_scaled = scaler.fit_transform(X_train.astype(np.float64))\n",
    "cross_val_score(sgd_clf, X_train_scaled, y_train, cv=3, scoring=\"accuracy\")\n"
   ]
  },
  {
   "cell_type": "markdown",
   "id": "853afc07",
   "metadata": {
    "slideshow": {
     "slide_type": "slide"
    }
   },
   "source": [
    "## Análisis de errores"
   ]
  },
  {
   "cell_type": "markdown",
   "id": "abfda9d9",
   "metadata": {
    "slideshow": {
     "slide_type": "slide"
    }
   },
   "source": [
    "Si se tratara de un proyecto real, ahora seguiría los pasos de la lista de verificación del proyecto de Machine Learning (consulte el Apéndice B)."
   ]
  },
  {
   "cell_type": "markdown",
   "id": "94f87bc9",
   "metadata": {
    "slideshow": {
     "slide_type": "slide"
    }
   },
   "source": [
    "Exploraría las opciones de preparación de datos, probaría varios modelos (seleccionando los mejores y ajustando sus hiperparámetros usando `GridSearchCV`) y automatizando tanto como sea posible."
   ]
  },
  {
   "cell_type": "markdown",
   "id": "43a5e60d",
   "metadata": {
    "slideshow": {
     "slide_type": "slide"
    }
   },
   "source": [
    "Aquí, asumiremos que ha encontrado un modelo prometedor y desea encontrar formas de mejorarlo."
   ]
  },
  {
   "cell_type": "markdown",
   "id": "c9aeeaf3",
   "metadata": {
    "slideshow": {
     "slide_type": "slide"
    }
   },
   "source": [
    "Una forma de hacerlo es analizar los tipos de errores que comete."
   ]
  },
  {
   "cell_type": "markdown",
   "id": "c3863e9f",
   "metadata": {
    "slideshow": {
     "slide_type": "slide"
    }
   },
   "source": [
    "Primero, mira la matriz de confusión."
   ]
  },
  {
   "cell_type": "markdown",
   "id": "b5c3ed39",
   "metadata": {
    "slideshow": {
     "slide_type": "slide"
    }
   },
   "source": [
    "Necesitas hacer predicciones usando la función `cross_val_predict()`, luego llama a la función `confusion_matrix()`, tal como lo hiciste antes:"
   ]
  },
  {
   "cell_type": "code",
   "execution_count": null,
   "id": "85df172f",
   "metadata": {
    "slideshow": {
     "slide_type": "slide"
    }
   },
   "outputs": [],
   "source": [
    "y_train_pred = cross_val_predict(sgd_clf, X_train_scaled, y_train, cv=3)\n",
    "conf_mx = confusion_matrix(y_train, y_train_pred)\n",
    "conf_mx"
   ]
  },
  {
   "cell_type": "markdown",
   "id": "0ee99118",
   "metadata": {
    "slideshow": {
     "slide_type": "slide"
    }
   },
   "source": [
    "Eso es un montón de números. "
   ]
  },
  {
   "cell_type": "markdown",
   "id": "73b98349",
   "metadata": {
    "slideshow": {
     "slide_type": "slide"
    }
   },
   "source": [
    "A menudo es más conveniente mirar una representación de imagen de la matriz de confusión, usando la función matshow() de Matplotlib:"
   ]
  },
  {
   "cell_type": "code",
   "execution_count": null,
   "id": "ed253c84",
   "metadata": {
    "slideshow": {
     "slide_type": "slide"
    }
   },
   "outputs": [],
   "source": [
    "plt.matshow(conf_mx, cmap=plt.cm.gray)\n",
    "plt.show()\n"
   ]
  },
  {
   "cell_type": "markdown",
   "id": "df447cd7",
   "metadata": {
    "slideshow": {
     "slide_type": "slide"
    }
   },
   "source": [
    "Esta matriz de confusión se ve bastante bien, ya que la mayoría de las imágenes están en la diagonal principal, lo que significa que se clasificaron correctamente."
   ]
  },
  {
   "cell_type": "markdown",
   "id": "6644a281",
   "metadata": {
    "slideshow": {
     "slide_type": "slide"
    }
   },
   "source": [
    "Los 5 se ven un poco más oscuros que los otros dígitos, lo que podría significar que hay menos imágenes de 5 en el conjunto de datos o que el clasificador no funciona tan bien en 5 como en otros dígitos."
   ]
  },
  {
   "cell_type": "markdown",
   "id": "4c2b61b3",
   "metadata": {
    "slideshow": {
     "slide_type": "slide"
    }
   },
   "source": [
    "De hecho, puedes verificar que ambos son el caso."
   ]
  },
  {
   "cell_type": "markdown",
   "id": "6391ce86",
   "metadata": {
    "slideshow": {
     "slide_type": "slide"
    }
   },
   "source": [
    "Centremos la trama en los errores."
   ]
  },
  {
   "cell_type": "markdown",
   "id": "88c69c18",
   "metadata": {
    "slideshow": {
     "slide_type": "slide"
    }
   },
   "source": [
    "Primero, debe dividir cada valor en la matriz de confusión por la cantidad de imágenes en la clase correspondiente para que pueda comparar las tasas de error en lugar de números absolutos de errores. (lo que haría que las clases abundantes se vieran injustamente mal):"
   ]
  },
  {
   "cell_type": "code",
   "execution_count": null,
   "id": "475e4399",
   "metadata": {
    "slideshow": {
     "slide_type": "slide"
    }
   },
   "outputs": [],
   "source": [
    "row_sums = conf_mx.sum(axis=1, keepdims=True)\n",
    "norm_conf_mx = conf_mx / row_sums\n"
   ]
  },
  {
   "cell_type": "markdown",
   "id": "65c6a94b",
   "metadata": {
    "slideshow": {
     "slide_type": "slide"
    }
   },
   "source": [
    "Llene la diagonal con ceros para mantener solo los errores y grafique el resultado:\n"
   ]
  },
  {
   "cell_type": "code",
   "execution_count": null,
   "id": "e01ba178",
   "metadata": {
    "slideshow": {
     "slide_type": "slide"
    }
   },
   "outputs": [],
   "source": [
    "np.fill_diagonal(norm_conf_mx, 0)\n",
    "plt.matshow(norm_conf_mx, cmap=plt.cm.gray)\n",
    "plt.show()\n"
   ]
  },
  {
   "cell_type": "markdown",
   "id": "463fcd86",
   "metadata": {
    "slideshow": {
     "slide_type": "slide"
    }
   },
   "source": [
    "Puede ver claramente los tipos de errores que comete el clasificador."
   ]
  },
  {
   "cell_type": "markdown",
   "id": "e7a601a4",
   "metadata": {
    "slideshow": {
     "slide_type": "slide"
    }
   },
   "source": [
    "Recuerde que las filas representan clases reales, mientras que las columnas representan clases pronosticadas."
   ]
  },
  {
   "cell_type": "markdown",
   "id": "c6fba5a4",
   "metadata": {
    "slideshow": {
     "slide_type": "slide"
    }
   },
   "source": [
    "La columna para la clase 8 es bastante brillante, lo que indica que muchas imágenes se clasifican erróneamente como 8s."
   ]
  },
  {
   "cell_type": "markdown",
   "id": "b964996b",
   "metadata": {
    "slideshow": {
     "slide_type": "slide"
    }
   },
   "source": [
    "Sin embargo, la fila para la clase 8 no es tan mala, lo que indica que los 8 reales en general se clasifican correctamente como 8."
   ]
  },
  {
   "cell_type": "markdown",
   "id": "514117a5",
   "metadata": {
    "slideshow": {
     "slide_type": "slide"
    }
   },
   "source": [
    "Como puede ver, la matriz de confusión no es necesariamente simétrica. "
   ]
  },
  {
   "cell_type": "markdown",
   "id": "63781e40",
   "metadata": {
    "slideshow": {
     "slide_type": "slide"
    }
   },
   "source": [
    "También puede ver que los 3 y los 5 a menudo se confunden (en ambas direcciones)."
   ]
  },
  {
   "cell_type": "markdown",
   "id": "59751266",
   "metadata": {
    "slideshow": {
     "slide_type": "slide"
    }
   },
   "source": [
    "El análisis de la matriz de confusión a menudo le brinda información sobre las formas de mejorar su clasificador. "
   ]
  },
  {
   "cell_type": "markdown",
   "id": "c241b076",
   "metadata": {
    "slideshow": {
     "slide_type": "slide"
    }
   },
   "source": [
    "Mirando este gráfico, parece que sus esfuerzos deben dedicarse a reducir los 8 falsos. "
   ]
  },
  {
   "cell_type": "markdown",
   "id": "b3c268f5",
   "metadata": {
    "slideshow": {
     "slide_type": "slide"
    }
   },
   "source": [
    "Por ejemplo, podría intentar recopilar más datos de entrenamiento para los dígitos que parecen 8 (pero no lo son) para que el clasificador pueda aprender a distinguirlos de los 8 reales."
   ]
  },
  {
   "cell_type": "markdown",
   "id": "6843fe4f",
   "metadata": {
    "slideshow": {
     "slide_type": "slide"
    }
   },
   "source": [
    "O podría diseñar nuevas características que ayudarían al clasificador, por ejemplo, escribir un algoritmo para contar la cantidad de bucles cerrados (por ejemplo, 8 tiene dos, 6 tiene uno, 5 no tiene ninguno). "
   ]
  },
  {
   "cell_type": "markdown",
   "id": "870b3dfc",
   "metadata": {
    "slideshow": {
     "slide_type": "slide"
    }
   },
   "source": [
    "O puede preprocesar las imágenes (por ejemplo, usando Scikit-Image, Pillow u OpenCV) para hacer que algunos patrones, como los bucles cerrados, se destaquen más."
   ]
  },
  {
   "cell_type": "markdown",
   "id": "8b5b2917",
   "metadata": {
    "slideshow": {
     "slide_type": "slide"
    }
   },
   "source": [
    "Analizar errores individuales también puede ser una buena manera de obtener información sobre lo que está haciendo su clasificador y por qué está fallando, pero es más difícil y requiere más tiempo."
   ]
  },
  {
   "cell_type": "markdown",
   "id": "bb7dcef8",
   "metadata": {
    "slideshow": {
     "slide_type": "slide"
    }
   },
   "source": [
    "Por ejemplo, grafiquemos ejemplos de 3 y 5 (la función plot_digits() solo usa la función imshow() de Matplotlib; consulte el cuaderno Jupyter de este capítulo para obtener más detalles):"
   ]
  },
  {
   "cell_type": "code",
   "execution_count": null,
   "id": "0dddf599",
   "metadata": {
    "slideshow": {
     "slide_type": "slide"
    }
   },
   "outputs": [],
   "source": [
    "cl_a, cl_b = 3, 5\n",
    "X_aa = X_train[(y_train == cl_a) & (y_train_pred == cl_a)]\n",
    "X_ab = X_train[(y_train == cl_a) & (y_train_pred == cl_b)]\n",
    "X_ba = X_train[(y_train == cl_b) & (y_train_pred == cl_a)]\n",
    "X_bb = X_train[(y_train == cl_b) & (y_train_pred == cl_b)]\n",
    "plt.figure(figsize=(8,8))\n",
    "plt.subplot(221); plot_digits(X_aa[:25], images_per_row=5)\n",
    "plt.subplot(222); plot_digits(X_ab[:25], images_per_row=5)\n",
    "plt.subplot(223); plot_digits(X_ba[:25], images_per_row=5)\n",
    "plt.subplot(224); plot_digits(X_bb[:25], images_per_row=5)\n",
    "plt.show()\n"
   ]
  },
  {
   "cell_type": "markdown",
   "id": "54da478f",
   "metadata": {
    "slideshow": {
     "slide_type": "slide"
    }
   },
   "source": [
    "Los dos bloques de 5 × 5 de la izquierda muestran dígitos clasificados como 3 y los dos bloques de 5 × 5 de la derecha muestran imágenes clasificadas como 5."
   ]
  },
  {
   "cell_type": "markdown",
   "id": "e9fee33b",
   "metadata": {
    "slideshow": {
     "slide_type": "slide"
    }
   },
   "source": [
    "Algunos de los dígitos en los que el clasificador se equivoca (es decir, en los bloques inferior izquierdo y superior derecho) están tan mal escritos que incluso un ser humano tendría problemas para clasificarlos (p. ej., el 5 en la primera fila y la segunda columna realmente parece como un mal escrito 3)."
   ]
  },
  {
   "cell_type": "markdown",
   "id": "db21d74e",
   "metadata": {
    "slideshow": {
     "slide_type": "slide"
    }
   },
   "source": [
    "Sin embargo, la mayoría de las imágenes mal clasificadas nos parecen errores obvios, y es difícil entender por qué el clasificador cometió los errores que cometió."
   ]
  },
  {
   "cell_type": "markdown",
   "id": "451dd0ba",
   "metadata": {
    "slideshow": {
     "slide_type": "slide"
    }
   },
   "source": [
    "La razón es que usamos un 'SGDClassifier' simple, que es un modelo lineal."
   ]
  },
  {
   "cell_type": "markdown",
   "id": "2ebb1ddd",
   "metadata": {
    "slideshow": {
     "slide_type": "slide"
    }
   },
   "source": [
    "Todo lo que hace es asignar un peso por clase a cada píxel, y cuando ve una nueva imagen simplemente suma las intensidades de píxel ponderadas para obtener una puntuación para cada clase. Entonces, dado que 3s y 5s difieren solo en unos pocos píxeles, este modelo los confundirá fácilmente."
   ]
  },
  {
   "cell_type": "markdown",
   "id": "e749ecdc",
   "metadata": {
    "slideshow": {
     "slide_type": "slide"
    }
   },
   "source": [
    "La principal diferencia entre 3s y 5s es la posición de la pequeña línea que une la línea superior con el arco inferior. ."
   ]
  },
  {
   "cell_type": "markdown",
   "id": "63d43d20",
   "metadata": {
    "slideshow": {
     "slide_type": "slide"
    }
   },
   "source": [
    "Si dibuja un 3 con la unión ligeramente desplazada hacia la izquierda, el clasificador podría clasificarlo como un 5 y viceversa."
   ]
  },
  {
   "cell_type": "markdown",
   "id": "26e80020",
   "metadata": {
    "slideshow": {
     "slide_type": "slide"
    }
   },
   "source": [
    "En otras palabras, este clasificador es bastante sensible al desplazamiento y rotación de imágenes."
   ]
  },
  {
   "cell_type": "markdown",
   "id": "6efc94ec",
   "metadata": {
    "slideshow": {
     "slide_type": "slide"
    }
   },
   "source": [
    "Entonces, una forma de reducir la confusión de 3/5 sería preprocesar las imágenes para asegurarse de que estén bien centradas y no demasiado giradas."
   ]
  },
  {
   "cell_type": "markdown",
   "id": "cb0483aa",
   "metadata": {
    "slideshow": {
     "slide_type": "slide"
    }
   },
   "source": [
    "Esto probablemente también ayudará a reducir otros errores."
   ]
  },
  {
   "cell_type": "markdown",
   "id": "587399e5",
   "metadata": {
    "slideshow": {
     "slide_type": "slide"
    }
   },
   "source": [
    "## Clasificación multietiqueta"
   ]
  },
  {
   "cell_type": "markdown",
   "id": "47d30e8f",
   "metadata": {
    "slideshow": {
     "slide_type": "slide"
    }
   },
   "source": [
    "Hasta ahora, cada instancia siempre se ha asignado a una sola clase."
   ]
  },
  {
   "cell_type": "markdown",
   "id": "33268ad3",
   "metadata": {
    "slideshow": {
     "slide_type": "slide"
    }
   },
   "source": [
    "En algunos casos, es posible que desee que su clasificador genere múltiples clases para cada instancia."
   ]
  },
  {
   "cell_type": "markdown",
   "id": "96e8f943",
   "metadata": {
    "slideshow": {
     "slide_type": "slide"
    }
   },
   "source": [
    "Considere un clasificador de reconocimiento facial: ¿qué debería hacer si reconoce a varias personas en la misma imagen?"
   ]
  },
  {
   "cell_type": "markdown",
   "id": "160c244c",
   "metadata": {
    "slideshow": {
     "slide_type": "slide"
    }
   },
   "source": [
    "Debe adjuntar una etiqueta por persona que reconozca."
   ]
  },
  {
   "cell_type": "markdown",
   "id": "4d4a0203",
   "metadata": {
    "slideshow": {
     "slide_type": "slide"
    }
   },
   "source": [
    "Digamos que el clasificador ha sido entrenado para reconocer tres caras, Alice, Bob y Charlie."
   ]
  },
  {
   "cell_type": "markdown",
   "id": "5d7147f2",
   "metadata": {
    "slideshow": {
     "slide_type": "slide"
    }
   },
   "source": [
    "Luego, cuando al clasificador se le muestre una imagen de Alice y Charlie, debería generar [1, 0, 1] (que significa \"Alice sí, Bob no, Charlie sí\")."
   ]
  },
  {
   "cell_type": "markdown",
   "id": "cfe97111",
   "metadata": {
    "slideshow": {
     "slide_type": "slide"
    }
   },
   "source": [
    "Un sistema de clasificación de este tipo que genera múltiples etiquetas binarias se denomina sistema de clasificación de múltiples etiquetas."
   ]
  },
  {
   "cell_type": "markdown",
   "id": "38d6992d",
   "metadata": {
    "slideshow": {
     "slide_type": "slide"
    }
   },
   "source": [
    "Todavía no entraremos en el reconocimiento facial, pero veamos un ejemplo más simple, solo con fines ilustrativos:"
   ]
  },
  {
   "cell_type": "code",
   "execution_count": null,
   "id": "fdf9cd80",
   "metadata": {
    "slideshow": {
     "slide_type": "slide"
    }
   },
   "outputs": [],
   "source": [
    "from sklearn.neighbors import KNeighborsClassifier\n",
    "y_train_large = (y_train >= 7)\n",
    "y_train_odd = (y_train % 2 == 1)\n",
    "y_multilabel = np.c_[y_train_large, y_train_odd]\n",
    "knn_clf = KNeighborsClassifier()\n",
    "knn_clf.fit(X_train, y_multilabel)"
   ]
  },
  {
   "cell_type": "markdown",
   "id": "e3ccee50",
   "metadata": {
    "slideshow": {
     "slide_type": "slide"
    }
   },
   "source": [
    "Este código crea una matriz y_multilabel que contiene dos etiquetas objetivo para cada imagen de dígito: la primera indica si el dígito es grande o no (7, 8 o 9) y la segunda indica si es impar o no."
   ]
  },
  {
   "cell_type": "markdown",
   "id": "0a9f176e",
   "metadata": {
    "slideshow": {
     "slide_type": "slide"
    }
   },
   "source": [
    "Las siguientes líneas crean una instancia de `KNeighborsClassifier` (que admite clasificación multietiqueta, aunque no todos los clasificadores lo hacen), y la entrenamos usando la matriz de objetivos múltiples."
   ]
  },
  {
   "cell_type": "markdown",
   "id": "c5084f01",
   "metadata": {
    "slideshow": {
     "slide_type": "slide"
    }
   },
   "source": [
    "Ahora puede hacer una predicción y notar que genera dos etiquetas:"
   ]
  },
  {
   "cell_type": "code",
   "execution_count": null,
   "id": "48203d41",
   "metadata": {
    "slideshow": {
     "slide_type": "slide"
    }
   },
   "outputs": [],
   "source": [
    "knn_clf.predict([X[0,:]]) "
   ]
  },
  {
   "cell_type": "markdown",
   "id": "c64143bc",
   "metadata": {
    "slideshow": {
     "slide_type": "slide"
    }
   },
   "source": [
    "¡Y lo hace bien! De hecho, el dígito 5 no es grande (Falso) e impar (Verdadero)."
   ]
  },
  {
   "cell_type": "markdown",
   "id": "9091ba57",
   "metadata": {
    "slideshow": {
     "slide_type": "slide"
    }
   },
   "source": [
    "Hay muchas formas de evaluar un clasificador de etiquetas múltiples, y seleccionar la métrica correcta realmente depende de su proyecto."
   ]
  },
  {
   "cell_type": "markdown",
   "id": "ee6fef9f",
   "metadata": {
    "slideshow": {
     "slide_type": "slide"
    }
   },
   "source": [
    "Un enfoque es medir la puntuación $F_{1}$ para cada etiqueta individual (o cualquier otra métrica de clasificador binario discutida anteriormente), luego simplemente calcular la puntuación promedio."
   ]
  },
  {
   "cell_type": "markdown",
   "id": "c728fdda",
   "metadata": {
    "slideshow": {
     "slide_type": "slide"
    }
   },
   "source": [
    "Este código calcula la puntuación media de $F_{1}$ en todas las etiquetas:"
   ]
  },
  {
   "cell_type": "code",
   "execution_count": null,
   "id": "5805daa5",
   "metadata": {
    "slideshow": {
     "slide_type": "slide"
    }
   },
   "outputs": [],
   "source": [
    "y_train_knn_pred = cross_val_predict(knn_clf, X_train, y_multilabel, cv=3)\n",
    "f1_score(y_multilabel, y_train_knn_pred, average=\"macro\")"
   ]
  },
  {
   "cell_type": "markdown",
   "id": "fe16967b",
   "metadata": {
    "slideshow": {
     "slide_type": "slide"
    }
   },
   "source": [
    "Sin embargo, esto supone que todas las etiquetas son igualmente importantes, lo que puede no ser el caso."
   ]
  },
  {
   "cell_type": "markdown",
   "id": "ff121972",
   "metadata": {
    "slideshow": {
     "slide_type": "slide"
    }
   },
   "source": [
    "In particular, if you have many more pictures of Alice than of Bob or Charlie, you may want to give more weight to the classifier’s score on pictures of Alice. "
   ]
  },
  {
   "cell_type": "markdown",
   "id": "c29c7594",
   "metadata": {
    "slideshow": {
     "slide_type": "slide"
    }
   },
   "source": [
    "One simple option is to give each label a weight equal to its support (i.e., the number of instances with that target label). "
   ]
  },
  {
   "cell_type": "markdown",
   "id": "37462280",
   "metadata": {
    "slideshow": {
     "slide_type": "slide"
    }
   },
   "source": [
    "Para hacer esto, simplemente establezca promedio=\"ponderado\" en el código anterior."
   ]
  },
  {
   "cell_type": "markdown",
   "id": "b918846d",
   "metadata": {
    "slideshow": {
     "slide_type": "slide"
    }
   },
   "source": [
    "## Clasificación multisalida"
   ]
  },
  {
   "cell_type": "markdown",
   "id": "a6c5c120",
   "metadata": {
    "slideshow": {
     "slide_type": "slide"
    }
   },
   "source": [
    "El último tipo de tarea de clasificación que vamos a discutir aquí se llama clasificación multisalida-multiclase (o simplemente clasificación multisalida)."
   ]
  },
  {
   "cell_type": "markdown",
   "id": "419374d6",
   "metadata": {
    "slideshow": {
     "slide_type": "slide"
    }
   },
   "source": [
    "Es simplemente una generalización de la clasificación multietiqueta donde cada etiqueta puede ser multiclase (es decir, puede tener más de dos valores posibles)."
   ]
  },
  {
   "cell_type": "markdown",
   "id": "33cb3954",
   "metadata": {
    "slideshow": {
     "slide_type": "slide"
    }
   },
   "source": [
    "Para ilustrar esto, construyamos un sistema que elimine el ruido de las imágenes."
   ]
  },
  {
   "cell_type": "markdown",
   "id": "dcb616fe",
   "metadata": {
    "slideshow": {
     "slide_type": "slide"
    }
   },
   "source": [
    "Tomará como entrada una imagen de dígito ruidosa y (con suerte) generará una imagen de dígito limpia, representada como una matriz de intensidades de píxeles, al igual que las imágenes MNIST."
   ]
  },
  {
   "cell_type": "markdown",
   "id": "262bfc95",
   "metadata": {
    "slideshow": {
     "slide_type": "slide"
    }
   },
   "source": [
    "Tenga en cuenta que la salida del clasificador es multietiqueta (una etiqueta por píxel) y cada etiqueta puede tener múltiples valores (la intensidad de píxel varía de 0 a 255)."
   ]
  },
  {
   "cell_type": "markdown",
   "id": "16ba23b3",
   "metadata": {
    "slideshow": {
     "slide_type": "slide"
    }
   },
   "source": [
    "Por lo tanto, es un ejemplo de un sistema de clasificación de múltiples salidas."
   ]
  },
  {
   "cell_type": "markdown",
   "id": "56410c49",
   "metadata": {
    "slideshow": {
     "slide_type": "slide"
    }
   },
   "source": [
    "### NOTE"
   ]
  },
  {
   "cell_type": "markdown",
   "id": "acecd92d",
   "metadata": {
    "slideshow": {
     "slide_type": "slide"
    }
   },
   "source": [
    "La línea entre clasificación y regresión a veces es borrosa, como en este ejemplo."
   ]
  },
  {
   "cell_type": "markdown",
   "id": "e3600205",
   "metadata": {
    "slideshow": {
     "slide_type": "slide"
    }
   },
   "source": [
    "Arguably, predicting pixel intensity is more akin to regression than to classification. "
   ]
  },
  {
   "cell_type": "markdown",
   "id": "223e60e1",
   "metadata": {
    "slideshow": {
     "slide_type": "slide"
    }
   },
   "source": [
    "Además, los sistemas multisalida no se limitan a tareas de clasificación; incluso podría tener un sistema que genere varias etiquetas por instancia, incluidas las etiquetas de clase y las etiquetas de valor."
   ]
  },
  {
   "cell_type": "markdown",
   "id": "4c2e3f95",
   "metadata": {
    "slideshow": {
     "slide_type": "slide"
    }
   },
   "source": [
    "Let’s start by creating the training and test sets by taking the MNIST images and adding noise to their pixel intensities with NumPy’s randint() function. "
   ]
  },
  {
   "cell_type": "markdown",
   "id": "c7cbe817",
   "metadata": {
    "slideshow": {
     "slide_type": "slide"
    }
   },
   "source": [
    "The target images will be the original images:"
   ]
  },
  {
   "cell_type": "code",
   "execution_count": null,
   "id": "d6c8c5d6",
   "metadata": {
    "slideshow": {
     "slide_type": "slide"
    }
   },
   "outputs": [],
   "source": [
    "noise = np.random.randint(0, 100, (len(X_train), 784))\n",
    "X_train_mod = X_train + noise\n",
    "noise = np.random.randint(0, 100, (len(X_test), 784))\n",
    "X_test_mod = X_test + noise\n",
    "y_train_mod = X_train\n",
    "y_test_mod = X_test"
   ]
  },
  {
   "cell_type": "markdown",
   "id": "4318e6ac",
   "metadata": {
    "slideshow": {
     "slide_type": "slide"
    }
   },
   "source": [
    "Let’s take a peek at an image from the test set (yes, we’re snooping on the test data, so you should be frowning right now):\n"
   ]
  },
  {
   "cell_type": "markdown",
   "id": "bd76f7f2",
   "metadata": {
    "slideshow": {
     "slide_type": "slide"
    }
   },
   "source": [
    "On the left is the noisy input image, and on the right is the clean target image. "
   ]
  },
  {
   "cell_type": "markdown",
   "id": "92a80602",
   "metadata": {
    "slideshow": {
     "slide_type": "slide"
    }
   },
   "source": [
    "Ahora entrenemos el clasificador y hagamos que limpie esta imagen:"
   ]
  },
  {
   "cell_type": "code",
   "execution_count": null,
   "id": "b4f5e8cc",
   "metadata": {
    "slideshow": {
     "slide_type": "slide"
    }
   },
   "outputs": [],
   "source": [
    "knn_clf.fit(X_train_mod, y_train_mod)\n",
    "clean_digit = knn_clf.predict([X_test_mod[some_index]])\n",
    "plot_digit(clean_digit)\n"
   ]
  },
  {
   "cell_type": "markdown",
   "id": "f8173666",
   "metadata": {
    "slideshow": {
     "slide_type": "slide"
    }
   },
   "source": [
    "¡Parece lo suficientemente cerca del objetivo! Con esto concluye nuestro recorrido de clasificación."
   ]
  },
  {
   "cell_type": "markdown",
   "id": "85f033f9",
   "metadata": {
    "slideshow": {
     "slide_type": "slide"
    }
   },
   "source": [
    "Ahora debe saber cómo seleccionar buenas métricas para las tareas de clasificación, elegir la compensación adecuada de precisión/recuperación, comparar clasificadores y, en general, crear buenos sistemas de clasificación para una variedad de tareas."
   ]
  },
  {
   "cell_type": "markdown",
   "id": "62839e06",
   "metadata": {
    "slideshow": {
     "slide_type": "slide"
    }
   },
   "source": [
    "## Exercises"
   ]
  },
  {
   "cell_type": "markdown",
   "id": "f91bf90c",
   "metadata": {
    "slideshow": {
     "slide_type": "slide"
    }
   },
   "source": [
    "1. Intente crear un clasificador para el conjunto de datos MNIST que logre una precisión superior al 97 % en el conjunto de prueba.\n",
    "\n",
    "Sugerencia: [KNeighborsClassifier](https://scikit-learn.org/stable/modules/generated/sklearn.neighbors.KNeighborsClassifier.html) funciona bastante bien para esta tarea; solo necesita encontrar buenos valores de hiperparámetros (pruebe una búsqueda de cuadrícula en los hiperparámetros `weights` y `n_neighbors`).\n",
    "\n",
    "\n"
   ]
  },
  {
   "cell_type": "markdown",
   "id": "c684eaf5",
   "metadata": {
    "slideshow": {
     "slide_type": "slide"
    }
   },
   "source": [
    "## Solución: "
   ]
  },
  {
   "cell_type": "code",
   "execution_count": 1,
   "id": "6d4e0116",
   "metadata": {
    "slideshow": {
     "slide_type": "slide"
    }
   },
   "outputs": [],
   "source": [
    "from sklearn.neighbors import KNeighborsClassifier "
   ]
  },
  {
   "cell_type": "code",
   "execution_count": null,
   "id": "cd0aa238",
   "metadata": {
    "slideshow": {
     "slide_type": "slide"
    }
   },
   "outputs": [],
   "source": [
    "param_grid = [\n",
    "    {'weights':[10**(-1), ], 'n_neighbors':[1,2,3,4,5,6,7,8,9,10]}\n",
    "]"
   ]
  },
  {
   "cell_type": "markdown",
   "id": "2ec18245",
   "metadata": {
    "slideshow": {
     "slide_type": "slide"
    }
   },
   "source": [
    "2. Escriba una función que pueda desplazar una imagen MNIST en cualquier dirección (izquierda, derecha, arriba o abajo) en un píxel.\n",
    "\n",
    "Luego, para cada imagen en el conjunto de entrenamiento, cree cuatro copias desplazadas (una por dirección) y agréguelas al conjunto de entrenamiento.\n",
    "\n",
    "Finalmente, entrene a su mejor modelo en este conjunto de entrenamiento ampliado y mida su precisión en el conjunto de prueba.\n",
    "\n",
    "¡Debe observar que su modelo funciona aún mejor ahora!\n",
    "\n",
    "Esta técnica de hacer crecer artificialmente el conjunto de entrenamiento se denomina aumento de datos o expansión del conjunto de entrenamiento."
   ]
  },
  {
   "cell_type": "markdown",
   "id": "a47a4b4e",
   "metadata": {
    "slideshow": {
     "slide_type": "slide"
    }
   },
   "source": [
    "3. Tackle the Titanic dataset. A great place to start is on Kaggle."
   ]
  },
  {
   "cell_type": "markdown",
   "id": "22b321c7",
   "metadata": {
    "slideshow": {
     "slide_type": "slide"
    }
   },
   "source": [
    "4. Build a spam classifier (a more challenging exercise):  \n",
    "\n",
    "Download examples of spam and ham from Apache\n",
    "SpamAssassin’s public datasets.  \n",
    "\n",
    "Unzip the datasets and familiarize yourself with the data\n",
    "format.  \n",
    "\n",
    "Split the datasets into a training set and a test set.  \n",
    "\n",
    "Write a data preparation pipeline to convert each email into a feature vector. Your preparation pipeline should transform an email into a (sparse) vector that indicates the presence or absence of each possible word.   \n",
    "\n",
    "For example, if all emails only ever contain four words, “Hello,” “how,”\n",
    "“are,” “you,” then the email “Hello you Hello Hello you” would be converted into a vector [1, 0, 0, 1] (meaning [“Hello” is present, “how” is absent, “are” is absent, “you” is present]), or [3, 0, 0, 2] if you prefer to count the number of occurrences of each word."
   ]
  },
  {
   "cell_type": "markdown",
   "id": "d7f22d89",
   "metadata": {
    "slideshow": {
     "slide_type": "slide"
    }
   },
   "source": [
    "You may want to add hyperparameters to your preparation pipeline to control whether or not to strip off email headers, convert each email to lowercase, remove punctuation, replace all URLs with “URL,” replace all numbers with “NUMBER,” or even perform stemming (i.e., trim off word endings; there are Python libraries available to do this).  "
   ]
  },
  {
   "cell_type": "markdown",
   "id": "ccf81dba",
   "metadata": {
    "slideshow": {
     "slide_type": "slide"
    }
   },
   "source": [
    "Finally, try out several classifiers and see if you can build a great spam classifier, with both high recall and high precision.  "
   ]
  },
  {
   "cell_type": "markdown",
   "id": "83d26557",
   "metadata": {
    "slideshow": {
     "slide_type": "slide"
    }
   },
   "source": [
    "Las soluciones a estos ejercicios se pueden encontrar en los cuadernos Jupyter disponibles en: https://github.com/ageron/handson-ml3."
   ]
  },
  {
   "cell_type": "code",
   "execution_count": null,
   "id": "f7aaaa1e",
   "metadata": {},
   "outputs": [],
   "source": []
  },
  {
   "cell_type": "markdown",
   "id": "249e6fa4",
   "metadata": {
    "slideshow": {
     "slide_type": "slide"
    }
   },
   "source": [
    "## Referentes  \n",
    "\n",
    "* La maquina de soporte vectorial para clasificación multiclase: https://scikit-learn.org/stable/modules/generated/sklearn.svm.SVC.html  \n",
    "\n"
   ]
  },
  {
   "cell_type": "code",
   "execution_count": null,
   "id": "f9d224db",
   "metadata": {},
   "outputs": [],
   "source": []
  }
 ],
 "metadata": {
  "celltoolbar": "Slideshow",
  "kernelspec": {
   "display_name": "Python 3 (ipykernel)",
   "language": "python",
   "name": "python3"
  },
  "language_info": {
   "codemirror_mode": {
    "name": "ipython",
    "version": 3
   },
   "file_extension": ".py",
   "mimetype": "text/x-python",
   "name": "python",
   "nbconvert_exporter": "python",
   "pygments_lexer": "ipython3",
   "version": "3.9.7"
  },
  "rise": {
   "enable_chalkboard": true,
   "theme": "sky",
   "transition": "zoom"
  }
 },
 "nbformat": 4,
 "nbformat_minor": 5
}
