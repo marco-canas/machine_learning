{
 "cells": [
  {
   "cell_type": "markdown",
   "id": "a72960a9",
   "metadata": {
    "slideshow": {
     "slide_type": "slide"
    }
   },
   "source": [
    "<table align=\"left\">\n",
    "  <td>\n",
    "    <a href=\"https://colab.research.google.com/github/marco-canas/machine_learning/blob/main/classes/class_march_15/class_march_15.ipynb\" target=\"_parent\"><img src=\"https://colab.research.google.com/assets/colab-badge.svg\" alt=\"Open In Colab\"/></a>\n",
    "  </td>\n",
    "</table>"
   ]
  },
  {
   "cell_type": "markdown",
   "id": "f91bc5e4",
   "metadata": {
    "slideshow": {
     "slide_type": "slide"
    }
   },
   "source": [
    "# Medidas de desempeño para un clasificador"
   ]
  },
  {
   "cell_type": "markdown",
   "id": "bf50b6ca",
   "metadata": {
    "slideshow": {
     "slide_type": "slide"
    }
   },
   "source": [
    "## Medición de la exactitud mediante validación cruzada"
   ]
  },
  {
   "cell_type": "markdown",
   "id": "dcbb1fe4",
   "metadata": {
    "slideshow": {
     "slide_type": "slide"
    }
   },
   "source": [
    "Evaluar un **clasificador** suele ser significativamente más complicado que evaluar un **regresor**. "
   ]
  },
  {
   "cell_type": "markdown",
   "id": "171ce3f4",
   "metadata": {
    "slideshow": {
     "slide_type": "slide"
    }
   },
   "source": [
    "Hay muchas medidas de desempeño disponibles. "
   ]
  },
  {
   "cell_type": "markdown",
   "id": "c33f695f",
   "metadata": {
    "slideshow": {
     "slide_type": "slide"
    }
   },
   "source": [
    "## Medición de la exactitud mediante validación cruzada"
   ]
  },
  {
   "cell_type": "markdown",
   "id": "ff4cd30c",
   "metadata": {
    "slideshow": {
     "slide_type": "slide"
    }
   },
   "source": [
    "Una buena manera de evaluar un modelo es usar la **validación cruzada**."
   ]
  },
  {
   "cell_type": "markdown",
   "id": "63cdfb71",
   "metadata": {
    "slideshow": {
     "slide_type": "slide"
    }
   },
   "source": [
    "## Implementación de validación cruzada"
   ]
  },
  {
   "cell_type": "markdown",
   "id": "a772cc2a",
   "metadata": {
    "slideshow": {
     "slide_type": "slide"
    }
   },
   "source": [
    "Ocasionalmente, necesitará más control sobre el proceso de **validación cruzada** que el que Scikit-Learn proporciona de manera estándar."
   ]
  },
  {
   "cell_type": "markdown",
   "id": "0244886f",
   "metadata": {
    "slideshow": {
     "slide_type": "slide"
    }
   },
   "source": [
    "En estos casos, puede implementar la validación cruzada usted mismo."
   ]
  },
  {
   "cell_type": "markdown",
   "id": "5b740ab1",
   "metadata": {
    "slideshow": {
     "slide_type": "slide"
    }
   },
   "source": [
    "El siguiente código hace más o menos lo mismo que la función `cross_val_score()` de Scikit-Learn e imprime el mismo resultado:"
   ]
  },
  {
   "cell_type": "code",
   "execution_count": 1,
   "id": "45182db4",
   "metadata": {
    "slideshow": {
     "slide_type": "slide"
    }
   },
   "outputs": [],
   "source": [
    "import numpy as np \n",
    "from sklearn.datasets import fetch_openml "
   ]
  },
  {
   "cell_type": "code",
   "execution_count": 2,
   "id": "813c36ac",
   "metadata": {
    "slideshow": {
     "slide_type": "slide"
    }
   },
   "outputs": [
    {
     "name": "stdout",
     "output_type": "stream",
     "text": [
      "Wall time: 23.6 s\n"
     ]
    }
   ],
   "source": [
    "%%time  \n",
    "\n",
    "mnist = fetch_openml('mnist_784', version = 1, as_frame = False)  "
   ]
  },
  {
   "cell_type": "code",
   "execution_count": 3,
   "id": "86e9142c",
   "metadata": {
    "slideshow": {
     "slide_type": "slide"
    }
   },
   "outputs": [],
   "source": [
    "X,y = mnist['data'], mnist['target'] "
   ]
  },
  {
   "cell_type": "markdown",
   "id": "179e659a",
   "metadata": {
    "slideshow": {
     "slide_type": "slide"
    }
   },
   "source": [
    "# Convertir a arreglos de numpy de valores enteros"
   ]
  },
  {
   "cell_type": "code",
   "execution_count": 4,
   "id": "d3f2c53f",
   "metadata": {
    "slideshow": {
     "slide_type": "slide"
    }
   },
   "outputs": [
    {
     "data": {
      "text/plain": [
       "5"
      ]
     },
     "execution_count": 4,
     "metadata": {},
     "output_type": "execute_result"
    }
   ],
   "source": [
    "y = y.astype(np.int64) \n",
    "y[0]"
   ]
  },
  {
   "cell_type": "markdown",
   "id": "9d985dc0",
   "metadata": {
    "slideshow": {
     "slide_type": "slide"
    }
   },
   "source": [
    "## Dividir el dataset en entrenamiento y testeo"
   ]
  },
  {
   "cell_type": "code",
   "execution_count": 5,
   "id": "c31cd64a",
   "metadata": {
    "slideshow": {
     "slide_type": "slide"
    }
   },
   "outputs": [],
   "source": [
    "X_train, X_test, y_train, y_test = X[:60_000], X[60_000:], y[:60_000], y[60_000:]"
   ]
  },
  {
   "cell_type": "markdown",
   "id": "4bc46889",
   "metadata": {
    "slideshow": {
     "slide_type": "slide"
    }
   },
   "source": [
    "# Definir la variable objetivo para clasificación binaria"
   ]
  },
  {
   "cell_type": "code",
   "execution_count": 6,
   "id": "83d3fd21",
   "metadata": {
    "slideshow": {
     "slide_type": "slide"
    }
   },
   "outputs": [],
   "source": [
    "y_train_5 = (y_train == 5)\n",
    "y_test_5 = (y_test == 5)"
   ]
  },
  {
   "cell_type": "markdown",
   "id": "a62b10e1",
   "metadata": {
    "slideshow": {
     "slide_type": "slide"
    }
   },
   "source": [
    "# Entrenar un Clasificador de Gradiente descendente estocástico"
   ]
  },
  {
   "cell_type": "code",
   "execution_count": 7,
   "id": "cdfca0ae",
   "metadata": {
    "slideshow": {
     "slide_type": "slide"
    }
   },
   "outputs": [
    {
     "name": "stdout",
     "output_type": "stream",
     "text": [
      "Wall time: 20.9 s\n"
     ]
    },
    {
     "data": {
      "text/plain": [
       "SGDClassifier()"
      ]
     },
     "execution_count": 7,
     "metadata": {},
     "output_type": "execute_result"
    }
   ],
   "source": [
    "%%time  \n",
    "\n",
    "from sklearn.linear_model import SGDClassifier\n",
    "\n",
    "sgd_clf = SGDClassifier()\n",
    "\n",
    "sgd_clf.fit(X_train, y_train_5) "
   ]
  },
  {
   "cell_type": "markdown",
   "id": "e0eb7277",
   "metadata": {
    "slideshow": {
     "slide_type": "slide"
    }
   },
   "source": [
    "# Validación cruzada personalizada"
   ]
  },
  {
   "cell_type": "code",
   "execution_count": null,
   "id": "6436f1e1",
   "metadata": {
    "slideshow": {
     "slide_type": "slide"
    }
   },
   "outputs": [],
   "source": [
    "%%time \n",
    "\n",
    "from sklearn.model_selection import StratifiedKFold\n",
    "from sklearn.base import clone\n",
    "skfolds = StratifiedKFold(n_splits=3, random_state=42, shuffle=True)\n",
    "for train_index, test_index in skfolds.split(X_train, y_train_5):\n",
    "    clone_clf = clone(sgd_clf)\n",
    "    X_train_folds = X_train[train_index]\n",
    "    y_train_folds = y_train_5[train_index]\n",
    "    X_test_fold = X_train[test_index]\n",
    "    y_test_fold = y_train_5[test_index]\n",
    "    clone_clf.fit(X_train_folds, y_train_folds)\n",
    "    y_pred = clone_clf.predict(X_test_fold)\n",
    "    n_correct = sum(y_pred == y_test_fold)\n",
    "    print(n_correct / len(y_pred)) # prints 0.9502, 0.96565 and 0.9649"
   ]
  },
  {
   "cell_type": "markdown",
   "id": "c86a32ed",
   "metadata": {
    "slideshow": {
     "slide_type": "slide"
    }
   },
   "source": [
    "La clase `StratifiedKFold` realiza un muestreo estratificado para producir subconjuntos que contienen una proporción representativa de cada clase. "
   ]
  },
  {
   "cell_type": "markdown",
   "id": "85e139e6",
   "metadata": {
    "slideshow": {
     "slide_type": "slide"
    }
   },
   "source": [
    "En cada iteración,   \n",
    "* el código crea un clon del clasificador, \n",
    "* entrena ese clon en los subconjuntos de entrenamiento y \n",
    "* hace predicciones en el subconjunto de prueba."
   ]
  },
  {
   "cell_type": "markdown",
   "id": "dd11e4cc",
   "metadata": {
    "slideshow": {
     "slide_type": "slide"
    }
   },
   "source": [
    "Luego cuenta el número de predicciones correctas y genera la proporción de predicciones correctas."
   ]
  },
  {
   "cell_type": "markdown",
   "id": "59c07c1a",
   "metadata": {
    "slideshow": {
     "slide_type": "slide"
    }
   },
   "source": [
    "Usemos la función `cross_val_score()` para evaluar nuestro modelo `SGDClassifier`, usando la validación cruzada K-fold con tres pliegues."
   ]
  },
  {
   "cell_type": "markdown",
   "id": "d84e8c7a",
   "metadata": {
    "slideshow": {
     "slide_type": "slide"
    }
   },
   "source": [
    "Recuerde que la validación cruzada $K$-fold significa dividir el conjunto de entrenamiento en $K$ subconjuntos (en este caso, tres), luego hacer predicciones y evaluarlas en cada subconjunto usando un modelo entrenado en los subconjuntos restantes:"
   ]
  },
  {
   "cell_type": "code",
   "execution_count": 8,
   "id": "7dab4704",
   "metadata": {
    "slideshow": {
     "slide_type": "slide"
    }
   },
   "outputs": [
    {
     "name": "stdout",
     "output_type": "stream",
     "text": [
      "Wall time: 25.2 s\n"
     ]
    },
    {
     "data": {
      "text/plain": [
       "array([0.9682 , 0.95865, 0.9574 ])"
      ]
     },
     "execution_count": 8,
     "metadata": {},
     "output_type": "execute_result"
    }
   ],
   "source": [
    "%%time \n",
    "\n",
    "from sklearn.model_selection import cross_val_score\n",
    "\n",
    "cross_val_score(sgd_clf, X_train, y_train_5, cv=3, scoring=\"accuracy\")\n"
   ]
  },
  {
   "cell_type": "markdown",
   "id": "b28c5f54",
   "metadata": {
    "slideshow": {
     "slide_type": "slide"
    }
   },
   "source": [
    "¿Por encima del 93 % de precisión (proporción de predicciones correctas) en todos los subconjuntos de validación cruzada?"
   ]
  },
  {
   "cell_type": "markdown",
   "id": "117e379f",
   "metadata": {
    "slideshow": {
     "slide_type": "slide"
    }
   },
   "source": [
    "Antes de que te emociones demasiado, echemos un vistazo a un clasificador muy tonto que simplemente clasifica cada imagen en la clase **no-5**:"
   ]
  },
  {
   "cell_type": "code",
   "execution_count": null,
   "id": "761cac27",
   "metadata": {
    "slideshow": {
     "slide_type": "slide"
    }
   },
   "outputs": [],
   "source": [
    "from sklearn.base import BaseEstimator\n",
    "class ClasificadorNunca5(BaseEstimator):\n",
    "    def fit(self, X, y=None):\n",
    "        pass\n",
    "    def predict(self, X):\n",
    "        return np.zeros((len(X), 1), dtype=bool)"
   ]
  },
  {
   "cell_type": "markdown",
   "id": "130cbf28",
   "metadata": {
    "slideshow": {
     "slide_type": "slide"
    }
   },
   "source": [
    "¿Puedes adivinar la exactitud de este modelo? "
   ]
  },
  {
   "cell_type": "markdown",
   "id": "c8742268",
   "metadata": {
    "slideshow": {
     "slide_type": "slide"
    }
   },
   "source": [
    "Vamos a averiguar:"
   ]
  },
  {
   "cell_type": "code",
   "execution_count": null,
   "id": "b9d8d83d",
   "metadata": {
    "slideshow": {
     "slide_type": "slide"
    }
   },
   "outputs": [],
   "source": [
    "from sklearn.model_selection import cross_val_score \n",
    "\n",
    "nunca_5_clf = ClasificadorNunca5()\n",
    "cross_val_score(nunca_5_clf, X_train, y_train_5, cv=3, scoring=\"accuracy\")"
   ]
  },
  {
   "cell_type": "markdown",
   "id": "844b98a9",
   "metadata": {
    "slideshow": {
     "slide_type": "slide"
    }
   },
   "source": [
    "¡Así es, tiene más del 90% de precisión!"
   ]
  },
  {
   "cell_type": "markdown",
   "id": "9d3747f2",
   "metadata": {
    "slideshow": {
     "slide_type": "slide"
    }
   },
   "source": [
    "* Esto se debe simplemente a que solo alrededor del $10 \\%$ de las imágenes son 5,  \n",
    "\n",
    "* por lo que si siempre adivina que una imagen no es un 5, acertará aproximadamente el 90 % de las veces. \n",
    "\n",
    "* Vence a Nostradamus."
   ]
  },
  {
   "cell_type": "markdown",
   "id": "18ca89a5",
   "metadata": {
    "slideshow": {
     "slide_type": "slide"
    }
   },
   "source": [
    "* Esto demuestra por qué **la exactitud (accuracy)** generalmente no es la medida de rendimiento preferida para los clasificadores,  \n",
    "\n",
    "* especialmente cuando se trata de conjuntos de datos sesgados (es decir, cuando algunas clases son mucho más frecuentes que otras)."
   ]
  },
  {
   "cell_type": "markdown",
   "id": "5162654e",
   "metadata": {
    "slideshow": {
     "slide_type": "slide"
    }
   },
   "source": [
    "## Matriz de confusión"
   ]
  },
  {
   "cell_type": "markdown",
   "id": "1f575303",
   "metadata": {
    "slideshow": {
     "slide_type": "slide"
    }
   },
   "source": [
    "Una forma mucho mejor de evaluar el rendimiento de un clasificador es observar la matriz de confusión."
   ]
  },
  {
   "cell_type": "markdown",
   "id": "334cf68c",
   "metadata": {
    "slideshow": {
     "slide_type": "slide"
    }
   },
   "source": [
    "La idea general es contar el número de veces que las instancias de la clase A se clasifican como clase B."
   ]
  },
  {
   "cell_type": "markdown",
   "id": "7974d185",
   "metadata": {
    "slideshow": {
     "slide_type": "slide"
    }
   },
   "source": [
    "Por ejemplo, para saber la cantidad de veces que el clasificador confundió imágenes de 5 con 3, buscaría en la quinta fila y la tercera columna de la matriz de confusión."
   ]
  },
  {
   "cell_type": "markdown",
   "id": "ce64ef89",
   "metadata": {
    "slideshow": {
     "slide_type": "slide"
    }
   },
   "source": [
    "Para calcular la matriz de confusión, primero debe tener un conjunto de predicciones para poder compararlas con los objetivos reales."
   ]
  },
  {
   "cell_type": "markdown",
   "id": "9162fb01",
   "metadata": {
    "slideshow": {
     "slide_type": "slide"
    }
   },
   "source": [
    "Puede hacer predicciones en el conjunto de prueba, pero no lo toquemos por ahora (recuerde que desea usar el conjunto de prueba solo al final de su proyecto, una vez que tenga un clasificador que esté listo para entregar)."
   ]
  },
  {
   "cell_type": "markdown",
   "id": "24812684",
   "metadata": {
    "slideshow": {
     "slide_type": "slide"
    }
   },
   "source": [
    "En su lugar, puedes usar la función `cross_val_predict()`:"
   ]
  },
  {
   "cell_type": "code",
   "execution_count": 9,
   "id": "84f5b74c",
   "metadata": {
    "slideshow": {
     "slide_type": "slide"
    }
   },
   "outputs": [
    {
     "name": "stdout",
     "output_type": "stream",
     "text": [
      "Wall time: 29.3 s\n"
     ]
    }
   ],
   "source": [
    "%%time \n",
    "\n",
    "from sklearn.model_selection import cross_val_predict  \n",
    "\n",
    "y_train_pred = cross_val_predict(sgd_clf, X_train, y_train_5, cv=3)"
   ]
  },
  {
   "cell_type": "markdown",
   "id": "43d0b841",
   "metadata": {
    "slideshow": {
     "slide_type": "slide"
    }
   },
   "source": [
    "Al igual que la función `cross_val_score()`, `cross_val_predict()` realiza una validación cruzada de K-fold, pero en lugar de devolver los puntajes de evaluación, devuelve las predicciones hechas en cada prueba."
   ]
  },
  {
   "cell_type": "markdown",
   "id": "7d095e6b",
   "metadata": {
    "slideshow": {
     "slide_type": "slide"
    }
   },
   "source": [
    "Esto significa que obtiene una predicción limpia para cada instancia en el conjunto de entrenamiento (\"limpio\" significa que la predicción la realiza un modelo que nunca vio los datos durante el entrenamiento)."
   ]
  },
  {
   "cell_type": "markdown",
   "id": "7ef3f13a",
   "metadata": {
    "slideshow": {
     "slide_type": "slide"
    }
   },
   "source": [
    "Ahora está listo para obtener la matriz de confusión usando la función `confusion_matrix()`. "
   ]
  },
  {
   "cell_type": "markdown",
   "id": "7d55bae8",
   "metadata": {
    "slideshow": {
     "slide_type": "slide"
    }
   },
   "source": [
    "Simplemente pásele las clases de destino (y_train_5) y las clases predichas (y_train_pred):"
   ]
  },
  {
   "cell_type": "code",
   "execution_count": null,
   "id": "1e2c691e",
   "metadata": {
    "slideshow": {
     "slide_type": "slide"
    }
   },
   "outputs": [],
   "source": [
    "from sklearn.metrics import confusion_matrix\n",
    "confusion_matrix(y_train_5, y_train_pred)"
   ]
  },
  {
   "cell_type": "markdown",
   "id": "cb6121f5",
   "metadata": {
    "slideshow": {
     "slide_type": "slide"
    }
   },
   "source": [
    "Each row in a confusion matrix represents an actual class, while each column represents a predicted class. "
   ]
  },
  {
   "cell_type": "markdown",
   "id": "97658859",
   "metadata": {
    "slideshow": {
     "slide_type": "slide"
    }
   },
   "source": [
    "* La primera fila de esta matriz considera imágenes que no son 5 (la clase negativa): 53.057 de ellas se clasificaron correctamente como que no son 5 (se denominan verdaderos negativos),  \n",
    "\n",
    "* mientras que las 1.522 restantes se clasificaron incorrectamente como 5 (falsos positivos). "
   ]
  },
  {
   "cell_type": "markdown",
   "id": "1361c28d",
   "metadata": {
    "slideshow": {
     "slide_type": "slide"
    }
   },
   "source": [
    "The second row considers the images of 5s (the positive class): 1,325 were wrongly classified as non-5s\n",
    "(false negatives), while the remaining 4,096 were correctly classified as 5s (true positives). "
   ]
  },
  {
   "cell_type": "markdown",
   "id": "6bdadfd5",
   "metadata": {
    "slideshow": {
     "slide_type": "slide"
    }
   },
   "source": [
    "A perfect classifier would have only true positives and true negatives, so its confusion matrix would have nonzero values only on its main diagonal (top left to bottom right):"
   ]
  },
  {
   "cell_type": "code",
   "execution_count": null,
   "id": "26ac6dda",
   "metadata": {
    "slideshow": {
     "slide_type": "slide"
    }
   },
   "outputs": [],
   "source": [
    "y_train_perfect_predictions = y_train_5 # pretend we reached perfection\n",
    "confusion_matrix(y_train_5, y_train_perfect_predictions)"
   ]
  },
  {
   "cell_type": "markdown",
   "id": "58652aaf",
   "metadata": {
    "slideshow": {
     "slide_type": "slide"
    }
   },
   "source": [
    "The confusion matrix gives you a lot of information, but sometimes you may prefer a more concise metric. "
   ]
  },
  {
   "cell_type": "markdown",
   "id": "40056988",
   "metadata": {
    "slideshow": {
     "slide_type": "slide"
    }
   },
   "source": [
    "An interesting one to look at is the accuracy of the positive predictions; this is called the precision of the classifier (Equation 3-1)."
   ]
  },
  {
   "cell_type": "markdown",
   "id": "edcadda5",
   "metadata": {
    "slideshow": {
     "slide_type": "slide"
    }
   },
   "source": [
    "$$ \\text{precision} \\ = \\frac{TP}{TP + FP } $$"
   ]
  },
  {
   "cell_type": "markdown",
   "id": "fc500c3d",
   "metadata": {
    "slideshow": {
     "slide_type": "slide"
    }
   },
   "source": [
    "$TP$ es el número de verdaderos positivos y $FP$ es el número de falsos positivos."
   ]
  },
  {
   "cell_type": "markdown",
   "id": "109f9092",
   "metadata": {
    "slideshow": {
     "slide_type": "slide"
    }
   },
   "source": [
    "A trivial way to have perfect precision is to make one single positive prediction and ensure it is correct (precision = 1/1 = 100%). "
   ]
  },
  {
   "cell_type": "markdown",
   "id": "59d13eac",
   "metadata": {
    "slideshow": {
     "slide_type": "slide"
    }
   },
   "source": [
    "But this would not be very useful, since the classifier would ignore all but one positive\n",
    "instance. "
   ]
  },
  {
   "cell_type": "markdown",
   "id": "aa8b79ff",
   "metadata": {
    "slideshow": {
     "slide_type": "slide"
    }
   },
   "source": [
    "Por lo tanto, la precisión generalmente se usa junto con otra métrica llamada recuperación, también llamada sensibilidad o tasa positiva verdadera (TPR): esta es la proporción de instancias positivas que el clasificador detecta correctamente."
   ]
  },
  {
   "cell_type": "markdown",
   "id": "90676340",
   "metadata": {
    "slideshow": {
     "slide_type": "slide"
    }
   },
   "source": [
    "$$ \\text{recall} \\ = \\frac{TP}{TP + FN }   $$"
   ]
  },
  {
   "cell_type": "markdown",
   "id": "6129fd97",
   "metadata": {
    "slideshow": {
     "slide_type": "slide"
    }
   },
   "source": [
    "$FN$ es, por supuesto, el número de falsos negativos."
   ]
  },
  {
   "cell_type": "markdown",
   "id": "07dd4dd7",
   "metadata": {
    "slideshow": {
     "slide_type": "slide"
    }
   },
   "source": [
    "If you are confused about the confusion matrix, Figure 3-2 may help."
   ]
  },
  {
   "cell_type": "markdown",
   "id": "f43c6cef",
   "metadata": {
    "slideshow": {
     "slide_type": "slide"
    }
   },
   "source": [
    "<img src = 'https://github.com/marco-canas/machine_learning/blob/main/classes/class_mach_8/digitos_mnist_2.png?raw=true'>"
   ]
  },
  {
   "cell_type": "markdown",
   "id": "9839660d",
   "metadata": {
    "slideshow": {
     "slide_type": "slide"
    }
   },
   "source": [
    "## Precision and Recall"
   ]
  },
  {
   "cell_type": "markdown",
   "id": "3599d834",
   "metadata": {
    "slideshow": {
     "slide_type": "slide"
    }
   },
   "source": [
    "Scikit-Learn provides several functions to compute classifier metrics, including precision and recall:"
   ]
  },
  {
   "cell_type": "code",
   "execution_count": null,
   "id": "e604a238",
   "metadata": {
    "slideshow": {
     "slide_type": "slide"
    }
   },
   "outputs": [],
   "source": [
    "from sklearn.metrics import precision_score, recall_score\n",
    "precision_score(y_train_5, y_train_pred) # == 4096 / (4096 + 1522)\n"
   ]
  },
  {
   "cell_type": "code",
   "execution_count": null,
   "id": "461e74e6",
   "metadata": {
    "slideshow": {
     "slide_type": "slide"
    }
   },
   "outputs": [],
   "source": [
    "recall_score(y_train_5, y_train_pred) # == 4096 / (4096 + 1325)\n"
   ]
  },
  {
   "cell_type": "markdown",
   "id": "e67e8744",
   "metadata": {
    "slideshow": {
     "slide_type": "slide"
    }
   },
   "source": [
    "Now your 5-detector does not look as shiny as it did when you looked at its accuracy. "
   ]
  },
  {
   "cell_type": "markdown",
   "id": "cdd66a46",
   "metadata": {
    "slideshow": {
     "slide_type": "slide"
    }
   },
   "source": [
    "When it claims an image represents a 5, it is correct only 72.9% of the time. Moreover, it only detects 75.6% of the 5s."
   ]
  },
  {
   "cell_type": "markdown",
   "id": "cdce3b31",
   "metadata": {
    "slideshow": {
     "slide_type": "slide"
    }
   },
   "source": [
    "It is often convenient to combine precision and recall into a single metric called the $F_{1}$ score, in particular if you need a simple way to compare two classifiers. "
   ]
  },
  {
   "cell_type": "markdown",
   "id": "1686740b",
   "metadata": {
    "slideshow": {
     "slide_type": "slide"
    }
   },
   "source": [
    "The F score is the harmonic mean of precision and recall (Equation 3-3). "
   ]
  },
  {
   "cell_type": "markdown",
   "id": "0b914c95",
   "metadata": {
    "slideshow": {
     "slide_type": "slide"
    }
   },
   "source": [
    "Whereas the regular mean treats all values equally, the harmonic mean gives much more weight to low values. "
   ]
  },
  {
   "cell_type": "markdown",
   "id": "8a977a68",
   "metadata": {
    "slideshow": {
     "slide_type": "slide"
    }
   },
   "source": [
    "As a result, the classifier will only get a high $F_{1}$ score if both recall and precision are high."
   ]
  },
  {
   "cell_type": "markdown",
   "id": "9e492ec6",
   "metadata": {
    "slideshow": {
     "slide_type": "slide"
    }
   },
   "source": [
    "$$ F_{1} = \\frac{2}{\\frac{}{} + \\frac{}{}} =  $$"
   ]
  },
  {
   "cell_type": "code",
   "execution_count": null,
   "id": "b2f92b07",
   "metadata": {
    "slideshow": {
     "slide_type": "slide"
    }
   },
   "outputs": [],
   "source": []
  },
  {
   "cell_type": "code",
   "execution_count": null,
   "id": "596bbefd",
   "metadata": {
    "slideshow": {
     "slide_type": "slide"
    }
   },
   "outputs": [],
   "source": []
  },
  {
   "cell_type": "code",
   "execution_count": null,
   "id": "a7a9caca",
   "metadata": {
    "slideshow": {
     "slide_type": "slide"
    }
   },
   "outputs": [],
   "source": []
  },
  {
   "cell_type": "code",
   "execution_count": null,
   "id": "a1ec053f",
   "metadata": {
    "slideshow": {
     "slide_type": "slide"
    }
   },
   "outputs": [],
   "source": []
  },
  {
   "cell_type": "code",
   "execution_count": null,
   "id": "e246648b",
   "metadata": {
    "slideshow": {
     "slide_type": "slide"
    }
   },
   "outputs": [],
   "source": []
  },
  {
   "cell_type": "code",
   "execution_count": null,
   "id": "f79965c6",
   "metadata": {
    "slideshow": {
     "slide_type": "slide"
    }
   },
   "outputs": [],
   "source": []
  },
  {
   "cell_type": "code",
   "execution_count": null,
   "id": "6933e9d4",
   "metadata": {
    "slideshow": {
     "slide_type": "slide"
    }
   },
   "outputs": [],
   "source": []
  },
  {
   "cell_type": "markdown",
   "id": "e4bb978d",
   "metadata": {
    "slideshow": {
     "slide_type": "slide"
    }
   },
   "source": [
    "# Clasificación multiclase"
   ]
  },
  {
   "cell_type": "markdown",
   "id": "a6c78f6f",
   "metadata": {
    "slideshow": {
     "slide_type": "slide"
    }
   },
   "source": [
    "* los clasificadores binarios distinguen entre dos clases,   \n",
    "* los clasificadores multiclase pueden distinguir entre más de dos clases."
   ]
  },
  {
   "cell_type": "markdown",
   "id": "9a775ca7",
   "metadata": {
    "slideshow": {
     "slide_type": "slide"
    }
   },
   "source": [
    "Algunos algoritmos \n",
    "\n",
    "* como los clasificadores SGD, \n",
    "* los clasificadores Random Forest\n",
    "\n",
    "son capaces de manejar varias clases de forma nativa."
   ]
  },
  {
   "cell_type": "markdown",
   "id": "1f670bad",
   "metadata": {
    "slideshow": {
     "slide_type": "slide"
    }
   },
   "source": [
    "* los clasificadores de regresión logística o de \n",
    "* máquina de soporte vectorial) \n",
    "\n",
    "son clasificadores estrictamente binarios."
   ]
  },
  {
   "cell_type": "markdown",
   "id": "87a6ba8f",
   "metadata": {
    "slideshow": {
     "slide_type": "slide"
    }
   },
   "source": [
    "## Estrategias para realizar una clasificación multiclase con varios clasificadores binarios."
   ]
  },
  {
   "cell_type": "markdown",
   "id": "1e117a2d",
   "metadata": {
    "slideshow": {
     "slide_type": "slide"
    }
   },
   "source": [
    "Una forma de crear un sistema que pueda clasificar las imágenes de dígitos en 10 clases (del 0 al 9) es entrenar 10 clasificadores binarios, uno para cada dígito (un detector 0, un detector 1, un detector 2, etc.))."
   ]
  },
  {
   "cell_type": "markdown",
   "id": "0ac18a71",
   "metadata": {
    "slideshow": {
     "slide_type": "slide"
    }
   },
   "source": [
    "Luego, cuando desea clasificar una imagen:   \n",
    "\n",
    "* obtiene el puntaje de decisión de cada clasificador para esa imagen y \n",
    "* selecciona la clase cuyo clasificador genera el puntaje más alto."
   ]
  },
  {
   "cell_type": "markdown",
   "id": "76f1c219",
   "metadata": {
    "slideshow": {
     "slide_type": "slide"
    }
   },
   "source": [
    "Esto se denomina estrategia uno contra el resto (OvR) (también llamada uno contra todos)."
   ]
  },
  {
   "cell_type": "markdown",
   "id": "1b502587",
   "metadata": {
    "slideshow": {
     "slide_type": "slide"
    }
   },
   "source": [
    "Otra estrategia es entrenar un clasificador binario para cada par de dígitos: uno para distinguir 0s y 1s, otro para distinguir 0s y 2s, otro para 1s y 2s, y así sucesivamente."
   ]
  },
  {
   "cell_type": "markdown",
   "id": "60c73fa8",
   "metadata": {
    "slideshow": {
     "slide_type": "slide"
    }
   },
   "source": [
    "Esto se llama la estrategia uno contra uno (OvO)."
   ]
  },
  {
   "cell_type": "markdown",
   "id": "c198e943",
   "metadata": {
    "slideshow": {
     "slide_type": "slide"
    }
   },
   "source": [
    "Si hay $N$ clases, necesita entrenar \n",
    "\n",
    "$$ \\frac{N \\times  (N – 1)}{2} \\ \\ \\ \\ \\  \\text{clasificadores.} $$"
   ]
  },
  {
   "cell_type": "markdown",
   "id": "98514678",
   "metadata": {
    "slideshow": {
     "slide_type": "slide"
    }
   },
   "source": [
    "Para el problema MNIST, ¡esto significa entrenar 45 clasificadores binarios!"
   ]
  },
  {
   "cell_type": "markdown",
   "id": "130d6221",
   "metadata": {
    "slideshow": {
     "slide_type": "slide"
    }
   },
   "source": [
    "Cuando desee clasificar una imagen, debe ejecutar la imagen a través de los 45 clasificadores y ver qué clase gana la mayor cantidad de duelos."
   ]
  },
  {
   "cell_type": "markdown",
   "id": "69f27a70",
   "metadata": {
    "slideshow": {
     "slide_type": "slide"
    }
   },
   "source": [
    "La principal ventaja de OvO es que cada clasificador solo necesita ser entrenado en la parte del conjunto de entrenamiento para las dos clases que debe distinguir."
   ]
  },
  {
   "cell_type": "markdown",
   "id": "931adc2d",
   "metadata": {
    "slideshow": {
     "slide_type": "slide"
    }
   },
   "source": [
    "Algunos algoritmos (como los clasificadores de máquinas de soporte vectorial) escalan mal con el tamaño del conjunto de entrenamiento."
   ]
  },
  {
   "cell_type": "markdown",
   "id": "379258c7",
   "metadata": {
    "slideshow": {
     "slide_type": "slide"
    }
   },
   "source": [
    "Para estos algoritmos, se prefiere OvO porque es más rápido entrenar muchos clasificadores en pequeños conjuntos de entrenamiento que entrenar pocos clasificadores en grandes conjuntos de entrenamiento."
   ]
  },
  {
   "cell_type": "markdown",
   "id": "143c840c",
   "metadata": {
    "slideshow": {
     "slide_type": "slide"
    }
   },
   "source": [
    "Sin embargo, para la mayoría de los algoritmos de clasificación binaria, se prefiere OvR."
   ]
  },
  {
   "cell_type": "markdown",
   "id": "6610d826",
   "metadata": {
    "slideshow": {
     "slide_type": "slide"
    }
   },
   "source": [
    "Scikit-Learn detecta cuando intenta utilizar un algoritmo de clasificación binaria para una tarea de clasificación multiclase y automáticamente ejecuta OvR u OvO, según el algoritmo."
   ]
  },
  {
   "cell_type": "markdown",
   "id": "d849f731",
   "metadata": {
    "slideshow": {
     "slide_type": "slide"
    }
   },
   "source": [
    "Intentemos esto con un clasificador de máquina de soporte vectorial, usando la clase `sklearn.svm.SVC`:"
   ]
  },
  {
   "cell_type": "code",
   "execution_count": null,
   "id": "0aa0ae46",
   "metadata": {
    "slideshow": {
     "slide_type": "slide"
    }
   },
   "outputs": [],
   "source": [
    "%%time \n",
    "\n",
    "from sklearn.datasets import fetch_openml \n",
    "\n",
    "mnist = fetch_openml('mnist_784', version = 1, as_frame = False)  "
   ]
  },
  {
   "cell_type": "code",
   "execution_count": null,
   "id": "cdd40473",
   "metadata": {
    "slideshow": {
     "slide_type": "slide"
    }
   },
   "outputs": [],
   "source": [
    "type(X)"
   ]
  },
  {
   "cell_type": "code",
   "execution_count": null,
   "id": "f8975738",
   "metadata": {
    "slideshow": {
     "slide_type": "slide"
    }
   },
   "outputs": [],
   "source": [
    "y[0] "
   ]
  },
  {
   "cell_type": "code",
   "execution_count": null,
   "id": "50660eae",
   "metadata": {
    "slideshow": {
     "slide_type": "slide"
    }
   },
   "outputs": [],
   "source": [
    "X,y = mnist['data'], mnist['target'] "
   ]
  },
  {
   "cell_type": "code",
   "execution_count": null,
   "id": "464bcb77",
   "metadata": {
    "slideshow": {
     "slide_type": "slide"
    }
   },
   "outputs": [],
   "source": [
    "import numpy as np \n",
    "\n",
    "#X = X.values\n",
    "#y = y.values.ravel().astype(np.int64) \n",
    "\n",
    "y = y.ravel().astype(np.int64) "
   ]
  },
  {
   "cell_type": "code",
   "execution_count": null,
   "id": "7573ab84",
   "metadata": {
    "slideshow": {
     "slide_type": "slide"
    }
   },
   "outputs": [],
   "source": [
    "X_train, X_test, y_train, y_test = X[:60_000,:], X[60_000:,:], y[:60_000], y[60_000:] "
   ]
  },
  {
   "cell_type": "code",
   "execution_count": null,
   "id": "e507eb70",
   "metadata": {
    "slideshow": {
     "slide_type": "slide"
    }
   },
   "outputs": [],
   "source": [
    "%%time  \n",
    "\n",
    "from sklearn.svm import SVC\n",
    "svm_clf = SVC()\n",
    "svm_clf.fit(X_train, y_train) # y_train, not y_train_5"
   ]
  },
  {
   "cell_type": "code",
   "execution_count": null,
   "id": "c7ac7bd9",
   "metadata": {
    "slideshow": {
     "slide_type": "slide"
    }
   },
   "outputs": [],
   "source": [
    "svm_clf.predict(X[:5,:])"
   ]
  },
  {
   "cell_type": "code",
   "execution_count": null,
   "id": "f154f1bd",
   "metadata": {
    "slideshow": {
     "slide_type": "slide"
    }
   },
   "outputs": [],
   "source": [
    "import matplotlib.pyplot as plt \n",
    "\n",
    "fig, ax = plt.subplots(1,5, figsize = (20,6)) \n",
    "\n",
    "for i in range(5):\n",
    "    ax[i].imshow(X[i,:].reshape(28, 28), cmap = 'binary')\n",
    "    ax[i].axis('off')\n",
    "    \n",
    "plt.show()     \n"
   ]
  },
  {
   "cell_type": "markdown",
   "id": "859a3ccc",
   "metadata": {
    "slideshow": {
     "slide_type": "slide"
    }
   },
   "source": [
    "* Este código entrena el `SVC` en el conjunto de entrenamiento usando las clases de destino originales de 0 a 9 (`y_train`), \n",
    "\n",
    "* en lugar de las clases de destino de 5 contra el resto (`y_train_5`)."
   ]
  },
  {
   "cell_type": "markdown",
   "id": "f0cbc068",
   "metadata": {
    "slideshow": {
     "slide_type": "slide"
    }
   },
   "source": [
    "Scikit-Learn en realidad usó **la estrategia OvO**:\n",
    "\n",
    "* entrenó a 45 clasificadores binarios, \n",
    "\n",
    "* obtuvo sus puntajes de decisión para la imagen y \n",
    "\n",
    "* seleccionó la clase que ganó la mayor cantidad de duelos."
   ]
  },
  {
   "cell_type": "markdown",
   "id": "ae9470d0",
   "metadata": {
    "slideshow": {
     "slide_type": "slide"
    }
   },
   "source": [
    "Si llama al método `decision_function()`, verá que devuelve 10 puntuaciones por instancia (en lugar de solo 1). "
   ]
  },
  {
   "cell_type": "markdown",
   "id": "cbcf9ecb",
   "metadata": {
    "slideshow": {
     "slide_type": "slide"
    }
   },
   "source": [
    "Esa es una puntuación por clase:"
   ]
  },
  {
   "cell_type": "code",
   "execution_count": null,
   "id": "c85cad57",
   "metadata": {
    "slideshow": {
     "slide_type": "slide"
    }
   },
   "outputs": [],
   "source": [
    "puntajes_primer_digito = svm_clf.decision_function([X[0,:]])\n",
    "puntajes_primer_digito\n"
   ]
  },
  {
   "cell_type": "markdown",
   "id": "74cfaa12",
   "metadata": {
    "slideshow": {
     "slide_type": "slide"
    }
   },
   "source": [
    "De hecho, la puntuación más alta es la correspondiente a la clase 5:"
   ]
  },
  {
   "cell_type": "code",
   "execution_count": null,
   "id": "df6e296e",
   "metadata": {
    "slideshow": {
     "slide_type": "slide"
    }
   },
   "outputs": [],
   "source": [
    "np.argmax(puntajes_primer_digito)  "
   ]
  },
  {
   "cell_type": "code",
   "execution_count": null,
   "id": "36b6d2fd",
   "metadata": {
    "slideshow": {
     "slide_type": "slide"
    }
   },
   "outputs": [],
   "source": [
    "svm_clf.classes_ "
   ]
  },
  {
   "cell_type": "code",
   "execution_count": null,
   "id": "4956cdab",
   "metadata": {
    "scrolled": true,
    "slideshow": {
     "slide_type": "slide"
    }
   },
   "outputs": [],
   "source": [
    "svm_clf.classes_[5]"
   ]
  },
  {
   "cell_type": "markdown",
   "id": "d35b0ef8",
   "metadata": {
    "slideshow": {
     "slide_type": "slide"
    }
   },
   "source": [
    "## ADVERTENCIA"
   ]
  },
  {
   "cell_type": "markdown",
   "id": "6dec008b",
   "metadata": {
    "slideshow": {
     "slide_type": "slide"
    }
   },
   "source": [
    "Cuando se entrena un clasificador, almacena **la lista de clases** objetivo en su atributo `classes_`, ordenadas por valor."
   ]
  },
  {
   "cell_type": "markdown",
   "id": "733cee36",
   "metadata": {
    "slideshow": {
     "slide_type": "slide"
    }
   },
   "source": [
    "En este caso, el índice de cada clase en el arreglo `classes_` coincide convenientemente con la clase misma (por ejemplo, la clase en el índice 5 resulta ser la clase 5), pero en general no tendrá tanta suerte."
   ]
  },
  {
   "cell_type": "markdown",
   "id": "f2885f4d",
   "metadata": {
    "slideshow": {
     "slide_type": "slide"
    }
   },
   "source": [
    "# ¿Cómo forzar a que use una de las estrategias?"
   ]
  },
  {
   "cell_type": "markdown",
   "id": "e38afe79",
   "metadata": {
    "slideshow": {
     "slide_type": "slide"
    }
   },
   "source": [
    "Si desea forzar a Scikit-Learn a usar uno contra uno o uno contra el resto, puede usar las clases \n",
    "\n",
    "* `OneVsOneClassifier` o \n",
    "* `OneVsRestClassifier`."
   ]
  },
  {
   "cell_type": "markdown",
   "id": "006b21c2",
   "metadata": {
    "slideshow": {
     "slide_type": "slide"
    }
   },
   "source": [
    "Simplemente cree una instancia y pase un clasificador a su constructor (ni siquiera tiene que ser un clasificador binario)."
   ]
  },
  {
   "cell_type": "markdown",
   "id": "4af443d1",
   "metadata": {
    "slideshow": {
     "slide_type": "slide"
    }
   },
   "source": [
    "Por ejemplo, este código crea un clasificador multiclase usando la estrategia OvR, basado en un SVC:"
   ]
  },
  {
   "cell_type": "code",
   "execution_count": null,
   "id": "0b2f406c",
   "metadata": {
    "slideshow": {
     "slide_type": "slide"
    }
   },
   "outputs": [],
   "source": [
    "%%time \n",
    "\n",
    "from sklearn.multiclass import OneVsRestClassifier\n",
    "ovr_clf = OneVsRestClassifier(SVC())  \n",
    "# Pasamos el clasificador de Máquina de soporte vectorial al constructor \n",
    "ovr_clf.fit(X_train, y_train)\n",
    "ovr_clf.predict(X[:5,:])"
   ]
  },
  {
   "cell_type": "code",
   "execution_count": null,
   "id": "584be9d3",
   "metadata": {
    "slideshow": {
     "slide_type": "slide"
    }
   },
   "outputs": [],
   "source": [
    "len(ovr_clf.estimators_)"
   ]
  },
  {
   "cell_type": "code",
   "execution_count": null,
   "id": "8e5eafa7",
   "metadata": {
    "slideshow": {
     "slide_type": "slide"
    }
   },
   "outputs": [],
   "source": [
    "ovr_clf.decision_function([X[0]]) "
   ]
  },
  {
   "cell_type": "code",
   "execution_count": null,
   "id": "c38f0856",
   "metadata": {
    "slideshow": {
     "slide_type": "slide"
    }
   },
   "outputs": [],
   "source": [
    "%%time \n",
    "\n",
    "from sklearn.multiclass import OneVsOneClassifier\n",
    "ovo_clf = OneVsOneClassifier( )\n",
    "ovo_clf.fit(X_train, y_train)\n",
    "ovo_clf.predict(X[:5,:])"
   ]
  },
  {
   "cell_type": "code",
   "execution_count": null,
   "id": "766aed3c",
   "metadata": {
    "slideshow": {
     "slide_type": "slide"
    }
   },
   "outputs": [],
   "source": [
    "ovo_clf.decision_function([X[0]]) "
   ]
  },
  {
   "cell_type": "markdown",
   "id": "35929252",
   "metadata": {},
   "source": [
    "# Los algoritmos que realizan clasificación multiclase por defecto"
   ]
  },
  {
   "cell_type": "markdown",
   "id": "d1574af4",
   "metadata": {
    "slideshow": {
     "slide_type": "slide"
    }
   },
   "source": [
    "Entrenar un `SGDClassifier` (o un `RandomForestClassifier`) es igual de fácil:"
   ]
  },
  {
   "cell_type": "code",
   "execution_count": null,
   "id": "abf1549c",
   "metadata": {
    "slideshow": {
     "slide_type": "slide"
    }
   },
   "outputs": [],
   "source": [
    "from sklearn.linear_model import SGDClassifier \n",
    "\n",
    "sgd_clf = SGDClassifier(random_state = 42) "
   ]
  },
  {
   "cell_type": "code",
   "execution_count": null,
   "id": "f1cb126d",
   "metadata": {
    "slideshow": {
     "slide_type": "slide"
    }
   },
   "outputs": [],
   "source": [
    "%%time\n",
    "\n",
    "sgd_clf.fit(X_train, y_train)"
   ]
  },
  {
   "cell_type": "code",
   "execution_count": null,
   "id": "b3612b08",
   "metadata": {
    "slideshow": {
     "slide_type": "slide"
    }
   },
   "outputs": [],
   "source": [
    "sgd_clf.predict(X[:5,:])"
   ]
  },
  {
   "cell_type": "code",
   "execution_count": null,
   "id": "62b1a07f",
   "metadata": {
    "slideshow": {
     "slide_type": "slide"
    }
   },
   "outputs": [],
   "source": [
    "from sklearn.ensemble import RandomForestClassifier \n",
    "\n",
    "rf_clf = RandomForestClassifier() "
   ]
  },
  {
   "cell_type": "code",
   "execution_count": null,
   "id": "ea40f612",
   "metadata": {
    "slideshow": {
     "slide_type": "slide"
    }
   },
   "outputs": [],
   "source": [
    "%%time \n",
    "\n",
    "rf_clf.fit(X_train, y_train)"
   ]
  },
  {
   "cell_type": "code",
   "execution_count": null,
   "id": "f895efef",
   "metadata": {
    "slideshow": {
     "slide_type": "slide"
    }
   },
   "outputs": [],
   "source": [
    "rf_clf.predict(X[:5,:])"
   ]
  },
  {
   "cell_type": "code",
   "execution_count": null,
   "id": "4929eddb",
   "metadata": {
    "slideshow": {
     "slide_type": "slide"
    }
   },
   "outputs": [],
   "source": [
    "rf_clf.decision_function([X[0]])"
   ]
  },
  {
   "cell_type": "markdown",
   "id": "df1021d0",
   "metadata": {
    "slideshow": {
     "slide_type": "slide"
    }
   },
   "source": [
    "Esta vez, Scikit-Learn no tuvo que ejecutar OvR ni OvO porque los clasificadores SGD pueden clasificar directamente las instancias en varias clases."
   ]
  },
  {
   "cell_type": "markdown",
   "id": "812910bb",
   "metadata": {
    "slideshow": {
     "slide_type": "slide"
    }
   },
   "source": [
    "El método `decision_function()` ahora devuelve un valor por clase."
   ]
  },
  {
   "cell_type": "markdown",
   "id": "ca0e6258",
   "metadata": {
    "slideshow": {
     "slide_type": "slide"
    }
   },
   "source": [
    "Veamos la puntuación que el clasificador SGD asignó a cada clase:"
   ]
  },
  {
   "cell_type": "code",
   "execution_count": null,
   "id": "a2c9215c",
   "metadata": {
    "slideshow": {
     "slide_type": "slide"
    }
   },
   "outputs": [],
   "source": [
    "sgd_clf.decision_function([X[0]]) # predicción para la imagen correspondiente a un cuatro (4) "
   ]
  },
  {
   "cell_type": "code",
   "execution_count": null,
   "id": "8f067614",
   "metadata": {
    "slideshow": {
     "slide_type": "slide"
    }
   },
   "outputs": [],
   "source": [
    "import matplotlib.pyplot as plt \n",
    "\n",
    "fig, ax = plt.subplots(1,5, figsize = (20,6)) \n",
    "\n",
    "for i in range(5):\n",
    "    ax[i].imshow(X[i,:].reshape(28, 28), cmap = 'binary')\n",
    "    ax[i].axis('off')\n",
    "    \n",
    "plt.show()     "
   ]
  },
  {
   "cell_type": "markdown",
   "id": "f46c8f59",
   "metadata": {
    "slideshow": {
     "slide_type": "slide"
    }
   },
   "source": [
    "Puede ver que el clasificador tiene bastante confianza en su predicción: casi todos los puntajes son en gran parte negativos, mientras que la clase 0 tiene un puntaje de 14390."
   ]
  },
  {
   "cell_type": "markdown",
   "id": "3bd2239b",
   "metadata": {
    "slideshow": {
     "slide_type": "slide"
    }
   },
   "source": [
    "# Evaluar este clasificador."
   ]
  },
  {
   "cell_type": "markdown",
   "id": "6cd0a675",
   "metadata": {
    "slideshow": {
     "slide_type": "slide"
    }
   },
   "source": [
    "Como de costumbre, puede utilizar **la validación cruzada**."
   ]
  },
  {
   "cell_type": "markdown",
   "id": "c3dc88d6",
   "metadata": {
    "slideshow": {
     "slide_type": "slide"
    }
   },
   "source": [
    "Utilice la función `cross_val_score()` para evaluar la precisión del `SGDClassifier`:"
   ]
  },
  {
   "cell_type": "code",
   "execution_count": null,
   "id": "3d5d03dd",
   "metadata": {
    "slideshow": {
     "slide_type": "slide"
    }
   },
   "outputs": [],
   "source": [
    "%%time \n",
    "\n",
    "from sklearn.model_selection import cross_val_score  \n",
    "\n",
    "cross_val_score(sgd_clf, X_train, y_train, cv=3, scoring=\"accuracy\")\n"
   ]
  },
  {
   "cell_type": "markdown",
   "id": "ba5a3207",
   "metadata": {
    "slideshow": {
     "slide_type": "slide"
    }
   },
   "source": [
    "Obtiene más del 84% en todos los pliegues de prueba."
   ]
  },
  {
   "cell_type": "markdown",
   "id": "92be5b8c",
   "metadata": {
    "slideshow": {
     "slide_type": "slide"
    }
   },
   "source": [
    "## Escalando las entradas aumenta la precisión por encima del 89%:"
   ]
  },
  {
   "cell_type": "code",
   "execution_count": null,
   "id": "cc64fbdb",
   "metadata": {
    "slideshow": {
     "slide_type": "slide"
    }
   },
   "outputs": [],
   "source": [
    "%%time \n",
    "\n",
    "from sklearn.preprocessing import StandardScaler\n",
    "scaler = StandardScaler() \n",
    "X_train_scaled = scaler.fit_transform(X_train.astype(np.float64))\n",
    "cross_val_score(sgd_clf, X_train_scaled, y_train, cv=3, scoring=\"accuracy\")\n"
   ]
  },
  {
   "cell_type": "markdown",
   "id": "853afc07",
   "metadata": {
    "slideshow": {
     "slide_type": "slide"
    }
   },
   "source": [
    "## Análisis de errores"
   ]
  },
  {
   "cell_type": "markdown",
   "id": "abfda9d9",
   "metadata": {
    "slideshow": {
     "slide_type": "slide"
    }
   },
   "source": [
    "Si se tratara de un proyecto real, ahora seguiría los pasos de la lista de verificación del proyecto de Machine Learning (consulte el Apéndice B del texto de Géron)."
   ]
  },
  {
   "cell_type": "markdown",
   "id": "94f87bc9",
   "metadata": {
    "slideshow": {
     "slide_type": "slide"
    }
   },
   "source": [
    "Exploraría las opciones de  \n",
    "\n",
    "* preparación de datos, \n",
    "* probaría varios modelos (seleccionando los mejores y ajustando sus hiperparámetros usando `GridSearchCV`) y   \n",
    "* automatizando tanto como sea posible."
   ]
  },
  {
   "cell_type": "markdown",
   "id": "43a5e60d",
   "metadata": {
    "slideshow": {
     "slide_type": "slide"
    }
   },
   "source": [
    "Aquí, asumiremos que ha encontrado un modelo prometedor y desea encontrar formas de mejorarlo."
   ]
  },
  {
   "cell_type": "markdown",
   "id": "c9aeeaf3",
   "metadata": {
    "slideshow": {
     "slide_type": "slide"
    }
   },
   "source": [
    "Una forma de hacerlo es analizar los tipos de errores que comete."
   ]
  },
  {
   "cell_type": "markdown",
   "id": "c3863e9f",
   "metadata": {
    "slideshow": {
     "slide_type": "slide"
    }
   },
   "source": [
    "Primero, mira la matriz de confusión."
   ]
  },
  {
   "cell_type": "markdown",
   "id": "b5c3ed39",
   "metadata": {
    "slideshow": {
     "slide_type": "slide"
    }
   },
   "source": [
    "Necesitas hacer predicciones usando la función `cross_val_predict()`, luego llama a la función `confusion_matrix()`, tal como lo hiciste antes:"
   ]
  },
  {
   "cell_type": "code",
   "execution_count": null,
   "id": "a961e7c5",
   "metadata": {
    "slideshow": {
     "slide_type": "slide"
    }
   },
   "outputs": [],
   "source": [
    "%%time \n",
    "\n",
    "from sklearn.model_selection import cross_val_predict \n",
    "y_train_pred = cross_val_predict(sgd_clf, X_train_scaled, y_train, cv=3)"
   ]
  },
  {
   "cell_type": "code",
   "execution_count": null,
   "id": "85df172f",
   "metadata": {
    "slideshow": {
     "slide_type": "slide"
    }
   },
   "outputs": [],
   "source": [
    "from sklearn.metrics import confusion_matrix\n",
    "conf_mx = confusion_matrix(y_train, y_train_pred)\n",
    "conf_mx"
   ]
  },
  {
   "cell_type": "markdown",
   "id": "73b98349",
   "metadata": {
    "slideshow": {
     "slide_type": "slide"
    }
   },
   "source": [
    "# Una representación de imagen de la matriz de confusión, usando la función `matshow()` de `Matplotlib`:"
   ]
  },
  {
   "cell_type": "code",
   "execution_count": null,
   "id": "ed253c84",
   "metadata": {
    "slideshow": {
     "slide_type": "slide"
    }
   },
   "outputs": [],
   "source": [
    "plt.matshow(conf_mx, cmap=plt.cm.gray)\n",
    "plt.show()\n"
   ]
  },
  {
   "cell_type": "markdown",
   "id": "df447cd7",
   "metadata": {
    "slideshow": {
     "slide_type": "slide"
    }
   },
   "source": [
    "Esta matriz de confusión se ve bastante bien, ya que la mayoría de las imágenes están en la diagonal principal, lo que significa que se clasificaron correctamente."
   ]
  },
  {
   "cell_type": "markdown",
   "id": "6644a281",
   "metadata": {
    "slideshow": {
     "slide_type": "slide"
    }
   },
   "source": [
    "Los 5 se ven un poco más oscuros que los otros dígitos, lo que podría significar que \n",
    "\n",
    "* hay menos imágenes de 5 en el conjunto de datos o que \n",
    "\n",
    "* el clasificador no funciona tan bien en 5 como en otros dígitos."
   ]
  },
  {
   "cell_type": "code",
   "execution_count": null,
   "id": "f2b788bc",
   "metadata": {
    "slideshow": {
     "slide_type": "slide"
    }
   },
   "outputs": [],
   "source": [
    "sum(y_train ==5)"
   ]
  },
  {
   "cell_type": "code",
   "execution_count": null,
   "id": "04c5b504",
   "metadata": {
    "slideshow": {
     "slide_type": "slide"
    }
   },
   "outputs": [],
   "source": [
    "sum(y_train ==1) "
   ]
  },
  {
   "cell_type": "code",
   "execution_count": null,
   "id": "55144823",
   "metadata": {
    "slideshow": {
     "slide_type": "slide"
    }
   },
   "outputs": [],
   "source": [
    "sum(y_train ==8)"
   ]
  },
  {
   "cell_type": "markdown",
   "id": "4c2b61b3",
   "metadata": {
    "slideshow": {
     "slide_type": "slide"
    }
   },
   "source": [
    "De hecho, puedes verificar que ambos son el caso."
   ]
  },
  {
   "cell_type": "markdown",
   "id": "6391ce86",
   "metadata": {
    "slideshow": {
     "slide_type": "slide"
    }
   },
   "source": [
    "## Centrarce la trama en los errores"
   ]
  },
  {
   "cell_type": "markdown",
   "id": "88c69c18",
   "metadata": {
    "slideshow": {
     "slide_type": "slide"
    }
   },
   "source": [
    "* Primero, debe dividir cada valor en la matriz de confusión por la cantidad de imágenes en la clase correspondiente para que pueda comparar las **tasas de error** en lugar de números absolutos de errores. \n",
    "\n",
    "(lo que haría que las clases abundantes se vieran injustamente mal):"
   ]
  },
  {
   "cell_type": "code",
   "execution_count": null,
   "id": "30ec416e",
   "metadata": {
    "slideshow": {
     "slide_type": "slide"
    }
   },
   "outputs": [],
   "source": [
    "row_sums = conf_mx.sum(axis=1, keepdims=True)"
   ]
  },
  {
   "cell_type": "code",
   "execution_count": null,
   "id": "4b5c030d",
   "metadata": {
    "slideshow": {
     "slide_type": "slide"
    }
   },
   "outputs": [],
   "source": [
    "row_sums "
   ]
  },
  {
   "cell_type": "code",
   "execution_count": null,
   "id": "475e4399",
   "metadata": {
    "slideshow": {
     "slide_type": "slide"
    }
   },
   "outputs": [],
   "source": [
    "norm_conf_mx = conf_mx / row_sums"
   ]
  },
  {
   "cell_type": "markdown",
   "id": "65c6a94b",
   "metadata": {
    "slideshow": {
     "slide_type": "slide"
    }
   },
   "source": [
    "Llene la diagonal con ceros para mantener solo los errores y grafique el resultado:\n"
   ]
  },
  {
   "cell_type": "code",
   "execution_count": null,
   "id": "e01ba178",
   "metadata": {
    "slideshow": {
     "slide_type": "slide"
    }
   },
   "outputs": [],
   "source": [
    "np.fill_diagonal(norm_conf_mx, 0)\n",
    "plt.matshow(norm_conf_mx, cmap=plt.cm.gray)\n",
    "plt.show() \n"
   ]
  },
  {
   "cell_type": "markdown",
   "id": "463fcd86",
   "metadata": {
    "slideshow": {
     "slide_type": "slide"
    }
   },
   "source": [
    "Puede ver claramente los tipos de errores que comete el clasificador."
   ]
  },
  {
   "cell_type": "markdown",
   "id": "e7a601a4",
   "metadata": {
    "slideshow": {
     "slide_type": "slide"
    }
   },
   "source": [
    "Recuerde que las filas representan clases reales, mientras que las columnas representan clases pronosticadas."
   ]
  },
  {
   "cell_type": "markdown",
   "id": "c6fba5a4",
   "metadata": {
    "slideshow": {
     "slide_type": "slide"
    }
   },
   "source": [
    "La columna para la clase 8 es bastante brillante, lo que indica que muchas imágenes se clasifican erróneamente como 8s."
   ]
  },
  {
   "cell_type": "markdown",
   "id": "b964996b",
   "metadata": {
    "slideshow": {
     "slide_type": "slide"
    }
   },
   "source": [
    "Sin embargo, la fila para la clase 8 no es tan mala, lo que indica que los 8 reales en general se clasifican correctamente como 8."
   ]
  },
  {
   "cell_type": "markdown",
   "id": "514117a5",
   "metadata": {
    "slideshow": {
     "slide_type": "slide"
    }
   },
   "source": [
    "Como puede ver, la matriz de confusión **no** es necesariamente simétrica. "
   ]
  },
  {
   "cell_type": "markdown",
   "id": "63781e40",
   "metadata": {
    "slideshow": {
     "slide_type": "slide"
    }
   },
   "source": [
    "También puede ver que los 3 y los 5 a menudo se confunden (en ambas direcciones)."
   ]
  },
  {
   "cell_type": "markdown",
   "id": "59751266",
   "metadata": {
    "slideshow": {
     "slide_type": "slide"
    }
   },
   "source": [
    "El análisis de la matriz de confusión a menudo le brinda información sobre las formas de mejorar su clasificador. "
   ]
  },
  {
   "cell_type": "markdown",
   "id": "c241b076",
   "metadata": {
    "slideshow": {
     "slide_type": "slide"
    }
   },
   "source": [
    "Mirando este gráfico, parece que sus esfuerzos deben dedicarse a reducir los 8 falsos. "
   ]
  },
  {
   "cell_type": "markdown",
   "id": "b3c268f5",
   "metadata": {
    "slideshow": {
     "slide_type": "slide"
    }
   },
   "source": [
    "Por ejemplo, podría intentar recopilar más datos de entrenamiento para los dígitos que parecen 8 (pero no lo son) para que el clasificador pueda aprender a distinguirlos de los 8 reales."
   ]
  },
  {
   "cell_type": "markdown",
   "id": "6843fe4f",
   "metadata": {
    "slideshow": {
     "slide_type": "slide"
    }
   },
   "source": [
    "O podría diseñar nuevas características que ayudarían al clasificador, por ejemplo, escribir un algoritmo para contar la cantidad de bucles cerrados (por ejemplo, 8 tiene dos, 6 tiene uno, 5 no tiene ninguno). "
   ]
  },
  {
   "cell_type": "markdown",
   "id": "870b3dfc",
   "metadata": {
    "slideshow": {
     "slide_type": "slide"
    }
   },
   "source": [
    "O puede preprocesar las imágenes (por ejemplo, usando Scikit-Image, Pillow u OpenCV) para hacer que algunos patrones, como los bucles cerrados, se destaquen más."
   ]
  },
  {
   "cell_type": "markdown",
   "id": "8b5b2917",
   "metadata": {
    "slideshow": {
     "slide_type": "slide"
    }
   },
   "source": [
    "Analizar errores individuales también puede ser una buena manera de obtener información sobre lo que está haciendo su clasificador y por qué está fallando, pero es más difícil y requiere más tiempo."
   ]
  },
  {
   "cell_type": "markdown",
   "id": "bb7dcef8",
   "metadata": {
    "slideshow": {
     "slide_type": "slide"
    }
   },
   "source": [
    "Por ejemplo, grafiquemos ejemplos de 3 y 5 (la función `plot_digits()` solo usa la función `imshow()` de `Matplotlib`; consulte el cuaderno Jupyter de este capítulo para obtener más detalles):"
   ]
  },
  {
   "cell_type": "code",
   "execution_count": null,
   "id": "b49939b6",
   "metadata": {
    "slideshow": {
     "slide_type": "slide"
    }
   },
   "outputs": [],
   "source": [
    "import matplotlib as mpl \n",
    "\n",
    "import matplotlib.pyplot as plt \n",
    "\n",
    "def plot_digit(data):\n",
    "    image = data.reshape(28, 28)\n",
    "    plt.imshow(image, cmap = mpl.cm.binary,\n",
    "               interpolation=\"nearest\")\n",
    "    plt.axis(\"off\")"
   ]
  },
  {
   "cell_type": "code",
   "execution_count": null,
   "id": "cbe9c880",
   "metadata": {
    "slideshow": {
     "slide_type": "slide"
    }
   },
   "outputs": [],
   "source": [
    "import matplotlib as mpl \n",
    "# EXTRA\n",
    "def plot_digits(instances, images_per_row=10, **options):\n",
    "    size = 28\n",
    "    images_per_row = min(len(instances), images_per_row)\n",
    "    # This is equivalent to n_rows = ceil(len(instances) / images_per_row):\n",
    "    n_rows = (len(instances) - 1) // images_per_row + 1\n",
    "\n",
    "    # Append empty images to fill the end of the grid, if needed:\n",
    "    n_empty = n_rows * images_per_row - len(instances)\n",
    "    padded_instances = np.concatenate([instances, np.zeros((n_empty, size * size))], axis=0)\n",
    "\n",
    "    # Reshape the array so it's organized as a grid containing 28×28 images:\n",
    "    image_grid = padded_instances.reshape((n_rows, images_per_row, size, size))\n",
    "\n",
    "    # Combine axes 0 and 2 (vertical image grid axis, and vertical image axis),\n",
    "    # and axes 1 and 3 (horizontal axes). We first need to move the axes that we\n",
    "    # want to combine next to each other, using transpose(), and only then we\n",
    "    # can reshape:\n",
    "    big_image = image_grid.transpose(0, 2, 1, 3).reshape(n_rows * size,\n",
    "                                                         images_per_row * size)\n",
    "    # Now that we have a big image, we just need to show it:\n",
    "    plt.imshow(big_image, cmap = mpl.cm.binary, **options)\n",
    "    plt.axis(\"off\")"
   ]
  },
  {
   "cell_type": "code",
   "execution_count": null,
   "id": "0dddf599",
   "metadata": {
    "scrolled": true,
    "slideshow": {
     "slide_type": "slide"
    }
   },
   "outputs": [],
   "source": [
    "cl_a, cl_b = 3, 5\n",
    "X_aa = X_train[(y_train == cl_a) & (y_train_pred == cl_a)]\n",
    "X_ab = X_train[(y_train == cl_a) & (y_train_pred == cl_b)]\n",
    "X_ba = X_train[(y_train == cl_b) & (y_train_pred == cl_a)]\n",
    "X_bb = X_train[(y_train == cl_b) & (y_train_pred == cl_b)]\n",
    "plt.figure(figsize=(8,8))\n",
    "plt.subplot(221); plot_digits(X_aa[:25], images_per_row=5)\n",
    "plt.subplot(222); plot_digits(X_ab[:25], images_per_row=5)\n",
    "plt.subplot(223); plot_digits(X_ba[:25], images_per_row=5)\n",
    "plt.subplot(224); plot_digits(X_bb[:25], images_per_row=5)\n",
    "plt.show()\n"
   ]
  },
  {
   "cell_type": "markdown",
   "id": "54da478f",
   "metadata": {
    "slideshow": {
     "slide_type": "slide"
    }
   },
   "source": [
    "Los dos bloques de $5 \\times 5$ de la izquierda muestran dígitos clasificados como 3 y los dos bloques de $5 \\times 5$ de la derecha muestran imágenes clasificadas como 5."
   ]
  },
  {
   "cell_type": "markdown",
   "id": "e9fee33b",
   "metadata": {
    "slideshow": {
     "slide_type": "slide"
    }
   },
   "source": [
    "Algunos de los dígitos en los que el clasificador se equivoca (es decir, en los bloques inferior izquierdo y superior derecho) están tan mal escritos que incluso un ser humano tendría problemas para clasificarlos (p. ej., el 5 en la primera fila y la segunda columna realmente parece como un mal escrito 3)."
   ]
  },
  {
   "cell_type": "markdown",
   "id": "db21d74e",
   "metadata": {
    "slideshow": {
     "slide_type": "slide"
    }
   },
   "source": [
    "Sin embargo, la mayoría de las imágenes mal clasificadas nos parecen errores obvios, y es difícil entender por qué el clasificador cometió los errores que cometió."
   ]
  },
  {
   "cell_type": "markdown",
   "id": "451dd0ba",
   "metadata": {
    "slideshow": {
     "slide_type": "slide"
    }
   },
   "source": [
    "La razón es que usamos un `SGDClassifier` simple, que es un **modelo lineal**."
   ]
  },
  {
   "cell_type": "markdown",
   "id": "3061fc73",
   "metadata": {
    "slideshow": {
     "slide_type": "slide"
    }
   },
   "source": [
    "Todo lo que hace es asignar un peso por clase a cada píxel, y cuando ve una nueva imagen simplemente suma las intensidades de píxel ponderadas para obtener una puntuación para cada clase. "
   ]
  },
  {
   "cell_type": "markdown",
   "id": "2ebb1ddd",
   "metadata": {
    "slideshow": {
     "slide_type": "slide"
    }
   },
   "source": [
    "Entonces, dado que 3s y 5s difieren solo en unos pocos píxeles, este modelo los confundirá fácilmente."
   ]
  },
  {
   "cell_type": "markdown",
   "id": "e749ecdc",
   "metadata": {
    "slideshow": {
     "slide_type": "slide"
    }
   },
   "source": [
    "La principal diferencia entre 3s y 5s es la posición de la pequeña línea que une la línea superior con el arco inferior. ."
   ]
  },
  {
   "cell_type": "markdown",
   "id": "63d43d20",
   "metadata": {
    "slideshow": {
     "slide_type": "slide"
    }
   },
   "source": [
    "Si dibuja un 3 con la unión ligeramente desplazada hacia la izquierda, el clasificador podría clasificarlo como un 5 y viceversa."
   ]
  },
  {
   "cell_type": "markdown",
   "id": "26e80020",
   "metadata": {
    "slideshow": {
     "slide_type": "slide"
    }
   },
   "source": [
    "En otras palabras, este clasificador es bastante sensible al desplazamiento y rotación de imágenes."
   ]
  },
  {
   "cell_type": "markdown",
   "id": "6efc94ec",
   "metadata": {
    "slideshow": {
     "slide_type": "slide"
    }
   },
   "source": [
    "Entonces, una forma de reducir la confusión de 3/5 sería preprocesar las imágenes para asegurarse de que estén bien centradas y no demasiado giradas."
   ]
  },
  {
   "cell_type": "markdown",
   "id": "cb0483aa",
   "metadata": {
    "slideshow": {
     "slide_type": "slide"
    }
   },
   "source": [
    "Esto probablemente también ayudará a reducir otros errores."
   ]
  },
  {
   "cell_type": "markdown",
   "id": "587399e5",
   "metadata": {
    "slideshow": {
     "slide_type": "slide"
    }
   },
   "source": [
    "## Clasificación multietiqueta"
   ]
  },
  {
   "cell_type": "markdown",
   "id": "47d30e8f",
   "metadata": {
    "slideshow": {
     "slide_type": "slide"
    }
   },
   "source": [
    "Hasta ahora, cada instancia siempre se ha asignado a una sola clase."
   ]
  },
  {
   "cell_type": "markdown",
   "id": "33268ad3",
   "metadata": {
    "slideshow": {
     "slide_type": "slide"
    }
   },
   "source": [
    "En algunos casos, es posible que desee que su clasificador genere múltiples clases para cada instancia."
   ]
  },
  {
   "cell_type": "markdown",
   "id": "79538383",
   "metadata": {
    "slideshow": {
     "slide_type": "slide"
    }
   },
   "source": [
    "Considere un clasificador de reconocimiento facial: "
   ]
  },
  {
   "cell_type": "markdown",
   "id": "96e8f943",
   "metadata": {
    "slideshow": {
     "slide_type": "slide"
    }
   },
   "source": [
    "¿qué debería hacer si reconoce a varias personas en la misma imagen?"
   ]
  },
  {
   "cell_type": "markdown",
   "id": "160c244c",
   "metadata": {
    "slideshow": {
     "slide_type": "slide"
    }
   },
   "source": [
    "Debe adjuntar una etiqueta por persona que reconozca."
   ]
  },
  {
   "cell_type": "markdown",
   "id": "4d4a0203",
   "metadata": {
    "slideshow": {
     "slide_type": "slide"
    }
   },
   "source": [
    "Digamos que el clasificador ha sido entrenado para reconocer tres caras, Alice, Bob y Charlie."
   ]
  },
  {
   "cell_type": "markdown",
   "id": "5d7147f2",
   "metadata": {
    "slideshow": {
     "slide_type": "slide"
    }
   },
   "source": [
    "Luego, cuando al clasificador se le muestre una imagen de Alice y Charlie, debería generar [1, 0, 1] (que significa \"Alice sí, Bob no, Charlie sí\")."
   ]
  },
  {
   "cell_type": "markdown",
   "id": "cfe97111",
   "metadata": {
    "slideshow": {
     "slide_type": "slide"
    }
   },
   "source": [
    "Un sistema de clasificación de este tipo que genera múltiples etiquetas binarias se denomina **sistema de clasificación de múltiples etiquetas**."
   ]
  },
  {
   "cell_type": "markdown",
   "id": "38d6992d",
   "metadata": {
    "slideshow": {
     "slide_type": "slide"
    }
   },
   "source": [
    "Todavía no entraremos en el reconocimiento facial, pero veamos un ejemplo más simple, solo con fines ilustrativos:"
   ]
  },
  {
   "cell_type": "code",
   "execution_count": null,
   "id": "94c53fb6",
   "metadata": {
    "slideshow": {
     "slide_type": "slide"
    }
   },
   "outputs": [],
   "source": [
    "%%time \n",
    "\n",
    "from sklearn.neighbors import KNeighborsClassifier\n",
    "y_train_large = (y_train >= 7)\n",
    "y_train_odd = (y_train % 2 == 1)\n",
    "y_multilabel = np.c_[y_train_large, y_train_odd]\n",
    "knn_clf = KNeighborsClassifier()"
   ]
  },
  {
   "cell_type": "code",
   "execution_count": null,
   "id": "fdf9cd80",
   "metadata": {
    "slideshow": {
     "slide_type": "slide"
    }
   },
   "outputs": [],
   "source": [
    "knn_clf.fit(X_train, y_multilabel) "
   ]
  },
  {
   "cell_type": "markdown",
   "id": "e3ccee50",
   "metadata": {
    "slideshow": {
     "slide_type": "slide"
    }
   },
   "source": [
    "Este código crea una matriz `y_multilabel` que contiene dos etiquetas objetivo para cada imagen de dígito: \n",
    "\n",
    "* la primera indica si el dígito es grande o no (7, 8 o 9) y \n",
    "* la segunda indica si es impar o no."
   ]
  },
  {
   "cell_type": "markdown",
   "id": "0a9f176e",
   "metadata": {
    "slideshow": {
     "slide_type": "slide"
    }
   },
   "source": [
    "Las siguientes líneas crean una instancia de `KNeighborsClassifier` (que admite clasificación multietiqueta, aunque no todos los clasificadores lo hacen), y la entrenamos usando la matriz de objetivos múltiples."
   ]
  },
  {
   "cell_type": "markdown",
   "id": "c5084f01",
   "metadata": {
    "slideshow": {
     "slide_type": "slide"
    }
   },
   "source": [
    "Ahora puede hacer una predicción y notar que genera dos etiquetas:"
   ]
  },
  {
   "cell_type": "code",
   "execution_count": null,
   "id": "48203d41",
   "metadata": {
    "slideshow": {
     "slide_type": "slide"
    }
   },
   "outputs": [],
   "source": [
    "knn_clf.predict([X[0,:]]) "
   ]
  },
  {
   "cell_type": "markdown",
   "id": "c64143bc",
   "metadata": {
    "slideshow": {
     "slide_type": "slide"
    }
   },
   "source": [
    "¡Y lo hace bien! De hecho, el dígito 5 no es grande (Falso) e impar (Verdadero)."
   ]
  },
  {
   "cell_type": "markdown",
   "id": "9091ba57",
   "metadata": {
    "slideshow": {
     "slide_type": "slide"
    }
   },
   "source": [
    "Hay muchas formas de evaluar un clasificador de etiquetas múltiples, y seleccionar la métrica correcta realmente depende de su proyecto."
   ]
  },
  {
   "cell_type": "markdown",
   "id": "ee6fef9f",
   "metadata": {
    "slideshow": {
     "slide_type": "slide"
    }
   },
   "source": [
    "Un enfoque es medir la puntuación $F_{1}$ para cada etiqueta individual (o cualquier otra métrica de clasificador binario discutida anteriormente), luego simplemente calcular la puntuación promedio."
   ]
  },
  {
   "cell_type": "markdown",
   "id": "c728fdda",
   "metadata": {
    "slideshow": {
     "slide_type": "slide"
    }
   },
   "source": [
    "Este código calcula la puntuación media $F_{1}$ en todas las etiquetas:"
   ]
  },
  {
   "cell_type": "code",
   "execution_count": null,
   "id": "5805daa5",
   "metadata": {
    "slideshow": {
     "slide_type": "slide"
    }
   },
   "outputs": [],
   "source": [
    "%%time \n",
    "\n",
    "from sklearn.metrics import f1_score \n",
    "y_train_knn_pred = cross_val_predict(knn_clf, X_train, y_multilabel, cv=3)\n",
    "f1_score(y_multilabel, y_train_knn_pred, average=\"macro\")"
   ]
  },
  {
   "cell_type": "markdown",
   "id": "fe16967b",
   "metadata": {
    "slideshow": {
     "slide_type": "slide"
    }
   },
   "source": [
    "Sin embargo, esto supone que todas las etiquetas son igualmente importantes, lo que puede no ser el caso."
   ]
  },
  {
   "cell_type": "markdown",
   "id": "ff121972",
   "metadata": {
    "slideshow": {
     "slide_type": "slide"
    }
   },
   "source": [
    "En particular, si tiene muchas más imágenes de Alicia que de Bob o Charlie, es posible que desee dar más peso a la puntuación del clasificador en las imágenes de Alicia."
   ]
  },
  {
   "cell_type": "markdown",
   "id": "c29c7594",
   "metadata": {
    "slideshow": {
     "slide_type": "slide"
    }
   },
   "source": [
    "Una opción simple es dar a cada etiqueta un peso igual a su soporte (es decir, el número de instancias con esa etiqueta de destino)."
   ]
  },
  {
   "cell_type": "markdown",
   "id": "37462280",
   "metadata": {
    "slideshow": {
     "slide_type": "slide"
    }
   },
   "source": [
    "Para hacer esto, simplemente establezca promedio=\"ponderado\" en el código anterior."
   ]
  },
  {
   "cell_type": "markdown",
   "id": "b918846d",
   "metadata": {
    "slideshow": {
     "slide_type": "slide"
    }
   },
   "source": [
    "## Clasificación multisalida"
   ]
  },
  {
   "cell_type": "markdown",
   "id": "a6c5c120",
   "metadata": {
    "slideshow": {
     "slide_type": "slide"
    }
   },
   "source": [
    "El último tipo de tarea de clasificación que vamos a discutir aquí se llama clasificación multisalida-multiclase (o simplemente clasificación multisalida)."
   ]
  },
  {
   "cell_type": "markdown",
   "id": "419374d6",
   "metadata": {
    "slideshow": {
     "slide_type": "slide"
    }
   },
   "source": [
    "Es simplemente una generalización de la clasificación multietiqueta donde cada etiqueta puede ser multiclase (es decir, puede tener más de dos valores posibles)."
   ]
  },
  {
   "cell_type": "markdown",
   "id": "33cb3954",
   "metadata": {
    "slideshow": {
     "slide_type": "slide"
    }
   },
   "source": [
    "Para ilustrar esto, construyamos un sistema que elimine el ruido de las imágenes."
   ]
  },
  {
   "cell_type": "markdown",
   "id": "dcb616fe",
   "metadata": {
    "slideshow": {
     "slide_type": "slide"
    }
   },
   "source": [
    "Tomará como entrada una imagen de dígito ruidosa y (con suerte) generará una imagen de dígito limpia, representada como una matriz de intensidades de píxeles, al igual que las imágenes MNIST."
   ]
  },
  {
   "cell_type": "markdown",
   "id": "262bfc95",
   "metadata": {
    "slideshow": {
     "slide_type": "slide"
    }
   },
   "source": [
    "Tenga en cuenta que la salida del clasificador es multietiqueta (una etiqueta por píxel) y cada etiqueta puede tener múltiples valores (la intensidad de píxel varía de 0 a 255)."
   ]
  },
  {
   "cell_type": "markdown",
   "id": "16ba23b3",
   "metadata": {
    "slideshow": {
     "slide_type": "slide"
    }
   },
   "source": [
    "Por lo tanto, es un ejemplo de un sistema de clasificación de múltiples salidas."
   ]
  },
  {
   "cell_type": "markdown",
   "id": "56410c49",
   "metadata": {
    "slideshow": {
     "slide_type": "slide"
    }
   },
   "source": [
    "### NOTE"
   ]
  },
  {
   "cell_type": "markdown",
   "id": "acecd92d",
   "metadata": {
    "slideshow": {
     "slide_type": "slide"
    }
   },
   "source": [
    "La línea entre clasificación y regresión a veces es borrosa, como en este ejemplo."
   ]
  },
  {
   "cell_type": "markdown",
   "id": "e3600205",
   "metadata": {
    "slideshow": {
     "slide_type": "slide"
    }
   },
   "source": [
    "Podría decirse que predecir la intensidad de los píxeles es más parecido a una regresión que a una clasificación."
   ]
  },
  {
   "cell_type": "markdown",
   "id": "223e60e1",
   "metadata": {
    "slideshow": {
     "slide_type": "slide"
    }
   },
   "source": [
    "Además, los sistemas multisalida no se limitan a tareas de clasificación; incluso podría tener un sistema que genere varias etiquetas por instancia, incluidas las etiquetas de clase y las etiquetas de valor."
   ]
  },
  {
   "cell_type": "markdown",
   "id": "4c2e3f95",
   "metadata": {
    "slideshow": {
     "slide_type": "slide"
    }
   },
   "source": [
    "Comencemos creando los conjuntos de entrenamiento y prueba tomando las imágenes MNIST y agregando ruido a sus intensidades de píxeles con la función `randint()` de NumPy."
   ]
  },
  {
   "cell_type": "markdown",
   "id": "c7cbe817",
   "metadata": {
    "slideshow": {
     "slide_type": "slide"
    }
   },
   "source": [
    "Las imágenes de destino serán las imágenes originales:"
   ]
  },
  {
   "cell_type": "code",
   "execution_count": null,
   "id": "d6c8c5d6",
   "metadata": {
    "slideshow": {
     "slide_type": "slide"
    }
   },
   "outputs": [],
   "source": [
    "%%time \n",
    "\n",
    "import numpy as np \n",
    "noise = np.random.randint(0, 150, (len(X_train), 784))\n",
    "X_train_mod = X_train + noise\n",
    "noise = np.random.randint(0, 150, (len(X_test), 784))\n",
    "X_test_mod = X_test + noise\n",
    "y_train_mod = X_train\n",
    "y_test_mod = X_test"
   ]
  },
  {
   "cell_type": "markdown",
   "id": "4318e6ac",
   "metadata": {
    "slideshow": {
     "slide_type": "slide"
    }
   },
   "source": [
    "Echemos un vistazo a una imagen del conjunto de prueba (sí, estamos husmeando en los datos de prueba, por lo que debería estar frunciendo el ceño en este momento):\n"
   ]
  },
  {
   "cell_type": "markdown",
   "id": "bd76f7f2",
   "metadata": {
    "slideshow": {
     "slide_type": "slide"
    }
   },
   "source": [
    "A la izquierda está la imagen de entrada ruidosa y a la derecha está la imagen de destino limpia."
   ]
  },
  {
   "cell_type": "code",
   "execution_count": null,
   "id": "4b249070",
   "metadata": {
    "slideshow": {
     "slide_type": "slide"
    }
   },
   "outputs": [],
   "source": [
    "fig,ax = plt.subplots(1,2, figsize = (12,6))\n",
    "\n",
    "ax[0].imshow(X_train_mod[2].reshape(28,28), cmap = 'binary')\n",
    "ax[1].imshow(X_train[2].reshape(28,28), cmap = 'binary')\n",
    "\n",
    "plt.show() "
   ]
  },
  {
   "cell_type": "markdown",
   "id": "92a80602",
   "metadata": {
    "slideshow": {
     "slide_type": "slide"
    }
   },
   "source": [
    "Ahora entrenemos el clasificador y hagamos que limpie esta imagen:"
   ]
  },
  {
   "cell_type": "code",
   "execution_count": null,
   "id": "15d3a103",
   "metadata": {
    "slideshow": {
     "slide_type": "slide"
    }
   },
   "outputs": [],
   "source": [
    "%%time  \n",
    "\n",
    "knn_clf.fit(X_train_mod, y_train_mod)"
   ]
  },
  {
   "cell_type": "code",
   "execution_count": null,
   "id": "f2ff5e4b",
   "metadata": {
    "slideshow": {
     "slide_type": "slide"
    }
   },
   "outputs": [],
   "source": [
    "%%time \n",
    "\n",
    "clean_digit = knn_clf.predict([X_train_mod[2]])"
   ]
  },
  {
   "cell_type": "code",
   "execution_count": null,
   "id": "b4f5e8cc",
   "metadata": {
    "slideshow": {
     "slide_type": "slide"
    }
   },
   "outputs": [],
   "source": [
    "plot_digit(clean_digit)"
   ]
  },
  {
   "cell_type": "markdown",
   "id": "f8173666",
   "metadata": {
    "slideshow": {
     "slide_type": "slide"
    }
   },
   "source": [
    "¡Parece lo suficientemente cerca del objetivo! Con esto concluye nuestro recorrido de clasificación."
   ]
  },
  {
   "cell_type": "markdown",
   "id": "85f033f9",
   "metadata": {
    "slideshow": {
     "slide_type": "slide"
    }
   },
   "source": [
    "Ahora debe saber cómo:  \n",
    "\n",
    "* seleccionar buenas métricas para las tareas de clasificación, \n",
    "* elegir la compensación adecuada de precisión/recuperación, \n",
    "* comparar clasificadores y, en general, \n",
    "* crear buenos sistemas de clasificación para una variedad de tareas."
   ]
  },
  {
   "cell_type": "markdown",
   "id": "62839e06",
   "metadata": {
    "slideshow": {
     "slide_type": "slide"
    }
   },
   "source": [
    "## Exercises"
   ]
  },
  {
   "cell_type": "markdown",
   "id": "f91bf90c",
   "metadata": {
    "slideshow": {
     "slide_type": "slide"
    }
   },
   "source": [
    "1. Intente crear un clasificador para el conjunto de datos MNIST que logre una precisión superior al 97 % en el conjunto de prueba.\n",
    "\n",
    "Sugerencia: [KNeighborsClassifier](https://scikit-learn.org/stable/modules/generated/sklearn.neighbors.KNeighborsClassifier.html) funciona bastante bien para esta tarea; solo necesita encontrar buenos valores de hiperparámetros (pruebe una búsqueda de cuadrícula en los hiperparámetros `weights` y `n_neighbors`).\n",
    "\n",
    "\n"
   ]
  },
  {
   "cell_type": "markdown",
   "id": "c684eaf5",
   "metadata": {
    "slideshow": {
     "slide_type": "slide"
    }
   },
   "source": [
    "## Solución: "
   ]
  },
  {
   "cell_type": "code",
   "execution_count": null,
   "id": "6d4e0116",
   "metadata": {
    "slideshow": {
     "slide_type": "slide"
    }
   },
   "outputs": [],
   "source": [
    "from sklearn.neighbors import KNeighborsClassifier "
   ]
  },
  {
   "cell_type": "code",
   "execution_count": null,
   "id": "cd0aa238",
   "metadata": {
    "slideshow": {
     "slide_type": "slide"
    }
   },
   "outputs": [],
   "source": [
    "param_grid = [\n",
    "    {'weights':[10**(-1), ], 'n_neighbors':[1,2,3,4,5,6,7,8,9,10]}\n",
    "]"
   ]
  },
  {
   "cell_type": "markdown",
   "id": "2ec18245",
   "metadata": {
    "slideshow": {
     "slide_type": "slide"
    }
   },
   "source": [
    "2. Escriba una función que pueda desplazar una imagen MNIST en cualquier dirección (izquierda, derecha, arriba o abajo) en un píxel.\n",
    "\n",
    "Luego, para cada imagen en el conjunto de entrenamiento, cree cuatro copias desplazadas (una por dirección) y agréguelas al conjunto de entrenamiento.\n",
    "\n",
    "Finalmente, entrene a su mejor modelo en este conjunto de entrenamiento ampliado y mida su precisión en el conjunto de prueba.\n",
    "\n",
    "¡Debe observar que su modelo funciona aún mejor ahora!\n",
    "\n",
    "Esta técnica de hacer crecer artificialmente el conjunto de entrenamiento se denomina aumento de datos o expansión del conjunto de entrenamiento."
   ]
  },
  {
   "cell_type": "markdown",
   "id": "a47a4b4e",
   "metadata": {
    "slideshow": {
     "slide_type": "slide"
    }
   },
   "source": [
    "3. Aborde el conjunto de datos del Titanic. Un gran lugar para comenzar es Kaggle."
   ]
  },
  {
   "cell_type": "markdown",
   "id": "22b321c7",
   "metadata": {
    "slideshow": {
     "slide_type": "slide"
    }
   },
   "source": [
    "4. Cree un clasificador de spam (un ejercicio más desafiante):\n",
    "\n",
    "Descargar ejemplos de spam y ham de Apache\n",
    "Conjuntos de datos públicos de SpamAssassin.\n",
    "\n",
    "Descomprima los conjuntos de datos y familiarícese con los datos\n",
    "formato.\n",
    "\n",
    "Divida los conjuntos de datos en un conjunto de entrenamiento y un conjunto de prueba.\n",
    "\n",
    "Escriba una canalización de preparación de datos para convertir cada correo electrónico en un vector de funciones. Su proceso de preparación debe transformar un correo electrónico en un vector (escaso) que indique la presencia o ausencia de cada palabra posible.\n",
    "\n",
    "Por ejemplo, si todos los correos electrónicos solo contienen cuatro palabras, \"Hola\", \"cómo\",\n",
    "“eres”, “tú”, entonces el correo electrónico “Hola, hola, hola, tú” se convertiría en un vector [1, 0, 0, 1] (es decir, [“Hola” está presente, “cómo” está ausente, “son ” está ausente, “usted” está presente]), o [3, 0, 0, 2] si prefiere contar el número de apariciones de cada palabra."
   ]
  },
  {
   "cell_type": "markdown",
   "id": "d7f22d89",
   "metadata": {
    "slideshow": {
     "slide_type": "slide"
    }
   },
   "source": [
    "You may want to add hyperparameters to your preparation pipeline to control whether or not to strip off email headers, convert each email to lowercase, remove punctuation, replace all URLs with “URL,” replace all numbers with “NUMBER,” or even perform stemming (i.e., trim off word endings; there are Python libraries available to do this).  "
   ]
  },
  {
   "cell_type": "markdown",
   "id": "ccf81dba",
   "metadata": {
    "slideshow": {
     "slide_type": "slide"
    }
   },
   "source": [
    "Finally, try out several classifiers and see if you can build a great spam classifier, with both high recall and high precision.  "
   ]
  },
  {
   "cell_type": "markdown",
   "id": "83d26557",
   "metadata": {
    "slideshow": {
     "slide_type": "slide"
    }
   },
   "source": [
    "Las soluciones a estos ejercicios se pueden encontrar en los cuadernos Jupyter disponibles en: https://github.com/ageron/handson-ml3."
   ]
  },
  {
   "cell_type": "code",
   "execution_count": null,
   "id": "f7aaaa1e",
   "metadata": {},
   "outputs": [],
   "source": []
  },
  {
   "cell_type": "markdown",
   "id": "249e6fa4",
   "metadata": {
    "slideshow": {
     "slide_type": "slide"
    }
   },
   "source": [
    "## Referentes  \n",
    "\n",
    "* La maquina de soporte vectorial para clasificación multiclase: https://scikit-learn.org/stable/modules/generated/sklearn.svm.SVC.html  \n",
    "\n"
   ]
  },
  {
   "cell_type": "code",
   "execution_count": null,
   "id": "f9d224db",
   "metadata": {},
   "outputs": [],
   "source": []
  }
 ],
 "metadata": {
  "celltoolbar": "Slideshow",
  "kernelspec": {
   "display_name": "Python 3 (ipykernel)",
   "language": "python",
   "name": "python3"
  },
  "language_info": {
   "codemirror_mode": {
    "name": "ipython",
    "version": 3
   },
   "file_extension": ".py",
   "mimetype": "text/x-python",
   "name": "python",
   "nbconvert_exporter": "python",
   "pygments_lexer": "ipython3",
   "version": "3.9.7"
  },
  "rise": {
   "enable_chalkboard": true,
   "theme": "sky",
   "transition": "zoom"
  }
 },
 "nbformat": 4,
 "nbformat_minor": 5
}
