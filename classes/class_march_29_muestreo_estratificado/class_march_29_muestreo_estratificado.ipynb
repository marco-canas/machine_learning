{
 "cells": [
  {
   "cell_type": "markdown",
   "id": "23d264a1",
   "metadata": {
    "slideshow": {
     "slide_type": "slide"
    }
   },
   "source": [
    "<table align=\"left\">\n",
    "  <td>\n",
    "    <a href=\"https://colab.research.google.com/github/marco-canas/Machine-Learning/blob/main/ML/classes/class_march_3/class_march_3.ipynb\" target=\"_parent\"><img src=\"https://colab.research.google.com/assets/colab-badge.svg\" alt=\"Open In Colab\"/></a>\n",
    "  </td>\n",
    "</table>"
   ]
  },
  {
   "cell_type": "markdown",
   "id": "f2e7ce63",
   "metadata": {
    "slideshow": {
     "slide_type": "slide"
    }
   },
   "source": [
    "# Clase de Marzo 29 sobre Muestreo estratificado"
   ]
  },
  {
   "cell_type": "markdown",
   "id": "6769cfcf",
   "metadata": {
    "slideshow": {
     "slide_type": "slide"
    }
   },
   "source": [
    "Scikit-Learn proporciona algunas funciones para dividir conjuntos de datos en múltiples subconjuntos de varias maneras. "
   ]
  },
  {
   "cell_type": "markdown",
   "id": "a538e4c4",
   "metadata": {
    "slideshow": {
     "slide_type": "slide"
    }
   },
   "source": [
    "La función más simple es `train_test_split()`, que hace más o menos lo mismo que la función `split_train_test()`, con un par de características adicionales."
   ]
  },
  {
   "cell_type": "markdown",
   "id": "db19010e",
   "metadata": {
    "slideshow": {
     "slide_type": "slide"
    }
   },
   "source": [
    "Primero, hay un parámetro `random_state` que le permite establecer la semilla del generador aleatorio."
   ]
  },
  {
   "cell_type": "markdown",
   "id": "651f48a2",
   "metadata": {
    "slideshow": {
     "slide_type": "slide"
    }
   },
   "source": [
    "En segundo lugar, puede pasarle varios conjuntos de datos con un número idéntico de filas y los dividirá en los mismos índices (esto es muy útil, por ejemplo, si tiene un marco de datos separado para las etiquetas):"
   ]
  },
  {
   "cell_type": "code",
   "execution_count": 1,
   "id": "1a29a202",
   "metadata": {
    "slideshow": {
     "slide_type": "slide"
    }
   },
   "outputs": [],
   "source": [
    "import numpy as np \n",
    "import pandas as pd \n",
    "v = pd.read_csv('vivienda.csv') "
   ]
  },
  {
   "cell_type": "code",
   "execution_count": 2,
   "id": "ff6277b8",
   "metadata": {
    "slideshow": {
     "slide_type": "slide"
    }
   },
   "outputs": [],
   "source": [
    "from sklearn.model_selection import train_test_split\n",
    "train_set, test_set = train_test_split(v, test_size=0.2, random_state=42)\n"
   ]
  },
  {
   "cell_type": "markdown",
   "id": "ac980221",
   "metadata": {
    "slideshow": {
     "slide_type": "slide"
    }
   },
   "source": [
    "Hasta ahora hemos considerado métodos de muestreo puramente aleatorios."
   ]
  },
  {
   "cell_type": "markdown",
   "id": "3d84560f",
   "metadata": {
    "slideshow": {
     "slide_type": "slide"
    }
   },
   "source": [
    "Esto generalmente está bien si su conjunto de datos es lo suficientemente grande (especialmente en relación con la cantidad de atributos), pero si no lo es, corre el riesgo de introducir un **sesgo de muestreo significativo**. "
   ]
  },
  {
   "cell_type": "markdown",
   "id": "3859787f",
   "metadata": {
    "slideshow": {
     "slide_type": "slide"
    }
   },
   "source": [
    "Cuando una empresa de encuestas decide llamar a 1000 personas para hacerles algunas preguntas, no elige a 1000 personas al azar en una guía telefónica. "
   ]
  },
  {
   "cell_type": "markdown",
   "id": "c2f08460",
   "metadata": {
    "slideshow": {
     "slide_type": "slide"
    }
   },
   "source": [
    "Intentan asegurarse de que estas 1.000 personas sean representativas de toda la población. "
   ]
  },
  {
   "cell_type": "markdown",
   "id": "15431067",
   "metadata": {
    "slideshow": {
     "slide_type": "slide"
    }
   },
   "source": [
    "Por ejemplo, la población de EE. UU. es 51,3 % de mujeres y 48,7 % de hombres, por lo que una encuesta bien realizada en EE. UU. intentaría mantener esta proporción en la muestra: 513 mujeres y 487 hombres."
   ]
  },
  {
   "cell_type": "markdown",
   "id": "9f5f2402",
   "metadata": {
    "slideshow": {
     "slide_type": "slide"
    }
   },
   "source": [
    "Esto se denomina muestreo estratificado:  \n",
    "\n",
    "* la población se divide en subgrupos homogéneos llamados **estratos**, \n",
    "* y se **muestrea** el número correcto de instancias de cada estrato para garantizar que el conjunto de prueba sea representativo de la población general."
   ]
  },
  {
   "cell_type": "markdown",
   "id": "629f335b",
   "metadata": {
    "slideshow": {
     "slide_type": "slide"
    }
   },
   "source": [
    "Si las personas que realizan la encuesta usaran un muestreo puramente aleatorio, habría alrededor de un 12 % de posibilidades de muestrear un conjunto de prueba sesgado que tuviera menos del 49 % de mujeres o más del 54 % de mujeres."
   ]
  },
  {
   "cell_type": "markdown",
   "id": "c87b1fad",
   "metadata": {
    "slideshow": {
     "slide_type": "slide"
    }
   },
   "source": [
    "Either way, the survey results would be significantly biased."
   ]
  },
  {
   "cell_type": "markdown",
   "id": "1bee9696",
   "metadata": {
    "slideshow": {
     "slide_type": "slide"
    }
   },
   "source": [
    "Suppose you chatted with experts who told you that the median income is a very important attribute to predict median housing prices. "
   ]
  },
  {
   "cell_type": "markdown",
   "id": "b45be2b2",
   "metadata": {
    "slideshow": {
     "slide_type": "slide"
    }
   },
   "source": [
    "You may want to ensure that the test set is representative of the various categories of incomes in the whole dataset. "
   ]
  },
  {
   "cell_type": "markdown",
   "id": "9543b60b",
   "metadata": {
    "slideshow": {
     "slide_type": "slide"
    }
   },
   "source": [
    "Since the median income is a continuous numerical attribute, you first need to create an income category attribute. "
   ]
  },
  {
   "cell_type": "markdown",
   "id": "248b5ce5",
   "metadata": {
    "slideshow": {
     "slide_type": "slide"
    }
   },
   "source": [
    "Let’s look at the median income histogram more closely (back in Figure 2-8): most median income values are clustered around 1.5 to 6 (i.e., $15,000–$60,000), but some median incomes go far beyond 6. "
   ]
  },
  {
   "cell_type": "markdown",
   "id": "aed62d43",
   "metadata": {
    "slideshow": {
     "slide_type": "slide"
    }
   },
   "source": [
    "It is important to have a sufficient number of instances in your dataset for each stratum, or else the estimate of a stratum’s importance may be biased. "
   ]
  },
  {
   "cell_type": "markdown",
   "id": "66c010a2",
   "metadata": {
    "slideshow": {
     "slide_type": "slide"
    }
   },
   "source": [
    "This means that you should not have too many strata, and each stratum should be large enough. "
   ]
  },
  {
   "cell_type": "markdown",
   "id": "aaefecd4",
   "metadata": {
    "slideshow": {
     "slide_type": "slide"
    }
   },
   "source": [
    "The following code uses the `pd.cut()` function to create an income category attribute with five categories (labeled from 1 to 5): category 1 ranges from 0 to 1.5 (i.e., less than $15,000), category 2 from 1.5 to 3, and so on:"
   ]
  },
  {
   "cell_type": "code",
   "execution_count": 4,
   "id": "7546a9ac",
   "metadata": {
    "slideshow": {
     "slide_type": "slide"
    }
   },
   "outputs": [],
   "source": [
    "v[\"ingresos_cat\"] = pd.cut(v[\"ingresos\"], bins=[0., 1.5, 3.0, 4.5, 6., np.inf],\\\n",
    "                           labels=[1, 2, 3, 4, 5])"
   ]
  },
  {
   "cell_type": "markdown",
   "id": "b4ab6b33",
   "metadata": {
    "slideshow": {
     "slide_type": "slide"
    }
   },
   "source": [
    "These income categories are represented in Figure 2-9:"
   ]
  },
  {
   "cell_type": "code",
   "execution_count": 5,
   "id": "a33ace40",
   "metadata": {
    "slideshow": {
     "slide_type": "slide"
    }
   },
   "outputs": [
    {
     "data": {
      "text/plain": [
       "<AxesSubplot:>"
      ]
     },
     "execution_count": 5,
     "metadata": {},
     "output_type": "execute_result"
    },
    {
     "data": {
      "image/png": "[encoded data removed]",
      "text/plain": [
       "<Figure size 432x288 with 1 Axes>"
      ]
     },
     "metadata": {
      "needs_background": "light"
     },
     "output_type": "display_data"
    }
   ],
   "source": [
    "v[\"ingresos_cat\"].hist()"
   ]
  },
  {
   "cell_type": "markdown",
   "id": "881a27ea",
   "metadata": {
    "slideshow": {
     "slide_type": "slide"
    }
   },
   "source": [
    "Now you are ready to do stratified sampling based on the income category. "
   ]
  },
  {
   "cell_type": "markdown",
   "id": "84875c9c",
   "metadata": {
    "slideshow": {
     "slide_type": "slide"
    }
   },
   "source": [
    "For this you can use Scikit-Learn’s StratifiedShuffleSplit class:"
   ]
  },
  {
   "cell_type": "code",
   "execution_count": 6,
   "id": "7ea971af",
   "metadata": {
    "slideshow": {
     "slide_type": "slide"
    }
   },
   "outputs": [],
   "source": [
    "from sklearn.model_selection import StratifiedShuffleSplit\n"
   ]
  },
  {
   "cell_type": "code",
   "execution_count": 7,
   "id": "755f6613",
   "metadata": {
    "slideshow": {
     "slide_type": "slide"
    }
   },
   "outputs": [],
   "source": [
    "sss = StratifiedShuffleSplit(n_splits=1, test_size=0.2, random_state=42)"
   ]
  },
  {
   "cell_type": "code",
   "execution_count": 8,
   "id": "f1b0d7fb",
   "metadata": {
    "slideshow": {
     "slide_type": "slide"
    }
   },
   "outputs": [],
   "source": [
    "for train_index, test_index in sss.split(v, v[\"ingresos_cat\"]):\n",
    "    strat_train_set = v.loc[train_index]\n",
    "    strat_test_set = v.loc[test_index]"
   ]
  },
  {
   "cell_type": "markdown",
   "id": "ae3cdb4e",
   "metadata": {
    "slideshow": {
     "slide_type": "slide"
    }
   },
   "source": [
    "Veamos si esto funcionó como se esperaba. "
   ]
  },
  {
   "cell_type": "markdown",
   "id": "6314ff7a",
   "metadata": {
    "slideshow": {
     "slide_type": "slide"
    }
   },
   "source": [
    "Puede comenzar observando las proporciones de las categorías de ingresos en el conjunto de prueba:"
   ]
  },
  {
   "cell_type": "code",
   "execution_count": 9,
   "id": "34478913",
   "metadata": {
    "slideshow": {
     "slide_type": "slide"
    }
   },
   "outputs": [
    {
     "data": {
      "text/plain": [
       "3    0.350533\n",
       "2    0.318798\n",
       "4    0.176357\n",
       "5    0.114583\n",
       "1    0.039729\n",
       "Name: ingresos_cat, dtype: float64"
      ]
     },
     "execution_count": 9,
     "metadata": {},
     "output_type": "execute_result"
    }
   ],
   "source": [
    " strat_test_set[\"ingresos_cat\"].value_counts() / len(strat_test_set)\n"
   ]
  },
  {
   "cell_type": "markdown",
   "id": "610b6ae5",
   "metadata": {
    "slideshow": {
     "slide_type": "slide"
    }
   },
   "source": [
    "With similar code you can measure the income category proportions in the full dataset. "
   ]
  },
  {
   "cell_type": "markdown",
   "id": "2f407f7a",
   "metadata": {
    "slideshow": {
     "slide_type": "slide"
    }
   },
   "source": [
    "Figure 2-10 compares the income category proportions in the overall\n",
    "dataset, in the test set generated with stratified sampling, and in a test set\n",
    "generated using purely random sampling. "
   ]
  },
  {
   "cell_type": "markdown",
   "id": "4877019d",
   "metadata": {
    "slideshow": {
     "slide_type": "slide"
    }
   },
   "source": [
    "As you can see, the test set generated\n",
    "using stratified sampling has income category proportions almost identical to\n",
    "those in the full dataset, whereas the test set generated using purely random\n",
    "sampling is skewed."
   ]
  },
  {
   "cell_type": "markdown",
   "id": "2e48e2f4",
   "metadata": {},
   "source": [
    "<img src = ''>"
   ]
  },
  {
   "cell_type": "code",
   "execution_count": null,
   "id": "6e4d5d40",
   "metadata": {
    "slideshow": {
     "slide_type": "slide"
    }
   },
   "outputs": [],
   "source": []
  },
  {
   "cell_type": "code",
   "execution_count": null,
   "id": "3069646c",
   "metadata": {
    "slideshow": {
     "slide_type": "slide"
    }
   },
   "outputs": [],
   "source": []
  },
  {
   "cell_type": "markdown",
   "id": "c6d9293f",
   "metadata": {
    "slideshow": {
     "slide_type": "slide"
    }
   },
   "source": [
    "## Referencias  \n",
    "\n",
    "* La clase StratifiedShuffleSplit: https://scikit-learn.org/stable/modules/generated/sklearn.model_selection.StratifiedShuffleSplit.html"
   ]
  },
  {
   "cell_type": "code",
   "execution_count": null,
   "id": "8c8fedff",
   "metadata": {},
   "outputs": [],
   "source": []
  }
 ],
 "metadata": {
  "celltoolbar": "Slideshow",
  "kernelspec": {
   "display_name": "Python 3 (ipykernel)",
   "language": "python",
   "name": "python3"
  },
  "language_info": {
   "codemirror_mode": {
    "name": "ipython",
    "version": 3
   },
   "file_extension": ".py",
   "mimetype": "text/x-python",
   "name": "python",
   "nbconvert_exporter": "python",
   "pygments_lexer": "ipython3",
   "version": "3.9.7"
  }
 },
 "nbformat": 4,
 "nbformat_minor": 5
}
