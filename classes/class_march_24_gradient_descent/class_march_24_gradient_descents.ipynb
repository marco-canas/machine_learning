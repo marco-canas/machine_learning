{
 "cells": [
  {
   "cell_type": "markdown",
   "id": "3065b8d0",
   "metadata": {
    "slideshow": {
     "slide_type": "slide"
    }
   },
   "source": [
    "<table align=\"left\">\n",
    "  <td>\n",
    "    <a href=\"https://colab.research.google.com/github/marco-canas/machine_learning/blob/main/classes/class_march_24_gradient_descent/class_march_24_gradient_descents.ipynb\" target=\"_parent\"><img src=\"https://colab.research.google.com/assets/colab-badge.svg\" alt=\"Open In Colab\"/></a>\n",
    "  </td>\n",
    "</table> "
   ]
  },
  {
   "cell_type": "markdown",
   "id": "afed556e",
   "metadata": {
    "slideshow": {
     "slide_type": "slide"
    }
   },
   "source": [
    "# Objetivo:\n",
    "\n",
    "* Presentar un criterio gráfico de comparación de modelos de clasificación. \n",
    "\n",
    "* Describir el algoritmo de gradiente descendente"
   ]
  },
  {
   "cell_type": "markdown",
   "id": "3d30f4b2",
   "metadata": {
    "slideshow": {
     "slide_type": "slide"
    }
   },
   "source": [
    "## The ROC Curve"
   ]
  },
  {
   "cell_type": "markdown",
   "id": "5743feff",
   "metadata": {
    "slideshow": {
     "slide_type": "slide"
    }
   },
   "source": [
    "La curva Característica de Operación del Receptor (ROC) es otra herramienta común utilizada con clasificadores binarios."
   ]
  },
  {
   "cell_type": "markdown",
   "id": "ab3ea2e4",
   "metadata": {
    "slideshow": {
     "slide_type": "slide"
    }
   },
   "source": [
    "Es muy similar a **la curva de precisión_vs_recuperación**, pero en lugar de trazar la precisión frente a la recuperación, la curva ROC presenta la tasa positiva verdadera (otro nombre para el recall) contra la tasa positiva falsa (FPR)."
   ]
  },
  {
   "cell_type": "markdown",
   "id": "ea07dcfc",
   "metadata": {
    "slideshow": {
     "slide_type": "slide"
    }
   },
   "source": [
    "La FPR es la proporción de instancias negativas que se clasifican incorrectamente como positivas. "
   ]
  },
  {
   "cell_type": "markdown",
   "id": "e8aeaab2",
   "metadata": {
    "slideshow": {
     "slide_type": "slide"
    }
   },
   "source": [
    "$$ FPR = \\frac{FP}{FP + TN} $$"
   ]
  },
  {
   "cell_type": "markdown",
   "id": "9a62bf5b",
   "metadata": {
    "slideshow": {
     "slide_type": "slide"
    }
   },
   "source": [
    "<img src = 'https://github.com/marco-canas/machine_learning/blob/main/classes/class_march_22_precision_recall/figura_3_2_clasificacion_binaria_matriz_confusion.jpg?raw=true'>"
   ]
  },
  {
   "cell_type": "markdown",
   "id": "4feaca37",
   "metadata": {
    "slideshow": {
     "slide_type": "slide"
    }
   },
   "source": [
    "Para trazar la curva ROC, primero use la función `roc_curve()` para calcular el TPR y el FPR para varios valores de umbral:"
   ]
  },
  {
   "cell_type": "code",
   "execution_count": 1,
   "id": "326a712e",
   "metadata": {
    "slideshow": {
     "slide_type": "slide"
    }
   },
   "outputs": [
    {
     "name": "stdout",
     "output_type": "stream",
     "text": [
      "Wall time: 57.1 s\n"
     ]
    },
    {
     "data": {
      "text/plain": [
       "SGDClassifier(random_state=42)"
      ]
     },
     "execution_count": 1,
     "metadata": {},
     "output_type": "execute_result"
    }
   ],
   "source": [
    "%%time \n",
    "\n",
    "import numpy as np \n",
    "from sklearn.datasets import fetch_openml\n",
    "mnist = fetch_openml('mnist_784', version = 1, as_frame = False) \n",
    "X,y = mnist['data'], mnist['target'] \n",
    "y = y.astype(np.int64) \n",
    "X_train, X_test, y_train, y_test = X[:60_000], X[60_000:], \\\n",
    "                                   y[:60_000], y[60_000:]\n",
    "y_train_5 = (y_train==5)\n",
    "y_test_5 = (y_test==5)\n",
    "from sklearn.linear_model import SGDClassifier\n",
    "sgd_clf = SGDClassifier(max_iter = 1000, tol = 1e-3, random_state = 42) \n",
    "sgd_clf.fit(X_train, y_train_5) "
   ]
  },
  {
   "cell_type": "code",
   "execution_count": 2,
   "id": "a15cc6c5",
   "metadata": {
    "slideshow": {
     "slide_type": "slide"
    }
   },
   "outputs": [
    {
     "name": "stdout",
     "output_type": "stream",
     "text": [
      "Wall time: 37.5 s\n"
     ]
    }
   ],
   "source": [
    "%%time \n",
    "\n",
    "from sklearn.model_selection import cross_val_predict\n",
    "\n",
    "y_scores = cross_val_predict(sgd_clf, X_train, y_train_5, cv = 3, method = 'decision_function')"
   ]
  },
  {
   "cell_type": "code",
   "execution_count": 3,
   "id": "2559a57b",
   "metadata": {
    "slideshow": {
     "slide_type": "slide"
    }
   },
   "outputs": [],
   "source": [
    "from sklearn.metrics import roc_curve\n",
    "fpr, tpr, thresholds = roc_curve(y_train_5, y_scores)"
   ]
  },
  {
   "cell_type": "markdown",
   "id": "4bf4345f",
   "metadata": {
    "slideshow": {
     "slide_type": "slide"
    }
   },
   "source": [
    "Luego, puede trazar el FPR contra el TPR utilizando MATPLOTLIB."
   ]
  },
  {
   "cell_type": "markdown",
   "id": "b52e2947",
   "metadata": {
    "slideshow": {
     "slide_type": "slide"
    }
   },
   "source": [
    "Este código produce el gráfico de la Figura 3-6:"
   ]
  },
  {
   "cell_type": "code",
   "execution_count": 4,
   "id": "450d7493",
   "metadata": {
    "slideshow": {
     "slide_type": "slide"
    }
   },
   "outputs": [
    {
     "data": {
      "image/png": "[encoded data removed]",
      "text/plain": [
       "<Figure size 432x288 with 1 Axes>"
      ]
     },
     "metadata": {
      "needs_background": "light"
     },
     "output_type": "display_data"
    }
   ],
   "source": [
    "import matplotlib.pyplot as plt \n",
    "\n",
    "def plot_roc_curve(fpr, tpr, label=None):\n",
    "    plt.plot(fpr, tpr, linewidth=2, label=label)\n",
    "    plt.plot([0, 1], [0, 1], 'k--') # Dashed diagonal\n",
    "    [...] # Add axis labels and grid\n",
    "    plt.axis([-0.1,1.1,-0.1,1.1])\n",
    "plot_roc_curve(fpr, tpr)\n",
    "plt.show()"
   ]
  },
  {
   "cell_type": "markdown",
   "id": "598f81e3",
   "metadata": {
    "slideshow": {
     "slide_type": "slide"
    }
   },
   "source": [
    "Una vez más, hay una compensación: \n",
    "\n",
    "* cuanto mayor sea el (FPR) , mayor será la cantidad de falsos  positivos (TPR) que produce el clasificador."
   ]
  },
  {
   "cell_type": "markdown",
   "id": "e248e138",
   "metadata": {
    "slideshow": {
     "slide_type": "slide"
    }
   },
   "source": [
    "* La línea de puntos representa la curva ROC de un clasificador puramente aleatorio;   \n",
    "\n",
    "* Un buen clasificador permanece tan lejos de esa línea como sea posible (hacia la esquina superior izquierda)."
   ]
  },
  {
   "cell_type": "markdown",
   "id": "68e7b3ca",
   "metadata": {
    "slideshow": {
     "slide_type": "slide"
    }
   },
   "source": [
    "Una forma de comparar los clasificadores es medir el área debajo de la curva (AUC)."
   ]
  },
  {
   "cell_type": "markdown",
   "id": "7bf141e9",
   "metadata": {
    "slideshow": {
     "slide_type": "slide"
    }
   },
   "source": [
    "* Un clasificador perfecto tendrá un AUC ROC igual a 1, \n",
    "\n",
    "* mientras que un clasificador puramente aleatorio tendrá un AUC ROC igual a 0.5. "
   ]
  },
  {
   "cell_type": "markdown",
   "id": "f82402ce",
   "metadata": {
    "slideshow": {
     "slide_type": "slide"
    }
   },
   "source": [
    "Scikit-Learn proporciona una función para calcular el ROC AUC:"
   ]
  },
  {
   "cell_type": "markdown",
   "id": "889c3369",
   "metadata": {
    "slideshow": {
     "slide_type": "slide"
    }
   },
   "source": [
    "## Sugerencia "
   ]
  },
  {
   "cell_type": "markdown",
   "id": "6248a0b1",
   "metadata": {
    "slideshow": {
     "slide_type": "slide"
    }
   },
   "source": [
    "Dado que la curva ROC es tan similar a la curva de precisión/recuerdo (PR), puede preguntarse cómo decidir cuál usar."
   ]
  },
  {
   "cell_type": "markdown",
   "id": "8843a581",
   "metadata": {
    "slideshow": {
     "slide_type": "slide"
    }
   },
   "source": [
    "* Como regla general, debe preferir la curva de PR siempre que la clase positiva sea rara o \n",
    "\n",
    "* cuando se preocupe más por los falsos positivos que los falsos negativos."
   ]
  },
  {
   "cell_type": "markdown",
   "id": "141e9436",
   "metadata": {
    "slideshow": {
     "slide_type": "slide"
    }
   },
   "source": [
    "De lo contrario, use la curva ROC."
   ]
  },
  {
   "cell_type": "markdown",
   "id": "b2503c8f",
   "metadata": {
    "slideshow": {
     "slide_type": "slide"
    }
   },
   "source": [
    "Por ejemplo, mirando la curva ROC anterior (y la puntuación ROC AUC), puede pensar que el clasificador es realmente bueno."
   ]
  },
  {
   "cell_type": "markdown",
   "id": "1d0f2319",
   "metadata": {
    "slideshow": {
     "slide_type": "slide"
    }
   },
   "source": [
    "Pero esto es principalmente porque hay pocos positivos (5s) en comparación con los negativos (no 5s)."
   ]
  },
  {
   "cell_type": "markdown",
   "id": "60f8f781",
   "metadata": {
    "slideshow": {
     "slide_type": "slide"
    }
   },
   "source": [
    "En contraste, la curva de ROC deja en claro que el clasificador tiene espacio para mejorar (la curva podría estar más cerca de la esquina superior izquierda)"
   ]
  },
  {
   "cell_type": "markdown",
   "id": "8834a6fd",
   "metadata": {
    "slideshow": {
     "slide_type": "slide"
    }
   },
   "source": [
    "Vamos a entrenar a un `RandomForestClassifier` y comparemos su curva ROC y la puntuación ROC AUC a los del Classificador SGD. "
   ]
  },
  {
   "cell_type": "markdown",
   "id": "819009da",
   "metadata": {
    "slideshow": {
     "slide_type": "slide"
    }
   },
   "source": [
    "Primero, debe obtener puntajes para cada instancia en el conjunto de entrenamiento."
   ]
  },
  {
   "cell_type": "markdown",
   "id": "ed18243e",
   "metadata": {
    "slideshow": {
     "slide_type": "slide"
    }
   },
   "source": [
    "Pero, debido a la forma en que funciona (ver Capítulo 7), la clase `RandomForestClassifier` no tiene un método `decision_function()`. "
   ]
  },
  {
   "cell_type": "markdown",
   "id": "a9f514df",
   "metadata": {
    "slideshow": {
     "slide_type": "slide"
    }
   },
   "source": [
    "En su lugar, tiene un método `predict_proba()`. "
   ]
  },
  {
   "cell_type": "markdown",
   "id": "27cb4bf0",
   "metadata": {
    "slideshow": {
     "slide_type": "slide"
    }
   },
   "source": [
    "Los clasificadores de Scikit-Learn generalmente tienen uno u otro, o ambos"
   ]
  },
  {
   "cell_type": "markdown",
   "id": "6e883d93",
   "metadata": {
    "slideshow": {
     "slide_type": "slide"
    }
   },
   "source": [
    "El método `predict_proba()` devuelve una matriz que contiene \n",
    "\n",
    "* una fila por instancia y   \n",
    "* una columna por clase, \n",
    "\n",
    "cada una con la probabilidad de que la instancia dada pertenece a la clase dada (por ejemplo, 70% de probabilidad de que la imagen represente un 5):"
   ]
  },
  {
   "cell_type": "code",
   "execution_count": 5,
   "id": "21811d10",
   "metadata": {
    "slideshow": {
     "slide_type": "slide"
    }
   },
   "outputs": [],
   "source": [
    "from sklearn.ensemble import RandomForestClassifier"
   ]
  },
  {
   "cell_type": "code",
   "execution_count": 6,
   "id": "f0f02205",
   "metadata": {
    "slideshow": {
     "slide_type": "slide"
    }
   },
   "outputs": [
    {
     "name": "stdout",
     "output_type": "stream",
     "text": [
      "Wall time: 1min 46s\n"
     ]
    }
   ],
   "source": [
    "%%time \n",
    "\n",
    "forest_clf = RandomForestClassifier(random_state=42)\n",
    "y_probas_forest = cross_val_predict(forest_clf, X_train, y_train_5, cv=3,\n",
    "method=\"predict_proba\")"
   ]
  },
  {
   "cell_type": "markdown",
   "id": "a6f2c599",
   "metadata": {
    "slideshow": {
     "slide_type": "slide"
    }
   },
   "source": [
    "La función `roc_curve()` espera etiquetas y puntajes, pero en lugar de puntajes puede darle probabilidades de clase."
   ]
  },
  {
   "cell_type": "markdown",
   "id": "9dbb0076",
   "metadata": {
    "slideshow": {
     "slide_type": "slide"
    }
   },
   "source": [
    "Usemos la probabilidad de clase positiva como la puntuación:"
   ]
  },
  {
   "cell_type": "code",
   "execution_count": 7,
   "id": "4c1c7169",
   "metadata": {
    "slideshow": {
     "slide_type": "slide"
    }
   },
   "outputs": [
    {
     "name": "stdout",
     "output_type": "stream",
     "text": [
      "Wall time: 57 ms\n"
     ]
    }
   ],
   "source": [
    "%%time \n",
    "\n",
    "y_scores_forest = y_probas_forest[:, 1] # score = proba of positive class\n",
    "fpr_forest, tpr_forest, thresholds_forest = roc_curve(y_train_5,y_scores_forest)"
   ]
  },
  {
   "cell_type": "code",
   "execution_count": null,
   "id": "98c5e248",
   "metadata": {
    "slideshow": {
     "slide_type": "slide"
    }
   },
   "outputs": [],
   "source": [
    "Ahora estás listo para trazar la curva ROC."
   ]
  },
  {
   "cell_type": "markdown",
   "id": "1a8d4b37",
   "metadata": {
    "slideshow": {
     "slide_type": "slide"
    }
   },
   "source": [
    "Es útil trazar la primera curva ROC también para ver cómo se comparan:"
   ]
  },
  {
   "cell_type": "code",
   "execution_count": 8,
   "id": "3d07957e",
   "metadata": {
    "slideshow": {
     "slide_type": "slide"
    }
   },
   "outputs": [
    {
     "data": {
      "image/png": "[encoded data removed]",
      "text/plain": [
       "<Figure size 432x288 with 1 Axes>"
      ]
     },
     "metadata": {
      "needs_background": "light"
     },
     "output_type": "display_data"
    }
   ],
   "source": [
    "plt.plot(fpr, tpr, \"b:\", label=\"SGD\")\n",
    "plot_roc_curve(fpr_forest, tpr_forest, \"Random Forest\")\n",
    "plt.legend(loc=\"lower right\")\n",
    "plt.show()"
   ]
  },
  {
   "cell_type": "markdown",
   "id": "ce9a274a",
   "metadata": {
    "slideshow": {
     "slide_type": "slide"
    }
   },
   "source": [
    "Como puede ver en la Figura anterior, la curva ROC del `RandomForestClassifier` se ve mucho mejor que el `SGDClassifier`: se acerca mucho a la esquina superior izquierda."
   ]
  },
  {
   "cell_type": "markdown",
   "id": "453e9dea",
   "metadata": {
    "slideshow": {
     "slide_type": "slide"
    }
   },
   "source": [
    "# Cómo calculo el área bajo la curva ROC "
   ]
  },
  {
   "cell_type": "markdown",
   "id": "59a0cb97",
   "metadata": {
    "slideshow": {
     "slide_type": "slide"
    }
   },
   "source": [
    "Como resultado, su puntaje ROC AUC también es significativamente mejor:"
   ]
  },
  {
   "cell_type": "code",
   "execution_count": 9,
   "id": "8283ffd7",
   "metadata": {
    "slideshow": {
     "slide_type": "slide"
    }
   },
   "outputs": [],
   "source": [
    "from sklearn.metrics import roc_auc_score "
   ]
  },
  {
   "cell_type": "code",
   "execution_count": 10,
   "id": "df6c01fa",
   "metadata": {
    "slideshow": {
     "slide_type": "slide"
    }
   },
   "outputs": [
    {
     "data": {
      "text/plain": [
       "0.9983436731328145"
      ]
     },
     "execution_count": 10,
     "metadata": {},
     "output_type": "execute_result"
    }
   ],
   "source": [
    "roc_auc_score(y_train_5, y_scores_forest)"
   ]
  },
  {
   "cell_type": "code",
   "execution_count": 11,
   "id": "c4d182f5",
   "metadata": {},
   "outputs": [
    {
     "data": {
      "text/plain": [
       "0.9604938554008616"
      ]
     },
     "execution_count": 11,
     "metadata": {},
     "output_type": "execute_result"
    }
   ],
   "source": [
    "roc_auc_score(y_train_5, y_scores)"
   ]
  },
  {
   "cell_type": "markdown",
   "id": "ca879019",
   "metadata": {
    "slideshow": {
     "slide_type": "slide"
    }
   },
   "source": [
    "Intente medir las puntuaciones de precisión y recuperación: debe encontrar $99.0 \\%$ de Precisión y $ 86.6 \\% $ de Recall."
   ]
  },
  {
   "cell_type": "code",
   "execution_count": 12,
   "id": "513db9ab",
   "metadata": {
    "slideshow": {
     "slide_type": "slide"
    }
   },
   "outputs": [],
   "source": [
    "from sklearn.metrics import precision_score, recall_score "
   ]
  },
  {
   "cell_type": "code",
   "execution_count": 13,
   "id": "71bef904",
   "metadata": {
    "slideshow": {
     "slide_type": "slide"
    }
   },
   "outputs": [
    {
     "name": "stdout",
     "output_type": "stream",
     "text": [
      "Wall time: 39.7 s\n"
     ]
    },
    {
     "data": {
      "text/plain": [
       "0.8370879772350012"
      ]
     },
     "execution_count": 13,
     "metadata": {},
     "output_type": "execute_result"
    }
   ],
   "source": [
    "%%time \n",
    "\n",
    "from sklearn.model_selection import cross_val_predict  \n",
    "\n",
    "y_train_pred_sgd = cross_val_predict(sgd_clf, X_train, y_train_5, cv=3)\n",
    "precision_score(y_train_5, y_train_pred_sgd)"
   ]
  },
  {
   "cell_type": "code",
   "execution_count": 14,
   "id": "b5312316",
   "metadata": {
    "scrolled": true,
    "slideshow": {
     "slide_type": "slide"
    }
   },
   "outputs": [
    {
     "data": {
      "text/plain": [
       "0.8370879772350012"
      ]
     },
     "execution_count": 14,
     "metadata": {},
     "output_type": "execute_result"
    }
   ],
   "source": [
    "precision_score(y_train_5, y_train_pred_sgd)"
   ]
  },
  {
   "cell_type": "code",
   "execution_count": 15,
   "id": "c6d0a379",
   "metadata": {
    "slideshow": {
     "slide_type": "slide"
    }
   },
   "outputs": [
    {
     "data": {
      "text/plain": [
       "0.6511713705958311"
      ]
     },
     "execution_count": 15,
     "metadata": {},
     "output_type": "execute_result"
    }
   ],
   "source": [
    "recall_score(y_train_5, y_train_pred_sgd)"
   ]
  },
  {
   "cell_type": "code",
   "execution_count": 16,
   "id": "27d8e0ef",
   "metadata": {
    "slideshow": {
     "slide_type": "slide"
    }
   },
   "outputs": [
    {
     "name": "stdout",
     "output_type": "stream",
     "text": [
      "Wall time: 1min 40s\n"
     ]
    },
    {
     "data": {
      "text/plain": [
       "0.9905083315756169"
      ]
     },
     "execution_count": 16,
     "metadata": {},
     "output_type": "execute_result"
    }
   ],
   "source": [
    "%%time \n",
    "\n",
    "from sklearn.model_selection import cross_val_predict  \n",
    "\n",
    "y_train_pred_forest = cross_val_predict(forest_clf, X_train, y_train_5, cv=3)\n",
    "precision_score(y_train_5, y_train_pred_forest)"
   ]
  },
  {
   "cell_type": "code",
   "execution_count": 17,
   "id": "df0bbd82",
   "metadata": {
    "slideshow": {
     "slide_type": "slide"
    }
   },
   "outputs": [
    {
     "data": {
      "text/plain": [
       "0.8662608374838591"
      ]
     },
     "execution_count": 17,
     "metadata": {},
     "output_type": "execute_result"
    }
   ],
   "source": [
    "recall_score(y_train_5, y_train_pred_forest)"
   ]
  },
  {
   "cell_type": "markdown",
   "id": "a23d5855",
   "metadata": {
    "slideshow": {
     "slide_type": "slide"
    }
   },
   "source": [
    "# ¿Cómo capacitar nuestro clasificador binario? "
   ]
  },
  {
   "cell_type": "markdown",
   "id": "39b21b02",
   "metadata": {
    "slideshow": {
     "slide_type": "slide"
    }
   },
   "source": [
    "Ahora sabe cómo capacitar a los clasificadores binarios, \n",
    "\n",
    "* elija la métrica adecuada para su tarea, \n",
    "* evalúe a sus clasificadores utilizando la validación cruzada, \n",
    "* seleccione la compensación de precisión / recuperación que se ajuste a sus necesidades y\n",
    "* use las curvas ROC y las puntuaciones de ROC AUC para comparar varios modelos."
   ]
  },
  {
   "cell_type": "markdown",
   "id": "33731903",
   "metadata": {},
   "source": [
    "# Ejemplo de utilización del algoritmo de gradiente descendente estocástico"
   ]
  },
  {
   "cell_type": "code",
   "execution_count": null,
   "id": "27d38a21",
   "metadata": {
    "slideshow": {
     "slide_type": "slide"
    }
   },
   "outputs": [],
   "source": [
    "from sklearn.datasets import load_iris  "
   ]
  },
  {
   "cell_type": "code",
   "execution_count": null,
   "id": "31211030",
   "metadata": {
    "slideshow": {
     "slide_type": "slide"
    }
   },
   "outputs": [],
   "source": [
    "iris = load_iris()"
   ]
  },
  {
   "cell_type": "code",
   "execution_count": null,
   "id": "8b2e3265",
   "metadata": {
    "slideshow": {
     "slide_type": "slide"
    }
   },
   "outputs": [],
   "source": [
    "X,y = load_iris(return_X_y = True) "
   ]
  },
  {
   "cell_type": "code",
   "execution_count": null,
   "id": "fa98d2fe",
   "metadata": {
    "slideshow": {
     "slide_type": "slide"
    }
   },
   "outputs": [],
   "source": [
    "X.shape"
   ]
  },
  {
   "cell_type": "code",
   "execution_count": null,
   "id": "ceb690c2",
   "metadata": {
    "slideshow": {
     "slide_type": "slide"
    }
   },
   "outputs": [],
   "source": [
    "y_setosa = (y==0) "
   ]
  },
  {
   "cell_type": "code",
   "execution_count": null,
   "id": "7678fef1",
   "metadata": {
    "slideshow": {
     "slide_type": "slide"
    }
   },
   "outputs": [],
   "source": [
    "X_sepal = X[:,(0,1)] "
   ]
  },
  {
   "cell_type": "code",
   "execution_count": null,
   "id": "d4cb1e43",
   "metadata": {
    "slideshow": {
     "slide_type": "slide"
    }
   },
   "outputs": [],
   "source": [
    "X_sepal.shape "
   ]
  },
  {
   "cell_type": "code",
   "execution_count": null,
   "id": "33af5e22",
   "metadata": {
    "slideshow": {
     "slide_type": "slide"
    }
   },
   "outputs": [],
   "source": [
    "import matplotlib.pyplot as plt "
   ]
  },
  {
   "cell_type": "code",
   "execution_count": null,
   "id": "88e19799",
   "metadata": {
    "slideshow": {
     "slide_type": "slide"
    }
   },
   "outputs": [],
   "source": [
    "fig,ax = plt.subplots()\n",
    "\n",
    "ax.scatter(X_sepal[:,0][y_setosa], X_sepal[:,1][y_setosa] )\n",
    "ax.scatter(X_sepal[:,0][y_setosa==0], X_sepal[:,1][y_setosa==0] )"
   ]
  },
  {
   "cell_type": "code",
   "execution_count": null,
   "id": "4095edf3",
   "metadata": {
    "slideshow": {
     "slide_type": "slide"
    }
   },
   "outputs": [],
   "source": [
    "from sklearn.linear_model import SGDClassifier "
   ]
  },
  {
   "cell_type": "code",
   "execution_count": null,
   "id": "8cf98d1e",
   "metadata": {
    "slideshow": {
     "slide_type": "slide"
    }
   },
   "outputs": [],
   "source": [
    "sgd_clf = SGDClassifier(max_iter = 1, tol = 1e-3, random_state = 42) "
   ]
  },
  {
   "cell_type": "code",
   "execution_count": null,
   "id": "f1b6fdbb",
   "metadata": {
    "slideshow": {
     "slide_type": "slide"
    }
   },
   "outputs": [],
   "source": [
    "sgd_clf.fit(X_sepal, y_setosa) "
   ]
  },
  {
   "cell_type": "code",
   "execution_count": null,
   "id": "c95c2222",
   "metadata": {
    "slideshow": {
     "slide_type": "slide"
    }
   },
   "outputs": [],
   "source": [
    "b = sgd_clf.intercept_/ sgd_clf.coef_[0,1]  "
   ]
  },
  {
   "cell_type": "code",
   "execution_count": null,
   "id": "e8d2da21",
   "metadata": {
    "slideshow": {
     "slide_type": "slide"
    }
   },
   "outputs": [],
   "source": [
    "b "
   ]
  },
  {
   "cell_type": "code",
   "execution_count": null,
   "id": "38422411",
   "metadata": {
    "slideshow": {
     "slide_type": "slide"
    }
   },
   "outputs": [],
   "source": [
    "sgd_clf.coef_ \n"
   ]
  },
  {
   "cell_type": "code",
   "execution_count": null,
   "id": "b4d58f32",
   "metadata": {
    "slideshow": {
     "slide_type": "slide"
    }
   },
   "outputs": [],
   "source": [
    "sgd_clf.coef_.shape \n"
   ]
  },
  {
   "cell_type": "code",
   "execution_count": null,
   "id": "6039f6c4",
   "metadata": {
    "slideshow": {
     "slide_type": "slide"
    }
   },
   "outputs": [],
   "source": [
    "m = -sgd_clf.coef_[0,0]/sgd_clf.coef_[0,1]  "
   ]
  },
  {
   "cell_type": "code",
   "execution_count": null,
   "id": "bf7c63c9",
   "metadata": {
    "slideshow": {
     "slide_type": "slide"
    }
   },
   "outputs": [],
   "source": [
    "m "
   ]
  },
  {
   "cell_type": "markdown",
   "id": "0858c0e3",
   "metadata": {
    "slideshow": {
     "slide_type": "slide"
    }
   },
   "source": [
    "$$ w_{0} + w_{1}x_{1} + w_{2}x_{2} = 0 $$"
   ]
  },
  {
   "cell_type": "markdown",
   "id": "814144d8",
   "metadata": {
    "slideshow": {
     "slide_type": "slide"
    }
   },
   "source": [
    "$$ x_{2} = -\\frac{w_{1}}{w_{2}}x_{1} - \\frac{w_{0}}{w_{2}} $$"
   ]
  },
  {
   "cell_type": "code",
   "execution_count": null,
   "id": "e9851de1",
   "metadata": {
    "slideshow": {
     "slide_type": "slide"
    }
   },
   "outputs": [],
   "source": [
    "sgd_clf = SGDClassifier(max_iter = 100, tol = 1e-5, random_state = 42) \n",
    "sgd_clf.fit(X_sepal, y_setosa) \n",
    "import numpy as np \n",
    "fig,ax = plt.subplots()\n",
    "\n",
    "ax.scatter(X_sepal[:,0][y_setosa], X_sepal[:,1][y_setosa] )\n",
    "ax.scatter(X_sepal[:,0][y_setosa==0], X_sepal[:,1][y_setosa==0] )\n",
    "c,d = np.min(X[:,0]), np.max(X[:,0]) \n",
    "\n",
    "m = -sgd_clf.coef_[0,0]/sgd_clf.coef_[0,1]  \n",
    "\n",
    "b = -sgd_clf.intercept_/ sgd_clf.coef_[0,1] \n",
    "\n",
    "ax.plot([c,d], [m*c + b, m*d+b]) "
   ]
  },
  {
   "cell_type": "markdown",
   "id": "04732bff",
   "metadata": {
    "slideshow": {
     "slide_type": "slide"
    }
   },
   "source": [
    "# Gradiente descendente para clasificación como función de un solo atributo"
   ]
  },
  {
   "cell_type": "code",
   "execution_count": null,
   "id": "6d212895",
   "metadata": {
    "scrolled": true,
    "slideshow": {
     "slide_type": "slide"
    }
   },
   "outputs": [],
   "source": [
    "from sklearn.datasets import load_iris  \n",
    "X,y = load_iris(return_X_y = True) \n",
    "y_setosa = (y==0) \n",
    "X_sepal = X[:,0] \n",
    "import matplotlib.pyplot as plt \n",
    "fig,ax = plt.subplots()\n",
    "\n",
    "ax.scatter(X_sepal,y_setosa.ravel() )\n"
   ]
  },
  {
   "cell_type": "code",
   "execution_count": null,
   "id": "c365a41a",
   "metadata": {
    "slideshow": {
     "slide_type": "slide"
    }
   },
   "outputs": [],
   "source": [
    "def cost(w0):\n",
    "    y_pred = 1*(X_sepal<=w0)\n",
    "    return (1/len(X_sepal)*np.sum((y_setosa - y_pred)**2))"
   ]
  },
  {
   "cell_type": "code",
   "execution_count": null,
   "id": "e925ce07",
   "metadata": {
    "slideshow": {
     "slide_type": "slide"
    }
   },
   "outputs": [],
   "source": [
    "a,b = np.min(X_sepal), np.max(X_sepal) "
   ]
  },
  {
   "cell_type": "code",
   "execution_count": null,
   "id": "1f0c70f1",
   "metadata": {
    "slideshow": {
     "slide_type": "slide"
    }
   },
   "outputs": [],
   "source": [
    "W0 = np.linspace(a,b,400) "
   ]
  },
  {
   "cell_type": "code",
   "execution_count": null,
   "id": "ab851f10",
   "metadata": {
    "slideshow": {
     "slide_type": "slide"
    }
   },
   "outputs": [],
   "source": [
    "plt.plot(W0, [cost(w) for w in W0])"
   ]
  },
  {
   "cell_type": "markdown",
   "id": "6402e397",
   "metadata": {
    "slideshow": {
     "slide_type": "slide"
    }
   },
   "source": [
    "# The Normal Equation"
   ]
  },
  {
   "cell_type": "markdown",
   "id": "12d40212",
   "metadata": {
    "slideshow": {
     "slide_type": "slide"
    }
   },
   "source": [
    "Para encontrar el valor de $w$ que minimiza la **función de costo**, hay una solución de forma cerrada, en otras palabras, una ecuación matemática que da el resultado directamente."
   ]
  },
  {
   "cell_type": "markdown",
   "id": "ee3d5ccf",
   "metadata": {
    "slideshow": {
     "slide_type": "slide"
    }
   },
   "source": [
    "Esto se llama **la ecuación normal**."
   ]
  },
  {
   "cell_type": "markdown",
   "id": "b5531d46",
   "metadata": {
    "slideshow": {
     "slide_type": "slide"
    }
   },
   "source": [
    "\n",
    "\n",
    "$$ \\hat{w}  = (X^{T}X)^{-1} X^{T}y $$\n"
   ]
  },
  {
   "cell_type": "markdown",
   "id": "2963be76",
   "metadata": {
    "slideshow": {
     "slide_type": "slide"
    }
   },
   "source": [
    "En esta ecuación:\n",
    "\n",
    "* $\\hat{w}$ es el valor de $w$ que minimiza la función de costo. \n",
    "\n",
    "* $y$ es el vector de valores objetivo que contiene $y^{(1)}$ a $y^{(m)}$."
   ]
  },
  {
   "cell_type": "markdown",
   "id": "7f736fae",
   "metadata": {
    "slideshow": {
     "slide_type": "slide"
    }
   },
   "source": [
    "Generemos algunos datos de aspecto lineal para probar esta ecuación:"
   ]
  },
  {
   "cell_type": "code",
   "execution_count": 18,
   "id": "e975abe7",
   "metadata": {
    "slideshow": {
     "slide_type": "slide"
    }
   },
   "outputs": [],
   "source": [
    "import numpy as np\n",
    "\n",
    "np.random.seed(42) \n",
    "\n",
    "X1 = 2 * np.random.rand(100, 1)\n",
    "y = 4 + 3 * X1 + np.random.randn(100, 1)"
   ]
  },
  {
   "cell_type": "markdown",
   "id": "ae78bc16",
   "metadata": {
    "slideshow": {
     "slide_type": "slide"
    }
   },
   "source": [
    "<img src = 'https://github.com/marco-canas/machine_learning/blob/main/classes/class_march_24_gradient_descent/figura_4_1.jpg?raw=true'>"
   ]
  },
  {
   "cell_type": "code",
   "execution_count": 19,
   "id": "29fe54d6",
   "metadata": {
    "slideshow": {
     "slide_type": "slide"
    }
   },
   "outputs": [
    {
     "data": {
      "image/png": "[encoded data removed]",
      "text/plain": [
       "<Figure size 432x288 with 1 Axes>"
      ]
     },
     "metadata": {
      "needs_background": "light"
     },
     "output_type": "display_data"
    }
   ],
   "source": [
    "import matplotlib.pyplot as plt \n",
    "\n",
    "plt.scatter(X1,y)\n",
    "plt.xlabel(r'$X_{1}$')\n",
    "plt.ylabel(r'$y$')\n",
    "plt.axis([0,2,0,15])\n",
    "plt.show() "
   ]
  },
  {
   "cell_type": "markdown",
   "id": "a38e2ffa",
   "metadata": {
    "slideshow": {
     "slide_type": "slide"
    }
   },
   "source": [
    "Ahora calculemos $\\hat{w}$ usando la ecuación normal."
   ]
  },
  {
   "cell_type": "markdown",
   "id": "89b910d7",
   "metadata": {
    "slideshow": {
     "slide_type": "slide"
    }
   },
   "source": [
    "* Usaremos la función `inv()` del módulo de álgebra lineal de NumPy (`np.linalg`) para calcular la inversa de una matriz, y\n",
    "* el método `dot()` para la multiplicación de matrices:"
   ]
  },
  {
   "cell_type": "code",
   "execution_count": 20,
   "id": "71c6cf4c",
   "metadata": {
    "slideshow": {
     "slide_type": "slide"
    }
   },
   "outputs": [],
   "source": [
    "X_b = np.c_[np.ones((100, 1)), X1] # add x0 = 1 to each instance"
   ]
  },
  {
   "cell_type": "code",
   "execution_count": 21,
   "id": "03d1e216",
   "metadata": {
    "slideshow": {
     "slide_type": "slide"
    }
   },
   "outputs": [],
   "source": [
    "w_best = np.linalg.inv(X_b.T.dot(X_b)).dot(X_b.T).dot(y)"
   ]
  },
  {
   "cell_type": "markdown",
   "id": "f3fed670",
   "metadata": {
    "slideshow": {
     "slide_type": "slide"
    }
   },
   "source": [
    "La función que usamos para generar los datos es $y = 4 + 3x + \\text{ruido gaussiano}.$"
   ]
  },
  {
   "cell_type": "markdown",
   "id": "d842814d",
   "metadata": {
    "slideshow": {
     "slide_type": "slide"
    }
   },
   "source": [
    "Veamos qué encontró la ecuación:"
   ]
  },
  {
   "cell_type": "code",
   "execution_count": 22,
   "id": "bf6d352a",
   "metadata": {
    "slideshow": {
     "slide_type": "slide"
    }
   },
   "outputs": [
    {
     "data": {
      "text/plain": [
       "array([[4.21509616],\n",
       "       [2.77011339]])"
      ]
     },
     "execution_count": 22,
     "metadata": {},
     "output_type": "execute_result"
    }
   ],
   "source": [
    "w_best"
   ]
  },
  {
   "cell_type": "markdown",
   "id": "0cd59f6e",
   "metadata": {
    "slideshow": {
     "slide_type": "slide"
    }
   },
   "source": [
    "Habríamos esperado $w_{0} = 4$ y $w_{1} = 3$ en lugar de $w_{0} = 4.215$ y $w_{1} = 2.770$."
   ]
  },
  {
   "cell_type": "markdown",
   "id": "4d4dc32b",
   "metadata": {
    "slideshow": {
     "slide_type": "slide"
    }
   },
   "source": [
    "Lo suficientemente cerca, pero el ruido hizo imposible recuperar los parámetros exactos de la función original."
   ]
  },
  {
   "cell_type": "markdown",
   "id": "3d5ded43",
   "metadata": {
    "slideshow": {
     "slide_type": "slide"
    }
   },
   "source": [
    "Ahora podemos hacer predicciones usando $\\hat{w}$"
   ]
  },
  {
   "cell_type": "code",
   "execution_count": 23,
   "id": "af3167b2",
   "metadata": {
    "slideshow": {
     "slide_type": "slide"
    }
   },
   "outputs": [
    {
     "data": {
      "text/plain": [
       "array([[4.21509616],\n",
       "       [9.75532293]])"
      ]
     },
     "execution_count": 23,
     "metadata": {},
     "output_type": "execute_result"
    }
   ],
   "source": [
    "X_new = np.array([[0], [2]])\n",
    "X_new_b = np.c_[np.ones((2, 1)), X_new] # add x0 = 1 to each instance\n",
    "y_predict = X_new_b.dot(w_best)\n",
    "y_predict"
   ]
  },
  {
   "cell_type": "markdown",
   "id": "a82e2cdf",
   "metadata": {
    "slideshow": {
     "slide_type": "slide"
    }
   },
   "source": [
    "Tracemos las predicciones de este modelo:"
   ]
  },
  {
   "cell_type": "code",
   "execution_count": 26,
   "id": "610d47a5",
   "metadata": {
    "slideshow": {
     "slide_type": "slide"
    }
   },
   "outputs": [
    {
     "data": {
      "image/png": "[encoded data removed]",
      "text/plain": [
       "<Figure size 432x288 with 1 Axes>"
      ]
     },
     "metadata": {
      "needs_background": "light"
     },
     "output_type": "display_data"
    }
   ],
   "source": [
    "plt.plot(X_new, y_predict, \"r-\")\n",
    "plt.plot(X1, y, \"b.\")\n",
    "plt.axis([0, 2, 0, 15])\n",
    "plt.show()"
   ]
  },
  {
   "cell_type": "markdown",
   "id": "d9c3fa11",
   "metadata": {
    "slideshow": {
     "slide_type": "slide"
    }
   },
   "source": [
    "Realizar una regresión lineal con Scikit-Learn es simple:"
   ]
  },
  {
   "cell_type": "code",
   "execution_count": 27,
   "id": "d1797772",
   "metadata": {
    "slideshow": {
     "slide_type": "slide"
    }
   },
   "outputs": [
    {
     "name": "stdout",
     "output_type": "stream",
     "text": [
      "Wall time: 65 ms\n"
     ]
    },
    {
     "data": {
      "text/plain": [
       "(array([4.21509616]), array([[2.77011339]]))"
      ]
     },
     "execution_count": 27,
     "metadata": {},
     "output_type": "execute_result"
    }
   ],
   "source": [
    "%%time \n",
    "from sklearn.linear_model import LinearRegression\n",
    "lin_reg = LinearRegression()\n",
    "lin_reg.fit(X1, y)\n",
    "lin_reg.intercept_, lin_reg.coef_"
   ]
  },
  {
   "cell_type": "code",
   "execution_count": 28,
   "id": "96330d13",
   "metadata": {
    "slideshow": {
     "slide_type": "slide"
    }
   },
   "outputs": [
    {
     "data": {
      "text/plain": [
       "array([[4.21509616],\n",
       "       [9.75532293]])"
      ]
     },
     "execution_count": 28,
     "metadata": {},
     "output_type": "execute_result"
    }
   ],
   "source": [
    "lin_reg.predict(X_new)"
   ]
  },
  {
   "cell_type": "markdown",
   "id": "a3515af9",
   "metadata": {
    "slideshow": {
     "slide_type": "slide"
    }
   },
   "source": [
    "La clase `LinearRegression` se basa en la función `scipy.linalg.lstsq()` (el nombre significa \"mínimos cuadrados\"), a la que puede llamar directamente:"
   ]
  },
  {
   "cell_type": "code",
   "execution_count": 29,
   "id": "db051bfe",
   "metadata": {
    "slideshow": {
     "slide_type": "slide"
    }
   },
   "outputs": [
    {
     "data": {
      "text/plain": [
       "array([[4.21509616],\n",
       "       [2.77011339]])"
      ]
     },
     "execution_count": 29,
     "metadata": {},
     "output_type": "execute_result"
    }
   ],
   "source": [
    "w_best_svd, residuals, rank, s = np.linalg.lstsq(X_b, y, rcond=1e-6)\n",
    "w_best_svd"
   ]
  },
  {
   "cell_type": "markdown",
   "id": "12960f4c",
   "metadata": {
    "slideshow": {
     "slide_type": "slide"
    }
   },
   "source": [
    "Esta función calcula $\\hat{w}= X^{+}y$, donde $X^{+}$ es la pseudoinversa de $X$ (específicamente, la inversa de Moore-Penrose)."
   ]
  },
  {
   "cell_type": "markdown",
   "id": "eefa79b7",
   "metadata": {
    "slideshow": {
     "slide_type": "slide"
    }
   },
   "source": [
    "Puede usar `np.linalg.pinv()` para calcular el pseudoinverso directamente:"
   ]
  },
  {
   "cell_type": "code",
   "execution_count": null,
   "id": "fd0972c0",
   "metadata": {
    "slideshow": {
     "slide_type": "slide"
    }
   },
   "outputs": [],
   "source": [
    "np.linalg.pinv(X_b).dot(y)"
   ]
  },
  {
   "cell_type": "markdown",
   "id": "c83cf3a6",
   "metadata": {
    "slideshow": {
     "slide_type": "slide"
    }
   },
   "source": [
    "La pseudoinversa en sí se calcula usando una técnica de factorización de matriz estándar llamada Descomposición de valor singular (SVD) que puede descomponer la matriz del conjunto de entrenamiento $X$ en la multiplicación de tres matrices $U \\Sigma V$ (ver `numpy.linalg.svd()`)."
   ]
  },
  {
   "cell_type": "markdown",
   "id": "7127366e",
   "metadata": {
    "slideshow": {
     "slide_type": "slide"
    }
   },
   "source": [
    "La pseudoinversa se calcula como $X^{+} = V\\Sigma^{+}U^{T}$."
   ]
  },
  {
   "cell_type": "markdown",
   "id": "866cd9e8",
   "metadata": {
    "slideshow": {
     "slide_type": "slide"
    }
   },
   "source": [
    "Para calcular la matriz $\\Sigma^{+}$, el algoritmo toma $\\Sigma$ y establece en cero todos los valores menores que un pequeño valor de umbral, luego reemplaza todos los valores distintos de cero con su inversa y finalmente transpone la matriz resultado."
   ]
  },
  {
   "cell_type": "markdown",
   "id": "eb1089f3",
   "metadata": {
    "slideshow": {
     "slide_type": "slide"
    }
   },
   "source": [
    "Este enfoque es más eficiente que calcular la Ecuación Normal, además maneja muy bien los casos límite: de hecho, la Ecuación Normal puede no funcionar si la matriz $X^{T}X$ no es invertible (es decir, singular), como si $ m < n$ o si algunas características son redundantes, pero la pseudoinversa siempre está definida."
   ]
  },
  {
   "cell_type": "markdown",
   "id": "3cb772a4",
   "metadata": {
    "slideshow": {
     "slide_type": "skip"
    }
   },
   "source": [
    "## Computational Complexity"
   ]
  },
  {
   "cell_type": "markdown",
   "id": "3454f3bf",
   "metadata": {
    "slideshow": {
     "slide_type": "skip"
    }
   },
   "source": [
    "La ecuación normal calcula la inversa de $X^{T}X$, que es una matriz $(n + 1) \\times (n + 1)$ (donde n es el número de características). "
   ]
  },
  {
   "cell_type": "markdown",
   "id": "56614d65",
   "metadata": {
    "slideshow": {
     "slide_type": "skip"
    }
   },
   "source": [
    "La complejidad computacional de invertir una matriz de este tipo suele ser de $O(n^{2.4})$ a $O(n^{3})$, según la implementación."
   ]
  },
  {
   "cell_type": "markdown",
   "id": "4d120cda",
   "metadata": {
    "slideshow": {
     "slide_type": "skip"
    }
   },
   "source": [
    "En otras palabras, si duplica la cantidad de características, multiplica el tiempo de cálculo por aproximadamente $2^{2.4} = 5.3$ a $2^{3} = 8$."
   ]
  },
  {
   "cell_type": "markdown",
   "id": "3b33117f",
   "metadata": {
    "slideshow": {
     "slide_type": "skip"
    }
   },
   "source": [
    "El enfoque SVD utilizado por la clase LinearRegression de Scikit-Learn es aproximadamente $O(n^{2})$."
   ]
  },
  {
   "cell_type": "markdown",
   "id": "4b464064",
   "metadata": {
    "slideshow": {
     "slide_type": "skip"
    }
   },
   "source": [
    "Si duplica la cantidad de características, multiplica el tiempo de cálculo por aproximadamente 4."
   ]
  },
  {
   "cell_type": "markdown",
   "id": "ed2c78bc",
   "metadata": {
    "slideshow": {
     "slide_type": "slide"
    }
   },
   "source": [
    "## ADVERTENCIA"
   ]
  },
  {
   "cell_type": "markdown",
   "id": "63fba0ba",
   "metadata": {
    "slideshow": {
     "slide_type": "slide"
    }
   },
   "source": [
    "Tanto la ecuación normal como el enfoque SVD se vuelven muy lentos cuando la cantidad de características aumenta (por ejemplo, 100,000)."
   ]
  },
  {
   "cell_type": "markdown",
   "id": "1dae146f",
   "metadata": {
    "slideshow": {
     "slide_type": "slide"
    }
   },
   "source": [
    "En el lado positivo, ambos son lineales con respecto al número de instancias en el conjunto de entrenamiento (son $O(m)$), por lo que manejan grandes conjuntos de entrenamiento de manera eficiente, siempre que quepan en la memoria."
   ]
  },
  {
   "cell_type": "markdown",
   "id": "b7d9fce1",
   "metadata": {
    "slideshow": {
     "slide_type": "slide"
    }
   },
   "source": [
    "Además, una vez que haya entrenado su modelo de regresión lineal (usando la ecuación normal o cualquier otro algoritmo), las predicciones son muy rápidas: la complejidad computacional es lineal con respecto a la cantidad de instancias en las que desea hacer predicciones y la cantidad de características."
   ]
  },
  {
   "cell_type": "markdown",
   "id": "85712478",
   "metadata": {
    "slideshow": {
     "slide_type": "slide"
    }
   },
   "source": [
    "En otras palabras, hacer predicciones sobre el doble de instancias (o el doble de funciones) llevará aproximadamente el doble de tiempo."
   ]
  },
  {
   "cell_type": "markdown",
   "id": "0f9545fb",
   "metadata": {
    "slideshow": {
     "slide_type": "slide"
    }
   },
   "source": [
    "Ahora veremos una forma muy diferente de entrenar un modelo de regresión lineal, que se adapta mejor a los casos en los que hay una gran cantidad de atributos o demasiadas instancias de entrenamiento para caber en la memoria."
   ]
  },
  {
   "cell_type": "markdown",
   "id": "da57a401",
   "metadata": {
    "slideshow": {
     "slide_type": "slide"
    }
   },
   "source": [
    "## El gradiente descendente "
   ]
  },
  {
   "cell_type": "markdown",
   "id": "ce12f0f1",
   "metadata": {
    "slideshow": {
     "slide_type": "slide"
    }
   },
   "source": [
    "Page: 173 de Geron"
   ]
  },
  {
   "cell_type": "markdown",
   "id": "6d130acc",
   "metadata": {
    "slideshow": {
     "slide_type": "slide"
    }
   },
   "source": [
    "**Gradient Descent** es un algoritmo de optimización genérico capaz de encontrar soluciones óptimas a una amplia gama de problemas."
   ]
  },
  {
   "cell_type": "markdown",
   "id": "6414944e",
   "metadata": {
    "slideshow": {
     "slide_type": "slide"
    }
   },
   "source": [
    "La idea general de **Gradient Descent** es ajustar los parámetros iterativamente para minimizar una **función de costo**."
   ]
  },
  {
   "cell_type": "markdown",
   "id": "8e38dc6a",
   "metadata": {
    "slideshow": {
     "slide_type": "slide"
    }
   },
   "source": [
    "Suponga que está perdido en las montañas en una densa niebla, y solo puede sentir la pendiente del suelo debajo de sus pies."
   ]
  },
  {
   "cell_type": "markdown",
   "id": "c8b5d908",
   "metadata": {
    "slideshow": {
     "slide_type": "slide"
    }
   },
   "source": [
    "Una buena estrategia para llegar rápidamente al fondo del valle es descender en dirección a la pendiente más pronunciada."
   ]
  },
  {
   "cell_type": "markdown",
   "id": "bc17d6aa",
   "metadata": {
    "slideshow": {
     "slide_type": "slide"
    }
   },
   "source": [
    "Esto es exactamente lo que hace el Gradient Descent:  \n",
    "\n",
    "* mide el gradiente local de la función de error con respecto al vector de parámetros $w$, y va en la dirección del gradiente descendente."
   ]
  },
  {
   "cell_type": "markdown",
   "id": "7d705dbf",
   "metadata": {
    "slideshow": {
     "slide_type": "slide"
    }
   },
   "source": [
    "Una vez que el gradiente es cero, ¡ha alcanzado un mínimo!"
   ]
  },
  {
   "cell_type": "markdown",
   "id": "c6dca0a5",
   "metadata": {
    "slideshow": {
     "slide_type": "slide"
    }
   },
   "source": [
    "Concretamente, empiezas llenando $w$ con valores aleatorios (esto se llama inicialización aleatoria)."
   ]
  },
  {
   "cell_type": "markdown",
   "id": "0f4f8bf4",
   "metadata": {
    "slideshow": {
     "slide_type": "slide"
    }
   },
   "source": [
    "Luego lo mejora gradualmente, dando un pequeño paso a la vez, cada paso intentando disminuir la función de costo (por ejemplo, el MSE), hasta que el algoritmo converge a un mínimo."
   ]
  },
  {
   "cell_type": "markdown",
   "id": "2114c6b1",
   "metadata": {
    "slideshow": {
     "slide_type": "slide"
    }
   },
   "source": [
    "<img src = 'https://github.com/marco-canas/machine_learning/blob/main/classes/class_march_24_gradient_descent/figura_4_3.jpg?raw=true'>"
   ]
  },
  {
   "cell_type": "markdown",
   "id": "72e5ab10",
   "metadata": {
    "slideshow": {
     "slide_type": "slide"
    }
   },
   "source": [
    "Un parámetro importante en el Gradient Descent es el tamaño de los pasos, determinado por el hiperparámetro de tasa de aprendizaje (**learning rate**)."
   ]
  },
  {
   "cell_type": "markdown",
   "id": "a190b96c",
   "metadata": {
    "slideshow": {
     "slide_type": "slide"
    }
   },
   "source": [
    "Si la tasa de aprendizaje es demasiado pequeña, el algoritmo tendrá que pasar por muchas iteraciones para converger, lo que llevará mucho tiempo."
   ]
  },
  {
   "cell_type": "markdown",
   "id": "9329c1c5",
   "metadata": {
    "slideshow": {
     "slide_type": "slide"
    }
   },
   "source": [
    "<img src = 'https://github.com/marco-canas/machine_learning/blob/main/classes/class_march_24_gradient_descent/figura_4_4_learnig_rate_small.jpg?raw=true'>"
   ]
  },
  {
   "cell_type": "markdown",
   "id": "99122612",
   "metadata": {
    "slideshow": {
     "slide_type": "slide"
    }
   },
   "source": [
    "Por otro lado, si la tasa de aprendizaje es demasiado alta, es posible que saltes al otro lado del valle y termines en el otro lado, posiblemente incluso más alto de lo que estabas antes."
   ]
  },
  {
   "cell_type": "markdown",
   "id": "34dbf040",
   "metadata": {
    "slideshow": {
     "slide_type": "slide"
    }
   },
   "source": [
    "Esto podría hacer que el algoritmo diverja, con valores cada vez mayores, y no pueda encontrar una buena solución."
   ]
  },
  {
   "cell_type": "markdown",
   "id": "0d689eb0",
   "metadata": {
    "slideshow": {
     "slide_type": "slide"
    }
   },
   "source": [
    "<img src = 'https://github.com/marco-canas/machine_learning/blob/main/classes/class_march_24_gradient_descent/figura_4_5_learning_rate_large.jpg?raw=true'>"
   ]
  },
  {
   "cell_type": "markdown",
   "id": "ffe3fbc8",
   "metadata": {
    "slideshow": {
     "slide_type": "slide"
    }
   },
   "source": [
    "Finalmente, no todas las **funciones de costos** se ven como tazones regulares y agradables."
   ]
  },
  {
   "cell_type": "markdown",
   "id": "69c20229",
   "metadata": {
    "slideshow": {
     "slide_type": "slide"
    }
   },
   "source": [
    "Puede haber agujeros, crestas, mesetas y todo tipo de terrenos irregulares, lo que dificulta mucho la convergencia."
   ]
  },
  {
   "cell_type": "markdown",
   "id": "eb2e0696",
   "metadata": {
    "slideshow": {
     "slide_type": "slide"
    }
   },
   "source": [
    "La siguiente figura muestra los dos desafíos principales con el Gradient Descent."
   ]
  },
  {
   "cell_type": "markdown",
   "id": "d12d4cf4",
   "metadata": {
    "slideshow": {
     "slide_type": "slide"
    }
   },
   "source": [
    "<img src = 'https://github.com/marco-canas/machine_learning/blob/main/classes/class_march_24_gradient_descent/figura_4_6_global_minimum.jpg?raw=true'>"
   ]
  },
  {
   "cell_type": "markdown",
   "id": "7cc7e764",
   "metadata": {
    "slideshow": {
     "slide_type": "slide"
    }
   },
   "source": [
    "Si la inicialización aleatoria inicia el algoritmo a la izquierda, convergerá a un mínimo local, que no es tan bueno como el mínimo global."
   ]
  },
  {
   "cell_type": "markdown",
   "id": "3a0ce0b7",
   "metadata": {
    "slideshow": {
     "slide_type": "slide"
    }
   },
   "source": [
    "Si comienza a la derecha, tomará mucho tiempo cruzar la meseta."
   ]
  },
  {
   "cell_type": "markdown",
   "id": "f36b79b7",
   "metadata": {
    "slideshow": {
     "slide_type": "slide"
    }
   },
   "source": [
    "Y si te detienes demasiado pronto, nunca alcanzarás el mínimo global."
   ]
  },
  {
   "cell_type": "markdown",
   "id": "ec6fb0e6",
   "metadata": {
    "slideshow": {
     "slide_type": "slide"
    }
   },
   "source": [
    "Afortunadamente, la función de costo MSE para un modelo de regresión lineal resulta ser una función convexa, lo que significa que si selecciona dos puntos en la curva, el segmento de línea que los une nunca cruza la curva."
   ]
  },
  {
   "cell_type": "markdown",
   "id": "a490dc9d",
   "metadata": {
    "slideshow": {
     "slide_type": "slide"
    }
   },
   "source": [
    "Esto implica que no hay mínimos locales, solo un **mínimo global**."
   ]
  },
  {
   "cell_type": "markdown",
   "id": "3227b8db",
   "metadata": {
    "slideshow": {
     "slide_type": "slide"
    }
   },
   "source": [
    "También es una función continua con una pendiente que nunca cambia abruptamente."
   ]
  },
  {
   "cell_type": "markdown",
   "id": "8cd40b9a",
   "metadata": {
    "slideshow": {
     "slide_type": "slide"
    }
   },
   "source": [
    "Estos dos hechos tienen una gran consecuencia:  \n",
    "\n",
    "* se garantiza que el Gradient Descent se acerque arbitrariamente al mínimo global (si espera lo suficiente y si la tasa de aprendizaje no es demasiado alta)."
   ]
  },
  {
   "cell_type": "markdown",
   "id": "3d696973",
   "metadata": {
    "slideshow": {
     "slide_type": "slide"
    }
   },
   "source": [
    "De hecho, la función de costo tiene forma de cuenco, pero puede ser un cuenco alargado si las características tienen escalas muy diferentes."
   ]
  },
  {
   "cell_type": "markdown",
   "id": "4a14640a",
   "metadata": {
    "slideshow": {
     "slide_type": "slide"
    }
   },
   "source": [
    "La siguiente figura muestra el descenso de gradiente en un conjunto de entrenamiento donde las atributos 1 y 2 tienen la misma escala (a la izquierda) y en un conjunto de entrenamiento donde la atrubuto 1 tiene valores mucho más pequeños que el atributo 2 (a la derecha)."
   ]
  },
  {
   "cell_type": "markdown",
   "id": "a7c05c9a",
   "metadata": {
    "slideshow": {
     "slide_type": "slide"
    }
   },
   "source": [
    "<img src = 'https://github.com/marco-canas/machine_learning/blob/main/classes/class_march_24_gradient_descent/figura_4_7.jpg?raw=true'>"
   ]
  },
  {
   "cell_type": "markdown",
   "id": "ca183046",
   "metadata": {
    "slideshow": {
     "slide_type": "slide"
    }
   },
   "source": [
    "* Como puedes ver, a la izquierda el algoritmo de Descenso de Gradiente va directo hacia el mínimo, alcanzándolo rápidamente,   \n",
    "\n",
    "* mientras que a la derecha primero va en una dirección casi ortogonal a la dirección del mínimo global, y termina con una marcha larga por un valle casi plano."
   ]
  },
  {
   "cell_type": "markdown",
   "id": "6edceb54",
   "metadata": {
    "slideshow": {
     "slide_type": "slide"
    }
   },
   "source": [
    "Eventualmente alcanzará el mínimo, pero tomará mucho tiempo."
   ]
  },
  {
   "cell_type": "markdown",
   "id": "6af2badc",
   "metadata": {
    "slideshow": {
     "slide_type": "slide"
    }
   },
   "source": [
    "## ADVERTENCIA"
   ]
  },
  {
   "cell_type": "markdown",
   "id": "20482bda",
   "metadata": {
    "slideshow": {
     "slide_type": "slide"
    }
   },
   "source": [
    "Al usar el Gradient Descent, debe asegurarse de que todas los atributos tengan una escala similar (p. ej., usando la clase `StandardScaler` de Scikit-Learn), o de lo contrario tardará mucho más en converger."
   ]
  },
  {
   "cell_type": "markdown",
   "id": "a7698383",
   "metadata": {
    "slideshow": {
     "slide_type": "slide"
    }
   },
   "source": [
    "Este diagrama también ilustra el hecho de que entrenar un modelo significa buscar una combinación de parámetros del modelo que minimice una **función de costo** (sobre el conjunto de entrenamiento)."
   ]
  },
  {
   "cell_type": "markdown",
   "id": "07df70dd",
   "metadata": {
    "slideshow": {
     "slide_type": "slide"
    }
   },
   "source": [
    "* Es una búsqueda en el espacio de parámetros del modelo: cuantos más parámetros tiene un modelo, más dimensiones tiene este espacio, y más difícil es la búsqueda:   \n",
    "\n",
    "* buscar una aguja en un pajar de 300 dimensiones es mucho más complicado que en 3 dimensiones."
   ]
  },
  {
   "cell_type": "markdown",
   "id": "6a23b078",
   "metadata": {
    "slideshow": {
     "slide_type": "slide"
    }
   },
   "source": [
    "Afortunadamente, dado que la función de costo es convexa en el caso de la regresión lineal, la aguja simplemente está en el fondo del recipiente."
   ]
  },
  {
   "cell_type": "markdown",
   "id": "58262923",
   "metadata": {
    "slideshow": {
     "slide_type": "slide"
    }
   },
   "source": [
    "## Descenso de gradiente por lotes"
   ]
  },
  {
   "cell_type": "markdown",
   "id": "31bb7f04",
   "metadata": {
    "slideshow": {
     "slide_type": "slide"
    }
   },
   "source": [
    "Para implementar el Gradient Descent, debe calcular el gradiente de la función de costo con respecto a cada parámetro $w_{j}$ del modelo."
   ]
  },
  {
   "cell_type": "markdown",
   "id": "da19ff4c",
   "metadata": {
    "slideshow": {
     "slide_type": "slide"
    }
   },
   "source": [
    "En otras palabras, debe calcular cuánto cambiará la función de costo si cambia $w_{j}$ solo un poco."
   ]
  },
  {
   "cell_type": "markdown",
   "id": "4d43ce7b",
   "metadata": {
    "slideshow": {
     "slide_type": "slide"
    }
   },
   "source": [
    "A esto se le llama derivada parcial."
   ]
  },
  {
   "cell_type": "markdown",
   "id": "1537ab9b",
   "metadata": {
    "slideshow": {
     "slide_type": "slide"
    }
   },
   "source": [
    "Es como preguntar \n",
    "\n",
    "* \"¿Cuál es la pendiente de la montaña bajo mis pies si miro hacia el este?\" \n",
    "\n",
    "* y luego haciendo la misma pregunta mirando hacia el norte \n",
    "\n",
    "(y así sucesivamente para todas las demás dimensiones, si puedes imaginar un universo con más de tres dimensiones)."
   ]
  },
  {
   "cell_type": "markdown",
   "id": "27af368d",
   "metadata": {
    "slideshow": {
     "slide_type": "slide"
    }
   },
   "source": [
    "La siguiente ecuación calcula la derivada parcial de la función de costo con respecto al parámetro $w_{j}$, $\\frac{\\partial}{\\partial w_{j}} MSE(\\mathbf{w})$ anotado:"
   ]
  },
  {
   "cell_type": "markdown",
   "id": "f76d0823",
   "metadata": {
    "slideshow": {
     "slide_type": "slide"
    }
   },
   "source": [
    "$$ \\frac{\\partial}{\\partial w_{j}} MSE(\\mathbf{w}) = \\frac{2}{m} \\sum_{i = 1}^{m} \\left( w^{T}x^{(i)} - y^{(i)}\\right)x_{j}^{(i)}. $$"
   ]
  },
  {
   "cell_type": "markdown",
   "id": "a95c6bf0",
   "metadata": {
    "slideshow": {
     "slide_type": "slide"
    }
   },
   "source": [
    "En lugar de calcular estas derivadas parciales individualmente, puede usar la Ecuación 4-6 para calcularlas todas de una sola vez. "
   ]
  },
  {
   "cell_type": "markdown",
   "id": "c7cb5ab9",
   "metadata": {
    "slideshow": {
     "slide_type": "slide"
    }
   },
   "source": [
    "El vector gradiente, anotado $\\nabla_{w} MSE(w)$, contiene todas las derivadas parciales de la función de costo (una para cada parámetro del modelo)."
   ]
  },
  {
   "cell_type": "markdown",
   "id": "9ac84b3b",
   "metadata": {
    "slideshow": {
     "slide_type": "slide"
    }
   },
   "source": [
    "$$ \\nabla_{w}MSE(\\mathbf{w}) = \\begin{pmatrix}  \\frac{\\partial}{\\partial w_{0}} MSE(\\mathbf{w}) \\\\ \\frac{\\partial}{\\partial w_{1}} MSE(\\mathbf{w}) \\\\ \\vdots \\\\ \\frac{\\partial}{\\partial w_{n}} MSE(\\mathbf{w}) \\end{pmatrix} = \\frac{2}{m}X^{T}(X\\mathbf{w} - y)   $$"
   ]
  },
  {
   "cell_type": "markdown",
   "id": "84b87569",
   "metadata": {
    "slideshow": {
     "slide_type": "slide"
    }
   },
   "source": [
    "Una vez que tenga el vector de gradiente, que apunta cuesta arriba, simplemente vaya en la dirección opuesta para ir cuesta abajo."
   ]
  },
  {
   "cell_type": "markdown",
   "id": "0dfd2934",
   "metadata": {
    "slideshow": {
     "slide_type": "slide"
    }
   },
   "source": [
    "Esto significa restar $\\nabla MSE(\\mathbf{w})$ de $w$."
   ]
  },
  {
   "cell_type": "markdown",
   "id": "789e6256",
   "metadata": {
    "slideshow": {
     "slide_type": "slide"
    }
   },
   "source": [
    "Aquí es donde entra en juego la tasa de aprendizaje $\\eta$:   \n",
    "\n",
    "* multiplique el vector gradiente por $\\eta$ para determinar el tamaño del paso cuesta abajo (Ecuación 4-7)."
   ]
  },
  {
   "cell_type": "markdown",
   "id": "e61ab9e5",
   "metadata": {
    "slideshow": {
     "slide_type": "slide"
    }
   },
   "source": [
    "$$ w^{\\text{next step}} = w - \\eta \\nabla_{w} MSE(w) $$"
   ]
  },
  {
   "cell_type": "markdown",
   "id": "02b192d6",
   "metadata": {
    "slideshow": {
     "slide_type": "slide"
    }
   },
   "source": [
    "Veamos una implementación rápida de este algoritmo:"
   ]
  },
  {
   "cell_type": "code",
   "execution_count": 30,
   "id": "3622b773",
   "metadata": {
    "slideshow": {
     "slide_type": "slide"
    }
   },
   "outputs": [],
   "source": [
    "eta = 0.1 # learning rate\n",
    "n_iterations = 1000\n",
    "m = 100\n",
    "w = np.random.randn(2,1) # random initialization\n",
    "for iteration in range(n_iterations):\n",
    "    gradients = 2/m * X_b.T.dot(X_b.dot(w) - y)\n",
    "    w = w - eta * gradients"
   ]
  },
  {
   "cell_type": "markdown",
   "id": "8900b198",
   "metadata": {
    "slideshow": {
     "slide_type": "slide"
    }
   },
   "source": [
    "¡Eso no fue demasiado difícil! Veamos el theta resultante:"
   ]
  },
  {
   "cell_type": "code",
   "execution_count": 31,
   "id": "fe148d6a",
   "metadata": {
    "slideshow": {
     "slide_type": "slide"
    }
   },
   "outputs": [
    {
     "data": {
      "text/plain": [
       "array([[4.21509616],\n",
       "       [2.77011339]])"
      ]
     },
     "execution_count": 31,
     "metadata": {},
     "output_type": "execute_result"
    }
   ],
   "source": [
    "w"
   ]
  },
  {
   "cell_type": "markdown",
   "id": "7868f235",
   "metadata": {
    "slideshow": {
     "slide_type": "slide"
    }
   },
   "source": [
    "* ¡eso es exactamente lo que encontró la ecuación normal!  \n",
    "\n",
    "* El Descenso de gradiente funcionó perfectamente."
   ]
  },
  {
   "cell_type": "markdown",
   "id": "034b9b9f",
   "metadata": {
    "slideshow": {
     "slide_type": "slide"
    }
   },
   "source": [
    "Pero, ¿y si hubieras utilizado una tasa de aprendizaje eta diferente?"
   ]
  },
  {
   "cell_type": "markdown",
   "id": "1d6e8c21",
   "metadata": {
    "slideshow": {
     "slide_type": "slide"
    }
   },
   "source": [
    "La siguiente figura muestra los primeros 10 pasos de Gradient Descent utilizando tres tasas de aprendizaje diferentes (la línea discontinua representa el punto de partida)."
   ]
  },
  {
   "cell_type": "markdown",
   "id": "52bdaab6",
   "metadata": {
    "slideshow": {
     "slide_type": "slide"
    }
   },
   "source": [
    "<img src = 'https://github.com/marco-canas/machine_learning/blob/main/classes/class_march_24_gradient_descent/figura_4_8.jpg?raw=true'>"
   ]
  },
  {
   "cell_type": "markdown",
   "id": "3ee80b89",
   "metadata": {
    "slideshow": {
     "slide_type": "slide"
    }
   },
   "source": [
    "A la izquierda, la tasa de aprendizaje es demasiado baja:   \n",
    "\n",
    "* el algoritmo finalmente llegará a la solución, pero llevará mucho tiempo. "
   ]
  },
  {
   "cell_type": "markdown",
   "id": "96022df3",
   "metadata": {
    "slideshow": {
     "slide_type": "slide"
    }
   },
   "source": [
    "En el medio, la tasa de aprendizaje parece bastante buena: \n",
    "\n",
    "* en solo unas pocas iteraciones, ya ha convergido a la solución. "
   ]
  },
  {
   "cell_type": "markdown",
   "id": "61878377",
   "metadata": {
    "slideshow": {
     "slide_type": "slide"
    }
   },
   "source": [
    "A la derecha, la tasa de aprendizaje es demasiado alta:   \n",
    "\n",
    "* el algoritmo diverge, salta por todos lados y, de hecho, se aleja más y más de la solución en cada paso."
   ]
  },
  {
   "cell_type": "markdown",
   "id": "4dccc57a",
   "metadata": {
    "slideshow": {
     "slide_type": "slide"
    }
   },
   "source": [
    "Para encontrar una buena tasa de aprendizaje, puede utilizar la búsqueda en cuadrícula (consulte el Capítulo 2)."
   ]
  },
  {
   "cell_type": "markdown",
   "id": "b9b64523",
   "metadata": {
    "slideshow": {
     "slide_type": "slide"
    }
   },
   "source": [
    "Sin embargo, es posible que desee limitar el número de iteraciones para que la búsqueda en cuadrícula pueda eliminar los modelos que tardan demasiado en converger."
   ]
  },
  {
   "cell_type": "markdown",
   "id": "3b1fbfff",
   "metadata": {
    "slideshow": {
     "slide_type": "slide"
    }
   },
   "source": [
    "Quizás se pregunte cómo establecer el número de iteraciones."
   ]
  },
  {
   "cell_type": "markdown",
   "id": "911eec47",
   "metadata": {
    "slideshow": {
     "slide_type": "slide"
    }
   },
   "source": [
    "Si es demasiado bajo, aún estará lejos de la solución óptima cuando el algoritmo se detenga; pero si es demasiado alto, perderá tiempo mientras los parámetros del modelo ya no cambian."
   ]
  },
  {
   "cell_type": "markdown",
   "id": "c4009116",
   "metadata": {
    "slideshow": {
     "slide_type": "slide"
    }
   },
   "source": [
    "Una solución simple es establecer una gran cantidad de iteraciones pero interrumpir el algoritmo cuando el vector de gradiente se vuelve pequeño, es decir, cuando su norma se vuelve más pequeña que un número pequeño $\\epsilon$ (llamado tolerancia), porque esto sucede cuando el Gradient descent ha (casi) alcanzado el mínimo."
   ]
  },
  {
   "cell_type": "markdown",
   "id": "4b6866e0",
   "metadata": {
    "slideshow": {
     "slide_type": "skip"
    }
   },
   "source": [
    "### CONVERGENCE RATE"
   ]
  },
  {
   "cell_type": "markdown",
   "id": "a978bdff",
   "metadata": {
    "slideshow": {
     "slide_type": "skip"
    }
   },
   "source": [
    "Cuando la función de costo es convexa y su pendiente no cambia abruptamente (como es el caso de la función de costo MSE), el descenso de gradiente por lotes con una tasa de aprendizaje fija eventualmente convergerá a la solución óptima, pero es posible que tenga que esperar un rato: puede tomar $O(1/\\epsilon)$ iteraciones para alcanzar el óptimo dentro de un rango de $\\epsilon$, dependiendo de la forma de la función de costo. "
   ]
  },
  {
   "cell_type": "markdown",
   "id": "3131ad49",
   "metadata": {
    "slideshow": {
     "slide_type": "slide"
    }
   },
   "source": [
    "If you divide the tolerance by 10 to have a more precise solution, then the algorithm may have to run about 10 times longer."
   ]
  },
  {
   "cell_type": "markdown",
   "id": "47141f54",
   "metadata": {
    "slideshow": {
     "slide_type": "slide"
    }
   },
   "source": [
    "## Stochastic Gradient Descent"
   ]
  },
  {
   "cell_type": "markdown",
   "id": "57b33b49",
   "metadata": {
    "slideshow": {
     "slide_type": "slide"
    }
   },
   "source": [
    "El principal problema con **Batch Gradient Descent** es el hecho de que utiliza todo el conjunto de entrenamiento para calcular los gradientes en cada paso, lo que lo hace muy lento cuando el conjunto de entrenamiento es grande. "
   ]
  },
  {
   "cell_type": "markdown",
   "id": "ab63ddb5",
   "metadata": {
    "slideshow": {
     "slide_type": "slide"
    }
   },
   "source": [
    "En el extremo opuesto, **Stochastic Gradient Descent** elige una instancia aleatoria en el conjunto de entrenamiento en cada paso y calcula los gradientes basándose únicamente en esa única instancia."
   ]
  },
  {
   "cell_type": "markdown",
   "id": "cc85986c",
   "metadata": {
    "slideshow": {
     "slide_type": "slide"
    }
   },
   "source": [
    "Obviamente, trabajar en una sola instancia a la vez hace que el algoritmo sea mucho más rápido porque tiene muy pocos datos para manipular en cada iteración."
   ]
  },
  {
   "cell_type": "markdown",
   "id": "1abc203f",
   "metadata": {
    "slideshow": {
     "slide_type": "slide"
    }
   },
   "source": [
    "* También hace posible entrenar en grandes conjuntos de entrenamiento, ya que solo una instancia necesita estar en la memoria en cada iteración \n",
    "\n",
    "* (Stochastic GD puede implementarse como un algoritmo fuera del núcleo; consulte el Capítulo 1)."
   ]
  },
  {
   "cell_type": "markdown",
   "id": "61354003",
   "metadata": {
    "slideshow": {
     "slide_type": "slide"
    }
   },
   "source": [
    "Por otro lado, debido a su naturaleza estocástica (es decir, aleatoria), este algoritmo es mucho menos regular que el Descenso de gradiente por lotes: en lugar de disminuir suavemente hasta llegar al mínimo, la función de costo rebotará hacia arriba y hacia abajo, disminuyendo solo en promedio. . "
   ]
  },
  {
   "cell_type": "markdown",
   "id": "3902102b",
   "metadata": {
    "slideshow": {
     "slide_type": "slide"
    }
   },
   "source": [
    "Con el tiempo, terminará muy cerca del mínimo, pero una vez que llegue allí, continuará rebotando, sin asentarse nunca. "
   ]
  },
  {
   "cell_type": "markdown",
   "id": "b21792d4",
   "metadata": {
    "slideshow": {
     "slide_type": "slide"
    }
   },
   "source": [
    "So once the algorithm stops, the final parameter values are good, but not optimal."
   ]
  },
  {
   "cell_type": "markdown",
   "id": "6a92f184",
   "metadata": {
    "slideshow": {
     "slide_type": "slide"
    }
   },
   "source": [
    "<img src = 'https://github.com/marco-canas/machine_learning/blob/main/classes/class_march_24_gradient_descent/figura_4_9.jpg?raw=true'>"
   ]
  },
  {
   "cell_type": "markdown",
   "id": "f6d2491e",
   "metadata": {
    "slideshow": {
     "slide_type": "slide"
    }
   },
   "source": [
    "Cuando la función de costo es muy irregular (como en la Figura 4-6), esto puede ayudar al algoritmo a saltar fuera de los mínimos locales, por lo que Stochastic Gradient Descent tiene más posibilidades de encontrar el mínimo global que Batch Gradient Descent."
   ]
  },
  {
   "cell_type": "markdown",
   "id": "7450ff86",
   "metadata": {
    "slideshow": {
     "slide_type": "slide"
    }
   },
   "source": [
    "Por lo tanto, la aleatoriedad es buena para escapar de los óptimos locales, pero mala porque significa que el algoritmo nunca puede establecerse en el mínimo."
   ]
  },
  {
   "cell_type": "markdown",
   "id": "f403e32d",
   "metadata": {
    "slideshow": {
     "slide_type": "slide"
    }
   },
   "source": [
    "Una solución a este dilema es reducir gradualmente la tasa de aprendizaje. "
   ]
  },
  {
   "cell_type": "markdown",
   "id": "e4623d2c",
   "metadata": {
    "slideshow": {
     "slide_type": "slide"
    }
   },
   "source": [
    "Los pasos comienzan grandes (lo que ayuda a progresar rápidamente y escapar de los mínimos locales), luego se vuelven cada vez más pequeños, lo que permite que el algoritmo se asiente en el mínimo global."
   ]
  },
  {
   "cell_type": "markdown",
   "id": "0fb91854",
   "metadata": {
    "slideshow": {
     "slide_type": "slide"
    }
   },
   "source": [
    "Este proceso es similar al recocido simulado, un algoritmo inspirado en el proceso metalúrgico del recocido, donde el metal fundido se enfría lentamente."
   ]
  },
  {
   "cell_type": "markdown",
   "id": "a26d358b",
   "metadata": {
    "slideshow": {
     "slide_type": "slide"
    }
   },
   "source": [
    "La función que determina la tasa de aprendizaje en cada iteración se denomina **programa de aprendizaje**(learning schedule). ."
   ]
  },
  {
   "cell_type": "markdown",
   "id": "04ccbbea",
   "metadata": {
    "slideshow": {
     "slide_type": "slide"
    }
   },
   "source": [
    "Si la tasa de aprendizaje se reduce demasiado rápido, es posible que se quede atascado en un mínimo local o incluso quede congelado a la mitad del mínimo."
   ]
  },
  {
   "cell_type": "markdown",
   "id": "f703a3e7",
   "metadata": {
    "slideshow": {
     "slide_type": "slide"
    }
   },
   "source": [
    "Si la tasa de aprendizaje se reduce demasiado lentamente, puede saltar alrededor del mínimo durante mucho tiempo y terminar con una solución subóptima si detiene el entrenamiento demasiado pronto."
   ]
  },
  {
   "cell_type": "markdown",
   "id": "ab279c19",
   "metadata": {
    "slideshow": {
     "slide_type": "slide"
    }
   },
   "source": [
    "Este código implementa Stochastic Gradient Descent utilizando un programa de aprendizaje simple:"
   ]
  },
  {
   "cell_type": "code",
   "execution_count": 32,
   "id": "f9b7f052",
   "metadata": {
    "slideshow": {
     "slide_type": "slide"
    }
   },
   "outputs": [],
   "source": [
    "n_epochs = 50\n",
    "t0, t1 = 5, 50 # learning schedule hyperparameters\n",
    "def learning_schedule(t):\n",
    "    return t0 / (t + t1)\n",
    "w = np.random.randn(2,1) # random initialization\n",
    "for epoch in range(n_epochs):\n",
    "    for i in range(m):\n",
    "        random_index = np.random.randint(m)\n",
    "        xi = X_b[random_index:random_index+1]\n",
    "        yi = y[random_index:random_index+1]\n",
    "        gradients = 2 * xi.T.dot(xi.dot(w) - yi)\n",
    "        eta = learning_schedule(epoch * m + i)\n",
    "        w = w - eta * gradients"
   ]
  },
  {
   "cell_type": "code",
   "execution_count": 33,
   "id": "bd833fcc",
   "metadata": {
    "slideshow": {
     "slide_type": "slide"
    }
   },
   "outputs": [
    {
     "data": {
      "text/plain": [
       "array([[4.18475289],\n",
       "       [2.73036719]])"
      ]
     },
     "execution_count": 33,
     "metadata": {},
     "output_type": "execute_result"
    }
   ],
   "source": [
    "w"
   ]
  },
  {
   "cell_type": "markdown",
   "id": "e8f0af06",
   "metadata": {
    "slideshow": {
     "slide_type": "slide"
    }
   },
   "source": [
    "## Referencias  \n",
    "\n",
    "* https://scikit-learn.org/stable/modules/generated/sklearn.linear_model.SGDClassifier.html"
   ]
  },
  {
   "cell_type": "code",
   "execution_count": null,
   "id": "9adb07f5",
   "metadata": {},
   "outputs": [],
   "source": []
  }
 ],
 "metadata": {
  "celltoolbar": "Slideshow",
  "kernelspec": {
   "display_name": "Python 3 (ipykernel)",
   "language": "python",
   "name": "python3"
  },
  "language_info": {
   "codemirror_mode": {
    "name": "ipython",
    "version": 3
   },
   "file_extension": ".py",
   "mimetype": "text/x-python",
   "name": "python",
   "nbconvert_exporter": "python",
   "pygments_lexer": "ipython3",
   "version": "3.9.7"
  },
  "rise": {
   "theme": "sky"
  }
 },
 "nbformat": 4,
 "nbformat_minor": 5
}
