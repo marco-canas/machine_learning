{
 "cells": [
  {
   "cell_type": "code",
   "execution_count": 1,
   "id": "c061d799",
   "metadata": {},
   "outputs": [],
   "source": [
    "import numpy as np \n",
    "import pandas as pd \n",
    "\n",
    "from sklearn.model_selection import train_test_split \n",
    "from sklearn.base import BaseEstimator, TransformerMixin \n",
    "from sklearn.impute import SimpleImputer\n",
    "from sklearn.preprocessing import StandardScaler \n",
    "from sklearn.preprocessing import OneHotEncoder \n",
    "from sklearn.pipeline import Pipeline \n",
    "from sklearn.compose import ColumnTransformer\n",
    "\n",
    "# Construcción del modelo predictivo \n",
    "\n",
    "from sklearn.linear_model import LinearRegression\n",
    "from sklearn.metrics import mean_squared_error  \n",
    "from sklearn.tree import DecisionTreeRegressor \n",
    "from sklearn.model_selection import cross_val_score \n",
    "from sklearn.model_selection import GridSearchCV \n",
    "from sklearn.ensemble import RandomForestRegressor "
   ]
  },
  {
   "cell_type": "code",
   "execution_count": 2,
   "id": "c83ee86a",
   "metadata": {},
   "outputs": [],
   "source": [
    "v = pd.read_csv('vivienda.csv') "
   ]
  },
  {
   "cell_type": "code",
   "execution_count": 3,
   "id": "b6c83584",
   "metadata": {},
   "outputs": [],
   "source": [
    "v_train, v_test = train_test_split(v, test_size = 0.2, random_state = 42)"
   ]
  },
  {
   "cell_type": "code",
   "execution_count": 4,
   "id": "02fd858d",
   "metadata": {},
   "outputs": [],
   "source": [
    "v = v_train.drop('precio', axis = 1)\n",
    "v_labels = v_train[['precio']]   # para que v_labels sea 2D"
   ]
  },
  {
   "cell_type": "code",
   "execution_count": 5,
   "id": "1590ea4f",
   "metadata": {},
   "outputs": [],
   "source": [
    "class AdAtribComb(BaseEstimator, TransformerMixin):\n",
    "    def __init__(self, ad_dph = True, ad_hph = True, ad_pph = True): # no *args or **kargs\n",
    "        self.ad_dph = ad_dph\n",
    "        self.ad_hph = ad_hph\n",
    "        self.ad_pph = ad_pph\n",
    "        \n",
    "    def fit(self, X, y=None):\n",
    "        return self # nothing else to do\n",
    "    \n",
    "    def transform(self, X, y=None):\n",
    "        habitaciones, dormitorios, población, hogares = 3, 4, 5, 6 \n",
    "        if self.ad_dph:\n",
    "            dormitorios_por_habitación=X[:,dormitorios]/X[:,habitaciones]\n",
    "            X=np.c_[X, dormitorios_por_habitación]\n",
    "        if self.ad_hph:\n",
    "            habitaciones_por_hogar=X[:,habitaciones]/X[:,hogares]\n",
    "            X=np.c_[X, habitaciones_por_hogar]\n",
    "        if self.ad_pph: \n",
    "            población_por_hogar = X[:, población]/X[:, hogares]\n",
    "            X=np.c_[X, población_por_hogar] \n",
    "        return X\n",
    "       "
   ]
  },
  {
   "cell_type": "code",
   "execution_count": 6,
   "id": "e4000703",
   "metadata": {},
   "outputs": [],
   "source": [
    "pipeline_num = Pipeline([\n",
    "    ('imputar', SimpleImputer(strategy = 'median')),\n",
    "    ('adicionar_atributos', AdAtribComb(ad_dph = True, ad_hph = True, ad_pph = True)),\n",
    "    ('estandarizar', StandardScaler())\n",
    "])"
   ]
  },
  {
   "cell_type": "code",
   "execution_count": 7,
   "id": "be597a44",
   "metadata": {},
   "outputs": [],
   "source": [
    "v_num = v.drop('proximidad', axis = 1)\n",
    "lista_atributos_num = list(v_num.columns) \n",
    "lista_atributos_cat = ['proximidad']\n",
    "pipeline_total = ColumnTransformer([\n",
    "                                  (\"num\", pipeline_num, lista_atributos_num),\n",
    "                                  (\"cat\", OneHotEncoder(), lista_atributos_cat),\n",
    "                                  ])\n",
    "x_prep = pipeline_total.fit_transform(v)"
   ]
  },
  {
   "cell_type": "markdown",
   "id": "f2c61348",
   "metadata": {},
   "source": [
    "# Busquemos el mejor modelo predictor de precio de vivienda"
   ]
  },
  {
   "cell_type": "code",
   "execution_count": 8,
   "id": "858bc524",
   "metadata": {},
   "outputs": [],
   "source": [
    "regresor_lineal = LinearRegression() "
   ]
  },
  {
   "cell_type": "code",
   "execution_count": 9,
   "id": "bc146f8e",
   "metadata": {},
   "outputs": [
    {
     "data": {
      "text/plain": [
       "LinearRegression()"
      ]
     },
     "execution_count": 9,
     "metadata": {},
     "output_type": "execute_result"
    }
   ],
   "source": [
    "regresor_lineal.fit(x_prep, v_labels.values.ravel()) "
   ]
  },
  {
   "cell_type": "code",
   "execution_count": 10,
   "id": "76a90d06",
   "metadata": {},
   "outputs": [
    {
     "data": {
      "text/plain": [
       "array([-56276.05885186, -56638.23115891,  14122.30475198,   5881.10498027,\n",
       "         5307.66299678, -46320.28547056,  40233.72484825,  78904.43939684,\n",
       "        16809.10455136,   7699.44848838,    750.3679429 , -18666.47855331,\n",
       "       -53617.84037612, 112060.2444519 , -24109.18513167, -15666.74039081])"
      ]
     },
     "execution_count": 10,
     "metadata": {},
     "output_type": "execute_result"
    }
   ],
   "source": [
    "regresor_lineal.coef_ "
   ]
  },
  {
   "cell_type": "code",
   "execution_count": 11,
   "id": "eaf6a67c",
   "metadata": {},
   "outputs": [
    {
     "data": {
      "text/plain": [
       "237125.77897391893"
      ]
     },
     "execution_count": 11,
     "metadata": {},
     "output_type": "execute_result"
    }
   ],
   "source": [
    "regresor_lineal.intercept_"
   ]
  },
  {
   "cell_type": "code",
   "execution_count": 13,
   "id": "4991db4c",
   "metadata": {},
   "outputs": [],
   "source": [
    "algunos_datos = v.iloc[:5]"
   ]
  },
  {
   "cell_type": "code",
   "execution_count": 15,
   "id": "374b496c",
   "metadata": {},
   "outputs": [],
   "source": [
    "algunos_datos_prep = pipeline_total.transform(algunos_datos)"
   ]
  },
  {
   "cell_type": "code",
   "execution_count": 16,
   "id": "dd28d247",
   "metadata": {},
   "outputs": [
    {
     "data": {
      "text/plain": [
       "(5, 16)"
      ]
     },
     "execution_count": 16,
     "metadata": {},
     "output_type": "execute_result"
    }
   ],
   "source": [
    "algunos_datos_prep.shape "
   ]
  },
  {
   "cell_type": "code",
   "execution_count": 17,
   "id": "f1315472",
   "metadata": {},
   "outputs": [
    {
     "data": {
      "text/plain": [
       "array([181746.54359616, 290558.74973505, 244957.50017771, 146498.51061398,\n",
       "       163230.42393939])"
      ]
     },
     "execution_count": 17,
     "metadata": {},
     "output_type": "execute_result"
    }
   ],
   "source": [
    "algunas_predicciones = regresor_lineal.predict(algunos_datos_prep)\n",
    "algunas_predicciones"
   ]
  },
  {
   "cell_type": "code",
   "execution_count": 18,
   "id": "ca184b50",
   "metadata": {},
   "outputs": [
    {
     "data": {
      "text/html": [
       "<div>\n",
       "<style scoped>\n",
       "    .dataframe tbody tr th:only-of-type {\n",
       "        vertical-align: middle;\n",
       "    }\n",
       "\n",
       "    .dataframe tbody tr th {\n",
       "        vertical-align: top;\n",
       "    }\n",
       "\n",
       "    .dataframe thead th {\n",
       "        text-align: right;\n",
       "    }\n",
       "</style>\n",
       "<table border=\"1\" class=\"dataframe\">\n",
       "  <thead>\n",
       "    <tr style=\"text-align: right;\">\n",
       "      <th></th>\n",
       "      <th>precio</th>\n",
       "    </tr>\n",
       "  </thead>\n",
       "  <tbody>\n",
       "    <tr>\n",
       "      <th>14196</th>\n",
       "      <td>103000.0</td>\n",
       "    </tr>\n",
       "    <tr>\n",
       "      <th>8267</th>\n",
       "      <td>382100.0</td>\n",
       "    </tr>\n",
       "    <tr>\n",
       "      <th>17445</th>\n",
       "      <td>172600.0</td>\n",
       "    </tr>\n",
       "    <tr>\n",
       "      <th>14265</th>\n",
       "      <td>93400.0</td>\n",
       "    </tr>\n",
       "    <tr>\n",
       "      <th>2271</th>\n",
       "      <td>96500.0</td>\n",
       "    </tr>\n",
       "  </tbody>\n",
       "</table>\n",
       "</div>"
      ],
      "text/plain": [
       "         precio\n",
       "14196  103000.0\n",
       "8267   382100.0\n",
       "17445  172600.0\n",
       "14265   93400.0\n",
       "2271    96500.0"
      ]
     },
     "execution_count": 18,
     "metadata": {},
     "output_type": "execute_result"
    }
   ],
   "source": [
    "v_labels[:5]"
   ]
  },
  {
   "cell_type": "markdown",
   "id": "66b2e98a",
   "metadata": {},
   "source": [
    "# Veamos el desempeño en el conjunto de entrenamiento"
   ]
  },
  {
   "cell_type": "code",
   "execution_count": 19,
   "id": "692e0484",
   "metadata": {},
   "outputs": [],
   "source": [
    "predicciones_train_total = regresor_lineal.predict(x_prep) "
   ]
  },
  {
   "cell_type": "code",
   "execution_count": 20,
   "id": "950b3c24",
   "metadata": {},
   "outputs": [
    {
     "data": {
      "text/plain": [
       "67593.20745775253"
      ]
     },
     "execution_count": 20,
     "metadata": {},
     "output_type": "execute_result"
    }
   ],
   "source": [
    "np.sqrt(mean_squared_error(predicciones_train_total, v_labels))"
   ]
  },
  {
   "cell_type": "markdown",
   "id": "514bcf58",
   "metadata": {},
   "source": [
    "# Construcción de otro modelo para comparar"
   ]
  },
  {
   "cell_type": "code",
   "execution_count": 21,
   "id": "403f520b",
   "metadata": {},
   "outputs": [],
   "source": [
    "regresor_tree = DecisionTreeRegressor() "
   ]
  },
  {
   "cell_type": "code",
   "execution_count": 22,
   "id": "3d817709",
   "metadata": {},
   "outputs": [
    {
     "data": {
      "text/plain": [
       "DecisionTreeRegressor()"
      ]
     },
     "execution_count": 22,
     "metadata": {},
     "output_type": "execute_result"
    }
   ],
   "source": [
    "regresor_tree.fit(x_prep, v_labels) "
   ]
  },
  {
   "cell_type": "markdown",
   "id": "b8925137",
   "metadata": {},
   "source": [
    "## Veamos el desempeño de este este segundo regresor  en el conjunto de entrenamiento"
   ]
  },
  {
   "cell_type": "code",
   "execution_count": 23,
   "id": "3fb478df",
   "metadata": {},
   "outputs": [],
   "source": [
    "predicciones_tree = regresor_tree.predict(x_prep) "
   ]
  },
  {
   "cell_type": "code",
   "execution_count": 24,
   "id": "628490b2",
   "metadata": {},
   "outputs": [
    {
     "data": {
      "text/plain": [
       "0.0"
      ]
     },
     "execution_count": 24,
     "metadata": {},
     "output_type": "execute_result"
    }
   ],
   "source": [
    "np.sqrt(mean_squared_error(predicciones_tree, v_labels)) "
   ]
  },
  {
   "cell_type": "markdown",
   "id": "907d8387",
   "metadata": {},
   "source": [
    "## Evaluemos el desempeño de estos modelos con la metodología de validación cruzada"
   ]
  },
  {
   "cell_type": "code",
   "execution_count": 30,
   "id": "188f09e9",
   "metadata": {},
   "outputs": [],
   "source": [
    "puntajes_tree = cross_val_score(regresor_tree, x_prep, v_labels,\\\n",
    "                          scoring = 'neg_mean_squared_error', cv = 10)"
   ]
  },
  {
   "cell_type": "code",
   "execution_count": 28,
   "id": "1efa5da7",
   "metadata": {},
   "outputs": [
    {
     "data": {
      "text/plain": [
       "array([65685.65501858, 70650.80046409, 68918.88667265, 72846.80432153,\n",
       "       73312.10849022, 65628.29564683, 66681.71526809, 67533.35655724,\n",
       "       65619.24561123, 69928.06384812])"
      ]
     },
     "execution_count": 28,
     "metadata": {},
     "output_type": "execute_result"
    }
   ],
   "source": [
    "np.sqrt(-puntajes) "
   ]
  },
  {
   "cell_type": "code",
   "execution_count": 29,
   "id": "a958e28b",
   "metadata": {},
   "outputs": [],
   "source": [
    "def mostrar_puntajes(puntajes):\n",
    "    print('Puntajes: ',np.sqrt(-puntajes) )\n",
    "    print('Primedio de los puntajes: ', np.sqrt(-puntajes).mean() )\n",
    "    print('Desviación estandar: ', np.sqrt(-puntajes).std() )"
   ]
  },
  {
   "cell_type": "code",
   "execution_count": 31,
   "id": "1ccd15f1",
   "metadata": {},
   "outputs": [
    {
     "name": "stdout",
     "output_type": "stream",
     "text": [
      "Puntajes:  [64321.39925196 71446.91716289 70037.24551339 70008.97891562\n",
      " 72773.07388903 66678.64638601 66408.59004051 68340.40626132\n",
      " 67371.23657963 70517.70451163]\n",
      "Primedio de los puntajes:  68790.41985119844\n",
      "Desviación estandar:  2475.1348003055773\n"
     ]
    }
   ],
   "source": [
    "mostrar_puntajes(puntajes_tree)"
   ]
  },
  {
   "cell_type": "code",
   "execution_count": 32,
   "id": "101e11bf",
   "metadata": {},
   "outputs": [],
   "source": [
    "puntajes_lineal = cross_val_score(regresor_lineal, x_prep, v_labels,\\\n",
    "                          scoring = 'neg_mean_squared_error', cv = 10)"
   ]
  },
  {
   "cell_type": "code",
   "execution_count": 33,
   "id": "cc09c706",
   "metadata": {},
   "outputs": [
    {
     "name": "stdout",
     "output_type": "stream",
     "text": [
      "Puntajes:  [65000.67382615 70960.56056304 67122.63935124 66089.63153865\n",
      " 68402.54686442 65266.34735288 65218.78174481 68525.46981754\n",
      " 72739.87555996 68957.34111906]\n",
      "Primedio de los puntajes:  67828.38677377408\n",
      "Desviación estandar:  2468.091395065228\n"
     ]
    }
   ],
   "source": [
    "mostrar_puntajes(puntajes_lineal)"
   ]
  },
  {
   "cell_type": "markdown",
   "id": "6382bfa5",
   "metadata": {},
   "source": [
    "# Un tercer modelo para comparar desempeño"
   ]
  },
  {
   "cell_type": "code",
   "execution_count": 34,
   "id": "4886c1ef",
   "metadata": {},
   "outputs": [],
   "source": [
    "regresor_forest = RandomForestRegressor() "
   ]
  },
  {
   "cell_type": "code",
   "execution_count": 36,
   "id": "cc25db40",
   "metadata": {},
   "outputs": [
    {
     "data": {
      "text/plain": [
       "RandomForestRegressor()"
      ]
     },
     "execution_count": 36,
     "metadata": {},
     "output_type": "execute_result"
    }
   ],
   "source": [
    "regresor_forest.fit(x_prep, v_labels.values.ravel()) "
   ]
  },
  {
   "cell_type": "code",
   "execution_count": 37,
   "id": "605b7272",
   "metadata": {},
   "outputs": [],
   "source": [
    "predicciones_forest = regresor_forest.predict(x_prep)"
   ]
  },
  {
   "cell_type": "code",
   "execution_count": 38,
   "id": "0ee7fe1f",
   "metadata": {},
   "outputs": [
    {
     "data": {
      "text/plain": [
       "18503.725782159352"
      ]
     },
     "execution_count": 38,
     "metadata": {},
     "output_type": "execute_result"
    }
   ],
   "source": [
    "np.sqrt(mean_squared_error(predicciones_forest, v_labels))"
   ]
  },
  {
   "cell_type": "code",
   "execution_count": 39,
   "id": "9ed3b90a",
   "metadata": {},
   "outputs": [
    {
     "name": "stderr",
     "output_type": "stream",
     "text": [
      "C:\\Users\\Marco\\anaconda3\\lib\\site-packages\\sklearn\\model_selection\\_validation.py:598: DataConversionWarning: A column-vector y was passed when a 1d array was expected. Please change the shape of y to (n_samples,), for example using ravel().\n",
      "  estimator.fit(X_train, y_train, **fit_params)\n",
      "C:\\Users\\Marco\\anaconda3\\lib\\site-packages\\sklearn\\model_selection\\_validation.py:598: DataConversionWarning: A column-vector y was passed when a 1d array was expected. Please change the shape of y to (n_samples,), for example using ravel().\n",
      "  estimator.fit(X_train, y_train, **fit_params)\n",
      "C:\\Users\\Marco\\anaconda3\\lib\\site-packages\\sklearn\\model_selection\\_validation.py:598: DataConversionWarning: A column-vector y was passed when a 1d array was expected. Please change the shape of y to (n_samples,), for example using ravel().\n",
      "  estimator.fit(X_train, y_train, **fit_params)\n",
      "C:\\Users\\Marco\\anaconda3\\lib\\site-packages\\sklearn\\model_selection\\_validation.py:598: DataConversionWarning: A column-vector y was passed when a 1d array was expected. Please change the shape of y to (n_samples,), for example using ravel().\n",
      "  estimator.fit(X_train, y_train, **fit_params)\n",
      "C:\\Users\\Marco\\anaconda3\\lib\\site-packages\\sklearn\\model_selection\\_validation.py:598: DataConversionWarning: A column-vector y was passed when a 1d array was expected. Please change the shape of y to (n_samples,), for example using ravel().\n",
      "  estimator.fit(X_train, y_train, **fit_params)\n",
      "C:\\Users\\Marco\\anaconda3\\lib\\site-packages\\sklearn\\model_selection\\_validation.py:598: DataConversionWarning: A column-vector y was passed when a 1d array was expected. Please change the shape of y to (n_samples,), for example using ravel().\n",
      "  estimator.fit(X_train, y_train, **fit_params)\n",
      "C:\\Users\\Marco\\anaconda3\\lib\\site-packages\\sklearn\\model_selection\\_validation.py:598: DataConversionWarning: A column-vector y was passed when a 1d array was expected. Please change the shape of y to (n_samples,), for example using ravel().\n",
      "  estimator.fit(X_train, y_train, **fit_params)\n",
      "C:\\Users\\Marco\\anaconda3\\lib\\site-packages\\sklearn\\model_selection\\_validation.py:598: DataConversionWarning: A column-vector y was passed when a 1d array was expected. Please change the shape of y to (n_samples,), for example using ravel().\n",
      "  estimator.fit(X_train, y_train, **fit_params)\n",
      "C:\\Users\\Marco\\anaconda3\\lib\\site-packages\\sklearn\\model_selection\\_validation.py:598: DataConversionWarning: A column-vector y was passed when a 1d array was expected. Please change the shape of y to (n_samples,), for example using ravel().\n",
      "  estimator.fit(X_train, y_train, **fit_params)\n",
      "C:\\Users\\Marco\\anaconda3\\lib\\site-packages\\sklearn\\model_selection\\_validation.py:598: DataConversionWarning: A column-vector y was passed when a 1d array was expected. Please change the shape of y to (n_samples,), for example using ravel().\n",
      "  estimator.fit(X_train, y_train, **fit_params)\n"
     ]
    }
   ],
   "source": [
    "puntajes_forest = cross_val_score(regresor_forest, x_prep, v_labels.values.ravel(),\\\n",
    "                          scoring = 'neg_mean_squared_error', cv = 10)"
   ]
  },
  {
   "cell_type": "code",
   "execution_count": 40,
   "id": "a65a40ef",
   "metadata": {},
   "outputs": [
    {
     "name": "stdout",
     "output_type": "stream",
     "text": [
      "Puntajes:  [47007.48062271 51552.7795371  49708.20031694 51903.44798785\n",
      " 52240.2839639  47176.06878833 47361.64798482 50443.79787821\n",
      " 49143.81538792 49972.99492433]\n",
      "Primedio de los puntajes:  49651.05173921147\n",
      "Desviación estandar:  1863.9208118544893\n"
     ]
    }
   ],
   "source": [
    "mostrar_puntajes(puntajes_forest) "
   ]
  },
  {
   "cell_type": "markdown",
   "id": "ffbe7e30",
   "metadata": {},
   "source": [
    "# Ya elegido el modelo que mejor se desempeña, afinemoslo"
   ]
  },
  {
   "cell_type": "code",
   "execution_count": 54,
   "id": "59d533e3",
   "metadata": {},
   "outputs": [],
   "source": [
    "param_grid = [\n",
    "    {'n_estimators':[3, 10, 30,40], 'max_features': [2, 4, 6, 8, 10]},\n",
    "    {'bootstrap':[False],'n_estimators':[3, 10], 'max_features': [2, 3, 4] }\n",
    "]"
   ]
  },
  {
   "cell_type": "code",
   "execution_count": 55,
   "id": "ca52de2d",
   "metadata": {},
   "outputs": [],
   "source": [
    "cuadricula = GridSearchCV(regresor_forest, param_grid, return_train_score=True, scoring = 'neg_mean_squared_error', cv = 5) "
   ]
  },
  {
   "cell_type": "code",
   "execution_count": 56,
   "id": "023d2f5c",
   "metadata": {},
   "outputs": [
    {
     "data": {
      "text/plain": [
       "GridSearchCV(cv=5, estimator=RandomForestRegressor(),\n",
       "             param_grid=[{'max_features': [2, 4, 6, 8, 10],\n",
       "                          'n_estimators': [3, 10, 30, 40]},\n",
       "                         {'bootstrap': [False], 'max_features': [2, 3, 4],\n",
       "                          'n_estimators': [3, 10]}],\n",
       "             return_train_score=True, scoring='neg_mean_squared_error')"
      ]
     },
     "execution_count": 56,
     "metadata": {},
     "output_type": "execute_result"
    }
   ],
   "source": [
    "cuadricula.fit(x_prep, v_labels.values.ravel()) "
   ]
  },
  {
   "cell_type": "code",
   "execution_count": 57,
   "id": "e10b0f4c",
   "metadata": {},
   "outputs": [
    {
     "data": {
      "text/plain": [
       "{'max_features': 8, 'n_estimators': 40}"
      ]
     },
     "execution_count": 57,
     "metadata": {},
     "output_type": "execute_result"
    }
   ],
   "source": [
    "cuadricula.best_params_"
   ]
  },
  {
   "cell_type": "code",
   "execution_count": 58,
   "id": "1ec67457",
   "metadata": {},
   "outputs": [],
   "source": [
    "mejor_regresor_forest = RandomForestRegressor(max_features = 8, n_estimators = 40)"
   ]
  },
  {
   "cell_type": "code",
   "execution_count": 59,
   "id": "d2d33fd1",
   "metadata": {},
   "outputs": [
    {
     "data": {
      "text/plain": [
       "RandomForestRegressor(max_features=8, n_estimators=40)"
      ]
     },
     "execution_count": 59,
     "metadata": {},
     "output_type": "execute_result"
    }
   ],
   "source": [
    "mejor_regresor_forest.fit(x_prep, v_labels.values.ravel())"
   ]
  },
  {
   "cell_type": "code",
   "execution_count": 60,
   "id": "74451e79",
   "metadata": {},
   "outputs": [],
   "source": [
    "predicciones_finales = mejor_regresor_forest.predict(x_prep)"
   ]
  },
  {
   "cell_type": "code",
   "execution_count": 61,
   "id": "41956ca5",
   "metadata": {},
   "outputs": [
    {
     "data": {
      "text/plain": [
       "18741.233031207186"
      ]
     },
     "execution_count": 61,
     "metadata": {},
     "output_type": "execute_result"
    }
   ],
   "source": [
    "np.sqrt(mean_squared_error(predicciones_finales, v_labels))"
   ]
  },
  {
   "cell_type": "code",
   "execution_count": 62,
   "id": "ad653e41",
   "metadata": {},
   "outputs": [],
   "source": [
    "puntajes_forest_mejor = cross_val_score(mejor_regresor_forest,\\\n",
    "                                        x_prep, v_labels.values.ravel(), \\\n",
    "                                        scoring = 'neg_mean_squared_error', cv = 10)"
   ]
  },
  {
   "cell_type": "code",
   "execution_count": 63,
   "id": "dc9dfa0e",
   "metadata": {},
   "outputs": [
    {
     "name": "stdout",
     "output_type": "stream",
     "text": [
      "Puntajes:  [47456.10569609 51321.55648378 48730.10613152 50652.7430317\n",
      " 51523.03829551 46839.24135759 47193.32546764 50424.74201249\n",
      " 49429.23750662 50270.59007942]\n",
      "Primedio de los puntajes:  49384.068606236266\n",
      "Desviación estandar:  1650.1441216299015\n"
     ]
    }
   ],
   "source": [
    "mostrar_puntajes(puntajes_forest_mejor) "
   ]
  },
  {
   "cell_type": "code",
   "execution_count": null,
   "id": "bf32a481",
   "metadata": {},
   "outputs": [],
   "source": []
  }
 ],
 "metadata": {
  "kernelspec": {
   "display_name": "Python 3 (ipykernel)",
   "language": "python",
   "name": "python3"
  },
  "language_info": {
   "codemirror_mode": {
    "name": "ipython",
    "version": 3
   },
   "file_extension": ".py",
   "mimetype": "text/x-python",
   "name": "python",
   "nbconvert_exporter": "python",
   "pygments_lexer": "ipython3",
   "version": "3.9.7"
  }
 },
 "nbformat": 4,
 "nbformat_minor": 5
}
