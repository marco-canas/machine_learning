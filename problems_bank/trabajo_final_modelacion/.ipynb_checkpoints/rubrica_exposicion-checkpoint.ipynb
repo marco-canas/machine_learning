{
 "cells": [
  {
   "cell_type": "markdown",
   "id": "56eaf8c0",
   "metadata": {
    "slideshow": {
     "slide_type": "slide"
    }
   },
   "source": [
    "<table align=\"left\">\n",
    "  <td>\n",
    "    <a href=\"https://colab.research.google.com/github/marco-canas/intro-Machine-Learning/blob/main/classes/class_1/1_tipo_datos_python.ipynb\" target=\"_parent\"><img src=\"https://colab.research.google.com/assets/colab-badge.svg\" alt=\"Open In Colab\"/></a>\n",
    "  </td>\n",
    "</table>"
   ]
  },
  {
   "cell_type": "markdown",
   "id": "08cf555a",
   "metadata": {
    "slideshow": {
     "slide_type": "slide"
    }
   },
   "source": [
    "# Rúbrica para la exposición final del Modelo de Machine learning de Clasificación o regresión"
   ]
  },
  {
   "cell_type": "markdown",
   "id": "768eefc4",
   "metadata": {
    "slideshow": {
     "slide_type": "slide"
    }
   },
   "source": [
    "* Describe con fluidez el dataset y el problema de modelación que afrontó. $\\_\\_\\_$"
   ]
  },
  {
   "cell_type": "code",
   "execution_count": null,
   "id": "34655180",
   "metadata": {
    "slideshow": {
     "slide_type": "slide"
    }
   },
   "outputs": [],
   "source": []
  },
  {
   "cell_type": "code",
   "execution_count": null,
   "id": "64e10cc7",
   "metadata": {},
   "outputs": [],
   "source": []
  },
  {
   "cell_type": "markdown",
   "id": "084256ff",
   "metadata": {},
   "source": [
    "Permiten gestionar y sistematizar el proceso evaluativo, facilitan\n",
    "la descripción de los criterios a seguir para valorar el trabajo\n",
    "realizado. Estas suelen emplearse para valorar distintos tipos de\n",
    "productos, competencias y habilidades adquiridas por los\n",
    "estudiantes Proyectos, presentaciones digitales, trabajos grupales\n",
    "etc. Existen de distintos tipos pero en todos los casos proporcionan\n",
    "indicadores específicos para documentar el progreso de los\n",
    "estudiantes. Contiene elementos a evaluar y en cada uno de ellos se\n",
    "realiza una descripción de diferentes niveles, se extrapolan por lo\n",
    "novato en un extremo y la experta por otro. Ofrecen gran precisión\n",
    "para valorar las competencias y habilidades adquiridas por los\n",
    "estudiantes al concluir su proceso formativo a través de un\n",
    "conjunto de criterios que reflejan diferentes niveles de logro de una\n",
    "manera clara y explícita."
   ]
  }
 ],
 "metadata": {
  "celltoolbar": "Slideshow",
  "kernelspec": {
   "display_name": "Python 3 (ipykernel)",
   "language": "python",
   "name": "python3"
  },
  "language_info": {
   "codemirror_mode": {
    "name": "ipython",
    "version": 3
   },
   "file_extension": ".py",
   "mimetype": "text/x-python",
   "name": "python",
   "nbconvert_exporter": "python",
   "pygments_lexer": "ipython3",
   "version": "3.9.7"
  }
 },
 "nbformat": 4,
 "nbformat_minor": 5
}
