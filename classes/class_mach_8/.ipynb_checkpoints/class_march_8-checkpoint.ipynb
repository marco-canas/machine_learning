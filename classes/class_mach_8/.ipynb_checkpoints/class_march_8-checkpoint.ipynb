{
 "cells": [
  {
   "cell_type": "markdown",
   "id": "5f347b07",
   "metadata": {
    "slideshow": {
     "slide_type": "slide"
    }
   },
   "source": [
    "<table align=\"left\">\n",
    "  <td>\n",
    "    <a href=\"https://colab.research.google.com/github/marco-canas/machine_learning/blob/main/classes/class_mach_8/class_march_8.ipynb\" target=\"_parent\"><img src=\"https://colab.research.google.com/assets/colab-badge.svg\" alt=\"Open In Colab\"/></a>\n",
    "  </td>\n",
    "</table>"
   ]
  },
  {
   "cell_type": "markdown",
   "id": "08f48f8d",
   "metadata": {
    "slideshow": {
     "slide_type": "slide"
    }
   },
   "source": [
    "# Clase del 8 de Marzo. Clasificación. Capítulo 3 de Géron"
   ]
  },
  {
   "cell_type": "markdown",
   "id": "bff657a4",
   "metadata": {
    "slideshow": {
     "slide_type": "slide"
    }
   },
   "source": [
    "Las tareas de **aprendizaje supervisado** más comunes son:  \n",
    "\n",
    "* la regresión (predicción de valores) y \n",
    "* la clasificación (predicción de clases)."
   ]
  },
  {
   "cell_type": "markdown",
   "id": "2189765f",
   "metadata": {
    "slideshow": {
     "slide_type": "slide"
    }
   },
   "source": [
    "Hemos explorado una tarea de regresión, prediciendo precios de viviendas, utilizando varios algoritmos como:  \n",
    "\n",
    "* Regresión lineal, \n",
    "* Árboles de decisión, \n",
    "* Bosques aleatorios y\n",
    "* Máquinas de soporte vectorial\n",
    "\n"
   ]
  },
  {
   "cell_type": "markdown",
   "id": "85a148f2",
   "metadata": {
    "slideshow": {
     "slide_type": "slide"
    }
   },
   "source": [
    "## MNIST"
   ]
  },
  {
   "cell_type": "markdown",
   "id": "bf2e6895",
   "metadata": {
    "slideshow": {
     "slide_type": "slide"
    }
   },
   "source": [
    "* utilizaremos el conjunto de datos MNIST,   \n",
    "\n",
    "* 70 000 imágenes pequeñas de dígitos escritos a mano por estudiantes de secundaria y empleados de la Oficina del Censo de EE. UU."
   ]
  },
  {
   "cell_type": "markdown",
   "id": "9e571ff8",
   "metadata": {
    "slideshow": {
     "slide_type": "slide"
    }
   },
   "source": [
    "Cada imagen está etiquetada con el dígito que representa."
   ]
  },
  {
   "cell_type": "markdown",
   "id": "629f16c8",
   "metadata": {
    "slideshow": {
     "slide_type": "slide"
    }
   },
   "source": [
    "Scikit-Learn proporciona muchas funciones auxiliares para descargar conjuntos de datos populares."
   ]
  },
  {
   "cell_type": "code",
   "execution_count": 1,
   "id": "aeca5a05",
   "metadata": {
    "slideshow": {
     "slide_type": "slide"
    }
   },
   "outputs": [],
   "source": [
    "import numpy as np \n",
    "import pandas as pd \n",
    "\n",
    "#from sklearn.datasets import fetch_openml \n",
    "\n",
    "#mnist = fetch_openml('mnist_784', version = 1)"
   ]
  },
  {
   "cell_type": "markdown",
   "id": "86d9ef8e",
   "metadata": {
    "slideshow": {
     "slide_type": "slide"
    }
   },
   "source": [
    "Los conjuntos de datos cargados por Scikit-Learn generalmente tienen una estructura similar a un diccionario, que incluye lo siguiente:  "
   ]
  },
  {
   "cell_type": "markdown",
   "id": "1dac0268",
   "metadata": {
    "slideshow": {
     "slide_type": "slide"
    }
   },
   "source": [
    "* Una clave `DESCR` que describe el conjunto de datos"
   ]
  },
  {
   "cell_type": "code",
   "execution_count": null,
   "id": "0a3c7c1a",
   "metadata": {
    "slideshow": {
     "slide_type": "slide"
    }
   },
   "outputs": [],
   "source": [
    "#mnist.DESCR"
   ]
  },
  {
   "cell_type": "markdown",
   "id": "5886093c",
   "metadata": {
    "slideshow": {
     "slide_type": "slide"
    }
   },
   "source": [
    "* Una clave `data` que contiene un DataFrame con una fila por instancia y una columna por característica. "
   ]
  },
  {
   "cell_type": "markdown",
   "id": "e33e541c",
   "metadata": {
    "slideshow": {
     "slide_type": "slide"
    }
   },
   "source": [
    "* Una clave `target` que contiene una matriz con las etiquetas"
   ]
  },
  {
   "cell_type": "markdown",
   "id": "9c642039",
   "metadata": {
    "slideshow": {
     "slide_type": "slide"
    }
   },
   "source": [
    "# Importar datos y dividir en predictores y etiquetas "
   ]
  },
  {
   "cell_type": "code",
   "execution_count": 2,
   "id": "bedf60cd",
   "metadata": {
    "slideshow": {
     "slide_type": "slide"
    }
   },
   "outputs": [],
   "source": [
    "X = pd.read_csv('mnist_X.csv')"
   ]
  },
  {
   "cell_type": "code",
   "execution_count": 3,
   "id": "9d56bf2e",
   "metadata": {
    "slideshow": {
     "slide_type": "slide"
    }
   },
   "outputs": [],
   "source": [
    "y = pd.read_csv('mnist_y.csv') \n"
   ]
  },
  {
   "cell_type": "markdown",
   "id": "5655491d",
   "metadata": {
    "slideshow": {
     "slide_type": "slide"
    }
   },
   "source": [
    "# División en predictores y etiquetas"
   ]
  },
  {
   "cell_type": "code",
   "execution_count": 4,
   "id": "c2c897b0",
   "metadata": {
    "slideshow": {
     "slide_type": "slide"
    }
   },
   "outputs": [
    {
     "data": {
      "text/html": [
       "<div>\n",
       "<style scoped>\n",
       "    .dataframe tbody tr th:only-of-type {\n",
       "        vertical-align: middle;\n",
       "    }\n",
       "\n",
       "    .dataframe tbody tr th {\n",
       "        vertical-align: top;\n",
       "    }\n",
       "\n",
       "    .dataframe thead th {\n",
       "        text-align: right;\n",
       "    }\n",
       "</style>\n",
       "<table border=\"1\" class=\"dataframe\">\n",
       "  <thead>\n",
       "    <tr style=\"text-align: right;\">\n",
       "      <th></th>\n",
       "      <th>pixel1</th>\n",
       "      <th>pixel2</th>\n",
       "      <th>pixel3</th>\n",
       "      <th>pixel4</th>\n",
       "      <th>pixel5</th>\n",
       "      <th>pixel6</th>\n",
       "      <th>pixel7</th>\n",
       "      <th>pixel8</th>\n",
       "      <th>pixel9</th>\n",
       "      <th>pixel10</th>\n",
       "      <th>...</th>\n",
       "      <th>pixel775</th>\n",
       "      <th>pixel776</th>\n",
       "      <th>pixel777</th>\n",
       "      <th>pixel778</th>\n",
       "      <th>pixel779</th>\n",
       "      <th>pixel780</th>\n",
       "      <th>pixel781</th>\n",
       "      <th>pixel782</th>\n",
       "      <th>pixel783</th>\n",
       "      <th>pixel784</th>\n",
       "    </tr>\n",
       "  </thead>\n",
       "  <tbody>\n",
       "    <tr>\n",
       "      <th>0</th>\n",
       "      <td>0.0</td>\n",
       "      <td>0.0</td>\n",
       "      <td>0.0</td>\n",
       "      <td>0.0</td>\n",
       "      <td>0.0</td>\n",
       "      <td>0.0</td>\n",
       "      <td>0.0</td>\n",
       "      <td>0.0</td>\n",
       "      <td>0.0</td>\n",
       "      <td>0.0</td>\n",
       "      <td>...</td>\n",
       "      <td>0.0</td>\n",
       "      <td>0.0</td>\n",
       "      <td>0.0</td>\n",
       "      <td>0.0</td>\n",
       "      <td>0.0</td>\n",
       "      <td>0.0</td>\n",
       "      <td>0.0</td>\n",
       "      <td>0.0</td>\n",
       "      <td>0.0</td>\n",
       "      <td>0.0</td>\n",
       "    </tr>\n",
       "    <tr>\n",
       "      <th>1</th>\n",
       "      <td>0.0</td>\n",
       "      <td>0.0</td>\n",
       "      <td>0.0</td>\n",
       "      <td>0.0</td>\n",
       "      <td>0.0</td>\n",
       "      <td>0.0</td>\n",
       "      <td>0.0</td>\n",
       "      <td>0.0</td>\n",
       "      <td>0.0</td>\n",
       "      <td>0.0</td>\n",
       "      <td>...</td>\n",
       "      <td>0.0</td>\n",
       "      <td>0.0</td>\n",
       "      <td>0.0</td>\n",
       "      <td>0.0</td>\n",
       "      <td>0.0</td>\n",
       "      <td>0.0</td>\n",
       "      <td>0.0</td>\n",
       "      <td>0.0</td>\n",
       "      <td>0.0</td>\n",
       "      <td>0.0</td>\n",
       "    </tr>\n",
       "  </tbody>\n",
       "</table>\n",
       "<p>2 rows × 784 columns</p>\n",
       "</div>"
      ],
      "text/plain": [
       "   pixel1  pixel2  pixel3  pixel4  pixel5  pixel6  pixel7  pixel8  pixel9  \\\n",
       "0     0.0     0.0     0.0     0.0     0.0     0.0     0.0     0.0     0.0   \n",
       "1     0.0     0.0     0.0     0.0     0.0     0.0     0.0     0.0     0.0   \n",
       "\n",
       "   pixel10  ...  pixel775  pixel776  pixel777  pixel778  pixel779  pixel780  \\\n",
       "0      0.0  ...       0.0       0.0       0.0       0.0       0.0       0.0   \n",
       "1      0.0  ...       0.0       0.0       0.0       0.0       0.0       0.0   \n",
       "\n",
       "   pixel781  pixel782  pixel783  pixel784  \n",
       "0       0.0       0.0       0.0       0.0  \n",
       "1       0.0       0.0       0.0       0.0  \n",
       "\n",
       "[2 rows x 784 columns]"
      ]
     },
     "execution_count": 4,
     "metadata": {},
     "output_type": "execute_result"
    }
   ],
   "source": [
    "X.head(2)"
   ]
  },
  {
   "cell_type": "code",
   "execution_count": 5,
   "id": "2b63a04f",
   "metadata": {
    "slideshow": {
     "slide_type": "slide"
    }
   },
   "outputs": [
    {
     "data": {
      "text/plain": [
       "pandas.core.frame.DataFrame"
      ]
     },
     "execution_count": 5,
     "metadata": {},
     "output_type": "execute_result"
    }
   ],
   "source": [
    "type(X) "
   ]
  },
  {
   "cell_type": "code",
   "execution_count": 6,
   "id": "252413c2",
   "metadata": {
    "slideshow": {
     "slide_type": "slide"
    }
   },
   "outputs": [
    {
     "data": {
      "text/plain": [
       "pandas.core.frame.DataFrame"
      ]
     },
     "execution_count": 6,
     "metadata": {},
     "output_type": "execute_result"
    }
   ],
   "source": [
    "type(y) "
   ]
  },
  {
   "cell_type": "code",
   "execution_count": 7,
   "id": "77ff73d0",
   "metadata": {
    "slideshow": {
     "slide_type": "slide"
    }
   },
   "outputs": [],
   "source": [
    "X = X.values\n",
    "y = y.values.ravel()"
   ]
  },
  {
   "cell_type": "code",
   "execution_count": 8,
   "id": "6bb0ba85",
   "metadata": {
    "slideshow": {
     "slide_type": "slide"
    }
   },
   "outputs": [
    {
     "data": {
      "text/plain": [
       "numpy.ndarray"
      ]
     },
     "execution_count": 8,
     "metadata": {},
     "output_type": "execute_result"
    }
   ],
   "source": [
    "type(X)"
   ]
  },
  {
   "cell_type": "code",
   "execution_count": 9,
   "id": "a42e725b",
   "metadata": {
    "slideshow": {
     "slide_type": "slide"
    }
   },
   "outputs": [
    {
     "data": {
      "text/plain": [
       "numpy.ndarray"
      ]
     },
     "execution_count": 9,
     "metadata": {},
     "output_type": "execute_result"
    }
   ],
   "source": [
    "type(y)"
   ]
  },
  {
   "cell_type": "code",
   "execution_count": 10,
   "id": "2376cac9",
   "metadata": {
    "slideshow": {
     "slide_type": "slide"
    }
   },
   "outputs": [
    {
     "data": {
      "text/plain": [
       "5"
      ]
     },
     "execution_count": 10,
     "metadata": {},
     "output_type": "execute_result"
    }
   ],
   "source": [
    "y[0]"
   ]
  },
  {
   "cell_type": "code",
   "execution_count": 11,
   "id": "8ce60f7f",
   "metadata": {
    "slideshow": {
     "slide_type": "slide"
    }
   },
   "outputs": [
    {
     "data": {
      "text/plain": [
       "(70000, 784)"
      ]
     },
     "execution_count": 11,
     "metadata": {},
     "output_type": "execute_result"
    }
   ],
   "source": [
    "X.shape"
   ]
  },
  {
   "cell_type": "code",
   "execution_count": 12,
   "id": "627c41ba",
   "metadata": {
    "slideshow": {
     "slide_type": "slide"
    }
   },
   "outputs": [
    {
     "data": {
      "text/plain": [
       "(70000,)"
      ]
     },
     "execution_count": 12,
     "metadata": {},
     "output_type": "execute_result"
    }
   ],
   "source": [
    "y.shape "
   ]
  },
  {
   "cell_type": "markdown",
   "id": "aa1e6ce8",
   "metadata": {
    "slideshow": {
     "slide_type": "slide"
    }
   },
   "source": [
    "Hay 70.000 imágenes y cada imagen tiene 784 características."
   ]
  },
  {
   "cell_type": "markdown",
   "id": "0b6d8a3f",
   "metadata": {
    "slideshow": {
     "slide_type": "slide"
    }
   },
   "source": [
    "Esto se debe a que cada imagen tiene $28 \\times 28$ píxeles, y cada característica simplemente representa la intensidad de un píxel, de 0 (blanco) a 255 (negro)."
   ]
  },
  {
   "cell_type": "markdown",
   "id": "33c2f66b",
   "metadata": {
    "slideshow": {
     "slide_type": "slide"
    }
   },
   "source": [
    "Echemos un vistazo a un dígito del conjunto de datos."
   ]
  },
  {
   "cell_type": "markdown",
   "id": "b7549179",
   "metadata": {
    "slideshow": {
     "slide_type": "slide"
    }
   },
   "source": [
    "Todo lo que necesita hacer es:\n",
    "\n",
    "* tomar el vector de características de una instancia, \n",
    "* redimensionarlo a una matriz $28 \\times 28$ y \n",
    "* mostrarlo usando la función `imshow()` de `Matplotlib`:"
   ]
  },
  {
   "cell_type": "code",
   "execution_count": 13,
   "id": "d2cca6f4",
   "metadata": {
    "slideshow": {
     "slide_type": "slide"
    }
   },
   "outputs": [],
   "source": [
    "from matplotlib import pyplot as plt "
   ]
  },
  {
   "cell_type": "code",
   "execution_count": 14,
   "id": "c02d3389",
   "metadata": {
    "slideshow": {
     "slide_type": "slide"
    }
   },
   "outputs": [],
   "source": [
    "primer_digito = X[0,:]"
   ]
  },
  {
   "cell_type": "code",
   "execution_count": 15,
   "id": "ea1afc7e",
   "metadata": {
    "slideshow": {
     "slide_type": "slide"
    }
   },
   "outputs": [
    {
     "data": {
      "text/plain": [
       "784"
      ]
     },
     "execution_count": 15,
     "metadata": {},
     "output_type": "execute_result"
    }
   ],
   "source": [
    "len(primer_digito)"
   ]
  },
  {
   "cell_type": "code",
   "execution_count": 16,
   "id": "92fae6f1",
   "metadata": {
    "slideshow": {
     "slide_type": "slide"
    }
   },
   "outputs": [
    {
     "data": {
      "text/plain": [
       "numpy.ndarray"
      ]
     },
     "execution_count": 16,
     "metadata": {},
     "output_type": "execute_result"
    }
   ],
   "source": [
    "type(primer_digito)"
   ]
  },
  {
   "cell_type": "code",
   "execution_count": 17,
   "id": "f7d5f651",
   "metadata": {
    "slideshow": {
     "slide_type": "slide"
    }
   },
   "outputs": [],
   "source": [
    "primer_digito_imagen = primer_digito.reshape(28,28)"
   ]
  },
  {
   "cell_type": "code",
   "execution_count": 18,
   "id": "9d2c6185",
   "metadata": {
    "slideshow": {
     "slide_type": "slide"
    }
   },
   "outputs": [
    {
     "data": {
      "image/png": "[encoded data removed]",
      "text/plain": [
       "<Figure size 432x288 with 1 Axes>"
      ]
     },
     "metadata": {
      "needs_background": "light"
     },
     "output_type": "display_data"
    }
   ],
   "source": [
    "plt.imshow(primer_digito_imagen, cmap = 'binary') \n",
    "plt.axis('off')\n",
    "\n",
    "plt.show()"
   ]
  },
  {
   "cell_type": "markdown",
   "id": "3191a7d7",
   "metadata": {
    "slideshow": {
     "slide_type": "slide"
    }
   },
   "source": [
    "Esto parece un 5, y de hecho eso es lo que nos dice la etiqueta:"
   ]
  },
  {
   "cell_type": "code",
   "execution_count": null,
   "id": "a9dc39d0",
   "metadata": {
    "slideshow": {
     "slide_type": "slide"
    }
   },
   "outputs": [],
   "source": [
    "y[0]"
   ]
  },
  {
   "cell_type": "markdown",
   "id": "98405b41",
   "metadata": {
    "slideshow": {
     "slide_type": "slide"
    }
   },
   "source": [
    "Para darle una idea de la complejidad de la tarea de clasificación, la figura siguiente muestra algunas imágenes más del conjunto de datos MNIST."
   ]
  },
  {
   "cell_type": "code",
   "execution_count": 19,
   "id": "84a5cf49",
   "metadata": {
    "slideshow": {
     "slide_type": "slide"
    }
   },
   "outputs": [
    {
     "data": {
      "image/png": "[encoded data removed]",
      "text/plain": [
       "<Figure size 1440x1440 with 100 Axes>"
      ]
     },
     "metadata": {
      "needs_background": "light"
     },
     "output_type": "display_data"
    }
   ],
   "source": [
    "import matplotlib.pyplot as plt \n",
    "n = 10\n",
    "\n",
    "fig, ax = plt.subplots(n,n, figsize = (20,20))\n",
    "\n",
    "\n",
    "posicion = 0\n",
    "for i in range(n):\n",
    "    for j in range(n):\n",
    "        ax[i][j].imshow(X[posicion,:].reshape(28,28), cmap = 'binary')\n",
    "        ax[i][j].axis('off') \n",
    "        posicion+=1\n",
    "\n",
    "        \n",
    "plt.show()        "
   ]
  },
  {
   "cell_type": "markdown",
   "id": "c5e3c42a",
   "metadata": {
    "slideshow": {
     "slide_type": "slide"
    }
   },
   "source": [
    "# Dividir en entrenamiento y testeo "
   ]
  },
  {
   "cell_type": "markdown",
   "id": "a41c55f7",
   "metadata": {
    "slideshow": {
     "slide_type": "slide"
    }
   },
   "source": [
    "El conjunto de datos MNIST en realidad ya está dividido en un conjunto de entrenamiento (las primeras 60_000 imágenes) y un conjunto de prueba (las últimas 10_000 imágenes):"
   ]
  },
  {
   "cell_type": "code",
   "execution_count": 20,
   "id": "fbfe69b1",
   "metadata": {
    "slideshow": {
     "slide_type": "slide"
    }
   },
   "outputs": [],
   "source": [
    "X_train, X_test, y_train, y_test = X[:60_000], X[60_000:], y[:60_000], y[60_000:]"
   ]
  },
  {
   "cell_type": "markdown",
   "id": "d7b23df5",
   "metadata": {
    "slideshow": {
     "slide_type": "slide"
    }
   },
   "source": [
    "El conjunto de entrenamiento ya está barajado para nosotros, lo cual es bueno porque esto garantiza que todos los subconjuntos de validación cruzada serán similares  \n",
    "* (no queremos que a algún subconjunto le falten algunos dígitos)."
   ]
  },
  {
   "cell_type": "code",
   "execution_count": 21,
   "id": "2dc55b7b",
   "metadata": {
    "slideshow": {
     "slide_type": "slide"
    }
   },
   "outputs": [
    {
     "data": {
      "image/png": "[encoded data removed]",
      "text/plain": [
       "<Figure size 1440x432 with 3 Axes>"
      ]
     },
     "metadata": {
      "needs_background": "light"
     },
     "output_type": "display_data"
    }
   ],
   "source": [
    "fig,ax = plt.subplots(1,3, figsize = (20,6)) \n",
    "\n",
    "ax[0].hist(y)\n",
    "ax[1].hist(y_train)\n",
    "ax[2].hist(y_test) \n",
    "\n",
    "plt.show() "
   ]
  },
  {
   "cell_type": "markdown",
   "id": "8f7fcde0",
   "metadata": {
    "slideshow": {
     "slide_type": "slide"
    }
   },
   "source": [
    "Además, algunos algoritmos de aprendizaje son sensibles al orden de las instancias de entrenamiento y funcionan mal si obtienen muchas instancias similares seguidas. "
   ]
  },
  {
   "cell_type": "markdown",
   "id": "889bed50",
   "metadata": {
    "slideshow": {
     "slide_type": "slide"
    }
   },
   "source": [
    "Mezclar el conjunto de datos garantiza que esto no suceda."
   ]
  },
  {
   "cell_type": "markdown",
   "id": "8abbae9d",
   "metadata": {
    "slideshow": {
     "slide_type": "slide"
    }
   },
   "source": [
    "## Entrenamiento de un clasificador binario"
   ]
  },
  {
   "cell_type": "markdown",
   "id": "8a466553",
   "metadata": {
    "slideshow": {
     "slide_type": "slide"
    }
   },
   "source": [
    "Simplifiquemos el problema por ahora y solo tratemos de identificar un dígito, por ejemplo, el número 5."
   ]
  },
  {
   "cell_type": "markdown",
   "id": "fca9ca5a",
   "metadata": {
    "slideshow": {
     "slide_type": "slide"
    }
   },
   "source": [
    "Este **5-detector** será un ejemplo de un clasificador binario, capaz de distinguir entre solo dos clases, \n",
    "* **5** y\n",
    "* **no 5**."
   ]
  },
  {
   "cell_type": "markdown",
   "id": "0b1bf249",
   "metadata": {
    "slideshow": {
     "slide_type": "slide"
    }
   },
   "source": [
    "Vamos a crear los vectores objetivo para esta tarea de clasificación:"
   ]
  },
  {
   "cell_type": "code",
   "execution_count": 22,
   "id": "05f1794a",
   "metadata": {
    "slideshow": {
     "slide_type": "slide"
    }
   },
   "outputs": [],
   "source": [
    "y_train_5 = (y_train == 5) # True for all 5s, False for all other digits\n",
    "y_test_5 = (y_test == 5)"
   ]
  },
  {
   "cell_type": "code",
   "execution_count": 23,
   "id": "b592855d",
   "metadata": {
    "slideshow": {
     "slide_type": "slide"
    }
   },
   "outputs": [
    {
     "data": {
      "text/plain": [
       "60000"
      ]
     },
     "execution_count": 23,
     "metadata": {},
     "output_type": "execute_result"
    }
   ],
   "source": [
    "len(y_train_5)  "
   ]
  },
  {
   "cell_type": "code",
   "execution_count": 24,
   "id": "22cc0a80",
   "metadata": {
    "slideshow": {
     "slide_type": "slide"
    }
   },
   "outputs": [
    {
     "data": {
      "text/plain": [
       "10000"
      ]
     },
     "execution_count": 24,
     "metadata": {},
     "output_type": "execute_result"
    }
   ],
   "source": [
    "len(y_test_5)"
   ]
  },
  {
   "cell_type": "code",
   "execution_count": 25,
   "id": "5ca0e827",
   "metadata": {
    "slideshow": {
     "slide_type": "slide"
    }
   },
   "outputs": [
    {
     "data": {
      "text/plain": [
       "array([ True, False, False, ...,  True, False, False])"
      ]
     },
     "execution_count": 25,
     "metadata": {},
     "output_type": "execute_result"
    }
   ],
   "source": [
    "y_train_5"
   ]
  },
  {
   "cell_type": "code",
   "execution_count": 26,
   "id": "3927cb30",
   "metadata": {
    "slideshow": {
     "slide_type": "slide"
    }
   },
   "outputs": [
    {
     "data": {
      "text/plain": [
       "array([False, False, False, ..., False,  True, False])"
      ]
     },
     "execution_count": 26,
     "metadata": {},
     "output_type": "execute_result"
    }
   ],
   "source": [
    "y_test_5"
   ]
  },
  {
   "cell_type": "markdown",
   "id": "4a1afc6d",
   "metadata": {
    "slideshow": {
     "slide_type": "slide"
    }
   },
   "source": [
    "Ahora vamos a elegir un clasificador y entrenarlo."
   ]
  },
  {
   "cell_type": "markdown",
   "id": "e2a8ae3b",
   "metadata": {
    "slideshow": {
     "slide_type": "slide"
    }
   },
   "source": [
    "Un buen lugar para comenzar es con un clasificador **Stochastic Gradient Descent(SGD)**, utilizando la clase `SGDClassifier` de Scikit-Learn."
   ]
  },
  {
   "cell_type": "markdown",
   "id": "72a80bc2",
   "metadata": {
    "slideshow": {
     "slide_type": "slide"
    }
   },
   "source": [
    "Este clasificador tiene la ventaja de ser capaz de manejar conjuntos de datos muy grandes de manera eficiente."
   ]
  },
  {
   "cell_type": "markdown",
   "id": "47be892e",
   "metadata": {
    "slideshow": {
     "slide_type": "slide"
    }
   },
   "source": [
    "Esto se debe en parte a que el Gradiente descendente estocástico(SGD) se ocupa de las instancias de capacitación de forma independiente, una a la vez (lo que también hace que SGD sea muy adecuado para el aprendizaje en línea), como veremos más adelante. "
   ]
  },
  {
   "cell_type": "markdown",
   "id": "c77df2d5",
   "metadata": {
    "slideshow": {
     "slide_type": "slide"
    }
   },
   "source": [
    "Vamos a crear un `SGDClassifier` y entrenarlo en todo el conjunto de entrenamiento:"
   ]
  },
  {
   "cell_type": "code",
   "execution_count": 27,
   "id": "92a2daf0",
   "metadata": {
    "slideshow": {
     "slide_type": "slide"
    }
   },
   "outputs": [
    {
     "data": {
      "text/plain": [
       "SGDClassifier(random_state=42)"
      ]
     },
     "execution_count": 27,
     "metadata": {},
     "output_type": "execute_result"
    }
   ],
   "source": [
    "from sklearn.linear_model import SGDClassifier \n",
    "\n",
    "sgd_clf = SGDClassifier(random_state = 42)\n",
    "sgd_clf.fit(X_train, y_train_5) "
   ]
  },
  {
   "cell_type": "markdown",
   "id": "c70ddc38",
   "metadata": {
    "slideshow": {
     "slide_type": "slide"
    }
   },
   "source": [
    "# Empecemos evaluando su desempeño en el conjunto de entrenamiento con el criterio de exactitud(accuracy)"
   ]
  },
  {
   "cell_type": "code",
   "execution_count": 28,
   "id": "385aff3f",
   "metadata": {
    "slideshow": {
     "slide_type": "slide"
    }
   },
   "outputs": [],
   "source": [
    "y_train_predict = sgd_clf.predict(X_train)"
   ]
  },
  {
   "cell_type": "code",
   "execution_count": 29,
   "id": "9ceac6bf",
   "metadata": {
    "slideshow": {
     "slide_type": "slide"
    }
   },
   "outputs": [],
   "source": [
    "n_coincidencias = sum(y_train_5==y_train_predict)"
   ]
  },
  {
   "cell_type": "code",
   "execution_count": 30,
   "id": "8ec7ddef",
   "metadata": {
    "slideshow": {
     "slide_type": "slide"
    }
   },
   "outputs": [
    {
     "data": {
      "text/plain": [
       "57136"
      ]
     },
     "execution_count": 30,
     "metadata": {},
     "output_type": "execute_result"
    }
   ],
   "source": [
    "n_coincidencias "
   ]
  },
  {
   "cell_type": "code",
   "execution_count": 31,
   "id": "8d8b3ab9",
   "metadata": {},
   "outputs": [
    {
     "data": {
      "text/plain": [
       "60000"
      ]
     },
     "execution_count": 31,
     "metadata": {},
     "output_type": "execute_result"
    }
   ],
   "source": [
    "len(y_train_5)"
   ]
  },
  {
   "cell_type": "code",
   "execution_count": 32,
   "id": "ed06c798",
   "metadata": {
    "slideshow": {
     "slide_type": "slide"
    }
   },
   "outputs": [
    {
     "data": {
      "text/plain": [
       "0.9522666666666667"
      ]
     },
     "execution_count": 32,
     "metadata": {},
     "output_type": "execute_result"
    }
   ],
   "source": [
    "n_coincidencias/len(y_train_5)"
   ]
  },
  {
   "cell_type": "markdown",
   "id": "bc460dd8",
   "metadata": {
    "slideshow": {
     "slide_type": "slide"
    }
   },
   "source": [
    "Tenemos un desempeño general mayor al 95%"
   ]
  },
  {
   "cell_type": "markdown",
   "id": "1aaf8360",
   "metadata": {
    "slideshow": {
     "slide_type": "slide"
    }
   },
   "source": [
    "Ahora podemos usarlo para detectar imágenes del número 5:"
   ]
  },
  {
   "cell_type": "code",
   "execution_count": 33,
   "id": "64a067ce",
   "metadata": {
    "slideshow": {
     "slide_type": "slide"
    }
   },
   "outputs": [
    {
     "data": {
      "text/plain": [
       "[array([[  0.,   0.,   0.,   0.,   0.,   0.,   0.,   0.,   0.,   0.,   0.,\n",
       "           0.,   0.,   0.,   0.,   0.,   0.,   0.,   0.,   0.,   0.,   0.,\n",
       "           0.,   0.,   0.,   0.,   0.,   0.],\n",
       "        [  0.,   0.,   0.,   0.,   0.,   0.,   0.,   0.,   0.,   0.,   0.,\n",
       "           0.,   0.,   0.,   0.,   0.,   0.,   0.,   0.,   0.,   0.,   0.,\n",
       "           0.,   0.,   0.,   0.,   0.,   0.],\n",
       "        [  0.,   0.,   0.,   0.,   0.,   0.,   0.,   0.,   0.,   0.,   0.,\n",
       "           0.,   0.,   0.,   0.,   0.,   0.,   0.,   0.,   0.,   0.,   0.,\n",
       "           0.,   0.,   0.,   0.,   0.,   0.],\n",
       "        [  0.,   0.,   0.,   0.,   0.,   0.,   0.,   0.,   0.,   0.,   0.,\n",
       "           0.,   0.,   0.,   0.,   0.,   0.,   0.,   0.,   0.,   0.,   0.,\n",
       "           0.,   0.,   0.,   0.,   0.,   0.],\n",
       "        [  0.,   0.,   0.,   0.,   0.,   0.,   0.,   0.,   0.,   0.,   0.,\n",
       "           0.,   0.,   0.,   0.,   0.,   0.,   0.,   0.,   0.,   0.,   0.,\n",
       "           0.,   0.,   0.,   0.,   0.,   0.],\n",
       "        [  0.,   0.,   0.,   0.,   0.,   0.,   0.,   0.,   0.,   0.,   0.,\n",
       "           0.,   3.,  18.,  18.,  18., 126., 136., 175.,  26., 166., 255.,\n",
       "         247., 127.,   0.,   0.,   0.,   0.],\n",
       "        [  0.,   0.,   0.,   0.,   0.,   0.,   0.,   0.,  30.,  36.,  94.,\n",
       "         154., 170., 253., 253., 253., 253., 253., 225., 172., 253., 242.,\n",
       "         195.,  64.,   0.,   0.,   0.,   0.],\n",
       "        [  0.,   0.,   0.,   0.,   0.,   0.,   0.,  49., 238., 253., 253.,\n",
       "         253., 253., 253., 253., 253., 253., 251.,  93.,  82.,  82.,  56.,\n",
       "          39.,   0.,   0.,   0.,   0.,   0.],\n",
       "        [  0.,   0.,   0.,   0.,   0.,   0.,   0.,  18., 219., 253., 253.,\n",
       "         253., 253., 253., 198., 182., 247., 241.,   0.,   0.,   0.,   0.,\n",
       "           0.,   0.,   0.,   0.,   0.,   0.],\n",
       "        [  0.,   0.,   0.,   0.,   0.,   0.,   0.,   0.,  80., 156., 107.,\n",
       "         253., 253., 205.,  11.,   0.,  43., 154.,   0.,   0.,   0.,   0.,\n",
       "           0.,   0.,   0.,   0.,   0.,   0.],\n",
       "        [  0.,   0.,   0.,   0.,   0.,   0.,   0.,   0.,   0.,  14.,   1.,\n",
       "         154., 253.,  90.,   0.,   0.,   0.,   0.,   0.,   0.,   0.,   0.,\n",
       "           0.,   0.,   0.,   0.,   0.,   0.],\n",
       "        [  0.,   0.,   0.,   0.,   0.,   0.,   0.,   0.,   0.,   0.,   0.,\n",
       "         139., 253., 190.,   2.,   0.,   0.,   0.,   0.,   0.,   0.,   0.,\n",
       "           0.,   0.,   0.,   0.,   0.,   0.],\n",
       "        [  0.,   0.,   0.,   0.,   0.,   0.,   0.,   0.,   0.,   0.,   0.,\n",
       "          11., 190., 253.,  70.,   0.,   0.,   0.,   0.,   0.,   0.,   0.,\n",
       "           0.,   0.,   0.,   0.,   0.,   0.],\n",
       "        [  0.,   0.,   0.,   0.,   0.,   0.,   0.,   0.,   0.,   0.,   0.,\n",
       "           0.,  35., 241., 225., 160., 108.,   1.,   0.,   0.,   0.,   0.,\n",
       "           0.,   0.,   0.,   0.,   0.,   0.],\n",
       "        [  0.,   0.,   0.,   0.,   0.,   0.,   0.,   0.,   0.,   0.,   0.,\n",
       "           0.,   0.,  81., 240., 253., 253., 119.,  25.,   0.,   0.,   0.,\n",
       "           0.,   0.,   0.,   0.,   0.,   0.],\n",
       "        [  0.,   0.,   0.,   0.,   0.,   0.,   0.,   0.,   0.,   0.,   0.,\n",
       "           0.,   0.,   0.,  45., 186., 253., 253., 150.,  27.,   0.,   0.,\n",
       "           0.,   0.,   0.,   0.,   0.,   0.],\n",
       "        [  0.,   0.,   0.,   0.,   0.,   0.,   0.,   0.,   0.,   0.,   0.,\n",
       "           0.,   0.,   0.,   0.,  16.,  93., 252., 253., 187.,   0.,   0.,\n",
       "           0.,   0.,   0.,   0.,   0.,   0.],\n",
       "        [  0.,   0.,   0.,   0.,   0.,   0.,   0.,   0.,   0.,   0.,   0.,\n",
       "           0.,   0.,   0.,   0.,   0.,   0., 249., 253., 249.,  64.,   0.,\n",
       "           0.,   0.,   0.,   0.,   0.,   0.],\n",
       "        [  0.,   0.,   0.,   0.,   0.,   0.,   0.,   0.,   0.,   0.,   0.,\n",
       "           0.,   0.,   0.,  46., 130., 183., 253., 253., 207.,   2.,   0.,\n",
       "           0.,   0.,   0.,   0.,   0.,   0.],\n",
       "        [  0.,   0.,   0.,   0.,   0.,   0.,   0.,   0.,   0.,   0.,   0.,\n",
       "           0.,  39., 148., 229., 253., 253., 253., 250., 182.,   0.,   0.,\n",
       "           0.,   0.,   0.,   0.,   0.,   0.],\n",
       "        [  0.,   0.,   0.,   0.,   0.,   0.,   0.,   0.,   0.,   0.,  24.,\n",
       "         114., 221., 253., 253., 253., 253., 201.,  78.,   0.,   0.,   0.,\n",
       "           0.,   0.,   0.,   0.,   0.,   0.],\n",
       "        [  0.,   0.,   0.,   0.,   0.,   0.,   0.,   0.,  23.,  66., 213.,\n",
       "         253., 253., 253., 253., 198.,  81.,   2.,   0.,   0.,   0.,   0.,\n",
       "           0.,   0.,   0.,   0.,   0.,   0.],\n",
       "        [  0.,   0.,   0.,   0.,   0.,   0.,  18., 171., 219., 253., 253.,\n",
       "         253., 253., 195.,  80.,   9.,   0.,   0.,   0.,   0.,   0.,   0.,\n",
       "           0.,   0.,   0.,   0.,   0.,   0.],\n",
       "        [  0.,   0.,   0.,   0.,  55., 172., 226., 253., 253., 253., 253.,\n",
       "         244., 133.,  11.,   0.,   0.,   0.,   0.,   0.,   0.,   0.,   0.,\n",
       "           0.,   0.,   0.,   0.,   0.,   0.],\n",
       "        [  0.,   0.,   0.,   0., 136., 253., 253., 253., 212., 135., 132.,\n",
       "          16.,   0.,   0.,   0.,   0.,   0.,   0.,   0.,   0.,   0.,   0.,\n",
       "           0.,   0.,   0.,   0.,   0.,   0.],\n",
       "        [  0.,   0.,   0.,   0.,   0.,   0.,   0.,   0.,   0.,   0.,   0.,\n",
       "           0.,   0.,   0.,   0.,   0.,   0.,   0.,   0.,   0.,   0.,   0.,\n",
       "           0.,   0.,   0.,   0.,   0.,   0.],\n",
       "        [  0.,   0.,   0.,   0.,   0.,   0.,   0.,   0.,   0.,   0.,   0.,\n",
       "           0.,   0.,   0.,   0.,   0.,   0.,   0.,   0.,   0.,   0.,   0.,\n",
       "           0.,   0.,   0.,   0.,   0.,   0.],\n",
       "        [  0.,   0.,   0.,   0.,   0.,   0.,   0.,   0.,   0.,   0.,   0.,\n",
       "           0.,   0.,   0.,   0.,   0.,   0.,   0.,   0.,   0.,   0.,   0.,\n",
       "           0.,   0.,   0.,   0.,   0.,   0.]])]"
      ]
     },
     "execution_count": 33,
     "metadata": {},
     "output_type": "execute_result"
    }
   ],
   "source": [
    "[primer_digito.reshape(28,28)] "
   ]
  },
  {
   "cell_type": "code",
   "execution_count": 34,
   "id": "65eed9f4",
   "metadata": {
    "slideshow": {
     "slide_type": "slide"
    }
   },
   "outputs": [
    {
     "data": {
      "text/plain": [
       "array([ True])"
      ]
     },
     "execution_count": 34,
     "metadata": {},
     "output_type": "execute_result"
    }
   ],
   "source": [
    "sgd_clf.predict([primer_digito])"
   ]
  },
  {
   "cell_type": "code",
   "execution_count": 35,
   "id": "d2c2861c",
   "metadata": {
    "slideshow": {
     "slide_type": "slide"
    }
   },
   "outputs": [
    {
     "data": {
      "text/plain": [
       "5"
      ]
     },
     "execution_count": 35,
     "metadata": {},
     "output_type": "execute_result"
    }
   ],
   "source": [
    "y[0]"
   ]
  },
  {
   "cell_type": "code",
   "execution_count": 36,
   "id": "f492c1d4",
   "metadata": {
    "slideshow": {
     "slide_type": "slide"
    }
   },
   "outputs": [
    {
     "data": {
      "text/plain": [
       "array([ True])"
      ]
     },
     "execution_count": 36,
     "metadata": {},
     "output_type": "execute_result"
    }
   ],
   "source": [
    "sgd_clf.predict([X[11,:]])"
   ]
  },
  {
   "cell_type": "markdown",
   "id": "ed5ad1c5",
   "metadata": {
    "slideshow": {
     "slide_type": "slide"
    }
   },
   "source": [
    "El clasificador adivina que esta imagen representa un 5(`True`)."
   ]
  },
  {
   "cell_type": "markdown",
   "id": "446e7430",
   "metadata": {
    "slideshow": {
     "slide_type": "slide"
    }
   },
   "source": [
    "¡Parece que acertó en este caso particular!"
   ]
  },
  {
   "cell_type": "markdown",
   "id": "d9d7a83b",
   "metadata": {
    "slideshow": {
     "slide_type": "slide"
    }
   },
   "source": [
    "Ahora, vamos a evaluar el rendimiento de este modelo."
   ]
  },
  {
   "cell_type": "markdown",
   "id": "c611c87c",
   "metadata": {
    "slideshow": {
     "slide_type": "slide"
    }
   },
   "source": [
    "## Medidas de desempeño"
   ]
  },
  {
   "cell_type": "markdown",
   "id": "795465f0",
   "metadata": {
    "slideshow": {
     "slide_type": "slide"
    }
   },
   "source": [
    "Evaluar un clasificador suele ser significativamente más complicado que evaluar un regresor."
   ]
  },
  {
   "cell_type": "markdown",
   "id": "e4e371ad",
   "metadata": {
    "slideshow": {
     "slide_type": "slide"
    }
   },
   "source": [
    "### Medición de la exactitud mediante validación cruzada"
   ]
  },
  {
   "cell_type": "markdown",
   "id": "73a9de49",
   "metadata": {
    "slideshow": {
     "slide_type": "slide"
    }
   },
   "source": [
    "Una buena manera de evaluar un modelo es usar la validación cruzada, tal como lo hizo en el Capítulo 2"
   ]
  },
  {
   "cell_type": "markdown",
   "id": "fb0b95b7",
   "metadata": {
    "slideshow": {
     "slide_type": "slide"
    }
   },
   "source": [
    "## IMPLEMENTACIÓN DE LA VALIDACIÓN CRUZADA "
   ]
  },
  {
   "cell_type": "markdown",
   "id": "19a9a4c2",
   "metadata": {
    "slideshow": {
     "slide_type": "slide"
    }
   },
   "source": [
    "Ocasionalmente, necesitará más control sobre el proceso de validación cruzada que el que Scikit-Learn proporciona de manera estándar."
   ]
  },
  {
   "cell_type": "markdown",
   "id": "e1f02f43",
   "metadata": {
    "slideshow": {
     "slide_type": "slide"
    }
   },
   "source": [
    "En estos casos, puede implementar la validación cruzada usted mismo."
   ]
  },
  {
   "cell_type": "markdown",
   "id": "e3dc9073",
   "metadata": {
    "slideshow": {
     "slide_type": "slide"
    }
   },
   "source": [
    "El siguiente código hace más o menos lo mismo que la función `cross_val_score()` de Scikit-Learn e imprime el mismo resultado:"
   ]
  },
  {
   "cell_type": "code",
   "execution_count": null,
   "id": "35457767",
   "metadata": {
    "slideshow": {
     "slide_type": "slide"
    }
   },
   "outputs": [],
   "source": [
    "from sklearn.model_selection import StratifiedKFold\n",
    "from sklearn.base import clone\n",
    "skfolds = StratifiedKFold(n_splits=3)\n",
    "for train_index, test_index in skfolds.split(X_train, y_train_5):\n",
    "    clone_clf = clone(sgd_clf)\n",
    "    X_train_folds = X_train[train_index,:]\n",
    "    y_train_folds = y_train_5[train_index]\n",
    "    X_test_fold = X_train[test_index,:]\n",
    "    y_test_fold = y_train_5[test_index]\n",
    "    clone_clf.fit(X_train_folds, y_train_folds)\n",
    "    y_pred = clone_clf.predict(X_test_fold)\n",
    "    n_correct = sum(y_test_fold==y_pred )\n",
    "    print(n_correct / len(y_pred)) "
   ]
  },
  {
   "cell_type": "markdown",
   "id": "9909a9a4",
   "metadata": {
    "slideshow": {
     "slide_type": "slide"
    }
   },
   "source": [
    "La clase `StratifiedKFold` realiza un muestreo estratificado (como se explica en el Capítulo 2) para producir subconjuntos que contienen una proporción representativa de cada clase."
   ]
  },
  {
   "cell_type": "markdown",
   "id": "6e281c38",
   "metadata": {
    "slideshow": {
     "slide_type": "slide"
    }
   },
   "source": [
    "En cada iteración, el código crea un clon del clasificador, entrena ese clon en los subconjuntos de entrenamiento y hace predicciones en el subconjunto de prueba."
   ]
  },
  {
   "cell_type": "markdown",
   "id": "525efac2",
   "metadata": {
    "slideshow": {
     "slide_type": "slide"
    }
   },
   "source": [
    "Luego cuenta el número de predicciones correctas y genera la proporción de predicciones correctas. A esta proporción la llmaremos **exactitud**."
   ]
  },
  {
   "cell_type": "markdown",
   "id": "50766b8d",
   "metadata": {
    "slideshow": {
     "slide_type": "slide"
    }
   },
   "source": [
    "Usemos la función `cross_val_score()` para evaluar nuestro modelo `SGDClassifier`, usando la validación cruzada K-fold con tres subconjuntos. "
   ]
  },
  {
   "cell_type": "markdown",
   "id": "4120c6e2",
   "metadata": {
    "slideshow": {
     "slide_type": "slide"
    }
   },
   "source": [
    "Recuerde que la validación cruzada de K-fold significa dividir el conjunto de entrenamiento en K subconjuntos (en este caso, tres), luego hacer predicciones y evaluarlas en cada subconjunto usando un modelo entrenado en los subconjuntos restantes (consulte el Capítulo 2):"
   ]
  },
  {
   "cell_type": "code",
   "execution_count": null,
   "id": "d2672613",
   "metadata": {
    "slideshow": {
     "slide_type": "slide"
    }
   },
   "outputs": [],
   "source": [
    "from sklearn.model_selection import cross_val_score \n",
    "\n",
    "cross_val_score(sgd_clf, X_train, y_train_5, cv = 3, scoring = 'accuracy')"
   ]
  },
  {
   "cell_type": "markdown",
   "id": "f75c359c",
   "metadata": {
    "slideshow": {
     "slide_type": "slide"
    }
   },
   "source": [
    "¡Guau! ¿Por encima del 93 % de **exactitud** (proporción de predicciones correctas) en todos los subconjuntos de validación cruzada? Esto se ve increíble, ¿no?"
   ]
  },
  {
   "cell_type": "markdown",
   "id": "e1629e44",
   "metadata": {
    "slideshow": {
     "slide_type": "slide"
    }
   },
   "source": [
    "## [Video de apoyo](https://www.youtube.com/watch?v=TuiPYqYli4g)"
   ]
  },
  {
   "cell_type": "markdown",
   "id": "69655d7e",
   "metadata": {
    "slideshow": {
     "slide_type": "slide"
    }
   },
   "source": [
    "## Lo insuficiente de la medida de exactitud"
   ]
  },
  {
   "cell_type": "markdown",
   "id": "9ef7dcc2",
   "metadata": {
    "slideshow": {
     "slide_type": "slide"
    }
   },
   "source": [
    "Bueno, antes de que te emociones demasiado, echemos un vistazo a un clasificador muy tonto que simplemente clasifica cada imagen en la clase \"no-5\":"
   ]
  },
  {
   "cell_type": "code",
   "execution_count": null,
   "id": "180d57f2",
   "metadata": {
    "slideshow": {
     "slide_type": "slide"
    }
   },
   "outputs": [],
   "source": [
    "from sklearn.model_selection import cross_val_score\n",
    "from sklearn.base import BaseEstimator\n",
    "\n",
    "class Clasificador_nunca_es_5(BaseEstimator):\n",
    "    def fit(self, X, y = None):\n",
    "        pass\n",
    "    def predict(self, X):\n",
    "        return np.zeros((len(X), 1), dtype = bool) "
   ]
  },
  {
   "cell_type": "markdown",
   "id": "d1227c70",
   "metadata": {
    "slideshow": {
     "slide_type": "slide"
    }
   },
   "source": [
    "¿Puedes adivinar la precisión de este modelo? Vamos a averiguar:"
   ]
  },
  {
   "cell_type": "code",
   "execution_count": null,
   "id": "40dc52e1",
   "metadata": {
    "slideshow": {
     "slide_type": "slide"
    }
   },
   "outputs": [],
   "source": [
    "clasificador_nunca_es_5 = Clasificador_nunca_es_5()"
   ]
  },
  {
   "cell_type": "code",
   "execution_count": null,
   "id": "7737b91a",
   "metadata": {
    "slideshow": {
     "slide_type": "slide"
    }
   },
   "outputs": [],
   "source": [
    "cross_val_score(clasificador_nunca_es_5, X_train, y_train_5, cv = 3, scoring = 'accuracy') "
   ]
  },
  {
   "cell_type": "markdown",
   "id": "5c40215f",
   "metadata": {
    "slideshow": {
     "slide_type": "slide"
    }
   },
   "source": [
    "¡Así es, tiene más del 90% de precisión!"
   ]
  },
  {
   "cell_type": "markdown",
   "id": "d688767a",
   "metadata": {
    "slideshow": {
     "slide_type": "slide"
    }
   },
   "source": [
    "Esto se debe simplemente a que solo alrededor del 10 % de las imágenes son 5, por lo que si siempre adivina que una imagen no es un 5, acertará aproximadamente el 90 % de las veces. "
   ]
  },
  {
   "cell_type": "markdown",
   "id": "f4f281bd",
   "metadata": {
    "slideshow": {
     "slide_type": "slide"
    }
   },
   "source": [
    "Esto demuestra por qué la **exactitud** generalmente no es la medida de rendimiento preferida para los clasificadores, especialmente cuando se trata de conjuntos de datos sesgados (es decir, cuando algunas clases son mucho más frecuentes que otras)."
   ]
  },
  {
   "cell_type": "markdown",
   "id": "f3106ee3",
   "metadata": {
    "slideshow": {
     "slide_type": "slide"
    }
   },
   "source": [
    "## [Video de apoyo a la lectura](https://www.youtube.com/watch?v=XCXPhmvwZAo)"
   ]
  },
  {
   "cell_type": "markdown",
   "id": "fa271428",
   "metadata": {
    "slideshow": {
     "slide_type": "slide"
    }
   },
   "source": [
    "## Matriz de confusión"
   ]
  },
  {
   "cell_type": "markdown",
   "id": "9a3b2dbd",
   "metadata": {
    "slideshow": {
     "slide_type": "slide"
    }
   },
   "source": [
    "Una forma mucho mejor de evaluar el rendimiento de un clasificador es observar la matriz de confusión."
   ]
  },
  {
   "cell_type": "markdown",
   "id": "10d9d727",
   "metadata": {
    "slideshow": {
     "slide_type": "slide"
    }
   },
   "source": [
    "La idea general es contar el número de veces que las instancias de la clase A se clasifican como clase B."
   ]
  },
  {
   "cell_type": "markdown",
   "id": "ddc16b24",
   "metadata": {
    "slideshow": {
     "slide_type": "slide"
    }
   },
   "source": [
    "Por ejemplo, para saber la cantidad de veces que el clasificador confundió imágenes de 5 con 3, buscaría en la quinta fila y la tercera columna de la matriz de confusión."
   ]
  },
  {
   "cell_type": "markdown",
   "id": "48c218ed",
   "metadata": {
    "slideshow": {
     "slide_type": "slide"
    }
   },
   "source": [
    "Para calcular la matriz de confusión, primero debe tener un conjunto de predicciones para poder compararlas con los objetivos reales."
   ]
  },
  {
   "cell_type": "markdown",
   "id": "56a0465a",
   "metadata": {
    "slideshow": {
     "slide_type": "slide"
    }
   },
   "source": [
    "Podría hacer predicciones sobre el conjunto de prueba, pero no lo toquemos por ahora (recuerde que desea usar el conjunto de prueba solo al final de su proyecto, una vez que tenga un clasificador que esté listo para lanzar)."
   ]
  },
  {
   "cell_type": "markdown",
   "id": "52127231",
   "metadata": {
    "slideshow": {
     "slide_type": "slide"
    }
   },
   "source": [
    "En su lugar, puedes usar la función `cross_val_predict()`:"
   ]
  },
  {
   "cell_type": "code",
   "execution_count": null,
   "id": "490b9b3c",
   "metadata": {},
   "outputs": [],
   "source": [
    "from sklearn.model_selection import cross_val_predict\n",
    "\n",
    "y_train_pred = cross_val_predict(sgd_clf, X_train, y_train_5, cv = 3) "
   ]
  },
  {
   "cell_type": "code",
   "execution_count": null,
   "id": "f80b075b",
   "metadata": {
    "slideshow": {
     "slide_type": "slide"
    }
   },
   "outputs": [],
   "source": [
    "y_train_pred "
   ]
  },
  {
   "cell_type": "code",
   "execution_count": null,
   "id": "d95d8370",
   "metadata": {
    "slideshow": {
     "slide_type": "slide"
    }
   },
   "outputs": [],
   "source": [
    "len(y_train_pred)==len(y_train_5)"
   ]
  },
  {
   "cell_type": "markdown",
   "id": "cc8f464e",
   "metadata": {
    "slideshow": {
     "slide_type": "slide"
    }
   },
   "source": [
    "Al igual que la función `cross_val_score()`, `cross_val_predict()` realiza una **validación cruzada K-fold**, pero en lugar de devolver los puntajes de evaluación, devuelve las predicciones hechas en cada prueba."
   ]
  },
  {
   "cell_type": "markdown",
   "id": "53f8a3ee",
   "metadata": {
    "slideshow": {
     "slide_type": "slide"
    }
   },
   "source": [
    "Esto significa que obtiene una predicción limpia para cada instancia en el conjunto de entrenamiento (\"limpio\" significa que la predicción la realiza un modelo que nunca vio los datos durante el entrenamiento)."
   ]
  },
  {
   "cell_type": "markdown",
   "id": "8aa76598",
   "metadata": {
    "slideshow": {
     "slide_type": "slide"
    }
   },
   "source": [
    "Ahora está listo para obtener la matriz de confusión usando la función `confusion_matrix()`."
   ]
  },
  {
   "cell_type": "markdown",
   "id": "d023e047",
   "metadata": {
    "slideshow": {
     "slide_type": "slide"
    }
   },
   "source": [
    "Simplemente pásele las clases objetivo (`y_train_5`) y las clases predichas (`y_train_pred`):"
   ]
  },
  {
   "cell_type": "code",
   "execution_count": null,
   "id": "47d3a608",
   "metadata": {},
   "outputs": [],
   "source": [
    "from sklearn.metrics import confusion_matrix\n",
    "\n",
    "confusion_matrix(y_train_5, y_train_pred) "
   ]
  },
  {
   "cell_type": "markdown",
   "id": "7a6a088d",
   "metadata": {
    "slideshow": {
     "slide_type": "slide"
    }
   },
   "source": [
    "Cada fila en una matriz de confusión representa una clase real, mientras que cada columna representa una clase predicha."
   ]
  },
  {
   "cell_type": "markdown",
   "id": "ca12af4a",
   "metadata": {
    "slideshow": {
     "slide_type": "slide"
    }
   },
   "source": [
    "La primera fila de esta matriz considera imágenes que no son 5 \n",
    "\n",
    "* (la clase negativa): 53.892 de ellas se clasificaron correctamente como que **no son 5** (se denominan **verdaderos negativos**), \n",
    "\n",
    "* mientras que las 687 restantes se clasificaron incorrectamente como 5 (**falsos positivos**)."
   ]
  },
  {
   "cell_type": "markdown",
   "id": "cc5e906a",
   "metadata": {
    "slideshow": {
     "slide_type": "slide"
    }
   },
   "source": [
    "* La segunda fila considera las imágenes de 5s (la clase positiva): 1.891 fueron clasificadas incorrectamente como no-5s **(falsos negativos)**, \n",
    "\n",
    "* mientras que las 3530 restantes fueron clasificadas correctamente como 5s **(verdaderos positivos)**."
   ]
  },
  {
   "cell_type": "markdown",
   "id": "a9f1c87c",
   "metadata": {
    "slideshow": {
     "slide_type": "slide"
    }
   },
   "source": [
    "Un clasificador perfecto solo tendría verdaderos positivos y verdaderos negativos, por lo que su matriz de confusión tendría valores distintos de cero solo en su diagonal principal (de arriba a la izquierda a abajo a la derecha):"
   ]
  },
  {
   "cell_type": "code",
   "execution_count": null,
   "id": "71a7a80b",
   "metadata": {
    "slideshow": {
     "slide_type": "slide"
    }
   },
   "outputs": [],
   "source": [
    "y_train_perfect_predictions = y_train_5\n",
    "confusion_matrix(y_train_5, y_train_perfect_predictions) "
   ]
  },
  {
   "cell_type": "markdown",
   "id": "3e4e23ba",
   "metadata": {
    "slideshow": {
     "slide_type": "slide"
    }
   },
   "source": [
    "La matriz de confusión le brinda mucha información, pero a veces puede preferir una métrica más concisa."
   ]
  },
  {
   "cell_type": "markdown",
   "id": "63856266",
   "metadata": {
    "slideshow": {
     "slide_type": "slide"
    }
   },
   "source": [
    "Una interesante para observar es la precisión de las predicciones positivas; esto se llama la **precisión del clasificador**."
   ]
  },
  {
   "cell_type": "markdown",
   "id": "8bb2a960",
   "metadata": {
    "slideshow": {
     "slide_type": "slide"
    }
   },
   "source": [
    "Ecuación que define a la Precisión:  \n",
    "\n",
    "$$ \\text{precision} = \\frac{TP}{FP + TP} $$"
   ]
  },
  {
   "cell_type": "markdown",
   "id": "5638d4dd",
   "metadata": {
    "slideshow": {
     "slide_type": "slide"
    }
   },
   "source": [
    "$TP$ es el número de verdaderos positivos y $FP$ es el número de falsos positivos."
   ]
  },
  {
   "cell_type": "markdown",
   "id": "d6928ca8",
   "metadata": {
    "slideshow": {
     "slide_type": "slide"
    }
   },
   "source": [
    "Una forma trivial de tener una precisión perfecta es hacer una sola predicción positiva y asegurarse de que sea correcta (precisión = 1/1 = 100 %)."
   ]
  },
  {
   "cell_type": "markdown",
   "id": "4c874ec7",
   "metadata": {
    "slideshow": {
     "slide_type": "slide"
    }
   },
   "source": [
    "Pero esto no sería muy útil, ya que el clasificador ignoraría todas las instancias positivas excepto una."
   ]
  },
  {
   "cell_type": "markdown",
   "id": "90e19584",
   "metadata": {
    "slideshow": {
     "slide_type": "slide"
    }
   },
   "source": [
    "Por lo tanto, la precisión generalmente se usa junto con otra métrica llamada recuperación(recall), también llamada sensibilidad o tasa positiva verdadera (TPR): esta es la proporción de instancias positivas que el clasificador detecta correctamente (Ecuación 3-2)."
   ]
  },
  {
   "cell_type": "markdown",
   "id": "d56ca9f4",
   "metadata": {
    "slideshow": {
     "slide_type": "slide"
    }
   },
   "source": [
    "Equation 3-2. Recall\n",
    "\n",
    "$$ \\text{recall} = \\frac{TP}{FN + TP} $$\n",
    "\n",
    "$FN$ es, por supuesto, el número de falsos negativos."
   ]
  },
  {
   "cell_type": "markdown",
   "id": "10b51063",
   "metadata": {
    "slideshow": {
     "slide_type": "slide"
    }
   },
   "source": [
    "Si está confundido acerca de la matriz de confusión, la Figura 3-2 puede ayudar."
   ]
  },
  {
   "cell_type": "markdown",
   "id": "60c3dd04",
   "metadata": {
    "slideshow": {
     "slide_type": "slide"
    }
   },
   "source": [
    "<img src = 'https://github.com/marco-canas/Machine-Learning/blob/main/ML/classes/class_mach_8/digitos_mnist_2.png?raw=true'>"
   ]
  },
  {
   "cell_type": "markdown",
   "id": "7dd2a2ff",
   "metadata": {
    "slideshow": {
     "slide_type": "slide"
    }
   },
   "source": [
    "## Precisión y recuperación"
   ]
  },
  {
   "cell_type": "markdown",
   "id": "bcd0b886",
   "metadata": {
    "slideshow": {
     "slide_type": "slide"
    }
   },
   "source": [
    "Scikit-Learn proporciona varias funciones para calcular las métricas del clasificador, incluidas la precisión y la recuperación:"
   ]
  },
  {
   "cell_type": "code",
   "execution_count": null,
   "id": "44d4a408",
   "metadata": {},
   "outputs": [],
   "source": [
    "from sklearn.metrics import precision_score, recall_score \n",
    "\n",
    "precision_score(y_train_5, y_train_pred) "
   ]
  },
  {
   "cell_type": "code",
   "execution_count": null,
   "id": "e1cb892f",
   "metadata": {
    "slideshow": {
     "slide_type": "slide"
    }
   },
   "outputs": [],
   "source": [
    "recall_score(y_train_5, y_train_pred) "
   ]
  },
  {
   "cell_type": "markdown",
   "id": "19cf7451",
   "metadata": {
    "slideshow": {
     "slide_type": "slide"
    }
   },
   "source": [
    "Ahora su **5_detector** no se ve tan brillante como cuando miró su **exactitud**."
   ]
  },
  {
   "cell_type": "markdown",
   "id": "c1d2f561",
   "metadata": {
    "slideshow": {
     "slide_type": "slide"
    }
   },
   "source": [
    "Cuando **afirma** que una imagen representa un 5, es correcta solo el 83.7% de las veces."
   ]
  },
  {
   "cell_type": "markdown",
   "id": "9332b6e9",
   "metadata": {
    "slideshow": {
     "slide_type": "slide"
    }
   },
   "source": [
    "Además, solo **detecta** el 65.1% de los 5s."
   ]
  },
  {
   "cell_type": "markdown",
   "id": "67949640",
   "metadata": {
    "slideshow": {
     "slide_type": "slide"
    }
   },
   "source": [
    "A menudo es conveniente combinar la precisión y la recuperación en una sola métrica llamada *puntuación $F_{1}$*, en particular si necesita una forma sencilla de comparar dos clasificadores."
   ]
  },
  {
   "cell_type": "markdown",
   "id": "b7050bc4",
   "metadata": {
    "slideshow": {
     "slide_type": "slide"
    }
   },
   "source": [
    "La puntuación $F_{1}$ es la media armónica de precisión y recuperación (Ecuación 3-3). "
   ]
  },
  {
   "cell_type": "markdown",
   "id": "c68905e8",
   "metadata": {
    "slideshow": {
     "slide_type": "slide"
    }
   },
   "source": [
    "Mientras que la media regular trata todos los valores por igual, la media armónica da mucho más peso a los valores bajos."
   ]
  },
  {
   "cell_type": "markdown",
   "id": "a5a2b2bc",
   "metadata": {
    "slideshow": {
     "slide_type": "slide"
    }
   },
   "source": [
    "Como resultado, el clasificador solo obtendrá una puntuación alta de $F_{1}$ si tanto la recuperación como la precisión son altas."
   ]
  },
  {
   "cell_type": "markdown",
   "id": "4b155281",
   "metadata": {
    "slideshow": {
     "slide_type": "slide"
    }
   },
   "source": [
    "\n",
    "\n",
    "$$ F_{1} = \\frac{2}{\\frac{1}{\\text{precision}} + \\frac{1}{\\text{recall}}} = 2 \\times \\frac{\\text{precision} \\times \\text{recall}}{\\text{precision} + \\text{recall}} = \\frac{TP}{TP + \\frac{FN + FP}{2}} $$\n"
   ]
  },
  {
   "cell_type": "markdown",
   "id": "79070ffb",
   "metadata": {
    "slideshow": {
     "slide_type": "slide"
    }
   },
   "source": [
    "Para calcular la puntuación $F_{1}$, simplemente llame a la función `f1_score()`:"
   ]
  },
  {
   "cell_type": "code",
   "execution_count": null,
   "id": "09f2d11f",
   "metadata": {
    "slideshow": {
     "slide_type": "slide"
    }
   },
   "outputs": [],
   "source": [
    "from sklearn.metrics import f1_score \n",
    "\n",
    "f1_score(y_train_5, y_train_pred) "
   ]
  },
  {
   "cell_type": "markdown",
   "id": "3092b99b",
   "metadata": {
    "slideshow": {
     "slide_type": "slide"
    }
   },
   "source": [
    "La puntuación $F_{1}$ favorece a los clasificadores que tienen una precisión y recuperación similares."
   ]
  },
  {
   "cell_type": "markdown",
   "id": "e1e3107c",
   "metadata": {
    "slideshow": {
     "slide_type": "slide"
    }
   },
   "source": [
    "Esto no siempre es lo que desea: en algunos contextos, lo que más le importa es la precisión, y en otros contextos realmente le importa es el recall. "
   ]
  },
  {
   "cell_type": "markdown",
   "id": "bd465bb9",
   "metadata": {
    "slideshow": {
     "slide_type": "slide"
    }
   },
   "source": [
    "Por ejemplo, si entrenó un clasificador para detectar videos que son seguros para los niños, probablemente preferiría un clasificador que rechace muchos videos buenos (baja recuperación) pero solo mantenga los seguros (alta precisión), en lugar de un clasificador que tiene mucho mejor recuerdo, pero permite que aparezcan algunos videos realmente malos en su producto (en tales casos, es posible que desee agregar una canalización humana para verificar la selección de videos del clasificador)."
   ]
  },
  {
   "cell_type": "markdown",
   "id": "29b01aaf",
   "metadata": {
    "slideshow": {
     "slide_type": "slide"
    }
   },
   "source": [
    "Por otro lado, suponga que entrena a un clasificador para detectar ladrones en imágenes de vigilancia: probablemente esté bien si su clasificador tiene solo un 30 % de precisión siempre que tenga un 99 % de recuperación (claro, los guardias de seguridad recibirán algunas alertas falsas, pero casi todos los ladrones serán atrapados)."
   ]
  },
  {
   "cell_type": "markdown",
   "id": "919c7e3f",
   "metadata": {
    "slideshow": {
     "slide_type": "slide"
    }
   },
   "source": [
    "Desafortunadamente, no puede tener las dos cosas: aumentar la precisión reduce la recuperación y viceversa."
   ]
  },
  {
   "cell_type": "markdown",
   "id": "f056c913",
   "metadata": {
    "slideshow": {
     "slide_type": "slide"
    }
   },
   "source": [
    "Esto se llama equilibrio entre precisión/recuperación."
   ]
  },
  {
   "cell_type": "markdown",
   "id": "0c3dd0af",
   "metadata": {
    "slideshow": {
     "slide_type": "slide"
    }
   },
   "source": [
    "## Intercambio de precisión/recuperación"
   ]
  },
  {
   "cell_type": "markdown",
   "id": "77dfa285",
   "metadata": {
    "slideshow": {
     "slide_type": "slide"
    }
   },
   "source": [
    "Para comprender esta compensación, veamos cómo el `SGDClassifier` toma sus decisiones de clasificación."
   ]
  },
  {
   "cell_type": "markdown",
   "id": "3b13a3a1",
   "metadata": {
    "slideshow": {
     "slide_type": "slide"
    }
   },
   "source": [
    "Para cada instancia, calcula una puntuación basada en una función de decisión."
   ]
  },
  {
   "cell_type": "markdown",
   "id": "137bae36",
   "metadata": {
    "slideshow": {
     "slide_type": "slide"
    }
   },
   "source": [
    "Si esa puntuación es mayor que un umbral, asigna la instancia a la clase positiva; de lo contrario, lo asigna a la clase negativa."
   ]
  },
  {
   "cell_type": "markdown",
   "id": "5e328308",
   "metadata": {
    "slideshow": {
     "slide_type": "slide"
    }
   },
   "source": [
    "La siguiente Figura muestra algunos dígitos ubicados desde la puntuación más baja a la izquierda hasta la puntuación más alta a la derecha."
   ]
  },
  {
   "cell_type": "markdown",
   "id": "90427815",
   "metadata": {
    "slideshow": {
     "slide_type": "slide"
    }
   },
   "source": [
    "<img src = 'https://github.com/marco-canas/Machine-Learning/blob/main/ML/classes/class_mach_8/digitos_mnist_3.png?raw=true'>"
   ]
  },
  {
   "cell_type": "markdown",
   "id": "8558190b",
   "metadata": {
    "slideshow": {
     "slide_type": "slide"
    }
   },
   "source": [
    "Supongamos que el umbral de decisión se coloca en la flecha central (entre los dos 5): encontrará 4 verdaderos positivos (5 reales) a la derecha de ese umbral y 1 falso positivo (en realidad, un 6)."
   ]
  },
  {
   "cell_type": "markdown",
   "id": "71f85015",
   "metadata": {
    "slideshow": {
     "slide_type": "slide"
    }
   },
   "source": [
    "Por tanto, con ese umbral, la precisión es del 80% (4 sobre 5)."
   ]
  },
  {
   "cell_type": "markdown",
   "id": "8aaaedf8",
   "metadata": {
    "slideshow": {
     "slide_type": "slide"
    }
   },
   "source": [
    "Pero de los seis **5 reales**, el clasificador solo detecta 4, por lo que la recuperación es del 67 % (4 de 6)."
   ]
  },
  {
   "cell_type": "markdown",
   "id": "6dab4be7",
   "metadata": {
    "slideshow": {
     "slide_type": "slide"
    }
   },
   "source": [
    "Si subes el umbral (muévelo hacia la flecha de la derecha), el falso positivo (el 6) se convierte en un verdadero negativo, aumentando así la precisión (hasta el 100% en este caso), pero un verdadero positivo se convierte en un falso negativo , disminuyendo el recuerdo hasta un 50%."
   ]
  },
  {
   "cell_type": "markdown",
   "id": "32848ef7",
   "metadata": {
    "slideshow": {
     "slide_type": "slide"
    }
   },
   "source": [
    "Por el contrario, bajar el umbral aumenta la recuperación y reduce la precisión."
   ]
  },
  {
   "cell_type": "markdown",
   "id": "a93649aa",
   "metadata": {
    "slideshow": {
     "slide_type": "slide"
    }
   },
   "source": [
    "Scikit-Learn **no** le permite establecer el umbral directamente, pero le da acceso a los puntajes de decisión que utiliza para hacer predicciones."
   ]
  },
  {
   "cell_type": "markdown",
   "id": "d3b5754d",
   "metadata": {
    "slideshow": {
     "slide_type": "slide"
    }
   },
   "source": [
    "En lugar de llamar al método `predict()` del clasificador, puede llamar a su método `decision_function()`, que devuelve un puntaje para cada instancia, y luego usar cualquier umbral que desee para hacer predicciones basadas en esos puntajes:"
   ]
  },
  {
   "cell_type": "code",
   "execution_count": null,
   "id": "85bb3ecd",
   "metadata": {
    "slideshow": {
     "slide_type": "slide"
    }
   },
   "outputs": [],
   "source": [
    "y_scores = sgd_clf.decision_function([some_digit])\n",
    "y_scores"
   ]
  },
  {
   "cell_type": "code",
   "execution_count": null,
   "id": "79b218a6",
   "metadata": {
    "slideshow": {
     "slide_type": "slide"
    }
   },
   "outputs": [],
   "source": [
    "threshold = 0\n",
    "y_some_digit_pred = (y_scores > threshold)\n"
   ]
  },
  {
   "cell_type": "markdown",
   "id": "e1c20a68",
   "metadata": {
    "slideshow": {
     "slide_type": "slide"
    }
   },
   "source": [
    "El SGDClassifier usa un umbral igual a 0, por lo que el código anterior devuelve el mismo resultado que el método `predict()` (es decir, `True`)."
   ]
  },
  {
   "cell_type": "markdown",
   "id": "2796a12d",
   "metadata": {
    "slideshow": {
     "slide_type": "slide"
    }
   },
   "source": [
    "Subamos el umbral:"
   ]
  },
  {
   "cell_type": "code",
   "execution_count": null,
   "id": "3458dd2a",
   "metadata": {
    "slideshow": {
     "slide_type": "slide"
    }
   },
   "outputs": [],
   "source": [
    "threshold = 8000\n",
    "y_some_digit_pred = (y_scores > threshold)\n",
    "y_some_digit_pred\n"
   ]
  },
  {
   "cell_type": "markdown",
   "id": "fa5428a2",
   "metadata": {
    "slideshow": {
     "slide_type": "slide"
    }
   },
   "source": [
    "Esto confirma que elevar el umbral disminuye el recuerdo."
   ]
  },
  {
   "cell_type": "markdown",
   "id": "7a7a341b",
   "metadata": {
    "slideshow": {
     "slide_type": "slide"
    }
   },
   "source": [
    "La imagen en realidad representa un 5, y el clasificador lo detecta cuando el umbral es 0, pero lo pierde cuando el umbral aumenta a 8000."
   ]
  },
  {
   "cell_type": "markdown",
   "id": "e1704801",
   "metadata": {
    "slideshow": {
     "slide_type": "slide"
    }
   },
   "source": [
    "¿Cómo se decide qué umbral usar?"
   ]
  },
  {
   "cell_type": "markdown",
   "id": "c5ba5ee1",
   "metadata": {
    "slideshow": {
     "slide_type": "slide"
    }
   },
   "source": [
    "Primero, use la función `cross_val_predict()` para obtener los puntajes de todas las instancias en el conjunto de entrenamiento, pero esta vez especifique que desea obtener puntajes de decisión en lugar de predicciones:"
   ]
  },
  {
   "cell_type": "code",
   "execution_count": null,
   "id": "d8e2a102",
   "metadata": {
    "slideshow": {
     "slide_type": "slide"
    }
   },
   "outputs": [],
   "source": [
    "y_scores = cross_val_predict(sgd_clf, X_train, y_train_5, cv=3,\n",
    "method=\"decision_function\")"
   ]
  },
  {
   "cell_type": "markdown",
   "id": "88ca1094",
   "metadata": {
    "slideshow": {
     "slide_type": "slide"
    }
   },
   "source": [
    "Con estas puntuaciones, utilice la función `precision_recall_curve()` para calcular la precisión y la recuperación de todos los umbrales posibles:"
   ]
  },
  {
   "cell_type": "code",
   "execution_count": null,
   "id": "d9a80d72",
   "metadata": {
    "slideshow": {
     "slide_type": "slide"
    }
   },
   "outputs": [],
   "source": [
    "from sklearn.metrics import precision_recall_curve\n",
    "precisions, recalls, thresholds = precision_recall_curve(y_train_5, y_scores)"
   ]
  },
  {
   "cell_type": "markdown",
   "id": "fb367844",
   "metadata": {
    "slideshow": {
     "slide_type": "slide"
    }
   },
   "source": [
    "Finalmente, use Matplotlib para trazar la precisión y recordar como funciones del valor de umbral (Figura 3-4):"
   ]
  },
  {
   "cell_type": "code",
   "execution_count": null,
   "id": "2bfbc37d",
   "metadata": {
    "slideshow": {
     "slide_type": "slide"
    }
   },
   "outputs": [],
   "source": [
    "def plot_precision_recall_vs_threshold(precisions, recalls, thresholds):\n",
    "    plt.plot(thresholds, precisions[:-1], \"b--\", label=\"Precision\")\n",
    "    plt.plot(thresholds, recalls[:-1], \"g-\", label=\"Recall\")\n",
    "[...] # highlight the threshold and add the legend, axis label, and grid\n",
    "plot_precision_recall_vs_threshold(precisions, recalls, thresholds)\n",
    "plt.show()\n"
   ]
  },
  {
   "cell_type": "markdown",
   "id": "65f10d14",
   "metadata": {
    "slideshow": {
     "slide_type": "slide"
    }
   },
   "source": [
    "<img src = 'https://github.com/marco-canas/Machine-Learning/blob/main/ML/classes/class_mach_8/digitos_mnist_4.png?raw=true'>"
   ]
  },
  {
   "cell_type": "markdown",
   "id": "08626dc0",
   "metadata": {
    "slideshow": {
     "slide_type": "slide"
    }
   },
   "source": [
    "## Nota "
   ]
  },
  {
   "cell_type": "markdown",
   "id": "bc8779e6",
   "metadata": {
    "slideshow": {
     "slide_type": "slide"
    }
   },
   "source": [
    "Quizás se pregunte por qué la curva de precisión es más irregular que la curva de recuperación de la figura 3-4."
   ]
  },
  {
   "cell_type": "markdown",
   "id": "0c5f7388",
   "metadata": {
    "slideshow": {
     "slide_type": "slide"
    }
   },
   "source": [
    "El motivo es que, en ocasiones, la precisión puede disminuir cuando aumenta el umbral (aunque, en general, aumentará)."
   ]
  },
  {
   "cell_type": "markdown",
   "id": "67c8f363",
   "metadata": {
    "slideshow": {
     "slide_type": "slide"
    }
   },
   "source": [
    "Para comprender por qué, vuelva a mirar la Figura 3-3 y observe lo que sucede cuando comienza desde el umbral central y lo mueve solo un dígito a la derecha: la precisión va de 4/5 (80 %) a 3/4 (75 %). )."
   ]
  },
  {
   "cell_type": "markdown",
   "id": "5e182baa",
   "metadata": {
    "slideshow": {
     "slide_type": "slide"
    }
   },
   "source": [
    "On the other hand, recall can only go down when the threshold is increased, which explains why its curve looks smooth."
   ]
  },
  {
   "cell_type": "markdown",
   "id": "9ed3748d",
   "metadata": {
    "slideshow": {
     "slide_type": "slide"
    }
   },
   "source": [
    "Another way to select a good precision/recall trade-off is to plot precision directly against recall, as shown in Figure 3-5 (the same threshold as earlier is highlighted).\n"
   ]
  },
  {
   "cell_type": "markdown",
   "id": "052e6d8e",
   "metadata": {
    "slideshow": {
     "slide_type": "slide"
    }
   },
   "source": [
    "<img src = 'https://github.com/marco-canas/Machine-Learning/blob/main/ML/classes/class_mach_8/digitos_mnist_5.png?raw=true'>"
   ]
  },
  {
   "cell_type": "markdown",
   "id": "0f49292e",
   "metadata": {
    "slideshow": {
     "slide_type": "slide"
    }
   },
   "source": [
    "You can see that precision really starts to fall sharply around 80% recall."
   ]
  },
  {
   "cell_type": "markdown",
   "id": "43b762e7",
   "metadata": {
    "slideshow": {
     "slide_type": "slide"
    }
   },
   "source": [
    "You will probably want to select a precision/recall trade-off just before that drop—for example, at around 60% recall. "
   ]
  },
  {
   "cell_type": "markdown",
   "id": "8242239b",
   "metadata": {
    "slideshow": {
     "slide_type": "slide"
    }
   },
   "source": [
    "But of course, the choice depends on your project."
   ]
  },
  {
   "cell_type": "markdown",
   "id": "06e789e8",
   "metadata": {
    "slideshow": {
     "slide_type": "slide"
    }
   },
   "source": [
    "Suppose you decide to aim for 90% precision. "
   ]
  },
  {
   "cell_type": "markdown",
   "id": "688c4507",
   "metadata": {
    "slideshow": {
     "slide_type": "slide"
    }
   },
   "source": [
    "You look up the first plot and find that you need to use a threshold of about 8,000. "
   ]
  },
  {
   "cell_type": "markdown",
   "id": "e303b165",
   "metadata": {
    "slideshow": {
     "slide_type": "slide"
    }
   },
   "source": [
    "To be more precise you can search for the lowest threshold that gives you at least 90% precision (np.argmax() will give you the first index of the maximum value, which in this case means the first True value):"
   ]
  },
  {
   "cell_type": "code",
   "execution_count": null,
   "id": "d139ce36",
   "metadata": {
    "slideshow": {
     "slide_type": "slide"
    }
   },
   "outputs": [],
   "source": [
    "threshold_90_precision = thresholds[np.argmax(precisions >= 0.90)] # ~7816\n"
   ]
  },
  {
   "cell_type": "markdown",
   "id": "df081756",
   "metadata": {
    "slideshow": {
     "slide_type": "slide"
    }
   },
   "source": [
    "To make predictions (on the training set for now), instead of calling the classifier’s predict() method, you can run this code:\n"
   ]
  },
  {
   "cell_type": "code",
   "execution_count": null,
   "id": "323112b4",
   "metadata": {
    "slideshow": {
     "slide_type": "slide"
    }
   },
   "outputs": [],
   "source": [
    "y_train_pred_90 = (y_scores >= threshold_90_precision)"
   ]
  },
  {
   "cell_type": "markdown",
   "id": "9aa1c7c1",
   "metadata": {
    "slideshow": {
     "slide_type": "slide"
    }
   },
   "source": [
    "Let’s check these predictions’ precision and recall:"
   ]
  },
  {
   "cell_type": "code",
   "execution_count": null,
   "id": "5eb6e382",
   "metadata": {
    "slideshow": {
     "slide_type": "slide"
    }
   },
   "outputs": [],
   "source": [
    "precision_score(y_train_5, y_train_pred_90)"
   ]
  },
  {
   "cell_type": "code",
   "execution_count": null,
   "id": "30266b90",
   "metadata": {
    "slideshow": {
     "slide_type": "slide"
    }
   },
   "outputs": [],
   "source": [
    "recall_score(y_train_5, y_train_pred_90)\n"
   ]
  },
  {
   "cell_type": "markdown",
   "id": "f7d4a3ea",
   "metadata": {
    "slideshow": {
     "slide_type": "slide"
    }
   },
   "source": [
    "Great, you have a 90% precision classifier! "
   ]
  },
  {
   "cell_type": "markdown",
   "id": "4a465891",
   "metadata": {
    "slideshow": {
     "slide_type": "slide"
    }
   },
   "source": [
    "As you can see, it is fairly easy to create a classifier with virtually any precision you want: just set a high enough threshold, and you’re done. "
   ]
  },
  {
   "cell_type": "markdown",
   "id": "610ddccd",
   "metadata": {
    "slideshow": {
     "slide_type": "slide"
    }
   },
   "source": [
    "But wait, not so fast. "
   ]
  },
  {
   "cell_type": "markdown",
   "id": "46cc3f66",
   "metadata": {
    "slideshow": {
     "slide_type": "slide"
    }
   },
   "source": [
    "A high-precision classifier is not very useful if its recall is too low!"
   ]
  },
  {
   "cell_type": "markdown",
   "id": "d4c1e014",
   "metadata": {
    "slideshow": {
     "slide_type": "slide"
    }
   },
   "source": [
    "## TIP"
   ]
  },
  {
   "cell_type": "markdown",
   "id": "03680f12",
   "metadata": {
    "slideshow": {
     "slide_type": "slide"
    }
   },
   "source": [
    "If someone says, “Let’s reach 99% precision,” you should ask, “At what recall?”"
   ]
  },
  {
   "cell_type": "markdown",
   "id": "e13fbac3",
   "metadata": {
    "slideshow": {
     "slide_type": "slide"
    }
   },
   "source": [
    "## The ROC Curve  "
   ]
  },
  {
   "cell_type": "markdown",
   "id": "91d567cd",
   "metadata": {
    "slideshow": {
     "slide_type": "slide"
    }
   },
   "source": [
    "The receiver operating characteristic (ROC) curve is another common tool used with binary classifiers. "
   ]
  },
  {
   "cell_type": "markdown",
   "id": "b1fdc03a",
   "metadata": {
    "slideshow": {
     "slide_type": "slide"
    }
   },
   "source": [
    "It is very similar to the precision/recall curve, but instead of plotting precision versus recall, the ROC curve plots the true positive rate (another name for recall) against the false positive rate (FPR)."
   ]
  },
  {
   "cell_type": "markdown",
   "id": "5f65d5f7",
   "metadata": {
    "slideshow": {
     "slide_type": "slide"
    }
   },
   "source": [
    "The FPR is the ratio of negative instances that are incorrectly classified as positive. "
   ]
  },
  {
   "cell_type": "markdown",
   "id": "af864eb2",
   "metadata": {
    "slideshow": {
     "slide_type": "slide"
    }
   },
   "source": [
    "It is equal to 1 – the true negative rate (TNR), which is the ratio of negative instances that are correctly classified as negative. "
   ]
  },
  {
   "cell_type": "markdown",
   "id": "2c4031cb",
   "metadata": {
    "slideshow": {
     "slide_type": "slide"
    }
   },
   "source": [
    "The TNR is also called specificity. "
   ]
  },
  {
   "cell_type": "markdown",
   "id": "3613559e",
   "metadata": {
    "slideshow": {
     "slide_type": "slide"
    }
   },
   "source": [
    "Hence, the ROC curve plots sensitivity (recall) versus 1 – specificity."
   ]
  },
  {
   "cell_type": "markdown",
   "id": "b2a2be14",
   "metadata": {
    "slideshow": {
     "slide_type": "slide"
    }
   },
   "source": [
    "To plot the ROC curve, you first use the roc_curve() function to compute the TPR and FPR for various threshold values:"
   ]
  },
  {
   "cell_type": "code",
   "execution_count": null,
   "id": "86a4e497",
   "metadata": {
    "slideshow": {
     "slide_type": "slide"
    }
   },
   "outputs": [],
   "source": [
    "from sklearn.metrics import roc_curve\n",
    "fpr, tpr, thresholds = roc_curve(y_train_5, y_scores)\n"
   ]
  },
  {
   "cell_type": "markdown",
   "id": "3d2c5a3a",
   "metadata": {
    "slideshow": {
     "slide_type": "slide"
    }
   },
   "source": [
    "Then you can plot the FPR against the TPR using Matplotlib. "
   ]
  },
  {
   "cell_type": "markdown",
   "id": "d8cf9db6",
   "metadata": {
    "slideshow": {
     "slide_type": "slide"
    }
   },
   "source": [
    "This code produces the plot in Figure 3-6:"
   ]
  },
  {
   "cell_type": "code",
   "execution_count": null,
   "id": "0da0b184",
   "metadata": {
    "slideshow": {
     "slide_type": "slide"
    }
   },
   "outputs": [],
   "source": [
    "def plot_roc_curve(fpr, tpr, label=None):\n",
    "    plt.plot(fpr, tpr, linewidth=2, label=label)\n",
    "    plt.plot([0, 1], [0, 1], 'k--') # Dashed diagonal\n",
    "[...] # Add axis labels and grid\n",
    "plot_roc_curve(fpr, tpr)\n",
    "plt.show()"
   ]
  },
  {
   "cell_type": "markdown",
   "id": "aea40c4a",
   "metadata": {
    "slideshow": {
     "slide_type": "slide"
    }
   },
   "source": [
    "Once again there is a trade-off: the higher the recall (TPR), the more false positives (FPR) the classifier produces. "
   ]
  },
  {
   "cell_type": "markdown",
   "id": "90790b60",
   "metadata": {
    "slideshow": {
     "slide_type": "slide"
    }
   },
   "source": [
    "The dotted line represents the ROC curve of a purely random classifier; a good classifier stays as far away from that line as possible (toward the top-left corner)."
   ]
  },
  {
   "cell_type": "markdown",
   "id": "38718c7c",
   "metadata": {
    "slideshow": {
     "slide_type": "slide"
    }
   },
   "source": [
    "<img src = 'https://github.com/marco-canas/Machine-Learning/blob/main/ML/classes/class_mach_8/digitos_mnist_6.png?raw=true'>"
   ]
  },
  {
   "cell_type": "markdown",
   "id": "c23e9c13",
   "metadata": {
    "slideshow": {
     "slide_type": "slide"
    }
   },
   "source": [
    "One way to compare classifiers is to measure the area under the curve (AUC). "
   ]
  },
  {
   "cell_type": "markdown",
   "id": "1e913960",
   "metadata": {
    "slideshow": {
     "slide_type": "slide"
    }
   },
   "source": [
    "A perfect classifier will have a ROC AUC equal to 1, whereas a purely random classifier will have a ROC AUC equal to 0.5. "
   ]
  },
  {
   "cell_type": "markdown",
   "id": "6cee7276",
   "metadata": {
    "slideshow": {
     "slide_type": "slide"
    }
   },
   "source": [
    "Scikit-Learn provides a function to compute the ROC AUC:"
   ]
  },
  {
   "cell_type": "code",
   "execution_count": null,
   "id": "784919a2",
   "metadata": {
    "slideshow": {
     "slide_type": "slide"
    }
   },
   "outputs": [],
   "source": [
    "from sklearn.metrics import roc_auc_score\n",
    "roc_auc_score(y_train_5, y_scores)"
   ]
  },
  {
   "cell_type": "markdown",
   "id": "b4b9d774",
   "metadata": {
    "slideshow": {
     "slide_type": "slide"
    }
   },
   "source": [
    "## TIP"
   ]
  },
  {
   "cell_type": "markdown",
   "id": "65143e6f",
   "metadata": {
    "slideshow": {
     "slide_type": "slide"
    }
   },
   "source": [
    "Since the ROC curve is so similar to the precision/recall (PR) curve, you may wonder\n",
    "how to decide which one to use. "
   ]
  },
  {
   "cell_type": "markdown",
   "id": "59011ee0",
   "metadata": {
    "slideshow": {
     "slide_type": "slide"
    }
   },
   "source": [
    "As a rule of thumb, you should prefer the PR curve whenever the positive class is rare or when you care more about the false positives than the false negatives. "
   ]
  },
  {
   "cell_type": "markdown",
   "id": "b4e5a8d1",
   "metadata": {
    "slideshow": {
     "slide_type": "slide"
    }
   },
   "source": [
    "Otherwise, use the ROC curve. "
   ]
  },
  {
   "cell_type": "markdown",
   "id": "0acf54de",
   "metadata": {
    "slideshow": {
     "slide_type": "slide"
    }
   },
   "source": [
    "For example, looking at the previous ROC curve (and the ROC AUC score), you may think that the classifier is really good."
   ]
  },
  {
   "cell_type": "markdown",
   "id": "ed0ae0de",
   "metadata": {
    "slideshow": {
     "slide_type": "slide"
    }
   },
   "source": [
    "But this is mostly because there are few positives (5s) compared to the negatives (non 5s). "
   ]
  },
  {
   "cell_type": "markdown",
   "id": "2ed40b14",
   "metadata": {
    "slideshow": {
     "slide_type": "slide"
    }
   },
   "source": [
    "In contrast, the PR curve makes it clear that the classifier has room for improvement (the curve could be closer to the top-left corner)."
   ]
  },
  {
   "cell_type": "markdown",
   "id": "29e51c1f",
   "metadata": {
    "slideshow": {
     "slide_type": "slide"
    }
   },
   "source": [
    "Let’s now train a RandomForestClassifier and compare its ROC curve and ROC AUC score to those of the SGDClassifier. "
   ]
  },
  {
   "cell_type": "markdown",
   "id": "b38530ed",
   "metadata": {
    "slideshow": {
     "slide_type": "slide"
    }
   },
   "source": [
    "First, you need to get scores for each instance in the training set. "
   ]
  },
  {
   "cell_type": "markdown",
   "id": "faeae9c8",
   "metadata": {
    "slideshow": {
     "slide_type": "slide"
    }
   },
   "source": [
    "But due to the way it works (see Chapter 7), the RandomForestClassifier class does not have a\n",
    "decision_function() method. "
   ]
  },
  {
   "cell_type": "markdown",
   "id": "339cc97d",
   "metadata": {
    "slideshow": {
     "slide_type": "slide"
    }
   },
   "source": [
    "Instead, it has a predict_proba() method. "
   ]
  },
  {
   "cell_type": "markdown",
   "id": "b23092c6",
   "metadata": {
    "slideshow": {
     "slide_type": "slide"
    }
   },
   "source": [
    "Scikit-Learn classifiers generally have one or the other, or both."
   ]
  },
  {
   "cell_type": "markdown",
   "id": "3a88f867",
   "metadata": {
    "slideshow": {
     "slide_type": "slide"
    }
   },
   "source": [
    "The predict_proba() method returns an array containing a row per instance and a column per class, each containing the probability that the given instance belongs to the given class (e.g., 70% chance that the image represents a 5):"
   ]
  },
  {
   "cell_type": "code",
   "execution_count": null,
   "id": "c32529e7",
   "metadata": {
    "slideshow": {
     "slide_type": "slide"
    }
   },
   "outputs": [],
   "source": [
    "from sklearn.ensemble import RandomForestClassifier\n",
    "forest_clf = RandomForestClassifier(random_state=42)\n",
    "y_probas_forest = cross_val_predict(forest_clf, X_train, y_train_5, cv=3,\n",
    "method=\"predict_proba\")\n"
   ]
  },
  {
   "cell_type": "markdown",
   "id": "92a84049",
   "metadata": {
    "slideshow": {
     "slide_type": "slide"
    }
   },
   "source": [
    "The `roc_curve()` function expects labels and scores, but instead of scores you can give it class probabilities. "
   ]
  },
  {
   "cell_type": "markdown",
   "id": "9aee095d",
   "metadata": {
    "slideshow": {
     "slide_type": "slide"
    }
   },
   "source": [
    "Let’s use the positive class’s probability as the score:"
   ]
  },
  {
   "cell_type": "code",
   "execution_count": null,
   "id": "d55c15e9",
   "metadata": {
    "slideshow": {
     "slide_type": "slide"
    }
   },
   "outputs": [],
   "source": [
    "y_scores_forest = y_probas_forest[:, 1] # score = proba of positive class\n",
    "fpr_forest, tpr_forest, thresholds_forest =\n",
    "roc_curve(y_train_5,y_scores_forest)"
   ]
  },
  {
   "cell_type": "markdown",
   "id": "058f316f",
   "metadata": {
    "slideshow": {
     "slide_type": "slide"
    }
   },
   "source": [
    "Now you are ready to plot the ROC curve. It is useful to plot the first ROC\n",
    "curve as well to see how they compare (Figure 3-7):"
   ]
  },
  {
   "cell_type": "code",
   "execution_count": null,
   "id": "c51acfa4",
   "metadata": {
    "slideshow": {
     "slide_type": "slide"
    }
   },
   "outputs": [],
   "source": [
    "plt.plot(fpr, tpr, \"b:\", label=\"SGD\")\n",
    "plot_roc_curve(fpr_forest, tpr_forest, \"Random Forest\")\n",
    "plt.legend(loc=\"lower right\")\n",
    "plt.show()\n"
   ]
  },
  {
   "cell_type": "markdown",
   "id": "fb57c4ad",
   "metadata": {
    "slideshow": {
     "slide_type": "slide"
    }
   },
   "source": [
    "<img src = 'https://github.com/marco-canas/Machine-Learning/blob/main/ML/classes/class_mach_8/digitos_mnist_7.png?raw=true'>"
   ]
  },
  {
   "cell_type": "markdown",
   "id": "703dc101",
   "metadata": {
    "slideshow": {
     "slide_type": "slide"
    }
   },
   "source": [
    "As you can see in Figure 3-7, the RandomForestClassifier’s ROC curve looks much better than the SGDClassifier’s: it comes much closer to the top-left corner. "
   ]
  },
  {
   "cell_type": "markdown",
   "id": "1f2630d2",
   "metadata": {
    "slideshow": {
     "slide_type": "slide"
    }
   },
   "source": [
    "As a result, its ROC AUC score is also significantly better:"
   ]
  },
  {
   "cell_type": "code",
   "execution_count": null,
   "id": "f43cc3d3",
   "metadata": {
    "slideshow": {
     "slide_type": "slide"
    }
   },
   "outputs": [],
   "source": [
    ">>> roc_auc_score(y_train_5, y_scores_forest)"
   ]
  },
  {
   "cell_type": "markdown",
   "id": "31d661d4",
   "metadata": {
    "slideshow": {
     "slide_type": "slide"
    }
   },
   "source": [
    "Try measuring the precision and recall scores: you should find 99.0% precision and 86.6% recall. Not too bad!"
   ]
  },
  {
   "cell_type": "markdown",
   "id": "a230dbd0",
   "metadata": {
    "slideshow": {
     "slide_type": "slide"
    }
   },
   "source": [
    "You now know how to train binary classifiers, choose the appropriate metric for your task, evaluate your classifiers using cross-validation, select the precision/recall trade-off that fits your needs, and use ROC curves and ROC AUC scores to compare various models. "
   ]
  },
  {
   "cell_type": "markdown",
   "id": "c02525dd",
   "metadata": {
    "slideshow": {
     "slide_type": "slide"
    }
   },
   "source": [
    "Now let’s try to detect more than just the 5s."
   ]
  },
  {
   "cell_type": "markdown",
   "id": "bf42806a",
   "metadata": {
    "slideshow": {
     "slide_type": "slide"
    }
   },
   "source": [
    "## Multiclass Classification"
   ]
  },
  {
   "cell_type": "markdown",
   "id": "f675fcb5",
   "metadata": {
    "slideshow": {
     "slide_type": "slide"
    }
   },
   "source": [
    "Whereas binary classifiers distinguish between two classes, multiclass classifiers (also called multinomial classifiers) can distinguish between more than two classes."
   ]
  },
  {
   "cell_type": "markdown",
   "id": "fae36d31",
   "metadata": {
    "slideshow": {
     "slide_type": "slide"
    }
   },
   "source": [
    "Some algorithms (such as SGD classifiers, Random Forest classifiers, and naive Bayes classifiers) are capable of handling multiple classes natively."
   ]
  },
  {
   "cell_type": "markdown",
   "id": "14facb4b",
   "metadata": {
    "slideshow": {
     "slide_type": "slide"
    }
   },
   "source": [
    "Others (such as Logistic Regression or Support Vector Machine classifiers)\n",
    "are strictly binary classifiers. "
   ]
  },
  {
   "cell_type": "markdown",
   "id": "2bb496a6",
   "metadata": {
    "slideshow": {
     "slide_type": "slide"
    }
   },
   "source": [
    "However, there are various strategies that you\n",
    "can use to perform multiclass classification with multiple binary classifiers.\n",
    "One way to create a system that can classify the digit images into 10 classes\n",
    "(from 0 to 9) is to train 10 binary classifiers, one for each digit (a 0-detector,\n",
    "a 1-detector, a 2-detector, and so on). "
   ]
  },
  {
   "cell_type": "markdown",
   "id": "e1d3d4da",
   "metadata": {
    "slideshow": {
     "slide_type": "slide"
    }
   },
   "source": [
    "Then when you want to classify an\n",
    "image, you get the decision score from each classifier for that image and\n",
    "you select the class whose classifier outputs the highest score. This is called\n",
    "the one-versus-the-rest (OvR) strategy (also called one-versus-all).\n",
    "Another strategy is to train a binary classifier for every pair of digits: one to\n",
    "distinguish 0s and 1s, another to distinguish 0s and 2s, another for 1s and 2s, and so on. This is called the one-versus-one (OvO) strategy. If there are\n",
    "N classes, you need to train N × (N – 1) / 2 classifiers. For the MNIST\n",
    "problem, this means training 45 binary classifiers! When you want to\n",
    "classify an image, you have to run the image through all 45 classifiers and\n",
    "see which class wins the most duels. The main advantage of OvO is that\n",
    "each classifier only needs to be trained on the part of the training set for the\n",
    "two classes that it must distinguish."
   ]
  },
  {
   "cell_type": "markdown",
   "id": "e8588f73",
   "metadata": {
    "slideshow": {
     "slide_type": "slide"
    }
   },
   "source": [
    "Some algorithms (such as Support Vector Machine classifiers) scale poorly\n",
    "with the size of the training set. For these algorithms OvO is preferred\n",
    "because it is faster to train many classifiers on small training sets than to\n",
    "train few classifiers on large training sets. For most binary classification\n",
    "algorithms, however, OvR is preferred.\n",
    "Scikit-Learn detects when you try to use a binary classification algorithm\n",
    "for a multiclass classification task, and it automatically runs OvR or OvO,\n",
    "depending on the algorithm. Let’s try this with a Support Vector Machine\n",
    "classifier (see Chapter 5), using the sklearn.svm.SVC class:"
   ]
  },
  {
   "cell_type": "code",
   "execution_count": null,
   "id": "5ae6b42a",
   "metadata": {
    "slideshow": {
     "slide_type": "slide"
    }
   },
   "outputs": [],
   "source": [
    ">>> from sklearn.svm import SVC\n",
    ">>> svm_clf = SVC()\n",
    ">>> svm_clf.fit(X_train, y_train) # y_train, not y_train_5\n",
    ">>> svm_clf.predict([some_digit])\n"
   ]
  },
  {
   "cell_type": "markdown",
   "id": "0b51b9b9",
   "metadata": {
    "slideshow": {
     "slide_type": "slide"
    }
   },
   "source": [
    "That was easy! This code trains the SVC on the training set using the original target classes from 0 to 9 (y_train), instead of the 5-versus-the rest target classes (y_train_5). "
   ]
  },
  {
   "cell_type": "markdown",
   "id": "eaafa3cf",
   "metadata": {
    "slideshow": {
     "slide_type": "slide"
    }
   },
   "source": [
    "Then it makes a prediction (a correct one in this case). "
   ]
  },
  {
   "cell_type": "markdown",
   "id": "80537462",
   "metadata": {
    "slideshow": {
     "slide_type": "slide"
    }
   },
   "source": [
    "Under the hood, Scikit-Learn actually used the OvO strategy: it trained 45 binary classifiers, got their decision scores for the image, and selected the class that won the most duels."
   ]
  },
  {
   "cell_type": "markdown",
   "id": "5e576dd0",
   "metadata": {
    "slideshow": {
     "slide_type": "slide"
    }
   },
   "source": [
    "If you call the decision_function() method, you will see that it returns\n",
    "10 scores per instance (instead of just 1). That’s one score per class:"
   ]
  },
  {
   "cell_type": "code",
   "execution_count": null,
   "id": "9a43456c",
   "metadata": {
    "slideshow": {
     "slide_type": "slide"
    }
   },
   "outputs": [],
   "source": [
    ">>> some_digit_scores = svm_clf.decision_function([some_digit])\n",
    ">>> some_digit_scores\n"
   ]
  },
  {
   "cell_type": "markdown",
   "id": "4207d369",
   "metadata": {
    "slideshow": {
     "slide_type": "slide"
    }
   },
   "source": [
    "The highest score is indeed the one corresponding to class 5:"
   ]
  },
  {
   "cell_type": "code",
   "execution_count": null,
   "id": "85d15494",
   "metadata": {
    "slideshow": {
     "slide_type": "slide"
    }
   },
   "outputs": [],
   "source": [
    ">>> np.argmax(some_digit_scores)\n"
   ]
  },
  {
   "cell_type": "code",
   "execution_count": null,
   "id": "20deea3a",
   "metadata": {
    "slideshow": {
     "slide_type": "slide"
    }
   },
   "outputs": [],
   "source": [
    ">>> svm_clf.classes_"
   ]
  },
  {
   "cell_type": "code",
   "execution_count": null,
   "id": "7972f398",
   "metadata": {
    "slideshow": {
     "slide_type": "slide"
    }
   },
   "outputs": [],
   "source": [
    ">>> svm_clf.classes_[5]\n"
   ]
  },
  {
   "cell_type": "markdown",
   "id": "eb3c8ace",
   "metadata": {
    "slideshow": {
     "slide_type": "slide"
    }
   },
   "source": [
    "## WARNING"
   ]
  },
  {
   "cell_type": "markdown",
   "id": "0995024c",
   "metadata": {
    "slideshow": {
     "slide_type": "slide"
    }
   },
   "source": [
    "When a classifier is trained, it stores the list of target classes in its classes_ attribute,\n",
    "ordered by value. In this case, the index of each class in the classes_ array\n",
    "conveniently matches the class itself (e.g., the class at index 5 happens to be class 5),\n",
    "but in general you won’t be so lucky."
   ]
  },
  {
   "cell_type": "markdown",
   "id": "18c82844",
   "metadata": {
    "slideshow": {
     "slide_type": "slide"
    }
   },
   "source": [
    "If you want to force Scikit-Learn to use one-versus-one or one-versus-the rest, you can use the OneVsOneClassifier or OneVsRestClassifier\n",
    "classes. "
   ]
  },
  {
   "cell_type": "markdown",
   "id": "61c77fda",
   "metadata": {
    "slideshow": {
     "slide_type": "slide"
    }
   },
   "source": [
    "Simply create an instance and pass a classifier to its constructor (it does not even have to be a binary classifier). "
   ]
  },
  {
   "cell_type": "markdown",
   "id": "0699ffce",
   "metadata": {
    "slideshow": {
     "slide_type": "slide"
    }
   },
   "source": [
    "For example, this code creates a multiclass classifier using the OvR strategy, based on an SVC:"
   ]
  },
  {
   "cell_type": "code",
   "execution_count": null,
   "id": "79f42fb6",
   "metadata": {
    "slideshow": {
     "slide_type": "slide"
    }
   },
   "outputs": [],
   "source": [
    ">>> from sklearn.multiclass import OneVsRestClassifier\n",
    ">>> ovr_clf = OneVsRestClassifier(SVC())\n",
    ">>> ovr_clf.fit(X_train, y_train)\n",
    ">>> ovr_clf.predict([some_digit])"
   ]
  },
  {
   "cell_type": "code",
   "execution_count": null,
   "id": "3ec8a24e",
   "metadata": {
    "slideshow": {
     "slide_type": "slide"
    }
   },
   "outputs": [],
   "source": [
    ">>> len(ovr_clf.estimators_)"
   ]
  },
  {
   "cell_type": "markdown",
   "id": "6a5a15fb",
   "metadata": {
    "slideshow": {
     "slide_type": "slide"
    }
   },
   "source": [
    "Training an SGDClassifier (or a RandomForestClassifier) is just as\n",
    "easy:"
   ]
  },
  {
   "cell_type": "code",
   "execution_count": null,
   "id": "39d83ea2",
   "metadata": {
    "slideshow": {
     "slide_type": "slide"
    }
   },
   "outputs": [],
   "source": [
    ">>> sgd_clf.fit(X_train, y_train)\n",
    ">>> sgd_clf.predict([some_digit])\n"
   ]
  },
  {
   "cell_type": "markdown",
   "id": "561217fc",
   "metadata": {
    "slideshow": {
     "slide_type": "slide"
    }
   },
   "source": [
    "This time Scikit-Learn did not have to run OvR or OvO because SGD classifiers can directly classify instances into multiple classes. "
   ]
  },
  {
   "cell_type": "markdown",
   "id": "97e86577",
   "metadata": {
    "slideshow": {
     "slide_type": "slide"
    }
   },
   "source": [
    "The decision_function() method now returns one value per class. "
   ]
  },
  {
   "cell_type": "markdown",
   "id": "e1733f64",
   "metadata": {
    "slideshow": {
     "slide_type": "slide"
    }
   },
   "source": [
    "Let’s look at the score that the SGD classifier assigned to each class:"
   ]
  },
  {
   "cell_type": "code",
   "execution_count": null,
   "id": "1bccd653",
   "metadata": {
    "slideshow": {
     "slide_type": "slide"
    }
   },
   "outputs": [],
   "source": [
    ">>> sgd_clf.decision_function([some_digit])\n"
   ]
  },
  {
   "cell_type": "markdown",
   "id": "5ccf5da2",
   "metadata": {
    "slideshow": {
     "slide_type": "slide"
    }
   },
   "source": [
    "You can see that the classifier is fairly confident about its prediction: almost\n",
    "all scores are largely negative, while class 5 has a score of 2412.5. The\n",
    "model has a slight doubt regarding class 3, which gets a score of 573.5.\n",
    "Now of course you want to evaluate this classifier. As usual, you can use\n",
    "cross-validation. Use the cross_val_score() function to evaluate the\n",
    "SGDClassifier’s accuracy:"
   ]
  },
  {
   "cell_type": "code",
   "execution_count": null,
   "id": "05b06775",
   "metadata": {
    "slideshow": {
     "slide_type": "slide"
    }
   },
   "outputs": [],
   "source": [
    ">>> cross_val_score(sgd_clf, X_train, y_train, cv=3, scoring=\"accuracy\")\n"
   ]
  },
  {
   "cell_type": "markdown",
   "id": "7f559d35",
   "metadata": {
    "slideshow": {
     "slide_type": "slide"
    }
   },
   "source": [
    "It gets over 84% on all test folds. If you used a random classifier, you\n",
    "would get 10% accuracy, so this is not such a bad score, but you can still do\n",
    "much better. Simply scaling the inputs (as discussed in Chapter 2) increases\n",
    "accuracy above 89%:"
   ]
  },
  {
   "cell_type": "code",
   "execution_count": null,
   "id": "5ae801d7",
   "metadata": {
    "slideshow": {
     "slide_type": "slide"
    }
   },
   "outputs": [],
   "source": [
    ">>> from sklearn.preprocessing import StandardScaler\n",
    ">>> scaler = StandardScaler()\n",
    ">>> X_train_scaled = scaler.fit_transform(X_train.astype(np.float64))\n",
    ">>> cross_val_score(sgd_clf, X_train_scaled, y_train, cv=3, scoring=\"accuracy\")"
   ]
  },
  {
   "cell_type": "markdown",
   "id": "7b319ad8",
   "metadata": {
    "slideshow": {
     "slide_type": "slide"
    }
   },
   "source": [
    "## Error Analysis"
   ]
  },
  {
   "cell_type": "markdown",
   "id": "482792ea",
   "metadata": {
    "slideshow": {
     "slide_type": "slide"
    }
   },
   "source": [
    "If this were a real project, you would now follow the steps in your Machine\n",
    "Learning project checklist (see Appendix B). You’d explore data\n",
    "preparation options, try out multiple models (shortlisting the best ones and fine-tuning their hyperparameters using GridSearchCV), and automate as\n",
    "much as possible. Here, we will assume that you have found a promising\n",
    "model and you want to find ways to improve it. One way to do this is to\n",
    "analyze the types of errors it makes.\n",
    "First, look at the confusion matrix. You need to make predictions using the\n",
    "cross_val_predict() function, then call the confusion_matrix()\n",
    "function, just like you did earlier:\n"
   ]
  },
  {
   "cell_type": "code",
   "execution_count": null,
   "id": "72653cf1",
   "metadata": {
    "slideshow": {
     "slide_type": "slide"
    }
   },
   "outputs": [],
   "source": [
    ">>> y_train_pred = cross_val_predict(sgd_clf, X_train_scaled, y_train, cv=3)\n",
    ">>> conf_mx = confusion_matrix(y_train, y_train_pred)\n",
    ">>> conf_mx\n"
   ]
  },
  {
   "cell_type": "markdown",
   "id": "70354173",
   "metadata": {
    "slideshow": {
     "slide_type": "slide"
    }
   },
   "source": [
    "That’s a lot of numbers. It’s often more convenient to look at an image\n",
    "representation of the confusion matrix, using Matplotlib’s matshow()\n",
    "function:"
   ]
  },
  {
   "cell_type": "code",
   "execution_count": null,
   "id": "49fe25a2",
   "metadata": {
    "slideshow": {
     "slide_type": "slide"
    }
   },
   "outputs": [],
   "source": [
    "plt.matshow(conf_mx, cmap=plt.cm.gray)\n",
    "plt.show()\n"
   ]
  },
  {
   "cell_type": "markdown",
   "id": "41c76628",
   "metadata": {
    "slideshow": {
     "slide_type": "slide"
    }
   },
   "source": [
    "This confusion matrix looks pretty good, since most images are on the main\n",
    "diagonal, which means that they were classified correctly. The 5s look\n",
    "slightly darker than the other digits, which could mean that there are fewer\n",
    "images of 5s in the dataset or that the classifier does not perform as well on\n",
    "5s as on other digits. "
   ]
  },
  {
   "cell_type": "markdown",
   "id": "18dd70e6",
   "metadata": {},
   "source": [
    "In fact, you can verify that both are the case.\n",
    "Let’s focus the plot on the errors. First, you need to divide each value in the\n",
    "confusion matrix by the number of images in the corresponding class so\n",
    "that you can compare error rates instead of absolute numbers of errors\n",
    "(which would make abundant classes look unfairly bad):"
   ]
  },
  {
   "cell_type": "code",
   "execution_count": null,
   "id": "f9cc779c",
   "metadata": {
    "slideshow": {
     "slide_type": "slide"
    }
   },
   "outputs": [],
   "source": [
    "row_sums = conf_mx.sum(axis=1, keepdims=True)\n",
    "norm_conf_mx = conf_mx / row_sums"
   ]
  },
  {
   "cell_type": "markdown",
   "id": "11c912ed",
   "metadata": {
    "slideshow": {
     "slide_type": "slide"
    }
   },
   "source": [
    "Fill the diagonal with zeros to keep only the errors, and plot the result:\n"
   ]
  },
  {
   "cell_type": "code",
   "execution_count": null,
   "id": "1572928b",
   "metadata": {},
   "outputs": [],
   "source": [
    "np.fill_diagonal(norm_conf_mx, 0)\n",
    "plt.matshow(norm_conf_mx, cmap=plt.cm.gray)\n",
    "plt.show()"
   ]
  },
  {
   "cell_type": "markdown",
   "id": "c7745516",
   "metadata": {},
   "source": [
    "You can clearly see the kinds of errors the classifier makes. Remember that\n",
    "rows represent actual classes, while columns represent predicted classes.\n",
    "The column for class 8 is quite bright, which tells you that many images get\n",
    "misclassified as 8s. However, the row for class 8 is not that bad, telling you\n",
    "that actual 8s in general get properly classified as 8s. As you can see, the\n",
    "confusion matrix is not necessarily symmetrical. You can also see that 3s\n",
    "and 5s often get confused (in both directions)."
   ]
  },
  {
   "cell_type": "markdown",
   "id": "65977a9f",
   "metadata": {
    "slideshow": {
     "slide_type": "slide"
    }
   },
   "source": [
    "Analyzing the confusion matrix often gives you insights into ways to\n",
    "improve your classifier. Looking at this plot, it seems that your efforts\n",
    "should be spent on reducing the false 8s. For example, you could try to\n",
    "gather more training data for digits that look like 8s (but are not) so that the\n",
    "classifier can learn to distinguish them from real 8s. Or you could engineer\n",
    "new features that would help the classifier—for example, writing an\n",
    "algorithm to count the number of closed loops (e.g., 8 has two, 6 has one, 5\n",
    "has none). Or you could preprocess the images (e.g., using Scikit-Image,\n",
    "Pillow, or OpenCV) to make some patterns, such as closed loops, stand out\n",
    "more.\n",
    "Analyzing individual errors can also be a good way to gain insights on what\n",
    "your classifier is doing and why it is failing, but it is more difficult and\n",
    "time-consuming. For example, let’s plot examples of 3s and 5s (the\n",
    "plot_digits() function just uses Matplotlib’s imshow() function; see this\n",
    "chapter’s Jupyter notebook for details):"
   ]
  },
  {
   "cell_type": "code",
   "execution_count": null,
   "id": "701c0d85",
   "metadata": {},
   "outputs": [],
   "source": [
    "cl_a, cl_b = 3, 5\n",
    "X_aa = X_train[(y_train == cl_a) & (y_train_pred == cl_a)]\n",
    "X_ab = X_train[(y_train == cl_a) & (y_train_pred == cl_b)]\n",
    "X_ba = X_train[(y_train == cl_b) & (y_train_pred == cl_a)]\n",
    "X_bb = X_train[(y_train == cl_b) & (y_train_pred == cl_b)]\n",
    "plt.figure(figsize=(8,8))\n",
    "plt.subplot(221); plot_digits(X_aa[:25], images_per_row=5)\n",
    "plt.subplot(222); plot_digits(X_ab[:25], images_per_row=5)\n",
    "plt.subplot(223); plot_digits(X_ba[:25], images_per_row=5)\n",
    "plt.subplot(224); plot_digits(X_bb[:25], images_per_row=5)\n",
    "plt.show()\n"
   ]
  },
  {
   "cell_type": "markdown",
   "id": "27bc732c",
   "metadata": {
    "slideshow": {
     "slide_type": "slide"
    }
   },
   "source": [
    "The two 5 × 5 blocks on the left show digits classified as 3s, and the two 5\n",
    "× 5 blocks on the right show images classified as 5s. Some of the digits that\n",
    "the classifier gets wrong (i.e., in the bottom-left and top-right blocks) are so\n",
    "badly written that even a human would have trouble classifying them (e.g.,\n",
    "the 5 in the first row and second column truly looks like a badly written 3).\n",
    "However, most misclassified images seem like obvious errors to us, and it’s\n",
    "hard to understand why the classifier made the mistakes it did. The reason\n",
    "is that we used a simple SGDClassifier, which is a linear model. All it\n",
    "does is assign a weight per class to each pixel, and when it sees a new\n",
    "image it just sums up the weighted pixel intensities to get a score for each\n",
    "3\n",
    "class. So since 3s and 5s differ only by a few pixels, this model will easily\n",
    "confuse them.\n",
    "The main difference between 3s and 5s is the position of the small line that\n",
    "joins the top line to the bottom arc. If you draw a 3 with the junction\n",
    "slightly shifted to the left, the classifier might classify it as a 5, and vice\n",
    "versa. In other words, this classifier is quite sensitive to image shifting and\n",
    "rotation. So one way to reduce the 3/5 confusion would be to preprocess the\n",
    "images to ensure that they are well centered and not too rotated. This will\n",
    "probably help reduce other errors as well."
   ]
  },
  {
   "cell_type": "markdown",
   "id": "e9d2aeb2",
   "metadata": {
    "slideshow": {
     "slide_type": "slide"
    }
   },
   "source": [
    "## Multilabel Classification"
   ]
  },
  {
   "cell_type": "markdown",
   "id": "21cbb944",
   "metadata": {
    "slideshow": {
     "slide_type": "slide"
    }
   },
   "source": [
    "Until now each instance has always been assigned to just one class. "
   ]
  },
  {
   "cell_type": "markdown",
   "id": "f38d1a98",
   "metadata": {
    "slideshow": {
     "slide_type": "slide"
    }
   },
   "source": [
    "In some\n",
    "cases you may want your classifier to output multiple classes for each\n",
    "instance. Consider a face-recognition classifier: what should it do if it\n",
    "recognizes several people in the same picture? It should attach one tag per\n",
    "person it recognizes. Say the classifier has been trained to recognize three\n",
    "faces, Alice, Bob, and Charlie. "
   ]
  },
  {
   "cell_type": "markdown",
   "id": "c4994e77",
   "metadata": {
    "slideshow": {
     "slide_type": "slide"
    }
   },
   "source": [
    "Then when the classifier is shown a picture\n",
    "of Alice and Charlie, it should output [1, 0, 1] (meaning “Alice yes, Bob no,\n",
    "Charlie yes”). Such a classification system that outputs multiple binary tags\n",
    "is called a multilabel classification system.\n",
    "We won’t go into face recognition just yet, but let’s look at a simpler\n",
    "example, just for illustration purposes:"
   ]
  },
  {
   "cell_type": "code",
   "execution_count": null,
   "id": "1bf7d31d",
   "metadata": {},
   "outputs": [],
   "source": [
    "from sklearn.neighbors import KNeighborsClassifier\n",
    "y_train_large = (y_train >= 7)\n",
    "y_train_odd = (y_train % 2 == 1)\n",
    "y_multilabel = np.c_[y_train_large, y_train_odd]\n",
    "knn_clf = KNeighborsClassifier()\n",
    "knn_clf.fit(X_train, y_multilabel)\n"
   ]
  },
  {
   "cell_type": "markdown",
   "id": "dddcaddb",
   "metadata": {
    "slideshow": {
     "slide_type": "slide"
    }
   },
   "source": [
    "This code creates a y_multilabel array containing two target labels for\n",
    "each digit image: the first indicates whether or not the digit is large (7, 8, or\n",
    "9), and the second indicates whether or not it is odd. The next lines create a\n",
    "KNeighborsClassifier instance (which supports multilabel classification,\n",
    "though not all classifiers do), and we train it using the multiple targets array.\n",
    "Now you can make a prediction, and notice that it outputs two labels:\n"
   ]
  },
  {
   "cell_type": "code",
   "execution_count": null,
   "id": "cc3a1fc6",
   "metadata": {},
   "outputs": [],
   "source": [
    ">>> knn_clf.predict([some_digit])\n"
   ]
  },
  {
   "cell_type": "markdown",
   "id": "c2dbcc15",
   "metadata": {
    "slideshow": {
     "slide_type": "slide"
    }
   },
   "source": [
    "And it gets it right! The digit 5 is indeed not large (False) and odd (True).\n",
    "There are many ways to evaluate a multilabel classifier, and selecting the\n",
    "right metric really depends on your project. One approach is to measure the\n",
    "F score for each individual label (or any other binary classifier metric\n",
    "discussed earlier), then simply compute the average score. This code\n",
    "computes the average F score across all labels:\n"
   ]
  },
  {
   "cell_type": "code",
   "execution_count": null,
   "id": "540937a9",
   "metadata": {},
   "outputs": [],
   "source": [
    ">>> y_train_knn_pred = cross_val_predict(knn_clf, X_train, y_multilabel, cv=3)\n",
    ">>> f1_score(y_multilabel, y_train_knn_pred, average=\"macro\")"
   ]
  },
  {
   "cell_type": "markdown",
   "id": "e9ea2fa8",
   "metadata": {
    "slideshow": {
     "slide_type": "slide"
    }
   },
   "source": [
    "This assumes that all labels are equally important, however, which may not\n",
    "be the case. In particular, if you have many more pictures of Alice than of\n",
    "Bob or Charlie, you may want to give more weight to the classifier’s score\n",
    "on pictures of Alice. One simple option is to give each label a weight equal\n",
    "to its support (i.e., the number of instances with that target label). To do\n",
    "this, simply set average=\"weighted\" in the preceding code."
   ]
  },
  {
   "cell_type": "markdown",
   "id": "b1f1929e",
   "metadata": {
    "slideshow": {
     "slide_type": "slide"
    }
   },
   "source": [
    "Multioutput Classification\n",
    "The last type of classification task we are going to discuss here is called\n",
    "multioutput–multiclass classification (or simply multioutput classification).\n",
    "It is simply a generalization of multilabel classification where each label\n",
    "can be multiclass (i.e., it can have more than two possible values).\n",
    "To illustrate this, let’s build a system that removes noise from images. It\n",
    "will take as input a noisy digit image, and it will (hopefully) output a clean\n",
    "1\n",
    "1\n",
    "4\n",
    "digit image, represented as an array of pixel intensities, just like the MNIST\n",
    "images. Notice that the classifier’s output is multilabel (one label per pixel)\n",
    "and each label can have multiple values (pixel intensity ranges from 0 to\n",
    "255). It is thus an example of a multioutput classification system.\n",
    "NOTE\n",
    "The line between classification and regression is sometimes blurry, such as in this\n",
    "example. Arguably, predicting pixel intensity is more akin to regression than to\n",
    "classification. Moreover, multioutput systems are not limited to classification tasks; you\n",
    "could even have a system that outputs multiple labels per instance, including both class\n",
    "labels and value labels.\n",
    "Let’s start by creating the training and test sets by taking the MNIST images\n",
    "and adding noise to their pixel intensities with NumPy’s randint()\n",
    "function. The target images will be the original images:\n"
   ]
  },
  {
   "cell_type": "code",
   "execution_count": null,
   "id": "a181468c",
   "metadata": {
    "slideshow": {
     "slide_type": "slide"
    }
   },
   "outputs": [],
   "source": [
    "noise = np.random.randint(0, 100, (len(X_train), 784))\n",
    "X_train_mod = X_train + noise\n",
    "noise = np.random.randint(0, 100, (len(X_test), 784))\n",
    "X_test_mod = X_test + noise\n",
    "y_train_mod = X_train\n",
    "y_test_mod = X_test"
   ]
  },
  {
   "cell_type": "markdown",
   "id": "0e5a6c6e",
   "metadata": {},
   "source": [
    "Let’s take a peek at an image from the test set (yes, we’re snooping on the\n",
    "test data, so you should be frowning right now):\n"
   ]
  },
  {
   "cell_type": "markdown",
   "id": "79f239de",
   "metadata": {},
   "source": [
    "On the left is the noisy input image, and on the right is the clean target\n",
    "image. Now let’s train the classifier and make it clean this image:"
   ]
  },
  {
   "cell_type": "code",
   "execution_count": null,
   "id": "9faee8f3",
   "metadata": {
    "slideshow": {
     "slide_type": "slide"
    }
   },
   "outputs": [],
   "source": [
    "knn_clf.fit(X_train_mod, y_train_mod)\n",
    "clean_digit = knn_clf.predict([X_test_mod[some_index]])\n",
    "plot_digit(clean_digit)\n"
   ]
  },
  {
   "cell_type": "markdown",
   "id": "1cd2eddc",
   "metadata": {
    "slideshow": {
     "slide_type": "slide"
    }
   },
   "source": [
    "Looks close enough to the target! This concludes our tour of classification.\n",
    "You should now know how to select good metrics for classification tasks,\n",
    "pick the appropriate precision/recall trade-off, compare classifiers, and\n",
    "more generally build good classification systems for a variety of tasks.\n"
   ]
  },
  {
   "cell_type": "markdown",
   "id": "1feb32ad",
   "metadata": {},
   "source": [
    "Exercises\n",
    "1. Try to build a classifier for the MNIST dataset that achieves over\n",
    "97% accuracy on the test set. Hint: the KNeighborsClassifier\n",
    "works quite well for this task; you just need to find good\n",
    "hyperparameter values (try a grid search on the weights and\n",
    "n_neighbors hyperparameters).\n",
    "2. Write a function that can shift an MNIST image in any direction\n",
    "(left, right, up, or down) by one pixel. Then, for each image in the\n",
    "training set, create four shifted copies (one per direction) and add\n",
    "them to the training set. Finally, train your best model on this\n",
    "expanded training set and measure its accuracy on the test set. You\n",
    "should observe that your model performs even better now! This\n",
    "technique of artificially growing the training set is called data\n",
    "augmentation or training set expansion.\n",
    "3. Tackle the Titanic dataset. A great place to start is on Kaggle.\n",
    "4. Build a spam classifier (a more challenging exercise):\n",
    "Download examples of spam and ham from Apache\n",
    "SpamAssassin’s public datasets.\n",
    "Unzip the datasets and familiarize yourself with the data\n",
    "format.\n",
    "Split the datasets into a training set and a test set.\n",
    "Write a data preparation pipeline to convert each email\n",
    "into a feature vector. Your preparation pipeline should\n",
    "transform an email into a (sparse) vector that indicates the\n",
    "presence or absence of each possible word. For example,\n",
    "if all emails only ever contain four words, “Hello,” “how,”\n",
    "“are,” “you,” then the email “Hello you Hello Hello you”\n",
    "would be converted into a vector [1, 0, 0, 1] (meaning\n",
    "[“Hello” is present, “how” is absent, “are” is absent,\n",
    "“you” is present]), or [3, 0, 0, 2] if you prefer to count the\n",
    "number of occurrences of each word.\n",
    "5\n",
    "You may want to add hyperparameters to your preparation\n",
    "pipeline to control whether or not to strip off email\n",
    "headers, convert each email to lowercase, remove\n",
    "punctuation, replace all URLs with “URL,” replace all\n",
    "numbers with “NUMBER,” or even perform stemming\n",
    "(i.e., trim off word endings; there are Python libraries\n",
    "available to do this).\n",
    "Finally, try out several classifiers and see if you can build\n",
    "a great spam classifier, with both high recall and high\n",
    "precision.\n",
    "Solutions to these exercises can be found in the Jupyter notebooks available\n",
    "at https://github.com/ageron/handson-ml2."
   ]
  },
  {
   "cell_type": "markdown",
   "id": "16aa91ae",
   "metadata": {
    "slideshow": {
     "slide_type": "slide"
    }
   },
   "source": [
    "## Referencias  \n",
    "\n",
    "* Obtener conjunto de datos de openml por nombre o ID de conjunto de datos.\n",
    "\n",
    "Los conjuntos de datos se identifican de forma única ya sea por una identificación de número entero o por una combinación de nombre y versión (es decir, puede haber varias versiones del conjunto de datos 'iris'). Proporcione nombre o data_id (no ambos). En caso de que se dé un nombre, también se puede proporcionar una versión.  https://scikit-learn.org/stable/modules/generated/sklearn.datasets.fetch_openml.html"
   ]
  },
  {
   "cell_type": "code",
   "execution_count": null,
   "id": "fba95eaf",
   "metadata": {},
   "outputs": [],
   "source": []
  }
 ],
 "metadata": {
  "celltoolbar": "Slideshow",
  "kernelspec": {
   "display_name": "Python 3 (ipykernel)",
   "language": "python",
   "name": "python3"
  },
  "language_info": {
   "codemirror_mode": {
    "name": "ipython",
    "version": 3
   },
   "file_extension": ".py",
   "mimetype": "text/x-python",
   "name": "python",
   "nbconvert_exporter": "python",
   "pygments_lexer": "ipython3",
   "version": "3.9.7"
  },
  "rise": {
   "enable_chalkboard": true,
   "theme": "sky",
   "transition": "zoom"
  }
 },
 "nbformat": 4,
 "nbformat_minor": 5
}
